{
 "cells": [
  {
   "cell_type": "markdown",
   "metadata": {},
   "source": [
    "# Visualization of Diversity in Departments"
   ]
  },
  {
   "cell_type": "markdown",
   "metadata": {},
   "source": [
    "## Imports"
   ]
  },
  {
   "cell_type": "code",
   "execution_count": 345,
   "metadata": {},
   "outputs": [],
   "source": [
    "import pandas as pd\n",
    "import numpy as np\n",
    "import matplotlib.pyplot as plt\n",
    "import seaborn as sns\n",
    "import re"
   ]
  },
  {
   "cell_type": "code",
   "execution_count": 346,
   "metadata": {},
   "outputs": [],
   "source": [
    "plt.rcParams[\"figure.figsize\"] = (20,15)"
   ]
  },
  {
   "cell_type": "markdown",
   "metadata": {},
   "source": [
    "## Reading Data"
   ]
  },
  {
   "cell_type": "code",
   "execution_count": 347,
   "metadata": {},
   "outputs": [],
   "source": [
    "# Employee subery subset-3\n",
    "df_emp_survey = pd.read_csv('subset-3-sous-ensemble-3.csv', encoding='ISO-8859-1')"
   ]
  },
  {
   "cell_type": "code",
   "execution_count": 348,
   "metadata": {},
   "outputs": [],
   "source": [
    "# responses data from dicionary file responses\n",
    "df_responses = pd.read_excel('2020-pses-supporting-documentation_document-de-reference-du-saff-2020.xlsx', sheet_name='RESPONSE OPTIONS DE RÉPONSES')"
   ]
  },
  {
   "cell_type": "code",
   "execution_count": 349,
   "metadata": {},
   "outputs": [
    {
     "data": {
      "text/html": [
       "<div>\n",
       "<style scoped>\n",
       "    .dataframe tbody tr th:only-of-type {\n",
       "        vertical-align: middle;\n",
       "    }\n",
       "\n",
       "    .dataframe tbody tr th {\n",
       "        vertical-align: top;\n",
       "    }\n",
       "\n",
       "    .dataframe thead th {\n",
       "        text-align: right;\n",
       "    }\n",
       "</style>\n",
       "<table border=\"1\" class=\"dataframe\">\n",
       "  <thead>\n",
       "    <tr style=\"text-align: right;\">\n",
       "      <th></th>\n",
       "      <th>LEVEL1ID</th>\n",
       "      <th>LEVEL2ID</th>\n",
       "      <th>LEVEL3ID</th>\n",
       "      <th>LEVEL4ID</th>\n",
       "      <th>LEVEL5ID</th>\n",
       "      <th>SURVEYR</th>\n",
       "      <th>BYCOND</th>\n",
       "      <th>DESCRIP_E</th>\n",
       "      <th>DESCRIP_F</th>\n",
       "      <th>DEMCODE</th>\n",
       "      <th>...</th>\n",
       "      <th>SCORE100</th>\n",
       "      <th>ANSCOUNT</th>\n",
       "      <th>DEPT_E</th>\n",
       "      <th>DEPT_F</th>\n",
       "      <th>INDICATORID</th>\n",
       "      <th>INDICATORENG</th>\n",
       "      <th>INDICATORFRA</th>\n",
       "      <th>SUBINDICATORID</th>\n",
       "      <th>SUBINDICATORENG</th>\n",
       "      <th>SUBINDICATORFRA</th>\n",
       "    </tr>\n",
       "  </thead>\n",
       "  <tbody>\n",
       "    <tr>\n",
       "      <th>0</th>\n",
       "      <td>0</td>\n",
       "      <td>0</td>\n",
       "      <td>0</td>\n",
       "      <td>0</td>\n",
       "      <td>0</td>\n",
       "      <td>2020</td>\n",
       "      <td>Q115 = 1</td>\n",
       "      <td>Male gender</td>\n",
       "      <td>Genre masculin</td>\n",
       "      <td>2011</td>\n",
       "      <td>...</td>\n",
       "      <td>75</td>\n",
       "      <td>73497</td>\n",
       "      <td>Public Service</td>\n",
       "      <td>Fonction publique</td>\n",
       "      <td>4</td>\n",
       "      <td>WORKPLACE</td>\n",
       "      <td>MILIEU DE TRAVAIL</td>\n",
       "      <td>14</td>\n",
       "      <td>Physical environment and equipment</td>\n",
       "      <td>Environnement physique et équipement</td>\n",
       "    </tr>\n",
       "    <tr>\n",
       "      <th>1</th>\n",
       "      <td>1</td>\n",
       "      <td>0</td>\n",
       "      <td>0</td>\n",
       "      <td>0</td>\n",
       "      <td>0</td>\n",
       "      <td>2020</td>\n",
       "      <td>Q115 = 1</td>\n",
       "      <td>Male gender</td>\n",
       "      <td>Genre masculin</td>\n",
       "      <td>2011</td>\n",
       "      <td>...</td>\n",
       "      <td>79</td>\n",
       "      <td>11550</td>\n",
       "      <td>Canada Revenue Agency</td>\n",
       "      <td>Agence du revenu du Canada</td>\n",
       "      <td>4</td>\n",
       "      <td>WORKPLACE</td>\n",
       "      <td>MILIEU DE TRAVAIL</td>\n",
       "      <td>14</td>\n",
       "      <td>Physical environment and equipment</td>\n",
       "      <td>Environnement physique et équipement</td>\n",
       "    </tr>\n",
       "    <tr>\n",
       "      <th>2</th>\n",
       "      <td>2</td>\n",
       "      <td>0</td>\n",
       "      <td>0</td>\n",
       "      <td>0</td>\n",
       "      <td>0</td>\n",
       "      <td>2020</td>\n",
       "      <td>Q115 = 1</td>\n",
       "      <td>Male gender</td>\n",
       "      <td>Genre masculin</td>\n",
       "      <td>2011</td>\n",
       "      <td>...</td>\n",
       "      <td>80</td>\n",
       "      <td>5626</td>\n",
       "      <td>Employment and Social Development Canada</td>\n",
       "      <td>Emploi et Développement social Canada</td>\n",
       "      <td>4</td>\n",
       "      <td>WORKPLACE</td>\n",
       "      <td>MILIEU DE TRAVAIL</td>\n",
       "      <td>14</td>\n",
       "      <td>Physical environment and equipment</td>\n",
       "      <td>Environnement physique et équipement</td>\n",
       "    </tr>\n",
       "    <tr>\n",
       "      <th>3</th>\n",
       "      <td>3</td>\n",
       "      <td>0</td>\n",
       "      <td>0</td>\n",
       "      <td>0</td>\n",
       "      <td>0</td>\n",
       "      <td>2020</td>\n",
       "      <td>Q115 = 1</td>\n",
       "      <td>Male gender</td>\n",
       "      <td>Genre masculin</td>\n",
       "      <td>2011</td>\n",
       "      <td>...</td>\n",
       "      <td>72</td>\n",
       "      <td>7308</td>\n",
       "      <td>Department of National Defence</td>\n",
       "      <td>Ministère de la Défense nationale</td>\n",
       "      <td>4</td>\n",
       "      <td>WORKPLACE</td>\n",
       "      <td>MILIEU DE TRAVAIL</td>\n",
       "      <td>14</td>\n",
       "      <td>Physical environment and equipment</td>\n",
       "      <td>Environnement physique et équipement</td>\n",
       "    </tr>\n",
       "    <tr>\n",
       "      <th>4</th>\n",
       "      <td>4</td>\n",
       "      <td>0</td>\n",
       "      <td>0</td>\n",
       "      <td>0</td>\n",
       "      <td>0</td>\n",
       "      <td>2020</td>\n",
       "      <td>Q115 = 1</td>\n",
       "      <td>Male gender</td>\n",
       "      <td>Genre masculin</td>\n",
       "      <td>2011</td>\n",
       "      <td>...</td>\n",
       "      <td>64</td>\n",
       "      <td>3252</td>\n",
       "      <td>Correctional Service Canada</td>\n",
       "      <td>Service correctionnel Canada</td>\n",
       "      <td>4</td>\n",
       "      <td>WORKPLACE</td>\n",
       "      <td>MILIEU DE TRAVAIL</td>\n",
       "      <td>14</td>\n",
       "      <td>Physical environment and equipment</td>\n",
       "      <td>Environnement physique et équipement</td>\n",
       "    </tr>\n",
       "  </tbody>\n",
       "</table>\n",
       "<p>5 rows × 35 columns</p>\n",
       "</div>"
      ],
      "text/plain": [
       "   LEVEL1ID  LEVEL2ID  LEVEL3ID  LEVEL4ID  LEVEL5ID  SURVEYR    BYCOND  \\\n",
       "0         0         0         0         0         0     2020  Q115 = 1   \n",
       "1         1         0         0         0         0     2020  Q115 = 1   \n",
       "2         2         0         0         0         0     2020  Q115 = 1   \n",
       "3         3         0         0         0         0     2020  Q115 = 1   \n",
       "4         4         0         0         0         0     2020  Q115 = 1   \n",
       "\n",
       "     DESCRIP_E       DESCRIP_F  DEMCODE  ... SCORE100 ANSCOUNT  \\\n",
       "0  Male gender  Genre masculin     2011  ...       75    73497   \n",
       "1  Male gender  Genre masculin     2011  ...       79    11550   \n",
       "2  Male gender  Genre masculin     2011  ...       80     5626   \n",
       "3  Male gender  Genre masculin     2011  ...       72     7308   \n",
       "4  Male gender  Genre masculin     2011  ...       64     3252   \n",
       "\n",
       "                                     DEPT_E  \\\n",
       "0                            Public Service   \n",
       "1                     Canada Revenue Agency   \n",
       "2  Employment and Social Development Canada   \n",
       "3            Department of National Defence   \n",
       "4               Correctional Service Canada   \n",
       "\n",
       "                                  DEPT_F INDICATORID INDICATORENG  \\\n",
       "0                      Fonction publique           4    WORKPLACE   \n",
       "1             Agence du revenu du Canada           4    WORKPLACE   \n",
       "2  Emploi et Développement social Canada           4    WORKPLACE   \n",
       "3      Ministère de la Défense nationale           4    WORKPLACE   \n",
       "4           Service correctionnel Canada           4    WORKPLACE   \n",
       "\n",
       "        INDICATORFRA SUBINDICATORID                     SUBINDICATORENG  \\\n",
       "0  MILIEU DE TRAVAIL             14  Physical environment and equipment   \n",
       "1  MILIEU DE TRAVAIL             14  Physical environment and equipment   \n",
       "2  MILIEU DE TRAVAIL             14  Physical environment and equipment   \n",
       "3  MILIEU DE TRAVAIL             14  Physical environment and equipment   \n",
       "4  MILIEU DE TRAVAIL             14  Physical environment and equipment   \n",
       "\n",
       "                        SUBINDICATORFRA  \n",
       "0  Environnement physique et équipement  \n",
       "1  Environnement physique et équipement  \n",
       "2  Environnement physique et équipement  \n",
       "3  Environnement physique et équipement  \n",
       "4  Environnement physique et équipement  \n",
       "\n",
       "[5 rows x 35 columns]"
      ]
     },
     "execution_count": 349,
     "metadata": {},
     "output_type": "execute_result"
    }
   ],
   "source": [
    "df_emp_survey.head()"
   ]
  },
  {
   "cell_type": "code",
   "execution_count": 350,
   "metadata": {},
   "outputs": [
    {
     "data": {
      "text/plain": [
       "array(['WORKPLACE', 'WORKFORCE', 'EMPLOYEE ENGAGEMENT', 'LEADERSHIP',\n",
       "       'WORKPLACE WELL-BEING', 'COMPENSATION'], dtype=object)"
      ]
     },
     "execution_count": 350,
     "metadata": {},
     "output_type": "execute_result"
    }
   ],
   "source": [
    "df_emp_survey['INDICATORENG'].unique()"
   ]
  },
  {
   "cell_type": "markdown",
   "metadata": {},
   "source": [
    "Looks like some there are english and french duplicates for some of the columns, lets eleminate all french columns as not needed"
   ]
  },
  {
   "cell_type": "code",
   "execution_count": 351,
   "metadata": {},
   "outputs": [],
   "source": [
    "english_columns = [c for c in df_emp_survey.columns if '_F' not in c and c[-3:] != 'FRA']"
   ]
  },
  {
   "cell_type": "code",
   "execution_count": 352,
   "metadata": {},
   "outputs": [
    {
     "data": {
      "text/plain": [
       "(30, 35)"
      ]
     },
     "execution_count": 352,
     "metadata": {},
     "output_type": "execute_result"
    }
   ],
   "source": [
    "len(english_columns), len(df_emp_survey.columns) # there are five columns in french, which are not needed"
   ]
  },
  {
   "cell_type": "code",
   "execution_count": 353,
   "metadata": {},
   "outputs": [],
   "source": [
    "df_emp_survey = df_emp_survey[english_columns] # only use english columns"
   ]
  },
  {
   "cell_type": "code",
   "execution_count": 354,
   "metadata": {},
   "outputs": [
    {
     "data": {
      "text/plain": [
       "LEVEL1ID                                                                          34\n",
       "LEVEL2ID                                                                           0\n",
       "LEVEL3ID                                                                           0\n",
       "LEVEL4ID                                                                           0\n",
       "LEVEL5ID                                                                           0\n",
       "SURVEYR                                                                         2020\n",
       "BYCOND                                                                      Q115 = 2\n",
       "DESCRIP_E                                                              Female gender\n",
       "DEMCODE                                                                         2012\n",
       "QUESTION                                                                         Q01\n",
       "TITLE_E                            Question 1. I have the tools, technology and e...\n",
       "ANSWER1                                                                           57\n",
       "ANSWER2                                                                           34\n",
       "ANSWER3                                                                            4\n",
       "ANSWER4                                                                            6\n",
       "ANSWER5                                                                            0\n",
       "ANSWER6                                                                            0\n",
       "ANSWER7                                                                            0\n",
       "MOST_POSITIVE_OR_LEAST_NEGATIVE                                                   90\n",
       "NEUTRAL_OR_MIDDLE_CATEGORY                                                         4\n",
       "MOST_NEGATIVE_OR_LEAST_POSITIVE                                                    6\n",
       "AGREE                                                                             90\n",
       "SCORE5                                                                          4.41\n",
       "SCORE100                                                                          85\n",
       "ANSCOUNT                                                                         171\n",
       "DEPT_E                                Canada Economic Development for Quebec Regions\n",
       "INDICATORID                                                                        4\n",
       "INDICATORENG                                                               WORKPLACE\n",
       "SUBINDICATORID                                                                    14\n",
       "SUBINDICATORENG                                   Physical environment and equipment\n",
       "Name: 100, dtype: object"
      ]
     },
     "execution_count": 354,
     "metadata": {},
     "output_type": "execute_result"
    }
   ],
   "source": [
    "df_emp_survey[english_columns].iloc[100]"
   ]
  },
  {
   "cell_type": "code",
   "execution_count": null,
   "metadata": {},
   "outputs": [],
   "source": []
  },
  {
   "cell_type": "markdown",
   "metadata": {},
   "source": [
    "## Get Bar graphs for each question"
   ]
  },
  {
   "cell_type": "code",
   "execution_count": 355,
   "metadata": {},
   "outputs": [
    {
     "data": {
      "text/plain": [
       "216"
      ]
     },
     "execution_count": 355,
     "metadata": {},
     "output_type": "execute_result"
    }
   ],
   "source": [
    "len(df_emp_survey['TITLE_E'].unique())"
   ]
  },
  {
   "cell_type": "code",
   "execution_count": null,
   "metadata": {},
   "outputs": [],
   "source": []
  },
  {
   "cell_type": "code",
   "execution_count": 451,
   "metadata": {},
   "outputs": [
    {
     "data": {
      "text/plain": [
       "LEVEL1ID                                                                           0\n",
       "LEVEL2ID                                                                           0\n",
       "LEVEL3ID                                                                           0\n",
       "LEVEL4ID                                                                           0\n",
       "LEVEL5ID                                                                           0\n",
       "SURVEYR                                                                         2020\n",
       "BYCOND                                                                      Q115 = 1\n",
       "DESCRIP_E                                                                Male gender\n",
       "DEMCODE                                                                         2011\n",
       "QUESTION                                                                         Q01\n",
       "TITLE_E                            Question 1. I have the tools, technology and e...\n",
       "ANSWER1                                                                           35\n",
       "ANSWER2                                                                           45\n",
       "ANSWER3                                                                            6\n",
       "ANSWER4                                                                           11\n",
       "ANSWER5                                                                            3\n",
       "ANSWER6                                                                            0\n",
       "ANSWER7                                                                            0\n",
       "MOST_POSITIVE_OR_LEAST_NEGATIVE                                                   81\n",
       "NEUTRAL_OR_MIDDLE_CATEGORY                                                         6\n",
       "MOST_NEGATIVE_OR_LEAST_POSITIVE                                                   14\n",
       "AGREE                                                                             81\n",
       "SCORE5                                                                          3.99\n",
       "SCORE100                                                                          75\n",
       "ANSCOUNT                                                                       73497\n",
       "DEPT_E                                                                Public Service\n",
       "INDICATORID                                                                        4\n",
       "INDICATORENG                                                               WORKPLACE\n",
       "SUBINDICATORID                                                                    14\n",
       "SUBINDICATORENG                                   Physical environment and equipment\n",
       "BYCOND_1                                                                       Q115 \n",
       "BYCOND_2                                                                        Q115\n",
       "Name: 0, dtype: object"
      ]
     },
     "execution_count": 451,
     "metadata": {},
     "output_type": "execute_result"
    }
   ],
   "source": [
    "df_emp_survey.head(10).iloc[0]"
   ]
  },
  {
   "cell_type": "code",
   "execution_count": 357,
   "metadata": {},
   "outputs": [
    {
     "data": {
      "text/html": [
       "<div>\n",
       "<style scoped>\n",
       "    .dataframe tbody tr th:only-of-type {\n",
       "        vertical-align: middle;\n",
       "    }\n",
       "\n",
       "    .dataframe tbody tr th {\n",
       "        vertical-align: top;\n",
       "    }\n",
       "\n",
       "    .dataframe thead th {\n",
       "        text-align: right;\n",
       "    }\n",
       "</style>\n",
       "<table border=\"1\" class=\"dataframe\">\n",
       "  <thead>\n",
       "    <tr style=\"text-align: right;\">\n",
       "      <th></th>\n",
       "      <th>LEVEL1ID</th>\n",
       "      <th>LEVEL2ID</th>\n",
       "      <th>LEVEL3ID</th>\n",
       "      <th>LEVEL4ID</th>\n",
       "      <th>LEVEL5ID</th>\n",
       "      <th>SURVEYR</th>\n",
       "      <th>BYCOND</th>\n",
       "      <th>DESCRIP_E</th>\n",
       "      <th>DEMCODE</th>\n",
       "      <th>QUESTION</th>\n",
       "      <th>...</th>\n",
       "      <th>NEUTRAL_OR_MIDDLE_CATEGORY</th>\n",
       "      <th>MOST_NEGATIVE_OR_LEAST_POSITIVE</th>\n",
       "      <th>AGREE</th>\n",
       "      <th>SCORE5</th>\n",
       "      <th>SCORE100</th>\n",
       "      <th>ANSCOUNT</th>\n",
       "      <th>INDICATORID</th>\n",
       "      <th>INDICATORENG</th>\n",
       "      <th>SUBINDICATORID</th>\n",
       "      <th>SUBINDICATORENG</th>\n",
       "    </tr>\n",
       "    <tr>\n",
       "      <th>DEPT_E</th>\n",
       "      <th></th>\n",
       "      <th></th>\n",
       "      <th></th>\n",
       "      <th></th>\n",
       "      <th></th>\n",
       "      <th></th>\n",
       "      <th></th>\n",
       "      <th></th>\n",
       "      <th></th>\n",
       "      <th></th>\n",
       "      <th></th>\n",
       "      <th></th>\n",
       "      <th></th>\n",
       "      <th></th>\n",
       "      <th></th>\n",
       "      <th></th>\n",
       "      <th></th>\n",
       "      <th></th>\n",
       "      <th></th>\n",
       "      <th></th>\n",
       "      <th></th>\n",
       "    </tr>\n",
       "  </thead>\n",
       "  <tbody>\n",
       "    <tr>\n",
       "      <th>Administrative Tribunals Support Service of Canada</th>\n",
       "      <td>21600</td>\n",
       "      <td>21600</td>\n",
       "      <td>21600</td>\n",
       "      <td>21600</td>\n",
       "      <td>21600</td>\n",
       "      <td>21600</td>\n",
       "      <td>21600</td>\n",
       "      <td>21600</td>\n",
       "      <td>21600</td>\n",
       "      <td>21600</td>\n",
       "      <td>...</td>\n",
       "      <td>21600</td>\n",
       "      <td>21600</td>\n",
       "      <td>21600</td>\n",
       "      <td>21600</td>\n",
       "      <td>21600</td>\n",
       "      <td>21600</td>\n",
       "      <td>21600</td>\n",
       "      <td>21600</td>\n",
       "      <td>21600</td>\n",
       "      <td>21600</td>\n",
       "    </tr>\n",
       "    <tr>\n",
       "      <th>Agriculture and Agri-Food Canada</th>\n",
       "      <td>22180</td>\n",
       "      <td>22180</td>\n",
       "      <td>22180</td>\n",
       "      <td>22180</td>\n",
       "      <td>22180</td>\n",
       "      <td>22180</td>\n",
       "      <td>22180</td>\n",
       "      <td>22180</td>\n",
       "      <td>22180</td>\n",
       "      <td>22180</td>\n",
       "      <td>...</td>\n",
       "      <td>22180</td>\n",
       "      <td>22180</td>\n",
       "      <td>22180</td>\n",
       "      <td>22180</td>\n",
       "      <td>22180</td>\n",
       "      <td>22180</td>\n",
       "      <td>22180</td>\n",
       "      <td>22180</td>\n",
       "      <td>22180</td>\n",
       "      <td>22180</td>\n",
       "    </tr>\n",
       "    <tr>\n",
       "      <th>Atlantic Canada Opportunities Agency</th>\n",
       "      <td>19826</td>\n",
       "      <td>19826</td>\n",
       "      <td>19826</td>\n",
       "      <td>19826</td>\n",
       "      <td>19826</td>\n",
       "      <td>19826</td>\n",
       "      <td>19826</td>\n",
       "      <td>19826</td>\n",
       "      <td>19826</td>\n",
       "      <td>19826</td>\n",
       "      <td>...</td>\n",
       "      <td>19826</td>\n",
       "      <td>19826</td>\n",
       "      <td>19826</td>\n",
       "      <td>19826</td>\n",
       "      <td>19826</td>\n",
       "      <td>19826</td>\n",
       "      <td>19826</td>\n",
       "      <td>19826</td>\n",
       "      <td>19826</td>\n",
       "      <td>19826</td>\n",
       "    </tr>\n",
       "    <tr>\n",
       "      <th>Canada Border Services Agency</th>\n",
       "      <td>22180</td>\n",
       "      <td>22180</td>\n",
       "      <td>22180</td>\n",
       "      <td>22180</td>\n",
       "      <td>22180</td>\n",
       "      <td>22180</td>\n",
       "      <td>22180</td>\n",
       "      <td>22180</td>\n",
       "      <td>22180</td>\n",
       "      <td>22180</td>\n",
       "      <td>...</td>\n",
       "      <td>22180</td>\n",
       "      <td>22180</td>\n",
       "      <td>22180</td>\n",
       "      <td>22180</td>\n",
       "      <td>22180</td>\n",
       "      <td>22180</td>\n",
       "      <td>22180</td>\n",
       "      <td>22180</td>\n",
       "      <td>22180</td>\n",
       "      <td>22180</td>\n",
       "    </tr>\n",
       "    <tr>\n",
       "      <th>Canada Economic Development for Quebec Regions</th>\n",
       "      <td>19409</td>\n",
       "      <td>19409</td>\n",
       "      <td>19409</td>\n",
       "      <td>19409</td>\n",
       "      <td>19409</td>\n",
       "      <td>19409</td>\n",
       "      <td>19409</td>\n",
       "      <td>19409</td>\n",
       "      <td>19409</td>\n",
       "      <td>19409</td>\n",
       "      <td>...</td>\n",
       "      <td>19409</td>\n",
       "      <td>19409</td>\n",
       "      <td>19409</td>\n",
       "      <td>19409</td>\n",
       "      <td>19409</td>\n",
       "      <td>19409</td>\n",
       "      <td>19409</td>\n",
       "      <td>19409</td>\n",
       "      <td>19409</td>\n",
       "      <td>19409</td>\n",
       "    </tr>\n",
       "    <tr>\n",
       "      <th>...</th>\n",
       "      <td>...</td>\n",
       "      <td>...</td>\n",
       "      <td>...</td>\n",
       "      <td>...</td>\n",
       "      <td>...</td>\n",
       "      <td>...</td>\n",
       "      <td>...</td>\n",
       "      <td>...</td>\n",
       "      <td>...</td>\n",
       "      <td>...</td>\n",
       "      <td>...</td>\n",
       "      <td>...</td>\n",
       "      <td>...</td>\n",
       "      <td>...</td>\n",
       "      <td>...</td>\n",
       "      <td>...</td>\n",
       "      <td>...</td>\n",
       "      <td>...</td>\n",
       "      <td>...</td>\n",
       "      <td>...</td>\n",
       "      <td>...</td>\n",
       "    </tr>\n",
       "    <tr>\n",
       "      <th>Transportation Safety Board of Canada</th>\n",
       "      <td>18894</td>\n",
       "      <td>18894</td>\n",
       "      <td>18894</td>\n",
       "      <td>18894</td>\n",
       "      <td>18894</td>\n",
       "      <td>18894</td>\n",
       "      <td>18894</td>\n",
       "      <td>18894</td>\n",
       "      <td>18894</td>\n",
       "      <td>18894</td>\n",
       "      <td>...</td>\n",
       "      <td>18894</td>\n",
       "      <td>18894</td>\n",
       "      <td>18894</td>\n",
       "      <td>18894</td>\n",
       "      <td>18894</td>\n",
       "      <td>18894</td>\n",
       "      <td>18894</td>\n",
       "      <td>18894</td>\n",
       "      <td>18894</td>\n",
       "      <td>18894</td>\n",
       "    </tr>\n",
       "    <tr>\n",
       "      <th>Treasury Board of Canada Secretariat</th>\n",
       "      <td>21998</td>\n",
       "      <td>21998</td>\n",
       "      <td>21998</td>\n",
       "      <td>21998</td>\n",
       "      <td>21998</td>\n",
       "      <td>21998</td>\n",
       "      <td>21998</td>\n",
       "      <td>21998</td>\n",
       "      <td>21998</td>\n",
       "      <td>21998</td>\n",
       "      <td>...</td>\n",
       "      <td>21998</td>\n",
       "      <td>21998</td>\n",
       "      <td>21998</td>\n",
       "      <td>21998</td>\n",
       "      <td>21998</td>\n",
       "      <td>21998</td>\n",
       "      <td>21998</td>\n",
       "      <td>21998</td>\n",
       "      <td>21998</td>\n",
       "      <td>21998</td>\n",
       "    </tr>\n",
       "    <tr>\n",
       "      <th>Veterans Affairs Canada</th>\n",
       "      <td>21998</td>\n",
       "      <td>21998</td>\n",
       "      <td>21998</td>\n",
       "      <td>21998</td>\n",
       "      <td>21998</td>\n",
       "      <td>21998</td>\n",
       "      <td>21998</td>\n",
       "      <td>21998</td>\n",
       "      <td>21998</td>\n",
       "      <td>21998</td>\n",
       "      <td>...</td>\n",
       "      <td>21998</td>\n",
       "      <td>21998</td>\n",
       "      <td>21998</td>\n",
       "      <td>21998</td>\n",
       "      <td>21998</td>\n",
       "      <td>21998</td>\n",
       "      <td>21998</td>\n",
       "      <td>21998</td>\n",
       "      <td>21998</td>\n",
       "      <td>21998</td>\n",
       "    </tr>\n",
       "    <tr>\n",
       "      <th>Western Economic Diversification Canada</th>\n",
       "      <td>20554</td>\n",
       "      <td>20554</td>\n",
       "      <td>20554</td>\n",
       "      <td>20554</td>\n",
       "      <td>20554</td>\n",
       "      <td>20554</td>\n",
       "      <td>20554</td>\n",
       "      <td>20554</td>\n",
       "      <td>20554</td>\n",
       "      <td>20554</td>\n",
       "      <td>...</td>\n",
       "      <td>20554</td>\n",
       "      <td>20554</td>\n",
       "      <td>20554</td>\n",
       "      <td>20554</td>\n",
       "      <td>20554</td>\n",
       "      <td>20554</td>\n",
       "      <td>20554</td>\n",
       "      <td>20554</td>\n",
       "      <td>20554</td>\n",
       "      <td>20554</td>\n",
       "    </tr>\n",
       "    <tr>\n",
       "      <th>Women and Gender Equality Canada</th>\n",
       "      <td>17852</td>\n",
       "      <td>17852</td>\n",
       "      <td>17852</td>\n",
       "      <td>17852</td>\n",
       "      <td>17852</td>\n",
       "      <td>17852</td>\n",
       "      <td>17852</td>\n",
       "      <td>17852</td>\n",
       "      <td>17852</td>\n",
       "      <td>17852</td>\n",
       "      <td>...</td>\n",
       "      <td>17852</td>\n",
       "      <td>17852</td>\n",
       "      <td>17852</td>\n",
       "      <td>17852</td>\n",
       "      <td>17852</td>\n",
       "      <td>17852</td>\n",
       "      <td>17852</td>\n",
       "      <td>17852</td>\n",
       "      <td>17852</td>\n",
       "      <td>17852</td>\n",
       "    </tr>\n",
       "  </tbody>\n",
       "</table>\n",
       "<p>68 rows × 29 columns</p>\n",
       "</div>"
      ],
      "text/plain": [
       "                                                    LEVEL1ID  LEVEL2ID  \\\n",
       "DEPT_E                                                                   \n",
       "Administrative Tribunals Support Service of Canada     21600     21600   \n",
       "Agriculture and Agri-Food Canada                       22180     22180   \n",
       "Atlantic Canada Opportunities Agency                   19826     19826   \n",
       "Canada Border Services Agency                          22180     22180   \n",
       "Canada Economic Development for Quebec Regions         19409     19409   \n",
       "...                                                      ...       ...   \n",
       "Transportation Safety Board of Canada                  18894     18894   \n",
       "Treasury Board of Canada Secretariat                   21998     21998   \n",
       "Veterans Affairs Canada                                21998     21998   \n",
       "Western Economic Diversification Canada                20554     20554   \n",
       "Women and Gender Equality Canada                       17852     17852   \n",
       "\n",
       "                                                    LEVEL3ID  LEVEL4ID  \\\n",
       "DEPT_E                                                                   \n",
       "Administrative Tribunals Support Service of Canada     21600     21600   \n",
       "Agriculture and Agri-Food Canada                       22180     22180   \n",
       "Atlantic Canada Opportunities Agency                   19826     19826   \n",
       "Canada Border Services Agency                          22180     22180   \n",
       "Canada Economic Development for Quebec Regions         19409     19409   \n",
       "...                                                      ...       ...   \n",
       "Transportation Safety Board of Canada                  18894     18894   \n",
       "Treasury Board of Canada Secretariat                   21998     21998   \n",
       "Veterans Affairs Canada                                21998     21998   \n",
       "Western Economic Diversification Canada                20554     20554   \n",
       "Women and Gender Equality Canada                       17852     17852   \n",
       "\n",
       "                                                    LEVEL5ID  SURVEYR  BYCOND  \\\n",
       "DEPT_E                                                                          \n",
       "Administrative Tribunals Support Service of Canada     21600    21600   21600   \n",
       "Agriculture and Agri-Food Canada                       22180    22180   22180   \n",
       "Atlantic Canada Opportunities Agency                   19826    19826   19826   \n",
       "Canada Border Services Agency                          22180    22180   22180   \n",
       "Canada Economic Development for Quebec Regions         19409    19409   19409   \n",
       "...                                                      ...      ...     ...   \n",
       "Transportation Safety Board of Canada                  18894    18894   18894   \n",
       "Treasury Board of Canada Secretariat                   21998    21998   21998   \n",
       "Veterans Affairs Canada                                21998    21998   21998   \n",
       "Western Economic Diversification Canada                20554    20554   20554   \n",
       "Women and Gender Equality Canada                       17852    17852   17852   \n",
       "\n",
       "                                                    DESCRIP_E  DEMCODE  \\\n",
       "DEPT_E                                                                   \n",
       "Administrative Tribunals Support Service of Canada      21600    21600   \n",
       "Agriculture and Agri-Food Canada                        22180    22180   \n",
       "Atlantic Canada Opportunities Agency                    19826    19826   \n",
       "Canada Border Services Agency                           22180    22180   \n",
       "Canada Economic Development for Quebec Regions          19409    19409   \n",
       "...                                                       ...      ...   \n",
       "Transportation Safety Board of Canada                   18894    18894   \n",
       "Treasury Board of Canada Secretariat                    21998    21998   \n",
       "Veterans Affairs Canada                                 21998    21998   \n",
       "Western Economic Diversification Canada                 20554    20554   \n",
       "Women and Gender Equality Canada                        17852    17852   \n",
       "\n",
       "                                                    QUESTION  ...  \\\n",
       "DEPT_E                                                        ...   \n",
       "Administrative Tribunals Support Service of Canada     21600  ...   \n",
       "Agriculture and Agri-Food Canada                       22180  ...   \n",
       "Atlantic Canada Opportunities Agency                   19826  ...   \n",
       "Canada Border Services Agency                          22180  ...   \n",
       "Canada Economic Development for Quebec Regions         19409  ...   \n",
       "...                                                      ...  ...   \n",
       "Transportation Safety Board of Canada                  18894  ...   \n",
       "Treasury Board of Canada Secretariat                   21998  ...   \n",
       "Veterans Affairs Canada                                21998  ...   \n",
       "Western Economic Diversification Canada                20554  ...   \n",
       "Women and Gender Equality Canada                       17852  ...   \n",
       "\n",
       "                                                    NEUTRAL_OR_MIDDLE_CATEGORY  \\\n",
       "DEPT_E                                                                           \n",
       "Administrative Tribunals Support Service of Canada                       21600   \n",
       "Agriculture and Agri-Food Canada                                         22180   \n",
       "Atlantic Canada Opportunities Agency                                     19826   \n",
       "Canada Border Services Agency                                            22180   \n",
       "Canada Economic Development for Quebec Regions                           19409   \n",
       "...                                                                        ...   \n",
       "Transportation Safety Board of Canada                                    18894   \n",
       "Treasury Board of Canada Secretariat                                     21998   \n",
       "Veterans Affairs Canada                                                  21998   \n",
       "Western Economic Diversification Canada                                  20554   \n",
       "Women and Gender Equality Canada                                         17852   \n",
       "\n",
       "                                                    MOST_NEGATIVE_OR_LEAST_POSITIVE  \\\n",
       "DEPT_E                                                                                \n",
       "Administrative Tribunals Support Service of Canada                            21600   \n",
       "Agriculture and Agri-Food Canada                                              22180   \n",
       "Atlantic Canada Opportunities Agency                                          19826   \n",
       "Canada Border Services Agency                                                 22180   \n",
       "Canada Economic Development for Quebec Regions                                19409   \n",
       "...                                                                             ...   \n",
       "Transportation Safety Board of Canada                                         18894   \n",
       "Treasury Board of Canada Secretariat                                          21998   \n",
       "Veterans Affairs Canada                                                       21998   \n",
       "Western Economic Diversification Canada                                       20554   \n",
       "Women and Gender Equality Canada                                              17852   \n",
       "\n",
       "                                                    AGREE  SCORE5  SCORE100  \\\n",
       "DEPT_E                                                                        \n",
       "Administrative Tribunals Support Service of Canada  21600   21600     21600   \n",
       "Agriculture and Agri-Food Canada                    22180   22180     22180   \n",
       "Atlantic Canada Opportunities Agency                19826   19826     19826   \n",
       "Canada Border Services Agency                       22180   22180     22180   \n",
       "Canada Economic Development for Quebec Regions      19409   19409     19409   \n",
       "...                                                   ...     ...       ...   \n",
       "Transportation Safety Board of Canada               18894   18894     18894   \n",
       "Treasury Board of Canada Secretariat                21998   21998     21998   \n",
       "Veterans Affairs Canada                             21998   21998     21998   \n",
       "Western Economic Diversification Canada             20554   20554     20554   \n",
       "Women and Gender Equality Canada                    17852   17852     17852   \n",
       "\n",
       "                                                    ANSCOUNT  INDICATORID  \\\n",
       "DEPT_E                                                                      \n",
       "Administrative Tribunals Support Service of Canada     21600        21600   \n",
       "Agriculture and Agri-Food Canada                       22180        22180   \n",
       "Atlantic Canada Opportunities Agency                   19826        19826   \n",
       "Canada Border Services Agency                          22180        22180   \n",
       "Canada Economic Development for Quebec Regions         19409        19409   \n",
       "...                                                      ...          ...   \n",
       "Transportation Safety Board of Canada                  18894        18894   \n",
       "Treasury Board of Canada Secretariat                   21998        21998   \n",
       "Veterans Affairs Canada                                21998        21998   \n",
       "Western Economic Diversification Canada                20554        20554   \n",
       "Women and Gender Equality Canada                       17852        17852   \n",
       "\n",
       "                                                    INDICATORENG  \\\n",
       "DEPT_E                                                             \n",
       "Administrative Tribunals Support Service of Canada         21600   \n",
       "Agriculture and Agri-Food Canada                           22180   \n",
       "Atlantic Canada Opportunities Agency                       19826   \n",
       "Canada Border Services Agency                              22180   \n",
       "Canada Economic Development for Quebec Regions             19409   \n",
       "...                                                          ...   \n",
       "Transportation Safety Board of Canada                      18894   \n",
       "Treasury Board of Canada Secretariat                       21998   \n",
       "Veterans Affairs Canada                                    21998   \n",
       "Western Economic Diversification Canada                    20554   \n",
       "Women and Gender Equality Canada                           17852   \n",
       "\n",
       "                                                    SUBINDICATORID  \\\n",
       "DEPT_E                                                               \n",
       "Administrative Tribunals Support Service of Canada           21600   \n",
       "Agriculture and Agri-Food Canada                             22180   \n",
       "Atlantic Canada Opportunities Agency                         19826   \n",
       "Canada Border Services Agency                                22180   \n",
       "Canada Economic Development for Quebec Regions               19409   \n",
       "...                                                            ...   \n",
       "Transportation Safety Board of Canada                        18894   \n",
       "Treasury Board of Canada Secretariat                         21998   \n",
       "Veterans Affairs Canada                                      21998   \n",
       "Western Economic Diversification Canada                      20554   \n",
       "Women and Gender Equality Canada                             17852   \n",
       "\n",
       "                                                    SUBINDICATORENG  \n",
       "DEPT_E                                                               \n",
       "Administrative Tribunals Support Service of Canada            21600  \n",
       "Agriculture and Agri-Food Canada                              22180  \n",
       "Atlantic Canada Opportunities Agency                          19826  \n",
       "Canada Border Services Agency                                 22180  \n",
       "Canada Economic Development for Quebec Regions                19409  \n",
       "...                                                             ...  \n",
       "Transportation Safety Board of Canada                         18894  \n",
       "Treasury Board of Canada Secretariat                          21998  \n",
       "Veterans Affairs Canada                                       21998  \n",
       "Western Economic Diversification Canada                       20554  \n",
       "Women and Gender Equality Canada                              17852  \n",
       "\n",
       "[68 rows x 29 columns]"
      ]
     },
     "execution_count": 357,
     "metadata": {},
     "output_type": "execute_result"
    }
   ],
   "source": [
    "df_emp_survey.groupby(\"DEPT_E\").count()"
   ]
  },
  {
   "cell_type": "code",
   "execution_count": 358,
   "metadata": {},
   "outputs": [
    {
     "data": {
      "text/plain": [
       "array([91], dtype=int64)"
      ]
     },
     "execution_count": 358,
     "metadata": {},
     "output_type": "execute_result"
    }
   ],
   "source": [
    "df_emp_survey.query(\"DEPT_E == 'Administrative Tribunals Support Service of Canada'\")['LEVEL1ID'].unique()"
   ]
  },
  {
   "cell_type": "code",
   "execution_count": 359,
   "metadata": {},
   "outputs": [
    {
     "data": {
      "text/plain": [
       "(68, 68)"
      ]
     },
     "execution_count": 359,
     "metadata": {},
     "output_type": "execute_result"
    }
   ],
   "source": [
    "len(df_emp_survey['LEVEL1ID'].unique()), len(df_emp_survey['DEPT_E'].unique())"
   ]
  },
  {
   "cell_type": "code",
   "execution_count": 360,
   "metadata": {},
   "outputs": [
    {
     "name": "stdout",
     "output_type": "stream",
     "text": [
      "LEVEL1ID :  68\n",
      "SURVEYR :  3\n",
      "BYCOND :  59\n",
      "DESCRIP_E :  59\n",
      "DEMCODE :  59\n",
      "QUESTION :  216\n",
      "TITLE_E :  216\n",
      "ANSWER1 :  102\n",
      "ANSWER2 :  102\n",
      "ANSWER3 :  88\n",
      "ANSWER4 :  72\n",
      "ANSWER5 :  83\n",
      "ANSWER6 :  75\n",
      "ANSWER7 :  66\n",
      "MOST_POSITIVE_OR_LEAST_NEGATIVE :  103\n",
      "NEUTRAL_OR_MIDDLE_CATEGORY :  87\n",
      "MOST_NEGATIVE_OR_LEAST_POSITIVE :  99\n",
      "AGREE :  103\n",
      "SCORE5 :  367\n",
      "SCORE100 :  98\n",
      "ANSCOUNT :  15719\n",
      "DEPT_E :  68\n",
      "INDICATORID :  6\n",
      "INDICATORENG :  6\n",
      "SUBINDICATORID :  23\n",
      "SUBINDICATORENG :  23\n"
     ]
    }
   ],
   "source": [
    "# get unique values for each columns\n",
    "uniq_cols = []\n",
    "for c in df_emp_survey.columns:\n",
    "    if len(df_emp_survey[c].unique()) > 1:\n",
    "        uniq_cols.append(c)\n",
    "        print(c, \": \", len(df_emp_survey[c].unique()))"
   ]
  },
  {
   "cell_type": "code",
   "execution_count": 361,
   "metadata": {},
   "outputs": [],
   "source": [
    "# looking into score columns"
   ]
  },
  {
   "cell_type": "code",
   "execution_count": 362,
   "metadata": {},
   "outputs": [
    {
     "data": {
      "text/html": [
       "<div>\n",
       "<style scoped>\n",
       "    .dataframe tbody tr th:only-of-type {\n",
       "        vertical-align: middle;\n",
       "    }\n",
       "\n",
       "    .dataframe tbody tr th {\n",
       "        vertical-align: top;\n",
       "    }\n",
       "\n",
       "    .dataframe thead th {\n",
       "        text-align: right;\n",
       "    }\n",
       "</style>\n",
       "<table border=\"1\" class=\"dataframe\">\n",
       "  <thead>\n",
       "    <tr style=\"text-align: right;\">\n",
       "      <th></th>\n",
       "      <th>LEVEL1ID</th>\n",
       "      <th>SURVEYR</th>\n",
       "      <th>BYCOND</th>\n",
       "      <th>DESCRIP_E</th>\n",
       "      <th>DEMCODE</th>\n",
       "      <th>QUESTION</th>\n",
       "      <th>TITLE_E</th>\n",
       "      <th>ANSWER1</th>\n",
       "      <th>ANSWER2</th>\n",
       "      <th>ANSWER3</th>\n",
       "      <th>...</th>\n",
       "      <th>MOST_NEGATIVE_OR_LEAST_POSITIVE</th>\n",
       "      <th>AGREE</th>\n",
       "      <th>SCORE5</th>\n",
       "      <th>SCORE100</th>\n",
       "      <th>ANSCOUNT</th>\n",
       "      <th>DEPT_E</th>\n",
       "      <th>INDICATORID</th>\n",
       "      <th>INDICATORENG</th>\n",
       "      <th>SUBINDICATORID</th>\n",
       "      <th>SUBINDICATORENG</th>\n",
       "    </tr>\n",
       "  </thead>\n",
       "  <tbody>\n",
       "    <tr>\n",
       "      <th>0</th>\n",
       "      <td>0</td>\n",
       "      <td>2020</td>\n",
       "      <td>Q115 = 1</td>\n",
       "      <td>Male gender</td>\n",
       "      <td>2011</td>\n",
       "      <td>Q01</td>\n",
       "      <td>Question 1. I have the tools, technology and e...</td>\n",
       "      <td>35</td>\n",
       "      <td>45</td>\n",
       "      <td>6</td>\n",
       "      <td>...</td>\n",
       "      <td>14</td>\n",
       "      <td>81</td>\n",
       "      <td>3.99</td>\n",
       "      <td>75</td>\n",
       "      <td>73497</td>\n",
       "      <td>Public Service</td>\n",
       "      <td>4</td>\n",
       "      <td>WORKPLACE</td>\n",
       "      <td>14</td>\n",
       "      <td>Physical environment and equipment</td>\n",
       "    </tr>\n",
       "    <tr>\n",
       "      <th>1</th>\n",
       "      <td>1</td>\n",
       "      <td>2020</td>\n",
       "      <td>Q115 = 1</td>\n",
       "      <td>Male gender</td>\n",
       "      <td>2011</td>\n",
       "      <td>Q01</td>\n",
       "      <td>Question 1. I have the tools, technology and e...</td>\n",
       "      <td>41</td>\n",
       "      <td>45</td>\n",
       "      <td>5</td>\n",
       "      <td>...</td>\n",
       "      <td>10</td>\n",
       "      <td>85</td>\n",
       "      <td>4.14</td>\n",
       "      <td>79</td>\n",
       "      <td>11550</td>\n",
       "      <td>Canada Revenue Agency</td>\n",
       "      <td>4</td>\n",
       "      <td>WORKPLACE</td>\n",
       "      <td>14</td>\n",
       "      <td>Physical environment and equipment</td>\n",
       "    </tr>\n",
       "    <tr>\n",
       "      <th>2</th>\n",
       "      <td>2</td>\n",
       "      <td>2020</td>\n",
       "      <td>Q115 = 1</td>\n",
       "      <td>Male gender</td>\n",
       "      <td>2011</td>\n",
       "      <td>Q01</td>\n",
       "      <td>Question 1. I have the tools, technology and e...</td>\n",
       "      <td>45</td>\n",
       "      <td>42</td>\n",
       "      <td>4</td>\n",
       "      <td>...</td>\n",
       "      <td>9</td>\n",
       "      <td>87</td>\n",
       "      <td>4.21</td>\n",
       "      <td>80</td>\n",
       "      <td>5626</td>\n",
       "      <td>Employment and Social Development Canada</td>\n",
       "      <td>4</td>\n",
       "      <td>WORKPLACE</td>\n",
       "      <td>14</td>\n",
       "      <td>Physical environment and equipment</td>\n",
       "    </tr>\n",
       "    <tr>\n",
       "      <th>3</th>\n",
       "      <td>3</td>\n",
       "      <td>2020</td>\n",
       "      <td>Q115 = 1</td>\n",
       "      <td>Male gender</td>\n",
       "      <td>2011</td>\n",
       "      <td>Q01</td>\n",
       "      <td>Question 1. I have the tools, technology and e...</td>\n",
       "      <td>29</td>\n",
       "      <td>48</td>\n",
       "      <td>6</td>\n",
       "      <td>...</td>\n",
       "      <td>16</td>\n",
       "      <td>78</td>\n",
       "      <td>3.86</td>\n",
       "      <td>72</td>\n",
       "      <td>7308</td>\n",
       "      <td>Department of National Defence</td>\n",
       "      <td>4</td>\n",
       "      <td>WORKPLACE</td>\n",
       "      <td>14</td>\n",
       "      <td>Physical environment and equipment</td>\n",
       "    </tr>\n",
       "    <tr>\n",
       "      <th>4</th>\n",
       "      <td>4</td>\n",
       "      <td>2020</td>\n",
       "      <td>Q115 = 1</td>\n",
       "      <td>Male gender</td>\n",
       "      <td>2011</td>\n",
       "      <td>Q01</td>\n",
       "      <td>Question 1. I have the tools, technology and e...</td>\n",
       "      <td>20</td>\n",
       "      <td>46</td>\n",
       "      <td>10</td>\n",
       "      <td>...</td>\n",
       "      <td>23</td>\n",
       "      <td>67</td>\n",
       "      <td>3.58</td>\n",
       "      <td>64</td>\n",
       "      <td>3252</td>\n",
       "      <td>Correctional Service Canada</td>\n",
       "      <td>4</td>\n",
       "      <td>WORKPLACE</td>\n",
       "      <td>14</td>\n",
       "      <td>Physical environment and equipment</td>\n",
       "    </tr>\n",
       "  </tbody>\n",
       "</table>\n",
       "<p>5 rows × 26 columns</p>\n",
       "</div>"
      ],
      "text/plain": [
       "   LEVEL1ID  SURVEYR    BYCOND    DESCRIP_E  DEMCODE QUESTION  \\\n",
       "0         0     2020  Q115 = 1  Male gender     2011      Q01   \n",
       "1         1     2020  Q115 = 1  Male gender     2011      Q01   \n",
       "2         2     2020  Q115 = 1  Male gender     2011      Q01   \n",
       "3         3     2020  Q115 = 1  Male gender     2011      Q01   \n",
       "4         4     2020  Q115 = 1  Male gender     2011      Q01   \n",
       "\n",
       "                                             TITLE_E ANSWER1 ANSWER2 ANSWER3  \\\n",
       "0  Question 1. I have the tools, technology and e...      35      45       6   \n",
       "1  Question 1. I have the tools, technology and e...      41      45       5   \n",
       "2  Question 1. I have the tools, technology and e...      45      42       4   \n",
       "3  Question 1. I have the tools, technology and e...      29      48       6   \n",
       "4  Question 1. I have the tools, technology and e...      20      46      10   \n",
       "\n",
       "   ... MOST_NEGATIVE_OR_LEAST_POSITIVE AGREE SCORE5 SCORE100 ANSCOUNT  \\\n",
       "0  ...                              14    81   3.99       75    73497   \n",
       "1  ...                              10    85   4.14       79    11550   \n",
       "2  ...                               9    87   4.21       80     5626   \n",
       "3  ...                              16    78   3.86       72     7308   \n",
       "4  ...                              23    67   3.58       64     3252   \n",
       "\n",
       "                                     DEPT_E INDICATORID INDICATORENG  \\\n",
       "0                            Public Service           4    WORKPLACE   \n",
       "1                     Canada Revenue Agency           4    WORKPLACE   \n",
       "2  Employment and Social Development Canada           4    WORKPLACE   \n",
       "3            Department of National Defence           4    WORKPLACE   \n",
       "4               Correctional Service Canada           4    WORKPLACE   \n",
       "\n",
       "  SUBINDICATORID                     SUBINDICATORENG  \n",
       "0             14  Physical environment and equipment  \n",
       "1             14  Physical environment and equipment  \n",
       "2             14  Physical environment and equipment  \n",
       "3             14  Physical environment and equipment  \n",
       "4             14  Physical environment and equipment  \n",
       "\n",
       "[5 rows x 26 columns]"
      ]
     },
     "execution_count": 362,
     "metadata": {},
     "output_type": "execute_result"
    }
   ],
   "source": [
    "df_emp_survey[uniq_cols].head(5)"
   ]
  },
  {
   "cell_type": "code",
   "execution_count": 363,
   "metadata": {},
   "outputs": [],
   "source": [
    "cols_to_look = ['DEMCODE',\n",
    "'QUESTION',\n",
    "'TITLE_E' ,\n",
    "'ANSWER1' ,\n",
    "'ANSWER2' ,\n",
    "'ANSWER3' ,\n",
    "'ANSWER4' ,\n",
    "'ANSWER5' ,\n",
    "'ANSWER6' ,\n",
    "'ANSWER7' ,\n",
    "'MOST_POSITIVE_OR_LEAST_NEGATIVE', \n",
    "'NEUTRAL_OR_MIDDLE_CATEGORY',\n",
    "'MOST_NEGATIVE_OR_LEAST_POSITIVE' ,\n",
    "'AGREE' ,\n",
    "'SCORE5' ,\n",
    "'SCORE100', \n",
    "'ANSCOUNT']"
   ]
  },
  {
   "cell_type": "code",
   "execution_count": 364,
   "metadata": {},
   "outputs": [
    {
     "data": {
      "text/html": [
       "<div>\n",
       "<style scoped>\n",
       "    .dataframe tbody tr th:only-of-type {\n",
       "        vertical-align: middle;\n",
       "    }\n",
       "\n",
       "    .dataframe tbody tr th {\n",
       "        vertical-align: top;\n",
       "    }\n",
       "\n",
       "    .dataframe thead th {\n",
       "        text-align: right;\n",
       "    }\n",
       "</style>\n",
       "<table border=\"1\" class=\"dataframe\">\n",
       "  <thead>\n",
       "    <tr style=\"text-align: right;\">\n",
       "      <th></th>\n",
       "      <th>DEMCODE</th>\n",
       "      <th>QUESTION</th>\n",
       "      <th>TITLE_E</th>\n",
       "      <th>ANSWER1</th>\n",
       "      <th>ANSWER2</th>\n",
       "      <th>ANSWER3</th>\n",
       "      <th>ANSWER4</th>\n",
       "      <th>ANSWER5</th>\n",
       "      <th>ANSWER6</th>\n",
       "      <th>ANSWER7</th>\n",
       "      <th>MOST_POSITIVE_OR_LEAST_NEGATIVE</th>\n",
       "      <th>NEUTRAL_OR_MIDDLE_CATEGORY</th>\n",
       "      <th>MOST_NEGATIVE_OR_LEAST_POSITIVE</th>\n",
       "      <th>AGREE</th>\n",
       "      <th>SCORE5</th>\n",
       "      <th>SCORE100</th>\n",
       "      <th>ANSCOUNT</th>\n",
       "    </tr>\n",
       "  </thead>\n",
       "  <tbody>\n",
       "    <tr>\n",
       "      <th>0</th>\n",
       "      <td>2011</td>\n",
       "      <td>Q01</td>\n",
       "      <td>Question 1. I have the tools, technology and e...</td>\n",
       "      <td>35</td>\n",
       "      <td>45</td>\n",
       "      <td>6</td>\n",
       "      <td>11</td>\n",
       "      <td>3</td>\n",
       "      <td>0</td>\n",
       "      <td>0</td>\n",
       "      <td>81</td>\n",
       "      <td>6</td>\n",
       "      <td>14</td>\n",
       "      <td>81</td>\n",
       "      <td>3.99</td>\n",
       "      <td>75</td>\n",
       "      <td>73497</td>\n",
       "    </tr>\n",
       "    <tr>\n",
       "      <th>1</th>\n",
       "      <td>2011</td>\n",
       "      <td>Q01</td>\n",
       "      <td>Question 1. I have the tools, technology and e...</td>\n",
       "      <td>41</td>\n",
       "      <td>45</td>\n",
       "      <td>5</td>\n",
       "      <td>8</td>\n",
       "      <td>2</td>\n",
       "      <td>0</td>\n",
       "      <td>0</td>\n",
       "      <td>85</td>\n",
       "      <td>5</td>\n",
       "      <td>10</td>\n",
       "      <td>85</td>\n",
       "      <td>4.14</td>\n",
       "      <td>79</td>\n",
       "      <td>11550</td>\n",
       "    </tr>\n",
       "    <tr>\n",
       "      <th>2</th>\n",
       "      <td>2011</td>\n",
       "      <td>Q01</td>\n",
       "      <td>Question 1. I have the tools, technology and e...</td>\n",
       "      <td>45</td>\n",
       "      <td>42</td>\n",
       "      <td>4</td>\n",
       "      <td>7</td>\n",
       "      <td>2</td>\n",
       "      <td>0</td>\n",
       "      <td>0</td>\n",
       "      <td>87</td>\n",
       "      <td>4</td>\n",
       "      <td>9</td>\n",
       "      <td>87</td>\n",
       "      <td>4.21</td>\n",
       "      <td>80</td>\n",
       "      <td>5626</td>\n",
       "    </tr>\n",
       "    <tr>\n",
       "      <th>3</th>\n",
       "      <td>2011</td>\n",
       "      <td>Q01</td>\n",
       "      <td>Question 1. I have the tools, technology and e...</td>\n",
       "      <td>29</td>\n",
       "      <td>48</td>\n",
       "      <td>6</td>\n",
       "      <td>12</td>\n",
       "      <td>4</td>\n",
       "      <td>0</td>\n",
       "      <td>0</td>\n",
       "      <td>78</td>\n",
       "      <td>6</td>\n",
       "      <td>16</td>\n",
       "      <td>78</td>\n",
       "      <td>3.86</td>\n",
       "      <td>72</td>\n",
       "      <td>7308</td>\n",
       "    </tr>\n",
       "    <tr>\n",
       "      <th>4</th>\n",
       "      <td>2011</td>\n",
       "      <td>Q01</td>\n",
       "      <td>Question 1. I have the tools, technology and e...</td>\n",
       "      <td>20</td>\n",
       "      <td>46</td>\n",
       "      <td>10</td>\n",
       "      <td>15</td>\n",
       "      <td>7</td>\n",
       "      <td>0</td>\n",
       "      <td>0</td>\n",
       "      <td>67</td>\n",
       "      <td>10</td>\n",
       "      <td>23</td>\n",
       "      <td>67</td>\n",
       "      <td>3.58</td>\n",
       "      <td>64</td>\n",
       "      <td>3252</td>\n",
       "    </tr>\n",
       "  </tbody>\n",
       "</table>\n",
       "</div>"
      ],
      "text/plain": [
       "   DEMCODE QUESTION                                            TITLE_E  \\\n",
       "0     2011      Q01  Question 1. I have the tools, technology and e...   \n",
       "1     2011      Q01  Question 1. I have the tools, technology and e...   \n",
       "2     2011      Q01  Question 1. I have the tools, technology and e...   \n",
       "3     2011      Q01  Question 1. I have the tools, technology and e...   \n",
       "4     2011      Q01  Question 1. I have the tools, technology and e...   \n",
       "\n",
       "  ANSWER1 ANSWER2 ANSWER3 ANSWER4 ANSWER5 ANSWER6 ANSWER7  \\\n",
       "0      35      45       6      11       3       0       0   \n",
       "1      41      45       5       8       2       0       0   \n",
       "2      45      42       4       7       2       0       0   \n",
       "3      29      48       6      12       4       0       0   \n",
       "4      20      46      10      15       7       0       0   \n",
       "\n",
       "  MOST_POSITIVE_OR_LEAST_NEGATIVE NEUTRAL_OR_MIDDLE_CATEGORY  \\\n",
       "0                              81                          6   \n",
       "1                              85                          5   \n",
       "2                              87                          4   \n",
       "3                              78                          6   \n",
       "4                              67                         10   \n",
       "\n",
       "  MOST_NEGATIVE_OR_LEAST_POSITIVE AGREE SCORE5 SCORE100 ANSCOUNT  \n",
       "0                              14    81   3.99       75    73497  \n",
       "1                              10    85   4.14       79    11550  \n",
       "2                               9    87   4.21       80     5626  \n",
       "3                              16    78   3.86       72     7308  \n",
       "4                              23    67   3.58       64     3252  "
      ]
     },
     "execution_count": 364,
     "metadata": {},
     "output_type": "execute_result"
    }
   ],
   "source": [
    "df_emp_survey[cols_to_look][:5]"
   ]
  },
  {
   "cell_type": "code",
   "execution_count": 365,
   "metadata": {},
   "outputs": [],
   "source": [
    "# remove empty records\n",
    "df_emp_survey = df_emp_survey.query(\"ANSCOUNT != ' '\")"
   ]
  },
  {
   "cell_type": "code",
   "execution_count": 430,
   "metadata": {},
   "outputs": [],
   "source": [
    "for i in ['ANSWER1','ANSWER2','ANSWER3','ANSWER4','ANSWER5','ANSWER6','ANSWER7', 'ANSCOUNT','MOST_POSITIVE_OR_LEAST_NEGATIVE','NEUTRAL_OR_MIDDLE_CATEGORY','MOST_NEGATIVE_OR_LEAST_POSITIVE']:\n",
    "    df_emp_survey[i] = df_emp_survey[i].astype(int)"
   ]
  },
  {
   "cell_type": "code",
   "execution_count": 367,
   "metadata": {},
   "outputs": [
    {
     "data": {
      "text/plain": [
       "0          100\n",
       "1          101\n",
       "2          100\n",
       "3           99\n",
       "4           98\n",
       "          ... \n",
       "1405574    101\n",
       "1405575    100\n",
       "1405576    101\n",
       "1405577    100\n",
       "1405578     99\n",
       "Length: 583123, dtype: int32"
      ]
     },
     "execution_count": 367,
     "metadata": {},
     "output_type": "execute_result"
    }
   ],
   "source": [
    "# Juefi mentioned this, some of these percenatages are off, by very little\n",
    "df_emp_survey.eval('ANSWER1 + ANSWER2 + ANSWER3 + ANSWER4 + ANSWER5 + ANSWER6 + ANSWER7')"
   ]
  },
  {
   "cell_type": "code",
   "execution_count": 368,
   "metadata": {},
   "outputs": [
    {
     "data": {
      "text/plain": [
       "<AxesSubplot:xlabel='DESCRIP_E'>"
      ]
     },
     "execution_count": 368,
     "metadata": {},
     "output_type": "execute_result"
    },
    {
     "data": {
      "image/png": "[encoded data removed]",
      "text/plain": [
       "<Figure size 1440x1080 with 1 Axes>"
      ]
     },
     "metadata": {
      "needs_background": "light"
     },
     "output_type": "display_data"
    }
   ],
   "source": [
    "# Number of responses by each demographic code\n",
    "df_emp_survey.query(\"SURVEYR == 2020 and QUESTION == 'Q01' and DEPT_E == 'Public Service'\")[['DESCRIP_E','ANSCOUNT']].plot.bar(x='DESCRIP_E', y='ANSCOUNT')"
   ]
  },
  {
   "cell_type": "markdown",
   "metadata": {},
   "source": [
    "There are a lot of problems with these demographics, why there should be different columns or combination of them, there is a column for Male and black, what if the person is black and male?\n",
    "Also, what is 'Janapense selected' and 'not selected'?\n",
    "Is there column or connection I am missing or do we have to manually look at data and put them in different categories"
   ]
  },
  {
   "cell_type": "code",
   "execution_count": 369,
   "metadata": {},
   "outputs": [
    {
     "data": {
      "text/html": [
       "<div>\n",
       "<style scoped>\n",
       "    .dataframe tbody tr th:only-of-type {\n",
       "        vertical-align: middle;\n",
       "    }\n",
       "\n",
       "    .dataframe tbody tr th {\n",
       "        vertical-align: top;\n",
       "    }\n",
       "\n",
       "    .dataframe thead th {\n",
       "        text-align: right;\n",
       "    }\n",
       "</style>\n",
       "<table border=\"1\" class=\"dataframe\">\n",
       "  <thead>\n",
       "    <tr style=\"text-align: right;\">\n",
       "      <th></th>\n",
       "      <th>DESCRIP_E</th>\n",
       "      <th>ANSCOUNT</th>\n",
       "    </tr>\n",
       "  </thead>\n",
       "  <tbody>\n",
       "    <tr>\n",
       "      <th>0</th>\n",
       "      <td>Male gender</td>\n",
       "      <td>73497</td>\n",
       "    </tr>\n",
       "    <tr>\n",
       "      <th>68</th>\n",
       "      <td>Female gender</td>\n",
       "      <td>111387</td>\n",
       "    </tr>\n",
       "    <tr>\n",
       "      <th>136</th>\n",
       "      <td>Gender diverse</td>\n",
       "      <td>372</td>\n",
       "    </tr>\n",
       "    <tr>\n",
       "      <th>187</th>\n",
       "      <td>Indigenous</td>\n",
       "      <td>7579</td>\n",
       "    </tr>\n",
       "    <tr>\n",
       "      <th>254</th>\n",
       "      <td>Non-Indigenous</td>\n",
       "      <td>179025</td>\n",
       "    </tr>\n",
       "    <tr>\n",
       "      <th>321</th>\n",
       "      <td>First Nation (North American Indian)</td>\n",
       "      <td>3330</td>\n",
       "    </tr>\n",
       "    <tr>\n",
       "      <th>386</th>\n",
       "      <td>Métis</td>\n",
       "      <td>3813</td>\n",
       "    </tr>\n",
       "    <tr>\n",
       "      <th>452</th>\n",
       "      <td>Inuk (Inuit)</td>\n",
       "      <td>248</td>\n",
       "    </tr>\n",
       "    <tr>\n",
       "      <th>483</th>\n",
       "      <td>Person with a disability</td>\n",
       "      <td>16594</td>\n",
       "    </tr>\n",
       "    <tr>\n",
       "      <th>550</th>\n",
       "      <td>Not a person with a disability</td>\n",
       "      <td>170409</td>\n",
       "    </tr>\n",
       "    <tr>\n",
       "      <th>617</th>\n",
       "      <td>A seeing disability affects vision, including ...</td>\n",
       "      <td>1280</td>\n",
       "    </tr>\n",
       "    <tr>\n",
       "      <th>679</th>\n",
       "      <td>A seeing disability affects vision, including ...</td>\n",
       "      <td>15313</td>\n",
       "    </tr>\n",
       "    <tr>\n",
       "      <th>746</th>\n",
       "      <td>A hearing disability affects ability to hear, ...</td>\n",
       "      <td>2522</td>\n",
       "    </tr>\n",
       "    <tr>\n",
       "      <th>813</th>\n",
       "      <td>A hearing disability affects ability to hear, ...</td>\n",
       "      <td>14071</td>\n",
       "    </tr>\n",
       "    <tr>\n",
       "      <th>880</th>\n",
       "      <td>A mobility issue affects ability to move your ...</td>\n",
       "      <td>2896</td>\n",
       "    </tr>\n",
       "    <tr>\n",
       "      <th>945</th>\n",
       "      <td>A mobility issue affects ability to move your ...</td>\n",
       "      <td>13697</td>\n",
       "    </tr>\n",
       "    <tr>\n",
       "      <th>1012</th>\n",
       "      <td>An issue with flexibility or dexterity affects...</td>\n",
       "      <td>2067</td>\n",
       "    </tr>\n",
       "    <tr>\n",
       "      <th>1075</th>\n",
       "      <td>An issue with flexibility or dexterity affects...</td>\n",
       "      <td>14526</td>\n",
       "    </tr>\n",
       "    <tr>\n",
       "      <th>1142</th>\n",
       "      <td>A mental health issue affects psychology or be...</td>\n",
       "      <td>5811</td>\n",
       "    </tr>\n",
       "    <tr>\n",
       "      <th>1209</th>\n",
       "      <td>A mental health issue affects psychology or be...</td>\n",
       "      <td>10782</td>\n",
       "    </tr>\n",
       "    <tr>\n",
       "      <th>1276</th>\n",
       "      <td>A sensory / environmental disability affects s...</td>\n",
       "      <td>1579</td>\n",
       "    </tr>\n",
       "    <tr>\n",
       "      <th>1342</th>\n",
       "      <td>A sensory / environmental disability affects s...</td>\n",
       "      <td>15014</td>\n",
       "    </tr>\n",
       "    <tr>\n",
       "      <th>1409</th>\n",
       "      <td>A chronic health condition or pain affects abi...</td>\n",
       "      <td>5062</td>\n",
       "    </tr>\n",
       "    <tr>\n",
       "      <th>1475</th>\n",
       "      <td>A chronic health condition or pain affects abi...</td>\n",
       "      <td>11531</td>\n",
       "    </tr>\n",
       "    <tr>\n",
       "      <th>1542</th>\n",
       "      <td>A cognitive disability affects ability to carr...</td>\n",
       "      <td>2616</td>\n",
       "    </tr>\n",
       "    <tr>\n",
       "      <th>1609</th>\n",
       "      <td>A cognitive disability affects ability to carr...</td>\n",
       "      <td>13977</td>\n",
       "    </tr>\n",
       "    <tr>\n",
       "      <th>1676</th>\n",
       "      <td>An intellectual disability affects your abilit...</td>\n",
       "      <td>344</td>\n",
       "    </tr>\n",
       "    <tr>\n",
       "      <th>1724</th>\n",
       "      <td>An intellectual disability affects your abilit...</td>\n",
       "      <td>16249</td>\n",
       "    </tr>\n",
       "    <tr>\n",
       "      <th>1791</th>\n",
       "      <td>Other disability (including: learning disabili...</td>\n",
       "      <td>2491</td>\n",
       "    </tr>\n",
       "    <tr>\n",
       "      <th>1855</th>\n",
       "      <td>Other disability (including: learning disabili...</td>\n",
       "      <td>14102</td>\n",
       "    </tr>\n",
       "    <tr>\n",
       "      <th>1922</th>\n",
       "      <td>Visible minority</td>\n",
       "      <td>37647</td>\n",
       "    </tr>\n",
       "    <tr>\n",
       "      <th>1989</th>\n",
       "      <td>Non-visible minority</td>\n",
       "      <td>148827</td>\n",
       "    </tr>\n",
       "    <tr>\n",
       "      <th>2056</th>\n",
       "      <td>Black</td>\n",
       "      <td>7223</td>\n",
       "    </tr>\n",
       "    <tr>\n",
       "      <th>2123</th>\n",
       "      <td>Black - Not selected</td>\n",
       "      <td>30423</td>\n",
       "    </tr>\n",
       "    <tr>\n",
       "      <th>2190</th>\n",
       "      <td>Chinese</td>\n",
       "      <td>7254</td>\n",
       "    </tr>\n",
       "    <tr>\n",
       "      <th>2257</th>\n",
       "      <td>Chinese - Not selected</td>\n",
       "      <td>30392</td>\n",
       "    </tr>\n",
       "    <tr>\n",
       "      <th>2324</th>\n",
       "      <td>Filipino</td>\n",
       "      <td>2031</td>\n",
       "    </tr>\n",
       "    <tr>\n",
       "      <th>2380</th>\n",
       "      <td>Filipino - Not selected</td>\n",
       "      <td>35615</td>\n",
       "    </tr>\n",
       "    <tr>\n",
       "      <th>2447</th>\n",
       "      <td>Japanese</td>\n",
       "      <td>317</td>\n",
       "    </tr>\n",
       "    <tr>\n",
       "      <th>2492</th>\n",
       "      <td>Japanese - Not selected</td>\n",
       "      <td>37329</td>\n",
       "    </tr>\n",
       "    <tr>\n",
       "      <th>2559</th>\n",
       "      <td>Korean</td>\n",
       "      <td>615</td>\n",
       "    </tr>\n",
       "    <tr>\n",
       "      <th>2609</th>\n",
       "      <td>Korean - Not selected</td>\n",
       "      <td>37031</td>\n",
       "    </tr>\n",
       "    <tr>\n",
       "      <th>2676</th>\n",
       "      <td>South Asian/East Indian (including: Indian fro...</td>\n",
       "      <td>8385</td>\n",
       "    </tr>\n",
       "    <tr>\n",
       "      <th>2743</th>\n",
       "      <td>South Asian/East Indian (including: Indian fro...</td>\n",
       "      <td>29261</td>\n",
       "    </tr>\n",
       "    <tr>\n",
       "      <th>2810</th>\n",
       "      <td>Southeast Asian (including: Burmese; Cambodian...</td>\n",
       "      <td>1623</td>\n",
       "    </tr>\n",
       "    <tr>\n",
       "      <th>2870</th>\n",
       "      <td>Southeast Asian (including: Burmese; Cambodian...</td>\n",
       "      <td>36023</td>\n",
       "    </tr>\n",
       "    <tr>\n",
       "      <th>2937</th>\n",
       "      <td>Non-White West Asian, North African or Arab (i...</td>\n",
       "      <td>4454</td>\n",
       "    </tr>\n",
       "    <tr>\n",
       "      <th>3003</th>\n",
       "      <td>Non-White West Asian, North African or Arab (i...</td>\n",
       "      <td>33192</td>\n",
       "    </tr>\n",
       "    <tr>\n",
       "      <th>3070</th>\n",
       "      <td>Non-White Latin American (including: Indigenou...</td>\n",
       "      <td>1622</td>\n",
       "    </tr>\n",
       "    <tr>\n",
       "      <th>3134</th>\n",
       "      <td>Non-White Latin American (including: Indigenou...</td>\n",
       "      <td>36024</td>\n",
       "    </tr>\n",
       "    <tr>\n",
       "      <th>3201</th>\n",
       "      <td>Person of mixed origin (with one parent in one...</td>\n",
       "      <td>2948</td>\n",
       "    </tr>\n",
       "    <tr>\n",
       "      <th>3267</th>\n",
       "      <td>Person of mixed origin (with one parent in one...</td>\n",
       "      <td>34698</td>\n",
       "    </tr>\n",
       "    <tr>\n",
       "      <th>3334</th>\n",
       "      <td>Other visible minority group</td>\n",
       "      <td>1678</td>\n",
       "    </tr>\n",
       "    <tr>\n",
       "      <th>3399</th>\n",
       "      <td>Other visible minority group - Not selected</td>\n",
       "      <td>35968</td>\n",
       "    </tr>\n",
       "    <tr>\n",
       "      <th>3466</th>\n",
       "      <td>Heterosexual</td>\n",
       "      <td>147683</td>\n",
       "    </tr>\n",
       "    <tr>\n",
       "      <th>3533</th>\n",
       "      <td>Gay or lesbian</td>\n",
       "      <td>4704</td>\n",
       "    </tr>\n",
       "    <tr>\n",
       "      <th>3600</th>\n",
       "      <td>Bisexual</td>\n",
       "      <td>3898</td>\n",
       "    </tr>\n",
       "    <tr>\n",
       "      <th>3666</th>\n",
       "      <td>Another sexual orientation</td>\n",
       "      <td>1048</td>\n",
       "    </tr>\n",
       "    <tr>\n",
       "      <th>3726</th>\n",
       "      <td>Prefer not to answer</td>\n",
       "      <td>28270</td>\n",
       "    </tr>\n",
       "  </tbody>\n",
       "</table>\n",
       "</div>"
      ],
      "text/plain": [
       "                                              DESCRIP_E  ANSCOUNT\n",
       "0                                           Male gender     73497\n",
       "68                                        Female gender    111387\n",
       "136                                      Gender diverse       372\n",
       "187                                          Indigenous      7579\n",
       "254                                      Non-Indigenous    179025\n",
       "321                First Nation (North American Indian)      3330\n",
       "386                                               Métis      3813\n",
       "452                                        Inuk (Inuit)       248\n",
       "483                            Person with a disability     16594\n",
       "550                      Not a person with a disability    170409\n",
       "617   A seeing disability affects vision, including ...      1280\n",
       "679   A seeing disability affects vision, including ...     15313\n",
       "746   A hearing disability affects ability to hear, ...      2522\n",
       "813   A hearing disability affects ability to hear, ...     14071\n",
       "880   A mobility issue affects ability to move your ...      2896\n",
       "945   A mobility issue affects ability to move your ...     13697\n",
       "1012  An issue with flexibility or dexterity affects...      2067\n",
       "1075  An issue with flexibility or dexterity affects...     14526\n",
       "1142  A mental health issue affects psychology or be...      5811\n",
       "1209  A mental health issue affects psychology or be...     10782\n",
       "1276  A sensory / environmental disability affects s...      1579\n",
       "1342  A sensory / environmental disability affects s...     15014\n",
       "1409  A chronic health condition or pain affects abi...      5062\n",
       "1475  A chronic health condition or pain affects abi...     11531\n",
       "1542  A cognitive disability affects ability to carr...      2616\n",
       "1609  A cognitive disability affects ability to carr...     13977\n",
       "1676  An intellectual disability affects your abilit...       344\n",
       "1724  An intellectual disability affects your abilit...     16249\n",
       "1791  Other disability (including: learning disabili...      2491\n",
       "1855  Other disability (including: learning disabili...     14102\n",
       "1922                                   Visible minority     37647\n",
       "1989                               Non-visible minority    148827\n",
       "2056                                              Black      7223\n",
       "2123                               Black - Not selected     30423\n",
       "2190                                            Chinese      7254\n",
       "2257                             Chinese - Not selected     30392\n",
       "2324                                           Filipino      2031\n",
       "2380                            Filipino - Not selected     35615\n",
       "2447                                           Japanese       317\n",
       "2492                            Japanese - Not selected     37329\n",
       "2559                                             Korean       615\n",
       "2609                              Korean - Not selected     37031\n",
       "2676  South Asian/East Indian (including: Indian fro...      8385\n",
       "2743  South Asian/East Indian (including: Indian fro...     29261\n",
       "2810  Southeast Asian (including: Burmese; Cambodian...      1623\n",
       "2870  Southeast Asian (including: Burmese; Cambodian...     36023\n",
       "2937  Non-White West Asian, North African or Arab (i...      4454\n",
       "3003  Non-White West Asian, North African or Arab (i...     33192\n",
       "3070  Non-White Latin American (including: Indigenou...      1622\n",
       "3134  Non-White Latin American (including: Indigenou...     36024\n",
       "3201  Person of mixed origin (with one parent in one...      2948\n",
       "3267  Person of mixed origin (with one parent in one...     34698\n",
       "3334                       Other visible minority group      1678\n",
       "3399        Other visible minority group - Not selected     35968\n",
       "3466                                       Heterosexual    147683\n",
       "3533                                     Gay or lesbian      4704\n",
       "3600                                           Bisexual      3898\n",
       "3666                         Another sexual orientation      1048\n",
       "3726                               Prefer not to answer     28270"
      ]
     },
     "execution_count": 369,
     "metadata": {},
     "output_type": "execute_result"
    }
   ],
   "source": [
    "df_emp_survey.query(\"SURVEYR == 2020 and QUESTION == 'Q01' and DEPT_E == 'Public Service'\")[['DESCRIP_E','ANSCOUNT']]"
   ]
  },
  {
   "cell_type": "code",
   "execution_count": 370,
   "metadata": {},
   "outputs": [
    {
     "data": {
      "text/plain": [
       "{('Public Service', 'Non-Indigenous'): 216,\n",
       " ('Public Service', 'Male gender'): 216,\n",
       " ('Public Service', 'Prefer not to answer'): 216,\n",
       " ('Public Service', 'Female gender'): 216,\n",
       " ('Public Service', 'Visible minority'): 216,\n",
       " ('Public Service', 'Heterosexual'): 216,\n",
       " ('Public Service', 'Not a person with a disability'): 216,\n",
       " ('Public Service', 'Indigenous'): 216,\n",
       " ('Correctional Service Canada', 'Heterosexual'): 216,\n",
       " ('Canada Revenue Agency', 'Heterosexual'): 216,\n",
       " ('Public Service',\n",
       "  \"A chronic health condition or pain affects ability to function on a regular or episodic basis due to migraines, Crohn's disease, colitis, and other disabilities or health conditions - Not selected\"): 216,\n",
       " ('Public Service',\n",
       "  \"A chronic health condition or pain affects ability to function on a regular or episodic basis due to migraines, Crohn's disease, colitis, and other disabilities or health conditions\"): 216,\n",
       " ('Public Service', 'Non-visible minority'): 216,\n",
       " ('Public Service', 'Person with a disability'): 216,\n",
       " ('Public Service',\n",
       "  'A sensory / environmental disability affects sensitivity to light, sounds or other distractions, as well as allergens and other environmental sensitivities - Not selected'): 215,\n",
       " ('Public Service', 'Gay or lesbian'): 215,\n",
       " ('Public Service',\n",
       "  'An issue with flexibility or dexterity affects ability to move joints or perform motor tasks, especially with your hands - Not selected'): 215,\n",
       " ('Public Service',\n",
       "  'An issue with flexibility or dexterity affects ability to move joints or perform motor tasks, especially with your hands'): 215,\n",
       " ('Public Service',\n",
       "  \"A cognitive disability affects ability to carry out tasks involving executive functioning, such as planning and organization, learning information, communication and memory, including autism or Asperger's syndrome, attention deficit disorder, and learning disabilities\"): 215,\n",
       " ('Public Service',\n",
       "  'A sensory / environmental disability affects sensitivity to light, sounds or other distractions, as well as allergens and other environmental sensitivities'): 215,\n",
       " ('Canada Border Services Agency', 'Heterosexual'): 215,\n",
       " ('Public Service',\n",
       "  'A seeing disability affects vision, including total blindness, partial sight and visual distortion'): 215,\n",
       " ('Public Service',\n",
       "  'A mobility issue affects ability to move your body, including the required use of a wheelchair or a cane, or other issues impacting your mobility - Not selected'): 215,\n",
       " ('Public Service',\n",
       "  'A mobility issue affects ability to move your body, including the required use of a wheelchair or a cane, or other issues impacting your mobility'): 215,\n",
       " ('Public Service',\n",
       "  'A mental health issue affects psychology or behaviour, such as anxiety, depression or social / compulsive disorder or phobia or psychiatric illness - Not selected'): 215,\n",
       " ('Public Service',\n",
       "  'A mental health issue affects psychology or behaviour, such as anxiety, depression or social / compulsive disorder or phobia or psychiatric illness'): 215,\n",
       " ('Public Service',\n",
       "  \"A cognitive disability affects ability to carry out tasks involving executive functioning, such as planning and organization, learning information, communication and memory, including autism or Asperger's syndrome, attention deficit disorder, and learning disabilities - Not selected\"): 215,\n",
       " ('Correctional Service Canada', 'Non-visible minority'): 215,\n",
       " ('Public Service',\n",
       "  'A seeing disability affects vision, including total blindness, partial sight and visual distortion - Not selected'): 215,\n",
       " ('Correctional Service Canada', 'Visible minority'): 215,\n",
       " ('Public Service',\n",
       "  'South Asian/East Indian (including: Indian from India; Bangladeshi; Pakistani; East Indian from Guyana, Trinidad, East Africa; etc.)'): 215,\n",
       " ('Public Service',\n",
       "  'South Asian/East Indian (including: Indian from India; Bangladeshi; Pakistani; East Indian from Guyana, Trinidad, East Africa; etc.) - Not selected'): 215,\n",
       " ('Public Service',\n",
       "  'Other disability (including: learning disabilities, developmental disabilities and all other types of disabilities)'): 215,\n",
       " ('Public Service',\n",
       "  'Other disability (including: learning disabilities, developmental disabilities and all other types of disabilities) - Not selected'): 215,\n",
       " ('Public Service',\n",
       "  'Person of mixed origin (with one parent in one of the visible minority groups) - Not selected'): 214,\n",
       " ('Public Service',\n",
       "  'Person of mixed origin (with one parent in one of the visible minority groups)'): 214,\n",
       " ('Public Service',\n",
       "  'A hearing disability affects ability to hear, including being hard of hearing, deafness or acoustic distortion - Not selected'): 214,\n",
       " ('Public Service', 'Black'): 214,\n",
       " ('Public Service', 'Black - Not selected'): 214,\n",
       " ('Public Service',\n",
       "  'A hearing disability affects ability to hear, including being hard of hearing, deafness or acoustic distortion'): 214,\n",
       " ('Canada Border Services Agency', 'Female gender'): 214,\n",
       " ('Public Service', 'Chinese'): 214,\n",
       " ('Public Service', 'Chinese - Not selected'): 214,\n",
       " ('Correctional Service Canada', 'Not a person with a disability'): 214,\n",
       " ('Correctional Service Canada', 'Person with a disability'): 214,\n",
       " ('Canada Border Services Agency', 'Male gender'): 214,\n",
       " ('Canada Revenue Agency', 'Female gender'): 213,\n",
       " ('Correctional Service Canada', 'Male gender'): 213,\n",
       " ('Correctional Service Canada', 'Female gender'): 213,\n",
       " ('Canada Revenue Agency', 'Not a person with a disability'): 213,\n",
       " ('Canada Revenue Agency', 'Person with a disability'): 213,\n",
       " ('Canada Revenue Agency', 'Male gender'): 213,\n",
       " ('Public Service',\n",
       "  'Non-White West Asian, North African or Arab (including: Egyptian; Libyan; Lebanese; Iranian; etc.)'): 213,\n",
       " ('Employment and Social Development Canada', 'Heterosexual'): 213,\n",
       " ('Public Service', 'Other visible minority group'): 213,\n",
       " ('Public Service',\n",
       "  'Non-White West Asian, North African or Arab (including: Egyptian; Libyan; Lebanese; Iranian; etc.) - Not selected'): 213,\n",
       " ('Public Service', 'Other visible minority group - Not selected'): 213,\n",
       " ('Employment and Social Development Canada', 'Prefer not to answer'): 212,\n",
       " ('Department of National Defence', 'Heterosexual'): 212,\n",
       " ('Canada Revenue Agency',\n",
       "  'A mental health issue affects psychology or behaviour, such as anxiety, depression or social / compulsive disorder or phobia or psychiatric illness'): 212,\n",
       " ('Canada Revenue Agency',\n",
       "  'A mental health issue affects psychology or behaviour, such as anxiety, depression or social / compulsive disorder or phobia or psychiatric illness - Not selected'): 212,\n",
       " ('Employment and Social Development Canada', 'Visible minority'): 212,\n",
       " ('Canada Revenue Agency', 'Non-visible minority'): 212,\n",
       " ('Public Services and Procurement Canada', 'Heterosexual'): 212,\n",
       " ('Employment and Social Development Canada', 'Person with a disability'): 212,\n",
       " ('Employment and Social Development Canada',\n",
       "  'Not a person with a disability'): 212,\n",
       " ('Employment and Social Development Canada', 'Non-visible minority'): 212,\n",
       " ('Canada Revenue Agency', 'Visible minority'): 212,\n",
       " ('Canada Border Services Agency', 'Not a person with a disability'): 211,\n",
       " ('Canada Revenue Agency',\n",
       "  \"A chronic health condition or pain affects ability to function on a regular or episodic basis due to migraines, Crohn's disease, colitis, and other disabilities or health conditions\"): 211,\n",
       " ('Canada Border Services Agency', 'Person with a disability'): 211,\n",
       " ('Canada Revenue Agency',\n",
       "  \"A chronic health condition or pain affects ability to function on a regular or episodic basis due to migraines, Crohn's disease, colitis, and other disabilities or health conditions - Not selected\"): 211,\n",
       " ('Fisheries and Oceans Canada', 'Heterosexual'): 211,\n",
       " ('Employment and Social Development Canada', 'Female gender'): 211,\n",
       " ('Global Affairs Canada', 'Heterosexual'): 211,\n",
       " ('Employment and Social Development Canada', 'Male gender'): 211,\n",
       " ('Department of National Defence', 'Person with a disability'): 211,\n",
       " ('Department of National Defence', 'Not a person with a disability'): 211,\n",
       " ('Correctional Service Canada', 'Prefer not to answer'): 210,\n",
       " ('Canada Revenue Agency', 'Prefer not to answer'): 210,\n",
       " ('Immigration, Refugees and Citizenship Canada', 'Heterosexual'): 210,\n",
       " ('Health Canada', 'Heterosexual'): 210,\n",
       " ('Department of National Defence', 'Female gender'): 210,\n",
       " ('Department of National Defence', 'Male gender'): 210,\n",
       " ('Royal Canadian Mounted Police', 'Heterosexual'): 210,\n",
       " ('Correctional Service Canada', 'Indigenous'): 209,\n",
       " ('Public Service',\n",
       "  'An intellectual disability affects your ability to learn and to adapt behaviour to different situations'): 209,\n",
       " ('Public Service',\n",
       "  'An intellectual disability affects your ability to learn and to adapt behaviour to different situations - Not selected'): 209,\n",
       " ('Indigenous Services Canada', 'Heterosexual'): 209,\n",
       " ('Canada Revenue Agency',\n",
       "  'South Asian/East Indian (including: Indian from India; Bangladeshi; Pakistani; East Indian from Guyana, Trinidad, East Africa; etc.) - Not selected'): 209,\n",
       " ('Canadian Food Inspection Agency', 'Heterosexual'): 209,\n",
       " ('Canada Revenue Agency',\n",
       "  'South Asian/East Indian (including: Indian from India; Bangladeshi; Pakistani; East Indian from Guyana, Trinidad, East Africa; etc.)'): 209,\n",
       " ('Department of National Defence', 'Visible minority'): 209,\n",
       " ('Correctional Service Canada', 'Non-Indigenous'): 209,\n",
       " ('Department of National Defence', 'Non-visible minority'): 209,\n",
       " ('Department of Justice', 'Heterosexual'): 209,\n",
       " ('Public Service',\n",
       "  'Non-White Latin American (including: Indigenous persons from Central and South America, etc.)'): 209,\n",
       " ('Public Service',\n",
       "  'Non-White Latin American (including: Indigenous persons from Central and South America, etc.) - Not selected'): 209,\n",
       " ('Department of National Defence', 'Prefer not to answer'): 209,\n",
       " ('Public Services and Procurement Canada', 'Female gender'): 208,\n",
       " ('Transport Canada', 'Heterosexual'): 208,\n",
       " ('Agriculture and Agri-Food Canada', 'Heterosexual'): 208,\n",
       " ('Canada Border Services Agency', 'Non-visible minority'): 208,\n",
       " ('Public Services and Procurement Canada', 'Male gender'): 208,\n",
       " ('Canada Border Services Agency', 'Visible minority'): 208,\n",
       " ('Employment and Social Development Canada',\n",
       "  'A mental health issue affects psychology or behaviour, such as anxiety, depression or social / compulsive disorder or phobia or psychiatric illness'): 208,\n",
       " ('Employment and Social Development Canada',\n",
       "  'A mental health issue affects psychology or behaviour, such as anxiety, depression or social / compulsive disorder or phobia or psychiatric illness - Not selected'): 208,\n",
       " ('Public Services and Procurement Canada', 'Visible minority'): 207,\n",
       " ('Environment and Climate Change Canada', 'Heterosexual'): 207,\n",
       " ('Canada Border Services Agency', 'Prefer not to answer'): 207,\n",
       " ('Employment and Social Development Canada',\n",
       "  \"A chronic health condition or pain affects ability to function on a regular or episodic basis due to migraines, Crohn's disease, colitis, and other disabilities or health conditions\"): 207,\n",
       " ('Public Services and Procurement Canada', 'Non-visible minority'): 207,\n",
       " ('Employment and Social Development Canada',\n",
       "  \"A chronic health condition or pain affects ability to function on a regular or episodic basis due to migraines, Crohn's disease, colitis, and other disabilities or health conditions - Not selected\"): 207,\n",
       " ('Public Service',\n",
       "  'Southeast Asian (including: Burmese; Cambodian; Laotian; Thai; Vietnamese; etc.) - Not selected'): 206,\n",
       " ('Public Service',\n",
       "  'Southeast Asian (including: Burmese; Cambodian; Laotian; Thai; Vietnamese; etc.)'): 206,\n",
       " ('Global Affairs Canada', 'Non-visible minority'): 206,\n",
       " ('Global Affairs Canada', 'Visible minority'): 206,\n",
       " ('Immigration, Refugees and Citizenship Canada', 'Female gender'): 206,\n",
       " ('Immigration, Refugees and Citizenship Canada', 'Male gender'): 206,\n",
       " ('Canada Revenue Agency',\n",
       "  'A mobility issue affects ability to move your body, including the required use of a wheelchair or a cane, or other issues impacting your mobility - Not selected'): 205,\n",
       " ('Correctional Service Canada',\n",
       "  'A mental health issue affects psychology or behaviour, such as anxiety, depression or social / compulsive disorder or phobia or psychiatric illness'): 205,\n",
       " ('Public Services and Procurement Canada', 'Person with a disability'): 205,\n",
       " ('Public Services and Procurement Canada',\n",
       "  'Not a person with a disability'): 205,\n",
       " ('Canada Revenue Agency',\n",
       "  'A mobility issue affects ability to move your body, including the required use of a wheelchair or a cane, or other issues impacting your mobility'): 205,\n",
       " ('Correctional Service Canada',\n",
       "  'A mental health issue affects psychology or behaviour, such as anxiety, depression or social / compulsive disorder or phobia or psychiatric illness - Not selected'): 205,\n",
       " ('Canada Revenue Agency', 'Black'): 204,\n",
       " ('Canada Revenue Agency', 'Black - Not selected'): 204,\n",
       " ('Natural Resources Canada', 'Heterosexual'): 204,\n",
       " ('Parks Canada', 'Heterosexual'): 204,\n",
       " ('Health Canada', 'Visible minority'): 203,\n",
       " ('Health Canada', 'Non-visible minority'): 203,\n",
       " ('Fisheries and Oceans Canada', 'Male gender'): 202,\n",
       " ('Fisheries and Oceans Canada', 'Female gender'): 202,\n",
       " ('Public Services and Procurement Canada', 'Prefer not to answer'): 202,\n",
       " ('Veterans Affairs Canada', 'Heterosexual'): 202,\n",
       " ('Department of National Defence', 'Japanese - Not selected'): 202,\n",
       " ('Canadian Food Inspection Agency', 'Female gender'): 201,\n",
       " ('Transport Canada', 'Male gender'): 201,\n",
       " ('Transport Canada', 'Female gender'): 201,\n",
       " ('Canadian Food Inspection Agency', 'Male gender'): 201,\n",
       " ('Employment and Social Development Canada', 'Black - Not selected'): 201,\n",
       " ('Employment and Social Development Canada', 'Black'): 201,\n",
       " ('Department of National Defence',\n",
       "  'A mental health issue affects psychology or behaviour, such as anxiety, depression or social / compulsive disorder or phobia or psychiatric illness'): 201,\n",
       " ('Department of National Defence',\n",
       "  'A mental health issue affects psychology or behaviour, such as anxiety, depression or social / compulsive disorder or phobia or psychiatric illness - Not selected'): 201,\n",
       " ('Health Canada', 'Person with a disability'): 200,\n",
       " ('Royal Canadian Mounted Police', 'Prefer not to answer'): 200,\n",
       " ('Shared Services Canada', 'Prefer not to answer'): 200,\n",
       " ('Health Canada', 'Not a person with a disability'): 200,\n",
       " ('Health Canada', 'Female gender'): 200,\n",
       " ('Health Canada', 'Male gender'): 200,\n",
       " ('Fisheries and Oceans Canada', 'Prefer not to answer'): 200,\n",
       " ('Indigenous Services Canada', 'Male gender'): 199,\n",
       " ('Indigenous Services Canada', 'Non-Indigenous'): 199,\n",
       " ('Indigenous Services Canada', 'Indigenous'): 199,\n",
       " ('Indigenous Services Canada', 'Female gender'): 199,\n",
       " ('Employment and Social Development Canada',\n",
       "  'South Asian/East Indian (including: Indian from India; Bangladeshi; Pakistani; East Indian from Guyana, Trinidad, East Africa; etc.)'): 199,\n",
       " ('Employment and Social Development Canada',\n",
       "  'South Asian/East Indian (including: Indian from India; Bangladeshi; Pakistani; East Indian from Guyana, Trinidad, East Africa; etc.) - Not selected'): 199,\n",
       " ('Canadian Food Inspection Agency', 'Non-visible minority'): 198,\n",
       " ('Canadian Food Inspection Agency', 'Visible minority'): 198,\n",
       " ('Employment and Social Development Canada', 'Indigenous'): 198,\n",
       " ('Employment and Social Development Canada',\n",
       "  \"A cognitive disability affects ability to carry out tasks involving executive functioning, such as planning and organization, learning information, communication and memory, including autism or Asperger's syndrome, attention deficit disorder, and learning disabilities - Not selected\"): 198,\n",
       " ('Employment and Social Development Canada', 'Non-Indigenous'): 198,\n",
       " ('Canada Revenue Agency',\n",
       "  'An issue with flexibility or dexterity affects ability to move joints or perform motor tasks, especially with your hands'): 198,\n",
       " ('Employment and Social Development Canada',\n",
       "  \"A cognitive disability affects ability to carry out tasks involving executive functioning, such as planning and organization, learning information, communication and memory, including autism or Asperger's syndrome, attention deficit disorder, and learning disabilities\"): 198,\n",
       " ('Indigenous Services Canada', 'Prefer not to answer'): 198,\n",
       " ('Canada Revenue Agency',\n",
       "  \"A cognitive disability affects ability to carry out tasks involving executive functioning, such as planning and organization, learning information, communication and memory, including autism or Asperger's syndrome, attention deficit disorder, and learning disabilities - Not selected\"): 198,\n",
       " ('Canada Revenue Agency',\n",
       "  \"A cognitive disability affects ability to carry out tasks involving executive functioning, such as planning and organization, learning information, communication and memory, including autism or Asperger's syndrome, attention deficit disorder, and learning disabilities\"): 198,\n",
       " ('Canada Revenue Agency',\n",
       "  'An issue with flexibility or dexterity affects ability to move joints or perform motor tasks, especially with your hands - Not selected'): 198,\n",
       " ('Canada Revenue Agency', 'Indigenous'): 197,\n",
       " ('Department of National Defence',\n",
       "  \"A chronic health condition or pain affects ability to function on a regular or episodic basis due to migraines, Crohn's disease, colitis, and other disabilities or health conditions\"): 197,\n",
       " ('Department of National Defence',\n",
       "  \"A chronic health condition or pain affects ability to function on a regular or episodic basis due to migraines, Crohn's disease, colitis, and other disabilities or health conditions - Not selected\"): 197,\n",
       " ('Canada Revenue Agency',\n",
       "  'A hearing disability affects ability to hear, including being hard of hearing, deafness or acoustic distortion - Not selected'): 197,\n",
       " ('Canada Revenue Agency', 'Non-Indigenous'): 197,\n",
       " ('Canada Revenue Agency',\n",
       "  'A hearing disability affects ability to hear, including being hard of hearing, deafness or acoustic distortion'): 197,\n",
       " ('Correctional Service Canada',\n",
       "  \"A chronic health condition or pain affects ability to function on a regular or episodic basis due to migraines, Crohn's disease, colitis, and other disabilities or health conditions\"): 197,\n",
       " ('Correctional Service Canada',\n",
       "  \"A chronic health condition or pain affects ability to function on a regular or episodic basis due to migraines, Crohn's disease, colitis, and other disabilities or health conditions - Not selected\"): 197,\n",
       " ('Royal Canadian Mounted Police', 'Visible minority'): 197,\n",
       " ('Fisheries and Oceans Canada', 'Person with a disability'): 197,\n",
       " ('Fisheries and Oceans Canada', 'Not a person with a disability'): 197,\n",
       " ('Royal Canadian Mounted Police', 'Non-visible minority'): 197,\n",
       " ('Public Service', 'Filipino - Not selected'): 196,\n",
       " ('Public Service', 'Filipino'): 196,\n",
       " ('Employment and Social Development Canada',\n",
       "  'A mobility issue affects ability to move your body, including the required use of a wheelchair or a cane, or other issues impacting your mobility'): 195,\n",
       " ('Employment and Social Development Canada',\n",
       "  'A mobility issue affects ability to move your body, including the required use of a wheelchair or a cane, or other issues impacting your mobility - Not selected'): 195,\n",
       " ('Indigenous Services Canada', 'Person with a disability'): 195,\n",
       " ('Department of National Defence', 'Indigenous'): 195,\n",
       " ('Department of National Defence', 'Non-Indigenous'): 195,\n",
       " ('Natural Resources Canada', 'Female gender'): 195,\n",
       " ('Indigenous Services Canada', 'Not a person with a disability'): 195,\n",
       " ('Royal Canadian Mounted Police', 'Not a person with a disability'): 195,\n",
       " ('Correctional Service Canada',\n",
       "  \"A cognitive disability affects ability to carry out tasks involving executive functioning, such as planning and organization, learning information, communication and memory, including autism or Asperger's syndrome, attention deficit disorder, and learning disabilities - Not selected\"): 195,\n",
       " ('Correctional Service Canada',\n",
       "  \"A cognitive disability affects ability to carry out tasks involving executive functioning, such as planning and organization, learning information, communication and memory, including autism or Asperger's syndrome, attention deficit disorder, and learning disabilities\"): 195,\n",
       " ('Employment and Social Development Canada',\n",
       "  'An issue with flexibility or dexterity affects ability to move joints or perform motor tasks, especially with your hands - Not selected'): 195,\n",
       " ('Natural Resources Canada', 'Male gender'): 195,\n",
       " ('Employment and Social Development Canada',\n",
       "  'An issue with flexibility or dexterity affects ability to move joints or perform motor tasks, especially with your hands'): 195,\n",
       " ('Royal Canadian Mounted Police', 'Person with a disability'): 195,\n",
       " ('Innovation, Science and Economic Development Canada', 'Heterosexual'): 194,\n",
       " ('Indigenous Services Canada', 'Non-visible minority'): 194,\n",
       " ('Employment and Social Development Canada',\n",
       "  'Other disability (including: learning disabilities, developmental disabilities and all other types of disabilities)'): 194,\n",
       " ('Indigenous Services Canada', 'Visible minority'): 194,\n",
       " ('Public Service', 'Another sexual orientation'): 194,\n",
       " ('Employment and Social Development Canada',\n",
       "  'Other disability (including: learning disabilities, developmental disabilities and all other types of disabilities) - Not selected'): 194,\n",
       " ('Canada Revenue Agency',\n",
       "  'A sensory / environmental disability affects sensitivity to light, sounds or other distractions, as well as allergens and other environmental sensitivities'): 193,\n",
       " ('Canada Revenue Agency',\n",
       "  'A sensory / environmental disability affects sensitivity to light, sounds or other distractions, as well as allergens and other environmental sensitivities - Not selected'): 193,\n",
       " ('Public Service', 'Bisexual'): 193,\n",
       " ('Immigration, Refugees and Citizenship Canada', 'Visible minority'): 193,\n",
       " ('Immigration, Refugees and Citizenship Canada', 'Non-visible minority'): 193,\n",
       " ('Transport Canada', 'Prefer not to answer'): 193,\n",
       " ('Canada Border Services Agency',\n",
       "  'South Asian/East Indian (including: Indian from India; Bangladeshi; Pakistani; East Indian from Guyana, Trinidad, East Africa; etc.) - Not selected'): 192,\n",
       " ('Immigration, Refugees and Citizenship Canada', 'Black - Not selected'): 192,\n",
       " ('Canada Border Services Agency',\n",
       "  'South Asian/East Indian (including: Indian from India; Bangladeshi; Pakistani; East Indian from Guyana, Trinidad, East Africa; etc.)'): 192,\n",
       " ('Immigration, Refugees and Citizenship Canada', 'Black'): 192,\n",
       " ('Global Affairs Canada', 'Female gender'): 192,\n",
       " ('Global Affairs Canada', 'Male gender'): 192,\n",
       " ('Shared Services Canada', 'Heterosexual'): 191,\n",
       " ('Environment and Climate Change Canada', 'Prefer not to answer'): 191,\n",
       " ('Environment and Climate Change Canada', 'Non-visible minority'): 191,\n",
       " ('Canada Border Services Agency', 'Non-Indigenous'): 191,\n",
       " ('Canada Border Services Agency', 'Indigenous'): 191,\n",
       " ('Environment and Climate Change Canada', 'Visible minority'): 191,\n",
       " ('Global Affairs Canada', 'Person with a disability'): 191,\n",
       " ('Global Affairs Canada', 'Not a person with a disability'): 191,\n",
       " ('Indigenous Services Canada', 'First Nation (North American Indian)'): 190,\n",
       " ('Treasury Board of Canada Secretariat', 'Heterosexual'): 190,\n",
       " ('Canada Border Services Agency',\n",
       "  'A mental health issue affects psychology or behaviour, such as anxiety, depression or social / compulsive disorder or phobia or psychiatric illness'): 190,\n",
       " ('Canada Border Services Agency',\n",
       "  'A mental health issue affects psychology or behaviour, such as anxiety, depression or social / compulsive disorder or phobia or psychiatric illness - Not selected'): 190,\n",
       " ('Canadian Food Inspection Agency', 'Prefer not to answer'): 190,\n",
       " ('Immigration, Refugees and Citizenship Canada', 'Prefer not to answer'): 189,\n",
       " ('Canada Revenue Agency',\n",
       "  'A seeing disability affects vision, including total blindness, partial sight and visual distortion - Not selected'): 189,\n",
       " ('Canada Revenue Agency',\n",
       "  'A seeing disability affects vision, including total blindness, partial sight and visual distortion'): 189,\n",
       " ('Employment and Social Development Canada',\n",
       "  'A sensory / environmental disability affects sensitivity to light, sounds or other distractions, as well as allergens and other environmental sensitivities - Not selected'): 189,\n",
       " ('Employment and Social Development Canada',\n",
       "  'A sensory / environmental disability affects sensitivity to light, sounds or other distractions, as well as allergens and other environmental sensitivities'): 189,\n",
       " ('Transport Canada', 'Non-visible minority'): 188,\n",
       " ('Transport Canada', 'Visible minority'): 188,\n",
       " ('Agriculture and Agri-Food Canada', 'Female gender'): 188,\n",
       " ('Agriculture and Agri-Food Canada', 'Male gender'): 188,\n",
       " ('Parks Canada', 'Not a person with a disability'): 187,\n",
       " ('Parks Canada', 'Person with a disability'): 187,\n",
       " ('Department of National Defence',\n",
       "  'A mobility issue affects ability to move your body, including the required use of a wheelchair or a cane, or other issues impacting your mobility - Not selected'): 187,\n",
       " ('Correctional Service Canada',\n",
       "  'Other disability (including: learning disabilities, developmental disabilities and all other types of disabilities)'): 187,\n",
       " ('Correctional Service Canada',\n",
       "  'Other disability (including: learning disabilities, developmental disabilities and all other types of disabilities) - Not selected'): 187,\n",
       " ('Department of National Defence',\n",
       "  'A mobility issue affects ability to move your body, including the required use of a wheelchair or a cane, or other issues impacting your mobility'): 187,\n",
       " ('Canada Revenue Agency', 'Chinese - Not selected'): 187,\n",
       " ('Canada Revenue Agency', 'Chinese'): 187,\n",
       " ('Canada Revenue Agency', 'Other visible minority group - Not selected'): 187,\n",
       " ('Canada Revenue Agency', 'Other visible minority group'): 187,\n",
       " ('Shared Services Canada', 'Female gender'): 186,\n",
       " ('Environment and Climate Change Canada', 'Person with a disability'): 186,\n",
       " ('Environment and Climate Change Canada',\n",
       "  'Not a person with a disability'): 186,\n",
       " ('Shared Services Canada', 'Male gender'): 186,\n",
       " ('Environment and Climate Change Canada', 'Female gender'): 185,\n",
       " ('Employment and Social Development Canada', 'Chinese - Not selected'): 185,\n",
       " ('Employment and Social Development Canada',\n",
       "  'Person of mixed origin (with one parent in one of the visible minority groups)'): 185,\n",
       " ('Employment and Social Development Canada',\n",
       "  'Person of mixed origin (with one parent in one of the visible minority groups) - Not selected'): 185,\n",
       " ('Environment and Climate Change Canada', 'Male gender'): 185,\n",
       " ('Public Health Agency of Canada', 'Japanese - Not selected'): 185,\n",
       " ('Employment and Social Development Canada', 'Chinese'): 185,\n",
       " ('Canada Revenue Agency', 'Gay or lesbian'): 184,\n",
       " ('Correctional Service Canada',\n",
       "  'An issue with flexibility or dexterity affects ability to move joints or perform motor tasks, especially with your hands'): 184,\n",
       " ('Public Service', 'Métis'): 184,\n",
       " ('Correctional Service Canada',\n",
       "  'An issue with flexibility or dexterity affects ability to move joints or perform motor tasks, especially with your hands - Not selected'): 184,\n",
       " ('Royal Canadian Mounted Police', 'Male gender'): 183,\n",
       " ('Innovation, Science and Economic Development Canada',\n",
       "  'Prefer not to answer'): 183,\n",
       " ('Correctional Service Canada',\n",
       "  'South Asian/East Indian (including: Indian from India; Bangladeshi; Pakistani; East Indian from Guyana, Trinidad, East Africa; etc.) - Not selected'): 183,\n",
       " ('Correctional Service Canada',\n",
       "  'South Asian/East Indian (including: Indian from India; Bangladeshi; Pakistani; East Indian from Guyana, Trinidad, East Africa; etc.)'): 183,\n",
       " ('Canada Revenue Agency',\n",
       "  'Other disability (including: learning disabilities, developmental disabilities and all other types of disabilities) - Not selected'): 183,\n",
       " ('Canada Revenue Agency',\n",
       "  'Other disability (including: learning disabilities, developmental disabilities and all other types of disabilities)'): 183,\n",
       " ('Royal Canadian Mounted Police', 'Female gender'): 183,\n",
       " ('Shared Services Canada', 'Person with a disability'): 182,\n",
       " ('Shared Services Canada', 'Not a person with a disability'): 182,\n",
       " ('Canada Revenue Agency',\n",
       "  'Non-White West Asian, North African or Arab (including: Egyptian; Libyan; Lebanese; Iranian; etc.) - Not selected'): 181,\n",
       " ('Canada Revenue Agency',\n",
       "  'Non-White West Asian, North African or Arab (including: Egyptian; Libyan; Lebanese; Iranian; etc.)'): 181,\n",
       " ('Fisheries and Oceans Canada', 'Indigenous'): 181,\n",
       " ('Correctional Service Canada',\n",
       "  'A mobility issue affects ability to move your body, including the required use of a wheelchair or a cane, or other issues impacting your mobility'): 181,\n",
       " ('Correctional Service Canada',\n",
       "  'A mobility issue affects ability to move your body, including the required use of a wheelchair or a cane, or other issues impacting your mobility - Not selected'): 181,\n",
       " ('Fisheries and Oceans Canada', 'Non-Indigenous'): 181,\n",
       " ('Canada Border Services Agency',\n",
       "  \"A chronic health condition or pain affects ability to function on a regular or episodic basis due to migraines, Crohn's disease, colitis, and other disabilities or health conditions - Not selected\"): 180,\n",
       " ('Canada Border Services Agency',\n",
       "  \"A chronic health condition or pain affects ability to function on a regular or episodic basis due to migraines, Crohn's disease, colitis, and other disabilities or health conditions\"): 180,\n",
       " ('Public Service', 'First Nation (North American Indian)'): 180,\n",
       " ('Employment and Social Development Canada',\n",
       "  'Other visible minority group'): 179,\n",
       " ('Crown-Indigenous Relations and Northern Affairs Canada',\n",
       "  'Heterosexual'): 179,\n",
       " ('Employment and Social Development Canada',\n",
       "  'Other visible minority group - Not selected'): 179,\n",
       " ('Fisheries and Oceans Canada', 'Non-visible minority'): 178,\n",
       " ('Library and Archives Canada', 'Heterosexual'): 178,\n",
       " ('Employment and Social Development Canada', 'Bisexual'): 178,\n",
       " ('Public Service', 'Korean - Not selected'): 178,\n",
       " ('Fisheries and Oceans Canada', 'Visible minority'): 178,\n",
       " ('Public Service', 'Korean'): 178,\n",
       " ('Department of National Defence',\n",
       "  'An issue with flexibility or dexterity affects ability to move joints or perform motor tasks, especially with your hands - Not selected'): 178,\n",
       " ('Department of National Defence',\n",
       "  'An issue with flexibility or dexterity affects ability to move joints or perform motor tasks, especially with your hands'): 178,\n",
       " ('Global Affairs Canada', 'Prefer not to answer'): 177,\n",
       " ('Agriculture and Agri-Food Canada', 'Person with a disability'): 177,\n",
       " ('Public Service', 'Gender diverse'): 177,\n",
       " ('Canada Border Services Agency',\n",
       "  'Other disability (including: learning disabilities, developmental disabilities and all other types of disabilities)'): 177,\n",
       " ('Agriculture and Agri-Food Canada', 'Not a person with a disability'): 177,\n",
       " ('Canada Border Services Agency',\n",
       "  'Other disability (including: learning disabilities, developmental disabilities and all other types of disabilities) - Not selected'): 177,\n",
       " ('Agriculture and Agri-Food Canada', 'Prefer not to answer'): 176,\n",
       " ('Public Services and Procurement Canada',\n",
       "  'A mental health issue affects psychology or behaviour, such as anxiety, depression or social / compulsive disorder or phobia or psychiatric illness - Not selected'): 176,\n",
       " ('Public Services and Procurement Canada',\n",
       "  'A mental health issue affects psychology or behaviour, such as anxiety, depression or social / compulsive disorder or phobia or psychiatric illness'): 176,\n",
       " ('Correctional Service Canada', 'Other visible minority group'): 175,\n",
       " ('Correctional Service Canada',\n",
       "  'Other visible minority group - Not selected'): 175,\n",
       " ('Canada Revenue Agency',\n",
       "  'Person of mixed origin (with one parent in one of the visible minority groups) - Not selected'): 175,\n",
       " ('Canada Revenue Agency',\n",
       "  'Person of mixed origin (with one parent in one of the visible minority groups)'): 175,\n",
       " ('Treasury Board of Canada Secretariat',\n",
       "  'Southeast Asian (including: Burmese; Cambodian; Laotian; Thai; Vietnamese; etc.) - Not selected'): 174,\n",
       " ('Canada Revenue Agency', 'Métis'): 174,\n",
       " ('Canadian Security Intelligence Service', 'Female gender'): 174,\n",
       " ('Health Canada', 'Prefer not to answer'): 174,\n",
       " ('Department of National Defence',\n",
       "  'A hearing disability affects ability to hear, including being hard of hearing, deafness or acoustic distortion - Not selected'): 174,\n",
       " ('Canadian Security Intelligence Service', 'Male gender'): 174,\n",
       " ('Statistics Canada', 'Heterosexual'): 174,\n",
       " ('Department of National Defence',\n",
       "  'A hearing disability affects ability to hear, including being hard of hearing, deafness or acoustic distortion'): 174,\n",
       " ('Public Health Agency of Canada',\n",
       "  'Southeast Asian (including: Burmese; Cambodian; Laotian; Thai; Vietnamese; etc.) - Not selected'): 173,\n",
       " ('Communications Security Establishment Canada', 'Heterosexual'): 173,\n",
       " ('Public Health Agency of Canada', 'Heterosexual'): 172,\n",
       " ('Department of Justice', 'Not a person with a disability'): 172,\n",
       " ('Public Prosecution Service of Canada',\n",
       "  'An intellectual disability affects your ability to learn and to adapt behaviour to different situations - Not selected'): 172,\n",
       " ('Public Services and Procurement Canada',\n",
       "  'Non-White West Asian, North African or Arab (including: Egyptian; Libyan; Lebanese; Iranian; etc.) - Not selected'): 172,\n",
       " ('Public Services and Procurement Canada',\n",
       "  'Non-White West Asian, North African or Arab (including: Egyptian; Libyan; Lebanese; Iranian; etc.)'): 172,\n",
       " ('Treasury Board of Canada Secretariat', 'Prefer not to answer'): 172,\n",
       " ('Department of Justice', 'Person with a disability'): 172,\n",
       " ('Public Service Commission of Canada', 'Japanese - Not selected'): 171,\n",
       " ('Parks Canada', 'Female gender'): 171,\n",
       " ('Public Service Commission of Canada', 'Korean - Not selected'): 171,\n",
       " ('Parks Canada', 'Male gender'): 171,\n",
       " ('Impact Assessment Agency of Canada', 'Heterosexual'): 171,\n",
       " ('Immigration, Refugees and Citizenship Canada', 'Gay or lesbian'): 171,\n",
       " ('Canada Economic Development for Quebec Regions', 'Heterosexual'): 171,\n",
       " ('Canada Border Services Agency', 'Chinese'): 170,\n",
       " ('Canada Border Services Agency', 'Black - Not selected'): 170,\n",
       " ('Canada Border Services Agency', 'Black'): 170,\n",
       " ('Canada Border Services Agency', 'Chinese - Not selected'): 170,\n",
       " ('Global Affairs Canada',\n",
       "  'Person of mixed origin (with one parent in one of the visible minority groups) - Not selected'): 170,\n",
       " ('Global Affairs Canada',\n",
       "  'Person of mixed origin (with one parent in one of the visible minority groups)'): 170,\n",
       " ('Department of National Defence', 'Métis'): 170,\n",
       " ('Canada Border Services Agency',\n",
       "  'A hearing disability affects ability to hear, including being hard of hearing, deafness or acoustic distortion'): 169,\n",
       " ('Department of Justice', 'Female gender'): 169,\n",
       " ('Innovation, Science and Economic Development Canada', 'Male gender'): 169,\n",
       " ('National Research Council Canada', 'Heterosexual'): 169,\n",
       " ('Department of Justice', 'Male gender'): 169,\n",
       " ('Public Health Agency of Canada', 'Non-visible minority'): 169,\n",
       " ('Parks Canada', 'Prefer not to answer'): 169,\n",
       " ('Public Health Agency of Canada', 'Visible minority'): 169,\n",
       " ('Natural Resources Canada', 'Person with a disability'): 169,\n",
       " ('Canada Energy Regulator', 'Heterosexual'): 169,\n",
       " ('Canada Border Services Agency',\n",
       "  'A hearing disability affects ability to hear, including being hard of hearing, deafness or acoustic distortion - Not selected'): 169,\n",
       " ('Department of Justice', 'Visible minority'): 169,\n",
       " ('Department of Justice', 'Non-visible minority'): 169,\n",
       " ('Canada Revenue Agency',\n",
       "  'Southeast Asian (including: Burmese; Cambodian; Laotian; Thai; Vietnamese; etc.) - Not selected'): 169,\n",
       " ('Innovation, Science and Economic Development Canada', 'Female gender'): 169,\n",
       " ('Canada Revenue Agency',\n",
       "  'Southeast Asian (including: Burmese; Cambodian; Laotian; Thai; Vietnamese; etc.)'): 169,\n",
       " ('Natural Resources Canada', 'Not a person with a disability'): 169,\n",
       " ('Transport Canada', 'Not a person with a disability'): 168,\n",
       " ('Canadian Heritage', 'Heterosexual'): 168,\n",
       " ('Correctional Service Canada', 'Black - Not selected'): 168,\n",
       " ('Transport Canada', 'Indigenous'): 168,\n",
       " ('Public Services and Procurement Canada', 'Chinese - Not selected'): 168,\n",
       " ('Public Services and Procurement Canada', 'Chinese'): 168,\n",
       " ('Public Prosecution Service of Canada', 'Korean - Not selected'): 168,\n",
       " ('Transport Canada', 'Person with a disability'): 168,\n",
       " ('Transport Canada', 'Non-Indigenous'): 168,\n",
       " ('Correctional Service Canada', 'Black'): 168,\n",
       " ('Department of Justice', 'Prefer not to answer'): 167,\n",
       " ('Agriculture and Agri-Food Canada', 'Non-visible minority'): 167,\n",
       " ('Office of the Auditor General of Canada', 'Heterosexual'): 167,\n",
       " ('Immigration and Refugee Board of Canada', 'Heterosexual'): 167,\n",
       " ('Department of National Defence', 'Black'): 167,\n",
       " ('Department of National Defence', 'Black - Not selected'): 167,\n",
       " ('Privy Council Office', 'Heterosexual'): 167,\n",
       " ('Correctional Service Canada', 'Métis'): 167,\n",
       " ('Shared Services Canada', 'Visible minority'): 167,\n",
       " ('Public Services and Procurement Canada',\n",
       "  'Other visible minority group - Not selected'): 167,\n",
       " ('Public Services and Procurement Canada',\n",
       "  'Other visible minority group'): 167,\n",
       " ('Shared Services Canada', 'Non-visible minority'): 167,\n",
       " ('Agriculture and Agri-Food Canada', 'Visible minority'): 167,\n",
       " ('Public Services and Procurement Canada',\n",
       "  'South Asian/East Indian (including: Indian from India; Bangladeshi; Pakistani; East Indian from Guyana, Trinidad, East Africa; etc.)'): 166,\n",
       " ('Public Services and Procurement Canada',\n",
       "  'South Asian/East Indian (including: Indian from India; Bangladeshi; Pakistani; East Indian from Guyana, Trinidad, East Africa; etc.) - Not selected'): 166,\n",
       " ('Natural Resources Canada', 'Prefer not to answer'): 166,\n",
       " ('Correctional Service Canada', 'Gay or lesbian'): 166,\n",
       " ('Department of National Defence',\n",
       "  'A sensory / environmental disability affects sensitivity to light, sounds or other distractions, as well as allergens and other environmental sensitivities'): 166,\n",
       " ('Department of National Defence',\n",
       "  'A sensory / environmental disability affects sensitivity to light, sounds or other distractions, as well as allergens and other environmental sensitivities - Not selected'): 166,\n",
       " ('Immigration, Refugees and Citizenship Canada',\n",
       "  'Not a person with a disability'): 166,\n",
       " ('Statistical Survey Operations', 'Heterosexual'): 166,\n",
       " ('Canada Border Services Agency',\n",
       "  'An issue with flexibility or dexterity affects ability to move joints or perform motor tasks, especially with your hands'): 166,\n",
       " ('Canada Border Services Agency',\n",
       "  'An issue with flexibility or dexterity affects ability to move joints or perform motor tasks, especially with your hands - Not selected'): 166,\n",
       " ('Immigration, Refugees and Citizenship Canada',\n",
       "  'Person with a disability'): 166,\n",
       " ('Fisheries and Oceans Canada',\n",
       "  'A mental health issue affects psychology or behaviour, such as anxiety, depression or social / compulsive disorder or phobia or psychiatric illness'): 165,\n",
       " ('Canada Revenue Agency', 'Filipino - Not selected'): 165,\n",
       " ('Fisheries and Oceans Canada',\n",
       "  'A mental health issue affects psychology or behaviour, such as anxiety, depression or social / compulsive disorder or phobia or psychiatric illness - Not selected'): 165,\n",
       " ('Canada Revenue Agency', 'Filipino'): 165,\n",
       " ('Department of National Defence',\n",
       "  'Other disability (including: learning disabilities, developmental disabilities and all other types of disabilities) - Not selected'): 165,\n",
       " ('Veterans Affairs Canada', 'Person with a disability'): 165,\n",
       " ('Fisheries and Oceans Canada', 'First Nation (North American Indian)'): 165,\n",
       " ('Canada School of Public Service', 'Heterosexual'): 165,\n",
       " ('Health Canada',\n",
       "  'South Asian/East Indian (including: Indian from India; Bangladeshi; Pakistani; East Indian from Guyana, Trinidad, East Africa; etc.) - Not selected'): 165,\n",
       " ('Health Canada',\n",
       "  'South Asian/East Indian (including: Indian from India; Bangladeshi; Pakistani; East Indian from Guyana, Trinidad, East Africa; etc.)'): 165,\n",
       " ('Veterans Affairs Canada', 'Not a person with a disability'): 165,\n",
       " ('Public Services and Procurement Canada',\n",
       "  'Other disability (including: learning disabilities, developmental disabilities and all other types of disabilities)'): 165,\n",
       " ('Department of National Defence',\n",
       "  'Non-White West Asian, North African or Arab (including: Egyptian; Libyan; Lebanese; Iranian; etc.)'): 165,\n",
       " ('Department of National Defence',\n",
       "  'Non-White West Asian, North African or Arab (including: Egyptian; Libyan; Lebanese; Iranian; etc.) - Not selected'): 165,\n",
       " ('Department of National Defence',\n",
       "  'Other disability (including: learning disabilities, developmental disabilities and all other types of disabilities)'): 165,\n",
       " ('Public Services and Procurement Canada',\n",
       "  'Other disability (including: learning disabilities, developmental disabilities and all other types of disabilities) - Not selected'): 165,\n",
       " ('Canadian Nuclear Safety Commission', 'Heterosexual'): 164,\n",
       " ('Public Services and Procurement Canada', 'Black'): 164,\n",
       " ('Public Services and Procurement Canada', 'Black - Not selected'): 164,\n",
       " ('Micro-organizations combined', 'Heterosexual'): 164,\n",
       " ('Privy Council Office', 'Japanese - Not selected'): 164,\n",
       " ('Department of National Defence',\n",
       "  'South Asian/East Indian (including: Indian from India; Bangladeshi; Pakistani; East Indian from Guyana, Trinidad, East Africa; etc.)'): 164,\n",
       " ('Statistics Canada', 'Male gender'): 164,\n",
       " ('Treasury Board of Canada Secretariat', 'Non-visible minority'): 164,\n",
       " ('Department of National Defence',\n",
       "  'South Asian/East Indian (including: Indian from India; Bangladeshi; Pakistani; East Indian from Guyana, Trinidad, East Africa; etc.) - Not selected'): 164,\n",
       " ('Innovation, Science and Economic Development Canada',\n",
       "  'Non-visible minority'): 164,\n",
       " ('Canada Revenue Agency',\n",
       "  'Non-White Latin American (including: Indigenous persons from Central and South America, etc.) - Not selected'): 164,\n",
       " ('Statistics Canada', 'Female gender'): 164,\n",
       " ('Canada Revenue Agency',\n",
       "  'Non-White Latin American (including: Indigenous persons from Central and South America, etc.)'): 164,\n",
       " ('Fisheries and Oceans Canada',\n",
       "  \"A chronic health condition or pain affects ability to function on a regular or episodic basis due to migraines, Crohn's disease, colitis, and other disabilities or health conditions\"): 164,\n",
       " ('Treasury Board of Canada Secretariat', 'Visible minority'): 164,\n",
       " ('Statistics Canada', 'Prefer not to answer'): 164,\n",
       " ('Innovation, Science and Economic Development Canada',\n",
       "  'Visible minority'): 164,\n",
       " ('Fisheries and Oceans Canada',\n",
       "  \"A chronic health condition or pain affects ability to function on a regular or episodic basis due to migraines, Crohn's disease, colitis, and other disabilities or health conditions - Not selected\"): 164,\n",
       " ('Veterans Affairs Canada', 'Prefer not to answer'): 163,\n",
       " ('Statistical Survey Operations',\n",
       "  'Other disability (including: learning disabilities, developmental disabilities and all other types of disabilities) - Not selected'): 163,\n",
       " ('Public Safety Canada', 'Heterosexual'): 163,\n",
       " ('Public Services and Procurement Canada',\n",
       "  'A sensory / environmental disability affects sensitivity to light, sounds or other distractions, as well as allergens and other environmental sensitivities - Not selected'): 163,\n",
       " ('Public Services and Procurement Canada',\n",
       "  'A sensory / environmental disability affects sensitivity to light, sounds or other distractions, as well as allergens and other environmental sensitivities'): 163,\n",
       " ('Correctional Service Canada', 'Chinese - Not selected'): 163,\n",
       " ('Public Prosecution Service of Canada', 'Heterosexual'): 163,\n",
       " ('Public Services and Procurement Canada', 'Métis'): 163,\n",
       " ('Canada Border Services Agency', 'Gay or lesbian'): 163,\n",
       " ('Correctional Service Canada', 'Chinese'): 163,\n",
       " ('Employment and Social Development Canada',\n",
       "  'A hearing disability affects ability to hear, including being hard of hearing, deafness or acoustic distortion'): 163,\n",
       " ('Employment and Social Development Canada',\n",
       "  'A hearing disability affects ability to hear, including being hard of hearing, deafness or acoustic distortion - Not selected'): 163,\n",
       " ('Department of National Defence',\n",
       "  \"A cognitive disability affects ability to carry out tasks involving executive functioning, such as planning and organization, learning information, communication and memory, including autism or Asperger's syndrome, attention deficit disorder, and learning disabilities\"): 162,\n",
       " ('Department of National Defence',\n",
       "  \"A cognitive disability affects ability to carry out tasks involving executive functioning, such as planning and organization, learning information, communication and memory, including autism or Asperger's syndrome, attention deficit disorder, and learning disabilities - Not selected\"): 162,\n",
       " ('Department of Justice', 'Korean - Not selected'): 162,\n",
       " ('Public Services and Procurement Canada',\n",
       "  \"A chronic health condition or pain affects ability to function on a regular or episodic basis due to migraines, Crohn's disease, colitis, and other disabilities or health conditions\"): 162,\n",
       " ('Global Affairs Canada',\n",
       "  'Non-White West Asian, North African or Arab (including: Egyptian; Libyan; Lebanese; Iranian; etc.)'): 162,\n",
       " ('Global Affairs Canada',\n",
       "  'Non-White West Asian, North African or Arab (including: Egyptian; Libyan; Lebanese; Iranian; etc.) - Not selected'): 162,\n",
       " ('Global Affairs Canada', 'Black'): 162,\n",
       " ('Public Services and Procurement Canada',\n",
       "  \"A chronic health condition or pain affects ability to function on a regular or episodic basis due to migraines, Crohn's disease, colitis, and other disabilities or health conditions - Not selected\"): 162,\n",
       " ('Global Affairs Canada',\n",
       "  'A mental health issue affects psychology or behaviour, such as anxiety, depression or social / compulsive disorder or phobia or psychiatric illness'): 162,\n",
       " ('Global Affairs Canada', 'Black - Not selected'): 162,\n",
       " ('Employment and Social Development Canada',\n",
       "  'Non-White Latin American (including: Indigenous persons from Central and South America, etc.)'): 162,\n",
       " ('Global Affairs Canada',\n",
       "  'A mental health issue affects psychology or behaviour, such as anxiety, depression or social / compulsive disorder or phobia or psychiatric illness - Not selected'): 162,\n",
       " ('Employment and Social Development Canada',\n",
       "  'Non-White Latin American (including: Indigenous persons from Central and South America, etc.) - Not selected'): 162,\n",
       " ('Public Service', 'Japanese'): 161,\n",
       " ('Public Service', 'Japanese - Not selected'): 161,\n",
       " ('Public Prosecution Service of Canada', 'Prefer not to answer'): 161,\n",
       " ('Correctional Service Canada',\n",
       "  'Person of mixed origin (with one parent in one of the visible minority groups) - Not selected'): 161,\n",
       " ('Office of the Chief Electoral Officer', 'Filipino - Not selected'): 161,\n",
       " ('Correctional Service Canada',\n",
       "  'Person of mixed origin (with one parent in one of the visible minority groups)'): 161,\n",
       " ('Public Services and Procurement Canada',\n",
       "  'A hearing disability affects ability to hear, including being hard of hearing, deafness or acoustic distortion - Not selected'): 161,\n",
       " ('Public Services and Procurement Canada',\n",
       "  'A hearing disability affects ability to hear, including being hard of hearing, deafness or acoustic distortion'): 161,\n",
       " ('Office of the Chief Electoral Officer', 'Japanese - Not selected'): 161,\n",
       " ('Employment and Social Development Canada', 'Gay or lesbian'): 161,\n",
       " ('Office of the Chief Electoral Officer', 'Korean - Not selected'): 161,\n",
       " ('Public Service Commission of Canada', 'Heterosexual'): 161,\n",
       " ('Employment and Social Development Canada',\n",
       "  'Non-White West Asian, North African or Arab (including: Egyptian; Libyan; Lebanese; Iranian; etc.)'): 161,\n",
       " ('Employment and Social Development Canada',\n",
       "  'Non-White West Asian, North African or Arab (including: Egyptian; Libyan; Lebanese; Iranian; etc.) - Not selected'): 161,\n",
       " ('Public Services and Procurement Canada', 'Gay or lesbian'): 161,\n",
       " ('Canadian Food Inspection Agency',\n",
       "  'South Asian/East Indian (including: Indian from India; Bangladeshi; Pakistani; East Indian from Guyana, Trinidad, East Africa; etc.) - Not selected'): 161,\n",
       " ('Immigration, Refugees and Citizenship Canada',\n",
       "  'Non-White West Asian, North African or Arab (including: Egyptian; Libyan; Lebanese; Iranian; etc.) - Not selected'): 161,\n",
       " ('Immigration, Refugees and Citizenship Canada',\n",
       "  'South Asian/East Indian (including: Indian from India; Bangladeshi; Pakistani; East Indian from Guyana, Trinidad, East Africa; etc.)'): 161,\n",
       " ('Shared Services Canada', 'Filipino - Not selected'): 161,\n",
       " ('Innovation, Science and Economic Development Canada',\n",
       "  'Gay or lesbian'): 161,\n",
       " ('Transport Canada', 'Gay or lesbian'): 161,\n",
       " ('Immigration, Refugees and Citizenship Canada',\n",
       "  'Non-White West Asian, North African or Arab (including: Egyptian; Libyan; Lebanese; Iranian; etc.)'): 161,\n",
       " ('Immigration, Refugees and Citizenship Canada',\n",
       "  'South Asian/East Indian (including: Indian from India; Bangladeshi; Pakistani; East Indian from Guyana, Trinidad, East Africa; etc.) - Not selected'): 161,\n",
       " ('Canadian Food Inspection Agency',\n",
       "  'South Asian/East Indian (including: Indian from India; Bangladeshi; Pakistani; East Indian from Guyana, Trinidad, East Africa; etc.)'): 161,\n",
       " ('Correctional Service Canada',\n",
       "  'A hearing disability affects ability to hear, including being hard of hearing, deafness or acoustic distortion - Not selected'): 160,\n",
       " ('National Research Council Canada', 'Person with a disability'): 160,\n",
       " ('Global Affairs Canada',\n",
       "  'Non-White Latin American (including: Indigenous persons from Central and South America, etc.)'): 160,\n",
       " ('National Research Council Canada', 'Not a person with a disability'): 160,\n",
       " ('Global Affairs Canada',\n",
       "  'Non-White Latin American (including: Indigenous persons from Central and South America, etc.) - Not selected'): 160,\n",
       " ('Public Service', 'Inuk (Inuit)'): 160,\n",
       " ('Transport Canada',\n",
       "  'South Asian/East Indian (including: Indian from India; Bangladeshi; Pakistani; East Indian from Guyana, Trinidad, East Africa; etc.) - Not selected'): 160,\n",
       " ('Transport Canada',\n",
       "  'South Asian/East Indian (including: Indian from India; Bangladeshi; Pakistani; East Indian from Guyana, Trinidad, East Africa; etc.)'): 160,\n",
       " ('Innovation, Science and Economic Development Canada',\n",
       "  'Person with a disability'): 160,\n",
       " ('Health Canada',\n",
       "  'Non-White Latin American (including: Indigenous persons from Central and South America, etc.) - Not selected'): 160,\n",
       " ('Canadian Space Agency', 'Heterosexual'): 160,\n",
       " ('Correctional Service Canada',\n",
       "  'A hearing disability affects ability to hear, including being hard of hearing, deafness or acoustic distortion'): 160,\n",
       " ('Innovation, Science and Economic Development Canada',\n",
       "  'Not a person with a disability'): 160,\n",
       " ('Canadian Radio-television and TeleCommunications Commission',\n",
       "  'Heterosexual'): 160,\n",
       " ('National Research Council Canada', 'Female gender'): 159,\n",
       " ('Courts Administration Service', 'Heterosexual'): 159,\n",
       " ('National Research Council Canada', 'Male gender'): 159,\n",
       " ('Micro-organizations combined',\n",
       "  'A mobility issue affects ability to move your body, including the required use of a wheelchair or a cane, or other issues impacting your mobility - Not selected'): 159,\n",
       " ('Royal Canadian Mounted Police', 'Korean - Not selected'): 159,\n",
       " ('Statistics Canada', 'Person with a disability'): 159,\n",
       " ('Treasury Board of Canada Secretariat', 'Male gender'): 159,\n",
       " ('Treasury Board of Canada Secretariat', 'Female gender'): 159,\n",
       " ('Immigration, Refugees and Citizenship Canada',\n",
       "  'Person of mixed origin (with one parent in one of the visible minority groups)'): 159,\n",
       " ('Canada Border Services Agency',\n",
       "  'A sensory / environmental disability affects sensitivity to light, sounds or other distractions, as well as allergens and other environmental sensitivities'): 159,\n",
       " ('Public Services and Procurement Canada', 'Non-Indigenous'): 159,\n",
       " ('Canada Border Services Agency',\n",
       "  'A sensory / environmental disability affects sensitivity to light, sounds or other distractions, as well as allergens and other environmental sensitivities - Not selected'): 159,\n",
       " ('Communications Security Establishment Canada',\n",
       "  'Japanese - Not selected'): 159,\n",
       " ('Immigration, Refugees and Citizenship Canada',\n",
       "  'Person of mixed origin (with one parent in one of the visible minority groups) - Not selected'): 159,\n",
       " ('Public Services and Procurement Canada', 'Korean - Not selected'): 159,\n",
       " ('Public Services and Procurement Canada', 'Indigenous'): 159,\n",
       " ('Statistics Canada', 'Not a person with a disability'): 159,\n",
       " ('Correctional Service Canada',\n",
       "  'A seeing disability affects vision, including total blindness, partial sight and visual distortion'): 158,\n",
       " ('Indigenous Services Canada',\n",
       "  \"A chronic health condition or pain affects ability to function on a regular or episodic basis due to migraines, Crohn's disease, colitis, and other disabilities or health conditions - Not selected\"): 158,\n",
       " ('Correctional Service Canada',\n",
       "  'A seeing disability affects vision, including total blindness, partial sight and visual distortion - Not selected'): 158,\n",
       " ('Canada Border Services Agency',\n",
       "  \"A cognitive disability affects ability to carry out tasks involving executive functioning, such as planning and organization, learning information, communication and memory, including autism or Asperger's syndrome, attention deficit disorder, and learning disabilities\"): 158,\n",
       " ('Employment and Social Development Canada',\n",
       "  'A seeing disability affects vision, including total blindness, partial sight and visual distortion'): 158,\n",
       " ('Canada Border Services Agency',\n",
       "  'Other visible minority group - Not selected'): 158,\n",
       " ('Canada Border Services Agency',\n",
       "  \"A cognitive disability affects ability to carry out tasks involving executive functioning, such as planning and organization, learning information, communication and memory, including autism or Asperger's syndrome, attention deficit disorder, and learning disabilities - Not selected\"): 158,\n",
       " ('Office of the Chief Electoral Officer', 'Heterosexual'): 158,\n",
       " ('Indigenous Services Canada',\n",
       "  \"A chronic health condition or pain affects ability to function on a regular or episodic basis due to migraines, Crohn's disease, colitis, and other disabilities or health conditions\"): 158,\n",
       " ('Health Canada',\n",
       "  'Person of mixed origin (with one parent in one of the visible minority groups) - Not selected'): 158,\n",
       " ('Natural Sciences and Engineering Research Council of Canada',\n",
       "  'Heterosexual'): 158,\n",
       " ('Global Affairs Canada', 'Gay or lesbian'): 158,\n",
       " ('Treasury Board of Canada Secretariat', 'Person with a disability'): 158,\n",
       " ('Communications Security Establishment Canada', 'Male gender'): 158,\n",
       " ('Indigenous Services Canada',\n",
       "  'A mental health issue affects psychology or behaviour, such as anxiety, depression or social / compulsive disorder or phobia or psychiatric illness'): 158,\n",
       " ('Canadian Food Inspection Agency', 'Not a person with a disability'): 158,\n",
       " ('Treasury Board of Canada Secretariat',\n",
       "  'Not a person with a disability'): 158,\n",
       " ('Indigenous Services Canada',\n",
       "  'A mental health issue affects psychology or behaviour, such as anxiety, depression or social / compulsive disorder or phobia or psychiatric illness - Not selected'): 158,\n",
       " ('Health Canada',\n",
       "  'Person of mixed origin (with one parent in one of the visible minority groups)'): 158,\n",
       " ('Communications Security Establishment Canada', 'Female gender'): 158,\n",
       " ('Canadian Food Inspection Agency', 'Person with a disability'): 158,\n",
       " ('Employment and Social Development Canada',\n",
       "  'A seeing disability affects vision, including total blindness, partial sight and visual distortion - Not selected'): 158,\n",
       " ('Canada Border Services Agency', 'Other visible minority group'): 158,\n",
       " ('Parks Canada', 'Non-visible minority'): 158,\n",
       " ('Royal Canadian Mounted Police', 'Indigenous'): 158,\n",
       " ('Royal Canadian Mounted Police', 'Non-Indigenous'): 158,\n",
       " ('Parks Canada', 'Visible minority'): 158,\n",
       " ('Courts Administration Service', 'Korean - Not selected'): 157,\n",
       " ('Global Affairs Canada',\n",
       "  \"A cognitive disability affects ability to carry out tasks involving executive functioning, such as planning and organization, learning information, communication and memory, including autism or Asperger's syndrome, attention deficit disorder, and learning disabilities - Not selected\"): 157,\n",
       " ('Employment and Social Development Canada',\n",
       "  'Southeast Asian (including: Burmese; Cambodian; Laotian; Thai; Vietnamese; etc.)'): 157,\n",
       " ('Health Canada', 'Chinese - Not selected'): 157,\n",
       " ('Canadian Heritage', 'Prefer not to answer'): 157,\n",
       " ('Royal Canadian Mounted Police',\n",
       "  \"A chronic health condition or pain affects ability to function on a regular or episodic basis due to migraines, Crohn's disease, colitis, and other disabilities or health conditions\"): 157,\n",
       " ('Canada Border Services Agency', 'Métis'): 157,\n",
       " ('Natural Resources Canada', 'Non-visible minority'): 157,\n",
       " ('Employment and Social Development Canada', 'Filipino - Not selected'): 157,\n",
       " ('Crown-Indigenous Relations and Northern Affairs Canada',\n",
       "  'Prefer not to answer'): 157,\n",
       " ('Global Affairs Canada',\n",
       "  'South Asian/East Indian (including: Indian from India; Bangladeshi; Pakistani; East Indian from Guyana, Trinidad, East Africa; etc.) - Not selected'): 157,\n",
       " ('Global Affairs Canada',\n",
       "  'South Asian/East Indian (including: Indian from India; Bangladeshi; Pakistani; East Indian from Guyana, Trinidad, East Africa; etc.)'): 157,\n",
       " ('Women and Gender Equality Canada', 'Heterosexual'): 157,\n",
       " ('Administrative Tribunals Support Service of Canada', 'Heterosexual'): 157,\n",
       " ('Crown-Indigenous Relations and Northern Affairs Canada',\n",
       "  'Male gender'): 157,\n",
       " ('Natural Resources Canada', 'Visible minority'): 157,\n",
       " ('Infrastructure Canada', 'Heterosexual'): 157,\n",
       " ('Royal Canadian Mounted Police',\n",
       "  \"A chronic health condition or pain affects ability to function on a regular or episodic basis due to migraines, Crohn's disease, colitis, and other disabilities or health conditions - Not selected\"): 157,\n",
       " ('Employment and Social Development Canada', 'Filipino'): 157,\n",
       " ('Public Services and Procurement Canada',\n",
       "  \"A cognitive disability affects ability to carry out tasks involving executive functioning, such as planning and organization, learning information, communication and memory, including autism or Asperger's syndrome, attention deficit disorder, and learning disabilities - Not selected\"): 157,\n",
       " ('Canada Border Services Agency',\n",
       "  'Person of mixed origin (with one parent in one of the visible minority groups)'): 157,\n",
       " ('Health Canada', 'Chinese'): 157,\n",
       " ('Crown-Indigenous Relations and Northern Affairs Canada',\n",
       "  'Female gender'): 157,\n",
       " ('Employment and Social Development Canada',\n",
       "  'Southeast Asian (including: Burmese; Cambodian; Laotian; Thai; Vietnamese; etc.) - Not selected'): 157,\n",
       " ('Public Services and Procurement Canada',\n",
       "  \"A cognitive disability affects ability to carry out tasks involving executive functioning, such as planning and organization, learning information, communication and memory, including autism or Asperger's syndrome, attention deficit disorder, and learning disabilities\"): 157,\n",
       " ('Canada Border Services Agency',\n",
       "  'Person of mixed origin (with one parent in one of the visible minority groups) - Not selected'): 157,\n",
       " ('Canada Border Services Agency',\n",
       "  'A mobility issue affects ability to move your body, including the required use of a wheelchair or a cane, or other issues impacting your mobility - Not selected'): 156,\n",
       " ('Statistics Canada', 'Non-visible minority'): 156,\n",
       " ('Agriculture and Agri-Food Canada', 'Non-Indigenous'): 156,\n",
       " ('Agriculture and Agri-Food Canada', 'Indigenous'): 156,\n",
       " ('Canada Border Services Agency',\n",
       "  'A mobility issue affects ability to move your body, including the required use of a wheelchair or a cane, or other issues impacting your mobility'): 156,\n",
       " ('Global Affairs Canada', 'Chinese - Not selected'): 156,\n",
       " ('Global Affairs Canada', 'Chinese'): 156,\n",
       " ('Health Canada',\n",
       "  'Non-White West Asian, North African or Arab (including: Egyptian; Libyan; Lebanese; Iranian; etc.)'): 156,\n",
       " ('Health Canada',\n",
       "  'Non-White West Asian, North African or Arab (including: Egyptian; Libyan; Lebanese; Iranian; etc.) - Not selected'): 156,\n",
       " ('Public Services and Procurement Canada',\n",
       "  'A mobility issue affects ability to move your body, including the required use of a wheelchair or a cane, or other issues impacting your mobility'): 156,\n",
       " ('Veterans Affairs Canada',\n",
       "  \"A chronic health condition or pain affects ability to function on a regular or episodic basis due to migraines, Crohn's disease, colitis, and other disabilities or health conditions - Not selected\"): 156,\n",
       " ('Public Services and Procurement Canada',\n",
       "  'A mobility issue affects ability to move your body, including the required use of a wheelchair or a cane, or other issues impacting your mobility - Not selected'): 156,\n",
       " ('Global Affairs Canada',\n",
       "  \"A cognitive disability affects ability to carry out tasks involving executive functioning, such as planning and organization, learning information, communication and memory, including autism or Asperger's syndrome, attention deficit disorder, and learning disabilities\"): 156,\n",
       " ('Parks Canada',\n",
       "  'A mental health issue affects psychology or behaviour, such as anxiety, depression or social / compulsive disorder or phobia or psychiatric illness - Not selected'): 156,\n",
       " ('Environment and Climate Change Canada',\n",
       "  'A mental health issue affects psychology or behaviour, such as anxiety, depression or social / compulsive disorder or phobia or psychiatric illness - Not selected'): 156,\n",
       " ('Parks Canada',\n",
       "  'A mental health issue affects psychology or behaviour, such as anxiety, depression or social / compulsive disorder or phobia or psychiatric illness'): 156,\n",
       " ('Veterans Affairs Canada', 'Male gender'): 156,\n",
       " ('Veterans Affairs Canada',\n",
       "  \"A chronic health condition or pain affects ability to function on a regular or episodic basis due to migraines, Crohn's disease, colitis, and other disabilities or health conditions\"): 156,\n",
       " ('Statistics Canada', 'Visible minority'): 156,\n",
       " ('Environment and Climate Change Canada',\n",
       "  'A mental health issue affects psychology or behaviour, such as anxiety, depression or social / compulsive disorder or phobia or psychiatric illness'): 156,\n",
       " ('Veterans Affairs Canada', 'Female gender'): 156,\n",
       " ('Shared Services Canada', 'Black - Not selected'): 155,\n",
       " ('Health Canada',\n",
       "  'A mental health issue affects psychology or behaviour, such as anxiety, depression or social / compulsive disorder or phobia or psychiatric illness'): 155,\n",
       " ('Correctional Service Canada',\n",
       "  'A sensory / environmental disability affects sensitivity to light, sounds or other distractions, as well as allergens and other environmental sensitivities'): 155,\n",
       " ('Royal Canadian Mounted Police',\n",
       "  'A mental health issue affects psychology or behaviour, such as anxiety, depression or social / compulsive disorder or phobia or psychiatric illness'): 155,\n",
       " ('Royal Canadian Mounted Police',\n",
       "  'A mental health issue affects psychology or behaviour, such as anxiety, depression or social / compulsive disorder or phobia or psychiatric illness - Not selected'): 155,\n",
       " ('Health Canada',\n",
       "  'A mental health issue affects psychology or behaviour, such as anxiety, depression or social / compulsive disorder or phobia or psychiatric illness - Not selected'): 155,\n",
       " ('Correctional Service Canada',\n",
       "  'A sensory / environmental disability affects sensitivity to light, sounds or other distractions, as well as allergens and other environmental sensitivities - Not selected'): 155,\n",
       " ('Statistical Survey Operations', 'Japanese - Not selected'): 155,\n",
       " ('Shared Services Canada', 'Black'): 155,\n",
       " ('Health Canada', 'Black'): 155,\n",
       " ('Fisheries and Oceans Canada', 'Filipino - Not selected'): 155,\n",
       " ('Health Canada', 'Black - Not selected'): 155,\n",
       " ('Department of National Defence', 'Bisexual'): 155,\n",
       " ('Treasury Board of Canada Secretariat', 'Black - Not selected'): 154,\n",
       " ('Treasury Board of Canada Secretariat', 'Black'): 154,\n",
       " ('Parks Canada', 'Non-Indigenous'): 154,\n",
       " ('Parks Canada',\n",
       "  \"A chronic health condition or pain affects ability to function on a regular or episodic basis due to migraines, Crohn's disease, colitis, and other disabilities or health conditions - Not selected\"): 154,\n",
       " ('Public Safety Canada', 'Male gender'): 154,\n",
       " ('Public Health Agency of Canada', 'Female gender'): 154,\n",
       " ('Canadian Heritage', 'Visible minority'): 154,\n",
       " ('Immigration and Refugee Board of Canada', 'Visible minority'): 154,\n",
       " ('Public Safety Canada', 'Female gender'): 154,\n",
       " ('Fisheries and Oceans Canada',\n",
       "  \"A cognitive disability affects ability to carry out tasks involving executive functioning, such as planning and organization, learning information, communication and memory, including autism or Asperger's syndrome, attention deficit disorder, and learning disabilities - Not selected\"): 154,\n",
       " ('Parks Canada',\n",
       "  \"A chronic health condition or pain affects ability to function on a regular or episodic basis due to migraines, Crohn's disease, colitis, and other disabilities or health conditions\"): 154,\n",
       " ('Immigration and Refugee Board of Canada', 'Non-visible minority'): 154,\n",
       " ('Canadian Heritage', 'Non-visible minority'): 154,\n",
       " ('Public Health Agency of Canada', 'Male gender'): 154,\n",
       " ('Parks Canada', 'Indigenous'): 154,\n",
       " ('Fisheries and Oceans Canada',\n",
       "  \"A cognitive disability affects ability to carry out tasks involving executive functioning, such as planning and organization, learning information, communication and memory, including autism or Asperger's syndrome, attention deficit disorder, and learning disabilities\"): 154,\n",
       " ('Canadian Food Inspection Agency', 'Black - Not selected'): 153,\n",
       " ('Canadian Food Inspection Agency', 'Black'): 153,\n",
       " ('National Research Council Canada', 'Visible minority'): 153,\n",
       " ('Micro-organizations combined', 'Prefer not to answer'): 153,\n",
       " ('Statistics Canada', 'Japanese - Not selected'): 153,\n",
       " ('Health Canada',\n",
       "  \"A cognitive disability affects ability to carry out tasks involving executive functioning, such as planning and organization, learning information, communication and memory, including autism or Asperger's syndrome, attention deficit disorder, and learning disabilities - Not selected\"): 153,\n",
       " ('Health Canada',\n",
       "  \"A cognitive disability affects ability to carry out tasks involving executive functioning, such as planning and organization, learning information, communication and memory, including autism or Asperger's syndrome, attention deficit disorder, and learning disabilities\"): 153,\n",
       " ('Canadian Nuclear Safety Commission', 'Male gender'): 153,\n",
       " ('National Research Council Canada', 'Non-visible minority'): 153,\n",
       " ('Department of National Defence',\n",
       "  'A seeing disability affects vision, including total blindness, partial sight and visual distortion - Not selected'): 153,\n",
       " ('Department of National Defence',\n",
       "  'A seeing disability affects vision, including total blindness, partial sight and visual distortion'): 153,\n",
       " ('Canadian Nuclear Safety Commission', 'Non-visible minority'): 153,\n",
       " ('Communications Security Establishment Canada',\n",
       "  'Not a person with a disability'): 153,\n",
       " ('Public Services and Procurement Canada',\n",
       "  'An issue with flexibility or dexterity affects ability to move joints or perform motor tasks, especially with your hands - Not selected'): 153,\n",
       " ('Canada School of Public Service', 'Japanese - Not selected'): 153,\n",
       " ('Public Services and Procurement Canada',\n",
       "  'An issue with flexibility or dexterity affects ability to move joints or perform motor tasks, especially with your hands'): 153,\n",
       " ('Communications Security Establishment Canada',\n",
       "  'Person with a disability'): 153,\n",
       " ('Correctional Service Canada',\n",
       "  'Non-White West Asian, North African or Arab (including: Egyptian; Libyan; Lebanese; Iranian; etc.) - Not selected'): 153,\n",
       " ('Canadian Nuclear Safety Commission', 'Visible minority'): 153,\n",
       " ('Employment and Social Development Canada', 'Métis'): 153,\n",
       " ('Correctional Service Canada',\n",
       "  'Non-White West Asian, North African or Arab (including: Egyptian; Libyan; Lebanese; Iranian; etc.)'): 153,\n",
       " ('Canadian Nuclear Safety Commission', 'Female gender'): 153,\n",
       " ('Public Health Agency of Canada', 'Person with a disability'): 152,\n",
       " ('Crown-Indigenous Relations and Northern Affairs Canada', 'Indigenous'): 152,\n",
       " ('Immigration and Refugee Board of Canada', 'Prefer not to answer'): 152,\n",
       " ('Department of Finance Canada', 'Heterosexual'): 152,\n",
       " ('Crown-Indigenous Relations and Northern Affairs Canada',\n",
       "  'Non-Indigenous'): 152,\n",
       " ('Crown-Indigenous Relations and Northern Affairs Canada',\n",
       "  'First Nation (North American Indian)'): 152,\n",
       " ('Public Health Agency of Canada', 'Not a person with a disability'): 152,\n",
       " ('Environment and Climate Change Canada',\n",
       "  \"A chronic health condition or pain affects ability to function on a regular or episodic basis due to migraines, Crohn's disease, colitis, and other disabilities or health conditions\"): 152,\n",
       " ('Department of National Defence', 'Chinese'): 152,\n",
       " ('Communications Security Establishment Canada', 'Visible minority'): 152,\n",
       " ('Environment and Climate Change Canada',\n",
       "  \"A chronic health condition or pain affects ability to function on a regular or episodic basis due to migraines, Crohn's disease, colitis, and other disabilities or health conditions - Not selected\"): 152,\n",
       " ('Public Services and Procurement Canada',\n",
       "  'Southeast Asian (including: Burmese; Cambodian; Laotian; Thai; Vietnamese; etc.)'): 152,\n",
       " ('Public Services and Procurement Canada',\n",
       "  'Southeast Asian (including: Burmese; Cambodian; Laotian; Thai; Vietnamese; etc.) - Not selected'): 152,\n",
       " ('Environment and Climate Change Canada', 'Korean - Not selected'): 152,\n",
       " ('Environment and Climate Change Canada',\n",
       "  'Non-White Latin American (including: Indigenous persons from Central and South America, etc.) - Not selected'): 152,\n",
       " ('Agriculture and Agri-Food Canada',\n",
       "  'A mental health issue affects psychology or behaviour, such as anxiety, depression or social / compulsive disorder or phobia or psychiatric illness - Not selected'): 152,\n",
       " ('Agriculture and Agri-Food Canada',\n",
       "  'A mental health issue affects psychology or behaviour, such as anxiety, depression or social / compulsive disorder or phobia or psychiatric illness'): 152,\n",
       " ('Canada Border Services Agency',\n",
       "  'Non-White West Asian, North African or Arab (including: Egyptian; Libyan; Lebanese; Iranian; etc.)'): 152,\n",
       " ('Global Affairs Canada',\n",
       "  \"A chronic health condition or pain affects ability to function on a regular or episodic basis due to migraines, Crohn's disease, colitis, and other disabilities or health conditions\"): 152,\n",
       " ('Global Affairs Canada',\n",
       "  \"A chronic health condition or pain affects ability to function on a regular or episodic basis due to migraines, Crohn's disease, colitis, and other disabilities or health conditions - Not selected\"): 152,\n",
       " ('Transport Canada',\n",
       "  'A mental health issue affects psychology or behaviour, such as anxiety, depression or social / compulsive disorder or phobia or psychiatric illness - Not selected'): 152,\n",
       " ('Communications Security Establishment Canada', 'Non-visible minority'): 152,\n",
       " ('Transport Canada',\n",
       "  'A mental health issue affects psychology or behaviour, such as anxiety, depression or social / compulsive disorder or phobia or psychiatric illness'): 152,\n",
       " ('Agriculture and Agri-Food Canada',\n",
       "  \"A chronic health condition or pain affects ability to function on a regular or episodic basis due to migraines, Crohn's disease, colitis, and other disabilities or health conditions - Not selected\"): 152,\n",
       " ('Canada Border Services Agency',\n",
       "  'Non-White West Asian, North African or Arab (including: Egyptian; Libyan; Lebanese; Iranian; etc.) - Not selected'): 152,\n",
       " ('Agriculture and Agri-Food Canada',\n",
       "  \"A chronic health condition or pain affects ability to function on a regular or episodic basis due to migraines, Crohn's disease, colitis, and other disabilities or health conditions\"): 152,\n",
       " ('Health Canada',\n",
       "  \"A chronic health condition or pain affects ability to function on a regular or episodic basis due to migraines, Crohn's disease, colitis, and other disabilities or health conditions\"): 152,\n",
       " ('Department of National Defence', 'Chinese - Not selected'): 152,\n",
       " ('Health Canada',\n",
       "  \"A chronic health condition or pain affects ability to function on a regular or episodic basis due to migraines, Crohn's disease, colitis, and other disabilities or health conditions - Not selected\"): 152,\n",
       " ('Public Health Agency of Canada', 'Prefer not to answer'): 151,\n",
       " ('Public Prosecution Service of Canada', 'Non-visible minority'): 151,\n",
       " ('Department of Justice',\n",
       "  'South Asian/East Indian (including: Indian from India; Bangladeshi; Pakistani; East Indian from Guyana, Trinidad, East Africa; etc.)'): 151,\n",
       " ('Veterans Affairs Canada', 'Filipino - Not selected'): 151,\n",
       " ('Transport Canada',\n",
       "  \"A chronic health condition or pain affects ability to function on a regular or episodic basis due to migraines, Crohn's disease, colitis, and other disabilities or health conditions - Not selected\"): 151,\n",
       " ('Transport Canada',\n",
       "  \"A chronic health condition or pain affects ability to function on a regular or episodic basis due to migraines, Crohn's disease, colitis, and other disabilities or health conditions\"): 151,\n",
       " ('Public Safety Canada', 'Visible minority'): 151,\n",
       " ('Immigration, Refugees and Citizenship Canada',\n",
       "  'A mental health issue affects psychology or behaviour, such as anxiety, depression or social / compulsive disorder or phobia or psychiatric illness'): 151,\n",
       " ('Immigration, Refugees and Citizenship Canada',\n",
       "  'A mental health issue affects psychology or behaviour, such as anxiety, depression or social / compulsive disorder or phobia or psychiatric illness - Not selected'): 151,\n",
       " ('Innovation, Science and Economic Development Canada',\n",
       "  'Non-White West Asian, North African or Arab (including: Egyptian; Libyan; Lebanese; Iranian; etc.)'): 151,\n",
       " ('Innovation, Science and Economic Development Canada',\n",
       "  'Non-White West Asian, North African or Arab (including: Egyptian; Libyan; Lebanese; Iranian; etc.) - Not selected'): 151,\n",
       " ('Public Health Agency of Canada',\n",
       "  'Person of mixed origin (with one parent in one of the visible minority groups) - Not selected'): 151,\n",
       " ('Department of Justice', 'Indigenous'): 151,\n",
       " ('Canadian Space Agency', 'Japanese - Not selected'): 151,\n",
       " ('Immigration, Refugees and Citizenship Canada', 'Chinese'): 151,\n",
       " ('Immigration, Refugees and Citizenship Canada',\n",
       "  'Chinese - Not selected'): 151,\n",
       " ('Micro-organizations combined', 'Female gender'): 151,\n",
       " ('Canadian Heritage', 'Not a person with a disability'): 151,\n",
       " ('Micro-organizations combined', 'Male gender'): 151,\n",
       " ('Canadian Heritage', 'Person with a disability'): 151,\n",
       " ('Public Services and Procurement Canada', 'Bisexual'): 151,\n",
       " ('Crown-Indigenous Relations and Northern Affairs Canada',\n",
       "  'Not a person with a disability'): 151,\n",
       " ('Crown-Indigenous Relations and Northern Affairs Canada',\n",
       "  'Person with a disability'): 151,\n",
       " ('Department of Justice',\n",
       "  'South Asian/East Indian (including: Indian from India; Bangladeshi; Pakistani; East Indian from Guyana, Trinidad, East Africa; etc.) - Not selected'): 151,\n",
       " ('Department of Justice', 'Non-Indigenous'): 151,\n",
       " ('Agriculture and Agri-Food Canada',\n",
       "  'South Asian/East Indian (including: Indian from India; Bangladeshi; Pakistani; East Indian from Guyana, Trinidad, East Africa; etc.)'): 151,\n",
       " ('Public Safety Canada', 'Non-visible minority'): 151,\n",
       " ('Public Prosecution Service of Canada', 'Visible minority'): 151,\n",
       " ('Agriculture and Agri-Food Canada',\n",
       "  'South Asian/East Indian (including: Indian from India; Bangladeshi; Pakistani; East Indian from Guyana, Trinidad, East Africa; etc.) - Not selected'): 151,\n",
       " ('Shared Services Canada',\n",
       "  'Non-White West Asian, North African or Arab (including: Egyptian; Libyan; Lebanese; Iranian; etc.) - Not selected'): 151,\n",
       " ('Indigenous Services Canada', 'Black - Not selected'): 151,\n",
       " ('Indigenous Services Canada', 'Black'): 151,\n",
       " ('Shared Services Canada',\n",
       "  'Non-White West Asian, North African or Arab (including: Egyptian; Libyan; Lebanese; Iranian; etc.)'): 151,\n",
       " ('Crown-Indigenous Relations and Northern Affairs Canada',\n",
       "  'Non-visible minority'): 150,\n",
       " ('Veterans Affairs Canada', 'Non-visible minority'): 150,\n",
       " ('Parks Canada',\n",
       "  \"A cognitive disability affects ability to carry out tasks involving executive functioning, such as planning and organization, learning information, communication and memory, including autism or Asperger's syndrome, attention deficit disorder, and learning disabilities - Not selected\"): 150,\n",
       " ('Parks Canada',\n",
       "  \"A cognitive disability affects ability to carry out tasks involving executive functioning, such as planning and organization, learning information, communication and memory, including autism or Asperger's syndrome, attention deficit disorder, and learning disabilities\"): 150,\n",
       " ('Veterans Affairs Canada', 'Visible minority'): 150,\n",
       " ('Canada Revenue Agency', 'Bisexual'): 150,\n",
       " ('Transport Canada', 'Black - Not selected'): 150,\n",
       " ('Transport Canada', 'Black'): 150,\n",
       " ('Communications Security Establishment Canada', 'Prefer not to answer'): 150,\n",
       " ('Shared Services Canada', 'Non-Indigenous'): 150,\n",
       " ('Immigration and Refugee Board of Canada', 'Female gender'): 150,\n",
       " ('Crown-Indigenous Relations and Northern Affairs Canada',\n",
       "  'Visible minority'): 150,\n",
       " ('Immigration and Refugee Board of Canada', 'Male gender'): 150,\n",
       " ('Shared Services Canada', 'Indigenous'): 150,\n",
       " ('Canada Energy Regulator', 'Prefer not to answer'): 149,\n",
       " ('Canadian Food Inspection Agency',\n",
       "  'A mental health issue affects psychology or behaviour, such as anxiety, depression or social / compulsive disorder or phobia or psychiatric illness - Not selected'): 149,\n",
       " ('Treasury Board of Canada Secretariat',\n",
       "  'A mental health issue affects psychology or behaviour, such as anxiety, depression or social / compulsive disorder or phobia or psychiatric illness'): 149,\n",
       " ('Statistical Survey Operations', 'Person with a disability'): 149,\n",
       " ('Veterans Affairs Canada',\n",
       "  'A mental health issue affects psychology or behaviour, such as anxiety, depression or social / compulsive disorder or phobia or psychiatric illness - Not selected'): 149,\n",
       " ('Veterans Affairs Canada',\n",
       "  'A mental health issue affects psychology or behaviour, such as anxiety, depression or social / compulsive disorder or phobia or psychiatric illness'): 149,\n",
       " ('Canadian Radio-television and TeleCommunications Commission',\n",
       "  'Female gender'): 149,\n",
       " ('Canadian Radio-television and TeleCommunications Commission',\n",
       "  'Male gender'): 149,\n",
       " ('Department of National Defence',\n",
       "  'Person of mixed origin (with one parent in one of the visible minority groups)'): 149,\n",
       " ('Canadian Food Inspection Agency', 'Chinese'): 149,\n",
       " ('Department of National Defence',\n",
       "  'Person of mixed origin (with one parent in one of the visible minority groups) - Not selected'): 149,\n",
       " ('Statistical Survey Operations', 'Not a person with a disability'): 149,\n",
       " ('Canadian Food Inspection Agency', 'Chinese - Not selected'): 149,\n",
       " ('Canadian Heritage', 'Male gender'): 149,\n",
       " ('Shared Services Canada',\n",
       "  'A mental health issue affects psychology or behaviour, such as anxiety, depression or social / compulsive disorder or phobia or psychiatric illness - Not selected'): 149,\n",
       " ('Treasury Board of Canada Secretariat',\n",
       "  'A mental health issue affects psychology or behaviour, such as anxiety, depression or social / compulsive disorder or phobia or psychiatric illness - Not selected'): 149,\n",
       " ('Shared Services Canada',\n",
       "  'A mental health issue affects psychology or behaviour, such as anxiety, depression or social / compulsive disorder or phobia or psychiatric illness'): 149,\n",
       " ('Canadian Food Inspection Agency',\n",
       "  'A mental health issue affects psychology or behaviour, such as anxiety, depression or social / compulsive disorder or phobia or psychiatric illness'): 149,\n",
       " ('Canadian Heritage', 'Female gender'): 149,\n",
       " ('Public Services and Procurement Canada',\n",
       "  'Person of mixed origin (with one parent in one of the visible minority groups) - Not selected'): 148,\n",
       " ('Canadian Institutes of Health Research', 'Heterosexual'): 148,\n",
       " ('Statistical Survey Operations', 'Male gender'): 148,\n",
       " ('Royal Canadian Mounted Police',\n",
       "  'A mobility issue affects ability to move your body, including the required use of a wheelchair or a cane, or other issues impacting your mobility'): 148,\n",
       " ('Office of the Auditor General of Canada', 'Japanese - Not selected'): 148,\n",
       " ('Royal Canadian Mounted Police',\n",
       "  'A mobility issue affects ability to move your body, including the required use of a wheelchair or a cane, or other issues impacting your mobility - Not selected'): 148,\n",
       " ('Canada Energy Regulator', 'Male gender'): 148,\n",
       " ('Statistical Survey Operations', 'Female gender'): 148,\n",
       " ('Indigenous Services Canada',\n",
       "  'A seeing disability affects vision, including total blindness, partial sight and visual distortion - Not selected'): 148,\n",
       " ('Canada Energy Regulator', 'Female gender'): 148,\n",
       " ('Public Services and Procurement Canada',\n",
       "  'Person of mixed origin (with one parent in one of the visible minority groups)'): 148,\n",
       " ('Canada Revenue Agency', 'Another sexual orientation'): 148,\n",
       " ('Agriculture and Agri-Food Canada', 'Chinese'): 147,\n",
       " ('Department of Justice',\n",
       "  \"A chronic health condition or pain affects ability to function on a regular or episodic basis due to migraines, Crohn's disease, colitis, and other disabilities or health conditions\"): 147,\n",
       " ('Agriculture and Agri-Food Canada', 'Chinese - Not selected'): 147,\n",
       " ('Innovation, Science and Economic Development Canada',\n",
       "  'A mental health issue affects psychology or behaviour, such as anxiety, depression or social / compulsive disorder or phobia or psychiatric illness - Not selected'): 147,\n",
       " ('Innovation, Science and Economic Development Canada', 'Black'): 147,\n",
       " ('Innovation, Science and Economic Development Canada',\n",
       "  'A mental health issue affects psychology or behaviour, such as anxiety, depression or social / compulsive disorder or phobia or psychiatric illness'): 147,\n",
       " ('Department of Justice',\n",
       "  \"A chronic health condition or pain affects ability to function on a regular or episodic basis due to migraines, Crohn's disease, colitis, and other disabilities or health conditions - Not selected\"): 147,\n",
       " ('National Research Council Canada', 'Prefer not to answer'): 147,\n",
       " ('Innovation, Science and Economic Development Canada',\n",
       "  'Black - Not selected'): 147,\n",
       " ('Innovation, Science and Economic Development Canada', 'Bisexual'): 147,\n",
       " ('Canada Energy Regulator', 'Visible minority'): 147,\n",
       " ('Public Safety Canada', 'Not a person with a disability'): 147,\n",
       " ('Public Safety Canada', 'Person with a disability'): 147,\n",
       " ('Royal Canadian Mounted Police',\n",
       "  'Other disability (including: learning disabilities, developmental disabilities and all other types of disabilities)'): 147,\n",
       " ('Canada Energy Regulator', 'Non-visible minority'): 147,\n",
       " ('Royal Canadian Mounted Police',\n",
       "  'An issue with flexibility or dexterity affects ability to move joints or perform motor tasks, especially with your hands - Not selected'): 147,\n",
       " ('Shared Services Canada',\n",
       "  \"A chronic health condition or pain affects ability to function on a regular or episodic basis due to migraines, Crohn's disease, colitis, and other disabilities or health conditions\"): 147,\n",
       " ('Shared Services Canada',\n",
       "  \"A chronic health condition or pain affects ability to function on a regular or episodic basis due to migraines, Crohn's disease, colitis, and other disabilities or health conditions - Not selected\"): 147,\n",
       " ('Royal Canadian Mounted Police',\n",
       "  'An issue with flexibility or dexterity affects ability to move joints or perform motor tasks, especially with your hands'): 147,\n",
       " ('Royal Canadian Mounted Police',\n",
       "  'Other disability (including: learning disabilities, developmental disabilities and all other types of disabilities) - Not selected'): 147,\n",
       " ('Public Service Commission of Canada', 'Person with a disability'): 146,\n",
       " ('Public Service Commission of Canada',\n",
       "  'Not a person with a disability'): 146,\n",
       " ('Canadian Space Agency', 'Chinese - Not selected'): 146,\n",
       " ('Global Affairs Canada',\n",
       "  'Other disability (including: learning disabilities, developmental disabilities and all other types of disabilities)'): 146,\n",
       " ('Global Affairs Canada',\n",
       "  'Other disability (including: learning disabilities, developmental disabilities and all other types of disabilities) - Not selected'): 146,\n",
       " ('Department of Justice', 'Black'): 146,\n",
       " ('Employment and Social Development Canada',\n",
       "  'An intellectual disability affects your ability to learn and to adapt behaviour to different situations'): 146,\n",
       " ('Department of Justice', 'Black - Not selected'): 146,\n",
       " ('Employment and Social Development Canada',\n",
       "  'An intellectual disability affects your ability to learn and to adapt behaviour to different situations - Not selected'): 146,\n",
       " ('Agriculture and Agri-Food Canada', 'Métis'): 146,\n",
       " ('Canadian Food Inspection Agency',\n",
       "  \"A chronic health condition or pain affects ability to function on a regular or episodic basis due to migraines, Crohn's disease, colitis, and other disabilities or health conditions\"): 146,\n",
       " ('Immigration, Refugees and Citizenship Canada',\n",
       "  \"A chronic health condition or pain affects ability to function on a regular or episodic basis due to migraines, Crohn's disease, colitis, and other disabilities or health conditions - Not selected\"): 146,\n",
       " ('Immigration, Refugees and Citizenship Canada',\n",
       "  \"A chronic health condition or pain affects ability to function on a regular or episodic basis due to migraines, Crohn's disease, colitis, and other disabilities or health conditions\"): 146,\n",
       " ('Employment and Social Development Canada',\n",
       "  'Another sexual orientation'): 146,\n",
       " ('Fisheries and Oceans Canada',\n",
       "  'A mobility issue affects ability to move your body, including the required use of a wheelchair or a cane, or other issues impacting your mobility'): 146,\n",
       " ('Indigenous Services Canada', 'Gay or lesbian'): 146,\n",
       " ('Canadian Food Inspection Agency',\n",
       "  \"A chronic health condition or pain affects ability to function on a regular or episodic basis due to migraines, Crohn's disease, colitis, and other disabilities or health conditions - Not selected\"): 146,\n",
       " ('Public Safety Canada', 'Prefer not to answer'): 146,\n",
       " ('Privy Council Office', 'Female gender'): 146,\n",
       " ('Environment and Climate Change Canada', 'Filipino - Not selected'): 146,\n",
       " ('Canadian Grain Commission', 'Heterosexual'): 146,\n",
       " ('Royal Canadian Mounted Police',\n",
       "  'South Asian/East Indian (including: Indian from India; Bangladeshi; Pakistani; East Indian from Guyana, Trinidad, East Africa; etc.)'): 146,\n",
       " ('Fisheries and Oceans Canada',\n",
       "  'A mobility issue affects ability to move your body, including the required use of a wheelchair or a cane, or other issues impacting your mobility - Not selected'): 146,\n",
       " ('Parks Canada',\n",
       "  'Other disability (including: learning disabilities, developmental disabilities and all other types of disabilities)'): 146,\n",
       " ('Privy Council Office', 'Male gender'): 146,\n",
       " ('Parks Canada',\n",
       "  'Other disability (including: learning disabilities, developmental disabilities and all other types of disabilities) - Not selected'): 146,\n",
       " ('Fisheries and Oceans Canada',\n",
       "  'Other disability (including: learning disabilities, developmental disabilities and all other types of disabilities)'): 146,\n",
       " ('Fisheries and Oceans Canada',\n",
       "  'Other disability (including: learning disabilities, developmental disabilities and all other types of disabilities) - Not selected'): 146,\n",
       " ('Royal Canadian Mounted Police',\n",
       "  'South Asian/East Indian (including: Indian from India; Bangladeshi; Pakistani; East Indian from Guyana, Trinidad, East Africa; etc.) - Not selected'): 146,\n",
       " ('Employment and Social Development Canada', 'Gender diverse'): 145,\n",
       " ('Public Prosecution Service of Canada', 'Male gender'): 145,\n",
       " ('Courts Administration Service', 'Visible minority'): 145,\n",
       " ('Courts Administration Service', 'Non-visible minority'): 145,\n",
       " ('Shared Services Canada',\n",
       "  'Other disability (including: learning disabilities, developmental disabilities and all other types of disabilities)'): 145,\n",
       " ('Environment and Climate Change Canada',\n",
       "  'Other disability (including: learning disabilities, developmental disabilities and all other types of disabilities) - Not selected'): 145,\n",
       " ('Environment and Climate Change Canada',\n",
       "  'Other disability (including: learning disabilities, developmental disabilities and all other types of disabilities)'): 145,\n",
       " ('Atlantic Canada Opportunities Agency', 'Heterosexual'): 145,\n",
       " ('Shared Services Canada',\n",
       "  'Other disability (including: learning disabilities, developmental disabilities and all other types of disabilities) - Not selected'): 145,\n",
       " ('Global Affairs Canada',\n",
       "  'A mobility issue affects ability to move your body, including the required use of a wheelchair or a cane, or other issues impacting your mobility - Not selected'): 145,\n",
       " ('Public Service Commission of Canada', 'Visible minority'): 145,\n",
       " ('Global Affairs Canada',\n",
       "  'A mobility issue affects ability to move your body, including the required use of a wheelchair or a cane, or other issues impacting your mobility'): 145,\n",
       " ('Canadian Transportation Agency', 'Heterosexual'): 145,\n",
       " ('Public Prosecution Service of Canada', 'Female gender'): 145,\n",
       " ('Public Prosecution Service of Canada', 'Person with a disability'): 145,\n",
       " ('Public Prosecution Service of Canada',\n",
       "  'Not a person with a disability'): 145,\n",
       " ('Courts Administration Service', 'Male gender'): 144,\n",
       " ('Privy Council Office', 'Visible minority'): 144,\n",
       " ('Canada Revenue Agency',\n",
       "  'An intellectual disability affects your ability to learn and to adapt behaviour to different situations - Not selected'): 144,\n",
       " ('Shared Services Canada',\n",
       "  'A mobility issue affects ability to move your body, including the required use of a wheelchair or a cane, or other issues impacting your mobility - Not selected'): 144,\n",
       " ('Treasury Board of Canada Secretariat',\n",
       "  \"A chronic health condition or pain affects ability to function on a regular or episodic basis due to migraines, Crohn's disease, colitis, and other disabilities or health conditions - Not selected\"): 144,\n",
       " ('Statistics Canada',\n",
       "  'A mental health issue affects psychology or behaviour, such as anxiety, depression or social / compulsive disorder or phobia or psychiatric illness - Not selected'): 144,\n",
       " ('Canada Border Services Agency',\n",
       "  'A seeing disability affects vision, including total blindness, partial sight and visual distortion'): 144,\n",
       " ('Canada Border Services Agency',\n",
       "  'A seeing disability affects vision, including total blindness, partial sight and visual distortion - Not selected'): 144,\n",
       " ('Privy Council Office', 'Non-visible minority'): 144,\n",
       " ('Public Service Commission of Canada', 'Non-visible minority'): 144,\n",
       " ('Statistics Canada',\n",
       "  'A mental health issue affects psychology or behaviour, such as anxiety, depression or social / compulsive disorder or phobia or psychiatric illness'): 144,\n",
       " ('Treasury Board of Canada Secretariat',\n",
       "  \"A chronic health condition or pain affects ability to function on a regular or episodic basis due to migraines, Crohn's disease, colitis, and other disabilities or health conditions\"): 144,\n",
       " ('Courts Administration Service', 'Female gender'): 144,\n",
       " ('Transport Canada', 'Filipino - Not selected'): 144,\n",
       " ('Micro-organizations combined', 'Person with a disability'): 144,\n",
       " ('Environment and Climate Change Canada',\n",
       "  'South Asian/East Indian (including: Indian from India; Bangladeshi; Pakistani; East Indian from Guyana, Trinidad, East Africa; etc.)'): 144,\n",
       " ('Health Canada',\n",
       "  'A mobility issue affects ability to move your body, including the required use of a wheelchair or a cane, or other issues impacting your mobility'): 144,\n",
       " ('Environment and Climate Change Canada',\n",
       "  'South Asian/East Indian (including: Indian from India; Bangladeshi; Pakistani; East Indian from Guyana, Trinidad, East Africa; etc.) - Not selected'): 144,\n",
       " ('Immigration, Refugees and Citizenship Canada',\n",
       "  'A mobility issue affects ability to move your body, including the required use of a wheelchair or a cane, or other issues impacting your mobility'): 144,\n",
       " ('Immigration, Refugees and Citizenship Canada',\n",
       "  'A mobility issue affects ability to move your body, including the required use of a wheelchair or a cane, or other issues impacting your mobility - Not selected'): 144,\n",
       " ('Health Canada',\n",
       "  'A mobility issue affects ability to move your body, including the required use of a wheelchair or a cane, or other issues impacting your mobility - Not selected'): 144,\n",
       " ('Shared Services Canada',\n",
       "  'A mobility issue affects ability to move your body, including the required use of a wheelchair or a cane, or other issues impacting your mobility'): 144,\n",
       " ('Shared Services Canada',\n",
       "  \"A cognitive disability affects ability to carry out tasks involving executive functioning, such as planning and organization, learning information, communication and memory, including autism or Asperger's syndrome, attention deficit disorder, and learning disabilities - Not selected\"): 144,\n",
       " ('Micro-organizations combined', 'Not a person with a disability'): 144,\n",
       " ('Environment and Climate Change Canada', 'Chinese - Not selected'): 144,\n",
       " ('Environment and Climate Change Canada', 'Chinese'): 144,\n",
       " ('Canada Revenue Agency',\n",
       "  'An intellectual disability affects your ability to learn and to adapt behaviour to different situations'): 144,\n",
       " ('Shared Services Canada',\n",
       "  'South Asian/East Indian (including: Indian from India; Bangladeshi; Pakistani; East Indian from Guyana, Trinidad, East Africa; etc.) - Not selected'): 143,\n",
       " ('Shared Services Canada',\n",
       "  'South Asian/East Indian (including: Indian from India; Bangladeshi; Pakistani; East Indian from Guyana, Trinidad, East Africa; etc.)'): 143,\n",
       " ('Social Sciences and Humanities Research Council of Canada',\n",
       "  'Heterosexual'): 143,\n",
       " ('Public Service Commission of Canada', 'Prefer not to answer'): 143,\n",
       " ('Statistical Survey Operations', 'Visible minority'): 143,\n",
       " ('Department of National Defence',\n",
       "  'Non-White Latin American (including: Indigenous persons from Central and South America, etc.)'): 143,\n",
       " ('Department of National Defence',\n",
       "  'Non-White Latin American (including: Indigenous persons from Central and South America, etc.) - Not selected'): 143,\n",
       " ('Statistical Survey Operations', 'Non-visible minority'): 143,\n",
       " ('Shared Services Canada',\n",
       "  \"A cognitive disability affects ability to carry out tasks involving executive functioning, such as planning and organization, learning information, communication and memory, including autism or Asperger's syndrome, attention deficit disorder, and learning disabilities\"): 143,\n",
       " ('Veterans Affairs Canada',\n",
       "  'A mobility issue affects ability to move your body, including the required use of a wheelchair or a cane, or other issues impacting your mobility'): 143,\n",
       " ('Environment and Climate Change Canada', 'Indigenous'): 143,\n",
       " ('Canadian Food Inspection Agency',\n",
       "  \"A cognitive disability affects ability to carry out tasks involving executive functioning, such as planning and organization, learning information, communication and memory, including autism or Asperger's syndrome, attention deficit disorder, and learning disabilities\"): 143,\n",
       " ('Veterans Affairs Canada',\n",
       "  'A mobility issue affects ability to move your body, including the required use of a wheelchair or a cane, or other issues impacting your mobility - Not selected'): 143,\n",
       " ('Indigenous Services Canada',\n",
       "  'South Asian/East Indian (including: Indian from India; Bangladeshi; Pakistani; East Indian from Guyana, Trinidad, East Africa; etc.) - Not selected'): 143,\n",
       " ('Indigenous Services Canada',\n",
       "  'South Asian/East Indian (including: Indian from India; Bangladeshi; Pakistani; East Indian from Guyana, Trinidad, East Africa; etc.)'): 143,\n",
       " ('Transport Canada', 'Japanese - Not selected'): 143,\n",
       " ('Environment and Climate Change Canada', 'Non-Indigenous'): 143,\n",
       " ('Canadian Food Inspection Agency',\n",
       "  \"A cognitive disability affects ability to carry out tasks involving executive functioning, such as planning and organization, learning information, communication and memory, including autism or Asperger's syndrome, attention deficit disorder, and learning disabilities - Not selected\"): 143,\n",
       " ('Canadian Space Agency', 'Non-visible minority'): 142,\n",
       " ('Health Canada',\n",
       "  'A sensory / environmental disability affects sensitivity to light, sounds or other distractions, as well as allergens and other environmental sensitivities'): 142,\n",
       " ('Innovation, Science and Economic Development Canada',\n",
       "  \"A chronic health condition or pain affects ability to function on a regular or episodic basis due to migraines, Crohn's disease, colitis, and other disabilities or health conditions\"): 142,\n",
       " ('Health Canada',\n",
       "  'A sensory / environmental disability affects sensitivity to light, sounds or other distractions, as well as allergens and other environmental sensitivities - Not selected'): 142,\n",
       " ('Public Service Commission of Canada', 'Male gender'): 142,\n",
       " ('Fisheries and Oceans Canada',\n",
       "  'A seeing disability affects vision, including total blindness, partial sight and visual distortion - Not selected'): 142,\n",
       " ('Environment and Climate Change Canada',\n",
       "  \"A cognitive disability affects ability to carry out tasks involving executive functioning, such as planning and organization, learning information, communication and memory, including autism or Asperger's syndrome, attention deficit disorder, and learning disabilities\"): 142,\n",
       " ('Public Service Commission of Canada', 'Female gender'): 142,\n",
       " ('Fisheries and Oceans Canada',\n",
       "  'A seeing disability affects vision, including total blindness, partial sight and visual distortion'): 142,\n",
       " ('Indigenous Services Canada',\n",
       "  'Other disability (including: learning disabilities, developmental disabilities and all other types of disabilities)'): 142,\n",
       " ('Innovation, Science and Economic Development Canada',\n",
       "  \"A chronic health condition or pain affects ability to function on a regular or episodic basis due to migraines, Crohn's disease, colitis, and other disabilities or health conditions - Not selected\"): 142,\n",
       " ('Indigenous Services Canada',\n",
       "  'Other disability (including: learning disabilities, developmental disabilities and all other types of disabilities) - Not selected'): 142,\n",
       " ('National Film Board of Canada', 'Heterosexual'): 142,\n",
       " ('Shared Services Canada', 'Gay or lesbian'): 142,\n",
       " ('Health Canada',\n",
       "  'Other disability (including: learning disabilities, developmental disabilities and all other types of disabilities) - Not selected'): 142,\n",
       " ('Health Canada',\n",
       "  'Other disability (including: learning disabilities, developmental disabilities and all other types of disabilities)'): 142,\n",
       " ('Canadian Nuclear Safety Commission',\n",
       "  'Person of mixed origin (with one parent in one of the visible minority groups) - Not selected'): 142,\n",
       " ('Environment and Climate Change Canada',\n",
       "  \"A cognitive disability affects ability to carry out tasks involving executive functioning, such as planning and organization, learning information, communication and memory, including autism or Asperger's syndrome, attention deficit disorder, and learning disabilities - Not selected\"): 142,\n",
       " ('Canadian Nuclear Safety Commission', 'Person with a disability'): 142,\n",
       " ('Canadian Space Agency', 'Visible minority'): 142,\n",
       " ('Canadian Nuclear Safety Commission', 'Not a person with a disability'): 142,\n",
       " ('Department of Justice',\n",
       "  'A mental health issue affects psychology or behaviour, such as anxiety, depression or social / compulsive disorder or phobia or psychiatric illness'): 142,\n",
       " ('Immigration and Refugee Board of Canada',\n",
       "  'Non-White West Asian, North African or Arab (including: Egyptian; Libyan; Lebanese; Iranian; etc.) - Not selected'): 142,\n",
       " ('Department of Justice',\n",
       "  'A mental health issue affects psychology or behaviour, such as anxiety, depression or social / compulsive disorder or phobia or psychiatric illness - Not selected'): 142,\n",
       " ('Fisheries and Oceans Canada',\n",
       "  'South Asian/East Indian (including: Indian from India; Bangladeshi; Pakistani; East Indian from Guyana, Trinidad, East Africa; etc.) - Not selected'): 141,\n",
       " ('Royal Canadian Mounted Police',\n",
       "  'A hearing disability affects ability to hear, including being hard of hearing, deafness or acoustic distortion - Not selected'): 141,\n",
       " ('Environment and Climate Change Canada',\n",
       "  'A hearing disability affects ability to hear, including being hard of hearing, deafness or acoustic distortion - Not selected'): 141,\n",
       " ('Environment and Climate Change Canada',\n",
       "  'A hearing disability affects ability to hear, including being hard of hearing, deafness or acoustic distortion'): 141,\n",
       " ('Royal Canadian Mounted Police',\n",
       "  'A sensory / environmental disability affects sensitivity to light, sounds or other distractions, as well as allergens and other environmental sensitivities'): 141,\n",
       " ('Royal Canadian Mounted Police',\n",
       "  'A sensory / environmental disability affects sensitivity to light, sounds or other distractions, as well as allergens and other environmental sensitivities - Not selected'): 141,\n",
       " ('Fisheries and Oceans Canada',\n",
       "  'South Asian/East Indian (including: Indian from India; Bangladeshi; Pakistani; East Indian from Guyana, Trinidad, East Africa; etc.)'): 141,\n",
       " ('Indigenous Services Canada',\n",
       "  'A hearing disability affects ability to hear, including being hard of hearing, deafness or acoustic distortion'): 141,\n",
       " ('Royal Canadian Mounted Police',\n",
       "  'A hearing disability affects ability to hear, including being hard of hearing, deafness or acoustic distortion'): 141,\n",
       " ('Indigenous Services Canada',\n",
       "  'A hearing disability affects ability to hear, including being hard of hearing, deafness or acoustic distortion - Not selected'): 141,\n",
       " ('Canada School of Public Service', 'Female gender'): 141,\n",
       " ('Canada School of Public Service', 'Male gender'): 141,\n",
       " ('Agriculture and Agri-Food Canada', 'Black - Not selected'): 140,\n",
       " ('Office of the Chief Electoral Officer', 'Visible minority'): 140,\n",
       " ('Office of the Chief Electoral Officer', 'Non-visible minority'): 140,\n",
       " ('Women and Gender Equality Canada', 'Korean - Not selected'): 140,\n",
       " ('Immigration, Refugees and Citizenship Canada',\n",
       "  \"A cognitive disability affects ability to carry out tasks involving executive functioning, such as planning and organization, learning information, communication and memory, including autism or Asperger's syndrome, attention deficit disorder, and learning disabilities - Not selected\"): 140,\n",
       " ('Women and Gender Equality Canada', 'Japanese - Not selected'): 140,\n",
       " ('Agriculture and Agri-Food Canada', 'Black'): 140,\n",
       " ('Office of the Auditor General of Canada',\n",
       "  'Non-White West Asian, North African or Arab (including: Egyptian; Libyan; Lebanese; Iranian; etc.) - Not selected'): 140,\n",
       " ('Privy Council Office', 'Prefer not to answer'): 140,\n",
       " ('Canada School of Public Service', 'Visible minority'): 140,\n",
       " ('Canada School of Public Service', 'Non-visible minority'): 140,\n",
       " ('Immigration and Refugee Board of Canada', 'Black - Not selected'): 140,\n",
       " ('Immigration and Refugee Board of Canada', 'Black'): 140,\n",
       " ('Canadian Food Inspection Agency',\n",
       "  'Non-White West Asian, North African or Arab (including: Egyptian; Libyan; Lebanese; Iranian; etc.)'): 139,\n",
       " ('Library and Archives Canada', 'Female gender'): 139,\n",
       " ('Canadian Food Inspection Agency',\n",
       "  'Non-White West Asian, North African or Arab (including: Egyptian; Libyan; Lebanese; Iranian; etc.) - Not selected'): 139,\n",
       " ('Library and Archives Canada', 'Male gender'): 139,\n",
       " ('Public Services and Procurement Canada',\n",
       "  'A seeing disability affects vision, including total blindness, partial sight and visual distortion'): 139,\n",
       " ('Public Services and Procurement Canada',\n",
       "  'A seeing disability affects vision, including total blindness, partial sight and visual distortion - Not selected'): 139,\n",
       " ('Statistical Survey Operations',\n",
       "  'Other visible minority group - Not selected'): 139,\n",
       " ('Global Affairs Canada', 'Non-Indigenous'): 139,\n",
       " ('Immigration, Refugees and Citizenship Canada',\n",
       "  \"A cognitive disability affects ability to carry out tasks involving executive functioning, such as planning and organization, learning information, communication and memory, including autism or Asperger's syndrome, attention deficit disorder, and learning disabilities\"): 139,\n",
       " ('Innovation, Science and Economic Development Canada', 'Indigenous'): 139,\n",
       " ('Statistics Canada',\n",
       "  'Non-White West Asian, North African or Arab (including: Egyptian; Libyan; Lebanese; Iranian; etc.)'): 139,\n",
       " ('Transport Canada',\n",
       "  'Non-White West Asian, North African or Arab (including: Egyptian; Libyan; Lebanese; Iranian; etc.) - Not selected'): 139,\n",
       " ('Transport Canada',\n",
       "  'Non-White West Asian, North African or Arab (including: Egyptian; Libyan; Lebanese; Iranian; etc.)'): 139,\n",
       " ('Statistics Canada',\n",
       "  'Non-White West Asian, North African or Arab (including: Egyptian; Libyan; Lebanese; Iranian; etc.) - Not selected'): 139,\n",
       " ('Department of National Defence', 'Gay or lesbian'): 139,\n",
       " ('Canada Energy Regulator',\n",
       "  'An intellectual disability affects your ability to learn and to adapt behaviour to different situations - Not selected'): 139,\n",
       " ('Innovation, Science and Economic Development Canada',\n",
       "  'Non-Indigenous'): 139,\n",
       " ('Shared Services Canada',\n",
       "  'A hearing disability affects ability to hear, including being hard of hearing, deafness or acoustic distortion - Not selected'): 139,\n",
       " ('Shared Services Canada',\n",
       "  'A hearing disability affects ability to hear, including being hard of hearing, deafness or acoustic distortion'): 139,\n",
       " ('Statistical Survey Operations',\n",
       "  'An issue with flexibility or dexterity affects ability to move joints or perform motor tasks, especially with your hands - Not selected'): 139,\n",
       " ('Canadian Nuclear Safety Commission', 'Prefer not to answer'): 139,\n",
       " ('Global Affairs Canada', 'Indigenous'): 139,\n",
       " ('Health Canada', 'Indigenous'): 138,\n",
       " ('Natural Resources Canada',\n",
       "  'A mental health issue affects psychology or behaviour, such as anxiety, depression or social / compulsive disorder or phobia or psychiatric illness'): 138,\n",
       " ('Natural Resources Canada',\n",
       "  'A mental health issue affects psychology or behaviour, such as anxiety, depression or social / compulsive disorder or phobia or psychiatric illness - Not selected'): 138,\n",
       " ('Office of the Chief Electoral Officer', 'Male gender'): 138,\n",
       " ('Indigenous Services Canada', 'Chinese'): 138,\n",
       " ('Innovation, Science and Economic Development Canada',\n",
       "  \"A cognitive disability affects ability to carry out tasks involving executive functioning, such as planning and organization, learning information, communication and memory, including autism or Asperger's syndrome, attention deficit disorder, and learning disabilities\"): 138,\n",
       " ('Canada School of Public Service', 'Prefer not to answer'): 138,\n",
       " ('Innovation, Science and Economic Development Canada',\n",
       "  \"A cognitive disability affects ability to carry out tasks involving executive functioning, such as planning and organization, learning information, communication and memory, including autism or Asperger's syndrome, attention deficit disorder, and learning disabilities - Not selected\"): 138,\n",
       " ('Immigration, Refugees and Citizenship Canada', 'Indigenous'): 138,\n",
       " ('Canadian Space Agency', 'Male gender'): 138,\n",
       " ('Immigration, Refugees and Citizenship Canada', 'Non-Indigenous'): 138,\n",
       " ('Canadian Space Agency', 'Female gender'): 138,\n",
       " ('Indigenous Services Canada', 'Chinese - Not selected'): 138,\n",
       " ('Health Canada', 'Non-Indigenous'): 138,\n",
       " ('Office of the Chief Electoral Officer', 'Female gender'): 138,\n",
       " ('Environment and Climate Change Canada', 'Black'): 137,\n",
       " ('Canadian Grain Commission', 'Male gender'): 137,\n",
       " ('Canadian Grain Commission', 'Not a person with a disability'): 137,\n",
       " ('Statistics Canada',\n",
       "  \"A chronic health condition or pain affects ability to function on a regular or episodic basis due to migraines, Crohn's disease, colitis, and other disabilities or health conditions\"): 137,\n",
       " ('Statistics Canada',\n",
       "  \"A chronic health condition or pain affects ability to function on a regular or episodic basis due to migraines, Crohn's disease, colitis, and other disabilities or health conditions - Not selected\"): 137,\n",
       " ('Canadian Food Inspection Agency',\n",
       "  'A sensory / environmental disability affects sensitivity to light, sounds or other distractions, as well as allergens and other environmental sensitivities'): 137,\n",
       " ('Environment and Climate Change Canada', 'Black - Not selected'): 137,\n",
       " ('Health Canada',\n",
       "  'An issue with flexibility or dexterity affects ability to move joints or perform motor tasks, especially with your hands'): 137,\n",
       " ('Health Canada',\n",
       "  'An issue with flexibility or dexterity affects ability to move joints or perform motor tasks, especially with your hands - Not selected'): 137,\n",
       " ('Canadian Food Inspection Agency',\n",
       "  'A sensory / environmental disability affects sensitivity to light, sounds or other distractions, as well as allergens and other environmental sensitivities - Not selected'): 137,\n",
       " ('Canadian Grain Commission', 'Female gender'): 137,\n",
       " ('Parks Canada', 'Chinese - Not selected'): 137,\n",
       " ('Fisheries and Oceans Canada', 'Black'): 137,\n",
       " ('Statistics Canada', 'Black - Not selected'): 137,\n",
       " ('Innovation, Science and Economic Development Canada',\n",
       "  'South Asian/East Indian (including: Indian from India; Bangladeshi; Pakistani; East Indian from Guyana, Trinidad, East Africa; etc.) - Not selected'): 137,\n",
       " ('National Research Council Canada', 'Non-Indigenous'): 137,\n",
       " ('Statistics Canada', 'Black'): 137,\n",
       " ('Innovation, Science and Economic Development Canada',\n",
       "  'South Asian/East Indian (including: Indian from India; Bangladeshi; Pakistani; East Indian from Guyana, Trinidad, East Africa; etc.)'): 137,\n",
       " ('Canadian Grain Commission', 'Non-Indigenous'): 137,\n",
       " ('Fisheries and Oceans Canada', 'Black - Not selected'): 137,\n",
       " ('Canada Border Services Agency', 'Filipino - Not selected'): 136,\n",
       " ('Agriculture and Agri-Food Canada',\n",
       "  \"A cognitive disability affects ability to carry out tasks involving executive functioning, such as planning and organization, learning information, communication and memory, including autism or Asperger's syndrome, attention deficit disorder, and learning disabilities - Not selected\"): 136,\n",
       " ('Fisheries and Oceans Canada', 'Chinese'): 136,\n",
       " ('Department of Justice',\n",
       "  'Non-White Latin American (including: Indigenous persons from Central and South America, etc.) - Not selected'): 136,\n",
       " ('Fisheries and Oceans Canada', 'Chinese - Not selected'): 136,\n",
       " ('Agriculture and Agri-Food Canada',\n",
       "  \"A cognitive disability affects ability to carry out tasks involving executive functioning, such as planning and organization, learning information, communication and memory, including autism or Asperger's syndrome, attention deficit disorder, and learning disabilities\"): 136,\n",
       " ('Immigration, Refugees and Citizenship Canada',\n",
       "  'Other visible minority group'): 136,\n",
       " ('Parks Canada', 'Bisexual'): 136,\n",
       " ('Immigration, Refugees and Citizenship Canada',\n",
       "  'Other visible minority group - Not selected'): 136,\n",
       " ('Canada Border Services Agency', 'Filipino'): 136,\n",
       " ('Statistics Canada',\n",
       "  \"A cognitive disability affects ability to carry out tasks involving executive functioning, such as planning and organization, learning information, communication and memory, including autism or Asperger's syndrome, attention deficit disorder, and learning disabilities\"): 136,\n",
       " ('Agriculture and Agri-Food Canada',\n",
       "  'Southeast Asian (including: Burmese; Cambodian; Laotian; Thai; Vietnamese; etc.) - Not selected'): 136,\n",
       " ('Statistics Canada',\n",
       "  \"A cognitive disability affects ability to carry out tasks involving executive functioning, such as planning and organization, learning information, communication and memory, including autism or Asperger's syndrome, attention deficit disorder, and learning disabilities - Not selected\"): 136,\n",
       " ('Shared Services Canada',\n",
       "  'An issue with flexibility or dexterity affects ability to move joints or perform motor tasks, especially with your hands - Not selected'): 135,\n",
       " ('Fisheries and Oceans Canada',\n",
       "  'Person of mixed origin (with one parent in one of the visible minority groups) - Not selected'): 135,\n",
       " ('Office of the Secretary to the Governor General', 'Heterosexual'): 135,\n",
       " ('Immigration, Refugees and Citizenship Canada',\n",
       "  'Non-White Latin American (including: Indigenous persons from Central and South America, etc.) - Not selected'): 135,\n",
       " ('Royal Canadian Mounted Police', 'Chinese - Not selected'): 135,\n",
       " ('Royal Canadian Mounted Police', 'Chinese'): 135,\n",
       " ('National Research Council Canada',\n",
       "  'Non-White West Asian, North African or Arab (including: Egyptian; Libyan; Lebanese; Iranian; etc.)'): 135,\n",
       " ('National Research Council Canada',\n",
       "  'Non-White West Asian, North African or Arab (including: Egyptian; Libyan; Lebanese; Iranian; etc.) - Not selected'): 135,\n",
       " ('Immigration and Refugee Board of Canada', 'Filipino - Not selected'): 135,\n",
       " ('Canadian Nuclear Safety Commission',\n",
       "  \"A chronic health condition or pain affects ability to function on a regular or episodic basis due to migraines, Crohn's disease, colitis, and other disabilities or health conditions - Not selected\"): 135,\n",
       " ('Immigration, Refugees and Citizenship Canada',\n",
       "  'Non-White Latin American (including: Indigenous persons from Central and South America, etc.)'): 135,\n",
       " ('Indigenous Services Canada',\n",
       "  'A mobility issue affects ability to move your body, including the required use of a wheelchair or a cane, or other issues impacting your mobility - Not selected'): 135,\n",
       " ('Shared Services Canada',\n",
       "  'An issue with flexibility or dexterity affects ability to move joints or perform motor tasks, especially with your hands'): 135,\n",
       " ('Fisheries and Oceans Canada',\n",
       "  'Person of mixed origin (with one parent in one of the visible minority groups)'): 135,\n",
       " ('Indigenous Services Canada',\n",
       "  'A mobility issue affects ability to move your body, including the required use of a wheelchair or a cane, or other issues impacting your mobility'): 135,\n",
       " ('Natural Resources Canada',\n",
       "  \"A chronic health condition or pain affects ability to function on a regular or episodic basis due to migraines, Crohn's disease, colitis, and other disabilities or health conditions\"): 135,\n",
       " ('Department of National Defence', 'Other visible minority group'): 135,\n",
       " ('Department of National Defence',\n",
       "  'Other visible minority group - Not selected'): 135,\n",
       " ('Library and Archives Canada',\n",
       "  'An intellectual disability affects your ability to learn and to adapt behaviour to different situations - Not selected'): 135,\n",
       " ('Atlantic Canada Opportunities Agency', 'Non-Indigenous'): 135,\n",
       " ('Natural Resources Canada',\n",
       "  \"A chronic health condition or pain affects ability to function on a regular or episodic basis due to migraines, Crohn's disease, colitis, and other disabilities or health conditions - Not selected\"): 135,\n",
       " ('Royal Canadian Mounted Police',\n",
       "  'Person of mixed origin (with one parent in one of the visible minority groups) - Not selected'): 134,\n",
       " ('Department of National Defence',\n",
       "  'Southeast Asian (including: Burmese; Cambodian; Laotian; Thai; Vietnamese; etc.) - Not selected'): 134,\n",
       " ('Department of National Defence',\n",
       "  'Southeast Asian (including: Burmese; Cambodian; Laotian; Thai; Vietnamese; etc.)'): 134,\n",
       " ('Correctional Service Canada', 'Bisexual'): 134,\n",
       " ('Fisheries and Oceans Canada', 'Gay or lesbian'): 134,\n",
       " ('Royal Canadian Mounted Police',\n",
       "  'Person of mixed origin (with one parent in one of the visible minority groups)'): 134,\n",
       " ('Shared Services Canada', 'Chinese - Not selected'): 134,\n",
       " ('Shared Services Canada', 'Chinese'): 134,\n",
       " ('Indigenous Services Canada', 'Bisexual'): 134,\n",
       " ('Transport Canada',\n",
       "  'A mobility issue affects ability to move your body, including the required use of a wheelchair or a cane, or other issues impacting your mobility - Not selected'): 133,\n",
       " ('Transport Canada',\n",
       "  'Person of mixed origin (with one parent in one of the visible minority groups) - Not selected'): 133,\n",
       " ('Natural Resources Canada', 'Black'): 133,\n",
       " ('Transport Canada',\n",
       "  'Other disability (including: learning disabilities, developmental disabilities and all other types of disabilities) - Not selected'): 133,\n",
       " ('Transport Canada',\n",
       "  'Person of mixed origin (with one parent in one of the visible minority groups)'): 133,\n",
       " ('Micro-organizations combined', 'Non-Indigenous'): 133,\n",
       " ('Veterans Affairs Canada', 'Non-Indigenous'): 133,\n",
       " ('Micro-organizations combined', 'Indigenous'): 133,\n",
       " ('Veterans Affairs Canada', 'Indigenous'): 133,\n",
       " ('Western Economic Diversification Canada',\n",
       "  'Not a person with a disability'): 133,\n",
       " ...}"
      ]
     },
     "execution_count": 370,
     "metadata": {},
     "output_type": "execute_result"
    }
   ],
   "source": [
    "# Type of work by Demograph\n",
    "df_emp_survey.query(\"SURVEYR == 2020\")[['DEPT_E','DESCRIP_E']].value_counts().to_dict()"
   ]
  },
  {
   "cell_type": "code",
   "execution_count": 371,
   "metadata": {},
   "outputs": [],
   "source": [
    "uniq_demog = df_emp_survey['DESCRIP_E'].unique()"
   ]
  },
  {
   "cell_type": "code",
   "execution_count": null,
   "metadata": {},
   "outputs": [],
   "source": []
  },
  {
   "cell_type": "code",
   "execution_count": 372,
   "metadata": {},
   "outputs": [
    {
     "data": {
      "text/html": [
       "<div>\n",
       "<style scoped>\n",
       "    .dataframe tbody tr th:only-of-type {\n",
       "        vertical-align: middle;\n",
       "    }\n",
       "\n",
       "    .dataframe tbody tr th {\n",
       "        vertical-align: top;\n",
       "    }\n",
       "\n",
       "    .dataframe thead th {\n",
       "        text-align: right;\n",
       "    }\n",
       "</style>\n",
       "<table border=\"1\" class=\"dataframe\">\n",
       "  <thead>\n",
       "    <tr style=\"text-align: right;\">\n",
       "      <th></th>\n",
       "      <th>DEMCODE</th>\n",
       "      <th>QUESTION</th>\n",
       "      <th>TITLE_E</th>\n",
       "      <th>ANSWER1</th>\n",
       "      <th>ANSWER2</th>\n",
       "      <th>ANSWER3</th>\n",
       "      <th>ANSWER4</th>\n",
       "      <th>ANSWER5</th>\n",
       "      <th>ANSWER6</th>\n",
       "      <th>ANSWER7</th>\n",
       "      <th>MOST_POSITIVE_OR_LEAST_NEGATIVE</th>\n",
       "      <th>NEUTRAL_OR_MIDDLE_CATEGORY</th>\n",
       "      <th>MOST_NEGATIVE_OR_LEAST_POSITIVE</th>\n",
       "      <th>AGREE</th>\n",
       "      <th>SCORE5</th>\n",
       "      <th>SCORE100</th>\n",
       "      <th>ANSCOUNT</th>\n",
       "    </tr>\n",
       "  </thead>\n",
       "  <tbody>\n",
       "    <tr>\n",
       "      <th>758598</th>\n",
       "      <td>2011</td>\n",
       "      <td>Q62</td>\n",
       "      <td>Question 62. Having carefully read the definit...</td>\n",
       "      <td>7</td>\n",
       "      <td>93</td>\n",
       "      <td>9999</td>\n",
       "      <td>9999</td>\n",
       "      <td>9999</td>\n",
       "      <td>9999</td>\n",
       "      <td>9999</td>\n",
       "      <td>93</td>\n",
       "      <td>9999</td>\n",
       "      <td>7</td>\n",
       "      <td>7</td>\n",
       "      <td>99</td>\n",
       "      <td>9999</td>\n",
       "      <td>73401</td>\n",
       "    </tr>\n",
       "    <tr>\n",
       "      <th>758599</th>\n",
       "      <td>2011</td>\n",
       "      <td>Q62</td>\n",
       "      <td>Question 62. Having carefully read the definit...</td>\n",
       "      <td>6</td>\n",
       "      <td>94</td>\n",
       "      <td>9999</td>\n",
       "      <td>9999</td>\n",
       "      <td>9999</td>\n",
       "      <td>9999</td>\n",
       "      <td>9999</td>\n",
       "      <td>94</td>\n",
       "      <td>9999</td>\n",
       "      <td>6</td>\n",
       "      <td>6</td>\n",
       "      <td>99</td>\n",
       "      <td>9999</td>\n",
       "      <td>11545</td>\n",
       "    </tr>\n",
       "    <tr>\n",
       "      <th>758600</th>\n",
       "      <td>2011</td>\n",
       "      <td>Q62</td>\n",
       "      <td>Question 62. Having carefully read the definit...</td>\n",
       "      <td>6</td>\n",
       "      <td>94</td>\n",
       "      <td>9999</td>\n",
       "      <td>9999</td>\n",
       "      <td>9999</td>\n",
       "      <td>9999</td>\n",
       "      <td>9999</td>\n",
       "      <td>94</td>\n",
       "      <td>9999</td>\n",
       "      <td>6</td>\n",
       "      <td>6</td>\n",
       "      <td>99</td>\n",
       "      <td>9999</td>\n",
       "      <td>5618</td>\n",
       "    </tr>\n",
       "    <tr>\n",
       "      <th>758601</th>\n",
       "      <td>2011</td>\n",
       "      <td>Q62</td>\n",
       "      <td>Question 62. Having carefully read the definit...</td>\n",
       "      <td>5</td>\n",
       "      <td>95</td>\n",
       "      <td>9999</td>\n",
       "      <td>9999</td>\n",
       "      <td>9999</td>\n",
       "      <td>9999</td>\n",
       "      <td>9999</td>\n",
       "      <td>95</td>\n",
       "      <td>9999</td>\n",
       "      <td>5</td>\n",
       "      <td>5</td>\n",
       "      <td>99</td>\n",
       "      <td>9999</td>\n",
       "      <td>7302</td>\n",
       "    </tr>\n",
       "    <tr>\n",
       "      <th>758602</th>\n",
       "      <td>2011</td>\n",
       "      <td>Q62</td>\n",
       "      <td>Question 62. Having carefully read the definit...</td>\n",
       "      <td>15</td>\n",
       "      <td>85</td>\n",
       "      <td>9999</td>\n",
       "      <td>9999</td>\n",
       "      <td>9999</td>\n",
       "      <td>9999</td>\n",
       "      <td>9999</td>\n",
       "      <td>85</td>\n",
       "      <td>9999</td>\n",
       "      <td>15</td>\n",
       "      <td>15</td>\n",
       "      <td>99</td>\n",
       "      <td>9999</td>\n",
       "      <td>3226</td>\n",
       "    </tr>\n",
       "    <tr>\n",
       "      <th>...</th>\n",
       "      <td>...</td>\n",
       "      <td>...</td>\n",
       "      <td>...</td>\n",
       "      <td>...</td>\n",
       "      <td>...</td>\n",
       "      <td>...</td>\n",
       "      <td>...</td>\n",
       "      <td>...</td>\n",
       "      <td>...</td>\n",
       "      <td>...</td>\n",
       "      <td>...</td>\n",
       "      <td>...</td>\n",
       "      <td>...</td>\n",
       "      <td>...</td>\n",
       "      <td>...</td>\n",
       "      <td>...</td>\n",
       "      <td>...</td>\n",
       "    </tr>\n",
       "    <tr>\n",
       "      <th>765678</th>\n",
       "      <td>2069</td>\n",
       "      <td>Q62</td>\n",
       "      <td>Question 62. Having carefully read the definit...</td>\n",
       "      <td>7</td>\n",
       "      <td>93</td>\n",
       "      <td>9999</td>\n",
       "      <td>9999</td>\n",
       "      <td>9999</td>\n",
       "      <td>9999</td>\n",
       "      <td>9999</td>\n",
       "      <td>93</td>\n",
       "      <td>9999</td>\n",
       "      <td>7</td>\n",
       "      <td>7</td>\n",
       "      <td>99</td>\n",
       "      <td>9999</td>\n",
       "      <td>197</td>\n",
       "    </tr>\n",
       "    <tr>\n",
       "      <th>765679</th>\n",
       "      <td>2069</td>\n",
       "      <td>Q62</td>\n",
       "      <td>Question 62. Having carefully read the definit...</td>\n",
       "      <td>13</td>\n",
       "      <td>87</td>\n",
       "      <td>9999</td>\n",
       "      <td>9999</td>\n",
       "      <td>9999</td>\n",
       "      <td>9999</td>\n",
       "      <td>9999</td>\n",
       "      <td>87</td>\n",
       "      <td>9999</td>\n",
       "      <td>13</td>\n",
       "      <td>13</td>\n",
       "      <td>99</td>\n",
       "      <td>9999</td>\n",
       "      <td>56</td>\n",
       "    </tr>\n",
       "    <tr>\n",
       "      <th>765680</th>\n",
       "      <td>2069</td>\n",
       "      <td>Q62</td>\n",
       "      <td>Question 62. Having carefully read the definit...</td>\n",
       "      <td>0</td>\n",
       "      <td>100</td>\n",
       "      <td>9999</td>\n",
       "      <td>9999</td>\n",
       "      <td>9999</td>\n",
       "      <td>9999</td>\n",
       "      <td>9999</td>\n",
       "      <td>100</td>\n",
       "      <td>9999</td>\n",
       "      <td>0</td>\n",
       "      <td>0</td>\n",
       "      <td>99</td>\n",
       "      <td>9999</td>\n",
       "      <td>35</td>\n",
       "    </tr>\n",
       "    <tr>\n",
       "      <th>765682</th>\n",
       "      <td>2069</td>\n",
       "      <td>Q62</td>\n",
       "      <td>Question 62. Having carefully read the definit...</td>\n",
       "      <td>17</td>\n",
       "      <td>83</td>\n",
       "      <td>9999</td>\n",
       "      <td>9999</td>\n",
       "      <td>9999</td>\n",
       "      <td>9999</td>\n",
       "      <td>9999</td>\n",
       "      <td>83</td>\n",
       "      <td>9999</td>\n",
       "      <td>17</td>\n",
       "      <td>17</td>\n",
       "      <td>99</td>\n",
       "      <td>9999</td>\n",
       "      <td>41</td>\n",
       "    </tr>\n",
       "    <tr>\n",
       "      <th>765683</th>\n",
       "      <td>2069</td>\n",
       "      <td>Q62</td>\n",
       "      <td>Question 62. Having carefully read the definit...</td>\n",
       "      <td>5</td>\n",
       "      <td>95</td>\n",
       "      <td>9999</td>\n",
       "      <td>9999</td>\n",
       "      <td>9999</td>\n",
       "      <td>9999</td>\n",
       "      <td>9999</td>\n",
       "      <td>95</td>\n",
       "      <td>9999</td>\n",
       "      <td>5</td>\n",
       "      <td>5</td>\n",
       "      <td>99</td>\n",
       "      <td>9999</td>\n",
       "      <td>134</td>\n",
       "    </tr>\n",
       "  </tbody>\n",
       "</table>\n",
       "<p>3158 rows × 17 columns</p>\n",
       "</div>"
      ],
      "text/plain": [
       "        DEMCODE QUESTION                                            TITLE_E  \\\n",
       "758598     2011      Q62  Question 62. Having carefully read the definit...   \n",
       "758599     2011      Q62  Question 62. Having carefully read the definit...   \n",
       "758600     2011      Q62  Question 62. Having carefully read the definit...   \n",
       "758601     2011      Q62  Question 62. Having carefully read the definit...   \n",
       "758602     2011      Q62  Question 62. Having carefully read the definit...   \n",
       "...         ...      ...                                                ...   \n",
       "765678     2069      Q62  Question 62. Having carefully read the definit...   \n",
       "765679     2069      Q62  Question 62. Having carefully read the definit...   \n",
       "765680     2069      Q62  Question 62. Having carefully read the definit...   \n",
       "765682     2069      Q62  Question 62. Having carefully read the definit...   \n",
       "765683     2069      Q62  Question 62. Having carefully read the definit...   \n",
       "\n",
       "        ANSWER1  ANSWER2  ANSWER3  ANSWER4  ANSWER5  ANSWER6  ANSWER7  \\\n",
       "758598        7       93     9999     9999     9999     9999     9999   \n",
       "758599        6       94     9999     9999     9999     9999     9999   \n",
       "758600        6       94     9999     9999     9999     9999     9999   \n",
       "758601        5       95     9999     9999     9999     9999     9999   \n",
       "758602       15       85     9999     9999     9999     9999     9999   \n",
       "...         ...      ...      ...      ...      ...      ...      ...   \n",
       "765678        7       93     9999     9999     9999     9999     9999   \n",
       "765679       13       87     9999     9999     9999     9999     9999   \n",
       "765680        0      100     9999     9999     9999     9999     9999   \n",
       "765682       17       83     9999     9999     9999     9999     9999   \n",
       "765683        5       95     9999     9999     9999     9999     9999   \n",
       "\n",
       "       MOST_POSITIVE_OR_LEAST_NEGATIVE NEUTRAL_OR_MIDDLE_CATEGORY  \\\n",
       "758598                              93                       9999   \n",
       "758599                              94                       9999   \n",
       "758600                              94                       9999   \n",
       "758601                              95                       9999   \n",
       "758602                              85                       9999   \n",
       "...                                ...                        ...   \n",
       "765678                              93                       9999   \n",
       "765679                              87                       9999   \n",
       "765680                             100                       9999   \n",
       "765682                              83                       9999   \n",
       "765683                              95                       9999   \n",
       "\n",
       "       MOST_NEGATIVE_OR_LEAST_POSITIVE AGREE SCORE5 SCORE100  ANSCOUNT  \n",
       "758598                               7     7     99     9999     73401  \n",
       "758599                               6     6     99     9999     11545  \n",
       "758600                               6     6     99     9999      5618  \n",
       "758601                               5     5     99     9999      7302  \n",
       "758602                              15    15     99     9999      3226  \n",
       "...                                ...   ...    ...      ...       ...  \n",
       "765678                               7     7     99     9999       197  \n",
       "765679                              13    13     99     9999        56  \n",
       "765680                               0     0     99     9999        35  \n",
       "765682                              17    17     99     9999        41  \n",
       "765683                               5     5     99     9999       134  \n",
       "\n",
       "[3158 rows x 17 columns]"
      ]
     },
     "execution_count": 372,
     "metadata": {},
     "output_type": "execute_result"
    }
   ],
   "source": [
    "df_emp_survey.query(\"QUESTION == 'Q62'\")[cols_to_look]"
   ]
  },
  {
   "cell_type": "code",
   "execution_count": 373,
   "metadata": {},
   "outputs": [
    {
     "data": {
      "text/plain": [
       "Index(['LEVEL1ID', 'LEVEL2ID', 'LEVEL3ID', 'LEVEL4ID', 'LEVEL5ID', 'SURVEYR',\n",
       "       'BYCOND', 'DESCRIP_E', 'DEMCODE', 'QUESTION', 'TITLE_E', 'ANSWER1',\n",
       "       'ANSWER2', 'ANSWER3', 'ANSWER4', 'ANSWER5', 'ANSWER6', 'ANSWER7',\n",
       "       'MOST_POSITIVE_OR_LEAST_NEGATIVE', 'NEUTRAL_OR_MIDDLE_CATEGORY',\n",
       "       'MOST_NEGATIVE_OR_LEAST_POSITIVE', 'AGREE', 'SCORE5', 'SCORE100',\n",
       "       'ANSCOUNT', 'DEPT_E', 'INDICATORID', 'INDICATORENG', 'SUBINDICATORID',\n",
       "       'SUBINDICATORENG'],\n",
       "      dtype='object')"
      ]
     },
     "execution_count": 373,
     "metadata": {},
     "output_type": "execute_result"
    }
   ],
   "source": [
    "df_emp_survey.columns"
   ]
  },
  {
   "cell_type": "code",
   "execution_count": 374,
   "metadata": {},
   "outputs": [],
   "source": [
    "df_emp_survey['BYCOND_1'] = df_emp_survey['BYCOND'].str.split(\"=\").str[0] # take left side of by cond column"
   ]
  },
  {
   "cell_type": "code",
   "execution_count": 375,
   "metadata": {},
   "outputs": [],
   "source": [
    "df_emp_survey['BYCOND_2'] = df_emp_survey['BYCOND'].str.split(\"=\").str[0].str.extract('(Q[0-9]+)') # take left side of by cond column\n"
   ]
  },
  {
   "cell_type": "code",
   "execution_count": 376,
   "metadata": {},
   "outputs": [],
   "source": [
    "uniq_by_cond = df_emp_survey['BYCOND_1'].unique()\n",
    "uniq_by_cond_2 = df_emp_survey['BYCOND_2'].unique()"
   ]
  },
  {
   "cell_type": "code",
   "execution_count": 377,
   "metadata": {},
   "outputs": [],
   "source": [
    "ans_cols = ['ANSWER1','ANSWER2','ANSWER3','ANSWER4','ANSWER5','ANSWER6','ANSWER7']"
   ]
  },
  {
   "cell_type": "code",
   "execution_count": 378,
   "metadata": {},
   "outputs": [
    {
     "name": "stdout",
     "output_type": "stream",
     "text": [
      "Question : Question 26. I feel that my immediate supervisor supports my career goals.\n"
     ]
    },
    {
     "data": {
      "text/html": [
       "<div>\n",
       "<style scoped>\n",
       "    .dataframe tbody tr th:only-of-type {\n",
       "        vertical-align: middle;\n",
       "    }\n",
       "\n",
       "    .dataframe tbody tr th {\n",
       "        vertical-align: top;\n",
       "    }\n",
       "\n",
       "    .dataframe thead th {\n",
       "        text-align: right;\n",
       "    }\n",
       "</style>\n",
       "<table border=\"1\" class=\"dataframe\">\n",
       "  <thead>\n",
       "    <tr style=\"text-align: right;\">\n",
       "      <th></th>\n",
       "      <th>ANSWER1</th>\n",
       "      <th>ANSWER2</th>\n",
       "      <th>ANSWER3</th>\n",
       "      <th>ANSWER4</th>\n",
       "      <th>ANSWER5</th>\n",
       "      <th>ANSWER6</th>\n",
       "      <th>ANSWER7</th>\n",
       "    </tr>\n",
       "    <tr>\n",
       "      <th>BYCOND</th>\n",
       "      <th></th>\n",
       "      <th></th>\n",
       "      <th></th>\n",
       "      <th></th>\n",
       "      <th></th>\n",
       "      <th></th>\n",
       "      <th></th>\n",
       "    </tr>\n",
       "  </thead>\n",
       "  <tbody>\n",
       "    <tr>\n",
       "      <th>Q115 = 1</th>\n",
       "      <td>51.750000</td>\n",
       "      <td>23.823529</td>\n",
       "      <td>12.735294</td>\n",
       "      <td>4.470588</td>\n",
       "      <td>4.147059</td>\n",
       "      <td>1.558824</td>\n",
       "      <td>1.558824</td>\n",
       "    </tr>\n",
       "    <tr>\n",
       "      <th>Q115 = 2</th>\n",
       "      <td>54.588235</td>\n",
       "      <td>22.573529</td>\n",
       "      <td>11.044118</td>\n",
       "      <td>4.808824</td>\n",
       "      <td>3.514706</td>\n",
       "      <td>1.852941</td>\n",
       "      <td>1.602941</td>\n",
       "    </tr>\n",
       "    <tr>\n",
       "      <th>Q115 = 3</th>\n",
       "      <td>44.923077</td>\n",
       "      <td>22.769231</td>\n",
       "      <td>16.000000</td>\n",
       "      <td>5.076923</td>\n",
       "      <td>6.692308</td>\n",
       "      <td>2.538462</td>\n",
       "      <td>1.846154</td>\n",
       "    </tr>\n",
       "  </tbody>\n",
       "</table>\n",
       "</div>"
      ],
      "text/plain": [
       "            ANSWER1    ANSWER2    ANSWER3   ANSWER4   ANSWER5   ANSWER6  \\\n",
       "BYCOND                                                                    \n",
       "Q115 = 1  51.750000  23.823529  12.735294  4.470588  4.147059  1.558824   \n",
       "Q115 = 2  54.588235  22.573529  11.044118  4.808824  3.514706  1.852941   \n",
       "Q115 = 3  44.923077  22.769231  16.000000  5.076923  6.692308  2.538462   \n",
       "\n",
       "           ANSWER7  \n",
       "BYCOND              \n",
       "Q115 = 1  1.558824  \n",
       "Q115 = 2  1.602941  \n",
       "Q115 = 3  1.846154  "
      ]
     },
     "execution_count": 378,
     "metadata": {},
     "output_type": "execute_result"
    }
   ],
   "source": [
    "# get men, women and gender diverse answer pools for a question on average across all dept\n",
    "print(\"Question :\", df_emp_survey.query(\"QUESTION == 'Q26'\")['TITLE_E'].iloc[0])\n",
    "df_emp_survey.query(f\"BYCOND_1 == '{uniq_by_cond[0]}' and QUESTION == 'Q26'\").groupby('BYCOND').mean()[ans_cols]"
   ]
  },
  {
   "cell_type": "code",
   "execution_count": 443,
   "metadata": {},
   "outputs": [],
   "source": [
    "# get actual responses for each question\n",
    "def get_responses(q):\n",
    "    return df_responses.query(f\"QUESTION == '{q}'\")[['Answer1ENG','Answer2ENG','Answer3ENG','Answer4ENG','Answer5ENG','Answer6ENG','Answer7ENG']].values[0]\n",
    "\n",
    "# get demographic codes for each question\n",
    "def get_demo_descrip(demo_codes):\n",
    "    dict_codes = {}\n",
    "    for i in demo_codes:\n",
    "        dict_codes[i] = df_emp_survey.query(f\"BYCOND == '{i}'\")['DESCRIP_E'].iloc[0]\n",
    "    return dict_codes\n",
    "\n",
    "# get data frame results for a question\n",
    "def get_results(q, demo_code):\n",
    "    # get men, women and gender diverse answer pools for a question on average across all dept\n",
    "    idx_cols = get_demo_descrip(df_emp_survey.query(f\"BYCOND_2 == '{demo_code}' and QUESTION == '{q}'\").groupby('BYCOND').mean()[ans_cols+['MOST_POSITIVE_OR_LEAST_NEGATIVE','NEUTRAL_OR_MIDDLE_CATEGORY','MOST_NEGATIVE_OR_LEAST_POSITIVE']].index)\n",
    "    df_resp_score = df_emp_survey.query(f\"BYCOND_2 == '{demo_code}' and QUESTION == '{q}'\").groupby('BYCOND').mean()[ans_cols]\n",
    "    responses = get_responses(q)\n",
    "\n",
    "    # replace values\n",
    "    df_resp_score.rename(index=idx_cols, inplace=True)\n",
    "    df_resp_score.columns = responses\n",
    "\n",
    "    return df_resp_score"
   ]
  },
  {
   "cell_type": "code",
   "execution_count": 444,
   "metadata": {},
   "outputs": [],
   "source": [
    "# all questions selected\n",
    "questions = ['Q26','Q30','Q40','Q41','Q45','Q53','Q54','Q55','Q60','Q61','Q62','Q67','Q69','Q70c','Q70l','Q70m','Q71','Q72','Q78','Q91']\n",
    "dict_questions = {}\n",
    "\n",
    "# dictionary of questions\n",
    "for q in questions:\n",
    "    dict_questions[q] = df_emp_survey.query(f\"QUESTION == '{q}'\")['TITLE_E'].iloc[0]\n",
    "\n",
    "# COND_1 is demographic code with value on left side e.g. democode -> (Q121A = 2) and cond_1 -> (Q121A) \n",
    "dict_demograph = {}\n",
    "for c in uniq_by_cond:\n",
    "    dict_demograph[c] = list(df_emp_survey.query(f\"BYCOND_1 == '{c}'\")['DESCRIP_E'].unique())\n",
    "\n",
    "# COND_2 is more general than COND_1. democode -> (Q121A = 2) and cond_2 -> (Q121) this helps us group more categories\n",
    "dict_demograph_2 = {}\n",
    "for c in uniq_by_cond_2:\n",
    "    dict_demograph_2[c] = list(df_emp_survey.query(f\"BYCOND_2 == '{c}'\")['DESCRIP_E'].unique())"
   ]
  },
  {
   "cell_type": "code",
   "execution_count": 445,
   "metadata": {},
   "outputs": [
    {
     "data": {
      "text/plain": [
       "{'Q26': 'Question 26. I feel that my immediate supervisor supports my career goals.',\n",
       " 'Q30': 'Question 30. I am satisfied with the quality of supervision I receive.',\n",
       " 'Q40': 'Question 40. I feel I can initiate a formal recourse process (e.g., grievance, complaint, appeal) without fear of reprisal.',\n",
       " 'Q41': 'Question 41. My department or agency does a good job of supporting employee career development.',\n",
       " 'Q45': 'Question 45. I think that my department or agency respects individual differences (e.g., culture, work styles, ideas, abilities).',\n",
       " 'Q53': 'Question 53. Do you intend to leave your current position in the next two years?',\n",
       " 'Q54': 'Question 54. Please indicate your reason for leaving.',\n",
       " 'Q55': 'Question 55. Having carefully read the definition of harassment, have you been the victim of harassment on the job in the past 12 months?',\n",
       " 'Q60': 'Question 60. I am satisfied with how matters related to harassment are resolved in my department or agency.',\n",
       " 'Q61': 'Question 61. My department or agency works hard to create a workplace that prevents harassment.',\n",
       " 'Q62': 'Question 62. Having carefully read the definition of discrimination, have you been the victim of discrimination on the job in the past 12 months?',\n",
       " 'Q67': 'Question 67. I am satisfied with how matters related to discrimination are resolved in my department or agency.',\n",
       " 'Q69': \"Question 69. I am satisfied with how concerns or complaints about racism in the workplace are resolved in my department or agency. (only asked if respondent selected 'Race' in question 64.)\",\n",
       " 'Q70c': 'Question 70c. Overall, to what extent do the following factors cause you stress at work? Heavy workload',\n",
       " 'Q70l': 'Question 70l. Overall, to what extent do the following factors cause you stress at work? Lack of recognition',\n",
       " 'Q70m': 'Question 70m. Overall, to what extent do the following factors cause you stress at work? Feeling disconnected from colleagues',\n",
       " 'Q71': 'Question 71. To what extent is stress from the COVID-19 pandemic negatively impacting your ability to carry out day-to-day work responsibilities?',\n",
       " 'Q72': 'Question 72. Overall, my level of work-related stress is...',\n",
       " 'Q78': 'Question 78. I would describe my workplace as being psychologically healthy.',\n",
       " 'Q91': 'Question 91. I am satisfied with the workplace accommodation measures that were implemented.'}"
      ]
     },
     "execution_count": 445,
     "metadata": {},
     "output_type": "execute_result"
    }
   ],
   "source": [
    "dict_questions"
   ]
  },
  {
   "cell_type": "code",
   "execution_count": 446,
   "metadata": {},
   "outputs": [
    {
     "name": "stdout",
     "output_type": "stream",
     "text": [
      "Question 70m. Overall, to what extent do the following factors cause you stress at work? Feeling disconnected from colleagues\n"
     ]
    },
    {
     "data": {
      "text/html": [
       "<div>\n",
       "<style scoped>\n",
       "    .dataframe tbody tr th:only-of-type {\n",
       "        vertical-align: middle;\n",
       "    }\n",
       "\n",
       "    .dataframe tbody tr th {\n",
       "        vertical-align: top;\n",
       "    }\n",
       "\n",
       "    .dataframe thead th {\n",
       "        text-align: right;\n",
       "    }\n",
       "</style>\n",
       "<table border=\"1\" class=\"dataframe\">\n",
       "  <thead>\n",
       "    <tr style=\"text-align: right;\">\n",
       "      <th></th>\n",
       "      <th>Not at all</th>\n",
       "      <th>To a small extent</th>\n",
       "      <th>To a moderate extent</th>\n",
       "      <th>To a large extent</th>\n",
       "      <th>To a very large extent</th>\n",
       "      <th>Don't know</th>\n",
       "      <th>Not applicable</th>\n",
       "    </tr>\n",
       "    <tr>\n",
       "      <th>BYCOND</th>\n",
       "      <th></th>\n",
       "      <th></th>\n",
       "      <th></th>\n",
       "      <th></th>\n",
       "      <th></th>\n",
       "      <th></th>\n",
       "      <th></th>\n",
       "    </tr>\n",
       "  </thead>\n",
       "  <tbody>\n",
       "    <tr>\n",
       "      <th>Heterosexual</th>\n",
       "      <td>29.865672</td>\n",
       "      <td>30.880597</td>\n",
       "      <td>22.194030</td>\n",
       "      <td>10.820896</td>\n",
       "      <td>5.567164</td>\n",
       "      <td>0.074627</td>\n",
       "      <td>0.343284</td>\n",
       "    </tr>\n",
       "    <tr>\n",
       "      <th>Gay or lesbian</th>\n",
       "      <td>27.441860</td>\n",
       "      <td>28.139535</td>\n",
       "      <td>22.465116</td>\n",
       "      <td>12.511628</td>\n",
       "      <td>9.162791</td>\n",
       "      <td>0.116279</td>\n",
       "      <td>0.209302</td>\n",
       "    </tr>\n",
       "    <tr>\n",
       "      <th>Bisexual</th>\n",
       "      <td>25.027027</td>\n",
       "      <td>27.513514</td>\n",
       "      <td>23.216216</td>\n",
       "      <td>14.405405</td>\n",
       "      <td>9.756757</td>\n",
       "      <td>0.027027</td>\n",
       "      <td>0.162162</td>\n",
       "    </tr>\n",
       "    <tr>\n",
       "      <th>Another sexual orientation</th>\n",
       "      <td>24.423077</td>\n",
       "      <td>27.576923</td>\n",
       "      <td>23.269231</td>\n",
       "      <td>14.346154</td>\n",
       "      <td>9.769231</td>\n",
       "      <td>0.192308</td>\n",
       "      <td>0.576923</td>\n",
       "    </tr>\n",
       "    <tr>\n",
       "      <th>Prefer not to answer</th>\n",
       "      <td>25.223881</td>\n",
       "      <td>28.731343</td>\n",
       "      <td>22.910448</td>\n",
       "      <td>13.164179</td>\n",
       "      <td>8.746269</td>\n",
       "      <td>0.432836</td>\n",
       "      <td>0.910448</td>\n",
       "    </tr>\n",
       "  </tbody>\n",
       "</table>\n",
       "</div>"
      ],
      "text/plain": [
       "                            Not at all  To a small extent  \\\n",
       "BYCOND                                                      \n",
       "Heterosexual                 29.865672          30.880597   \n",
       "Gay or lesbian               27.441860          28.139535   \n",
       "Bisexual                     25.027027          27.513514   \n",
       "Another sexual orientation   24.423077          27.576923   \n",
       "Prefer not to answer         25.223881          28.731343   \n",
       "\n",
       "                            To a moderate extent  To a large extent  \\\n",
       "BYCOND                                                                \n",
       "Heterosexual                           22.194030          10.820896   \n",
       "Gay or lesbian                         22.465116          12.511628   \n",
       "Bisexual                               23.216216          14.405405   \n",
       "Another sexual orientation             23.269231          14.346154   \n",
       "Prefer not to answer                   22.910448          13.164179   \n",
       "\n",
       "                            To a very large extent  Don't know  Not applicable  \n",
       "BYCOND                                                                          \n",
       "Heterosexual                              5.567164    0.074627        0.343284  \n",
       "Gay or lesbian                            9.162791    0.116279        0.209302  \n",
       "Bisexual                                  9.756757    0.027027        0.162162  \n",
       "Another sexual orientation                9.769231    0.192308        0.576923  \n",
       "Prefer not to answer                      8.746269    0.432836        0.910448  "
      ]
     },
     "execution_count": 446,
     "metadata": {},
     "output_type": "execute_result"
    }
   ],
   "source": [
    "print(dict_questions['Q70m'])\n",
    "get_results('Q70m',uniq_by_cond_2[7])"
   ]
  },
  {
   "cell_type": "code",
   "execution_count": null,
   "metadata": {},
   "outputs": [
    {
     "name": "stdout",
     "output_type": "stream",
     "text": [
      "Question 70m. Overall, to what extent do the following factors cause you stress at work? Feeling disconnected from colleagues\n"
     ]
    },
    {
     "data": {
      "text/plain": [
       "<AxesSubplot:xlabel='BYCOND'>"
      ]
     },
     "execution_count": 383,
     "metadata": {},
     "output_type": "execute_result"
    },
    {
     "data": {
      "image/png": "[encoded data removed]",
      "text/plain": [
       "<Figure size 1440x1080 with 1 Axes>"
      ]
     },
     "metadata": {
      "needs_background": "light"
     },
     "output_type": "display_data"
    }
   ],
   "source": [
    "print(dict_questions['Q70m'])\n",
    "get_results('Q70m',uniq_by_cond_2[7]).plot.bar(stacked=True)"
   ]
  },
  {
   "cell_type": "code",
   "execution_count": 384,
   "metadata": {},
   "outputs": [
    {
     "data": {
      "text/plain": [
       "{'Q115': ['Male gender', 'Female gender', 'Gender diverse'],\n",
       " 'Q116': ['Indigenous', 'Non-Indigenous'],\n",
       " 'Q117': ['First Nation (North American Indian)', 'Métis', 'Inuk (Inuit)'],\n",
       " 'Q118': ['Person with a disability', 'Not a person with a disability'],\n",
       " 'Q119': ['A seeing disability affects vision, including total blindness, partial sight and visual distortion',\n",
       "  'A seeing disability affects vision, including total blindness, partial sight and visual distortion - Not selected',\n",
       "  'A hearing disability affects ability to hear, including being hard of hearing, deafness or acoustic distortion',\n",
       "  'A hearing disability affects ability to hear, including being hard of hearing, deafness or acoustic distortion - Not selected',\n",
       "  'A mobility issue affects ability to move your body, including the required use of a wheelchair or a cane, or other issues impacting your mobility',\n",
       "  'A mobility issue affects ability to move your body, including the required use of a wheelchair or a cane, or other issues impacting your mobility - Not selected',\n",
       "  'An issue with flexibility or dexterity affects ability to move joints or perform motor tasks, especially with your hands',\n",
       "  'An issue with flexibility or dexterity affects ability to move joints or perform motor tasks, especially with your hands - Not selected',\n",
       "  'A mental health issue affects psychology or behaviour, such as anxiety, depression or social / compulsive disorder or phobia or psychiatric illness',\n",
       "  'A mental health issue affects psychology or behaviour, such as anxiety, depression or social / compulsive disorder or phobia or psychiatric illness - Not selected',\n",
       "  'A sensory / environmental disability affects sensitivity to light, sounds or other distractions, as well as allergens and other environmental sensitivities',\n",
       "  'A sensory / environmental disability affects sensitivity to light, sounds or other distractions, as well as allergens and other environmental sensitivities - Not selected',\n",
       "  \"A chronic health condition or pain affects ability to function on a regular or episodic basis due to migraines, Crohn's disease, colitis, and other disabilities or health conditions\",\n",
       "  \"A chronic health condition or pain affects ability to function on a regular or episodic basis due to migraines, Crohn's disease, colitis, and other disabilities or health conditions - Not selected\",\n",
       "  \"A cognitive disability affects ability to carry out tasks involving executive functioning, such as planning and organization, learning information, communication and memory, including autism or Asperger's syndrome, attention deficit disorder, and learning disabilities\",\n",
       "  \"A cognitive disability affects ability to carry out tasks involving executive functioning, such as planning and organization, learning information, communication and memory, including autism or Asperger's syndrome, attention deficit disorder, and learning disabilities - Not selected\",\n",
       "  'An intellectual disability affects your ability to learn and to adapt behaviour to different situations',\n",
       "  'An intellectual disability affects your ability to learn and to adapt behaviour to different situations - Not selected',\n",
       "  'Other disability (including: learning disabilities, developmental disabilities and all other types of disabilities)',\n",
       "  'Other disability (including: learning disabilities, developmental disabilities and all other types of disabilities) - Not selected'],\n",
       " 'Q120': ['Visible minority', 'Non-visible minority'],\n",
       " 'Q121': ['Black',\n",
       "  'Black - Not selected',\n",
       "  'Chinese',\n",
       "  'Chinese - Not selected',\n",
       "  'Filipino',\n",
       "  'Filipino - Not selected',\n",
       "  'Japanese',\n",
       "  'Japanese - Not selected',\n",
       "  'Korean',\n",
       "  'Korean - Not selected',\n",
       "  'South Asian/East Indian (including: Indian from India; Bangladeshi; Pakistani; East Indian from Guyana, Trinidad, East Africa; etc.)',\n",
       "  'South Asian/East Indian (including: Indian from India; Bangladeshi; Pakistani; East Indian from Guyana, Trinidad, East Africa; etc.) - Not selected',\n",
       "  'Southeast Asian (including: Burmese; Cambodian; Laotian; Thai; Vietnamese; etc.)',\n",
       "  'Southeast Asian (including: Burmese; Cambodian; Laotian; Thai; Vietnamese; etc.) - Not selected',\n",
       "  'Non-White West Asian, North African or Arab (including: Egyptian; Libyan; Lebanese; Iranian; etc.)',\n",
       "  'Non-White West Asian, North African or Arab (including: Egyptian; Libyan; Lebanese; Iranian; etc.) - Not selected',\n",
       "  'Non-White Latin American (including: Indigenous persons from Central and South America, etc.)',\n",
       "  'Non-White Latin American (including: Indigenous persons from Central and South America, etc.) - Not selected',\n",
       "  'Person of mixed origin (with one parent in one of the visible minority groups)',\n",
       "  'Person of mixed origin (with one parent in one of the visible minority groups) - Not selected',\n",
       "  'Other visible minority group',\n",
       "  'Other visible minority group - Not selected'],\n",
       " 'Q122': ['Heterosexual',\n",
       "  'Gay or lesbian',\n",
       "  'Bisexual',\n",
       "  'Another sexual orientation',\n",
       "  'Prefer not to answer']}"
      ]
     },
     "execution_count": 384,
     "metadata": {},
     "output_type": "execute_result"
    }
   ],
   "source": [
    "dict_demograph_2"
   ]
  },
  {
   "cell_type": "code",
   "execution_count": 385,
   "metadata": {},
   "outputs": [
    {
     "data": {
      "text/plain": [
       "{'Q115 ': ['Male gender', 'Female gender', 'Gender diverse'],\n",
       " 'Q116 ': ['Indigenous', 'Non-Indigenous'],\n",
       " 'Q117 ': ['First Nation (North American Indian)', 'Métis', 'Inuk (Inuit)'],\n",
       " 'Q118 ': ['Person with a disability', 'Not a person with a disability'],\n",
       " 'Q119A ': ['A seeing disability affects vision, including total blindness, partial sight and visual distortion',\n",
       "  'A seeing disability affects vision, including total blindness, partial sight and visual distortion - Not selected'],\n",
       " 'Q119B ': ['A hearing disability affects ability to hear, including being hard of hearing, deafness or acoustic distortion',\n",
       "  'A hearing disability affects ability to hear, including being hard of hearing, deafness or acoustic distortion - Not selected'],\n",
       " 'Q119C ': ['A mobility issue affects ability to move your body, including the required use of a wheelchair or a cane, or other issues impacting your mobility',\n",
       "  'A mobility issue affects ability to move your body, including the required use of a wheelchair or a cane, or other issues impacting your mobility - Not selected'],\n",
       " 'Q119D ': ['An issue with flexibility or dexterity affects ability to move joints or perform motor tasks, especially with your hands',\n",
       "  'An issue with flexibility or dexterity affects ability to move joints or perform motor tasks, especially with your hands - Not selected'],\n",
       " 'Q119E ': ['A mental health issue affects psychology or behaviour, such as anxiety, depression or social / compulsive disorder or phobia or psychiatric illness',\n",
       "  'A mental health issue affects psychology or behaviour, such as anxiety, depression or social / compulsive disorder or phobia or psychiatric illness - Not selected'],\n",
       " 'Q119F ': ['A sensory / environmental disability affects sensitivity to light, sounds or other distractions, as well as allergens and other environmental sensitivities',\n",
       "  'A sensory / environmental disability affects sensitivity to light, sounds or other distractions, as well as allergens and other environmental sensitivities - Not selected'],\n",
       " 'Q119G ': [\"A chronic health condition or pain affects ability to function on a regular or episodic basis due to migraines, Crohn's disease, colitis, and other disabilities or health conditions\",\n",
       "  \"A chronic health condition or pain affects ability to function on a regular or episodic basis due to migraines, Crohn's disease, colitis, and other disabilities or health conditions - Not selected\"],\n",
       " 'Q119H ': [\"A cognitive disability affects ability to carry out tasks involving executive functioning, such as planning and organization, learning information, communication and memory, including autism or Asperger's syndrome, attention deficit disorder, and learning disabilities\",\n",
       "  \"A cognitive disability affects ability to carry out tasks involving executive functioning, such as planning and organization, learning information, communication and memory, including autism or Asperger's syndrome, attention deficit disorder, and learning disabilities - Not selected\"],\n",
       " 'Q119I ': ['An intellectual disability affects your ability to learn and to adapt behaviour to different situations',\n",
       "  'An intellectual disability affects your ability to learn and to adapt behaviour to different situations - Not selected'],\n",
       " 'Q119J ': ['Other disability (including: learning disabilities, developmental disabilities and all other types of disabilities)',\n",
       "  'Other disability (including: learning disabilities, developmental disabilities and all other types of disabilities) - Not selected'],\n",
       " 'Q120 ': ['Visible minority', 'Non-visible minority'],\n",
       " 'Q121A ': ['Black', 'Black - Not selected'],\n",
       " 'Q121B ': ['Chinese', 'Chinese - Not selected'],\n",
       " 'Q121C ': ['Filipino', 'Filipino - Not selected'],\n",
       " 'Q121D ': ['Japanese', 'Japanese - Not selected'],\n",
       " 'Q121E ': ['Korean', 'Korean - Not selected'],\n",
       " 'Q121F ': ['South Asian/East Indian (including: Indian from India; Bangladeshi; Pakistani; East Indian from Guyana, Trinidad, East Africa; etc.)',\n",
       "  'South Asian/East Indian (including: Indian from India; Bangladeshi; Pakistani; East Indian from Guyana, Trinidad, East Africa; etc.) - Not selected'],\n",
       " 'Q121G ': ['Southeast Asian (including: Burmese; Cambodian; Laotian; Thai; Vietnamese; etc.)',\n",
       "  'Southeast Asian (including: Burmese; Cambodian; Laotian; Thai; Vietnamese; etc.) - Not selected'],\n",
       " 'Q121H ': ['Non-White West Asian, North African or Arab (including: Egyptian; Libyan; Lebanese; Iranian; etc.)',\n",
       "  'Non-White West Asian, North African or Arab (including: Egyptian; Libyan; Lebanese; Iranian; etc.) - Not selected'],\n",
       " 'Q121I ': ['Non-White Latin American (including: Indigenous persons from Central and South America, etc.)',\n",
       "  'Non-White Latin American (including: Indigenous persons from Central and South America, etc.) - Not selected'],\n",
       " 'Q121J ': ['Person of mixed origin (with one parent in one of the visible minority groups)',\n",
       "  'Person of mixed origin (with one parent in one of the visible minority groups) - Not selected'],\n",
       " 'Q121K ': ['Other visible minority group',\n",
       "  'Other visible minority group - Not selected'],\n",
       " 'Q122 ': ['Heterosexual',\n",
       "  'Gay or lesbian',\n",
       "  'Bisexual',\n",
       "  'Another sexual orientation',\n",
       "  'Prefer not to answer']}"
      ]
     },
     "execution_count": 385,
     "metadata": {},
     "output_type": "execute_result"
    }
   ],
   "source": [
    "dict_demograph"
   ]
  },
  {
   "cell_type": "code",
   "execution_count": 386,
   "metadata": {},
   "outputs": [],
   "source": [
    "# Number of questions by Indicatior and SubIndicator\n",
    "df_tree_map = df_emp_survey.groupby(['INDICATORENG','SUBINDICATORENG','DESCRIP_E'])[['QUESTION']].count().reset_index()"
   ]
  },
  {
   "cell_type": "code",
   "execution_count": 387,
   "metadata": {},
   "outputs": [
    {
     "data": {
      "application/vnd.plotly.v1+json": {
       "config": {
        "plotlyServerURL": "https://plot.ly"
       },
       "data": [
        {
         "branchvalues": "total",
         "customdata": [
          [
           377.63663228997046
          ],
          [
           478.86357110628
          ],
          [
           150.0236446766819
          ],
          [
           2206.046148834516
          ],
          [
           693.2557087310004
          ],
          [
           316.15956488602507
          ],
          [
           809.2116450177127
          ],
          [
           462.3517694426785
          ],
          [
           462.6845392473403
          ],
          [
           2914.8573657042375
          ],
          [
           314.92296274306074
          ],
          [
           727.3945015919667
          ],
          [
           213.39497307001795
          ],
          [
           231.37608465608466
          ],
          [
           975.6834765254216
          ],
          [
           188.63844983023066
          ],
          [
           346.8471319581803
          ],
          [
           216.51905990255088
          ],
          [
           462.40455267337217
          ],
          [
           65.71631205673759
          ],
          [
           130.641702921069
          ],
          [
           314.62901641644453
          ],
          [
           2710.8509116166
          ],
          [
           158.12701346712439
          ],
          [
           809.2116450177127
          ],
          [
           401.0040168087999
          ],
          [
           496.25871814742214
          ],
          [
           1550.150520224167
          ],
          [
           2114.587011656206
          ],
          [
           1409.8327334027297
          ]
         ],
         "domain": {
          "x": [
           0,
           1
          ],
          "y": [
           0,
           1
          ]
         },
         "hovertemplate": "labels=%{label}<br>QUESTION_sum=%{value}<br>parent=%{parent}<br>id=%{id}<br>QUESTION=%{color}<extra></extra>",
         "ids": [
          "Question Types/WORKPLACE WELL-BEING/A psychologically healthy workplace",
          "Question Types/WORKPLACE WELL-BEING/A safe and healthy workplace",
          "Question Types/WORKPLACE/Anti-racism",
          "Question Types/WORKPLACE/Discrimination",
          "Question Types/WORKPLACE/Diversity and inclusion",
          "Question Types/WORKPLACE/Duty to accommodate",
          "Question Types/EMPLOYEE ENGAGEMENT/Employee Engagement",
          "Question Types/WORKFORCE/Empowerment",
          "Question Types/WORKPLACE/Ethical workplace",
          "Question Types/WORKPLACE/Harassment",
          "Question Types/LEADERSHIP/Immediate supervisor",
          "Question Types/WORKFORCE/Job fit and development",
          "Question Types/WORKFORCE/Mobility and Retention",
          "Question Types/WORKPLACE/Organizational goals",
          "Question Types/WORKPLACE/Organizational performance",
          "Question Types/COMPENSATION/Pay or other compensation issues",
          "Question Types/WORKFORCE/Performance management",
          "Question Types/WORKPLACE/Physical environment and equipment",
          "Question Types/LEADERSHIP/Senior management",
          "Question Types/COMPENSATION/Support to resolve pay or other compensation issues",
          "Question Types/WORKPLACE/Use of official languages",
          "Question Types/WORKFORCE/Work-life balance and workload",
          "Question Types/WORKPLACE WELL-BEING/Work-related stress",
          "Question Types/COMPENSATION",
          "Question Types/EMPLOYEE ENGAGEMENT",
          "Question Types/LEADERSHIP",
          "Question Types/WORKFORCE",
          "Question Types/WORKPLACE",
          "Question Types/WORKPLACE WELL-BEING",
          "Question Types"
         ],
         "labels": [
          "A psychologically healthy workplace",
          "A safe and healthy workplace",
          "Anti-racism",
          "Discrimination",
          "Diversity and inclusion",
          "Duty to accommodate",
          "Employee Engagement",
          "Empowerment",
          "Ethical workplace",
          "Harassment",
          "Immediate supervisor",
          "Job fit and development",
          "Mobility and Retention",
          "Organizational goals",
          "Organizational performance",
          "Pay or other compensation issues",
          "Performance management",
          "Physical environment and equipment",
          "Senior management",
          "Support to resolve pay or other compensation issues",
          "Use of official languages",
          "Work-life balance and workload",
          "Work-related stress",
          "COMPENSATION",
          "EMPLOYEE ENGAGEMENT",
          "LEADERSHIP",
          "WORKFORCE",
          "WORKPLACE",
          "WORKPLACE WELL-BEING",
          "Question Types"
         ],
         "marker": {
          "coloraxis": "coloraxis",
          "colors": [
           377.63663228997046,
           478.86357110628,
           150.0236446766819,
           2206.046148834516,
           693.2557087310004,
           316.15956488602507,
           809.2116450177127,
           462.3517694426785,
           462.6845392473403,
           2914.8573657042375,
           314.92296274306074,
           727.3945015919667,
           213.39497307001795,
           231.37608465608466,
           975.6834765254216,
           188.63844983023066,
           346.8471319581803,
           216.51905990255088,
           462.40455267337217,
           65.71631205673759,
           130.641702921069,
           314.62901641644453,
           2710.8509116166,
           158.12701346712439,
           809.2116450177127,
           401.0040168087999,
           496.25871814742214,
           1550.150520224167,
           2114.587011656206,
           1409.8327334027297
          ]
         },
         "name": "",
         "parents": [
          "Question Types/WORKPLACE WELL-BEING",
          "Question Types/WORKPLACE WELL-BEING",
          "Question Types/WORKPLACE",
          "Question Types/WORKPLACE",
          "Question Types/WORKPLACE",
          "Question Types/WORKPLACE",
          "Question Types/EMPLOYEE ENGAGEMENT",
          "Question Types/WORKFORCE",
          "Question Types/WORKPLACE",
          "Question Types/WORKPLACE",
          "Question Types/LEADERSHIP",
          "Question Types/WORKFORCE",
          "Question Types/WORKFORCE",
          "Question Types/WORKPLACE",
          "Question Types/WORKPLACE",
          "Question Types/COMPENSATION",
          "Question Types/WORKFORCE",
          "Question Types/WORKPLACE",
          "Question Types/LEADERSHIP",
          "Question Types/COMPENSATION",
          "Question Types/WORKPLACE",
          "Question Types/WORKFORCE",
          "Question Types/WORKPLACE WELL-BEING",
          "Question Types",
          "Question Types",
          "Question Types",
          "Question Types",
          "Question Types",
          "Question Types",
          ""
         ],
         "type": "treemap",
         "values": [
          16581,
          24379,
          7655,
          55256,
          28290,
          14433,
          33027,
          18876,
          18893,
          70516,
          13474,
          32664,
          7798,
          9450,
          41087,
          8541,
          14156,
          10467,
          18890,
          2820,
          6436,
          14254,
          115180,
          11361,
          33027,
          32364,
          87748,
          262483,
          156140,
          583123
         ]
        }
       ],
       "layout": {
        "coloraxis": {
         "colorbar": {
          "title": {
           "text": "QUESTION"
          }
         },
         "colorscale": [
          [
           0,
           "rgb(247,252,240)"
          ],
          [
           0.125,
           "rgb(224,243,219)"
          ],
          [
           0.25,
           "rgb(204,235,197)"
          ],
          [
           0.375,
           "rgb(168,221,181)"
          ],
          [
           0.5,
           "rgb(123,204,196)"
          ],
          [
           0.625,
           "rgb(78,179,211)"
          ],
          [
           0.75,
           "rgb(43,140,190)"
          ],
          [
           0.875,
           "rgb(8,104,172)"
          ],
          [
           1,
           "rgb(8,64,129)"
          ]
         ]
        },
        "legend": {
         "tracegroupgap": 0
        },
        "margin": {
         "b": 25,
         "l": 25,
         "r": 25,
         "t": 50
        },
        "template": {
         "data": {
          "bar": [
           {
            "error_x": {
             "color": "#2a3f5f"
            },
            "error_y": {
             "color": "#2a3f5f"
            },
            "marker": {
             "line": {
              "color": "#E5ECF6",
              "width": 0.5
             },
             "pattern": {
              "fillmode": "overlay",
              "size": 10,
              "solidity": 0.2
             }
            },
            "type": "bar"
           }
          ],
          "barpolar": [
           {
            "marker": {
             "line": {
              "color": "#E5ECF6",
              "width": 0.5
             },
             "pattern": {
              "fillmode": "overlay",
              "size": 10,
              "solidity": 0.2
             }
            },
            "type": "barpolar"
           }
          ],
          "carpet": [
           {
            "aaxis": {
             "endlinecolor": "#2a3f5f",
             "gridcolor": "white",
             "linecolor": "white",
             "minorgridcolor": "white",
             "startlinecolor": "#2a3f5f"
            },
            "baxis": {
             "endlinecolor": "#2a3f5f",
             "gridcolor": "white",
             "linecolor": "white",
             "minorgridcolor": "white",
             "startlinecolor": "#2a3f5f"
            },
            "type": "carpet"
           }
          ],
          "choropleth": [
           {
            "colorbar": {
             "outlinewidth": 0,
             "ticks": ""
            },
            "type": "choropleth"
           }
          ],
          "contour": [
           {
            "colorbar": {
             "outlinewidth": 0,
             "ticks": ""
            },
            "colorscale": [
             [
              0,
              "#0d0887"
             ],
             [
              0.1111111111111111,
              "#46039f"
             ],
             [
              0.2222222222222222,
              "#7201a8"
             ],
             [
              0.3333333333333333,
              "#9c179e"
             ],
             [
              0.4444444444444444,
              "#bd3786"
             ],
             [
              0.5555555555555556,
              "#d8576b"
             ],
             [
              0.6666666666666666,
              "#ed7953"
             ],
             [
              0.7777777777777778,
              "#fb9f3a"
             ],
             [
              0.8888888888888888,
              "#fdca26"
             ],
             [
              1,
              "#f0f921"
             ]
            ],
            "type": "contour"
           }
          ],
          "contourcarpet": [
           {
            "colorbar": {
             "outlinewidth": 0,
             "ticks": ""
            },
            "type": "contourcarpet"
           }
          ],
          "heatmap": [
           {
            "colorbar": {
             "outlinewidth": 0,
             "ticks": ""
            },
            "colorscale": [
             [
              0,
              "#0d0887"
             ],
             [
              0.1111111111111111,
              "#46039f"
             ],
             [
              0.2222222222222222,
              "#7201a8"
             ],
             [
              0.3333333333333333,
              "#9c179e"
             ],
             [
              0.4444444444444444,
              "#bd3786"
             ],
             [
              0.5555555555555556,
              "#d8576b"
             ],
             [
              0.6666666666666666,
              "#ed7953"
             ],
             [
              0.7777777777777778,
              "#fb9f3a"
             ],
             [
              0.8888888888888888,
              "#fdca26"
             ],
             [
              1,
              "#f0f921"
             ]
            ],
            "type": "heatmap"
           }
          ],
          "heatmapgl": [
           {
            "colorbar": {
             "outlinewidth": 0,
             "ticks": ""
            },
            "colorscale": [
             [
              0,
              "#0d0887"
             ],
             [
              0.1111111111111111,
              "#46039f"
             ],
             [
              0.2222222222222222,
              "#7201a8"
             ],
             [
              0.3333333333333333,
              "#9c179e"
             ],
             [
              0.4444444444444444,
              "#bd3786"
             ],
             [
              0.5555555555555556,
              "#d8576b"
             ],
             [
              0.6666666666666666,
              "#ed7953"
             ],
             [
              0.7777777777777778,
              "#fb9f3a"
             ],
             [
              0.8888888888888888,
              "#fdca26"
             ],
             [
              1,
              "#f0f921"
             ]
            ],
            "type": "heatmapgl"
           }
          ],
          "histogram": [
           {
            "marker": {
             "pattern": {
              "fillmode": "overlay",
              "size": 10,
              "solidity": 0.2
             }
            },
            "type": "histogram"
           }
          ],
          "histogram2d": [
           {
            "colorbar": {
             "outlinewidth": 0,
             "ticks": ""
            },
            "colorscale": [
             [
              0,
              "#0d0887"
             ],
             [
              0.1111111111111111,
              "#46039f"
             ],
             [
              0.2222222222222222,
              "#7201a8"
             ],
             [
              0.3333333333333333,
              "#9c179e"
             ],
             [
              0.4444444444444444,
              "#bd3786"
             ],
             [
              0.5555555555555556,
              "#d8576b"
             ],
             [
              0.6666666666666666,
              "#ed7953"
             ],
             [
              0.7777777777777778,
              "#fb9f3a"
             ],
             [
              0.8888888888888888,
              "#fdca26"
             ],
             [
              1,
              "#f0f921"
             ]
            ],
            "type": "histogram2d"
           }
          ],
          "histogram2dcontour": [
           {
            "colorbar": {
             "outlinewidth": 0,
             "ticks": ""
            },
            "colorscale": [
             [
              0,
              "#0d0887"
             ],
             [
              0.1111111111111111,
              "#46039f"
             ],
             [
              0.2222222222222222,
              "#7201a8"
             ],
             [
              0.3333333333333333,
              "#9c179e"
             ],
             [
              0.4444444444444444,
              "#bd3786"
             ],
             [
              0.5555555555555556,
              "#d8576b"
             ],
             [
              0.6666666666666666,
              "#ed7953"
             ],
             [
              0.7777777777777778,
              "#fb9f3a"
             ],
             [
              0.8888888888888888,
              "#fdca26"
             ],
             [
              1,
              "#f0f921"
             ]
            ],
            "type": "histogram2dcontour"
           }
          ],
          "mesh3d": [
           {
            "colorbar": {
             "outlinewidth": 0,
             "ticks": ""
            },
            "type": "mesh3d"
           }
          ],
          "parcoords": [
           {
            "line": {
             "colorbar": {
              "outlinewidth": 0,
              "ticks": ""
             }
            },
            "type": "parcoords"
           }
          ],
          "pie": [
           {
            "automargin": true,
            "type": "pie"
           }
          ],
          "scatter": [
           {
            "marker": {
             "colorbar": {
              "outlinewidth": 0,
              "ticks": ""
             }
            },
            "type": "scatter"
           }
          ],
          "scatter3d": [
           {
            "line": {
             "colorbar": {
              "outlinewidth": 0,
              "ticks": ""
             }
            },
            "marker": {
             "colorbar": {
              "outlinewidth": 0,
              "ticks": ""
             }
            },
            "type": "scatter3d"
           }
          ],
          "scattercarpet": [
           {
            "marker": {
             "colorbar": {
              "outlinewidth": 0,
              "ticks": ""
             }
            },
            "type": "scattercarpet"
           }
          ],
          "scattergeo": [
           {
            "marker": {
             "colorbar": {
              "outlinewidth": 0,
              "ticks": ""
             }
            },
            "type": "scattergeo"
           }
          ],
          "scattergl": [
           {
            "marker": {
             "colorbar": {
              "outlinewidth": 0,
              "ticks": ""
             }
            },
            "type": "scattergl"
           }
          ],
          "scattermapbox": [
           {
            "marker": {
             "colorbar": {
              "outlinewidth": 0,
              "ticks": ""
             }
            },
            "type": "scattermapbox"
           }
          ],
          "scatterpolar": [
           {
            "marker": {
             "colorbar": {
              "outlinewidth": 0,
              "ticks": ""
             }
            },
            "type": "scatterpolar"
           }
          ],
          "scatterpolargl": [
           {
            "marker": {
             "colorbar": {
              "outlinewidth": 0,
              "ticks": ""
             }
            },
            "type": "scatterpolargl"
           }
          ],
          "scatterternary": [
           {
            "marker": {
             "colorbar": {
              "outlinewidth": 0,
              "ticks": ""
             }
            },
            "type": "scatterternary"
           }
          ],
          "surface": [
           {
            "colorbar": {
             "outlinewidth": 0,
             "ticks": ""
            },
            "colorscale": [
             [
              0,
              "#0d0887"
             ],
             [
              0.1111111111111111,
              "#46039f"
             ],
             [
              0.2222222222222222,
              "#7201a8"
             ],
             [
              0.3333333333333333,
              "#9c179e"
             ],
             [
              0.4444444444444444,
              "#bd3786"
             ],
             [
              0.5555555555555556,
              "#d8576b"
             ],
             [
              0.6666666666666666,
              "#ed7953"
             ],
             [
              0.7777777777777778,
              "#fb9f3a"
             ],
             [
              0.8888888888888888,
              "#fdca26"
             ],
             [
              1,
              "#f0f921"
             ]
            ],
            "type": "surface"
           }
          ],
          "table": [
           {
            "cells": {
             "fill": {
              "color": "#EBF0F8"
             },
             "line": {
              "color": "white"
             }
            },
            "header": {
             "fill": {
              "color": "#C8D4E3"
             },
             "line": {
              "color": "white"
             }
            },
            "type": "table"
           }
          ]
         },
         "layout": {
          "annotationdefaults": {
           "arrowcolor": "#2a3f5f",
           "arrowhead": 0,
           "arrowwidth": 1
          },
          "autotypenumbers": "strict",
          "coloraxis": {
           "colorbar": {
            "outlinewidth": 0,
            "ticks": ""
           }
          },
          "colorscale": {
           "diverging": [
            [
             0,
             "#8e0152"
            ],
            [
             0.1,
             "#c51b7d"
            ],
            [
             0.2,
             "#de77ae"
            ],
            [
             0.3,
             "#f1b6da"
            ],
            [
             0.4,
             "#fde0ef"
            ],
            [
             0.5,
             "#f7f7f7"
            ],
            [
             0.6,
             "#e6f5d0"
            ],
            [
             0.7,
             "#b8e186"
            ],
            [
             0.8,
             "#7fbc41"
            ],
            [
             0.9,
             "#4d9221"
            ],
            [
             1,
             "#276419"
            ]
           ],
           "sequential": [
            [
             0,
             "#0d0887"
            ],
            [
             0.1111111111111111,
             "#46039f"
            ],
            [
             0.2222222222222222,
             "#7201a8"
            ],
            [
             0.3333333333333333,
             "#9c179e"
            ],
            [
             0.4444444444444444,
             "#bd3786"
            ],
            [
             0.5555555555555556,
             "#d8576b"
            ],
            [
             0.6666666666666666,
             "#ed7953"
            ],
            [
             0.7777777777777778,
             "#fb9f3a"
            ],
            [
             0.8888888888888888,
             "#fdca26"
            ],
            [
             1,
             "#f0f921"
            ]
           ],
           "sequentialminus": [
            [
             0,
             "#0d0887"
            ],
            [
             0.1111111111111111,
             "#46039f"
            ],
            [
             0.2222222222222222,
             "#7201a8"
            ],
            [
             0.3333333333333333,
             "#9c179e"
            ],
            [
             0.4444444444444444,
             "#bd3786"
            ],
            [
             0.5555555555555556,
             "#d8576b"
            ],
            [
             0.6666666666666666,
             "#ed7953"
            ],
            [
             0.7777777777777778,
             "#fb9f3a"
            ],
            [
             0.8888888888888888,
             "#fdca26"
            ],
            [
             1,
             "#f0f921"
            ]
           ]
          },
          "colorway": [
           "#636efa",
           "#EF553B",
           "#00cc96",
           "#ab63fa",
           "#FFA15A",
           "#19d3f3",
           "#FF6692",
           "#B6E880",
           "#FF97FF",
           "#FECB52"
          ],
          "font": {
           "color": "#2a3f5f"
          },
          "geo": {
           "bgcolor": "white",
           "lakecolor": "white",
           "landcolor": "#E5ECF6",
           "showlakes": true,
           "showland": true,
           "subunitcolor": "white"
          },
          "hoverlabel": {
           "align": "left"
          },
          "hovermode": "closest",
          "mapbox": {
           "style": "light"
          },
          "paper_bgcolor": "white",
          "plot_bgcolor": "#E5ECF6",
          "polar": {
           "angularaxis": {
            "gridcolor": "white",
            "linecolor": "white",
            "ticks": ""
           },
           "bgcolor": "#E5ECF6",
           "radialaxis": {
            "gridcolor": "white",
            "linecolor": "white",
            "ticks": ""
           }
          },
          "scene": {
           "xaxis": {
            "backgroundcolor": "#E5ECF6",
            "gridcolor": "white",
            "gridwidth": 2,
            "linecolor": "white",
            "showbackground": true,
            "ticks": "",
            "zerolinecolor": "white"
           },
           "yaxis": {
            "backgroundcolor": "#E5ECF6",
            "gridcolor": "white",
            "gridwidth": 2,
            "linecolor": "white",
            "showbackground": true,
            "ticks": "",
            "zerolinecolor": "white"
           },
           "zaxis": {
            "backgroundcolor": "#E5ECF6",
            "gridcolor": "white",
            "gridwidth": 2,
            "linecolor": "white",
            "showbackground": true,
            "ticks": "",
            "zerolinecolor": "white"
           }
          },
          "shapedefaults": {
           "line": {
            "color": "#2a3f5f"
           }
          },
          "ternary": {
           "aaxis": {
            "gridcolor": "white",
            "linecolor": "white",
            "ticks": ""
           },
           "baxis": {
            "gridcolor": "white",
            "linecolor": "white",
            "ticks": ""
           },
           "bgcolor": "#E5ECF6",
           "caxis": {
            "gridcolor": "white",
            "linecolor": "white",
            "ticks": ""
           }
          },
          "title": {
           "x": 0.05
          },
          "xaxis": {
           "automargin": true,
           "gridcolor": "white",
           "linecolor": "white",
           "ticks": "",
           "title": {
            "standoff": 15
           },
           "zerolinecolor": "white",
           "zerolinewidth": 2
          },
          "yaxis": {
           "automargin": true,
           "gridcolor": "white",
           "linecolor": "white",
           "ticks": "",
           "title": {
            "standoff": 15
           },
           "zerolinecolor": "white",
           "zerolinewidth": 2
          }
         }
        }
       }
      }
     },
     "metadata": {},
     "output_type": "display_data"
    }
   ],
   "source": [
    "# Number of questions by Indicatior and SubIndicator\n",
    "fig = px.treemap(df_tree_map, path=[px.Constant(\"Question Types\"), 'INDICATORENG', 'SUBINDICATORENG'], values='QUESTION', color='QUESTION'\n",
    "                                    ,color_continuous_scale='GnBu')\n",
    "fig.update_layout(margin = dict(t=50, l=25, r=25, b=25))\n",
    "fig.show()"
   ]
  },
  {
   "cell_type": "code",
   "execution_count": null,
   "metadata": {},
   "outputs": [],
   "source": [
    "## Lets pick two questions from each sub indicator with the most votes (could be most negative)"
   ]
  },
  {
   "cell_type": "code",
   "execution_count": 450,
   "metadata": {},
   "outputs": [
    {
     "ename": "ValueError",
     "evalue": "Value of 'values' is not the name of a column in 'data_frame'. Expected one of ['BYCOND', 'Strongly agree', 'Somewhat agree', 'Neither agree nor disagree', 'Somewhat disagree', 'Strongly disagree', \"Don't know\", 'Not applicable'] but received: QUESTION",
     "output_type": "error",
     "traceback": [
      "\u001b[1;31m---------------------------------------------------------------------------\u001b[0m",
      "\u001b[1;31mValueError\u001b[0m                                Traceback (most recent call last)",
      "\u001b[1;32m~\\AppData\\Local\\Temp/ipykernel_3948/4002788077.py\u001b[0m in \u001b[0;36m<module>\u001b[1;34m\u001b[0m\n\u001b[0;32m      1\u001b[0m \u001b[1;31m# Number of questions by each demogoraphic group sorted by Indicatior and SubIndicator\u001b[0m\u001b[1;33m\u001b[0m\u001b[1;33m\u001b[0m\u001b[1;33m\u001b[0m\u001b[0m\n\u001b[1;32m----> 2\u001b[1;33m fig = px.treemap(df_tree_map, path=[px.Constant(\"Question Types\"), 'INDICATORENG', 'SUBINDICATORENG','DESCRIP_E'], values='QUESTION', color='QUESTION'\n\u001b[0m\u001b[0;32m      3\u001b[0m                                     ,color_continuous_scale='GnBu')\n\u001b[0;32m      4\u001b[0m \u001b[0mfig\u001b[0m\u001b[1;33m.\u001b[0m\u001b[0mupdate_layout\u001b[0m\u001b[1;33m(\u001b[0m\u001b[0mmargin\u001b[0m \u001b[1;33m=\u001b[0m \u001b[0mdict\u001b[0m\u001b[1;33m(\u001b[0m\u001b[0mt\u001b[0m\u001b[1;33m=\u001b[0m\u001b[1;36m50\u001b[0m\u001b[1;33m,\u001b[0m \u001b[0ml\u001b[0m\u001b[1;33m=\u001b[0m\u001b[1;36m25\u001b[0m\u001b[1;33m,\u001b[0m \u001b[0mr\u001b[0m\u001b[1;33m=\u001b[0m\u001b[1;36m25\u001b[0m\u001b[1;33m,\u001b[0m \u001b[0mb\u001b[0m\u001b[1;33m=\u001b[0m\u001b[1;36m25\u001b[0m\u001b[1;33m)\u001b[0m\u001b[1;33m)\u001b[0m\u001b[1;33m\u001b[0m\u001b[1;33m\u001b[0m\u001b[0m\n\u001b[0;32m      5\u001b[0m \u001b[0mfig\u001b[0m\u001b[1;33m.\u001b[0m\u001b[0mshow\u001b[0m\u001b[1;33m(\u001b[0m\u001b[1;33m)\u001b[0m\u001b[1;33m\u001b[0m\u001b[1;33m\u001b[0m\u001b[0m\n",
      "\u001b[1;32m~\\anaconda3\\envs\\ai-env\\lib\\site-packages\\plotly\\express\\_chart_types.py\u001b[0m in \u001b[0;36mtreemap\u001b[1;34m(data_frame, names, values, parents, ids, path, color, color_continuous_scale, range_color, color_continuous_midpoint, color_discrete_sequence, color_discrete_map, hover_name, hover_data, custom_data, labels, title, template, width, height, branchvalues, maxdepth)\u001b[0m\n\u001b[0;32m   1569\u001b[0m     \u001b[1;32mif\u001b[0m \u001b[0mpath\u001b[0m \u001b[1;32mis\u001b[0m \u001b[1;32mnot\u001b[0m \u001b[1;32mNone\u001b[0m \u001b[1;32mand\u001b[0m \u001b[0mbranchvalues\u001b[0m \u001b[1;32mis\u001b[0m \u001b[1;32mNone\u001b[0m\u001b[1;33m:\u001b[0m\u001b[1;33m\u001b[0m\u001b[1;33m\u001b[0m\u001b[0m\n\u001b[0;32m   1570\u001b[0m         \u001b[0mbranchvalues\u001b[0m \u001b[1;33m=\u001b[0m \u001b[1;34m\"total\"\u001b[0m\u001b[1;33m\u001b[0m\u001b[1;33m\u001b[0m\u001b[0m\n\u001b[1;32m-> 1571\u001b[1;33m     return make_figure(\n\u001b[0m\u001b[0;32m   1572\u001b[0m         \u001b[0margs\u001b[0m\u001b[1;33m=\u001b[0m\u001b[0mlocals\u001b[0m\u001b[1;33m(\u001b[0m\u001b[1;33m)\u001b[0m\u001b[1;33m,\u001b[0m\u001b[1;33m\u001b[0m\u001b[1;33m\u001b[0m\u001b[0m\n\u001b[0;32m   1573\u001b[0m         \u001b[0mconstructor\u001b[0m\u001b[1;33m=\u001b[0m\u001b[0mgo\u001b[0m\u001b[1;33m.\u001b[0m\u001b[0mTreemap\u001b[0m\u001b[1;33m,\u001b[0m\u001b[1;33m\u001b[0m\u001b[1;33m\u001b[0m\u001b[0m\n",
      "\u001b[1;32m~\\anaconda3\\envs\\ai-env\\lib\\site-packages\\plotly\\express\\_core.py\u001b[0m in \u001b[0;36mmake_figure\u001b[1;34m(args, constructor, trace_patch, layout_patch)\u001b[0m\n\u001b[0;32m   1943\u001b[0m     \u001b[0mapply_default_cascade\u001b[0m\u001b[1;33m(\u001b[0m\u001b[0margs\u001b[0m\u001b[1;33m)\u001b[0m\u001b[1;33m\u001b[0m\u001b[1;33m\u001b[0m\u001b[0m\n\u001b[0;32m   1944\u001b[0m \u001b[1;33m\u001b[0m\u001b[0m\n\u001b[1;32m-> 1945\u001b[1;33m     \u001b[0margs\u001b[0m \u001b[1;33m=\u001b[0m \u001b[0mbuild_dataframe\u001b[0m\u001b[1;33m(\u001b[0m\u001b[0margs\u001b[0m\u001b[1;33m,\u001b[0m \u001b[0mconstructor\u001b[0m\u001b[1;33m)\u001b[0m\u001b[1;33m\u001b[0m\u001b[1;33m\u001b[0m\u001b[0m\n\u001b[0m\u001b[0;32m   1946\u001b[0m     \u001b[1;32mif\u001b[0m \u001b[0mconstructor\u001b[0m \u001b[1;32min\u001b[0m \u001b[1;33m[\u001b[0m\u001b[0mgo\u001b[0m\u001b[1;33m.\u001b[0m\u001b[0mTreemap\u001b[0m\u001b[1;33m,\u001b[0m \u001b[0mgo\u001b[0m\u001b[1;33m.\u001b[0m\u001b[0mSunburst\u001b[0m\u001b[1;33m,\u001b[0m \u001b[0mgo\u001b[0m\u001b[1;33m.\u001b[0m\u001b[0mIcicle\u001b[0m\u001b[1;33m]\u001b[0m \u001b[1;32mand\u001b[0m \u001b[0margs\u001b[0m\u001b[1;33m[\u001b[0m\u001b[1;34m\"path\"\u001b[0m\u001b[1;33m]\u001b[0m \u001b[1;32mis\u001b[0m \u001b[1;32mnot\u001b[0m \u001b[1;32mNone\u001b[0m\u001b[1;33m:\u001b[0m\u001b[1;33m\u001b[0m\u001b[1;33m\u001b[0m\u001b[0m\n\u001b[0;32m   1947\u001b[0m         \u001b[0margs\u001b[0m \u001b[1;33m=\u001b[0m \u001b[0mprocess_dataframe_hierarchy\u001b[0m\u001b[1;33m(\u001b[0m\u001b[0margs\u001b[0m\u001b[1;33m)\u001b[0m\u001b[1;33m\u001b[0m\u001b[1;33m\u001b[0m\u001b[0m\n",
      "\u001b[1;32m~\\anaconda3\\envs\\ai-env\\lib\\site-packages\\plotly\\express\\_core.py\u001b[0m in \u001b[0;36mbuild_dataframe\u001b[1;34m(args, constructor)\u001b[0m\n\u001b[0;32m   1403\u001b[0m     \u001b[1;31m# now that things have been prepped, we do the systematic rewriting of `args`\u001b[0m\u001b[1;33m\u001b[0m\u001b[1;33m\u001b[0m\u001b[1;33m\u001b[0m\u001b[0m\n\u001b[0;32m   1404\u001b[0m \u001b[1;33m\u001b[0m\u001b[0m\n\u001b[1;32m-> 1405\u001b[1;33m     df_output, wide_id_vars = process_args_into_dataframe(\n\u001b[0m\u001b[0;32m   1406\u001b[0m         \u001b[0margs\u001b[0m\u001b[1;33m,\u001b[0m \u001b[0mwide_mode\u001b[0m\u001b[1;33m,\u001b[0m \u001b[0mvar_name\u001b[0m\u001b[1;33m,\u001b[0m \u001b[0mvalue_name\u001b[0m\u001b[1;33m\u001b[0m\u001b[1;33m\u001b[0m\u001b[0m\n\u001b[0;32m   1407\u001b[0m     )\n",
      "\u001b[1;32m~\\anaconda3\\envs\\ai-env\\lib\\site-packages\\plotly\\express\\_core.py\u001b[0m in \u001b[0;36mprocess_args_into_dataframe\u001b[1;34m(args, wide_mode, var_name, value_name)\u001b[0m\n\u001b[0;32m   1205\u001b[0m                         \u001b[1;32mif\u001b[0m \u001b[0margument\u001b[0m \u001b[1;33m==\u001b[0m \u001b[1;34m\"index\"\u001b[0m\u001b[1;33m:\u001b[0m\u001b[1;33m\u001b[0m\u001b[1;33m\u001b[0m\u001b[0m\n\u001b[0;32m   1206\u001b[0m                             \u001b[0merr_msg\u001b[0m \u001b[1;33m+=\u001b[0m \u001b[1;34m\"\\n To use the index, pass it in directly as `df.index`.\"\u001b[0m\u001b[1;33m\u001b[0m\u001b[1;33m\u001b[0m\u001b[0m\n\u001b[1;32m-> 1207\u001b[1;33m                         \u001b[1;32mraise\u001b[0m \u001b[0mValueError\u001b[0m\u001b[1;33m(\u001b[0m\u001b[0merr_msg\u001b[0m\u001b[1;33m)\u001b[0m\u001b[1;33m\u001b[0m\u001b[1;33m\u001b[0m\u001b[0m\n\u001b[0m\u001b[0;32m   1208\u001b[0m                 \u001b[1;32melif\u001b[0m \u001b[0mlength\u001b[0m \u001b[1;32mand\u001b[0m \u001b[0mlen\u001b[0m\u001b[1;33m(\u001b[0m\u001b[0mdf_input\u001b[0m\u001b[1;33m[\u001b[0m\u001b[0margument\u001b[0m\u001b[1;33m]\u001b[0m\u001b[1;33m)\u001b[0m \u001b[1;33m!=\u001b[0m \u001b[0mlength\u001b[0m\u001b[1;33m:\u001b[0m\u001b[1;33m\u001b[0m\u001b[1;33m\u001b[0m\u001b[0m\n\u001b[0;32m   1209\u001b[0m                     raise ValueError(\n",
      "\u001b[1;31mValueError\u001b[0m: Value of 'values' is not the name of a column in 'data_frame'. Expected one of ['BYCOND', 'Strongly agree', 'Somewhat agree', 'Neither agree nor disagree', 'Somewhat disagree', 'Strongly disagree', \"Don't know\", 'Not applicable'] but received: QUESTION"
     ]
    }
   ],
   "source": [
    "# Number of questions by each demogoraphic group sorted by Indicatior and SubIndicator\n",
    "fig = px.treemap(df_tree_map, path=[px.Constant(\"Question Types\"), 'INDICATORENG', 'SUBINDICATORENG','DESCRIP_E'], values='QUESTION', color='QUESTION'\n",
    "                                    ,color_continuous_scale='GnBu')\n",
    "fig.update_layout(margin = dict(t=50, l=25, r=25, b=25))\n",
    "fig.show()"
   ]
  },
  {
   "cell_type": "code",
   "execution_count": 402,
   "metadata": {},
   "outputs": [],
   "source": [
    "# Number of questions by DEPT\n",
    "df_tree_map = df_emp_survey.query(\"BYCOND_2 == 'Q122'\").groupby(['DEPT_E','DESCRIP_E'])[['ANSCOUNT']].count().reset_index()"
   ]
  },
  {
   "cell_type": "code",
   "execution_count": 403,
   "metadata": {},
   "outputs": [
    {
     "data": {
      "application/vnd.plotly.v1+json": {
       "config": {
        "plotlyServerURL": "https://plot.ly"
       },
       "data": [
        {
         "branchvalues": "total",
         "customdata": [
          [
           271
          ],
          [
           286
          ],
          [
           385
          ],
          [
           159
          ],
          [
           112
          ],
          [
           111
          ],
          [
           326
          ],
          [
           73
          ],
          [
           196
          ],
          [
           329
          ],
          [
           383
          ],
          [
           274
          ],
          [
           278
          ],
          [
           273
          ],
          [
           273
          ],
          [
           279
          ],
          [
           276
          ],
          [
           277
          ],
          [
           73
          ],
          [
           270
          ],
          [
           281
          ],
          [
           112
          ],
          [
           530
          ],
          [
           316
          ],
          [
           274
          ],
          [
           271
          ],
          [
           273
          ],
          [
           274
          ],
          [
           198
          ],
          [
           116
          ],
          [
           297
          ],
          [
           321
          ],
          [
           425
          ],
          [
           74
          ],
          [
           159
          ],
          [
           113
          ],
          [
           199
          ],
          [
           113
          ],
          [
           341
          ],
          [
           161
          ],
          [
           3
          ],
          [
           196
          ],
          [
           400
          ],
          [
           420
          ],
          [
           299
          ],
          [
           328
          ],
          [
           287
          ],
          [
           280
          ],
          [
           2
          ],
          [
           291
          ],
          [
           197
          ],
          [
           321
          ],
          [
           81
          ],
          [
           308
          ],
          [
           198
          ],
          [
           186
          ],
          [
           109
          ],
          [
           304
          ],
          [
           189
          ],
          [
           86
          ],
          [
           389
          ],
          [
           115
          ],
          [
           112
          ],
          [
           202
          ],
          [
           527
          ],
          [
           383
          ],
          [
           313
          ],
          [
           274
          ],
          [
           302
          ],
          [
           291
          ],
          [
           276
          ],
          [
           220
          ],
          [
           1
          ],
          [
           113
          ],
          [
           1
          ],
          [
           2
          ],
          [
           284
          ],
          [
           272
          ],
          [
           417
          ],
          [
           113
          ],
          [
           52
          ],
          [
           458
          ],
          [
           198
          ],
          [
           306
          ],
          [
           107
          ],
          [
           283
          ],
          [
           113
          ],
          [
           73
          ],
          [
           272
          ],
          [
           428
          ],
          [
           270
          ],
          [
           196
          ],
          [
           252
          ],
          [
           326
          ],
          [
           356
          ],
          [
           441
          ],
          [
           280
          ],
          [
           338
          ],
          [
           395
          ],
          [
           340
          ],
          [
           282
          ],
          [
           369
          ],
          [
           2
          ],
          [
           343
          ],
          [
           197
          ],
          [
           366
          ],
          [
           74
          ],
          [
           162
          ],
          [
           85
          ],
          [
           161
          ],
          [
           280
          ],
          [
           76
          ],
          [
           112
          ],
          [
           187
          ],
          [
           289
          ],
          [
           273
          ],
          [
           313
          ],
          [
           271
          ],
          [
           74
          ],
          [
           561
          ],
          [
           278
          ],
          [
           420
          ],
          [
           312
          ],
          [
           322
          ],
          [
           1
          ],
          [
           292
          ],
          [
           372
          ],
          [
           285
          ],
          [
           285
          ],
          [
           198
          ],
          [
           351
          ],
          [
           537
          ],
          [
           411
          ],
          [
           563
          ],
          [
           344
          ],
          [
           400
          ],
          [
           559
          ],
          [
           431
          ],
          [
           546
          ],
          [
           386
          ],
          [
           464
          ],
          [
           291
          ],
          [
           403
          ],
          [
           441
          ],
          [
           426
          ],
          [
           380
          ],
          [
           379
          ],
          [
           451
          ],
          [
           563
          ],
          [
           413
          ],
          [
           464
          ],
          [
           381
          ],
          [
           507
          ],
          [
           556
          ],
          [
           559
          ],
          [
           538
          ],
          [
           344
          ],
          [
           122
          ],
          [
           552
          ],
          [
           548
          ],
          [
           541
          ],
          [
           430
          ],
          [
           548
          ],
          [
           419
          ],
          [
           543
          ],
          [
           373
          ],
          [
           523
          ],
          [
           437
          ],
          [
           426
          ],
          [
           330
          ],
          [
           458
          ],
          [
           518
          ],
          [
           382
          ],
          [
           445
          ],
          [
           416
          ],
          [
           213
          ],
          [
           328
          ],
          [
           535
          ],
          [
           426
          ],
          [
           471
          ],
          [
           429
          ],
          [
           438
          ],
          [
           565
          ],
          [
           428
          ],
          [
           549
          ],
          [
           548
          ],
          [
           515
          ],
          [
           347
          ],
          [
           469
          ],
          [
           497
          ],
          [
           124
          ],
          [
           539
          ],
          [
           317
          ],
          [
           473
          ],
          [
           516
          ],
          [
           309
          ],
          [
           301
          ],
          [
           283
          ],
          [
           475
          ],
          [
           297
          ],
          [
           543
          ],
          [
           282
          ],
          [
           357
          ],
          [
           554
          ],
          [
           338
          ],
          [
           504
          ],
          [
           290
          ],
          [
           422
          ],
          [
           274
          ],
          [
           276
          ],
          [
           393
          ],
          [
           289
          ],
          [
           292
          ],
          [
           204
          ],
          [
           401
          ],
          [
           554
          ],
          [
           326
          ],
          [
           427
          ],
          [
           286
          ],
          [
           435
          ],
          [
           551
          ],
          [
           554
          ],
          [
           474
          ],
          [
           280
          ],
          [
           114
          ],
          [
           507
          ],
          [
           457
          ],
          [
           483
          ],
          [
           369
          ],
          [
           474
          ],
          [
           296
          ],
          [
           509
          ],
          [
           304
          ],
          [
           476
          ],
          [
           313
          ],
          [
           358
          ],
          [
           273
          ],
          [
           392
          ],
          [
           453
          ],
          [
           297
          ],
          [
           281
          ],
          [
           306
          ],
          [
           105
          ],
          [
           271
          ],
          [
           455
          ],
          [
           324
          ],
          [
           398
          ],
          [
           398
          ],
          [
           412
          ],
          [
           565
          ],
          [
           366
          ],
          [
           515
          ],
          [
           515
          ],
          [
           482
          ],
          [
           277
          ],
          [
           292
          ],
          [
           429
          ],
          [
           112
          ],
          [
           494
          ],
          [
           274
          ],
          [
           425
          ],
          [
           450
          ],
          [
           275
          ],
          [
           206
          ],
          [
           288.2313829787234
          ],
          [
           405.7403433476395
          ],
          [
           337.87142857142857
          ],
          [
           455.6544600938967
          ],
          [
           285.01894451962113
          ],
          [
           358.65636588380715
          ],
          [
           486.35489290214196
          ],
          [
           331.1095100864553
          ],
          [
           415.96774193548384
          ],
          [
           312.31800766283527
          ],
          [
           357.80631276901005
          ],
          [
           282.7557522123894
          ],
          [
           317.3661616161616
          ],
          [
           356.1121157323689
          ],
          [
           370.62517482517484
          ],
          [
           341.76190476190476
          ],
          [
           317.7650085763293
          ],
          [
           343.6765578635015
          ],
          [
           465.4728752260398
          ],
          [
           346.62537165510406
          ],
          [
           353.74034822104466
          ],
          [
           315.0433839479393
          ],
          [
           379.14578313253014
          ],
          [
           459.7235401459854
          ],
          [
           482.3788714467544
          ],
          [
           405.8965147453083
          ],
          [
           315.28205128205127
          ],
          [
           118.13559322033899
          ],
          [
           429.7878182725911
          ],
          [
           419.4265306122449
          ],
          [
           414.4491392801252
          ],
          [
           369.8882733148661
          ],
          [
           420.0219275879653
          ],
          [
           330.40481400437636
          ],
          [
           427.10642570281124
          ],
          [
           289.9633507853403
          ],
          [
           413.15589743589743
          ],
          [
           326.43639921722115
          ],
          [
           311.8746887966805
          ],
          [
           277.11337209302326
          ],
          [
           358.24107142857144
          ],
          [
           393.01315068493153
          ],
          [
           291.98093220338984
          ],
          [
           345.50119331742246
          ],
          [
           310.61005025125627
          ],
          [
           177.33962264150944
          ],
          [
           302.21202003338897
          ],
          [
           414.0856849666496
          ],
          [
           352.8651026392962
          ],
          [
           357.6884315117104
          ],
          [
           354.07438016528926
          ],
          [
           362.2273534635879
          ],
          [
           550.1455604075692
          ],
          [
           367.93283582089555
          ],
          [
           453.3078332569858
          ],
          [
           426.0540265035678
          ],
          [
           402.22639484978544
          ],
          [
           315.92628205128204
          ],
          [
           372.58458646616543
          ],
          [
           379.08193041526374
          ],
          [
           118.30508474576271
          ],
          [
           421.58209718670076
          ],
          [
           297.0642978003384
          ],
          [
           358.0156152404747
          ],
          [
           439.28274760383385
          ],
          [
           263.80918220946916
          ],
          [
           243.96883852691218
          ],
          [
           387.96650361918927
          ]
         ],
         "domain": {
          "x": [
           0,
           1
          ],
          "y": [
           0,
           1
          ]
         },
         "hovertemplate": "labels=%{label}<br>ANSCOUNT_sum=%{value}<br>parent=%{parent}<br>id=%{id}<br>ANSCOUNT=%{color}<extra></extra>",
         "ids": [
          "Question Types/Agriculture and Agri-Food Canada/Another sexual orientation",
          "Question Types/Canada Border Services Agency/Another sexual orientation",
          "Question Types/Canada Revenue Agency/Another sexual orientation",
          "Question Types/Canadian Food Inspection Agency/Another sexual orientation",
          "Question Types/Canadian Heritage/Another sexual orientation",
          "Question Types/Communications Security Establishment Canada/Another sexual orientation",
          "Question Types/Correctional Service Canada/Another sexual orientation",
          "Question Types/Crown-Indigenous Relations and Northern Affairs Canada/Another sexual orientation",
          "Question Types/Department of Justice/Another sexual orientation",
          "Question Types/Department of National Defence/Another sexual orientation",
          "Question Types/Employment and Social Development Canada/Another sexual orientation",
          "Question Types/Environment and Climate Change Canada/Another sexual orientation",
          "Question Types/Fisheries and Oceans Canada/Another sexual orientation",
          "Question Types/Global Affairs Canada/Another sexual orientation",
          "Question Types/Health Canada/Another sexual orientation",
          "Question Types/Immigration, Refugees and Citizenship Canada/Another sexual orientation",
          "Question Types/Indigenous Services Canada/Another sexual orientation",
          "Question Types/Innovation, Science and Economic Development Canada/Another sexual orientation",
          "Question Types/Micro-organizations combined/Another sexual orientation",
          "Question Types/Natural Resources Canada/Another sexual orientation",
          "Question Types/Parks Canada/Another sexual orientation",
          "Question Types/Public Health Agency of Canada/Another sexual orientation",
          "Question Types/Public Service/Another sexual orientation",
          "Question Types/Public Services and Procurement Canada/Another sexual orientation",
          "Question Types/Royal Canadian Mounted Police/Another sexual orientation",
          "Question Types/Shared Services Canada/Another sexual orientation",
          "Question Types/Statistics Canada/Another sexual orientation",
          "Question Types/Transport Canada/Another sexual orientation",
          "Question Types/Treasury Board of Canada Secretariat/Another sexual orientation",
          "Question Types/Administrative Tribunals Support Service of Canada/Bisexual",
          "Question Types/Agriculture and Agri-Food Canada/Bisexual",
          "Question Types/Canada Border Services Agency/Bisexual",
          "Question Types/Canada Revenue Agency/Bisexual",
          "Question Types/Canada School of Public Service/Bisexual",
          "Question Types/Canadian Food Inspection Agency/Bisexual",
          "Question Types/Canadian Heritage/Bisexual",
          "Question Types/Canadian Nuclear Safety Commission/Bisexual",
          "Question Types/Communications Security Establishment Canada/Bisexual",
          "Question Types/Correctional Service Canada/Bisexual",
          "Question Types/Crown-Indigenous Relations and Northern Affairs Canada/Bisexual",
          "Question Types/Department of Finance Canada/Bisexual",
          "Question Types/Department of Justice/Bisexual",
          "Question Types/Department of National Defence/Bisexual",
          "Question Types/Employment and Social Development Canada/Bisexual",
          "Question Types/Environment and Climate Change Canada/Bisexual",
          "Question Types/Fisheries and Oceans Canada/Bisexual",
          "Question Types/Global Affairs Canada/Bisexual",
          "Question Types/Health Canada/Bisexual",
          "Question Types/Immigration and Refugee Board of Canada/Bisexual",
          "Question Types/Immigration, Refugees and Citizenship Canada/Bisexual",
          "Question Types/Impact Assessment Agency of Canada/Bisexual",
          "Question Types/Indigenous Services Canada/Bisexual",
          "Question Types/Infrastructure Canada/Bisexual",
          "Question Types/Innovation, Science and Economic Development Canada/Bisexual",
          "Question Types/Library and Archives Canada/Bisexual",
          "Question Types/Micro-organizations combined/Bisexual",
          "Question Types/National Research Council Canada/Bisexual",
          "Question Types/Natural Resources Canada/Bisexual",
          "Question Types/Natural Sciences and Engineering Research Council of Canada/Bisexual",
          "Question Types/Office of the Chief Electoral Officer/Bisexual",
          "Question Types/Parks Canada/Bisexual",
          "Question Types/Public Health Agency of Canada/Bisexual",
          "Question Types/Public Prosecution Service of Canada/Bisexual",
          "Question Types/Public Safety Canada/Bisexual",
          "Question Types/Public Service/Bisexual",
          "Question Types/Public Services and Procurement Canada/Bisexual",
          "Question Types/Royal Canadian Mounted Police/Bisexual",
          "Question Types/Shared Services Canada/Bisexual",
          "Question Types/Statistical Survey Operations/Bisexual",
          "Question Types/Statistics Canada/Bisexual",
          "Question Types/Transport Canada/Bisexual",
          "Question Types/Treasury Board of Canada Secretariat/Bisexual",
          "Question Types/Veterans Affairs Canada/Bisexual",
          "Question Types/Western Economic Diversification Canada/Bisexual",
          "Question Types/Women and Gender Equality Canada/Bisexual",
          "Question Types/Administrative Tribunals Support Service of Canada/Gay or lesbian",
          "Question Types/Agriculture and Agri-Food Canada/Gay or lesbian",
          "Question Types/Atlantic Canada Opportunities Agency/Gay or lesbian",
          "Question Types/Canada Border Services Agency/Gay or lesbian",
          "Question Types/Canada Economic Development for Quebec Regions/Gay or lesbian",
          "Question Types/Canada Energy Regulator/Gay or lesbian",
          "Question Types/Canada Revenue Agency/Gay or lesbian",
          "Question Types/Canada School of Public Service/Gay or lesbian",
          "Question Types/Canadian Food Inspection Agency/Gay or lesbian",
          "Question Types/Canadian Grain Commission/Gay or lesbian",
          "Question Types/Canadian Heritage/Gay or lesbian",
          "Question Types/Canadian Institutes of Health Research/Gay or lesbian",
          "Question Types/Canadian Nuclear Safety Commission/Gay or lesbian",
          "Question Types/Communications Security Establishment Canada/Gay or lesbian",
          "Question Types/Correctional Service Canada/Gay or lesbian",
          "Question Types/Courts Administration Service/Gay or lesbian",
          "Question Types/Crown-Indigenous Relations and Northern Affairs Canada/Gay or lesbian",
          "Question Types/Department of Finance Canada/Gay or lesbian",
          "Question Types/Department of Justice/Gay or lesbian",
          "Question Types/Department of National Defence/Gay or lesbian",
          "Question Types/Employment and Social Development Canada/Gay or lesbian",
          "Question Types/Environment and Climate Change Canada/Gay or lesbian",
          "Question Types/Fisheries and Oceans Canada/Gay or lesbian",
          "Question Types/Global Affairs Canada/Gay or lesbian",
          "Question Types/Health Canada/Gay or lesbian",
          "Question Types/Immigration and Refugee Board of Canada/Gay or lesbian",
          "Question Types/Immigration, Refugees and Citizenship Canada/Gay or lesbian",
          "Question Types/Impact Assessment Agency of Canada/Gay or lesbian",
          "Question Types/Indigenous Services Canada/Gay or lesbian",
          "Question Types/Infrastructure Canada/Gay or lesbian",
          "Question Types/Innovation, Science and Economic Development Canada/Gay or lesbian",
          "Question Types/Library and Archives Canada/Gay or lesbian",
          "Question Types/Micro-organizations combined/Gay or lesbian",
          "Question Types/National Film Board of Canada/Gay or lesbian",
          "Question Types/National Research Council Canada/Gay or lesbian",
          "Question Types/Natural Resources Canada/Gay or lesbian",
          "Question Types/Natural Sciences and Engineering Research Council of Canada/Gay or lesbian",
          "Question Types/Office of the Auditor General of Canada/Gay or lesbian",
          "Question Types/Office of the Chief Electoral Officer/Gay or lesbian",
          "Question Types/Parks Canada/Gay or lesbian",
          "Question Types/Privy Council Office/Gay or lesbian",
          "Question Types/Public Health Agency of Canada/Gay or lesbian",
          "Question Types/Public Prosecution Service of Canada/Gay or lesbian",
          "Question Types/Public Safety Canada/Gay or lesbian",
          "Question Types/Public Service/Gay or lesbian",
          "Question Types/Public Service Commission of Canada/Gay or lesbian",
          "Question Types/Public Services and Procurement Canada/Gay or lesbian",
          "Question Types/Royal Canadian Mounted Police/Gay or lesbian",
          "Question Types/Shared Services Canada/Gay or lesbian",
          "Question Types/Statistical Survey Operations/Gay or lesbian",
          "Question Types/Statistics Canada/Gay or lesbian",
          "Question Types/Transport Canada/Gay or lesbian",
          "Question Types/Treasury Board of Canada Secretariat/Gay or lesbian",
          "Question Types/Veterans Affairs Canada/Gay or lesbian",
          "Question Types/Women and Gender Equality Canada/Gay or lesbian",
          "Question Types/Administrative Tribunals Support Service of Canada/Heterosexual",
          "Question Types/Agriculture and Agri-Food Canada/Heterosexual",
          "Question Types/Atlantic Canada Opportunities Agency/Heterosexual",
          "Question Types/Canada Border Services Agency/Heterosexual",
          "Question Types/Canada Economic Development for Quebec Regions/Heterosexual",
          "Question Types/Canada Energy Regulator/Heterosexual",
          "Question Types/Canada Revenue Agency/Heterosexual",
          "Question Types/Canada School of Public Service/Heterosexual",
          "Question Types/Canadian Food Inspection Agency/Heterosexual",
          "Question Types/Canadian Grain Commission/Heterosexual",
          "Question Types/Canadian Heritage/Heterosexual",
          "Question Types/Canadian Human Rights Commission/Heterosexual",
          "Question Types/Canadian Institutes of Health Research/Heterosexual",
          "Question Types/Canadian Nuclear Safety Commission/Heterosexual",
          "Question Types/Canadian Radio-television and TeleCommunications Commission/Heterosexual",
          "Question Types/Canadian Space Agency/Heterosexual",
          "Question Types/Canadian Transportation Agency/Heterosexual",
          "Question Types/Communications Security Establishment Canada/Heterosexual",
          "Question Types/Correctional Service Canada/Heterosexual",
          "Question Types/Courts Administration Service/Heterosexual",
          "Question Types/Crown-Indigenous Relations and Northern Affairs Canada/Heterosexual",
          "Question Types/Department of Finance Canada/Heterosexual",
          "Question Types/Department of Justice/Heterosexual",
          "Question Types/Department of National Defence/Heterosexual",
          "Question Types/Employment and Social Development Canada/Heterosexual",
          "Question Types/Environment and Climate Change Canada/Heterosexual",
          "Question Types/Federal Economic Development Agency for Southern Ontario/Heterosexual",
          "Question Types/Financial Consumer Agency of Canada/Heterosexual",
          "Question Types/Fisheries and Oceans Canada/Heterosexual",
          "Question Types/Global Affairs Canada/Heterosexual",
          "Question Types/Health Canada/Heterosexual",
          "Question Types/Immigration and Refugee Board of Canada/Heterosexual",
          "Question Types/Immigration, Refugees and Citizenship Canada/Heterosexual",
          "Question Types/Impact Assessment Agency of Canada/Heterosexual",
          "Question Types/Indigenous Services Canada/Heterosexual",
          "Question Types/Infrastructure Canada/Heterosexual",
          "Question Types/Innovation, Science and Economic Development Canada/Heterosexual",
          "Question Types/Library and Archives Canada/Heterosexual",
          "Question Types/Micro-organizations combined/Heterosexual",
          "Question Types/National Film Board of Canada/Heterosexual",
          "Question Types/National Research Council Canada/Heterosexual",
          "Question Types/Natural Resources Canada/Heterosexual",
          "Question Types/Natural Sciences and Engineering Research Council of Canada/Heterosexual",
          "Question Types/Office of the Auditor General of Canada/Heterosexual",
          "Question Types/Office of the Chief Electoral Officer/Heterosexual",
          "Question Types/Office of the Commissioner of Official Languages/Heterosexual",
          "Question Types/Office of the Secretary to the Governor General/Heterosexual",
          "Question Types/Parks Canada/Heterosexual",
          "Question Types/Privy Council Office/Heterosexual",
          "Question Types/Public Health Agency of Canada/Heterosexual",
          "Question Types/Public Prosecution Service of Canada/Heterosexual",
          "Question Types/Public Safety Canada/Heterosexual",
          "Question Types/Public Service/Heterosexual",
          "Question Types/Public Service Commission of Canada/Heterosexual",
          "Question Types/Public Services and Procurement Canada/Heterosexual",
          "Question Types/Royal Canadian Mounted Police/Heterosexual",
          "Question Types/Shared Services Canada/Heterosexual",
          "Question Types/Social Sciences and Humanities Research Council of Canada/Heterosexual",
          "Question Types/Statistical Survey Operations/Heterosexual",
          "Question Types/Statistics Canada/Heterosexual",
          "Question Types/Supreme Court of Canada/Heterosexual",
          "Question Types/Transport Canada/Heterosexual",
          "Question Types/Transportation Safety Board of Canada/Heterosexual",
          "Question Types/Treasury Board of Canada Secretariat/Heterosexual",
          "Question Types/Veterans Affairs Canada/Heterosexual",
          "Question Types/Western Economic Diversification Canada/Heterosexual",
          "Question Types/Women and Gender Equality Canada/Heterosexual",
          "Question Types/Administrative Tribunals Support Service of Canada/Prefer not to answer",
          "Question Types/Agriculture and Agri-Food Canada/Prefer not to answer",
          "Question Types/Atlantic Canada Opportunities Agency/Prefer not to answer",
          "Question Types/Canada Border Services Agency/Prefer not to answer",
          "Question Types/Canada Economic Development for Quebec Regions/Prefer not to answer",
          "Question Types/Canada Energy Regulator/Prefer not to answer",
          "Question Types/Canada Revenue Agency/Prefer not to answer",
          "Question Types/Canada School of Public Service/Prefer not to answer",
          "Question Types/Canadian Food Inspection Agency/Prefer not to answer",
          "Question Types/Canadian Grain Commission/Prefer not to answer",
          "Question Types/Canadian Heritage/Prefer not to answer",
          "Question Types/Canadian Human Rights Commission/Prefer not to answer",
          "Question Types/Canadian Institutes of Health Research/Prefer not to answer",
          "Question Types/Canadian Nuclear Safety Commission/Prefer not to answer",
          "Question Types/Canadian Radio-television and TeleCommunications Commission/Prefer not to answer",
          "Question Types/Canadian Space Agency/Prefer not to answer",
          "Question Types/Canadian Transportation Agency/Prefer not to answer",
          "Question Types/Communications Security Establishment Canada/Prefer not to answer",
          "Question Types/Correctional Service Canada/Prefer not to answer",
          "Question Types/Courts Administration Service/Prefer not to answer",
          "Question Types/Crown-Indigenous Relations and Northern Affairs Canada/Prefer not to answer",
          "Question Types/Department of Finance Canada/Prefer not to answer",
          "Question Types/Department of Justice/Prefer not to answer",
          "Question Types/Department of National Defence/Prefer not to answer",
          "Question Types/Employment and Social Development Canada/Prefer not to answer",
          "Question Types/Environment and Climate Change Canada/Prefer not to answer",
          "Question Types/Federal Economic Development Agency for Southern Ontario/Prefer not to answer",
          "Question Types/Financial Consumer Agency of Canada/Prefer not to answer",
          "Question Types/Fisheries and Oceans Canada/Prefer not to answer",
          "Question Types/Global Affairs Canada/Prefer not to answer",
          "Question Types/Health Canada/Prefer not to answer",
          "Question Types/Immigration and Refugee Board of Canada/Prefer not to answer",
          "Question Types/Immigration, Refugees and Citizenship Canada/Prefer not to answer",
          "Question Types/Impact Assessment Agency of Canada/Prefer not to answer",
          "Question Types/Indigenous Services Canada/Prefer not to answer",
          "Question Types/Infrastructure Canada/Prefer not to answer",
          "Question Types/Innovation, Science and Economic Development Canada/Prefer not to answer",
          "Question Types/Library and Archives Canada/Prefer not to answer",
          "Question Types/Micro-organizations combined/Prefer not to answer",
          "Question Types/National Film Board of Canada/Prefer not to answer",
          "Question Types/National Research Council Canada/Prefer not to answer",
          "Question Types/Natural Resources Canada/Prefer not to answer",
          "Question Types/Natural Sciences and Engineering Research Council of Canada/Prefer not to answer",
          "Question Types/Office of the Auditor General of Canada/Prefer not to answer",
          "Question Types/Office of the Chief Electoral Officer/Prefer not to answer",
          "Question Types/Office of the Commissioner of Official Languages/Prefer not to answer",
          "Question Types/Office of the Secretary to the Governor General/Prefer not to answer",
          "Question Types/Parks Canada/Prefer not to answer",
          "Question Types/Privy Council Office/Prefer not to answer",
          "Question Types/Public Health Agency of Canada/Prefer not to answer",
          "Question Types/Public Prosecution Service of Canada/Prefer not to answer",
          "Question Types/Public Safety Canada/Prefer not to answer",
          "Question Types/Public Service/Prefer not to answer",
          "Question Types/Public Service Commission of Canada/Prefer not to answer",
          "Question Types/Public Services and Procurement Canada/Prefer not to answer",
          "Question Types/Royal Canadian Mounted Police/Prefer not to answer",
          "Question Types/Shared Services Canada/Prefer not to answer",
          "Question Types/Social Sciences and Humanities Research Council of Canada/Prefer not to answer",
          "Question Types/Statistical Survey Operations/Prefer not to answer",
          "Question Types/Statistics Canada/Prefer not to answer",
          "Question Types/Supreme Court of Canada/Prefer not to answer",
          "Question Types/Transport Canada/Prefer not to answer",
          "Question Types/Transportation Safety Board of Canada/Prefer not to answer",
          "Question Types/Treasury Board of Canada Secretariat/Prefer not to answer",
          "Question Types/Veterans Affairs Canada/Prefer not to answer",
          "Question Types/Western Economic Diversification Canada/Prefer not to answer",
          "Question Types/Women and Gender Equality Canada/Prefer not to answer",
          "Question Types/Administrative Tribunals Support Service of Canada",
          "Question Types/Agriculture and Agri-Food Canada",
          "Question Types/Atlantic Canada Opportunities Agency",
          "Question Types/Canada Border Services Agency",
          "Question Types/Canada Economic Development for Quebec Regions",
          "Question Types/Canada Energy Regulator",
          "Question Types/Canada Revenue Agency",
          "Question Types/Canada School of Public Service",
          "Question Types/Canadian Food Inspection Agency",
          "Question Types/Canadian Grain Commission",
          "Question Types/Canadian Heritage",
          "Question Types/Canadian Human Rights Commission",
          "Question Types/Canadian Institutes of Health Research",
          "Question Types/Canadian Nuclear Safety Commission",
          "Question Types/Canadian Radio-television and TeleCommunications Commission",
          "Question Types/Canadian Space Agency",
          "Question Types/Canadian Transportation Agency",
          "Question Types/Communications Security Establishment Canada",
          "Question Types/Correctional Service Canada",
          "Question Types/Courts Administration Service",
          "Question Types/Crown-Indigenous Relations and Northern Affairs Canada",
          "Question Types/Department of Finance Canada",
          "Question Types/Department of Justice",
          "Question Types/Department of National Defence",
          "Question Types/Employment and Social Development Canada",
          "Question Types/Environment and Climate Change Canada",
          "Question Types/Federal Economic Development Agency for Southern Ontario",
          "Question Types/Financial Consumer Agency of Canada",
          "Question Types/Fisheries and Oceans Canada",
          "Question Types/Global Affairs Canada",
          "Question Types/Health Canada",
          "Question Types/Immigration and Refugee Board of Canada",
          "Question Types/Immigration, Refugees and Citizenship Canada",
          "Question Types/Impact Assessment Agency of Canada",
          "Question Types/Indigenous Services Canada",
          "Question Types/Infrastructure Canada",
          "Question Types/Innovation, Science and Economic Development Canada",
          "Question Types/Library and Archives Canada",
          "Question Types/Micro-organizations combined",
          "Question Types/National Film Board of Canada",
          "Question Types/National Research Council Canada",
          "Question Types/Natural Resources Canada",
          "Question Types/Natural Sciences and Engineering Research Council of Canada",
          "Question Types/Office of the Auditor General of Canada",
          "Question Types/Office of the Chief Electoral Officer",
          "Question Types/Office of the Commissioner of Official Languages",
          "Question Types/Office of the Secretary to the Governor General",
          "Question Types/Parks Canada",
          "Question Types/Privy Council Office",
          "Question Types/Public Health Agency of Canada",
          "Question Types/Public Prosecution Service of Canada",
          "Question Types/Public Safety Canada",
          "Question Types/Public Service",
          "Question Types/Public Service Commission of Canada",
          "Question Types/Public Services and Procurement Canada",
          "Question Types/Royal Canadian Mounted Police",
          "Question Types/Shared Services Canada",
          "Question Types/Social Sciences and Humanities Research Council of Canada",
          "Question Types/Statistical Survey Operations",
          "Question Types/Statistics Canada",
          "Question Types/Supreme Court of Canada",
          "Question Types/Transport Canada",
          "Question Types/Transportation Safety Board of Canada",
          "Question Types/Treasury Board of Canada Secretariat",
          "Question Types/Veterans Affairs Canada",
          "Question Types/Western Economic Diversification Canada",
          "Question Types/Women and Gender Equality Canada",
          "Question Types"
         ],
         "labels": [
          "Another sexual orientation",
          "Another sexual orientation",
          "Another sexual orientation",
          "Another sexual orientation",
          "Another sexual orientation",
          "Another sexual orientation",
          "Another sexual orientation",
          "Another sexual orientation",
          "Another sexual orientation",
          "Another sexual orientation",
          "Another sexual orientation",
          "Another sexual orientation",
          "Another sexual orientation",
          "Another sexual orientation",
          "Another sexual orientation",
          "Another sexual orientation",
          "Another sexual orientation",
          "Another sexual orientation",
          "Another sexual orientation",
          "Another sexual orientation",
          "Another sexual orientation",
          "Another sexual orientation",
          "Another sexual orientation",
          "Another sexual orientation",
          "Another sexual orientation",
          "Another sexual orientation",
          "Another sexual orientation",
          "Another sexual orientation",
          "Another sexual orientation",
          "Bisexual",
          "Bisexual",
          "Bisexual",
          "Bisexual",
          "Bisexual",
          "Bisexual",
          "Bisexual",
          "Bisexual",
          "Bisexual",
          "Bisexual",
          "Bisexual",
          "Bisexual",
          "Bisexual",
          "Bisexual",
          "Bisexual",
          "Bisexual",
          "Bisexual",
          "Bisexual",
          "Bisexual",
          "Bisexual",
          "Bisexual",
          "Bisexual",
          "Bisexual",
          "Bisexual",
          "Bisexual",
          "Bisexual",
          "Bisexual",
          "Bisexual",
          "Bisexual",
          "Bisexual",
          "Bisexual",
          "Bisexual",
          "Bisexual",
          "Bisexual",
          "Bisexual",
          "Bisexual",
          "Bisexual",
          "Bisexual",
          "Bisexual",
          "Bisexual",
          "Bisexual",
          "Bisexual",
          "Bisexual",
          "Bisexual",
          "Bisexual",
          "Bisexual",
          "Gay or lesbian",
          "Gay or lesbian",
          "Gay or lesbian",
          "Gay or lesbian",
          "Gay or lesbian",
          "Gay or lesbian",
          "Gay or lesbian",
          "Gay or lesbian",
          "Gay or lesbian",
          "Gay or lesbian",
          "Gay or lesbian",
          "Gay or lesbian",
          "Gay or lesbian",
          "Gay or lesbian",
          "Gay or lesbian",
          "Gay or lesbian",
          "Gay or lesbian",
          "Gay or lesbian",
          "Gay or lesbian",
          "Gay or lesbian",
          "Gay or lesbian",
          "Gay or lesbian",
          "Gay or lesbian",
          "Gay or lesbian",
          "Gay or lesbian",
          "Gay or lesbian",
          "Gay or lesbian",
          "Gay or lesbian",
          "Gay or lesbian",
          "Gay or lesbian",
          "Gay or lesbian",
          "Gay or lesbian",
          "Gay or lesbian",
          "Gay or lesbian",
          "Gay or lesbian",
          "Gay or lesbian",
          "Gay or lesbian",
          "Gay or lesbian",
          "Gay or lesbian",
          "Gay or lesbian",
          "Gay or lesbian",
          "Gay or lesbian",
          "Gay or lesbian",
          "Gay or lesbian",
          "Gay or lesbian",
          "Gay or lesbian",
          "Gay or lesbian",
          "Gay or lesbian",
          "Gay or lesbian",
          "Gay or lesbian",
          "Gay or lesbian",
          "Gay or lesbian",
          "Gay or lesbian",
          "Gay or lesbian",
          "Gay or lesbian",
          "Heterosexual",
          "Heterosexual",
          "Heterosexual",
          "Heterosexual",
          "Heterosexual",
          "Heterosexual",
          "Heterosexual",
          "Heterosexual",
          "Heterosexual",
          "Heterosexual",
          "Heterosexual",
          "Heterosexual",
          "Heterosexual",
          "Heterosexual",
          "Heterosexual",
          "Heterosexual",
          "Heterosexual",
          "Heterosexual",
          "Heterosexual",
          "Heterosexual",
          "Heterosexual",
          "Heterosexual",
          "Heterosexual",
          "Heterosexual",
          "Heterosexual",
          "Heterosexual",
          "Heterosexual",
          "Heterosexual",
          "Heterosexual",
          "Heterosexual",
          "Heterosexual",
          "Heterosexual",
          "Heterosexual",
          "Heterosexual",
          "Heterosexual",
          "Heterosexual",
          "Heterosexual",
          "Heterosexual",
          "Heterosexual",
          "Heterosexual",
          "Heterosexual",
          "Heterosexual",
          "Heterosexual",
          "Heterosexual",
          "Heterosexual",
          "Heterosexual",
          "Heterosexual",
          "Heterosexual",
          "Heterosexual",
          "Heterosexual",
          "Heterosexual",
          "Heterosexual",
          "Heterosexual",
          "Heterosexual",
          "Heterosexual",
          "Heterosexual",
          "Heterosexual",
          "Heterosexual",
          "Heterosexual",
          "Heterosexual",
          "Heterosexual",
          "Heterosexual",
          "Heterosexual",
          "Heterosexual",
          "Heterosexual",
          "Heterosexual",
          "Heterosexual",
          "Prefer not to answer",
          "Prefer not to answer",
          "Prefer not to answer",
          "Prefer not to answer",
          "Prefer not to answer",
          "Prefer not to answer",
          "Prefer not to answer",
          "Prefer not to answer",
          "Prefer not to answer",
          "Prefer not to answer",
          "Prefer not to answer",
          "Prefer not to answer",
          "Prefer not to answer",
          "Prefer not to answer",
          "Prefer not to answer",
          "Prefer not to answer",
          "Prefer not to answer",
          "Prefer not to answer",
          "Prefer not to answer",
          "Prefer not to answer",
          "Prefer not to answer",
          "Prefer not to answer",
          "Prefer not to answer",
          "Prefer not to answer",
          "Prefer not to answer",
          "Prefer not to answer",
          "Prefer not to answer",
          "Prefer not to answer",
          "Prefer not to answer",
          "Prefer not to answer",
          "Prefer not to answer",
          "Prefer not to answer",
          "Prefer not to answer",
          "Prefer not to answer",
          "Prefer not to answer",
          "Prefer not to answer",
          "Prefer not to answer",
          "Prefer not to answer",
          "Prefer not to answer",
          "Prefer not to answer",
          "Prefer not to answer",
          "Prefer not to answer",
          "Prefer not to answer",
          "Prefer not to answer",
          "Prefer not to answer",
          "Prefer not to answer",
          "Prefer not to answer",
          "Prefer not to answer",
          "Prefer not to answer",
          "Prefer not to answer",
          "Prefer not to answer",
          "Prefer not to answer",
          "Prefer not to answer",
          "Prefer not to answer",
          "Prefer not to answer",
          "Prefer not to answer",
          "Prefer not to answer",
          "Prefer not to answer",
          "Prefer not to answer",
          "Prefer not to answer",
          "Prefer not to answer",
          "Prefer not to answer",
          "Prefer not to answer",
          "Prefer not to answer",
          "Prefer not to answer",
          "Prefer not to answer",
          "Prefer not to answer",
          "Administrative Tribunals Support Service of Canada",
          "Agriculture and Agri-Food Canada",
          "Atlantic Canada Opportunities Agency",
          "Canada Border Services Agency",
          "Canada Economic Development for Quebec Regions",
          "Canada Energy Regulator",
          "Canada Revenue Agency",
          "Canada School of Public Service",
          "Canadian Food Inspection Agency",
          "Canadian Grain Commission",
          "Canadian Heritage",
          "Canadian Human Rights Commission",
          "Canadian Institutes of Health Research",
          "Canadian Nuclear Safety Commission",
          "Canadian Radio-television and TeleCommunications Commission",
          "Canadian Space Agency",
          "Canadian Transportation Agency",
          "Communications Security Establishment Canada",
          "Correctional Service Canada",
          "Courts Administration Service",
          "Crown-Indigenous Relations and Northern Affairs Canada",
          "Department of Finance Canada",
          "Department of Justice",
          "Department of National Defence",
          "Employment and Social Development Canada",
          "Environment and Climate Change Canada",
          "Federal Economic Development Agency for Southern Ontario",
          "Financial Consumer Agency of Canada",
          "Fisheries and Oceans Canada",
          "Global Affairs Canada",
          "Health Canada",
          "Immigration and Refugee Board of Canada",
          "Immigration, Refugees and Citizenship Canada",
          "Impact Assessment Agency of Canada",
          "Indigenous Services Canada",
          "Infrastructure Canada",
          "Innovation, Science and Economic Development Canada",
          "Library and Archives Canada",
          "Micro-organizations combined",
          "National Film Board of Canada",
          "National Research Council Canada",
          "Natural Resources Canada",
          "Natural Sciences and Engineering Research Council of Canada",
          "Office of the Auditor General of Canada",
          "Office of the Chief Electoral Officer",
          "Office of the Commissioner of Official Languages",
          "Office of the Secretary to the Governor General",
          "Parks Canada",
          "Privy Council Office",
          "Public Health Agency of Canada",
          "Public Prosecution Service of Canada",
          "Public Safety Canada",
          "Public Service",
          "Public Service Commission of Canada",
          "Public Services and Procurement Canada",
          "Royal Canadian Mounted Police",
          "Shared Services Canada",
          "Social Sciences and Humanities Research Council of Canada",
          "Statistical Survey Operations",
          "Statistics Canada",
          "Supreme Court of Canada",
          "Transport Canada",
          "Transportation Safety Board of Canada",
          "Treasury Board of Canada Secretariat",
          "Veterans Affairs Canada",
          "Western Economic Diversification Canada",
          "Women and Gender Equality Canada",
          "Question Types"
         ],
         "marker": {
          "coloraxis": "coloraxis",
          "colors": [
           271,
           286,
           385,
           159,
           112,
           111,
           326,
           73,
           196,
           329,
           383,
           274,
           278,
           273,
           273,
           279,
           276,
           277,
           73,
           270,
           281,
           112,
           530,
           316,
           274,
           271,
           273,
           274,
           198,
           116,
           297,
           321,
           425,
           74,
           159,
           113,
           199,
           113,
           341,
           161,
           3,
           196,
           400,
           420,
           299,
           328,
           287,
           280,
           2,
           291,
           197,
           321,
           81,
           308,
           198,
           186,
           109,
           304,
           189,
           86,
           389,
           115,
           112,
           202,
           527,
           383,
           313,
           274,
           302,
           291,
           276,
           220,
           1,
           113,
           1,
           2,
           284,
           272,
           417,
           113,
           52,
           458,
           198,
           306,
           107,
           283,
           113,
           73,
           272,
           428,
           270,
           196,
           252,
           326,
           356,
           441,
           280,
           338,
           395,
           340,
           282,
           369,
           2,
           343,
           197,
           366,
           74,
           162,
           85,
           161,
           280,
           76,
           112,
           187,
           289,
           273,
           313,
           271,
           74,
           561,
           278,
           420,
           312,
           322,
           1,
           292,
           372,
           285,
           285,
           198,
           351,
           537,
           411,
           563,
           344,
           400,
           559,
           431,
           546,
           386,
           464,
           291,
           403,
           441,
           426,
           380,
           379,
           451,
           563,
           413,
           464,
           381,
           507,
           556,
           559,
           538,
           344,
           122,
           552,
           548,
           541,
           430,
           548,
           419,
           543,
           373,
           523,
           437,
           426,
           330,
           458,
           518,
           382,
           445,
           416,
           213,
           328,
           535,
           426,
           471,
           429,
           438,
           565,
           428,
           549,
           548,
           515,
           347,
           469,
           497,
           124,
           539,
           317,
           473,
           516,
           309,
           301,
           283,
           475,
           297,
           543,
           282,
           357,
           554,
           338,
           504,
           290,
           422,
           274,
           276,
           393,
           289,
           292,
           204,
           401,
           554,
           326,
           427,
           286,
           435,
           551,
           554,
           474,
           280,
           114,
           507,
           457,
           483,
           369,
           474,
           296,
           509,
           304,
           476,
           313,
           358,
           273,
           392,
           453,
           297,
           281,
           306,
           105,
           271,
           455,
           324,
           398,
           398,
           412,
           565,
           366,
           515,
           515,
           482,
           277,
           292,
           429,
           112,
           494,
           274,
           425,
           450,
           275,
           206,
           288.2313829787234,
           405.7403433476395,
           337.87142857142857,
           455.6544600938967,
           285.01894451962113,
           358.65636588380715,
           486.35489290214196,
           331.1095100864553,
           415.96774193548384,
           312.31800766283527,
           357.80631276901005,
           282.7557522123894,
           317.3661616161616,
           356.1121157323689,
           370.62517482517484,
           341.76190476190476,
           317.7650085763293,
           343.6765578635015,
           465.4728752260398,
           346.62537165510406,
           353.74034822104466,
           315.0433839479393,
           379.14578313253014,
           459.7235401459854,
           482.3788714467544,
           405.8965147453083,
           315.28205128205127,
           118.13559322033899,
           429.7878182725911,
           419.4265306122449,
           414.4491392801252,
           369.8882733148661,
           420.0219275879653,
           330.40481400437636,
           427.10642570281124,
           289.9633507853403,
           413.15589743589743,
           326.43639921722115,
           311.8746887966805,
           277.11337209302326,
           358.24107142857144,
           393.01315068493153,
           291.98093220338984,
           345.50119331742246,
           310.61005025125627,
           177.33962264150944,
           302.21202003338897,
           414.0856849666496,
           352.8651026392962,
           357.6884315117104,
           354.07438016528926,
           362.2273534635879,
           550.1455604075692,
           367.93283582089555,
           453.3078332569858,
           426.0540265035678,
           402.22639484978544,
           315.92628205128204,
           372.58458646616543,
           379.08193041526374,
           118.30508474576271,
           421.58209718670076,
           297.0642978003384,
           358.0156152404747,
           439.28274760383385,
           263.80918220946916,
           243.96883852691218,
           387.96650361918927
          ]
         },
         "name": "",
         "parents": [
          "Question Types/Agriculture and Agri-Food Canada",
          "Question Types/Canada Border Services Agency",
          "Question Types/Canada Revenue Agency",
          "Question Types/Canadian Food Inspection Agency",
          "Question Types/Canadian Heritage",
          "Question Types/Communications Security Establishment Canada",
          "Question Types/Correctional Service Canada",
          "Question Types/Crown-Indigenous Relations and Northern Affairs Canada",
          "Question Types/Department of Justice",
          "Question Types/Department of National Defence",
          "Question Types/Employment and Social Development Canada",
          "Question Types/Environment and Climate Change Canada",
          "Question Types/Fisheries and Oceans Canada",
          "Question Types/Global Affairs Canada",
          "Question Types/Health Canada",
          "Question Types/Immigration, Refugees and Citizenship Canada",
          "Question Types/Indigenous Services Canada",
          "Question Types/Innovation, Science and Economic Development Canada",
          "Question Types/Micro-organizations combined",
          "Question Types/Natural Resources Canada",
          "Question Types/Parks Canada",
          "Question Types/Public Health Agency of Canada",
          "Question Types/Public Service",
          "Question Types/Public Services and Procurement Canada",
          "Question Types/Royal Canadian Mounted Police",
          "Question Types/Shared Services Canada",
          "Question Types/Statistics Canada",
          "Question Types/Transport Canada",
          "Question Types/Treasury Board of Canada Secretariat",
          "Question Types/Administrative Tribunals Support Service of Canada",
          "Question Types/Agriculture and Agri-Food Canada",
          "Question Types/Canada Border Services Agency",
          "Question Types/Canada Revenue Agency",
          "Question Types/Canada School of Public Service",
          "Question Types/Canadian Food Inspection Agency",
          "Question Types/Canadian Heritage",
          "Question Types/Canadian Nuclear Safety Commission",
          "Question Types/Communications Security Establishment Canada",
          "Question Types/Correctional Service Canada",
          "Question Types/Crown-Indigenous Relations and Northern Affairs Canada",
          "Question Types/Department of Finance Canada",
          "Question Types/Department of Justice",
          "Question Types/Department of National Defence",
          "Question Types/Employment and Social Development Canada",
          "Question Types/Environment and Climate Change Canada",
          "Question Types/Fisheries and Oceans Canada",
          "Question Types/Global Affairs Canada",
          "Question Types/Health Canada",
          "Question Types/Immigration and Refugee Board of Canada",
          "Question Types/Immigration, Refugees and Citizenship Canada",
          "Question Types/Impact Assessment Agency of Canada",
          "Question Types/Indigenous Services Canada",
          "Question Types/Infrastructure Canada",
          "Question Types/Innovation, Science and Economic Development Canada",
          "Question Types/Library and Archives Canada",
          "Question Types/Micro-organizations combined",
          "Question Types/National Research Council Canada",
          "Question Types/Natural Resources Canada",
          "Question Types/Natural Sciences and Engineering Research Council of Canada",
          "Question Types/Office of the Chief Electoral Officer",
          "Question Types/Parks Canada",
          "Question Types/Public Health Agency of Canada",
          "Question Types/Public Prosecution Service of Canada",
          "Question Types/Public Safety Canada",
          "Question Types/Public Service",
          "Question Types/Public Services and Procurement Canada",
          "Question Types/Royal Canadian Mounted Police",
          "Question Types/Shared Services Canada",
          "Question Types/Statistical Survey Operations",
          "Question Types/Statistics Canada",
          "Question Types/Transport Canada",
          "Question Types/Treasury Board of Canada Secretariat",
          "Question Types/Veterans Affairs Canada",
          "Question Types/Western Economic Diversification Canada",
          "Question Types/Women and Gender Equality Canada",
          "Question Types/Administrative Tribunals Support Service of Canada",
          "Question Types/Agriculture and Agri-Food Canada",
          "Question Types/Atlantic Canada Opportunities Agency",
          "Question Types/Canada Border Services Agency",
          "Question Types/Canada Economic Development for Quebec Regions",
          "Question Types/Canada Energy Regulator",
          "Question Types/Canada Revenue Agency",
          "Question Types/Canada School of Public Service",
          "Question Types/Canadian Food Inspection Agency",
          "Question Types/Canadian Grain Commission",
          "Question Types/Canadian Heritage",
          "Question Types/Canadian Institutes of Health Research",
          "Question Types/Canadian Nuclear Safety Commission",
          "Question Types/Communications Security Establishment Canada",
          "Question Types/Correctional Service Canada",
          "Question Types/Courts Administration Service",
          "Question Types/Crown-Indigenous Relations and Northern Affairs Canada",
          "Question Types/Department of Finance Canada",
          "Question Types/Department of Justice",
          "Question Types/Department of National Defence",
          "Question Types/Employment and Social Development Canada",
          "Question Types/Environment and Climate Change Canada",
          "Question Types/Fisheries and Oceans Canada",
          "Question Types/Global Affairs Canada",
          "Question Types/Health Canada",
          "Question Types/Immigration and Refugee Board of Canada",
          "Question Types/Immigration, Refugees and Citizenship Canada",
          "Question Types/Impact Assessment Agency of Canada",
          "Question Types/Indigenous Services Canada",
          "Question Types/Infrastructure Canada",
          "Question Types/Innovation, Science and Economic Development Canada",
          "Question Types/Library and Archives Canada",
          "Question Types/Micro-organizations combined",
          "Question Types/National Film Board of Canada",
          "Question Types/National Research Council Canada",
          "Question Types/Natural Resources Canada",
          "Question Types/Natural Sciences and Engineering Research Council of Canada",
          "Question Types/Office of the Auditor General of Canada",
          "Question Types/Office of the Chief Electoral Officer",
          "Question Types/Parks Canada",
          "Question Types/Privy Council Office",
          "Question Types/Public Health Agency of Canada",
          "Question Types/Public Prosecution Service of Canada",
          "Question Types/Public Safety Canada",
          "Question Types/Public Service",
          "Question Types/Public Service Commission of Canada",
          "Question Types/Public Services and Procurement Canada",
          "Question Types/Royal Canadian Mounted Police",
          "Question Types/Shared Services Canada",
          "Question Types/Statistical Survey Operations",
          "Question Types/Statistics Canada",
          "Question Types/Transport Canada",
          "Question Types/Treasury Board of Canada Secretariat",
          "Question Types/Veterans Affairs Canada",
          "Question Types/Women and Gender Equality Canada",
          "Question Types/Administrative Tribunals Support Service of Canada",
          "Question Types/Agriculture and Agri-Food Canada",
          "Question Types/Atlantic Canada Opportunities Agency",
          "Question Types/Canada Border Services Agency",
          "Question Types/Canada Economic Development for Quebec Regions",
          "Question Types/Canada Energy Regulator",
          "Question Types/Canada Revenue Agency",
          "Question Types/Canada School of Public Service",
          "Question Types/Canadian Food Inspection Agency",
          "Question Types/Canadian Grain Commission",
          "Question Types/Canadian Heritage",
          "Question Types/Canadian Human Rights Commission",
          "Question Types/Canadian Institutes of Health Research",
          "Question Types/Canadian Nuclear Safety Commission",
          "Question Types/Canadian Radio-television and TeleCommunications Commission",
          "Question Types/Canadian Space Agency",
          "Question Types/Canadian Transportation Agency",
          "Question Types/Communications Security Establishment Canada",
          "Question Types/Correctional Service Canada",
          "Question Types/Courts Administration Service",
          "Question Types/Crown-Indigenous Relations and Northern Affairs Canada",
          "Question Types/Department of Finance Canada",
          "Question Types/Department of Justice",
          "Question Types/Department of National Defence",
          "Question Types/Employment and Social Development Canada",
          "Question Types/Environment and Climate Change Canada",
          "Question Types/Federal Economic Development Agency for Southern Ontario",
          "Question Types/Financial Consumer Agency of Canada",
          "Question Types/Fisheries and Oceans Canada",
          "Question Types/Global Affairs Canada",
          "Question Types/Health Canada",
          "Question Types/Immigration and Refugee Board of Canada",
          "Question Types/Immigration, Refugees and Citizenship Canada",
          "Question Types/Impact Assessment Agency of Canada",
          "Question Types/Indigenous Services Canada",
          "Question Types/Infrastructure Canada",
          "Question Types/Innovation, Science and Economic Development Canada",
          "Question Types/Library and Archives Canada",
          "Question Types/Micro-organizations combined",
          "Question Types/National Film Board of Canada",
          "Question Types/National Research Council Canada",
          "Question Types/Natural Resources Canada",
          "Question Types/Natural Sciences and Engineering Research Council of Canada",
          "Question Types/Office of the Auditor General of Canada",
          "Question Types/Office of the Chief Electoral Officer",
          "Question Types/Office of the Commissioner of Official Languages",
          "Question Types/Office of the Secretary to the Governor General",
          "Question Types/Parks Canada",
          "Question Types/Privy Council Office",
          "Question Types/Public Health Agency of Canada",
          "Question Types/Public Prosecution Service of Canada",
          "Question Types/Public Safety Canada",
          "Question Types/Public Service",
          "Question Types/Public Service Commission of Canada",
          "Question Types/Public Services and Procurement Canada",
          "Question Types/Royal Canadian Mounted Police",
          "Question Types/Shared Services Canada",
          "Question Types/Social Sciences and Humanities Research Council of Canada",
          "Question Types/Statistical Survey Operations",
          "Question Types/Statistics Canada",
          "Question Types/Supreme Court of Canada",
          "Question Types/Transport Canada",
          "Question Types/Transportation Safety Board of Canada",
          "Question Types/Treasury Board of Canada Secretariat",
          "Question Types/Veterans Affairs Canada",
          "Question Types/Western Economic Diversification Canada",
          "Question Types/Women and Gender Equality Canada",
          "Question Types/Administrative Tribunals Support Service of Canada",
          "Question Types/Agriculture and Agri-Food Canada",
          "Question Types/Atlantic Canada Opportunities Agency",
          "Question Types/Canada Border Services Agency",
          "Question Types/Canada Economic Development for Quebec Regions",
          "Question Types/Canada Energy Regulator",
          "Question Types/Canada Revenue Agency",
          "Question Types/Canada School of Public Service",
          "Question Types/Canadian Food Inspection Agency",
          "Question Types/Canadian Grain Commission",
          "Question Types/Canadian Heritage",
          "Question Types/Canadian Human Rights Commission",
          "Question Types/Canadian Institutes of Health Research",
          "Question Types/Canadian Nuclear Safety Commission",
          "Question Types/Canadian Radio-television and TeleCommunications Commission",
          "Question Types/Canadian Space Agency",
          "Question Types/Canadian Transportation Agency",
          "Question Types/Communications Security Establishment Canada",
          "Question Types/Correctional Service Canada",
          "Question Types/Courts Administration Service",
          "Question Types/Crown-Indigenous Relations and Northern Affairs Canada",
          "Question Types/Department of Finance Canada",
          "Question Types/Department of Justice",
          "Question Types/Department of National Defence",
          "Question Types/Employment and Social Development Canada",
          "Question Types/Environment and Climate Change Canada",
          "Question Types/Federal Economic Development Agency for Southern Ontario",
          "Question Types/Financial Consumer Agency of Canada",
          "Question Types/Fisheries and Oceans Canada",
          "Question Types/Global Affairs Canada",
          "Question Types/Health Canada",
          "Question Types/Immigration and Refugee Board of Canada",
          "Question Types/Immigration, Refugees and Citizenship Canada",
          "Question Types/Impact Assessment Agency of Canada",
          "Question Types/Indigenous Services Canada",
          "Question Types/Infrastructure Canada",
          "Question Types/Innovation, Science and Economic Development Canada",
          "Question Types/Library and Archives Canada",
          "Question Types/Micro-organizations combined",
          "Question Types/National Film Board of Canada",
          "Question Types/National Research Council Canada",
          "Question Types/Natural Resources Canada",
          "Question Types/Natural Sciences and Engineering Research Council of Canada",
          "Question Types/Office of the Auditor General of Canada",
          "Question Types/Office of the Chief Electoral Officer",
          "Question Types/Office of the Commissioner of Official Languages",
          "Question Types/Office of the Secretary to the Governor General",
          "Question Types/Parks Canada",
          "Question Types/Privy Council Office",
          "Question Types/Public Health Agency of Canada",
          "Question Types/Public Prosecution Service of Canada",
          "Question Types/Public Safety Canada",
          "Question Types/Public Service",
          "Question Types/Public Service Commission of Canada",
          "Question Types/Public Services and Procurement Canada",
          "Question Types/Royal Canadian Mounted Police",
          "Question Types/Shared Services Canada",
          "Question Types/Social Sciences and Humanities Research Council of Canada",
          "Question Types/Statistical Survey Operations",
          "Question Types/Statistics Canada",
          "Question Types/Supreme Court of Canada",
          "Question Types/Transport Canada",
          "Question Types/Transportation Safety Board of Canada",
          "Question Types/Treasury Board of Canada Secretariat",
          "Question Types/Veterans Affairs Canada",
          "Question Types/Western Economic Diversification Canada",
          "Question Types/Women and Gender Equality Canada",
          "Question Types",
          "Question Types",
          "Question Types",
          "Question Types",
          "Question Types",
          "Question Types",
          "Question Types",
          "Question Types",
          "Question Types",
          "Question Types",
          "Question Types",
          "Question Types",
          "Question Types",
          "Question Types",
          "Question Types",
          "Question Types",
          "Question Types",
          "Question Types",
          "Question Types",
          "Question Types",
          "Question Types",
          "Question Types",
          "Question Types",
          "Question Types",
          "Question Types",
          "Question Types",
          "Question Types",
          "Question Types",
          "Question Types",
          "Question Types",
          "Question Types",
          "Question Types",
          "Question Types",
          "Question Types",
          "Question Types",
          "Question Types",
          "Question Types",
          "Question Types",
          "Question Types",
          "Question Types",
          "Question Types",
          "Question Types",
          "Question Types",
          "Question Types",
          "Question Types",
          "Question Types",
          "Question Types",
          "Question Types",
          "Question Types",
          "Question Types",
          "Question Types",
          "Question Types",
          "Question Types",
          "Question Types",
          "Question Types",
          "Question Types",
          "Question Types",
          "Question Types",
          "Question Types",
          "Question Types",
          "Question Types",
          "Question Types",
          "Question Types",
          "Question Types",
          "Question Types",
          "Question Types",
          "Question Types",
          ""
         ],
         "type": "treemap",
         "values": [
          271,
          286,
          385,
          159,
          112,
          111,
          326,
          73,
          196,
          329,
          383,
          274,
          278,
          273,
          273,
          279,
          276,
          277,
          73,
          270,
          281,
          112,
          530,
          316,
          274,
          271,
          273,
          274,
          198,
          116,
          297,
          321,
          425,
          74,
          159,
          113,
          199,
          113,
          341,
          161,
          3,
          196,
          400,
          420,
          299,
          328,
          287,
          280,
          2,
          291,
          197,
          321,
          81,
          308,
          198,
          186,
          109,
          304,
          189,
          86,
          389,
          115,
          112,
          202,
          527,
          383,
          313,
          274,
          302,
          291,
          276,
          220,
          1,
          113,
          1,
          2,
          284,
          272,
          417,
          113,
          52,
          458,
          198,
          306,
          107,
          283,
          113,
          73,
          272,
          428,
          270,
          196,
          252,
          326,
          356,
          441,
          280,
          338,
          395,
          340,
          282,
          369,
          2,
          343,
          197,
          366,
          74,
          162,
          85,
          161,
          280,
          76,
          112,
          187,
          289,
          273,
          313,
          271,
          74,
          561,
          278,
          420,
          312,
          322,
          1,
          292,
          372,
          285,
          285,
          198,
          351,
          537,
          411,
          563,
          344,
          400,
          559,
          431,
          546,
          386,
          464,
          291,
          403,
          441,
          426,
          380,
          379,
          451,
          563,
          413,
          464,
          381,
          507,
          556,
          559,
          538,
          344,
          122,
          552,
          548,
          541,
          430,
          548,
          419,
          543,
          373,
          523,
          437,
          426,
          330,
          458,
          518,
          382,
          445,
          416,
          213,
          328,
          535,
          426,
          471,
          429,
          438,
          565,
          428,
          549,
          548,
          515,
          347,
          469,
          497,
          124,
          539,
          317,
          473,
          516,
          309,
          301,
          283,
          475,
          297,
          543,
          282,
          357,
          554,
          338,
          504,
          290,
          422,
          274,
          276,
          393,
          289,
          292,
          204,
          401,
          554,
          326,
          427,
          286,
          435,
          551,
          554,
          474,
          280,
          114,
          507,
          457,
          483,
          369,
          474,
          296,
          509,
          304,
          476,
          313,
          358,
          273,
          392,
          453,
          297,
          281,
          306,
          105,
          271,
          455,
          324,
          398,
          398,
          412,
          565,
          366,
          515,
          515,
          482,
          277,
          292,
          429,
          112,
          494,
          274,
          425,
          450,
          275,
          206,
          752,
          1864,
          980,
          2130,
          739,
          809,
          2381,
          1041,
          1674,
          783,
          1394,
          565,
          792,
          1106,
          715,
          672,
          583,
          1348,
          2212,
          1009,
          1321,
          922,
          1660,
          2192,
          2357,
          1865,
          624,
          236,
          2003,
          1960,
          1917,
          1083,
          1961,
          914,
          1992,
          955,
          1950,
          1022,
          1205,
          688,
          1120,
          1825,
          944,
          838,
          995,
          318,
          599,
          1949,
          1023,
          1409,
          1210,
          1126,
          2748,
          1072,
          2183,
          1962,
          1864,
          624,
          1064,
          1782,
          236,
          1955,
          591,
          1601,
          1252,
          697,
          706,
          86069
         ]
        }
       ],
       "layout": {
        "coloraxis": {
         "colorbar": {
          "title": {
           "text": "ANSCOUNT"
          }
         },
         "colorscale": [
          [
           0,
           "rgb(247,252,240)"
          ],
          [
           0.125,
           "rgb(224,243,219)"
          ],
          [
           0.25,
           "rgb(204,235,197)"
          ],
          [
           0.375,
           "rgb(168,221,181)"
          ],
          [
           0.5,
           "rgb(123,204,196)"
          ],
          [
           0.625,
           "rgb(78,179,211)"
          ],
          [
           0.75,
           "rgb(43,140,190)"
          ],
          [
           0.875,
           "rgb(8,104,172)"
          ],
          [
           1,
           "rgb(8,64,129)"
          ]
         ]
        },
        "legend": {
         "tracegroupgap": 0
        },
        "margin": {
         "b": 25,
         "l": 25,
         "r": 25,
         "t": 50
        },
        "template": {
         "data": {
          "bar": [
           {
            "error_x": {
             "color": "#2a3f5f"
            },
            "error_y": {
             "color": "#2a3f5f"
            },
            "marker": {
             "line": {
              "color": "#E5ECF6",
              "width": 0.5
             },
             "pattern": {
              "fillmode": "overlay",
              "size": 10,
              "solidity": 0.2
             }
            },
            "type": "bar"
           }
          ],
          "barpolar": [
           {
            "marker": {
             "line": {
              "color": "#E5ECF6",
              "width": 0.5
             },
             "pattern": {
              "fillmode": "overlay",
              "size": 10,
              "solidity": 0.2
             }
            },
            "type": "barpolar"
           }
          ],
          "carpet": [
           {
            "aaxis": {
             "endlinecolor": "#2a3f5f",
             "gridcolor": "white",
             "linecolor": "white",
             "minorgridcolor": "white",
             "startlinecolor": "#2a3f5f"
            },
            "baxis": {
             "endlinecolor": "#2a3f5f",
             "gridcolor": "white",
             "linecolor": "white",
             "minorgridcolor": "white",
             "startlinecolor": "#2a3f5f"
            },
            "type": "carpet"
           }
          ],
          "choropleth": [
           {
            "colorbar": {
             "outlinewidth": 0,
             "ticks": ""
            },
            "type": "choropleth"
           }
          ],
          "contour": [
           {
            "colorbar": {
             "outlinewidth": 0,
             "ticks": ""
            },
            "colorscale": [
             [
              0,
              "#0d0887"
             ],
             [
              0.1111111111111111,
              "#46039f"
             ],
             [
              0.2222222222222222,
              "#7201a8"
             ],
             [
              0.3333333333333333,
              "#9c179e"
             ],
             [
              0.4444444444444444,
              "#bd3786"
             ],
             [
              0.5555555555555556,
              "#d8576b"
             ],
             [
              0.6666666666666666,
              "#ed7953"
             ],
             [
              0.7777777777777778,
              "#fb9f3a"
             ],
             [
              0.8888888888888888,
              "#fdca26"
             ],
             [
              1,
              "#f0f921"
             ]
            ],
            "type": "contour"
           }
          ],
          "contourcarpet": [
           {
            "colorbar": {
             "outlinewidth": 0,
             "ticks": ""
            },
            "type": "contourcarpet"
           }
          ],
          "heatmap": [
           {
            "colorbar": {
             "outlinewidth": 0,
             "ticks": ""
            },
            "colorscale": [
             [
              0,
              "#0d0887"
             ],
             [
              0.1111111111111111,
              "#46039f"
             ],
             [
              0.2222222222222222,
              "#7201a8"
             ],
             [
              0.3333333333333333,
              "#9c179e"
             ],
             [
              0.4444444444444444,
              "#bd3786"
             ],
             [
              0.5555555555555556,
              "#d8576b"
             ],
             [
              0.6666666666666666,
              "#ed7953"
             ],
             [
              0.7777777777777778,
              "#fb9f3a"
             ],
             [
              0.8888888888888888,
              "#fdca26"
             ],
             [
              1,
              "#f0f921"
             ]
            ],
            "type": "heatmap"
           }
          ],
          "heatmapgl": [
           {
            "colorbar": {
             "outlinewidth": 0,
             "ticks": ""
            },
            "colorscale": [
             [
              0,
              "#0d0887"
             ],
             [
              0.1111111111111111,
              "#46039f"
             ],
             [
              0.2222222222222222,
              "#7201a8"
             ],
             [
              0.3333333333333333,
              "#9c179e"
             ],
             [
              0.4444444444444444,
              "#bd3786"
             ],
             [
              0.5555555555555556,
              "#d8576b"
             ],
             [
              0.6666666666666666,
              "#ed7953"
             ],
             [
              0.7777777777777778,
              "#fb9f3a"
             ],
             [
              0.8888888888888888,
              "#fdca26"
             ],
             [
              1,
              "#f0f921"
             ]
            ],
            "type": "heatmapgl"
           }
          ],
          "histogram": [
           {
            "marker": {
             "pattern": {
              "fillmode": "overlay",
              "size": 10,
              "solidity": 0.2
             }
            },
            "type": "histogram"
           }
          ],
          "histogram2d": [
           {
            "colorbar": {
             "outlinewidth": 0,
             "ticks": ""
            },
            "colorscale": [
             [
              0,
              "#0d0887"
             ],
             [
              0.1111111111111111,
              "#46039f"
             ],
             [
              0.2222222222222222,
              "#7201a8"
             ],
             [
              0.3333333333333333,
              "#9c179e"
             ],
             [
              0.4444444444444444,
              "#bd3786"
             ],
             [
              0.5555555555555556,
              "#d8576b"
             ],
             [
              0.6666666666666666,
              "#ed7953"
             ],
             [
              0.7777777777777778,
              "#fb9f3a"
             ],
             [
              0.8888888888888888,
              "#fdca26"
             ],
             [
              1,
              "#f0f921"
             ]
            ],
            "type": "histogram2d"
           }
          ],
          "histogram2dcontour": [
           {
            "colorbar": {
             "outlinewidth": 0,
             "ticks": ""
            },
            "colorscale": [
             [
              0,
              "#0d0887"
             ],
             [
              0.1111111111111111,
              "#46039f"
             ],
             [
              0.2222222222222222,
              "#7201a8"
             ],
             [
              0.3333333333333333,
              "#9c179e"
             ],
             [
              0.4444444444444444,
              "#bd3786"
             ],
             [
              0.5555555555555556,
              "#d8576b"
             ],
             [
              0.6666666666666666,
              "#ed7953"
             ],
             [
              0.7777777777777778,
              "#fb9f3a"
             ],
             [
              0.8888888888888888,
              "#fdca26"
             ],
             [
              1,
              "#f0f921"
             ]
            ],
            "type": "histogram2dcontour"
           }
          ],
          "mesh3d": [
           {
            "colorbar": {
             "outlinewidth": 0,
             "ticks": ""
            },
            "type": "mesh3d"
           }
          ],
          "parcoords": [
           {
            "line": {
             "colorbar": {
              "outlinewidth": 0,
              "ticks": ""
             }
            },
            "type": "parcoords"
           }
          ],
          "pie": [
           {
            "automargin": true,
            "type": "pie"
           }
          ],
          "scatter": [
           {
            "marker": {
             "colorbar": {
              "outlinewidth": 0,
              "ticks": ""
             }
            },
            "type": "scatter"
           }
          ],
          "scatter3d": [
           {
            "line": {
             "colorbar": {
              "outlinewidth": 0,
              "ticks": ""
             }
            },
            "marker": {
             "colorbar": {
              "outlinewidth": 0,
              "ticks": ""
             }
            },
            "type": "scatter3d"
           }
          ],
          "scattercarpet": [
           {
            "marker": {
             "colorbar": {
              "outlinewidth": 0,
              "ticks": ""
             }
            },
            "type": "scattercarpet"
           }
          ],
          "scattergeo": [
           {
            "marker": {
             "colorbar": {
              "outlinewidth": 0,
              "ticks": ""
             }
            },
            "type": "scattergeo"
           }
          ],
          "scattergl": [
           {
            "marker": {
             "colorbar": {
              "outlinewidth": 0,
              "ticks": ""
             }
            },
            "type": "scattergl"
           }
          ],
          "scattermapbox": [
           {
            "marker": {
             "colorbar": {
              "outlinewidth": 0,
              "ticks": ""
             }
            },
            "type": "scattermapbox"
           }
          ],
          "scatterpolar": [
           {
            "marker": {
             "colorbar": {
              "outlinewidth": 0,
              "ticks": ""
             }
            },
            "type": "scatterpolar"
           }
          ],
          "scatterpolargl": [
           {
            "marker": {
             "colorbar": {
              "outlinewidth": 0,
              "ticks": ""
             }
            },
            "type": "scatterpolargl"
           }
          ],
          "scatterternary": [
           {
            "marker": {
             "colorbar": {
              "outlinewidth": 0,
              "ticks": ""
             }
            },
            "type": "scatterternary"
           }
          ],
          "surface": [
           {
            "colorbar": {
             "outlinewidth": 0,
             "ticks": ""
            },
            "colorscale": [
             [
              0,
              "#0d0887"
             ],
             [
              0.1111111111111111,
              "#46039f"
             ],
             [
              0.2222222222222222,
              "#7201a8"
             ],
             [
              0.3333333333333333,
              "#9c179e"
             ],
             [
              0.4444444444444444,
              "#bd3786"
             ],
             [
              0.5555555555555556,
              "#d8576b"
             ],
             [
              0.6666666666666666,
              "#ed7953"
             ],
             [
              0.7777777777777778,
              "#fb9f3a"
             ],
             [
              0.8888888888888888,
              "#fdca26"
             ],
             [
              1,
              "#f0f921"
             ]
            ],
            "type": "surface"
           }
          ],
          "table": [
           {
            "cells": {
             "fill": {
              "color": "#EBF0F8"
             },
             "line": {
              "color": "white"
             }
            },
            "header": {
             "fill": {
              "color": "#C8D4E3"
             },
             "line": {
              "color": "white"
             }
            },
            "type": "table"
           }
          ]
         },
         "layout": {
          "annotationdefaults": {
           "arrowcolor": "#2a3f5f",
           "arrowhead": 0,
           "arrowwidth": 1
          },
          "autotypenumbers": "strict",
          "coloraxis": {
           "colorbar": {
            "outlinewidth": 0,
            "ticks": ""
           }
          },
          "colorscale": {
           "diverging": [
            [
             0,
             "#8e0152"
            ],
            [
             0.1,
             "#c51b7d"
            ],
            [
             0.2,
             "#de77ae"
            ],
            [
             0.3,
             "#f1b6da"
            ],
            [
             0.4,
             "#fde0ef"
            ],
            [
             0.5,
             "#f7f7f7"
            ],
            [
             0.6,
             "#e6f5d0"
            ],
            [
             0.7,
             "#b8e186"
            ],
            [
             0.8,
             "#7fbc41"
            ],
            [
             0.9,
             "#4d9221"
            ],
            [
             1,
             "#276419"
            ]
           ],
           "sequential": [
            [
             0,
             "#0d0887"
            ],
            [
             0.1111111111111111,
             "#46039f"
            ],
            [
             0.2222222222222222,
             "#7201a8"
            ],
            [
             0.3333333333333333,
             "#9c179e"
            ],
            [
             0.4444444444444444,
             "#bd3786"
            ],
            [
             0.5555555555555556,
             "#d8576b"
            ],
            [
             0.6666666666666666,
             "#ed7953"
            ],
            [
             0.7777777777777778,
             "#fb9f3a"
            ],
            [
             0.8888888888888888,
             "#fdca26"
            ],
            [
             1,
             "#f0f921"
            ]
           ],
           "sequentialminus": [
            [
             0,
             "#0d0887"
            ],
            [
             0.1111111111111111,
             "#46039f"
            ],
            [
             0.2222222222222222,
             "#7201a8"
            ],
            [
             0.3333333333333333,
             "#9c179e"
            ],
            [
             0.4444444444444444,
             "#bd3786"
            ],
            [
             0.5555555555555556,
             "#d8576b"
            ],
            [
             0.6666666666666666,
             "#ed7953"
            ],
            [
             0.7777777777777778,
             "#fb9f3a"
            ],
            [
             0.8888888888888888,
             "#fdca26"
            ],
            [
             1,
             "#f0f921"
            ]
           ]
          },
          "colorway": [
           "#636efa",
           "#EF553B",
           "#00cc96",
           "#ab63fa",
           "#FFA15A",
           "#19d3f3",
           "#FF6692",
           "#B6E880",
           "#FF97FF",
           "#FECB52"
          ],
          "font": {
           "color": "#2a3f5f"
          },
          "geo": {
           "bgcolor": "white",
           "lakecolor": "white",
           "landcolor": "#E5ECF6",
           "showlakes": true,
           "showland": true,
           "subunitcolor": "white"
          },
          "hoverlabel": {
           "align": "left"
          },
          "hovermode": "closest",
          "mapbox": {
           "style": "light"
          },
          "paper_bgcolor": "white",
          "plot_bgcolor": "#E5ECF6",
          "polar": {
           "angularaxis": {
            "gridcolor": "white",
            "linecolor": "white",
            "ticks": ""
           },
           "bgcolor": "#E5ECF6",
           "radialaxis": {
            "gridcolor": "white",
            "linecolor": "white",
            "ticks": ""
           }
          },
          "scene": {
           "xaxis": {
            "backgroundcolor": "#E5ECF6",
            "gridcolor": "white",
            "gridwidth": 2,
            "linecolor": "white",
            "showbackground": true,
            "ticks": "",
            "zerolinecolor": "white"
           },
           "yaxis": {
            "backgroundcolor": "#E5ECF6",
            "gridcolor": "white",
            "gridwidth": 2,
            "linecolor": "white",
            "showbackground": true,
            "ticks": "",
            "zerolinecolor": "white"
           },
           "zaxis": {
            "backgroundcolor": "#E5ECF6",
            "gridcolor": "white",
            "gridwidth": 2,
            "linecolor": "white",
            "showbackground": true,
            "ticks": "",
            "zerolinecolor": "white"
           }
          },
          "shapedefaults": {
           "line": {
            "color": "#2a3f5f"
           }
          },
          "ternary": {
           "aaxis": {
            "gridcolor": "white",
            "linecolor": "white",
            "ticks": ""
           },
           "baxis": {
            "gridcolor": "white",
            "linecolor": "white",
            "ticks": ""
           },
           "bgcolor": "#E5ECF6",
           "caxis": {
            "gridcolor": "white",
            "linecolor": "white",
            "ticks": ""
           }
          },
          "title": {
           "x": 0.05
          },
          "xaxis": {
           "automargin": true,
           "gridcolor": "white",
           "linecolor": "white",
           "ticks": "",
           "title": {
            "standoff": 15
           },
           "zerolinecolor": "white",
           "zerolinewidth": 2
          },
          "yaxis": {
           "automargin": true,
           "gridcolor": "white",
           "linecolor": "white",
           "ticks": "",
           "title": {
            "standoff": 15
           },
           "zerolinecolor": "white",
           "zerolinewidth": 2
          }
         }
        }
       }
      }
     },
     "metadata": {},
     "output_type": "display_data"
    }
   ],
   "source": [
    "# Number of questions by each demogoraphic group sorted by Indicator and SubIndicator\n",
    "fig = px.treemap(df_tree_map, path=[px.Constant(\"Question Types\"), 'DEPT_E','DESCRIP_E'], values='ANSCOUNT', color='ANSCOUNT'\n",
    "                                    ,color_continuous_scale='GnBu')\n",
    "fig.update_layout(margin = dict(t=50, l=25, r=25, b=25))\n",
    "fig.show()"
   ]
  },
  {
   "cell_type": "code",
   "execution_count": 447,
   "metadata": {},
   "outputs": [
    {
     "name": "stdout",
     "output_type": "stream",
     "text": [
      "Question 70m. Overall, to what extent do the following factors cause you stress at work? Feeling disconnected from colleagues\n"
     ]
    },
    {
     "data": {
      "application/vnd.plotly.v1+json": {
       "config": {
        "plotlyServerURL": "https://plot.ly"
       },
       "data": [
        {
         "branchvalues": "total",
         "customdata": [
          [
           9.76923076923077
          ],
          [
           9.756756756756756
          ],
          [
           9.162790697674419
          ],
          [
           5.567164179104478
          ],
          [
           8.746268656716419
          ],
          [
           8.885111453605143
          ]
         ],
         "domain": {
          "x": [
           0,
           1
          ],
          "y": [
           0,
           1
          ]
         },
         "hovertemplate": "labels=%{label}<br>To a very large extent_sum=%{value}<br>parent=%{parent}<br>id=%{id}<br>To a very large extent=%{color}<extra></extra>",
         "ids": [
          "Question Types/Another sexual orientation",
          "Question Types/Bisexual",
          "Question Types/Gay or lesbian",
          "Question Types/Heterosexual",
          "Question Types/Prefer not to answer",
          "Question Types"
         ],
         "labels": [
          "Another sexual orientation",
          "Bisexual",
          "Gay or lesbian",
          "Heterosexual",
          "Prefer not to answer",
          "Question Types"
         ],
         "marker": {
          "coloraxis": "coloraxis",
          "colors": [
           9.76923076923077,
           9.756756756756756,
           9.162790697674419,
           5.567164179104478,
           8.746268656716419,
           8.885111453605143
          ]
         },
         "name": "",
         "parents": [
          "Question Types",
          "Question Types",
          "Question Types",
          "Question Types",
          "Question Types",
          ""
         ],
         "type": "treemap",
         "values": [
          9.76923076923077,
          9.756756756756756,
          9.162790697674419,
          5.567164179104478,
          8.746268656716419,
          43.00221105948284
         ]
        }
       ],
       "layout": {
        "coloraxis": {
         "colorbar": {
          "title": {
           "text": "To a very large extent"
          }
         },
         "colorscale": [
          [
           0,
           "rgb(247,252,240)"
          ],
          [
           0.125,
           "rgb(224,243,219)"
          ],
          [
           0.25,
           "rgb(204,235,197)"
          ],
          [
           0.375,
           "rgb(168,221,181)"
          ],
          [
           0.5,
           "rgb(123,204,196)"
          ],
          [
           0.625,
           "rgb(78,179,211)"
          ],
          [
           0.75,
           "rgb(43,140,190)"
          ],
          [
           0.875,
           "rgb(8,104,172)"
          ],
          [
           1,
           "rgb(8,64,129)"
          ]
         ]
        },
        "legend": {
         "tracegroupgap": 0
        },
        "margin": {
         "b": 25,
         "l": 25,
         "r": 25,
         "t": 50
        },
        "template": {
         "data": {
          "bar": [
           {
            "error_x": {
             "color": "#2a3f5f"
            },
            "error_y": {
             "color": "#2a3f5f"
            },
            "marker": {
             "line": {
              "color": "#E5ECF6",
              "width": 0.5
             },
             "pattern": {
              "fillmode": "overlay",
              "size": 10,
              "solidity": 0.2
             }
            },
            "type": "bar"
           }
          ],
          "barpolar": [
           {
            "marker": {
             "line": {
              "color": "#E5ECF6",
              "width": 0.5
             },
             "pattern": {
              "fillmode": "overlay",
              "size": 10,
              "solidity": 0.2
             }
            },
            "type": "barpolar"
           }
          ],
          "carpet": [
           {
            "aaxis": {
             "endlinecolor": "#2a3f5f",
             "gridcolor": "white",
             "linecolor": "white",
             "minorgridcolor": "white",
             "startlinecolor": "#2a3f5f"
            },
            "baxis": {
             "endlinecolor": "#2a3f5f",
             "gridcolor": "white",
             "linecolor": "white",
             "minorgridcolor": "white",
             "startlinecolor": "#2a3f5f"
            },
            "type": "carpet"
           }
          ],
          "choropleth": [
           {
            "colorbar": {
             "outlinewidth": 0,
             "ticks": ""
            },
            "type": "choropleth"
           }
          ],
          "contour": [
           {
            "colorbar": {
             "outlinewidth": 0,
             "ticks": ""
            },
            "colorscale": [
             [
              0,
              "#0d0887"
             ],
             [
              0.1111111111111111,
              "#46039f"
             ],
             [
              0.2222222222222222,
              "#7201a8"
             ],
             [
              0.3333333333333333,
              "#9c179e"
             ],
             [
              0.4444444444444444,
              "#bd3786"
             ],
             [
              0.5555555555555556,
              "#d8576b"
             ],
             [
              0.6666666666666666,
              "#ed7953"
             ],
             [
              0.7777777777777778,
              "#fb9f3a"
             ],
             [
              0.8888888888888888,
              "#fdca26"
             ],
             [
              1,
              "#f0f921"
             ]
            ],
            "type": "contour"
           }
          ],
          "contourcarpet": [
           {
            "colorbar": {
             "outlinewidth": 0,
             "ticks": ""
            },
            "type": "contourcarpet"
           }
          ],
          "heatmap": [
           {
            "colorbar": {
             "outlinewidth": 0,
             "ticks": ""
            },
            "colorscale": [
             [
              0,
              "#0d0887"
             ],
             [
              0.1111111111111111,
              "#46039f"
             ],
             [
              0.2222222222222222,
              "#7201a8"
             ],
             [
              0.3333333333333333,
              "#9c179e"
             ],
             [
              0.4444444444444444,
              "#bd3786"
             ],
             [
              0.5555555555555556,
              "#d8576b"
             ],
             [
              0.6666666666666666,
              "#ed7953"
             ],
             [
              0.7777777777777778,
              "#fb9f3a"
             ],
             [
              0.8888888888888888,
              "#fdca26"
             ],
             [
              1,
              "#f0f921"
             ]
            ],
            "type": "heatmap"
           }
          ],
          "heatmapgl": [
           {
            "colorbar": {
             "outlinewidth": 0,
             "ticks": ""
            },
            "colorscale": [
             [
              0,
              "#0d0887"
             ],
             [
              0.1111111111111111,
              "#46039f"
             ],
             [
              0.2222222222222222,
              "#7201a8"
             ],
             [
              0.3333333333333333,
              "#9c179e"
             ],
             [
              0.4444444444444444,
              "#bd3786"
             ],
             [
              0.5555555555555556,
              "#d8576b"
             ],
             [
              0.6666666666666666,
              "#ed7953"
             ],
             [
              0.7777777777777778,
              "#fb9f3a"
             ],
             [
              0.8888888888888888,
              "#fdca26"
             ],
             [
              1,
              "#f0f921"
             ]
            ],
            "type": "heatmapgl"
           }
          ],
          "histogram": [
           {
            "marker": {
             "pattern": {
              "fillmode": "overlay",
              "size": 10,
              "solidity": 0.2
             }
            },
            "type": "histogram"
           }
          ],
          "histogram2d": [
           {
            "colorbar": {
             "outlinewidth": 0,
             "ticks": ""
            },
            "colorscale": [
             [
              0,
              "#0d0887"
             ],
             [
              0.1111111111111111,
              "#46039f"
             ],
             [
              0.2222222222222222,
              "#7201a8"
             ],
             [
              0.3333333333333333,
              "#9c179e"
             ],
             [
              0.4444444444444444,
              "#bd3786"
             ],
             [
              0.5555555555555556,
              "#d8576b"
             ],
             [
              0.6666666666666666,
              "#ed7953"
             ],
             [
              0.7777777777777778,
              "#fb9f3a"
             ],
             [
              0.8888888888888888,
              "#fdca26"
             ],
             [
              1,
              "#f0f921"
             ]
            ],
            "type": "histogram2d"
           }
          ],
          "histogram2dcontour": [
           {
            "colorbar": {
             "outlinewidth": 0,
             "ticks": ""
            },
            "colorscale": [
             [
              0,
              "#0d0887"
             ],
             [
              0.1111111111111111,
              "#46039f"
             ],
             [
              0.2222222222222222,
              "#7201a8"
             ],
             [
              0.3333333333333333,
              "#9c179e"
             ],
             [
              0.4444444444444444,
              "#bd3786"
             ],
             [
              0.5555555555555556,
              "#d8576b"
             ],
             [
              0.6666666666666666,
              "#ed7953"
             ],
             [
              0.7777777777777778,
              "#fb9f3a"
             ],
             [
              0.8888888888888888,
              "#fdca26"
             ],
             [
              1,
              "#f0f921"
             ]
            ],
            "type": "histogram2dcontour"
           }
          ],
          "mesh3d": [
           {
            "colorbar": {
             "outlinewidth": 0,
             "ticks": ""
            },
            "type": "mesh3d"
           }
          ],
          "parcoords": [
           {
            "line": {
             "colorbar": {
              "outlinewidth": 0,
              "ticks": ""
             }
            },
            "type": "parcoords"
           }
          ],
          "pie": [
           {
            "automargin": true,
            "type": "pie"
           }
          ],
          "scatter": [
           {
            "marker": {
             "colorbar": {
              "outlinewidth": 0,
              "ticks": ""
             }
            },
            "type": "scatter"
           }
          ],
          "scatter3d": [
           {
            "line": {
             "colorbar": {
              "outlinewidth": 0,
              "ticks": ""
             }
            },
            "marker": {
             "colorbar": {
              "outlinewidth": 0,
              "ticks": ""
             }
            },
            "type": "scatter3d"
           }
          ],
          "scattercarpet": [
           {
            "marker": {
             "colorbar": {
              "outlinewidth": 0,
              "ticks": ""
             }
            },
            "type": "scattercarpet"
           }
          ],
          "scattergeo": [
           {
            "marker": {
             "colorbar": {
              "outlinewidth": 0,
              "ticks": ""
             }
            },
            "type": "scattergeo"
           }
          ],
          "scattergl": [
           {
            "marker": {
             "colorbar": {
              "outlinewidth": 0,
              "ticks": ""
             }
            },
            "type": "scattergl"
           }
          ],
          "scattermapbox": [
           {
            "marker": {
             "colorbar": {
              "outlinewidth": 0,
              "ticks": ""
             }
            },
            "type": "scattermapbox"
           }
          ],
          "scatterpolar": [
           {
            "marker": {
             "colorbar": {
              "outlinewidth": 0,
              "ticks": ""
             }
            },
            "type": "scatterpolar"
           }
          ],
          "scatterpolargl": [
           {
            "marker": {
             "colorbar": {
              "outlinewidth": 0,
              "ticks": ""
             }
            },
            "type": "scatterpolargl"
           }
          ],
          "scatterternary": [
           {
            "marker": {
             "colorbar": {
              "outlinewidth": 0,
              "ticks": ""
             }
            },
            "type": "scatterternary"
           }
          ],
          "surface": [
           {
            "colorbar": {
             "outlinewidth": 0,
             "ticks": ""
            },
            "colorscale": [
             [
              0,
              "#0d0887"
             ],
             [
              0.1111111111111111,
              "#46039f"
             ],
             [
              0.2222222222222222,
              "#7201a8"
             ],
             [
              0.3333333333333333,
              "#9c179e"
             ],
             [
              0.4444444444444444,
              "#bd3786"
             ],
             [
              0.5555555555555556,
              "#d8576b"
             ],
             [
              0.6666666666666666,
              "#ed7953"
             ],
             [
              0.7777777777777778,
              "#fb9f3a"
             ],
             [
              0.8888888888888888,
              "#fdca26"
             ],
             [
              1,
              "#f0f921"
             ]
            ],
            "type": "surface"
           }
          ],
          "table": [
           {
            "cells": {
             "fill": {
              "color": "#EBF0F8"
             },
             "line": {
              "color": "white"
             }
            },
            "header": {
             "fill": {
              "color": "#C8D4E3"
             },
             "line": {
              "color": "white"
             }
            },
            "type": "table"
           }
          ]
         },
         "layout": {
          "annotationdefaults": {
           "arrowcolor": "#2a3f5f",
           "arrowhead": 0,
           "arrowwidth": 1
          },
          "autotypenumbers": "strict",
          "coloraxis": {
           "colorbar": {
            "outlinewidth": 0,
            "ticks": ""
           }
          },
          "colorscale": {
           "diverging": [
            [
             0,
             "#8e0152"
            ],
            [
             0.1,
             "#c51b7d"
            ],
            [
             0.2,
             "#de77ae"
            ],
            [
             0.3,
             "#f1b6da"
            ],
            [
             0.4,
             "#fde0ef"
            ],
            [
             0.5,
             "#f7f7f7"
            ],
            [
             0.6,
             "#e6f5d0"
            ],
            [
             0.7,
             "#b8e186"
            ],
            [
             0.8,
             "#7fbc41"
            ],
            [
             0.9,
             "#4d9221"
            ],
            [
             1,
             "#276419"
            ]
           ],
           "sequential": [
            [
             0,
             "#0d0887"
            ],
            [
             0.1111111111111111,
             "#46039f"
            ],
            [
             0.2222222222222222,
             "#7201a8"
            ],
            [
             0.3333333333333333,
             "#9c179e"
            ],
            [
             0.4444444444444444,
             "#bd3786"
            ],
            [
             0.5555555555555556,
             "#d8576b"
            ],
            [
             0.6666666666666666,
             "#ed7953"
            ],
            [
             0.7777777777777778,
             "#fb9f3a"
            ],
            [
             0.8888888888888888,
             "#fdca26"
            ],
            [
             1,
             "#f0f921"
            ]
           ],
           "sequentialminus": [
            [
             0,
             "#0d0887"
            ],
            [
             0.1111111111111111,
             "#46039f"
            ],
            [
             0.2222222222222222,
             "#7201a8"
            ],
            [
             0.3333333333333333,
             "#9c179e"
            ],
            [
             0.4444444444444444,
             "#bd3786"
            ],
            [
             0.5555555555555556,
             "#d8576b"
            ],
            [
             0.6666666666666666,
             "#ed7953"
            ],
            [
             0.7777777777777778,
             "#fb9f3a"
            ],
            [
             0.8888888888888888,
             "#fdca26"
            ],
            [
             1,
             "#f0f921"
            ]
           ]
          },
          "colorway": [
           "#636efa",
           "#EF553B",
           "#00cc96",
           "#ab63fa",
           "#FFA15A",
           "#19d3f3",
           "#FF6692",
           "#B6E880",
           "#FF97FF",
           "#FECB52"
          ],
          "font": {
           "color": "#2a3f5f"
          },
          "geo": {
           "bgcolor": "white",
           "lakecolor": "white",
           "landcolor": "#E5ECF6",
           "showlakes": true,
           "showland": true,
           "subunitcolor": "white"
          },
          "hoverlabel": {
           "align": "left"
          },
          "hovermode": "closest",
          "mapbox": {
           "style": "light"
          },
          "paper_bgcolor": "white",
          "plot_bgcolor": "#E5ECF6",
          "polar": {
           "angularaxis": {
            "gridcolor": "white",
            "linecolor": "white",
            "ticks": ""
           },
           "bgcolor": "#E5ECF6",
           "radialaxis": {
            "gridcolor": "white",
            "linecolor": "white",
            "ticks": ""
           }
          },
          "scene": {
           "xaxis": {
            "backgroundcolor": "#E5ECF6",
            "gridcolor": "white",
            "gridwidth": 2,
            "linecolor": "white",
            "showbackground": true,
            "ticks": "",
            "zerolinecolor": "white"
           },
           "yaxis": {
            "backgroundcolor": "#E5ECF6",
            "gridcolor": "white",
            "gridwidth": 2,
            "linecolor": "white",
            "showbackground": true,
            "ticks": "",
            "zerolinecolor": "white"
           },
           "zaxis": {
            "backgroundcolor": "#E5ECF6",
            "gridcolor": "white",
            "gridwidth": 2,
            "linecolor": "white",
            "showbackground": true,
            "ticks": "",
            "zerolinecolor": "white"
           }
          },
          "shapedefaults": {
           "line": {
            "color": "#2a3f5f"
           }
          },
          "ternary": {
           "aaxis": {
            "gridcolor": "white",
            "linecolor": "white",
            "ticks": ""
           },
           "baxis": {
            "gridcolor": "white",
            "linecolor": "white",
            "ticks": ""
           },
           "bgcolor": "#E5ECF6",
           "caxis": {
            "gridcolor": "white",
            "linecolor": "white",
            "ticks": ""
           }
          },
          "title": {
           "x": 0.05
          },
          "xaxis": {
           "automargin": true,
           "gridcolor": "white",
           "linecolor": "white",
           "ticks": "",
           "title": {
            "standoff": 15
           },
           "zerolinecolor": "white",
           "zerolinewidth": 2
          },
          "yaxis": {
           "automargin": true,
           "gridcolor": "white",
           "linecolor": "white",
           "ticks": "",
           "title": {
            "standoff": 15
           },
           "zerolinecolor": "white",
           "zerolinewidth": 2
          }
         }
        }
       }
      }
     },
     "metadata": {},
     "output_type": "display_data"
    },
    {
     "name": "stdout",
     "output_type": "stream",
     "text": [
      "Question 26. I feel that my immediate supervisor supports my career goals.\n"
     ]
    },
    {
     "data": {
      "application/vnd.plotly.v1+json": {
       "config": {
        "plotlyServerURL": "https://plot.ly"
       },
       "data": [
        {
         "branchvalues": "total",
         "customdata": [
          [
           4.730769230769231
          ],
          [
           4.1891891891891895
          ],
          [
           5.068181818181818
          ],
          [
           3.4477611940298507
          ],
          [
           6
          ],
          [
           4.843125326300256
          ]
         ],
         "domain": {
          "x": [
           0,
           1
          ],
          "y": [
           0,
           1
          ]
         },
         "hovertemplate": "labels=%{label}<br>Strongly disagree_sum=%{value}<br>parent=%{parent}<br>id=%{id}<br>Strongly disagree=%{color}<extra></extra>",
         "ids": [
          "Question Types/Another sexual orientation",
          "Question Types/Bisexual",
          "Question Types/Gay or lesbian",
          "Question Types/Heterosexual",
          "Question Types/Prefer not to answer",
          "Question Types"
         ],
         "labels": [
          "Another sexual orientation",
          "Bisexual",
          "Gay or lesbian",
          "Heterosexual",
          "Prefer not to answer",
          "Question Types"
         ],
         "marker": {
          "coloraxis": "coloraxis",
          "colors": [
           4.730769230769231,
           4.1891891891891895,
           5.068181818181818,
           3.4477611940298507,
           6,
           4.843125326300256
          ]
         },
         "name": "",
         "parents": [
          "Question Types",
          "Question Types",
          "Question Types",
          "Question Types",
          "Question Types",
          ""
         ],
         "type": "treemap",
         "values": [
          4.730769230769231,
          4.1891891891891895,
          5.068181818181818,
          3.4477611940298507,
          6,
          23.43590143217009
         ]
        }
       ],
       "layout": {
        "coloraxis": {
         "colorbar": {
          "title": {
           "text": "Strongly disagree"
          }
         },
         "colorscale": [
          [
           0,
           "rgb(247,252,240)"
          ],
          [
           0.125,
           "rgb(224,243,219)"
          ],
          [
           0.25,
           "rgb(204,235,197)"
          ],
          [
           0.375,
           "rgb(168,221,181)"
          ],
          [
           0.5,
           "rgb(123,204,196)"
          ],
          [
           0.625,
           "rgb(78,179,211)"
          ],
          [
           0.75,
           "rgb(43,140,190)"
          ],
          [
           0.875,
           "rgb(8,104,172)"
          ],
          [
           1,
           "rgb(8,64,129)"
          ]
         ]
        },
        "legend": {
         "tracegroupgap": 0
        },
        "margin": {
         "b": 25,
         "l": 25,
         "r": 25,
         "t": 50
        },
        "template": {
         "data": {
          "bar": [
           {
            "error_x": {
             "color": "#2a3f5f"
            },
            "error_y": {
             "color": "#2a3f5f"
            },
            "marker": {
             "line": {
              "color": "#E5ECF6",
              "width": 0.5
             },
             "pattern": {
              "fillmode": "overlay",
              "size": 10,
              "solidity": 0.2
             }
            },
            "type": "bar"
           }
          ],
          "barpolar": [
           {
            "marker": {
             "line": {
              "color": "#E5ECF6",
              "width": 0.5
             },
             "pattern": {
              "fillmode": "overlay",
              "size": 10,
              "solidity": 0.2
             }
            },
            "type": "barpolar"
           }
          ],
          "carpet": [
           {
            "aaxis": {
             "endlinecolor": "#2a3f5f",
             "gridcolor": "white",
             "linecolor": "white",
             "minorgridcolor": "white",
             "startlinecolor": "#2a3f5f"
            },
            "baxis": {
             "endlinecolor": "#2a3f5f",
             "gridcolor": "white",
             "linecolor": "white",
             "minorgridcolor": "white",
             "startlinecolor": "#2a3f5f"
            },
            "type": "carpet"
           }
          ],
          "choropleth": [
           {
            "colorbar": {
             "outlinewidth": 0,
             "ticks": ""
            },
            "type": "choropleth"
           }
          ],
          "contour": [
           {
            "colorbar": {
             "outlinewidth": 0,
             "ticks": ""
            },
            "colorscale": [
             [
              0,
              "#0d0887"
             ],
             [
              0.1111111111111111,
              "#46039f"
             ],
             [
              0.2222222222222222,
              "#7201a8"
             ],
             [
              0.3333333333333333,
              "#9c179e"
             ],
             [
              0.4444444444444444,
              "#bd3786"
             ],
             [
              0.5555555555555556,
              "#d8576b"
             ],
             [
              0.6666666666666666,
              "#ed7953"
             ],
             [
              0.7777777777777778,
              "#fb9f3a"
             ],
             [
              0.8888888888888888,
              "#fdca26"
             ],
             [
              1,
              "#f0f921"
             ]
            ],
            "type": "contour"
           }
          ],
          "contourcarpet": [
           {
            "colorbar": {
             "outlinewidth": 0,
             "ticks": ""
            },
            "type": "contourcarpet"
           }
          ],
          "heatmap": [
           {
            "colorbar": {
             "outlinewidth": 0,
             "ticks": ""
            },
            "colorscale": [
             [
              0,
              "#0d0887"
             ],
             [
              0.1111111111111111,
              "#46039f"
             ],
             [
              0.2222222222222222,
              "#7201a8"
             ],
             [
              0.3333333333333333,
              "#9c179e"
             ],
             [
              0.4444444444444444,
              "#bd3786"
             ],
             [
              0.5555555555555556,
              "#d8576b"
             ],
             [
              0.6666666666666666,
              "#ed7953"
             ],
             [
              0.7777777777777778,
              "#fb9f3a"
             ],
             [
              0.8888888888888888,
              "#fdca26"
             ],
             [
              1,
              "#f0f921"
             ]
            ],
            "type": "heatmap"
           }
          ],
          "heatmapgl": [
           {
            "colorbar": {
             "outlinewidth": 0,
             "ticks": ""
            },
            "colorscale": [
             [
              0,
              "#0d0887"
             ],
             [
              0.1111111111111111,
              "#46039f"
             ],
             [
              0.2222222222222222,
              "#7201a8"
             ],
             [
              0.3333333333333333,
              "#9c179e"
             ],
             [
              0.4444444444444444,
              "#bd3786"
             ],
             [
              0.5555555555555556,
              "#d8576b"
             ],
             [
              0.6666666666666666,
              "#ed7953"
             ],
             [
              0.7777777777777778,
              "#fb9f3a"
             ],
             [
              0.8888888888888888,
              "#fdca26"
             ],
             [
              1,
              "#f0f921"
             ]
            ],
            "type": "heatmapgl"
           }
          ],
          "histogram": [
           {
            "marker": {
             "pattern": {
              "fillmode": "overlay",
              "size": 10,
              "solidity": 0.2
             }
            },
            "type": "histogram"
           }
          ],
          "histogram2d": [
           {
            "colorbar": {
             "outlinewidth": 0,
             "ticks": ""
            },
            "colorscale": [
             [
              0,
              "#0d0887"
             ],
             [
              0.1111111111111111,
              "#46039f"
             ],
             [
              0.2222222222222222,
              "#7201a8"
             ],
             [
              0.3333333333333333,
              "#9c179e"
             ],
             [
              0.4444444444444444,
              "#bd3786"
             ],
             [
              0.5555555555555556,
              "#d8576b"
             ],
             [
              0.6666666666666666,
              "#ed7953"
             ],
             [
              0.7777777777777778,
              "#fb9f3a"
             ],
             [
              0.8888888888888888,
              "#fdca26"
             ],
             [
              1,
              "#f0f921"
             ]
            ],
            "type": "histogram2d"
           }
          ],
          "histogram2dcontour": [
           {
            "colorbar": {
             "outlinewidth": 0,
             "ticks": ""
            },
            "colorscale": [
             [
              0,
              "#0d0887"
             ],
             [
              0.1111111111111111,
              "#46039f"
             ],
             [
              0.2222222222222222,
              "#7201a8"
             ],
             [
              0.3333333333333333,
              "#9c179e"
             ],
             [
              0.4444444444444444,
              "#bd3786"
             ],
             [
              0.5555555555555556,
              "#d8576b"
             ],
             [
              0.6666666666666666,
              "#ed7953"
             ],
             [
              0.7777777777777778,
              "#fb9f3a"
             ],
             [
              0.8888888888888888,
              "#fdca26"
             ],
             [
              1,
              "#f0f921"
             ]
            ],
            "type": "histogram2dcontour"
           }
          ],
          "mesh3d": [
           {
            "colorbar": {
             "outlinewidth": 0,
             "ticks": ""
            },
            "type": "mesh3d"
           }
          ],
          "parcoords": [
           {
            "line": {
             "colorbar": {
              "outlinewidth": 0,
              "ticks": ""
             }
            },
            "type": "parcoords"
           }
          ],
          "pie": [
           {
            "automargin": true,
            "type": "pie"
           }
          ],
          "scatter": [
           {
            "marker": {
             "colorbar": {
              "outlinewidth": 0,
              "ticks": ""
             }
            },
            "type": "scatter"
           }
          ],
          "scatter3d": [
           {
            "line": {
             "colorbar": {
              "outlinewidth": 0,
              "ticks": ""
             }
            },
            "marker": {
             "colorbar": {
              "outlinewidth": 0,
              "ticks": ""
             }
            },
            "type": "scatter3d"
           }
          ],
          "scattercarpet": [
           {
            "marker": {
             "colorbar": {
              "outlinewidth": 0,
              "ticks": ""
             }
            },
            "type": "scattercarpet"
           }
          ],
          "scattergeo": [
           {
            "marker": {
             "colorbar": {
              "outlinewidth": 0,
              "ticks": ""
             }
            },
            "type": "scattergeo"
           }
          ],
          "scattergl": [
           {
            "marker": {
             "colorbar": {
              "outlinewidth": 0,
              "ticks": ""
             }
            },
            "type": "scattergl"
           }
          ],
          "scattermapbox": [
           {
            "marker": {
             "colorbar": {
              "outlinewidth": 0,
              "ticks": ""
             }
            },
            "type": "scattermapbox"
           }
          ],
          "scatterpolar": [
           {
            "marker": {
             "colorbar": {
              "outlinewidth": 0,
              "ticks": ""
             }
            },
            "type": "scatterpolar"
           }
          ],
          "scatterpolargl": [
           {
            "marker": {
             "colorbar": {
              "outlinewidth": 0,
              "ticks": ""
             }
            },
            "type": "scatterpolargl"
           }
          ],
          "scatterternary": [
           {
            "marker": {
             "colorbar": {
              "outlinewidth": 0,
              "ticks": ""
             }
            },
            "type": "scatterternary"
           }
          ],
          "surface": [
           {
            "colorbar": {
             "outlinewidth": 0,
             "ticks": ""
            },
            "colorscale": [
             [
              0,
              "#0d0887"
             ],
             [
              0.1111111111111111,
              "#46039f"
             ],
             [
              0.2222222222222222,
              "#7201a8"
             ],
             [
              0.3333333333333333,
              "#9c179e"
             ],
             [
              0.4444444444444444,
              "#bd3786"
             ],
             [
              0.5555555555555556,
              "#d8576b"
             ],
             [
              0.6666666666666666,
              "#ed7953"
             ],
             [
              0.7777777777777778,
              "#fb9f3a"
             ],
             [
              0.8888888888888888,
              "#fdca26"
             ],
             [
              1,
              "#f0f921"
             ]
            ],
            "type": "surface"
           }
          ],
          "table": [
           {
            "cells": {
             "fill": {
              "color": "#EBF0F8"
             },
             "line": {
              "color": "white"
             }
            },
            "header": {
             "fill": {
              "color": "#C8D4E3"
             },
             "line": {
              "color": "white"
             }
            },
            "type": "table"
           }
          ]
         },
         "layout": {
          "annotationdefaults": {
           "arrowcolor": "#2a3f5f",
           "arrowhead": 0,
           "arrowwidth": 1
          },
          "autotypenumbers": "strict",
          "coloraxis": {
           "colorbar": {
            "outlinewidth": 0,
            "ticks": ""
           }
          },
          "colorscale": {
           "diverging": [
            [
             0,
             "#8e0152"
            ],
            [
             0.1,
             "#c51b7d"
            ],
            [
             0.2,
             "#de77ae"
            ],
            [
             0.3,
             "#f1b6da"
            ],
            [
             0.4,
             "#fde0ef"
            ],
            [
             0.5,
             "#f7f7f7"
            ],
            [
             0.6,
             "#e6f5d0"
            ],
            [
             0.7,
             "#b8e186"
            ],
            [
             0.8,
             "#7fbc41"
            ],
            [
             0.9,
             "#4d9221"
            ],
            [
             1,
             "#276419"
            ]
           ],
           "sequential": [
            [
             0,
             "#0d0887"
            ],
            [
             0.1111111111111111,
             "#46039f"
            ],
            [
             0.2222222222222222,
             "#7201a8"
            ],
            [
             0.3333333333333333,
             "#9c179e"
            ],
            [
             0.4444444444444444,
             "#bd3786"
            ],
            [
             0.5555555555555556,
             "#d8576b"
            ],
            [
             0.6666666666666666,
             "#ed7953"
            ],
            [
             0.7777777777777778,
             "#fb9f3a"
            ],
            [
             0.8888888888888888,
             "#fdca26"
            ],
            [
             1,
             "#f0f921"
            ]
           ],
           "sequentialminus": [
            [
             0,
             "#0d0887"
            ],
            [
             0.1111111111111111,
             "#46039f"
            ],
            [
             0.2222222222222222,
             "#7201a8"
            ],
            [
             0.3333333333333333,
             "#9c179e"
            ],
            [
             0.4444444444444444,
             "#bd3786"
            ],
            [
             0.5555555555555556,
             "#d8576b"
            ],
            [
             0.6666666666666666,
             "#ed7953"
            ],
            [
             0.7777777777777778,
             "#fb9f3a"
            ],
            [
             0.8888888888888888,
             "#fdca26"
            ],
            [
             1,
             "#f0f921"
            ]
           ]
          },
          "colorway": [
           "#636efa",
           "#EF553B",
           "#00cc96",
           "#ab63fa",
           "#FFA15A",
           "#19d3f3",
           "#FF6692",
           "#B6E880",
           "#FF97FF",
           "#FECB52"
          ],
          "font": {
           "color": "#2a3f5f"
          },
          "geo": {
           "bgcolor": "white",
           "lakecolor": "white",
           "landcolor": "#E5ECF6",
           "showlakes": true,
           "showland": true,
           "subunitcolor": "white"
          },
          "hoverlabel": {
           "align": "left"
          },
          "hovermode": "closest",
          "mapbox": {
           "style": "light"
          },
          "paper_bgcolor": "white",
          "plot_bgcolor": "#E5ECF6",
          "polar": {
           "angularaxis": {
            "gridcolor": "white",
            "linecolor": "white",
            "ticks": ""
           },
           "bgcolor": "#E5ECF6",
           "radialaxis": {
            "gridcolor": "white",
            "linecolor": "white",
            "ticks": ""
           }
          },
          "scene": {
           "xaxis": {
            "backgroundcolor": "#E5ECF6",
            "gridcolor": "white",
            "gridwidth": 2,
            "linecolor": "white",
            "showbackground": true,
            "ticks": "",
            "zerolinecolor": "white"
           },
           "yaxis": {
            "backgroundcolor": "#E5ECF6",
            "gridcolor": "white",
            "gridwidth": 2,
            "linecolor": "white",
            "showbackground": true,
            "ticks": "",
            "zerolinecolor": "white"
           },
           "zaxis": {
            "backgroundcolor": "#E5ECF6",
            "gridcolor": "white",
            "gridwidth": 2,
            "linecolor": "white",
            "showbackground": true,
            "ticks": "",
            "zerolinecolor": "white"
           }
          },
          "shapedefaults": {
           "line": {
            "color": "#2a3f5f"
           }
          },
          "ternary": {
           "aaxis": {
            "gridcolor": "white",
            "linecolor": "white",
            "ticks": ""
           },
           "baxis": {
            "gridcolor": "white",
            "linecolor": "white",
            "ticks": ""
           },
           "bgcolor": "#E5ECF6",
           "caxis": {
            "gridcolor": "white",
            "linecolor": "white",
            "ticks": ""
           }
          },
          "title": {
           "x": 0.05
          },
          "xaxis": {
           "automargin": true,
           "gridcolor": "white",
           "linecolor": "white",
           "ticks": "",
           "title": {
            "standoff": 15
           },
           "zerolinecolor": "white",
           "zerolinewidth": 2
          },
          "yaxis": {
           "automargin": true,
           "gridcolor": "white",
           "linecolor": "white",
           "ticks": "",
           "title": {
            "standoff": 15
           },
           "zerolinecolor": "white",
           "zerolinewidth": 2
          }
         }
        }
       }
      }
     },
     "metadata": {},
     "output_type": "display_data"
    }
   ],
   "source": [
    "# show the above distribution for Each demographic group, with the question asked. and their responses\n",
    "print(dict_questions['Q70m'])\n",
    "df_tree_map = get_results('Q70m',uniq_by_cond_2[7]).reset_index()\n",
    "fig = px.treemap(df_tree_map, path=[px.Constant(\"Question Types\"), 'BYCOND'], values=df_tree_map.columns[5], color=df_tree_map.columns[5]\n",
    "                                    ,color_continuous_scale='GnBu')\n",
    "fig.update_layout(margin = dict(t=50, l=25, r=25, b=25))\n",
    "fig.show()\n",
    "\n",
    "# show the above distribution for Each demographic group, with the question asked. and their responses\n",
    "print(dict_questions['Q26'])\n",
    "df_tree_map = get_results('Q26',uniq_by_cond_2[7]).reset_index()\n",
    "fig = px.treemap(df_tree_map, path=[px.Constant(\"Question Types\"), 'BYCOND'], values=df_tree_map.columns[5], color=df_tree_map.columns[5]\n",
    "                                    ,color_continuous_scale='GnBu')\n",
    "fig.update_layout(margin = dict(t=50, l=25, r=25, b=25))\n",
    "fig.show()"
   ]
  },
  {
   "cell_type": "code",
   "execution_count": 418,
   "metadata": {},
   "outputs": [
    {
     "data": {
      "text/plain": [
       "Index(['BYCOND', 'Strongly agree', 'Somewhat agree',\n",
       "       'Neither agree nor disagree', 'Somewhat disagree', 'Strongly disagree',\n",
       "       'Don't know', 'Not applicable'],\n",
       "      dtype='object')"
      ]
     },
     "execution_count": 418,
     "metadata": {},
     "output_type": "execute_result"
    }
   ],
   "source": [
    "df_tree_map.columns"
   ]
  },
  {
   "cell_type": "code",
   "execution_count": 406,
   "metadata": {},
   "outputs": [
    {
     "data": {
      "text/html": [
       "<div>\n",
       "<style scoped>\n",
       "    .dataframe tbody tr th:only-of-type {\n",
       "        vertical-align: middle;\n",
       "    }\n",
       "\n",
       "    .dataframe tbody tr th {\n",
       "        vertical-align: top;\n",
       "    }\n",
       "\n",
       "    .dataframe thead th {\n",
       "        text-align: right;\n",
       "    }\n",
       "</style>\n",
       "<table border=\"1\" class=\"dataframe\">\n",
       "  <thead>\n",
       "    <tr style=\"text-align: right;\">\n",
       "      <th></th>\n",
       "      <th>BYCOND</th>\n",
       "      <th>Strongly agree</th>\n",
       "      <th>Somewhat agree</th>\n",
       "      <th>Neither agree nor disagree</th>\n",
       "      <th>Somewhat disagree</th>\n",
       "      <th>Strongly disagree</th>\n",
       "      <th>Don't know</th>\n",
       "      <th>Not applicable</th>\n",
       "    </tr>\n",
       "  </thead>\n",
       "  <tbody>\n",
       "    <tr>\n",
       "      <th>0</th>\n",
       "      <td>Heterosexual</td>\n",
       "      <td>54.313433</td>\n",
       "      <td>23.164179</td>\n",
       "      <td>11.507463</td>\n",
       "      <td>4.358209</td>\n",
       "      <td>3.447761</td>\n",
       "      <td>1.626866</td>\n",
       "      <td>1.597015</td>\n",
       "    </tr>\n",
       "    <tr>\n",
       "      <th>1</th>\n",
       "      <td>Gay or lesbian</td>\n",
       "      <td>54.340909</td>\n",
       "      <td>21.204545</td>\n",
       "      <td>11.181818</td>\n",
       "      <td>4.863636</td>\n",
       "      <td>5.068182</td>\n",
       "      <td>1.977273</td>\n",
       "      <td>1.409091</td>\n",
       "    </tr>\n",
       "    <tr>\n",
       "      <th>2</th>\n",
       "      <td>Bisexual</td>\n",
       "      <td>56.216216</td>\n",
       "      <td>21.837838</td>\n",
       "      <td>8.648649</td>\n",
       "      <td>5.000000</td>\n",
       "      <td>4.189189</td>\n",
       "      <td>2.783784</td>\n",
       "      <td>1.378378</td>\n",
       "    </tr>\n",
       "    <tr>\n",
       "      <th>3</th>\n",
       "      <td>Another sexual orientation</td>\n",
       "      <td>53.730769</td>\n",
       "      <td>22.115385</td>\n",
       "      <td>11.692308</td>\n",
       "      <td>3.615385</td>\n",
       "      <td>4.730769</td>\n",
       "      <td>2.884615</td>\n",
       "      <td>0.923077</td>\n",
       "    </tr>\n",
       "    <tr>\n",
       "      <th>4</th>\n",
       "      <td>Prefer not to answer</td>\n",
       "      <td>45.805970</td>\n",
       "      <td>23.805970</td>\n",
       "      <td>13.970149</td>\n",
       "      <td>6.283582</td>\n",
       "      <td>6.000000</td>\n",
       "      <td>2.089552</td>\n",
       "      <td>2.104478</td>\n",
       "    </tr>\n",
       "  </tbody>\n",
       "</table>\n",
       "</div>"
      ],
      "text/plain": [
       "                       BYCOND  Strongly agree  Somewhat agree  \\\n",
       "0                Heterosexual       54.313433       23.164179   \n",
       "1              Gay or lesbian       54.340909       21.204545   \n",
       "2                    Bisexual       56.216216       21.837838   \n",
       "3  Another sexual orientation       53.730769       22.115385   \n",
       "4        Prefer not to answer       45.805970       23.805970   \n",
       "\n",
       "   Neither agree nor disagree  Somewhat disagree  Strongly disagree  \\\n",
       "0                   11.507463           4.358209           3.447761   \n",
       "1                   11.181818           4.863636           5.068182   \n",
       "2                    8.648649           5.000000           4.189189   \n",
       "3                   11.692308           3.615385           4.730769   \n",
       "4                   13.970149           6.283582           6.000000   \n",
       "\n",
       "   Don't know  Not applicable  \n",
       "0    1.626866        1.597015  \n",
       "1    1.977273        1.409091  \n",
       "2    2.783784        1.378378  \n",
       "3    2.884615        0.923077  \n",
       "4    2.089552        2.104478  "
      ]
     },
     "execution_count": 406,
     "metadata": {},
     "output_type": "execute_result"
    }
   ],
   "source": [
    "get_results('Q26',uniq_by_cond_2[7]).reset_index()"
   ]
  },
  {
   "cell_type": "code",
   "execution_count": null,
   "metadata": {},
   "outputs": [],
   "source": [
    "demo_code = uniq_by_cond_2[7]"
   ]
  },
  {
   "cell_type": "code",
   "execution_count": 415,
   "metadata": {},
   "outputs": [
    {
     "data": {
      "text/html": [
       "<div>\n",
       "<style scoped>\n",
       "    .dataframe tbody tr th:only-of-type {\n",
       "        vertical-align: middle;\n",
       "    }\n",
       "\n",
       "    .dataframe tbody tr th {\n",
       "        vertical-align: top;\n",
       "    }\n",
       "\n",
       "    .dataframe thead th {\n",
       "        text-align: right;\n",
       "    }\n",
       "</style>\n",
       "<table border=\"1\" class=\"dataframe\">\n",
       "  <thead>\n",
       "    <tr style=\"text-align: right;\">\n",
       "      <th></th>\n",
       "      <th>LEVEL1ID</th>\n",
       "      <th>LEVEL2ID</th>\n",
       "      <th>LEVEL3ID</th>\n",
       "      <th>LEVEL4ID</th>\n",
       "      <th>LEVEL5ID</th>\n",
       "      <th>SURVEYR</th>\n",
       "      <th>DEMCODE</th>\n",
       "      <th>ANSWER1</th>\n",
       "      <th>ANSWER2</th>\n",
       "      <th>ANSWER3</th>\n",
       "      <th>ANSWER4</th>\n",
       "      <th>ANSWER5</th>\n",
       "      <th>ANSWER6</th>\n",
       "      <th>ANSWER7</th>\n",
       "      <th>ANSCOUNT</th>\n",
       "      <th>INDICATORID</th>\n",
       "      <th>SUBINDICATORID</th>\n",
       "    </tr>\n",
       "    <tr>\n",
       "      <th>BYCOND_2</th>\n",
       "      <th></th>\n",
       "      <th></th>\n",
       "      <th></th>\n",
       "      <th></th>\n",
       "      <th></th>\n",
       "      <th></th>\n",
       "      <th></th>\n",
       "      <th></th>\n",
       "      <th></th>\n",
       "      <th></th>\n",
       "      <th></th>\n",
       "      <th></th>\n",
       "      <th></th>\n",
       "      <th></th>\n",
       "      <th></th>\n",
       "      <th></th>\n",
       "      <th></th>\n",
       "    </tr>\n",
       "  </thead>\n",
       "  <tbody>\n",
       "    <tr>\n",
       "      <th>Q115</th>\n",
       "      <td>39.315436</td>\n",
       "      <td>0.0</td>\n",
       "      <td>0.0</td>\n",
       "      <td>0.0</td>\n",
       "      <td>0.0</td>\n",
       "      <td>2020.0</td>\n",
       "      <td>2011.630872</td>\n",
       "      <td>52.449664</td>\n",
       "      <td>23.161074</td>\n",
       "      <td>12.248322</td>\n",
       "      <td>4.677852</td>\n",
       "      <td>4.080537</td>\n",
       "      <td>1.778523</td>\n",
       "      <td>1.604027</td>\n",
       "      <td>2476.315436</td>\n",
       "      <td>3.0</td>\n",
       "      <td>5.0</td>\n",
       "    </tr>\n",
       "    <tr>\n",
       "      <th>Q116</th>\n",
       "      <td>36.693878</td>\n",
       "      <td>0.0</td>\n",
       "      <td>0.0</td>\n",
       "      <td>0.0</td>\n",
       "      <td>0.0</td>\n",
       "      <td>2020.0</td>\n",
       "      <td>2014.500000</td>\n",
       "      <td>52.663265</td>\n",
       "      <td>21.418367</td>\n",
       "      <td>12.438776</td>\n",
       "      <td>5.408163</td>\n",
       "      <td>4.795918</td>\n",
       "      <td>1.693878</td>\n",
       "      <td>1.653061</td>\n",
       "      <td>3723.612245</td>\n",
       "      <td>3.0</td>\n",
       "      <td>5.0</td>\n",
       "    </tr>\n",
       "    <tr>\n",
       "      <th>Q117</th>\n",
       "      <td>28.650000</td>\n",
       "      <td>0.0</td>\n",
       "      <td>0.0</td>\n",
       "      <td>0.0</td>\n",
       "      <td>0.0</td>\n",
       "      <td>2020.0</td>\n",
       "      <td>2016.833333</td>\n",
       "      <td>50.500000</td>\n",
       "      <td>21.400000</td>\n",
       "      <td>13.183333</td>\n",
       "      <td>5.816667</td>\n",
       "      <td>5.900000</td>\n",
       "      <td>1.583333</td>\n",
       "      <td>1.433333</td>\n",
       "      <td>219.183333</td>\n",
       "      <td>3.0</td>\n",
       "      <td>5.0</td>\n",
       "    </tr>\n",
       "    <tr>\n",
       "      <th>Q118</th>\n",
       "      <td>42.123077</td>\n",
       "      <td>0.0</td>\n",
       "      <td>0.0</td>\n",
       "      <td>0.0</td>\n",
       "      <td>0.0</td>\n",
       "      <td>2020.0</td>\n",
       "      <td>2019.500000</td>\n",
       "      <td>50.546154</td>\n",
       "      <td>22.376923</td>\n",
       "      <td>12.407692</td>\n",
       "      <td>5.507692</td>\n",
       "      <td>5.607692</td>\n",
       "      <td>2.030769</td>\n",
       "      <td>1.530769</td>\n",
       "      <td>2852.015385</td>\n",
       "      <td>3.0</td>\n",
       "      <td>5.0</td>\n",
       "    </tr>\n",
       "    <tr>\n",
       "      <th>Q119</th>\n",
       "      <td>32.610054</td>\n",
       "      <td>0.0</td>\n",
       "      <td>0.0</td>\n",
       "      <td>0.0</td>\n",
       "      <td>0.0</td>\n",
       "      <td>2020.0</td>\n",
       "      <td>2030.441576</td>\n",
       "      <td>44.754076</td>\n",
       "      <td>21.775815</td>\n",
       "      <td>13.879076</td>\n",
       "      <td>6.873641</td>\n",
       "      <td>8.498641</td>\n",
       "      <td>2.381793</td>\n",
       "      <td>1.831522</td>\n",
       "      <td>429.275815</td>\n",
       "      <td>3.0</td>\n",
       "      <td>5.0</td>\n",
       "    </tr>\n",
       "    <tr>\n",
       "      <th>Q120</th>\n",
       "      <td>42.074627</td>\n",
       "      <td>0.0</td>\n",
       "      <td>0.0</td>\n",
       "      <td>0.0</td>\n",
       "      <td>0.0</td>\n",
       "      <td>2020.0</td>\n",
       "      <td>2041.500000</td>\n",
       "      <td>52.208955</td>\n",
       "      <td>23.335821</td>\n",
       "      <td>12.082090</td>\n",
       "      <td>4.694030</td>\n",
       "      <td>4.335821</td>\n",
       "      <td>1.880597</td>\n",
       "      <td>1.402985</td>\n",
       "      <td>2761.679104</td>\n",
       "      <td>3.0</td>\n",
       "      <td>5.0</td>\n",
       "    </tr>\n",
       "    <tr>\n",
       "      <th>Q121</th>\n",
       "      <td>32.720280</td>\n",
       "      <td>0.0</td>\n",
       "      <td>0.0</td>\n",
       "      <td>0.0</td>\n",
       "      <td>0.0</td>\n",
       "      <td>2020.0</td>\n",
       "      <td>2053.005828</td>\n",
       "      <td>50.434732</td>\n",
       "      <td>24.016317</td>\n",
       "      <td>12.617716</td>\n",
       "      <td>4.817016</td>\n",
       "      <td>4.986014</td>\n",
       "      <td>2.041958</td>\n",
       "      <td>1.074592</td>\n",
       "      <td>918.716783</td>\n",
       "      <td>3.0</td>\n",
       "      <td>5.0</td>\n",
       "    </tr>\n",
       "    <tr>\n",
       "      <th>Q122</th>\n",
       "      <td>36.937759</td>\n",
       "      <td>0.0</td>\n",
       "      <td>0.0</td>\n",
       "      <td>0.0</td>\n",
       "      <td>0.0</td>\n",
       "      <td>2020.0</td>\n",
       "      <td>2066.925311</td>\n",
       "      <td>52.182573</td>\n",
       "      <td>22.668050</td>\n",
       "      <td>11.713693</td>\n",
       "      <td>5.004149</td>\n",
       "      <td>4.705394</td>\n",
       "      <td>2.132780</td>\n",
       "      <td>1.597510</td>\n",
       "      <td>1524.937759</td>\n",
       "      <td>3.0</td>\n",
       "      <td>5.0</td>\n",
       "    </tr>\n",
       "  </tbody>\n",
       "</table>\n",
       "</div>"
      ],
      "text/plain": [
       "           LEVEL1ID  LEVEL2ID  LEVEL3ID  LEVEL4ID  LEVEL5ID  SURVEYR  \\\n",
       "BYCOND_2                                                               \n",
       "Q115      39.315436       0.0       0.0       0.0       0.0   2020.0   \n",
       "Q116      36.693878       0.0       0.0       0.0       0.0   2020.0   \n",
       "Q117      28.650000       0.0       0.0       0.0       0.0   2020.0   \n",
       "Q118      42.123077       0.0       0.0       0.0       0.0   2020.0   \n",
       "Q119      32.610054       0.0       0.0       0.0       0.0   2020.0   \n",
       "Q120      42.074627       0.0       0.0       0.0       0.0   2020.0   \n",
       "Q121      32.720280       0.0       0.0       0.0       0.0   2020.0   \n",
       "Q122      36.937759       0.0       0.0       0.0       0.0   2020.0   \n",
       "\n",
       "              DEMCODE    ANSWER1    ANSWER2    ANSWER3   ANSWER4   ANSWER5  \\\n",
       "BYCOND_2                                                                     \n",
       "Q115      2011.630872  52.449664  23.161074  12.248322  4.677852  4.080537   \n",
       "Q116      2014.500000  52.663265  21.418367  12.438776  5.408163  4.795918   \n",
       "Q117      2016.833333  50.500000  21.400000  13.183333  5.816667  5.900000   \n",
       "Q118      2019.500000  50.546154  22.376923  12.407692  5.507692  5.607692   \n",
       "Q119      2030.441576  44.754076  21.775815  13.879076  6.873641  8.498641   \n",
       "Q120      2041.500000  52.208955  23.335821  12.082090  4.694030  4.335821   \n",
       "Q121      2053.005828  50.434732  24.016317  12.617716  4.817016  4.986014   \n",
       "Q122      2066.925311  52.182573  22.668050  11.713693  5.004149  4.705394   \n",
       "\n",
       "           ANSWER6   ANSWER7     ANSCOUNT  INDICATORID  SUBINDICATORID  \n",
       "BYCOND_2                                                                \n",
       "Q115      1.778523  1.604027  2476.315436          3.0             5.0  \n",
       "Q116      1.693878  1.653061  3723.612245          3.0             5.0  \n",
       "Q117      1.583333  1.433333   219.183333          3.0             5.0  \n",
       "Q118      2.030769  1.530769  2852.015385          3.0             5.0  \n",
       "Q119      2.381793  1.831522   429.275815          3.0             5.0  \n",
       "Q120      1.880597  1.402985  2761.679104          3.0             5.0  \n",
       "Q121      2.041958  1.074592   918.716783          3.0             5.0  \n",
       "Q122      2.132780  1.597510  1524.937759          3.0             5.0  "
      ]
     },
     "execution_count": 415,
     "metadata": {},
     "output_type": "execute_result"
    }
   ],
   "source": [
    "df_emp_survey.query(\"QUESTION == 'Q26'\").groupby('BYCOND_2').mean()"
   ]
  },
  {
   "cell_type": "code",
   "execution_count": 410,
   "metadata": {},
   "outputs": [
    {
     "data": {
      "text/plain": [
       "Index(['LEVEL1ID', 'LEVEL2ID', 'LEVEL3ID', 'LEVEL4ID', 'LEVEL5ID', 'SURVEYR',\n",
       "       'BYCOND', 'DESCRIP_E', 'DEMCODE', 'QUESTION', 'TITLE_E', 'ANSWER1',\n",
       "       'ANSWER2', 'ANSWER3', 'ANSWER4', 'ANSWER5', 'ANSWER6', 'ANSWER7',\n",
       "       'MOST_POSITIVE_OR_LEAST_NEGATIVE', 'NEUTRAL_OR_MIDDLE_CATEGORY',\n",
       "       'MOST_NEGATIVE_OR_LEAST_POSITIVE', 'AGREE', 'SCORE5', 'SCORE100',\n",
       "       'ANSCOUNT', 'DEPT_E', 'INDICATORID', 'INDICATORENG', 'SUBINDICATORID',\n",
       "       'SUBINDICATORENG', 'BYCOND_1', 'BYCOND_2'],\n",
       "      dtype='object')"
      ]
     },
     "execution_count": 410,
     "metadata": {},
     "output_type": "execute_result"
    }
   ],
   "source": [
    "df_emp_survey.columns"
   ]
  },
  {
   "cell_type": "code",
   "execution_count": null,
   "metadata": {},
   "outputs": [],
   "source": [
    "# two questions from each\n"
   ]
  }
 ],
 "metadata": {
  "interpreter": {
   "hash": "6eda6fb5a0561fecad9969001ba4c4a40f8a78a7843f9ca325ebd5e7870dfe74"
  },
  "kernelspec": {
   "display_name": "Python 3",
   "language": "python",
   "name": "python3"
  },
  "language_info": {
   "codemirror_mode": {
    "name": "ipython",
    "version": 3
   },
   "file_extension": ".py",
   "mimetype": "text/x-python",
   "name": "python",
   "nbconvert_exporter": "python",
   "pygments_lexer": "ipython3",
   "version": "3.8.8"
  }
 },
 "nbformat": 4,
 "nbformat_minor": 2
}

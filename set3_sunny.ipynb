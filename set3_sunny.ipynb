{
 "cells": [
  {
   "cell_type": "code",
   "execution_count": 20,
   "id": "1190a81b",
   "metadata": {},
   "outputs": [],
   "source": [
    "import pandas as pd\n",
    "import numpy as np\n",
    "import random "
   ]
  },
  {
   "cell_type": "code",
   "execution_count": 21,
   "id": "3e30c3e4",
   "metadata": {},
   "outputs": [
    {
     "data": {
      "text/plain": [
       "Index(['LEVEL1ID', 'LEVEL2ID', 'LEVEL3ID', 'LEVEL4ID', 'LEVEL5ID', 'SURVEYR',\n",
       "       'BYCOND', 'DESCRIP_E', 'DESCRIP_F', 'DEMCODE', 'QUESTION', 'TITLE_E',\n",
       "       'TITLE_F', 'ANSWER1', 'ANSWER2', 'ANSWER3', 'ANSWER4', 'ANSWER5',\n",
       "       'ANSWER6', 'ANSWER7', 'MOST_POSITIVE_OR_LEAST_NEGATIVE',\n",
       "       'NEUTRAL_OR_MIDDLE_CATEGORY', 'MOST_NEGATIVE_OR_LEAST_POSITIVE',\n",
       "       'AGREE', 'SCORE5', 'SCORE100', 'ANSCOUNT', 'DEPT_E', 'DEPT_F',\n",
       "       'INDICATORID', 'INDICATORENG', 'INDICATORFRA', 'SUBINDICATORID',\n",
       "       'SUBINDICATORENG', 'SUBINDICATORFRA'],\n",
       "      dtype='object')"
      ]
     },
     "execution_count": 21,
     "metadata": {},
     "output_type": "execute_result"
    }
   ],
   "source": [
    "set3 = pd.read_csv('subset-3-sous-ensemble-3.csv', encoding='ISO-8859-1')\n",
    "set3.columns"
   ]
  },
  {
   "cell_type": "markdown",
   "id": "1cabc21b",
   "metadata": {},
   "source": [
    "## Data Cleaning\n",
    "- Remove ***French*** columns for readibility for our group\n",
    "- Remove Questions' ***Indicator ID & sub Indicator ID*** columns\n",
    "- Remove ***\"Most Positive...\" \"Most Negative...\" and \"Neutral...\"*** columns\n",
    "- Remove ***level 2-5 id*** columns\n",
    "- Remove empty Answers 1-7 rows"
   ]
  },
  {
   "cell_type": "markdown",
   "id": "ed59c060",
   "metadata": {},
   "source": [
    "### Levels 2-5 ID are all 0"
   ]
  },
  {
   "cell_type": "code",
   "execution_count": 22,
   "id": "ab1cf7db",
   "metadata": {},
   "outputs": [
    {
     "name": "stdout",
     "output_type": "stream",
     "text": [
      "# rows where level 2-5 are not all empty:   0\n"
     ]
    },
    {
     "data": {
      "text/html": [
       "<div>\n",
       "<style scoped>\n",
       "    .dataframe tbody tr th:only-of-type {\n",
       "        vertical-align: middle;\n",
       "    }\n",
       "\n",
       "    .dataframe tbody tr th {\n",
       "        vertical-align: top;\n",
       "    }\n",
       "\n",
       "    .dataframe thead th {\n",
       "        text-align: right;\n",
       "    }\n",
       "</style>\n",
       "<table border=\"1\" class=\"dataframe\">\n",
       "  <thead>\n",
       "    <tr style=\"text-align: right;\">\n",
       "      <th></th>\n",
       "      <th>LEVEL2ID</th>\n",
       "      <th>LEVEL3ID</th>\n",
       "      <th>LEVEL4ID</th>\n",
       "      <th>LEVEL5ID</th>\n",
       "    </tr>\n",
       "  </thead>\n",
       "  <tbody>\n",
       "    <tr>\n",
       "      <th>0</th>\n",
       "      <td>0</td>\n",
       "      <td>0</td>\n",
       "      <td>0</td>\n",
       "      <td>0</td>\n",
       "    </tr>\n",
       "    <tr>\n",
       "      <th>1</th>\n",
       "      <td>0</td>\n",
       "      <td>0</td>\n",
       "      <td>0</td>\n",
       "      <td>0</td>\n",
       "    </tr>\n",
       "    <tr>\n",
       "      <th>2</th>\n",
       "      <td>0</td>\n",
       "      <td>0</td>\n",
       "      <td>0</td>\n",
       "      <td>0</td>\n",
       "    </tr>\n",
       "    <tr>\n",
       "      <th>3</th>\n",
       "      <td>0</td>\n",
       "      <td>0</td>\n",
       "      <td>0</td>\n",
       "      <td>0</td>\n",
       "    </tr>\n",
       "    <tr>\n",
       "      <th>4</th>\n",
       "      <td>0</td>\n",
       "      <td>0</td>\n",
       "      <td>0</td>\n",
       "      <td>0</td>\n",
       "    </tr>\n",
       "    <tr>\n",
       "      <th>...</th>\n",
       "      <td>...</td>\n",
       "      <td>...</td>\n",
       "      <td>...</td>\n",
       "      <td>...</td>\n",
       "    </tr>\n",
       "    <tr>\n",
       "      <th>1405574</th>\n",
       "      <td>0</td>\n",
       "      <td>0</td>\n",
       "      <td>0</td>\n",
       "      <td>0</td>\n",
       "    </tr>\n",
       "    <tr>\n",
       "      <th>1405575</th>\n",
       "      <td>0</td>\n",
       "      <td>0</td>\n",
       "      <td>0</td>\n",
       "      <td>0</td>\n",
       "    </tr>\n",
       "    <tr>\n",
       "      <th>1405576</th>\n",
       "      <td>0</td>\n",
       "      <td>0</td>\n",
       "      <td>0</td>\n",
       "      <td>0</td>\n",
       "    </tr>\n",
       "    <tr>\n",
       "      <th>1405577</th>\n",
       "      <td>0</td>\n",
       "      <td>0</td>\n",
       "      <td>0</td>\n",
       "      <td>0</td>\n",
       "    </tr>\n",
       "    <tr>\n",
       "      <th>1405578</th>\n",
       "      <td>0</td>\n",
       "      <td>0</td>\n",
       "      <td>0</td>\n",
       "      <td>0</td>\n",
       "    </tr>\n",
       "  </tbody>\n",
       "</table>\n",
       "<p>1405579 rows × 4 columns</p>\n",
       "</div>"
      ],
      "text/plain": [
       "         LEVEL2ID  LEVEL3ID  LEVEL4ID  LEVEL5ID\n",
       "0               0         0         0         0\n",
       "1               0         0         0         0\n",
       "2               0         0         0         0\n",
       "3               0         0         0         0\n",
       "4               0         0         0         0\n",
       "...           ...       ...       ...       ...\n",
       "1405574         0         0         0         0\n",
       "1405575         0         0         0         0\n",
       "1405576         0         0         0         0\n",
       "1405577         0         0         0         0\n",
       "1405578         0         0         0         0\n",
       "\n",
       "[1405579 rows x 4 columns]"
      ]
     },
     "execution_count": 22,
     "metadata": {},
     "output_type": "execute_result"
    }
   ],
   "source": [
    "all_levels = set3[['LEVEL2ID', 'LEVEL3ID','LEVEL4ID','LEVEL5ID']]\n",
    "non_zero_rows = len(all_levels[(all_levels != 0).all(axis=1)])\n",
    "print(f'# rows where level 2-5 are not all empty:   {non_zero_rows}')\n",
    "all_levels"
   ]
  },
  {
   "cell_type": "markdown",
   "id": "ecd107fa",
   "metadata": {},
   "source": [
    "- Remove French columns for readibility for our group\n",
    "- remove Questions' Indicator ID & sub Indicator ID columns\n",
    "- Get rid of level 2-5 id columns"
   ]
  },
  {
   "cell_type": "code",
   "execution_count": 25,
   "id": "f587cccc",
   "metadata": {},
   "outputs": [
    {
     "data": {
      "text/plain": [
       "Index(['LEVEL1ID', 'SURVEYR', 'BYCOND', 'DESCRIP_E', 'DEMCODE', 'QUESTION',\n",
       "       'TITLE_E', 'ANSWER1', 'ANSWER2', 'ANSWER3', 'ANSWER4', 'ANSWER5',\n",
       "       'ANSWER6', 'ANSWER7', 'AGREE', 'SCORE5', 'SCORE100', 'ANSCOUNT',\n",
       "       'DEPT_E', 'INDICATORENG', 'SUBINDICATORENG'],\n",
       "      dtype='object')"
      ]
     },
     "execution_count": 25,
     "metadata": {},
     "output_type": "execute_result"
    }
   ],
   "source": [
    "# print(set3[set3.LEVEL2ID!=0])\n",
    "# descrip = list(set3.DESCRIP_E.unique())\n",
    "set3 = set3.drop(columns=['LEVEL2ID', 'LEVEL3ID','LEVEL4ID','LEVEL5ID','DESCRIP_F','TITLE_F','DEPT_F', 'INDICATORFRA','SUBINDICATORFRA', 'INDICATORID', 'SUBINDICATORID', 'MOST_POSITIVE_OR_LEAST_NEGATIVE', 'NEUTRAL_OR_MIDDLE_CATEGORY', 'MOST_NEGATIVE_OR_LEAST_POSITIVE'])\n",
    "set3.columns"
   ]
  },
  {
   "cell_type": "markdown",
   "id": "38805ab3",
   "metadata": {},
   "source": [
    "## Delete rows that have no survey data (more than 50%) 1.4M -> 0.8M rows\n",
    "- Some departments don't have certain equity groups. That means 0 in ANSWER 1-7 for non-exist equity group. "
   ]
  },
  {
   "cell_type": "code",
   "execution_count": 49,
   "id": "49989211",
   "metadata": {},
   "outputs": [
    {
     "name": "stdout",
     "output_type": "stream",
     "text": [
      "# rows that has no ANSWER 1-7:   822456\n"
     ]
    },
    {
     "data": {
      "text/html": [
       "<div>\n",
       "<style scoped>\n",
       "    .dataframe tbody tr th:only-of-type {\n",
       "        vertical-align: middle;\n",
       "    }\n",
       "\n",
       "    .dataframe tbody tr th {\n",
       "        vertical-align: top;\n",
       "    }\n",
       "\n",
       "    .dataframe thead th {\n",
       "        text-align: right;\n",
       "    }\n",
       "</style>\n",
       "<table border=\"1\" class=\"dataframe\">\n",
       "  <thead>\n",
       "    <tr style=\"text-align: right;\">\n",
       "      <th></th>\n",
       "      <th>LEVEL1ID</th>\n",
       "      <th>SURVEYR</th>\n",
       "      <th>BYCOND</th>\n",
       "      <th>DESCRIP_E</th>\n",
       "      <th>DEMCODE</th>\n",
       "      <th>QUESTION</th>\n",
       "      <th>TITLE_E</th>\n",
       "      <th>ANSWER1</th>\n",
       "      <th>ANSWER2</th>\n",
       "      <th>ANSWER3</th>\n",
       "      <th>...</th>\n",
       "      <th>ANSWER5</th>\n",
       "      <th>ANSWER6</th>\n",
       "      <th>ANSWER7</th>\n",
       "      <th>AGREE</th>\n",
       "      <th>SCORE5</th>\n",
       "      <th>SCORE100</th>\n",
       "      <th>ANSCOUNT</th>\n",
       "      <th>DEPT_E</th>\n",
       "      <th>INDICATORENG</th>\n",
       "      <th>SUBINDICATORENG</th>\n",
       "    </tr>\n",
       "  </thead>\n",
       "  <tbody>\n",
       "    <tr>\n",
       "      <th>141</th>\n",
       "      <td>5</td>\n",
       "      <td>2020</td>\n",
       "      <td>Q115 = 3</td>\n",
       "      <td>Gender diverse</td>\n",
       "      <td>2013</td>\n",
       "      <td>Q01</td>\n",
       "      <td>Question 1. I have the tools, technology and e...</td>\n",
       "      <td></td>\n",
       "      <td></td>\n",
       "      <td></td>\n",
       "      <td>...</td>\n",
       "      <td></td>\n",
       "      <td></td>\n",
       "      <td></td>\n",
       "      <td></td>\n",
       "      <td></td>\n",
       "      <td></td>\n",
       "      <td></td>\n",
       "      <td>Fisheries and Oceans Canada</td>\n",
       "      <td>WORKPLACE</td>\n",
       "      <td>Physical environment and equipment</td>\n",
       "    </tr>\n",
       "    <tr>\n",
       "      <th>146</th>\n",
       "      <td>10</td>\n",
       "      <td>2020</td>\n",
       "      <td>Q115 = 3</td>\n",
       "      <td>Gender diverse</td>\n",
       "      <td>2013</td>\n",
       "      <td>Q01</td>\n",
       "      <td>Question 1. I have the tools, technology and e...</td>\n",
       "      <td></td>\n",
       "      <td></td>\n",
       "      <td></td>\n",
       "      <td>...</td>\n",
       "      <td></td>\n",
       "      <td></td>\n",
       "      <td></td>\n",
       "      <td></td>\n",
       "      <td></td>\n",
       "      <td></td>\n",
       "      <td></td>\n",
       "      <td>Innovation, Science and Economic Development C...</td>\n",
       "      <td>WORKPLACE</td>\n",
       "      <td>Physical environment and equipment</td>\n",
       "    </tr>\n",
       "    <tr>\n",
       "      <th>148</th>\n",
       "      <td>12</td>\n",
       "      <td>2020</td>\n",
       "      <td>Q115 = 3</td>\n",
       "      <td>Gender diverse</td>\n",
       "      <td>2013</td>\n",
       "      <td>Q01</td>\n",
       "      <td>Question 1. I have the tools, technology and e...</td>\n",
       "      <td></td>\n",
       "      <td></td>\n",
       "      <td></td>\n",
       "      <td>...</td>\n",
       "      <td></td>\n",
       "      <td></td>\n",
       "      <td></td>\n",
       "      <td></td>\n",
       "      <td></td>\n",
       "      <td></td>\n",
       "      <td></td>\n",
       "      <td>Transport Canada</td>\n",
       "      <td>WORKPLACE</td>\n",
       "      <td>Physical environment and equipment</td>\n",
       "    </tr>\n",
       "    <tr>\n",
       "      <th>150</th>\n",
       "      <td>14</td>\n",
       "      <td>2020</td>\n",
       "      <td>Q115 = 3</td>\n",
       "      <td>Gender diverse</td>\n",
       "      <td>2013</td>\n",
       "      <td>Q01</td>\n",
       "      <td>Question 1. I have the tools, technology and e...</td>\n",
       "      <td></td>\n",
       "      <td></td>\n",
       "      <td></td>\n",
       "      <td>...</td>\n",
       "      <td></td>\n",
       "      <td></td>\n",
       "      <td></td>\n",
       "      <td></td>\n",
       "      <td></td>\n",
       "      <td></td>\n",
       "      <td></td>\n",
       "      <td>Global Affairs Canada</td>\n",
       "      <td>WORKPLACE</td>\n",
       "      <td>Physical environment and equipment</td>\n",
       "    </tr>\n",
       "    <tr>\n",
       "      <th>151</th>\n",
       "      <td>15</td>\n",
       "      <td>2020</td>\n",
       "      <td>Q115 = 3</td>\n",
       "      <td>Gender diverse</td>\n",
       "      <td>2013</td>\n",
       "      <td>Q01</td>\n",
       "      <td>Question 1. I have the tools, technology and e...</td>\n",
       "      <td></td>\n",
       "      <td></td>\n",
       "      <td></td>\n",
       "      <td>...</td>\n",
       "      <td></td>\n",
       "      <td></td>\n",
       "      <td></td>\n",
       "      <td></td>\n",
       "      <td></td>\n",
       "      <td></td>\n",
       "      <td></td>\n",
       "      <td>Natural Resources Canada</td>\n",
       "      <td>WORKPLACE</td>\n",
       "      <td>Physical environment and equipment</td>\n",
       "    </tr>\n",
       "  </tbody>\n",
       "</table>\n",
       "<p>5 rows × 21 columns</p>\n",
       "</div>"
      ],
      "text/plain": [
       "     LEVEL1ID  SURVEYR    BYCOND       DESCRIP_E  DEMCODE QUESTION  \\\n",
       "141         5     2020  Q115 = 3  Gender diverse     2013      Q01   \n",
       "146        10     2020  Q115 = 3  Gender diverse     2013      Q01   \n",
       "148        12     2020  Q115 = 3  Gender diverse     2013      Q01   \n",
       "150        14     2020  Q115 = 3  Gender diverse     2013      Q01   \n",
       "151        15     2020  Q115 = 3  Gender diverse     2013      Q01   \n",
       "\n",
       "                                               TITLE_E ANSWER1 ANSWER2  \\\n",
       "141  Question 1. I have the tools, technology and e...                   \n",
       "146  Question 1. I have the tools, technology and e...                   \n",
       "148  Question 1. I have the tools, technology and e...                   \n",
       "150  Question 1. I have the tools, technology and e...                   \n",
       "151  Question 1. I have the tools, technology and e...                   \n",
       "\n",
       "    ANSWER3  ... ANSWER5 ANSWER6 ANSWER7 AGREE SCORE5 SCORE100 ANSCOUNT  \\\n",
       "141          ...                                                          \n",
       "146          ...                                                          \n",
       "148          ...                                                          \n",
       "150          ...                                                          \n",
       "151          ...                                                          \n",
       "\n",
       "                                                DEPT_E INDICATORENG  \\\n",
       "141                        Fisheries and Oceans Canada    WORKPLACE   \n",
       "146  Innovation, Science and Economic Development C...    WORKPLACE   \n",
       "148                                   Transport Canada    WORKPLACE   \n",
       "150                              Global Affairs Canada    WORKPLACE   \n",
       "151                           Natural Resources Canada    WORKPLACE   \n",
       "\n",
       "                        SUBINDICATORENG  \n",
       "141  Physical environment and equipment  \n",
       "146  Physical environment and equipment  \n",
       "148  Physical environment and equipment  \n",
       "150  Physical environment and equipment  \n",
       "151  Physical environment and equipment  \n",
       "\n",
       "[5 rows x 21 columns]"
      ]
     },
     "execution_count": 49,
     "metadata": {},
     "output_type": "execute_result"
    }
   ],
   "source": [
    "all_answers = set3[['ANSWER1', 'ANSWER2','ANSWER3','ANSWER4', 'ANSWER5', 'ANSWER6', 'ANSWER7']]\n",
    "answered_rows = all_answers[(all_answers != ' ').all(axis=1)]\n",
    "unAnswered_rows = all_answers[(all_answers == ' ').all(axis=1)]\n",
    "set3_cleaned = set3.iloc[answered_rows.index]\n",
    "print(f'# rows that has no ANSWER 1-7:   {len(unAnswered_rows)}')\n",
    "answered_rows\n",
    "set3.iloc[unAnswered_rows.index].head()\n",
    "# set3_2020.to_csv('subset3_2020_cleaned.csv')"
   ]
  },
  {
   "cell_type": "markdown",
   "id": "69f286bb",
   "metadata": {},
   "source": [
    "## Demographic Groups: \n",
    "- We have 59 demograohic groups\n",
    "- This include non selected groups: eg. \"Chinese\" vs. \"Chinese - Not selected\""
   ]
  },
  {
   "cell_type": "code",
   "execution_count": 39,
   "id": "ab705075",
   "metadata": {},
   "outputs": [
    {
     "name": "stdout",
     "output_type": "stream",
     "text": [
      "We have 59 demographic groups\n"
     ]
    },
    {
     "data": {
      "text/plain": [
       "['Male gender',\n",
       " 'Female gender',\n",
       " 'Gender diverse',\n",
       " 'Indigenous',\n",
       " 'Non-Indigenous',\n",
       " 'First Nation (North American Indian)',\n",
       " 'Métis',\n",
       " 'Inuk (Inuit)',\n",
       " 'Person with a disability',\n",
       " 'Not a person with a disability',\n",
       " 'A seeing disability affects vision, including total blindness, partial sight and visual distortion',\n",
       " 'A seeing disability affects vision, including total blindness, partial sight and visual distortion - Not selected',\n",
       " 'A hearing disability affects ability to hear, including being hard of hearing, deafness or acoustic distortion',\n",
       " 'A hearing disability affects ability to hear, including being hard of hearing, deafness or acoustic distortion - Not selected',\n",
       " 'A mobility issue affects ability to move your body, including the required use of a wheelchair or a cane, or other issues impacting your mobility',\n",
       " 'A mobility issue affects ability to move your body, including the required use of a wheelchair or a cane, or other issues impacting your mobility - Not selected',\n",
       " 'An issue with flexibility or dexterity affects ability to move joints or perform motor tasks, especially with your hands',\n",
       " 'An issue with flexibility or dexterity affects ability to move joints or perform motor tasks, especially with your hands - Not selected',\n",
       " 'A mental health issue affects psychology or behaviour, such as anxiety, depression or social / compulsive disorder or phobia or psychiatric illness',\n",
       " 'A mental health issue affects psychology or behaviour, such as anxiety, depression or social / compulsive disorder or phobia or psychiatric illness - Not selected',\n",
       " 'A sensory / environmental disability affects sensitivity to light, sounds or other distractions, as well as allergens and other environmental sensitivities',\n",
       " 'A sensory / environmental disability affects sensitivity to light, sounds or other distractions, as well as allergens and other environmental sensitivities - Not selected',\n",
       " \"A chronic health condition or pain affects ability to function on a regular or episodic basis due to migraines, Crohn's disease, colitis, and other disabilities or health conditions\",\n",
       " \"A chronic health condition or pain affects ability to function on a regular or episodic basis due to migraines, Crohn's disease, colitis, and other disabilities or health conditions - Not selected\",\n",
       " \"A cognitive disability affects ability to carry out tasks involving executive functioning, such as planning and organization, learning information, communication and memory, including autism or Asperger's syndrome, attention deficit disorder, and learning disabilities\",\n",
       " \"A cognitive disability affects ability to carry out tasks involving executive functioning, such as planning and organization, learning information, communication and memory, including autism or Asperger's syndrome, attention deficit disorder, and learning disabilities - Not selected\",\n",
       " 'An intellectual disability affects your ability to learn and to adapt behaviour to different situations',\n",
       " 'An intellectual disability affects your ability to learn and to adapt behaviour to different situations - Not selected',\n",
       " 'Other disability (including: learning disabilities, developmental disabilities and all other types of disabilities)',\n",
       " 'Other disability (including: learning disabilities, developmental disabilities and all other types of disabilities) - Not selected',\n",
       " 'Visible minority',\n",
       " 'Non-visible minority',\n",
       " 'Black',\n",
       " 'Black - Not selected',\n",
       " 'Chinese',\n",
       " 'Chinese - Not selected',\n",
       " 'Filipino',\n",
       " 'Filipino - Not selected',\n",
       " 'Japanese',\n",
       " 'Japanese - Not selected',\n",
       " 'Korean',\n",
       " 'Korean - Not selected',\n",
       " 'South Asian/East Indian (including: Indian from India; Bangladeshi; Pakistani; East Indian from Guyana, Trinidad, East Africa; etc.)',\n",
       " 'South Asian/East Indian (including: Indian from India; Bangladeshi; Pakistani; East Indian from Guyana, Trinidad, East Africa; etc.) - Not selected',\n",
       " 'Southeast Asian (including: Burmese; Cambodian; Laotian; Thai; Vietnamese; etc.)',\n",
       " 'Southeast Asian (including: Burmese; Cambodian; Laotian; Thai; Vietnamese; etc.) - Not selected',\n",
       " 'Non-White West Asian, North African or Arab (including: Egyptian; Libyan; Lebanese; Iranian; etc.)',\n",
       " 'Non-White West Asian, North African or Arab (including: Egyptian; Libyan; Lebanese; Iranian; etc.) - Not selected',\n",
       " 'Non-White Latin American (including: Indigenous persons from Central and South America, etc.)',\n",
       " 'Non-White Latin American (including: Indigenous persons from Central and South America, etc.) - Not selected',\n",
       " 'Person of mixed origin (with one parent in one of the visible minority groups)',\n",
       " 'Person of mixed origin (with one parent in one of the visible minority groups) - Not selected',\n",
       " 'Other visible minority group',\n",
       " 'Other visible minority group - Not selected',\n",
       " 'Heterosexual',\n",
       " 'Gay or lesbian',\n",
       " 'Bisexual',\n",
       " 'Another sexual orientation',\n",
       " 'Prefer not to answer']"
      ]
     },
     "execution_count": 39,
     "metadata": {},
     "output_type": "execute_result"
    }
   ],
   "source": [
    "# There are 59 equity groups\n",
    "print(f'We have {len(set3.DESCRIP_E.unique())} demographic groups')\n",
    "list(set3.DESCRIP_E.unique())"
   ]
  },
  {
   "cell_type": "markdown",
   "id": "95980b87",
   "metadata": {},
   "source": [
    "## Take year 2020 data\n",
    "- 2020 has 330k rows\n",
    "- 2019 has 176k rows\n",
    "- 2018 has 76k rows"
   ]
  },
  {
   "cell_type": "code",
   "execution_count": 46,
   "id": "31997c75",
   "metadata": {
    "scrolled": true
   },
   "outputs": [
    {
     "name": "stdout",
     "output_type": "stream",
     "text": [
      "[2020 2019 2018]\n",
      "2020: 330739 rows\n",
      "2019: 176361 rows\n",
      "2018: 76023 rows\n"
     ]
    }
   ],
   "source": [
    "# print(set3.columns)\n",
    "print(set3_cleaned.SURVEYR.unique())\n",
    "print(f'2020: {len(set3_cleaned[set3_cleaned.SURVEYR==2020])} rows')\n",
    "print(f'2019: {len(set3_cleaned[set3_cleaned.SURVEYR==2019])} rows')\n",
    "print(f'2018: {len(set3_cleaned[set3_cleaned.SURVEYR==2018])} rows')\n",
    "\n",
    "# have majority of data form 2020 so we focus on this year\n",
    "set3_2020 = set3_cleaned[set3_cleaned.SURVEYR==2020]"
   ]
  },
  {
   "cell_type": "markdown",
   "id": "5dbfd693",
   "metadata": {},
   "source": [
    "### number of equity groups in all 68 departments\n",
    "- min = 2 (some department only have male & female?)\n",
    "- max = 59 (all equity groups in the survey)"
   ]
  },
  {
   "cell_type": "code",
   "execution_count": 47,
   "id": "d87a2ec3",
   "metadata": {},
   "outputs": [
    {
     "name": "stdout",
     "output_type": "stream",
     "text": [
      "by # of equity groups surveyedin departments\n"
     ]
    },
    {
     "data": {
      "text/plain": [
       "count    68.000000\n",
       "mean     37.720588\n",
       "std      16.127149\n",
       "min       2.000000\n",
       "25%      25.000000\n",
       "50%      38.500000\n",
       "75%      53.000000\n",
       "max      59.000000\n",
       "dtype: float64"
      ]
     },
     "execution_count": 47,
     "metadata": {},
     "output_type": "execute_result"
    }
   ],
   "source": [
    "set3_2020['DEPT_E'].unique()\n",
    "print('by # of equity groups surveyedin departments')\n",
    "dept_equity = pd.Series(dtype=int)\n",
    "for dept in set3_2020['DEPT_E'].unique():\n",
    "    num_equity_groups = len(set3_2020[set3_2020['DEPT_E']==dept].DESCRIP_E.unique())\n",
    "    dept_equity[dept] = num_equity_groups\n",
    "dept_equity.describe()"
   ]
  },
  {
   "cell_type": "markdown",
   "id": "0135c6d5",
   "metadata": {},
   "source": [
    "### Look at the department that has only 2 equity groups\n",
    "- Looks like it's just female & male\n",
    "- We can't assume other things, but only the gender of surveyed people in that department\n",
    "- but how is that possible when \"Not Selected\" is also an attribute value   -_-|||\n",
    "- Gonna ignore the \"not selected\" groups"
   ]
  },
  {
   "cell_type": "code",
   "execution_count": 7,
   "id": "d814ee00",
   "metadata": {},
   "outputs": [
    {
     "name": "stdout",
     "output_type": "stream",
     "text": [
      "Canadian Security Intelligence Service\n"
     ]
    },
    {
     "data": {
      "text/plain": [
       "array(['Male gender', 'Female gender'], dtype=object)"
      ]
     },
     "execution_count": 7,
     "metadata": {},
     "output_type": "execute_result"
    }
   ],
   "source": [
    "dept_2 = dept_equity[dept_equity == 2].index[0]\n",
    "print(dept_2)\n",
    "set3_2020[set3_2020['DEPT_E']==dept_2]['DESCRIP_E'].unique()"
   ]
  },
  {
   "cell_type": "markdown",
   "id": "57181e7f",
   "metadata": {},
   "source": [
    "### Look at how many equity group has 'Not Selected'\n",
    "- Let's see if there's rows selected **\"... - Not selected\"**"
   ]
  },
  {
   "cell_type": "code",
   "execution_count": 8,
   "id": "a29c361f",
   "metadata": {
    "scrolled": false
   },
   "outputs": [
    {
     "name": "stdout",
     "output_type": "stream",
     "text": [
      "Not selected - 21\n",
      "Selected - 38\n",
      "\n",
      "Is there rows with '...- Not selected'? -- YES \n",
      "6276 rows with 'Chinese - Not selected'\n"
     ]
    },
    {
     "data": {
      "text/plain": [
       "['A seeing disability affects vision, including total blindness, partial sight and visual distortion - Not selected',\n",
       " 'A hearing disability affects ability to hear, including being hard of hearing, deafness or acoustic distortion - Not selected',\n",
       " 'A mobility issue affects ability to move your body, including the required use of a wheelchair or a cane, or other issues impacting your mobility - Not selected',\n",
       " 'An issue with flexibility or dexterity affects ability to move joints or perform motor tasks, especially with your hands - Not selected',\n",
       " 'A mental health issue affects psychology or behaviour, such as anxiety, depression or social / compulsive disorder or phobia or psychiatric illness - Not selected',\n",
       " 'A sensory / environmental disability affects sensitivity to light, sounds or other distractions, as well as allergens and other environmental sensitivities - Not selected',\n",
       " \"A chronic health condition or pain affects ability to function on a regular or episodic basis due to migraines, Crohn's disease, colitis, and other disabilities or health conditions - Not selected\",\n",
       " \"A cognitive disability affects ability to carry out tasks involving executive functioning, such as planning and organization, learning information, communication and memory, including autism or Asperger's syndrome, attention deficit disorder, and learning disabilities - Not selected\",\n",
       " 'An intellectual disability affects your ability to learn and to adapt behaviour to different situations - Not selected',\n",
       " 'Other disability (including: learning disabilities, developmental disabilities and all other types of disabilities) - Not selected',\n",
       " 'Black - Not selected',\n",
       " 'Chinese - Not selected',\n",
       " 'Filipino - Not selected',\n",
       " 'Japanese - Not selected',\n",
       " 'Korean - Not selected',\n",
       " 'South Asian/East Indian (including: Indian from India; Bangladeshi; Pakistani; East Indian from Guyana, Trinidad, East Africa; etc.) - Not selected',\n",
       " 'Southeast Asian (including: Burmese; Cambodian; Laotian; Thai; Vietnamese; etc.) - Not selected',\n",
       " 'Non-White West Asian, North African or Arab (including: Egyptian; Libyan; Lebanese; Iranian; etc.) - Not selected',\n",
       " 'Non-White Latin American (including: Indigenous persons from Central and South America, etc.) - Not selected',\n",
       " 'Person of mixed origin (with one parent in one of the visible minority groups) - Not selected',\n",
       " 'Other visible minority group - Not selected']"
      ]
     },
     "execution_count": 8,
     "metadata": {},
     "output_type": "execute_result"
    }
   ],
   "source": [
    "descrip = list(set3.DESCRIP_E.unique())\n",
    "selected = []\n",
    "not_selected = []\n",
    "for group in descrip:\n",
    "    if (\"Not selected\" in group):\n",
    "        not_selected.append(group)\n",
    "    else:\n",
    "        selected.append(group)\n",
    "        \n",
    "print(f'Not selected - {len(not_selected)}')\n",
    "print(f'Selected - {len(selected)}')\n",
    "print()\n",
    "num_not_Chinese = len(set3_2020[set3_2020['DESCRIP_E']=='Chinese - Not selected'])\n",
    "print(f\"Is there rows with '...- Not selected'? -- YES \\n{num_not_Chinese} rows with 'Chinese - Not selected'\", )\n",
    "not_selected\n"
   ]
  },
  {
   "cell_type": "code",
   "execution_count": 9,
   "id": "cbe7a684",
   "metadata": {},
   "outputs": [
    {
     "data": {
      "text/plain": [
       "['Male gender',\n",
       " 'Female gender',\n",
       " 'Gender diverse',\n",
       " 'Non-Indigenous',\n",
       " 'First Nation (North American Indian)',\n",
       " 'Métis',\n",
       " 'Inuk (Inuit)',\n",
       " 'Person with a disability',\n",
       " 'Not a person with a disability',\n",
       " 'Visible minority',\n",
       " 'Non-visible minority',\n",
       " 'Heterosexual',\n",
       " 'Gay or lesbian',\n",
       " 'Bisexual',\n",
       " 'Another sexual orientation',\n",
       " 'Prefer not to answer']"
      ]
     },
     "execution_count": 9,
     "metadata": {},
     "output_type": "execute_result"
    }
   ],
   "source": [
    "additional_selected = []\n",
    "for i in selected:\n",
    "    included = False\n",
    "    for j in not_selected:\n",
    "        if i in j:\n",
    "            included = True\n",
    "    if not included:\n",
    "        additional_selected.append(i)\n",
    "len(additional_selected)\n",
    "additional_selected"
   ]
  },
  {
   "cell_type": "code",
   "execution_count": 10,
   "id": "d200e3dc",
   "metadata": {},
   "outputs": [],
   "source": [
    "group_compare = set3_2020.drop(by=['MOST_NEGATIVE_OR_LEAST_POSITIVE', 'MOST_POSITIVE_OR_LEAST_NEGATIVE', 'NEUTRAL_OR_MIDDLE_CATEGORY'])"
   ]
  },
  {
   "cell_type": "code",
   "execution_count": 26,
   "id": "0e8c7141",
   "metadata": {},
   "outputs": [
    {
     "name": "stdout",
     "output_type": "stream",
     "text": [
      "Index(['LEVEL1ID', 'SURVEYR', 'BYCOND', 'DESCRIP_E', 'DEMCODE', 'QUESTION',\n",
      "       'TITLE_E', 'ANSWER1', 'ANSWER2', 'ANSWER3', 'ANSWER4', 'ANSWER5',\n",
      "       'ANSWER6', 'ANSWER7', 'MOST_POSITIVE_OR_LEAST_NEGATIVE',\n",
      "       'NEUTRAL_OR_MIDDLE_CATEGORY', 'MOST_NEGATIVE_OR_LEAST_POSITIVE',\n",
      "       'AGREE', 'SCORE5', 'SCORE100', 'ANSCOUNT', 'DEPT_E', 'INDICATORID',\n",
      "       'INDICATORENG', 'SUBINDICATORID', 'SUBINDICATORENG'],\n",
      "      dtype='object')\n"
     ]
    },
    {
     "data": {
      "text/html": [
       "<div>\n",
       "<style scoped>\n",
       "    .dataframe tbody tr th:only-of-type {\n",
       "        vertical-align: middle;\n",
       "    }\n",
       "\n",
       "    .dataframe tbody tr th {\n",
       "        vertical-align: top;\n",
       "    }\n",
       "\n",
       "    .dataframe thead th {\n",
       "        text-align: right;\n",
       "    }\n",
       "</style>\n",
       "<table border=\"1\" class=\"dataframe\">\n",
       "  <thead>\n",
       "    <tr style=\"text-align: right;\">\n",
       "      <th></th>\n",
       "      <th>QUESTION</th>\n",
       "      <th>TITLE_E</th>\n",
       "      <th>INDICATORENG</th>\n",
       "      <th>SUBINDICATORENG</th>\n",
       "    </tr>\n",
       "  </thead>\n",
       "  <tbody>\n",
       "    <tr>\n",
       "      <th>141299</th>\n",
       "      <td>Q26</td>\n",
       "      <td>Question 26. I feel that my immediate supervis...</td>\n",
       "      <td>WORKFORCE</td>\n",
       "      <td>Job fit and development</td>\n",
       "    </tr>\n",
       "  </tbody>\n",
       "</table>\n",
       "</div>"
      ],
      "text/plain": [
       "       QUESTION                                            TITLE_E  \\\n",
       "141299      Q26  Question 26. I feel that my immediate supervis...   \n",
       "\n",
       "       INDICATORENG          SUBINDICATORENG  \n",
       "141299    WORKFORCE  Job fit and development  "
      ]
     },
     "execution_count": 26,
     "metadata": {},
     "output_type": "execute_result"
    }
   ],
   "source": [
    "print(set3.columns)\n",
    "\n",
    "question_groups = set3_2020[['QUESTION', 'TITLE_E','INDICATORENG','SUBINDICATORENG']].drop_duplicates()\n",
    "question_groups[question_groups['QUESTION']=='Q26']"
   ]
  },
  {
   "cell_type": "code",
   "execution_count": null,
   "id": "85c34bd7",
   "metadata": {},
   "outputs": [],
   "source": []
  }
 ],
 "metadata": {
  "kernelspec": {
   "display_name": "Python 3",
   "language": "python",
   "name": "python3"
  },
  "language_info": {
   "codemirror_mode": {
    "name": "ipython",
    "version": 3
   },
   "file_extension": ".py",
   "mimetype": "text/x-python",
   "name": "python",
   "nbconvert_exporter": "python",
   "pygments_lexer": "ipython3",
   "version": "3.8.8"
  }
 },
 "nbformat": 4,
 "nbformat_minor": 5
}

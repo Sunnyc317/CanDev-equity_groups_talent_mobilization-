{
 "cells": [
  {
   "cell_type": "markdown",
   "metadata": {},
   "source": [
    "## IMPORTS"
   ]
  },
  {
   "cell_type": "code",
   "execution_count": 14,
   "metadata": {},
   "outputs": [],
   "source": [
    "import pandas as pd\n",
    "import numpy as np\n",
    "import matplotlib.pyplot as plt\n",
    "import seaborn as sns\n",
    "import plotly.express as px\n",
    "import re"
   ]
  },
  {
   "cell_type": "code",
   "execution_count": 15,
   "metadata": {},
   "outputs": [],
   "source": [
    "plt.rcParams[\"figure.figsize\"] = (20,15)"
   ]
  },
  {
   "cell_type": "markdown",
   "metadata": {},
   "source": [
    "## DATA ANALYSIS"
   ]
  },
  {
   "cell_type": "code",
   "execution_count": 16,
   "metadata": {},
   "outputs": [
    {
     "data": {
      "text/html": [
       "<div>\n",
       "<style scoped>\n",
       "    .dataframe tbody tr th:only-of-type {\n",
       "        vertical-align: middle;\n",
       "    }\n",
       "\n",
       "    .dataframe tbody tr th {\n",
       "        vertical-align: top;\n",
       "    }\n",
       "\n",
       "    .dataframe thead th {\n",
       "        text-align: right;\n",
       "    }\n",
       "</style>\n",
       "<table border=\"1\" class=\"dataframe\">\n",
       "  <thead>\n",
       "    <tr style=\"text-align: right;\">\n",
       "      <th></th>\n",
       "      <th>LEVEL1ID</th>\n",
       "      <th>LEVEL2ID</th>\n",
       "      <th>LEVEL3ID</th>\n",
       "      <th>LEVEL4ID</th>\n",
       "      <th>LEVEL5ID</th>\n",
       "      <th>SURVEYR</th>\n",
       "      <th>BYCOND</th>\n",
       "      <th>DESCRIP_E</th>\n",
       "      <th>DESCRIP_F</th>\n",
       "      <th>DEMCODE</th>\n",
       "      <th>...</th>\n",
       "      <th>SCORE100</th>\n",
       "      <th>ANSCOUNT</th>\n",
       "      <th>DEPT_E</th>\n",
       "      <th>DEPT_F</th>\n",
       "      <th>INDICATORID</th>\n",
       "      <th>INDICATORENG</th>\n",
       "      <th>INDICATORFRA</th>\n",
       "      <th>SUBINDICATORID</th>\n",
       "      <th>SUBINDICATORENG</th>\n",
       "      <th>SUBINDICATORFRA</th>\n",
       "    </tr>\n",
       "  </thead>\n",
       "  <tbody>\n",
       "    <tr>\n",
       "      <th>0</th>\n",
       "      <td>0</td>\n",
       "      <td>0</td>\n",
       "      <td>0</td>\n",
       "      <td>0</td>\n",
       "      <td>0</td>\n",
       "      <td>2020</td>\n",
       "      <td>Q115 = 1</td>\n",
       "      <td>Male gender</td>\n",
       "      <td>Genre masculin</td>\n",
       "      <td>2011</td>\n",
       "      <td>...</td>\n",
       "      <td>75</td>\n",
       "      <td>73497</td>\n",
       "      <td>Public Service</td>\n",
       "      <td>Fonction publique</td>\n",
       "      <td>4</td>\n",
       "      <td>WORKPLACE</td>\n",
       "      <td>MILIEU DE TRAVAIL</td>\n",
       "      <td>14</td>\n",
       "      <td>Physical environment and equipment</td>\n",
       "      <td>Environnement physique et équipement</td>\n",
       "    </tr>\n",
       "    <tr>\n",
       "      <th>1</th>\n",
       "      <td>1</td>\n",
       "      <td>0</td>\n",
       "      <td>0</td>\n",
       "      <td>0</td>\n",
       "      <td>0</td>\n",
       "      <td>2020</td>\n",
       "      <td>Q115 = 1</td>\n",
       "      <td>Male gender</td>\n",
       "      <td>Genre masculin</td>\n",
       "      <td>2011</td>\n",
       "      <td>...</td>\n",
       "      <td>79</td>\n",
       "      <td>11550</td>\n",
       "      <td>Canada Revenue Agency</td>\n",
       "      <td>Agence du revenu du Canada</td>\n",
       "      <td>4</td>\n",
       "      <td>WORKPLACE</td>\n",
       "      <td>MILIEU DE TRAVAIL</td>\n",
       "      <td>14</td>\n",
       "      <td>Physical environment and equipment</td>\n",
       "      <td>Environnement physique et équipement</td>\n",
       "    </tr>\n",
       "    <tr>\n",
       "      <th>2</th>\n",
       "      <td>2</td>\n",
       "      <td>0</td>\n",
       "      <td>0</td>\n",
       "      <td>0</td>\n",
       "      <td>0</td>\n",
       "      <td>2020</td>\n",
       "      <td>Q115 = 1</td>\n",
       "      <td>Male gender</td>\n",
       "      <td>Genre masculin</td>\n",
       "      <td>2011</td>\n",
       "      <td>...</td>\n",
       "      <td>80</td>\n",
       "      <td>5626</td>\n",
       "      <td>Employment and Social Development Canada</td>\n",
       "      <td>Emploi et Développement social Canada</td>\n",
       "      <td>4</td>\n",
       "      <td>WORKPLACE</td>\n",
       "      <td>MILIEU DE TRAVAIL</td>\n",
       "      <td>14</td>\n",
       "      <td>Physical environment and equipment</td>\n",
       "      <td>Environnement physique et équipement</td>\n",
       "    </tr>\n",
       "    <tr>\n",
       "      <th>3</th>\n",
       "      <td>3</td>\n",
       "      <td>0</td>\n",
       "      <td>0</td>\n",
       "      <td>0</td>\n",
       "      <td>0</td>\n",
       "      <td>2020</td>\n",
       "      <td>Q115 = 1</td>\n",
       "      <td>Male gender</td>\n",
       "      <td>Genre masculin</td>\n",
       "      <td>2011</td>\n",
       "      <td>...</td>\n",
       "      <td>72</td>\n",
       "      <td>7308</td>\n",
       "      <td>Department of National Defence</td>\n",
       "      <td>Ministère de la Défense nationale</td>\n",
       "      <td>4</td>\n",
       "      <td>WORKPLACE</td>\n",
       "      <td>MILIEU DE TRAVAIL</td>\n",
       "      <td>14</td>\n",
       "      <td>Physical environment and equipment</td>\n",
       "      <td>Environnement physique et équipement</td>\n",
       "    </tr>\n",
       "    <tr>\n",
       "      <th>4</th>\n",
       "      <td>4</td>\n",
       "      <td>0</td>\n",
       "      <td>0</td>\n",
       "      <td>0</td>\n",
       "      <td>0</td>\n",
       "      <td>2020</td>\n",
       "      <td>Q115 = 1</td>\n",
       "      <td>Male gender</td>\n",
       "      <td>Genre masculin</td>\n",
       "      <td>2011</td>\n",
       "      <td>...</td>\n",
       "      <td>64</td>\n",
       "      <td>3252</td>\n",
       "      <td>Correctional Service Canada</td>\n",
       "      <td>Service correctionnel Canada</td>\n",
       "      <td>4</td>\n",
       "      <td>WORKPLACE</td>\n",
       "      <td>MILIEU DE TRAVAIL</td>\n",
       "      <td>14</td>\n",
       "      <td>Physical environment and equipment</td>\n",
       "      <td>Environnement physique et équipement</td>\n",
       "    </tr>\n",
       "  </tbody>\n",
       "</table>\n",
       "<p>5 rows × 35 columns</p>\n",
       "</div>"
      ],
      "text/plain": [
       "   LEVEL1ID  LEVEL2ID  LEVEL3ID  LEVEL4ID  LEVEL5ID  SURVEYR    BYCOND  \\\n",
       "0         0         0         0         0         0     2020  Q115 = 1   \n",
       "1         1         0         0         0         0     2020  Q115 = 1   \n",
       "2         2         0         0         0         0     2020  Q115 = 1   \n",
       "3         3         0         0         0         0     2020  Q115 = 1   \n",
       "4         4         0         0         0         0     2020  Q115 = 1   \n",
       "\n",
       "     DESCRIP_E       DESCRIP_F  DEMCODE  ... SCORE100 ANSCOUNT  \\\n",
       "0  Male gender  Genre masculin     2011  ...       75    73497   \n",
       "1  Male gender  Genre masculin     2011  ...       79    11550   \n",
       "2  Male gender  Genre masculin     2011  ...       80     5626   \n",
       "3  Male gender  Genre masculin     2011  ...       72     7308   \n",
       "4  Male gender  Genre masculin     2011  ...       64     3252   \n",
       "\n",
       "                                     DEPT_E  \\\n",
       "0                            Public Service   \n",
       "1                     Canada Revenue Agency   \n",
       "2  Employment and Social Development Canada   \n",
       "3            Department of National Defence   \n",
       "4               Correctional Service Canada   \n",
       "\n",
       "                                  DEPT_F INDICATORID INDICATORENG  \\\n",
       "0                      Fonction publique           4    WORKPLACE   \n",
       "1             Agence du revenu du Canada           4    WORKPLACE   \n",
       "2  Emploi et Développement social Canada           4    WORKPLACE   \n",
       "3      Ministère de la Défense nationale           4    WORKPLACE   \n",
       "4           Service correctionnel Canada           4    WORKPLACE   \n",
       "\n",
       "        INDICATORFRA SUBINDICATORID                     SUBINDICATORENG  \\\n",
       "0  MILIEU DE TRAVAIL             14  Physical environment and equipment   \n",
       "1  MILIEU DE TRAVAIL             14  Physical environment and equipment   \n",
       "2  MILIEU DE TRAVAIL             14  Physical environment and equipment   \n",
       "3  MILIEU DE TRAVAIL             14  Physical environment and equipment   \n",
       "4  MILIEU DE TRAVAIL             14  Physical environment and equipment   \n",
       "\n",
       "                        SUBINDICATORFRA  \n",
       "0  Environnement physique et équipement  \n",
       "1  Environnement physique et équipement  \n",
       "2  Environnement physique et équipement  \n",
       "3  Environnement physique et équipement  \n",
       "4  Environnement physique et équipement  \n",
       "\n",
       "[5 rows x 35 columns]"
      ]
     },
     "execution_count": 16,
     "metadata": {},
     "output_type": "execute_result"
    }
   ],
   "source": [
    "# Employee subery subset-3\n",
    "df_emp_survey = pd.read_csv('subset-3-sous-ensemble-3.csv', encoding='ISO-8859-1')\n",
    "\n",
    "# responses data from dicionary file responses\n",
    "df_responses = pd.read_excel('2020-pses-supporting-documentation_document-de-reference-du-saff-2020.xlsx', sheet_name='RESPONSE OPTIONS DE RÉPONSES')\n",
    "\n",
    "df_emp_survey.head()"
   ]
  },
  {
   "cell_type": "markdown",
   "metadata": {},
   "source": [
    "### DATA CLEANING"
   ]
  },
  {
   "cell_type": "code",
   "execution_count": 17,
   "metadata": {},
   "outputs": [
    {
     "data": {
      "text/plain": [
       "(30, 35)"
      ]
     },
     "execution_count": 17,
     "metadata": {},
     "output_type": "execute_result"
    }
   ],
   "source": [
    "# look at only english columns as french as 'duplicates' of english \n",
    "english_columns = [c for c in df_emp_survey.columns if '_F' not in c and c[-3:] != 'FRA']\n",
    "\n",
    "len(english_columns), len(df_emp_survey.columns) # there are five columns in french, which are not needed"
   ]
  },
  {
   "cell_type": "code",
   "execution_count": 18,
   "metadata": {},
   "outputs": [],
   "source": [
    "df_emp_survey = df_emp_survey[english_columns] # only use english columns"
   ]
  },
  {
   "cell_type": "code",
   "execution_count": 19,
   "metadata": {},
   "outputs": [
    {
     "name": "stdout",
     "output_type": "stream",
     "text": [
      "LEVEL1ID :  68\n",
      "LEVEL2ID :  1\n",
      "LEVEL3ID :  1\n",
      "LEVEL4ID :  1\n",
      "LEVEL5ID :  1\n",
      "SURVEYR :  3\n",
      "BYCOND :  59\n",
      "DESCRIP_E :  59\n",
      "DEMCODE :  59\n",
      "QUESTION :  216\n",
      "TITLE_E :  216\n",
      "ANSWER1 :  102\n",
      "ANSWER2 :  102\n",
      "ANSWER3 :  88\n",
      "ANSWER4 :  72\n",
      "ANSWER5 :  83\n",
      "ANSWER6 :  75\n",
      "ANSWER7 :  66\n",
      "MOST_POSITIVE_OR_LEAST_NEGATIVE :  103\n",
      "NEUTRAL_OR_MIDDLE_CATEGORY :  87\n",
      "MOST_NEGATIVE_OR_LEAST_POSITIVE :  99\n",
      "AGREE :  103\n",
      "SCORE5 :  367\n",
      "SCORE100 :  98\n",
      "ANSCOUNT :  15719\n",
      "DEPT_E :  68\n",
      "INDICATORID :  6\n",
      "INDICATORENG :  6\n",
      "SUBINDICATORID :  23\n",
      "SUBINDICATORENG :  23\n"
     ]
    }
   ],
   "source": [
    "# get unique values for each columns\n",
    "uniq_cols = []\n",
    "for c in df_emp_survey.columns:\n",
    "    print(c, \": \", len(df_emp_survey[c].unique()))\n",
    "    if len(df_emp_survey[c].unique()) > 1:\n",
    "        uniq_cols.append(c)"
   ]
  },
  {
   "cell_type": "markdown",
   "metadata": {},
   "source": [
    "### Levels 2-5 ID are all 0"
   ]
  },
  {
   "cell_type": "code",
   "execution_count": 20,
   "metadata": {},
   "outputs": [
    {
     "name": "stdout",
     "output_type": "stream",
     "text": [
      "# rows where level 2-5 are not all empty:   0\n"
     ]
    },
    {
     "data": {
      "text/html": [
       "<div>\n",
       "<style scoped>\n",
       "    .dataframe tbody tr th:only-of-type {\n",
       "        vertical-align: middle;\n",
       "    }\n",
       "\n",
       "    .dataframe tbody tr th {\n",
       "        vertical-align: top;\n",
       "    }\n",
       "\n",
       "    .dataframe thead th {\n",
       "        text-align: right;\n",
       "    }\n",
       "</style>\n",
       "<table border=\"1\" class=\"dataframe\">\n",
       "  <thead>\n",
       "    <tr style=\"text-align: right;\">\n",
       "      <th></th>\n",
       "      <th>LEVEL2ID</th>\n",
       "      <th>LEVEL3ID</th>\n",
       "      <th>LEVEL4ID</th>\n",
       "      <th>LEVEL5ID</th>\n",
       "    </tr>\n",
       "  </thead>\n",
       "  <tbody>\n",
       "    <tr>\n",
       "      <th>0</th>\n",
       "      <td>0</td>\n",
       "      <td>0</td>\n",
       "      <td>0</td>\n",
       "      <td>0</td>\n",
       "    </tr>\n",
       "    <tr>\n",
       "      <th>1</th>\n",
       "      <td>0</td>\n",
       "      <td>0</td>\n",
       "      <td>0</td>\n",
       "      <td>0</td>\n",
       "    </tr>\n",
       "    <tr>\n",
       "      <th>2</th>\n",
       "      <td>0</td>\n",
       "      <td>0</td>\n",
       "      <td>0</td>\n",
       "      <td>0</td>\n",
       "    </tr>\n",
       "    <tr>\n",
       "      <th>3</th>\n",
       "      <td>0</td>\n",
       "      <td>0</td>\n",
       "      <td>0</td>\n",
       "      <td>0</td>\n",
       "    </tr>\n",
       "    <tr>\n",
       "      <th>4</th>\n",
       "      <td>0</td>\n",
       "      <td>0</td>\n",
       "      <td>0</td>\n",
       "      <td>0</td>\n",
       "    </tr>\n",
       "    <tr>\n",
       "      <th>...</th>\n",
       "      <td>...</td>\n",
       "      <td>...</td>\n",
       "      <td>...</td>\n",
       "      <td>...</td>\n",
       "    </tr>\n",
       "    <tr>\n",
       "      <th>1405574</th>\n",
       "      <td>0</td>\n",
       "      <td>0</td>\n",
       "      <td>0</td>\n",
       "      <td>0</td>\n",
       "    </tr>\n",
       "    <tr>\n",
       "      <th>1405575</th>\n",
       "      <td>0</td>\n",
       "      <td>0</td>\n",
       "      <td>0</td>\n",
       "      <td>0</td>\n",
       "    </tr>\n",
       "    <tr>\n",
       "      <th>1405576</th>\n",
       "      <td>0</td>\n",
       "      <td>0</td>\n",
       "      <td>0</td>\n",
       "      <td>0</td>\n",
       "    </tr>\n",
       "    <tr>\n",
       "      <th>1405577</th>\n",
       "      <td>0</td>\n",
       "      <td>0</td>\n",
       "      <td>0</td>\n",
       "      <td>0</td>\n",
       "    </tr>\n",
       "    <tr>\n",
       "      <th>1405578</th>\n",
       "      <td>0</td>\n",
       "      <td>0</td>\n",
       "      <td>0</td>\n",
       "      <td>0</td>\n",
       "    </tr>\n",
       "  </tbody>\n",
       "</table>\n",
       "<p>1405579 rows × 4 columns</p>\n",
       "</div>"
      ],
      "text/plain": [
       "         LEVEL2ID  LEVEL3ID  LEVEL4ID  LEVEL5ID\n",
       "0               0         0         0         0\n",
       "1               0         0         0         0\n",
       "2               0         0         0         0\n",
       "3               0         0         0         0\n",
       "4               0         0         0         0\n",
       "...           ...       ...       ...       ...\n",
       "1405574         0         0         0         0\n",
       "1405575         0         0         0         0\n",
       "1405576         0         0         0         0\n",
       "1405577         0         0         0         0\n",
       "1405578         0         0         0         0\n",
       "\n",
       "[1405579 rows x 4 columns]"
      ]
     },
     "execution_count": 20,
     "metadata": {},
     "output_type": "execute_result"
    }
   ],
   "source": [
    "all_levels = df_emp_survey[['LEVEL2ID', 'LEVEL3ID','LEVEL4ID','LEVEL5ID']]\n",
    "non_zero_rows = len(all_levels[(all_levels != 0).all(axis=1)])\n",
    "print(f'# rows where level 2-5 are not all empty:   {non_zero_rows}')\n",
    "all_levels"
   ]
  },
  {
   "cell_type": "code",
   "execution_count": 21,
   "metadata": {},
   "outputs": [],
   "source": [
    "# only keep columns which don't have static value across all rows\n",
    "df_emp_survey = df_emp_survey[uniq_cols]"
   ]
  },
  {
   "cell_type": "markdown",
   "metadata": {},
   "source": [
    "## Delete rows that have no survey data (more than 50%) 1.4M -> 0.8M rows\n",
    "- Some departments don't have certain equity groups. That means 0 in ANSWER 1-7 for non-exist equity group. "
   ]
  },
  {
   "cell_type": "code",
   "execution_count": 22,
   "metadata": {},
   "outputs": [
    {
     "name": "stdout",
     "output_type": "stream",
     "text": [
      "# rows that has no ANSWER 1-7:   822456\n"
     ]
    }
   ],
   "source": [
    "all_answers = df_emp_survey[['ANSWER1', 'ANSWER2','ANSWER3','ANSWER4', 'ANSWER5', 'ANSWER6', 'ANSWER7']]\n",
    "answered_rows = all_answers[(all_answers != ' ').all(axis=1)]\n",
    "unAnswered_rows = all_answers[(all_answers == ' ').all(axis=1)]\n",
    "set3_cleaned = df_emp_survey.iloc[answered_rows.index]\n",
    "print(f'# rows that has no ANSWER 1-7:   {len(unAnswered_rows)}')\n",
    "answered_rows\n",
    "df_emp_survey.iloc[unAnswered_rows.index].head()\n",
    "\n",
    "# remove empty records\n",
    "df_emp_survey = df_emp_survey.query(\"ANSCOUNT != ' '\")"
   ]
  },
  {
   "cell_type": "markdown",
   "metadata": {},
   "source": [
    "### Conver Numeric type columns to int"
   ]
  },
  {
   "cell_type": "code",
   "execution_count": 27,
   "metadata": {},
   "outputs": [],
   "source": [
    "for i in ['ANSWER1','ANSWER2','ANSWER3','ANSWER4','ANSWER5','ANSWER6','ANSWER7', 'ANSCOUNT','MOST_POSITIVE_OR_LEAST_NEGATIVE','NEUTRAL_OR_MIDDLE_CATEGORY','MOST_NEGATIVE_OR_LEAST_POSITIVE']:\n",
    "    df_emp_survey[i] = df_emp_survey[i].astype(int)"
   ]
  },
  {
   "cell_type": "code",
   "execution_count": 28,
   "metadata": {},
   "outputs": [
    {
     "data": {
      "text/plain": [
       "0          100\n",
       "1          101\n",
       "2          100\n",
       "3           99\n",
       "4           98\n",
       "          ... \n",
       "1405574    101\n",
       "1405575    100\n",
       "1405576    101\n",
       "1405577    100\n",
       "1405578     99\n",
       "Length: 583123, dtype: int32"
      ]
     },
     "execution_count": 28,
     "metadata": {},
     "output_type": "execute_result"
    }
   ],
   "source": [
    "# Some of these percenatages are off, by very little\n",
    "df_emp_survey.eval('ANSWER1 + ANSWER2 + ANSWER3 + ANSWER4 + ANSWER5 + ANSWER6 + ANSWER7')"
   ]
  },
  {
   "cell_type": "markdown",
   "metadata": {},
   "source": [
    "## Demographic Groups: \n",
    "- We have 59 demograohic groups\n",
    "- This include non selected groups: eg. \"Chinese\" vs. \"Chinese - Not selected\""
   ]
  },
  {
   "cell_type": "code",
   "execution_count": 23,
   "metadata": {},
   "outputs": [
    {
     "name": "stdout",
     "output_type": "stream",
     "text": [
      "We have 59 demographic groups\n"
     ]
    },
    {
     "data": {
      "text/plain": [
       "['Male gender',\n",
       " 'Female gender',\n",
       " 'Gender diverse',\n",
       " 'Indigenous',\n",
       " 'Non-Indigenous',\n",
       " 'First Nation (North American Indian)',\n",
       " 'Métis',\n",
       " 'Inuk (Inuit)',\n",
       " 'Person with a disability',\n",
       " 'Not a person with a disability',\n",
       " 'A seeing disability affects vision, including total blindness, partial sight and visual distortion',\n",
       " 'A seeing disability affects vision, including total blindness, partial sight and visual distortion - Not selected',\n",
       " 'A hearing disability affects ability to hear, including being hard of hearing, deafness or acoustic distortion',\n",
       " 'A hearing disability affects ability to hear, including being hard of hearing, deafness or acoustic distortion - Not selected',\n",
       " 'A mobility issue affects ability to move your body, including the required use of a wheelchair or a cane, or other issues impacting your mobility',\n",
       " 'A mobility issue affects ability to move your body, including the required use of a wheelchair or a cane, or other issues impacting your mobility - Not selected',\n",
       " 'An issue with flexibility or dexterity affects ability to move joints or perform motor tasks, especially with your hands',\n",
       " 'An issue with flexibility or dexterity affects ability to move joints or perform motor tasks, especially with your hands - Not selected',\n",
       " 'A mental health issue affects psychology or behaviour, such as anxiety, depression or social / compulsive disorder or phobia or psychiatric illness',\n",
       " 'A mental health issue affects psychology or behaviour, such as anxiety, depression or social / compulsive disorder or phobia or psychiatric illness - Not selected',\n",
       " 'A sensory / environmental disability affects sensitivity to light, sounds or other distractions, as well as allergens and other environmental sensitivities',\n",
       " 'A sensory / environmental disability affects sensitivity to light, sounds or other distractions, as well as allergens and other environmental sensitivities - Not selected',\n",
       " \"A chronic health condition or pain affects ability to function on a regular or episodic basis due to migraines, Crohn's disease, colitis, and other disabilities or health conditions\",\n",
       " \"A chronic health condition or pain affects ability to function on a regular or episodic basis due to migraines, Crohn's disease, colitis, and other disabilities or health conditions - Not selected\",\n",
       " \"A cognitive disability affects ability to carry out tasks involving executive functioning, such as planning and organization, learning information, communication and memory, including autism or Asperger's syndrome, attention deficit disorder, and learning disabilities\",\n",
       " \"A cognitive disability affects ability to carry out tasks involving executive functioning, such as planning and organization, learning information, communication and memory, including autism or Asperger's syndrome, attention deficit disorder, and learning disabilities - Not selected\",\n",
       " 'An intellectual disability affects your ability to learn and to adapt behaviour to different situations',\n",
       " 'An intellectual disability affects your ability to learn and to adapt behaviour to different situations - Not selected',\n",
       " 'Other disability (including: learning disabilities, developmental disabilities and all other types of disabilities)',\n",
       " 'Other disability (including: learning disabilities, developmental disabilities and all other types of disabilities) - Not selected',\n",
       " 'Visible minority',\n",
       " 'Non-visible minority',\n",
       " 'Black',\n",
       " 'Black - Not selected',\n",
       " 'Chinese',\n",
       " 'Chinese - Not selected',\n",
       " 'Filipino',\n",
       " 'Filipino - Not selected',\n",
       " 'Japanese',\n",
       " 'Japanese - Not selected',\n",
       " 'Korean',\n",
       " 'Korean - Not selected',\n",
       " 'South Asian/East Indian (including: Indian from India; Bangladeshi; Pakistani; East Indian from Guyana, Trinidad, East Africa; etc.)',\n",
       " 'South Asian/East Indian (including: Indian from India; Bangladeshi; Pakistani; East Indian from Guyana, Trinidad, East Africa; etc.) - Not selected',\n",
       " 'Southeast Asian (including: Burmese; Cambodian; Laotian; Thai; Vietnamese; etc.)',\n",
       " 'Southeast Asian (including: Burmese; Cambodian; Laotian; Thai; Vietnamese; etc.) - Not selected',\n",
       " 'Non-White West Asian, North African or Arab (including: Egyptian; Libyan; Lebanese; Iranian; etc.)',\n",
       " 'Non-White West Asian, North African or Arab (including: Egyptian; Libyan; Lebanese; Iranian; etc.) - Not selected',\n",
       " 'Non-White Latin American (including: Indigenous persons from Central and South America, etc.)',\n",
       " 'Non-White Latin American (including: Indigenous persons from Central and South America, etc.) - Not selected',\n",
       " 'Person of mixed origin (with one parent in one of the visible minority groups)',\n",
       " 'Person of mixed origin (with one parent in one of the visible minority groups) - Not selected',\n",
       " 'Other visible minority group',\n",
       " 'Other visible minority group - Not selected',\n",
       " 'Heterosexual',\n",
       " 'Gay or lesbian',\n",
       " 'Bisexual',\n",
       " 'Another sexual orientation',\n",
       " 'Prefer not to answer']"
      ]
     },
     "execution_count": 23,
     "metadata": {},
     "output_type": "execute_result"
    }
   ],
   "source": [
    "# There are 59 equity groups\n",
    "print(f'We have {len(df_emp_survey.DESCRIP_E.unique())} demographic groups')\n",
    "list(df_emp_survey.DESCRIP_E.unique())"
   ]
  },
  {
   "cell_type": "code",
   "execution_count": 35,
   "metadata": {},
   "outputs": [],
   "source": [
    "# Try to group all demographic groups into more general categories\n",
    "\n",
    "df_emp_survey['BYCOND_1'] = df_emp_survey['BYCOND'].str.split(\"=\").str[0] # take left side of by cond column e.g (Q115=1) -> (Q115)\n",
    "\n",
    "df_emp_survey['BYCOND_2'] = df_emp_survey['BYCOND'].str.split(\"=\").str[0].str.extract('(Q[0-9]+)') # take only the demo code no letter e.g. (Q121a) -> (Q121)\n",
    "\n",
    "uniq_by_cond = df_emp_survey['BYCOND_1'].unique()\n",
    "uniq_by_cond_2 = df_emp_survey['BYCOND_2'].unique()"
   ]
  },
  {
   "cell_type": "code",
   "execution_count": 37,
   "metadata": {},
   "outputs": [],
   "source": [
    "ans_cols = ['ANSWER1','ANSWER2','ANSWER3','ANSWER4','ANSWER5','ANSWER6','ANSWER7']"
   ]
  },
  {
   "cell_type": "code",
   "execution_count": 36,
   "metadata": {},
   "outputs": [],
   "source": [
    "# COND_2 is more general than COND_1. democode -> (Q121A = 2) and cond_2 -> (Q121) this helps us group more categories\n",
    "dict_demograph_2 = {}\n",
    "for c in uniq_by_cond_2:\n",
    "    dict_demograph_2[c] = list(df_emp_survey.query(f\"BYCOND_2 == '{c}'\")['DESCRIP_E'].unique())"
   ]
  },
  {
   "cell_type": "markdown",
   "metadata": {},
   "source": [
    "## Columns added\n",
    "- GENERAL_DEMO_GROUP\n",
    "- SELECTED"
   ]
  },
  {
   "cell_type": "code",
   "execution_count": 38,
   "metadata": {},
   "outputs": [],
   "source": [
    "# added column 'GENERAL_DEMO_GROUP': The list below w.r.t. 'BYCOND2' \n",
    "general_demo = ['gender', 'indigenous', 'indigenous-specified', \n",
    "                'person with disability', 'person with disability-specified', \n",
    "                'visible minority', 'ethnicity', 'sexuality']\n",
    "\n",
    "general_demo_dict = {}\n",
    "index = 0\n",
    "for code in dict_demograph_2.keys():\n",
    "    general_demo_dict[code] = general_demo[index]\n",
    "    index+=1\n",
    "general_demo_list = [general_demo_dict[group] for group in df_emp_survey['BYCOND_2']]\n",
    "df_emp_survey['GENERAL_DEMO_GROUP'] = general_demo_list"
   ]
  },
  {
   "cell_type": "code",
   "execution_count": 42,
   "metadata": {},
   "outputs": [],
   "source": [
    "# added column 'SELECTED': True/False \n",
    "# eg. 'Chinese' is True, 'Chinese - Not selected' is False\n",
    "selected = ['selected' if 'Not selected' not in group else 'not selected' for group in df_emp_survey['DESCRIP_E']]\n",
    "df_emp_survey['SELECTED'] = selected"
   ]
  },
  {
   "cell_type": "markdown",
   "metadata": {},
   "source": [
    "## PROBLEM ANALYSIS & VISUALIZATION"
   ]
  },
  {
   "cell_type": "markdown",
   "metadata": {},
   "source": [
    "To narrow down the list of question, we are focusing on some of the topics that we think affect minorities more\n"
   ]
  },
  {
   "cell_type": "code",
   "execution_count": 43,
   "metadata": {},
   "outputs": [
    {
     "data": {
      "text/html": [
       "<div>\n",
       "<style scoped>\n",
       "    .dataframe tbody tr th:only-of-type {\n",
       "        vertical-align: middle;\n",
       "    }\n",
       "\n",
       "    .dataframe tbody tr th {\n",
       "        vertical-align: top;\n",
       "    }\n",
       "\n",
       "    .dataframe thead th {\n",
       "        text-align: right;\n",
       "    }\n",
       "</style>\n",
       "<table border=\"1\" class=\"dataframe\">\n",
       "  <thead>\n",
       "    <tr style=\"text-align: right;\">\n",
       "      <th></th>\n",
       "      <th>INDICATORENG</th>\n",
       "      <th>SUBINDICATORENG</th>\n",
       "      <th>TITLE_E</th>\n",
       "      <th>ANSCOUNT</th>\n",
       "    </tr>\n",
       "  </thead>\n",
       "  <tbody>\n",
       "    <tr>\n",
       "      <th>0</th>\n",
       "      <td>COMPENSATION</td>\n",
       "      <td>Pay or other compensation issues</td>\n",
       "      <td>Question 93. In the last 12 months, has your p...</td>\n",
       "      <td>179243</td>\n",
       "    </tr>\n",
       "    <tr>\n",
       "      <th>21</th>\n",
       "      <td>WORKFORCE</td>\n",
       "      <td>Mobility and Retention</td>\n",
       "      <td>Question 53. Do you intend to leave your curre...</td>\n",
       "      <td>179198</td>\n",
       "    </tr>\n",
       "    <tr>\n",
       "      <th>17</th>\n",
       "      <td>WORKFORCE</td>\n",
       "      <td>Job fit and development</td>\n",
       "      <td>Question 43a. To what extent have the followin...</td>\n",
       "      <td>179069</td>\n",
       "    </tr>\n",
       "    <tr>\n",
       "      <th>12</th>\n",
       "      <td>LEADERSHIP</td>\n",
       "      <td>Immediate supervisor</td>\n",
       "      <td>Question 30. I am satisfied with the quality o...</td>\n",
       "      <td>179044</td>\n",
       "    </tr>\n",
       "    <tr>\n",
       "      <th>82</th>\n",
       "      <td>WORKPLACE</td>\n",
       "      <td>Harassment</td>\n",
       "      <td>Question 55. Having carefully read the definit...</td>\n",
       "      <td>178982</td>\n",
       "    </tr>\n",
       "    <tr>\n",
       "      <th>16</th>\n",
       "      <td>WORKFORCE</td>\n",
       "      <td>Job fit and development</td>\n",
       "      <td>Question 42. I believe I have opportunities fo...</td>\n",
       "      <td>178940</td>\n",
       "    </tr>\n",
       "    <tr>\n",
       "      <th>2</th>\n",
       "      <td>COMPENSATION</td>\n",
       "      <td>Pay or other compensation issues</td>\n",
       "      <td>Question 97. To what extent have issues with t...</td>\n",
       "      <td>178878</td>\n",
       "    </tr>\n",
       "    <tr>\n",
       "      <th>9</th>\n",
       "      <td>EMPLOYEE ENGAGEMENT</td>\n",
       "      <td>Employee Engagement</td>\n",
       "      <td>Question 7. I get a sense of satisfaction from...</td>\n",
       "      <td>178870</td>\n",
       "    </tr>\n",
       "    <tr>\n",
       "      <th>5</th>\n",
       "      <td>EMPLOYEE ENGAGEMENT</td>\n",
       "      <td>Employee Engagement</td>\n",
       "      <td>Question 16. Overall, I like my job.</td>\n",
       "      <td>178826</td>\n",
       "    </tr>\n",
       "    <tr>\n",
       "      <th>133</th>\n",
       "      <td>WORKPLACE WELL-BEING</td>\n",
       "      <td>A psychologically healthy workplace</td>\n",
       "      <td>Question 78. I would describe my workplace as ...</td>\n",
       "      <td>178818</td>\n",
       "    </tr>\n",
       "    <tr>\n",
       "      <th>24</th>\n",
       "      <td>WORKPLACE</td>\n",
       "      <td>Anti-racism</td>\n",
       "      <td>Question 47. My department or agency implement...</td>\n",
       "      <td>178805</td>\n",
       "    </tr>\n",
       "    <tr>\n",
       "      <th>27</th>\n",
       "      <td>WORKPLACE</td>\n",
       "      <td>Discrimination</td>\n",
       "      <td>Question 62. Having carefully read the definit...</td>\n",
       "      <td>178767</td>\n",
       "    </tr>\n",
       "    <tr>\n",
       "      <th>128</th>\n",
       "      <td>WORKPLACE</td>\n",
       "      <td>Harassment</td>\n",
       "      <td>Question 60. I am satisfied with how matters r...</td>\n",
       "      <td>178767</td>\n",
       "    </tr>\n",
       "    <tr>\n",
       "      <th>11</th>\n",
       "      <td>LEADERSHIP</td>\n",
       "      <td>Immediate supervisor</td>\n",
       "      <td>Question 27. My immediate supervisor keeps me ...</td>\n",
       "      <td>178728</td>\n",
       "    </tr>\n",
       "    <tr>\n",
       "      <th>23</th>\n",
       "      <td>WORKPLACE</td>\n",
       "      <td>Anti-racism</td>\n",
       "      <td>Question 23. In my work unit, I would feel fre...</td>\n",
       "      <td>178719</td>\n",
       "    </tr>\n",
       "    <tr>\n",
       "      <th>130</th>\n",
       "      <td>WORKPLACE WELL-BEING</td>\n",
       "      <td>A psychologically healthy workplace</td>\n",
       "      <td>Question 74. My department or agency does a go...</td>\n",
       "      <td>178707</td>\n",
       "    </tr>\n",
       "    <tr>\n",
       "      <th>75</th>\n",
       "      <td>WORKPLACE</td>\n",
       "      <td>Discrimination</td>\n",
       "      <td>Question 68. My department or agency works har...</td>\n",
       "      <td>178670</td>\n",
       "    </tr>\n",
       "    <tr>\n",
       "      <th>76</th>\n",
       "      <td>WORKPLACE</td>\n",
       "      <td>Diversity and inclusion</td>\n",
       "      <td>Question 20. In my work unit, every individual...</td>\n",
       "      <td>178463</td>\n",
       "    </tr>\n",
       "    <tr>\n",
       "      <th>81</th>\n",
       "      <td>WORKPLACE</td>\n",
       "      <td>Diversity and inclusion</td>\n",
       "      <td>Question 49. Overall, my department or agency ...</td>\n",
       "      <td>178450</td>\n",
       "    </tr>\n",
       "    <tr>\n",
       "      <th>22</th>\n",
       "      <td>WORKFORCE</td>\n",
       "      <td>Mobility and Retention</td>\n",
       "      <td>Question 54. Please indicate your reason for l...</td>\n",
       "      <td>46938</td>\n",
       "    </tr>\n",
       "  </tbody>\n",
       "</table>\n",
       "</div>"
      ],
      "text/plain": [
       "             INDICATORENG                      SUBINDICATORENG  \\\n",
       "0            COMPENSATION     Pay or other compensation issues   \n",
       "21              WORKFORCE               Mobility and Retention   \n",
       "17              WORKFORCE              Job fit and development   \n",
       "12             LEADERSHIP                 Immediate supervisor   \n",
       "82              WORKPLACE                           Harassment   \n",
       "16              WORKFORCE              Job fit and development   \n",
       "2            COMPENSATION     Pay or other compensation issues   \n",
       "9     EMPLOYEE ENGAGEMENT                  Employee Engagement   \n",
       "5     EMPLOYEE ENGAGEMENT                  Employee Engagement   \n",
       "133  WORKPLACE WELL-BEING  A psychologically healthy workplace   \n",
       "24              WORKPLACE                          Anti-racism   \n",
       "27              WORKPLACE                       Discrimination   \n",
       "128             WORKPLACE                           Harassment   \n",
       "11             LEADERSHIP                 Immediate supervisor   \n",
       "23              WORKPLACE                          Anti-racism   \n",
       "130  WORKPLACE WELL-BEING  A psychologically healthy workplace   \n",
       "75              WORKPLACE                       Discrimination   \n",
       "76              WORKPLACE              Diversity and inclusion   \n",
       "81              WORKPLACE              Diversity and inclusion   \n",
       "22              WORKFORCE               Mobility and Retention   \n",
       "\n",
       "                                               TITLE_E  ANSCOUNT  \n",
       "0    Question 93. In the last 12 months, has your p...    179243  \n",
       "21   Question 53. Do you intend to leave your curre...    179198  \n",
       "17   Question 43a. To what extent have the followin...    179069  \n",
       "12   Question 30. I am satisfied with the quality o...    179044  \n",
       "82   Question 55. Having carefully read the definit...    178982  \n",
       "16   Question 42. I believe I have opportunities fo...    178940  \n",
       "2    Question 97. To what extent have issues with t...    178878  \n",
       "9    Question 7. I get a sense of satisfaction from...    178870  \n",
       "5                 Question 16. Overall, I like my job.    178826  \n",
       "133  Question 78. I would describe my workplace as ...    178818  \n",
       "24   Question 47. My department or agency implement...    178805  \n",
       "27   Question 62. Having carefully read the definit...    178767  \n",
       "128  Question 60. I am satisfied with how matters r...    178767  \n",
       "11   Question 27. My immediate supervisor keeps me ...    178728  \n",
       "23   Question 23. In my work unit, I would feel fre...    178719  \n",
       "130  Question 74. My department or agency does a go...    178707  \n",
       "75   Question 68. My department or agency works har...    178670  \n",
       "76   Question 20. In my work unit, every individual...    178463  \n",
       "81   Question 49. Overall, my department or agency ...    178450  \n",
       "22   Question 54. Please indicate your reason for l...     46938  "
      ]
     },
     "execution_count": 43,
     "metadata": {},
     "output_type": "execute_result"
    }
   ],
   "source": [
    "important_subindicators = ['Pay or other compensation issues','Discrimination','A psychologically healthy workplace','Harassment',\n",
    "                            'Diversity and inclusion', 'Anti-racism', 'Immediate supervisor','Job fit and development','Mobility and Retention','Employee Engagement']\n",
    "\n",
    "df_qa = df_emp_survey.query(f'SUBINDICATORENG in {important_subindicators}')\n",
    "\n",
    "# # Lets subgroup by subindicator and title only pick top two questions with most answer count\n",
    "# df_qa = df_qa.groupby(['INDICATORENG','SUBINDICATORENG','TITLE_E']).max()[['ANSCOUNT']].reset_index()\n",
    "# df_qa.sort_values('ANSCOUNT', ascending=False).groupby(\"SUBINDICATORENG\").head(2)\n",
    "\n",
    "\n",
    "# Lets subgroup by subindicator and title only pick top any two questions\n",
    "df_qa = df_qa.groupby(['INDICATORENG','SUBINDICATORENG','TITLE_E']).max()[['ANSCOUNT']].reset_index()\n",
    "df_qa.sort_values('ANSCOUNT', ascending=False).groupby(\"SUBINDICATORENG\").head(2)"
   ]
  },
  {
   "cell_type": "code",
   "execution_count": 44,
   "metadata": {},
   "outputs": [],
   "source": [
    "# get actual responses for each question\n",
    "def get_responses(q):\n",
    "    return df_responses.query(f\"QUESTION == '{q}'\")[['Answer1ENG','Answer2ENG','Answer3ENG','Answer4ENG','Answer5ENG','Answer6ENG','Answer7ENG']].values[0]\n",
    "\n",
    "# get demographic codes for each question\n",
    "def get_demo_descrip(demo_codes):\n",
    "    dict_codes = {}\n",
    "    for i in demo_codes:\n",
    "        dict_codes[i] = df_emp_survey.query(f\"BYCOND == '{i}'\")['DESCRIP_E'].iloc[0]\n",
    "    return dict_codes\n",
    "\n",
    "# get data frame results for a question\n",
    "def get_results(q, demo_code):\n",
    "    # get men, women and gender diverse answer pools for a question on average across all dept\n",
    "    idx_cols = get_demo_descrip(df_emp_survey.query(f\"BYCOND_2 == '{demo_code}' and QUESTION == '{q}'\").groupby('BYCOND').mean()[ans_cols+['MOST_POSITIVE_OR_LEAST_NEGATIVE','NEUTRAL_OR_MIDDLE_CATEGORY','MOST_NEGATIVE_OR_LEAST_POSITIVE']].index)\n",
    "    df_resp_score = df_emp_survey.query(f\"BYCOND_2 == '{demo_code}' and QUESTION == '{q}'\").groupby('BYCOND').mean()[ans_cols]\n",
    "    responses = get_responses(q)\n",
    "\n",
    "    # replace values\n",
    "    df_resp_score.rename(index=idx_cols, inplace=True)\n",
    "    df_resp_score.columns = responses\n",
    "\n",
    "    return df_resp_score"
   ]
  },
  {
   "cell_type": "code",
   "execution_count": 45,
   "metadata": {},
   "outputs": [
    {
     "data": {
      "application/vnd.plotly.v1+json": {
       "config": {
        "plotlyServerURL": "https://plot.ly"
       },
       "data": [
        {
         "branchvalues": "total",
         "customdata": [
          [
           377.63663228997046
          ],
          [
           478.86357110628
          ],
          [
           150.0236446766819
          ],
          [
           2206.046148834516
          ],
          [
           693.2557087310004
          ],
          [
           316.15956488602507
          ],
          [
           809.2116450177127
          ],
          [
           462.3517694426785
          ],
          [
           462.6845392473403
          ],
          [
           2914.8573657042375
          ],
          [
           314.92296274306074
          ],
          [
           727.3945015919667
          ],
          [
           213.39497307001795
          ],
          [
           231.37608465608466
          ],
          [
           975.6834765254216
          ],
          [
           188.63844983023066
          ],
          [
           346.8471319581803
          ],
          [
           216.51905990255088
          ],
          [
           462.40455267337217
          ],
          [
           65.71631205673759
          ],
          [
           130.641702921069
          ],
          [
           314.62901641644453
          ],
          [
           2710.8509116166
          ],
          [
           158.12701346712439
          ],
          [
           809.2116450177127
          ],
          [
           401.0040168087999
          ],
          [
           496.25871814742214
          ],
          [
           1550.150520224167
          ],
          [
           2114.587011656206
          ],
          [
           1409.8327334027297
          ]
         ],
         "domain": {
          "x": [
           0,
           1
          ],
          "y": [
           0,
           1
          ]
         },
         "hovertemplate": "labels=%{label}<br>QUESTION_sum=%{value}<br>parent=%{parent}<br>id=%{id}<br>QUESTION=%{color}<extra></extra>",
         "ids": [
          "Question Types/WORKPLACE WELL-BEING/A psychologically healthy workplace",
          "Question Types/WORKPLACE WELL-BEING/A safe and healthy workplace",
          "Question Types/WORKPLACE/Anti-racism",
          "Question Types/WORKPLACE/Discrimination",
          "Question Types/WORKPLACE/Diversity and inclusion",
          "Question Types/WORKPLACE/Duty to accommodate",
          "Question Types/EMPLOYEE ENGAGEMENT/Employee Engagement",
          "Question Types/WORKFORCE/Empowerment",
          "Question Types/WORKPLACE/Ethical workplace",
          "Question Types/WORKPLACE/Harassment",
          "Question Types/LEADERSHIP/Immediate supervisor",
          "Question Types/WORKFORCE/Job fit and development",
          "Question Types/WORKFORCE/Mobility and Retention",
          "Question Types/WORKPLACE/Organizational goals",
          "Question Types/WORKPLACE/Organizational performance",
          "Question Types/COMPENSATION/Pay or other compensation issues",
          "Question Types/WORKFORCE/Performance management",
          "Question Types/WORKPLACE/Physical environment and equipment",
          "Question Types/LEADERSHIP/Senior management",
          "Question Types/COMPENSATION/Support to resolve pay or other compensation issues",
          "Question Types/WORKPLACE/Use of official languages",
          "Question Types/WORKFORCE/Work-life balance and workload",
          "Question Types/WORKPLACE WELL-BEING/Work-related stress",
          "Question Types/COMPENSATION",
          "Question Types/EMPLOYEE ENGAGEMENT",
          "Question Types/LEADERSHIP",
          "Question Types/WORKFORCE",
          "Question Types/WORKPLACE",
          "Question Types/WORKPLACE WELL-BEING",
          "Question Types"
         ],
         "labels": [
          "A psychologically healthy workplace",
          "A safe and healthy workplace",
          "Anti-racism",
          "Discrimination",
          "Diversity and inclusion",
          "Duty to accommodate",
          "Employee Engagement",
          "Empowerment",
          "Ethical workplace",
          "Harassment",
          "Immediate supervisor",
          "Job fit and development",
          "Mobility and Retention",
          "Organizational goals",
          "Organizational performance",
          "Pay or other compensation issues",
          "Performance management",
          "Physical environment and equipment",
          "Senior management",
          "Support to resolve pay or other compensation issues",
          "Use of official languages",
          "Work-life balance and workload",
          "Work-related stress",
          "COMPENSATION",
          "EMPLOYEE ENGAGEMENT",
          "LEADERSHIP",
          "WORKFORCE",
          "WORKPLACE",
          "WORKPLACE WELL-BEING",
          "Question Types"
         ],
         "marker": {
          "coloraxis": "coloraxis",
          "colors": [
           377.63663228997046,
           478.86357110628,
           150.0236446766819,
           2206.046148834516,
           693.2557087310004,
           316.15956488602507,
           809.2116450177127,
           462.3517694426785,
           462.6845392473403,
           2914.8573657042375,
           314.92296274306074,
           727.3945015919667,
           213.39497307001795,
           231.37608465608466,
           975.6834765254216,
           188.63844983023066,
           346.8471319581803,
           216.51905990255088,
           462.40455267337217,
           65.71631205673759,
           130.641702921069,
           314.62901641644453,
           2710.8509116166,
           158.12701346712439,
           809.2116450177127,
           401.0040168087999,
           496.25871814742214,
           1550.150520224167,
           2114.587011656206,
           1409.8327334027297
          ]
         },
         "name": "",
         "parents": [
          "Question Types/WORKPLACE WELL-BEING",
          "Question Types/WORKPLACE WELL-BEING",
          "Question Types/WORKPLACE",
          "Question Types/WORKPLACE",
          "Question Types/WORKPLACE",
          "Question Types/WORKPLACE",
          "Question Types/EMPLOYEE ENGAGEMENT",
          "Question Types/WORKFORCE",
          "Question Types/WORKPLACE",
          "Question Types/WORKPLACE",
          "Question Types/LEADERSHIP",
          "Question Types/WORKFORCE",
          "Question Types/WORKFORCE",
          "Question Types/WORKPLACE",
          "Question Types/WORKPLACE",
          "Question Types/COMPENSATION",
          "Question Types/WORKFORCE",
          "Question Types/WORKPLACE",
          "Question Types/LEADERSHIP",
          "Question Types/COMPENSATION",
          "Question Types/WORKPLACE",
          "Question Types/WORKFORCE",
          "Question Types/WORKPLACE WELL-BEING",
          "Question Types",
          "Question Types",
          "Question Types",
          "Question Types",
          "Question Types",
          "Question Types",
          ""
         ],
         "type": "treemap",
         "values": [
          16581,
          24379,
          7655,
          55256,
          28290,
          14433,
          33027,
          18876,
          18893,
          70516,
          13474,
          32664,
          7798,
          9450,
          41087,
          8541,
          14156,
          10467,
          18890,
          2820,
          6436,
          14254,
          115180,
          11361,
          33027,
          32364,
          87748,
          262483,
          156140,
          583123
         ]
        }
       ],
       "layout": {
        "coloraxis": {
         "colorbar": {
          "title": {
           "text": "QUESTION"
          }
         },
         "colorscale": [
          [
           0,
           "rgb(247,252,240)"
          ],
          [
           0.125,
           "rgb(224,243,219)"
          ],
          [
           0.25,
           "rgb(204,235,197)"
          ],
          [
           0.375,
           "rgb(168,221,181)"
          ],
          [
           0.5,
           "rgb(123,204,196)"
          ],
          [
           0.625,
           "rgb(78,179,211)"
          ],
          [
           0.75,
           "rgb(43,140,190)"
          ],
          [
           0.875,
           "rgb(8,104,172)"
          ],
          [
           1,
           "rgb(8,64,129)"
          ]
         ]
        },
        "legend": {
         "tracegroupgap": 0
        },
        "margin": {
         "b": 25,
         "l": 25,
         "r": 25,
         "t": 50
        },
        "template": {
         "data": {
          "bar": [
           {
            "error_x": {
             "color": "#2a3f5f"
            },
            "error_y": {
             "color": "#2a3f5f"
            },
            "marker": {
             "line": {
              "color": "#E5ECF6",
              "width": 0.5
             },
             "pattern": {
              "fillmode": "overlay",
              "size": 10,
              "solidity": 0.2
             }
            },
            "type": "bar"
           }
          ],
          "barpolar": [
           {
            "marker": {
             "line": {
              "color": "#E5ECF6",
              "width": 0.5
             },
             "pattern": {
              "fillmode": "overlay",
              "size": 10,
              "solidity": 0.2
             }
            },
            "type": "barpolar"
           }
          ],
          "carpet": [
           {
            "aaxis": {
             "endlinecolor": "#2a3f5f",
             "gridcolor": "white",
             "linecolor": "white",
             "minorgridcolor": "white",
             "startlinecolor": "#2a3f5f"
            },
            "baxis": {
             "endlinecolor": "#2a3f5f",
             "gridcolor": "white",
             "linecolor": "white",
             "minorgridcolor": "white",
             "startlinecolor": "#2a3f5f"
            },
            "type": "carpet"
           }
          ],
          "choropleth": [
           {
            "colorbar": {
             "outlinewidth": 0,
             "ticks": ""
            },
            "type": "choropleth"
           }
          ],
          "contour": [
           {
            "colorbar": {
             "outlinewidth": 0,
             "ticks": ""
            },
            "colorscale": [
             [
              0,
              "#0d0887"
             ],
             [
              0.1111111111111111,
              "#46039f"
             ],
             [
              0.2222222222222222,
              "#7201a8"
             ],
             [
              0.3333333333333333,
              "#9c179e"
             ],
             [
              0.4444444444444444,
              "#bd3786"
             ],
             [
              0.5555555555555556,
              "#d8576b"
             ],
             [
              0.6666666666666666,
              "#ed7953"
             ],
             [
              0.7777777777777778,
              "#fb9f3a"
             ],
             [
              0.8888888888888888,
              "#fdca26"
             ],
             [
              1,
              "#f0f921"
             ]
            ],
            "type": "contour"
           }
          ],
          "contourcarpet": [
           {
            "colorbar": {
             "outlinewidth": 0,
             "ticks": ""
            },
            "type": "contourcarpet"
           }
          ],
          "heatmap": [
           {
            "colorbar": {
             "outlinewidth": 0,
             "ticks": ""
            },
            "colorscale": [
             [
              0,
              "#0d0887"
             ],
             [
              0.1111111111111111,
              "#46039f"
             ],
             [
              0.2222222222222222,
              "#7201a8"
             ],
             [
              0.3333333333333333,
              "#9c179e"
             ],
             [
              0.4444444444444444,
              "#bd3786"
             ],
             [
              0.5555555555555556,
              "#d8576b"
             ],
             [
              0.6666666666666666,
              "#ed7953"
             ],
             [
              0.7777777777777778,
              "#fb9f3a"
             ],
             [
              0.8888888888888888,
              "#fdca26"
             ],
             [
              1,
              "#f0f921"
             ]
            ],
            "type": "heatmap"
           }
          ],
          "heatmapgl": [
           {
            "colorbar": {
             "outlinewidth": 0,
             "ticks": ""
            },
            "colorscale": [
             [
              0,
              "#0d0887"
             ],
             [
              0.1111111111111111,
              "#46039f"
             ],
             [
              0.2222222222222222,
              "#7201a8"
             ],
             [
              0.3333333333333333,
              "#9c179e"
             ],
             [
              0.4444444444444444,
              "#bd3786"
             ],
             [
              0.5555555555555556,
              "#d8576b"
             ],
             [
              0.6666666666666666,
              "#ed7953"
             ],
             [
              0.7777777777777778,
              "#fb9f3a"
             ],
             [
              0.8888888888888888,
              "#fdca26"
             ],
             [
              1,
              "#f0f921"
             ]
            ],
            "type": "heatmapgl"
           }
          ],
          "histogram": [
           {
            "marker": {
             "pattern": {
              "fillmode": "overlay",
              "size": 10,
              "solidity": 0.2
             }
            },
            "type": "histogram"
           }
          ],
          "histogram2d": [
           {
            "colorbar": {
             "outlinewidth": 0,
             "ticks": ""
            },
            "colorscale": [
             [
              0,
              "#0d0887"
             ],
             [
              0.1111111111111111,
              "#46039f"
             ],
             [
              0.2222222222222222,
              "#7201a8"
             ],
             [
              0.3333333333333333,
              "#9c179e"
             ],
             [
              0.4444444444444444,
              "#bd3786"
             ],
             [
              0.5555555555555556,
              "#d8576b"
             ],
             [
              0.6666666666666666,
              "#ed7953"
             ],
             [
              0.7777777777777778,
              "#fb9f3a"
             ],
             [
              0.8888888888888888,
              "#fdca26"
             ],
             [
              1,
              "#f0f921"
             ]
            ],
            "type": "histogram2d"
           }
          ],
          "histogram2dcontour": [
           {
            "colorbar": {
             "outlinewidth": 0,
             "ticks": ""
            },
            "colorscale": [
             [
              0,
              "#0d0887"
             ],
             [
              0.1111111111111111,
              "#46039f"
             ],
             [
              0.2222222222222222,
              "#7201a8"
             ],
             [
              0.3333333333333333,
              "#9c179e"
             ],
             [
              0.4444444444444444,
              "#bd3786"
             ],
             [
              0.5555555555555556,
              "#d8576b"
             ],
             [
              0.6666666666666666,
              "#ed7953"
             ],
             [
              0.7777777777777778,
              "#fb9f3a"
             ],
             [
              0.8888888888888888,
              "#fdca26"
             ],
             [
              1,
              "#f0f921"
             ]
            ],
            "type": "histogram2dcontour"
           }
          ],
          "mesh3d": [
           {
            "colorbar": {
             "outlinewidth": 0,
             "ticks": ""
            },
            "type": "mesh3d"
           }
          ],
          "parcoords": [
           {
            "line": {
             "colorbar": {
              "outlinewidth": 0,
              "ticks": ""
             }
            },
            "type": "parcoords"
           }
          ],
          "pie": [
           {
            "automargin": true,
            "type": "pie"
           }
          ],
          "scatter": [
           {
            "marker": {
             "colorbar": {
              "outlinewidth": 0,
              "ticks": ""
             }
            },
            "type": "scatter"
           }
          ],
          "scatter3d": [
           {
            "line": {
             "colorbar": {
              "outlinewidth": 0,
              "ticks": ""
             }
            },
            "marker": {
             "colorbar": {
              "outlinewidth": 0,
              "ticks": ""
             }
            },
            "type": "scatter3d"
           }
          ],
          "scattercarpet": [
           {
            "marker": {
             "colorbar": {
              "outlinewidth": 0,
              "ticks": ""
             }
            },
            "type": "scattercarpet"
           }
          ],
          "scattergeo": [
           {
            "marker": {
             "colorbar": {
              "outlinewidth": 0,
              "ticks": ""
             }
            },
            "type": "scattergeo"
           }
          ],
          "scattergl": [
           {
            "marker": {
             "colorbar": {
              "outlinewidth": 0,
              "ticks": ""
             }
            },
            "type": "scattergl"
           }
          ],
          "scattermapbox": [
           {
            "marker": {
             "colorbar": {
              "outlinewidth": 0,
              "ticks": ""
             }
            },
            "type": "scattermapbox"
           }
          ],
          "scatterpolar": [
           {
            "marker": {
             "colorbar": {
              "outlinewidth": 0,
              "ticks": ""
             }
            },
            "type": "scatterpolar"
           }
          ],
          "scatterpolargl": [
           {
            "marker": {
             "colorbar": {
              "outlinewidth": 0,
              "ticks": ""
             }
            },
            "type": "scatterpolargl"
           }
          ],
          "scatterternary": [
           {
            "marker": {
             "colorbar": {
              "outlinewidth": 0,
              "ticks": ""
             }
            },
            "type": "scatterternary"
           }
          ],
          "surface": [
           {
            "colorbar": {
             "outlinewidth": 0,
             "ticks": ""
            },
            "colorscale": [
             [
              0,
              "#0d0887"
             ],
             [
              0.1111111111111111,
              "#46039f"
             ],
             [
              0.2222222222222222,
              "#7201a8"
             ],
             [
              0.3333333333333333,
              "#9c179e"
             ],
             [
              0.4444444444444444,
              "#bd3786"
             ],
             [
              0.5555555555555556,
              "#d8576b"
             ],
             [
              0.6666666666666666,
              "#ed7953"
             ],
             [
              0.7777777777777778,
              "#fb9f3a"
             ],
             [
              0.8888888888888888,
              "#fdca26"
             ],
             [
              1,
              "#f0f921"
             ]
            ],
            "type": "surface"
           }
          ],
          "table": [
           {
            "cells": {
             "fill": {
              "color": "#EBF0F8"
             },
             "line": {
              "color": "white"
             }
            },
            "header": {
             "fill": {
              "color": "#C8D4E3"
             },
             "line": {
              "color": "white"
             }
            },
            "type": "table"
           }
          ]
         },
         "layout": {
          "annotationdefaults": {
           "arrowcolor": "#2a3f5f",
           "arrowhead": 0,
           "arrowwidth": 1
          },
          "autotypenumbers": "strict",
          "coloraxis": {
           "colorbar": {
            "outlinewidth": 0,
            "ticks": ""
           }
          },
          "colorscale": {
           "diverging": [
            [
             0,
             "#8e0152"
            ],
            [
             0.1,
             "#c51b7d"
            ],
            [
             0.2,
             "#de77ae"
            ],
            [
             0.3,
             "#f1b6da"
            ],
            [
             0.4,
             "#fde0ef"
            ],
            [
             0.5,
             "#f7f7f7"
            ],
            [
             0.6,
             "#e6f5d0"
            ],
            [
             0.7,
             "#b8e186"
            ],
            [
             0.8,
             "#7fbc41"
            ],
            [
             0.9,
             "#4d9221"
            ],
            [
             1,
             "#276419"
            ]
           ],
           "sequential": [
            [
             0,
             "#0d0887"
            ],
            [
             0.1111111111111111,
             "#46039f"
            ],
            [
             0.2222222222222222,
             "#7201a8"
            ],
            [
             0.3333333333333333,
             "#9c179e"
            ],
            [
             0.4444444444444444,
             "#bd3786"
            ],
            [
             0.5555555555555556,
             "#d8576b"
            ],
            [
             0.6666666666666666,
             "#ed7953"
            ],
            [
             0.7777777777777778,
             "#fb9f3a"
            ],
            [
             0.8888888888888888,
             "#fdca26"
            ],
            [
             1,
             "#f0f921"
            ]
           ],
           "sequentialminus": [
            [
             0,
             "#0d0887"
            ],
            [
             0.1111111111111111,
             "#46039f"
            ],
            [
             0.2222222222222222,
             "#7201a8"
            ],
            [
             0.3333333333333333,
             "#9c179e"
            ],
            [
             0.4444444444444444,
             "#bd3786"
            ],
            [
             0.5555555555555556,
             "#d8576b"
            ],
            [
             0.6666666666666666,
             "#ed7953"
            ],
            [
             0.7777777777777778,
             "#fb9f3a"
            ],
            [
             0.8888888888888888,
             "#fdca26"
            ],
            [
             1,
             "#f0f921"
            ]
           ]
          },
          "colorway": [
           "#636efa",
           "#EF553B",
           "#00cc96",
           "#ab63fa",
           "#FFA15A",
           "#19d3f3",
           "#FF6692",
           "#B6E880",
           "#FF97FF",
           "#FECB52"
          ],
          "font": {
           "color": "#2a3f5f"
          },
          "geo": {
           "bgcolor": "white",
           "lakecolor": "white",
           "landcolor": "#E5ECF6",
           "showlakes": true,
           "showland": true,
           "subunitcolor": "white"
          },
          "hoverlabel": {
           "align": "left"
          },
          "hovermode": "closest",
          "mapbox": {
           "style": "light"
          },
          "paper_bgcolor": "white",
          "plot_bgcolor": "#E5ECF6",
          "polar": {
           "angularaxis": {
            "gridcolor": "white",
            "linecolor": "white",
            "ticks": ""
           },
           "bgcolor": "#E5ECF6",
           "radialaxis": {
            "gridcolor": "white",
            "linecolor": "white",
            "ticks": ""
           }
          },
          "scene": {
           "xaxis": {
            "backgroundcolor": "#E5ECF6",
            "gridcolor": "white",
            "gridwidth": 2,
            "linecolor": "white",
            "showbackground": true,
            "ticks": "",
            "zerolinecolor": "white"
           },
           "yaxis": {
            "backgroundcolor": "#E5ECF6",
            "gridcolor": "white",
            "gridwidth": 2,
            "linecolor": "white",
            "showbackground": true,
            "ticks": "",
            "zerolinecolor": "white"
           },
           "zaxis": {
            "backgroundcolor": "#E5ECF6",
            "gridcolor": "white",
            "gridwidth": 2,
            "linecolor": "white",
            "showbackground": true,
            "ticks": "",
            "zerolinecolor": "white"
           }
          },
          "shapedefaults": {
           "line": {
            "color": "#2a3f5f"
           }
          },
          "ternary": {
           "aaxis": {
            "gridcolor": "white",
            "linecolor": "white",
            "ticks": ""
           },
           "baxis": {
            "gridcolor": "white",
            "linecolor": "white",
            "ticks": ""
           },
           "bgcolor": "#E5ECF6",
           "caxis": {
            "gridcolor": "white",
            "linecolor": "white",
            "ticks": ""
           }
          },
          "title": {
           "x": 0.05
          },
          "xaxis": {
           "automargin": true,
           "gridcolor": "white",
           "linecolor": "white",
           "ticks": "",
           "title": {
            "standoff": 15
           },
           "zerolinecolor": "white",
           "zerolinewidth": 2
          },
          "yaxis": {
           "automargin": true,
           "gridcolor": "white",
           "linecolor": "white",
           "ticks": "",
           "title": {
            "standoff": 15
           },
           "zerolinecolor": "white",
           "zerolinewidth": 2
          }
         }
        }
       }
      }
     },
     "metadata": {},
     "output_type": "display_data"
    }
   ],
   "source": [
    "# Number of questions by Indicatior and SubIndicator\n",
    "df_tree_map = df_emp_survey.groupby(['INDICATORENG','SUBINDICATORENG','DESCRIP_E'])[['QUESTION']].count().reset_index()\n",
    "\n",
    "fig = px.treemap(df_tree_map, path=[px.Constant(\"Question Types\"), 'INDICATORENG', 'SUBINDICATORENG'], values='QUESTION', color='QUESTION'\n",
    "                                    ,color_continuous_scale='GnBu')\n",
    "fig.update_layout(margin = dict(t=50, l=25, r=25, b=25))\n",
    "fig.show()"
   ]
  },
  {
   "cell_type": "markdown",
   "metadata": {},
   "source": [
    "## Questions"
   ]
  },
  {
   "cell_type": "markdown",
   "metadata": {},
   "source": [
    "### Question 74. My department or agency does a good job of raising awareness of mental health in the workplace.\n"
   ]
  },
  {
   "cell_type": "code",
   "execution_count": 47,
   "metadata": {},
   "outputs": [
    {
     "name": "stdout",
     "output_type": "stream",
     "text": [
      "Question 74. My department or agency does a good job of raising awareness of mental health in the workplace.\n"
     ]
    }
   ],
   "source": [
    "\n",
    "# show the above distribution for Each demographic group, with the question asked. and their responses\n",
    "print(df_emp_survey.query(\"QUESTION == 'Q74'\")['TITLE_E'].iloc[0])\n",
    "df_tree_map = df_emp_survey.query(\"QUESTION == 'Q74'\").groupby(['SELECTED','GENERAL_DEMO_GROUP','DESCRIP_E'])['ANSWER5'].mean().reset_index()\n",
    "df_tree_map = df_tree_map.query(\"SELECTED == 'selected'\")\n",
    "df_tree_map.rename(columns={'ANSWER5': 'Strongly disagree'}, inplace=True)"
   ]
  },
  {
   "cell_type": "code",
   "execution_count": 48,
   "metadata": {},
   "outputs": [
    {
     "data": {
      "application/vnd.plotly.v1+json": {
       "config": {
        "plotlyServerURL": "https://plot.ly"
       },
       "data": [
        {
         "branchvalues": "total",
         "customdata": [
          [
           3.673469387755102
          ],
          [
           6.589743589743589
          ],
          [
           3
          ],
          [
           8.056603773584905
          ],
          [
           3.764705882352941
          ],
          [
           4.666666666666667
          ],
          [
           6.290322580645161
          ],
          [
           11.77777777777778
          ],
          [
           4.84375
          ],
          [
           6.162162162162162
          ],
          [
           4.896907216494846
          ],
          [
           3.088495575221239
          ],
          [
           2.5053763440860215
          ],
          [
           2.704081632653061
          ],
          [
           2.5
          ],
          [
           5.390243902439025
          ],
          [
           4.046511627906977
          ],
          [
           9.293103448275861
          ],
          [
           2.523076923076923
          ],
          [
           4.731034482758621
          ],
          [
           3.4761904761904763
          ],
          [
           4.785714285714286
          ],
          [
           4.8
          ],
          [
           3.127551020408163
          ],
          [
           4.890625
          ],
          [
           2.9172413793103447
          ],
          [
           3.189655172413793
          ],
          [
           3.5851063829787235
          ],
          [
           2.835897435897436
          ],
          [
           2.5384615384615383
          ],
          [
           5.135135135135135
          ],
          [
           6.701754385964913
          ],
          [
           3.5
          ],
          [
           6.8791208791208796
          ],
          [
           4.253886010362694
          ],
          [
           3.42
          ],
          [
           2.5892857142857144
          ],
          [
           3.292307692307692
          ],
          [
           4.096849576233663
          ],
          [
           6.840146093690761
          ],
          [
           4.039208979820279
          ],
          [
           4.728978821318754
          ],
          [
           5.709118186364394
          ],
          [
           6.832300264220136
          ],
          [
           4.69724465241652
          ],
          [
           3.081098594571398
          ],
          [
           5.430485893327143
          ]
         ],
         "domain": {
          "x": [
           0,
           1
          ],
          "y": [
           0,
           1
          ]
         },
         "hovertemplate": "labels=%{label}<br>Strongly disagree_sum=%{value}<br>parent=%{parent}<br>id=%{id}<br>Strongly disagree=%{color}<extra></extra>",
         "ids": [
          "Question 74. My department or agency does a good job of raising awareness of mental health in the workplace./person with disability-specified/A chronic health condition or pain affects ability to function on a regular or episodic basis due to migraines, Crohn's disease, colitis, and other disabilities or health conditions",
          "Question 74. My department or agency does a good job of raising awareness of mental health in the workplace./person with disability-specified/A cognitive disability affects ability to carry out tasks involving executive functioning, such as planning and organization, learning information, communication and memory, including autism or Asperger's syndrome, attention deficit disorder, and learning disabilities",
          "Question 74. My department or agency does a good job of raising awareness of mental health in the workplace./person with disability-specified/A hearing disability affects ability to hear, including being hard of hearing, deafness or acoustic distortion",
          "Question 74. My department or agency does a good job of raising awareness of mental health in the workplace./person with disability-specified/A mental health issue affects psychology or behaviour, such as anxiety, depression or social / compulsive disorder or phobia or psychiatric illness",
          "Question 74. My department or agency does a good job of raising awareness of mental health in the workplace./person with disability-specified/A mobility issue affects ability to move your body, including the required use of a wheelchair or a cane, or other issues impacting your mobility",
          "Question 74. My department or agency does a good job of raising awareness of mental health in the workplace./person with disability-specified/A seeing disability affects vision, including total blindness, partial sight and visual distortion",
          "Question 74. My department or agency does a good job of raising awareness of mental health in the workplace./person with disability-specified/A sensory / environmental disability affects sensitivity to light, sounds or other distractions, as well as allergens and other environmental sensitivities",
          "Question 74. My department or agency does a good job of raising awareness of mental health in the workplace./person with disability-specified/An intellectual disability affects your ability to learn and to adapt behaviour to different situations",
          "Question 74. My department or agency does a good job of raising awareness of mental health in the workplace./person with disability-specified/An issue with flexibility or dexterity affects ability to move joints or perform motor tasks, especially with your hands",
          "Question 74. My department or agency does a good job of raising awareness of mental health in the workplace./sexuality/Another sexual orientation",
          "Question 74. My department or agency does a good job of raising awareness of mental health in the workplace./sexuality/Bisexual",
          "Question 74. My department or agency does a good job of raising awareness of mental health in the workplace./ethnicity/Black",
          "Question 74. My department or agency does a good job of raising awareness of mental health in the workplace./ethnicity/Chinese",
          "Question 74. My department or agency does a good job of raising awareness of mental health in the workplace./gender/Female gender",
          "Question 74. My department or agency does a good job of raising awareness of mental health in the workplace./ethnicity/Filipino",
          "Question 74. My department or agency does a good job of raising awareness of mental health in the workplace./indigenous-specified/First Nation (North American Indian)",
          "Question 74. My department or agency does a good job of raising awareness of mental health in the workplace./sexuality/Gay or lesbian",
          "Question 74. My department or agency does a good job of raising awareness of mental health in the workplace./gender/Gender diverse",
          "Question 74. My department or agency does a good job of raising awareness of mental health in the workplace./sexuality/Heterosexual",
          "Question 74. My department or agency does a good job of raising awareness of mental health in the workplace./indigenous/Indigenous",
          "Question 74. My department or agency does a good job of raising awareness of mental health in the workplace./indigenous-specified/Inuk (Inuit)",
          "Question 74. My department or agency does a good job of raising awareness of mental health in the workplace./ethnicity/Japanese",
          "Question 74. My department or agency does a good job of raising awareness of mental health in the workplace./ethnicity/Korean",
          "Question 74. My department or agency does a good job of raising awareness of mental health in the workplace./gender/Male gender",
          "Question 74. My department or agency does a good job of raising awareness of mental health in the workplace./indigenous-specified/Métis",
          "Question 74. My department or agency does a good job of raising awareness of mental health in the workplace./indigenous/Non-Indigenous",
          "Question 74. My department or agency does a good job of raising awareness of mental health in the workplace./ethnicity/Non-White Latin American (including: Indigenous persons from Central and South America, etc.)",
          "Question 74. My department or agency does a good job of raising awareness of mental health in the workplace./ethnicity/Non-White West Asian, North African or Arab (including: Egyptian; Libyan; Lebanese; Iranian; etc.)",
          "Question 74. My department or agency does a good job of raising awareness of mental health in the workplace./visible minority/Non-visible minority",
          "Question 74. My department or agency does a good job of raising awareness of mental health in the workplace./person with disability/Not a person with a disability",
          "Question 74. My department or agency does a good job of raising awareness of mental health in the workplace./person with disability-specified/Other disability (including: learning disabilities, developmental disabilities and all other types of disabilities)",
          "Question 74. My department or agency does a good job of raising awareness of mental health in the workplace./ethnicity/Other visible minority group",
          "Question 74. My department or agency does a good job of raising awareness of mental health in the workplace./ethnicity/Person of mixed origin (with one parent in one of the visible minority groups)",
          "Question 74. My department or agency does a good job of raising awareness of mental health in the workplace./person with disability/Person with a disability",
          "Question 74. My department or agency does a good job of raising awareness of mental health in the workplace./sexuality/Prefer not to answer",
          "Question 74. My department or agency does a good job of raising awareness of mental health in the workplace./ethnicity/South Asian/East Indian (including: Indian from India; Bangladeshi; Pakistani; East Indian from Guyana, Trinidad, East Africa; etc.)",
          "Question 74. My department or agency does a good job of raising awareness of mental health in the workplace./ethnicity/Southeast Asian (including: Burmese; Cambodian; Laotian; Thai; Vietnamese; etc.)",
          "Question 74. My department or agency does a good job of raising awareness of mental health in the workplace./visible minority/Visible minority",
          "Question 74. My department or agency does a good job of raising awareness of mental health in the workplace./ethnicity",
          "Question 74. My department or agency does a good job of raising awareness of mental health in the workplace./gender",
          "Question 74. My department or agency does a good job of raising awareness of mental health in the workplace./indigenous",
          "Question 74. My department or agency does a good job of raising awareness of mental health in the workplace./indigenous-specified",
          "Question 74. My department or agency does a good job of raising awareness of mental health in the workplace./person with disability",
          "Question 74. My department or agency does a good job of raising awareness of mental health in the workplace./person with disability-specified",
          "Question 74. My department or agency does a good job of raising awareness of mental health in the workplace./sexuality",
          "Question 74. My department or agency does a good job of raising awareness of mental health in the workplace./visible minority",
          "Question 74. My department or agency does a good job of raising awareness of mental health in the workplace."
         ],
         "labels": [
          "A chronic health condition or pain affects ability to function on a regular or episodic basis due to migraines, Crohn's disease, colitis, and other disabilities or health conditions",
          "A cognitive disability affects ability to carry out tasks involving executive functioning, such as planning and organization, learning information, communication and memory, including autism or Asperger's syndrome, attention deficit disorder, and learning disabilities",
          "A hearing disability affects ability to hear, including being hard of hearing, deafness or acoustic distortion",
          "A mental health issue affects psychology or behaviour, such as anxiety, depression or social / compulsive disorder or phobia or psychiatric illness",
          "A mobility issue affects ability to move your body, including the required use of a wheelchair or a cane, or other issues impacting your mobility",
          "A seeing disability affects vision, including total blindness, partial sight and visual distortion",
          "A sensory / environmental disability affects sensitivity to light, sounds or other distractions, as well as allergens and other environmental sensitivities",
          "An intellectual disability affects your ability to learn and to adapt behaviour to different situations",
          "An issue with flexibility or dexterity affects ability to move joints or perform motor tasks, especially with your hands",
          "Another sexual orientation",
          "Bisexual",
          "Black",
          "Chinese",
          "Female gender",
          "Filipino",
          "First Nation (North American Indian)",
          "Gay or lesbian",
          "Gender diverse",
          "Heterosexual",
          "Indigenous",
          "Inuk (Inuit)",
          "Japanese",
          "Korean",
          "Male gender",
          "Métis",
          "Non-Indigenous",
          "Non-White Latin American (including: Indigenous persons from Central and South America, etc.)",
          "Non-White West Asian, North African or Arab (including: Egyptian; Libyan; Lebanese; Iranian; etc.)",
          "Non-visible minority",
          "Not a person with a disability",
          "Other disability (including: learning disabilities, developmental disabilities and all other types of disabilities)",
          "Other visible minority group",
          "Person of mixed origin (with one parent in one of the visible minority groups)",
          "Person with a disability",
          "Prefer not to answer",
          "South Asian/East Indian (including: Indian from India; Bangladeshi; Pakistani; East Indian from Guyana, Trinidad, East Africa; etc.)",
          "Southeast Asian (including: Burmese; Cambodian; Laotian; Thai; Vietnamese; etc.)",
          "Visible minority",
          "ethnicity",
          "gender",
          "indigenous",
          "indigenous-specified",
          "person with disability",
          "person with disability-specified",
          "sexuality",
          "visible minority",
          "Question 74. My department or agency does a good job of raising awareness of mental health in the workplace."
         ],
         "marker": {
          "coloraxis": "coloraxis",
          "colors": [
           3.673469387755102,
           6.589743589743589,
           3,
           8.056603773584905,
           3.764705882352941,
           4.666666666666667,
           6.290322580645161,
           11.77777777777778,
           4.84375,
           6.162162162162162,
           4.896907216494846,
           3.088495575221239,
           2.5053763440860215,
           2.704081632653061,
           2.5,
           5.390243902439025,
           4.046511627906977,
           9.293103448275861,
           2.523076923076923,
           4.731034482758621,
           3.4761904761904763,
           4.785714285714286,
           4.8,
           3.127551020408163,
           4.890625,
           2.9172413793103447,
           3.189655172413793,
           3.5851063829787235,
           2.835897435897436,
           2.5384615384615383,
           5.135135135135135,
           6.701754385964913,
           3.5,
           6.8791208791208796,
           4.253886010362694,
           3.42,
           2.5892857142857144,
           3.292307692307692,
           4.096849576233663,
           6.840146093690761,
           4.039208979820279,
           4.728978821318754,
           5.709118186364394,
           6.832300264220136,
           4.69724465241652,
           3.081098594571398,
           5.430485893327143
          ]
         },
         "name": "",
         "parents": [
          "Question 74. My department or agency does a good job of raising awareness of mental health in the workplace./person with disability-specified",
          "Question 74. My department or agency does a good job of raising awareness of mental health in the workplace./person with disability-specified",
          "Question 74. My department or agency does a good job of raising awareness of mental health in the workplace./person with disability-specified",
          "Question 74. My department or agency does a good job of raising awareness of mental health in the workplace./person with disability-specified",
          "Question 74. My department or agency does a good job of raising awareness of mental health in the workplace./person with disability-specified",
          "Question 74. My department or agency does a good job of raising awareness of mental health in the workplace./person with disability-specified",
          "Question 74. My department or agency does a good job of raising awareness of mental health in the workplace./person with disability-specified",
          "Question 74. My department or agency does a good job of raising awareness of mental health in the workplace./person with disability-specified",
          "Question 74. My department or agency does a good job of raising awareness of mental health in the workplace./person with disability-specified",
          "Question 74. My department or agency does a good job of raising awareness of mental health in the workplace./sexuality",
          "Question 74. My department or agency does a good job of raising awareness of mental health in the workplace./sexuality",
          "Question 74. My department or agency does a good job of raising awareness of mental health in the workplace./ethnicity",
          "Question 74. My department or agency does a good job of raising awareness of mental health in the workplace./ethnicity",
          "Question 74. My department or agency does a good job of raising awareness of mental health in the workplace./gender",
          "Question 74. My department or agency does a good job of raising awareness of mental health in the workplace./ethnicity",
          "Question 74. My department or agency does a good job of raising awareness of mental health in the workplace./indigenous-specified",
          "Question 74. My department or agency does a good job of raising awareness of mental health in the workplace./sexuality",
          "Question 74. My department or agency does a good job of raising awareness of mental health in the workplace./gender",
          "Question 74. My department or agency does a good job of raising awareness of mental health in the workplace./sexuality",
          "Question 74. My department or agency does a good job of raising awareness of mental health in the workplace./indigenous",
          "Question 74. My department or agency does a good job of raising awareness of mental health in the workplace./indigenous-specified",
          "Question 74. My department or agency does a good job of raising awareness of mental health in the workplace./ethnicity",
          "Question 74. My department or agency does a good job of raising awareness of mental health in the workplace./ethnicity",
          "Question 74. My department or agency does a good job of raising awareness of mental health in the workplace./gender",
          "Question 74. My department or agency does a good job of raising awareness of mental health in the workplace./indigenous-specified",
          "Question 74. My department or agency does a good job of raising awareness of mental health in the workplace./indigenous",
          "Question 74. My department or agency does a good job of raising awareness of mental health in the workplace./ethnicity",
          "Question 74. My department or agency does a good job of raising awareness of mental health in the workplace./ethnicity",
          "Question 74. My department or agency does a good job of raising awareness of mental health in the workplace./visible minority",
          "Question 74. My department or agency does a good job of raising awareness of mental health in the workplace./person with disability",
          "Question 74. My department or agency does a good job of raising awareness of mental health in the workplace./person with disability-specified",
          "Question 74. My department or agency does a good job of raising awareness of mental health in the workplace./ethnicity",
          "Question 74. My department or agency does a good job of raising awareness of mental health in the workplace./ethnicity",
          "Question 74. My department or agency does a good job of raising awareness of mental health in the workplace./person with disability",
          "Question 74. My department or agency does a good job of raising awareness of mental health in the workplace./sexuality",
          "Question 74. My department or agency does a good job of raising awareness of mental health in the workplace./ethnicity",
          "Question 74. My department or agency does a good job of raising awareness of mental health in the workplace./ethnicity",
          "Question 74. My department or agency does a good job of raising awareness of mental health in the workplace./visible minority",
          "Question 74. My department or agency does a good job of raising awareness of mental health in the workplace.",
          "Question 74. My department or agency does a good job of raising awareness of mental health in the workplace.",
          "Question 74. My department or agency does a good job of raising awareness of mental health in the workplace.",
          "Question 74. My department or agency does a good job of raising awareness of mental health in the workplace.",
          "Question 74. My department or agency does a good job of raising awareness of mental health in the workplace.",
          "Question 74. My department or agency does a good job of raising awareness of mental health in the workplace.",
          "Question 74. My department or agency does a good job of raising awareness of mental health in the workplace.",
          "Question 74. My department or agency does a good job of raising awareness of mental health in the workplace.",
          ""
         ],
         "type": "treemap",
         "values": [
          3.673469387755102,
          6.589743589743589,
          3,
          8.056603773584905,
          3.764705882352941,
          4.666666666666667,
          6.290322580645161,
          11.777777777777779,
          4.84375,
          6.162162162162162,
          4.896907216494846,
          3.088495575221239,
          2.5053763440860215,
          2.704081632653061,
          2.5,
          5.390243902439025,
          4.046511627906977,
          9.293103448275861,
          2.523076923076923,
          4.731034482758621,
          3.4761904761904763,
          4.785714285714286,
          4.8,
          3.127551020408163,
          4.890625,
          2.9172413793103447,
          3.189655172413793,
          3.5851063829787235,
          2.835897435897436,
          2.5384615384615383,
          5.135135135135135,
          6.701754385964913,
          3.5,
          6.8791208791208796,
          4.253886010362694,
          3.42,
          2.5892857142857144,
          3.292307692307692,
          40.66538786066469,
          15.124736101337085,
          7.6482758620689655,
          13.757059378629501,
          9.417582417582418,
          57.79817479366128,
          21.8825439400036,
          6.128205128205128,
          172.42196548215267
         ]
        }
       ],
       "layout": {
        "coloraxis": {
         "colorbar": {
          "title": {
           "text": "Strongly disagree"
          }
         },
         "colorscale": [
          [
           0,
           "rgb(247,252,240)"
          ],
          [
           0.125,
           "rgb(224,243,219)"
          ],
          [
           0.25,
           "rgb(204,235,197)"
          ],
          [
           0.375,
           "rgb(168,221,181)"
          ],
          [
           0.5,
           "rgb(123,204,196)"
          ],
          [
           0.625,
           "rgb(78,179,211)"
          ],
          [
           0.75,
           "rgb(43,140,190)"
          ],
          [
           0.875,
           "rgb(8,104,172)"
          ],
          [
           1,
           "rgb(8,64,129)"
          ]
         ]
        },
        "legend": {
         "tracegroupgap": 0
        },
        "margin": {
         "b": 25,
         "l": 25,
         "r": 25,
         "t": 50
        },
        "template": {
         "data": {
          "bar": [
           {
            "error_x": {
             "color": "#2a3f5f"
            },
            "error_y": {
             "color": "#2a3f5f"
            },
            "marker": {
             "line": {
              "color": "#E5ECF6",
              "width": 0.5
             },
             "pattern": {
              "fillmode": "overlay",
              "size": 10,
              "solidity": 0.2
             }
            },
            "type": "bar"
           }
          ],
          "barpolar": [
           {
            "marker": {
             "line": {
              "color": "#E5ECF6",
              "width": 0.5
             },
             "pattern": {
              "fillmode": "overlay",
              "size": 10,
              "solidity": 0.2
             }
            },
            "type": "barpolar"
           }
          ],
          "carpet": [
           {
            "aaxis": {
             "endlinecolor": "#2a3f5f",
             "gridcolor": "white",
             "linecolor": "white",
             "minorgridcolor": "white",
             "startlinecolor": "#2a3f5f"
            },
            "baxis": {
             "endlinecolor": "#2a3f5f",
             "gridcolor": "white",
             "linecolor": "white",
             "minorgridcolor": "white",
             "startlinecolor": "#2a3f5f"
            },
            "type": "carpet"
           }
          ],
          "choropleth": [
           {
            "colorbar": {
             "outlinewidth": 0,
             "ticks": ""
            },
            "type": "choropleth"
           }
          ],
          "contour": [
           {
            "colorbar": {
             "outlinewidth": 0,
             "ticks": ""
            },
            "colorscale": [
             [
              0,
              "#0d0887"
             ],
             [
              0.1111111111111111,
              "#46039f"
             ],
             [
              0.2222222222222222,
              "#7201a8"
             ],
             [
              0.3333333333333333,
              "#9c179e"
             ],
             [
              0.4444444444444444,
              "#bd3786"
             ],
             [
              0.5555555555555556,
              "#d8576b"
             ],
             [
              0.6666666666666666,
              "#ed7953"
             ],
             [
              0.7777777777777778,
              "#fb9f3a"
             ],
             [
              0.8888888888888888,
              "#fdca26"
             ],
             [
              1,
              "#f0f921"
             ]
            ],
            "type": "contour"
           }
          ],
          "contourcarpet": [
           {
            "colorbar": {
             "outlinewidth": 0,
             "ticks": ""
            },
            "type": "contourcarpet"
           }
          ],
          "heatmap": [
           {
            "colorbar": {
             "outlinewidth": 0,
             "ticks": ""
            },
            "colorscale": [
             [
              0,
              "#0d0887"
             ],
             [
              0.1111111111111111,
              "#46039f"
             ],
             [
              0.2222222222222222,
              "#7201a8"
             ],
             [
              0.3333333333333333,
              "#9c179e"
             ],
             [
              0.4444444444444444,
              "#bd3786"
             ],
             [
              0.5555555555555556,
              "#d8576b"
             ],
             [
              0.6666666666666666,
              "#ed7953"
             ],
             [
              0.7777777777777778,
              "#fb9f3a"
             ],
             [
              0.8888888888888888,
              "#fdca26"
             ],
             [
              1,
              "#f0f921"
             ]
            ],
            "type": "heatmap"
           }
          ],
          "heatmapgl": [
           {
            "colorbar": {
             "outlinewidth": 0,
             "ticks": ""
            },
            "colorscale": [
             [
              0,
              "#0d0887"
             ],
             [
              0.1111111111111111,
              "#46039f"
             ],
             [
              0.2222222222222222,
              "#7201a8"
             ],
             [
              0.3333333333333333,
              "#9c179e"
             ],
             [
              0.4444444444444444,
              "#bd3786"
             ],
             [
              0.5555555555555556,
              "#d8576b"
             ],
             [
              0.6666666666666666,
              "#ed7953"
             ],
             [
              0.7777777777777778,
              "#fb9f3a"
             ],
             [
              0.8888888888888888,
              "#fdca26"
             ],
             [
              1,
              "#f0f921"
             ]
            ],
            "type": "heatmapgl"
           }
          ],
          "histogram": [
           {
            "marker": {
             "pattern": {
              "fillmode": "overlay",
              "size": 10,
              "solidity": 0.2
             }
            },
            "type": "histogram"
           }
          ],
          "histogram2d": [
           {
            "colorbar": {
             "outlinewidth": 0,
             "ticks": ""
            },
            "colorscale": [
             [
              0,
              "#0d0887"
             ],
             [
              0.1111111111111111,
              "#46039f"
             ],
             [
              0.2222222222222222,
              "#7201a8"
             ],
             [
              0.3333333333333333,
              "#9c179e"
             ],
             [
              0.4444444444444444,
              "#bd3786"
             ],
             [
              0.5555555555555556,
              "#d8576b"
             ],
             [
              0.6666666666666666,
              "#ed7953"
             ],
             [
              0.7777777777777778,
              "#fb9f3a"
             ],
             [
              0.8888888888888888,
              "#fdca26"
             ],
             [
              1,
              "#f0f921"
             ]
            ],
            "type": "histogram2d"
           }
          ],
          "histogram2dcontour": [
           {
            "colorbar": {
             "outlinewidth": 0,
             "ticks": ""
            },
            "colorscale": [
             [
              0,
              "#0d0887"
             ],
             [
              0.1111111111111111,
              "#46039f"
             ],
             [
              0.2222222222222222,
              "#7201a8"
             ],
             [
              0.3333333333333333,
              "#9c179e"
             ],
             [
              0.4444444444444444,
              "#bd3786"
             ],
             [
              0.5555555555555556,
              "#d8576b"
             ],
             [
              0.6666666666666666,
              "#ed7953"
             ],
             [
              0.7777777777777778,
              "#fb9f3a"
             ],
             [
              0.8888888888888888,
              "#fdca26"
             ],
             [
              1,
              "#f0f921"
             ]
            ],
            "type": "histogram2dcontour"
           }
          ],
          "mesh3d": [
           {
            "colorbar": {
             "outlinewidth": 0,
             "ticks": ""
            },
            "type": "mesh3d"
           }
          ],
          "parcoords": [
           {
            "line": {
             "colorbar": {
              "outlinewidth": 0,
              "ticks": ""
             }
            },
            "type": "parcoords"
           }
          ],
          "pie": [
           {
            "automargin": true,
            "type": "pie"
           }
          ],
          "scatter": [
           {
            "marker": {
             "colorbar": {
              "outlinewidth": 0,
              "ticks": ""
             }
            },
            "type": "scatter"
           }
          ],
          "scatter3d": [
           {
            "line": {
             "colorbar": {
              "outlinewidth": 0,
              "ticks": ""
             }
            },
            "marker": {
             "colorbar": {
              "outlinewidth": 0,
              "ticks": ""
             }
            },
            "type": "scatter3d"
           }
          ],
          "scattercarpet": [
           {
            "marker": {
             "colorbar": {
              "outlinewidth": 0,
              "ticks": ""
             }
            },
            "type": "scattercarpet"
           }
          ],
          "scattergeo": [
           {
            "marker": {
             "colorbar": {
              "outlinewidth": 0,
              "ticks": ""
             }
            },
            "type": "scattergeo"
           }
          ],
          "scattergl": [
           {
            "marker": {
             "colorbar": {
              "outlinewidth": 0,
              "ticks": ""
             }
            },
            "type": "scattergl"
           }
          ],
          "scattermapbox": [
           {
            "marker": {
             "colorbar": {
              "outlinewidth": 0,
              "ticks": ""
             }
            },
            "type": "scattermapbox"
           }
          ],
          "scatterpolar": [
           {
            "marker": {
             "colorbar": {
              "outlinewidth": 0,
              "ticks": ""
             }
            },
            "type": "scatterpolar"
           }
          ],
          "scatterpolargl": [
           {
            "marker": {
             "colorbar": {
              "outlinewidth": 0,
              "ticks": ""
             }
            },
            "type": "scatterpolargl"
           }
          ],
          "scatterternary": [
           {
            "marker": {
             "colorbar": {
              "outlinewidth": 0,
              "ticks": ""
             }
            },
            "type": "scatterternary"
           }
          ],
          "surface": [
           {
            "colorbar": {
             "outlinewidth": 0,
             "ticks": ""
            },
            "colorscale": [
             [
              0,
              "#0d0887"
             ],
             [
              0.1111111111111111,
              "#46039f"
             ],
             [
              0.2222222222222222,
              "#7201a8"
             ],
             [
              0.3333333333333333,
              "#9c179e"
             ],
             [
              0.4444444444444444,
              "#bd3786"
             ],
             [
              0.5555555555555556,
              "#d8576b"
             ],
             [
              0.6666666666666666,
              "#ed7953"
             ],
             [
              0.7777777777777778,
              "#fb9f3a"
             ],
             [
              0.8888888888888888,
              "#fdca26"
             ],
             [
              1,
              "#f0f921"
             ]
            ],
            "type": "surface"
           }
          ],
          "table": [
           {
            "cells": {
             "fill": {
              "color": "#EBF0F8"
             },
             "line": {
              "color": "white"
             }
            },
            "header": {
             "fill": {
              "color": "#C8D4E3"
             },
             "line": {
              "color": "white"
             }
            },
            "type": "table"
           }
          ]
         },
         "layout": {
          "annotationdefaults": {
           "arrowcolor": "#2a3f5f",
           "arrowhead": 0,
           "arrowwidth": 1
          },
          "autotypenumbers": "strict",
          "coloraxis": {
           "colorbar": {
            "outlinewidth": 0,
            "ticks": ""
           }
          },
          "colorscale": {
           "diverging": [
            [
             0,
             "#8e0152"
            ],
            [
             0.1,
             "#c51b7d"
            ],
            [
             0.2,
             "#de77ae"
            ],
            [
             0.3,
             "#f1b6da"
            ],
            [
             0.4,
             "#fde0ef"
            ],
            [
             0.5,
             "#f7f7f7"
            ],
            [
             0.6,
             "#e6f5d0"
            ],
            [
             0.7,
             "#b8e186"
            ],
            [
             0.8,
             "#7fbc41"
            ],
            [
             0.9,
             "#4d9221"
            ],
            [
             1,
             "#276419"
            ]
           ],
           "sequential": [
            [
             0,
             "#0d0887"
            ],
            [
             0.1111111111111111,
             "#46039f"
            ],
            [
             0.2222222222222222,
             "#7201a8"
            ],
            [
             0.3333333333333333,
             "#9c179e"
            ],
            [
             0.4444444444444444,
             "#bd3786"
            ],
            [
             0.5555555555555556,
             "#d8576b"
            ],
            [
             0.6666666666666666,
             "#ed7953"
            ],
            [
             0.7777777777777778,
             "#fb9f3a"
            ],
            [
             0.8888888888888888,
             "#fdca26"
            ],
            [
             1,
             "#f0f921"
            ]
           ],
           "sequentialminus": [
            [
             0,
             "#0d0887"
            ],
            [
             0.1111111111111111,
             "#46039f"
            ],
            [
             0.2222222222222222,
             "#7201a8"
            ],
            [
             0.3333333333333333,
             "#9c179e"
            ],
            [
             0.4444444444444444,
             "#bd3786"
            ],
            [
             0.5555555555555556,
             "#d8576b"
            ],
            [
             0.6666666666666666,
             "#ed7953"
            ],
            [
             0.7777777777777778,
             "#fb9f3a"
            ],
            [
             0.8888888888888888,
             "#fdca26"
            ],
            [
             1,
             "#f0f921"
            ]
           ]
          },
          "colorway": [
           "#636efa",
           "#EF553B",
           "#00cc96",
           "#ab63fa",
           "#FFA15A",
           "#19d3f3",
           "#FF6692",
           "#B6E880",
           "#FF97FF",
           "#FECB52"
          ],
          "font": {
           "color": "#2a3f5f"
          },
          "geo": {
           "bgcolor": "white",
           "lakecolor": "white",
           "landcolor": "#E5ECF6",
           "showlakes": true,
           "showland": true,
           "subunitcolor": "white"
          },
          "hoverlabel": {
           "align": "left"
          },
          "hovermode": "closest",
          "mapbox": {
           "style": "light"
          },
          "paper_bgcolor": "white",
          "plot_bgcolor": "#E5ECF6",
          "polar": {
           "angularaxis": {
            "gridcolor": "white",
            "linecolor": "white",
            "ticks": ""
           },
           "bgcolor": "#E5ECF6",
           "radialaxis": {
            "gridcolor": "white",
            "linecolor": "white",
            "ticks": ""
           }
          },
          "scene": {
           "xaxis": {
            "backgroundcolor": "#E5ECF6",
            "gridcolor": "white",
            "gridwidth": 2,
            "linecolor": "white",
            "showbackground": true,
            "ticks": "",
            "zerolinecolor": "white"
           },
           "yaxis": {
            "backgroundcolor": "#E5ECF6",
            "gridcolor": "white",
            "gridwidth": 2,
            "linecolor": "white",
            "showbackground": true,
            "ticks": "",
            "zerolinecolor": "white"
           },
           "zaxis": {
            "backgroundcolor": "#E5ECF6",
            "gridcolor": "white",
            "gridwidth": 2,
            "linecolor": "white",
            "showbackground": true,
            "ticks": "",
            "zerolinecolor": "white"
           }
          },
          "shapedefaults": {
           "line": {
            "color": "#2a3f5f"
           }
          },
          "ternary": {
           "aaxis": {
            "gridcolor": "white",
            "linecolor": "white",
            "ticks": ""
           },
           "baxis": {
            "gridcolor": "white",
            "linecolor": "white",
            "ticks": ""
           },
           "bgcolor": "#E5ECF6",
           "caxis": {
            "gridcolor": "white",
            "linecolor": "white",
            "ticks": ""
           }
          },
          "title": {
           "x": 0.05
          },
          "xaxis": {
           "automargin": true,
           "gridcolor": "white",
           "linecolor": "white",
           "ticks": "",
           "title": {
            "standoff": 15
           },
           "zerolinecolor": "white",
           "zerolinewidth": 2
          },
          "yaxis": {
           "automargin": true,
           "gridcolor": "white",
           "linecolor": "white",
           "ticks": "",
           "title": {
            "standoff": 15
           },
           "zerolinecolor": "white",
           "zerolinewidth": 2
          }
         }
        }
       }
      }
     },
     "metadata": {},
     "output_type": "display_data"
    }
   ],
   "source": [
    "# Number of questions by Indicatior and SubIndicator\n",
    "\n",
    "fig = px.treemap(df_tree_map, path=[px.Constant(df_emp_survey.query(\"QUESTION == 'Q74'\")['TITLE_E'].iloc[0]), \n",
    "                                    'GENERAL_DEMO_GROUP', 'DESCRIP_E'], values=df_tree_map.columns[-1], color=df_tree_map.columns[-1]\n",
    "                                    ,color_continuous_scale='GnBu')\n",
    "fig.update_layout(margin = dict(t=50, l=25, r=25, b=25))\n",
    "fig.show()"
   ]
  },
  {
   "cell_type": "code",
   "execution_count": null,
   "metadata": {},
   "outputs": [],
   "source": []
  },
  {
   "cell_type": "markdown",
   "metadata": {},
   "source": [
    "### Question 76. I would feel comfortable sharing concerns with my immediate supervisor about my mental health.\n"
   ]
  },
  {
   "cell_type": "code",
   "execution_count": 49,
   "metadata": {},
   "outputs": [
    {
     "name": "stdout",
     "output_type": "stream",
     "text": [
      "Question 76. I would feel comfortable sharing concerns with my immediate supervisor about my mental health.\n"
     ]
    }
   ],
   "source": [
    "# show the above distribution for Each demographic group, with the question asked. and their responses\n",
    "print(df_emp_survey.query(\"QUESTION == 'Q76'\")['TITLE_E'].iloc[0])\n",
    "df_tree_map = df_emp_survey.query(\"QUESTION == 'Q76'\").groupby(['SELECTED','GENERAL_DEMO_GROUP','DESCRIP_E'])['ANSWER5'].mean().reset_index()\n",
    "df_tree_map = df_tree_map.query(\"SELECTED == 'selected'\")\n",
    "df_tree_map.rename(columns={'ANSWER5': 'Strongly disagree'}, inplace=True)"
   ]
  },
  {
   "cell_type": "code",
   "execution_count": 50,
   "metadata": {},
   "outputs": [
    {
     "data": {
      "application/vnd.plotly.v1+json": {
       "config": {
        "plotlyServerURL": "https://plot.ly"
       },
       "data": [
        {
         "branchvalues": "total",
         "customdata": [
          [
           13.770833333333334
          ],
          [
           16.475
          ],
          [
           13.147058823529411
          ],
          [
           16.555555555555557
          ],
          [
           15.676470588235293
          ],
          [
           16.87878787878788
          ],
          [
           19.387096774193548
          ],
          [
           21.11111111111111
          ],
          [
           18.71875
          ],
          [
           11.038461538461538
          ],
          [
           10.945945945945946
          ],
          [
           9.210526315789474
          ],
          [
           6.297872340425532
          ],
          [
           6.985294117647059
          ],
          [
           5.838709677419356
          ],
          [
           12.7
          ],
          [
           8
          ],
          [
           16.153846153846153
          ],
          [
           6.074626865671642
          ],
          [
           10.918367346938776
          ],
          [
           8.1
          ],
          [
           10.357142857142858
          ],
          [
           11.294117647058824
          ],
          [
           6.897058823529412
          ],
          [
           11.266666666666667
          ],
          [
           7.469387755102041
          ],
          [
           7.827586206896552
          ],
          [
           8.122448979591837
          ],
          [
           6.880597014925373
          ],
          [
           6.584615384615384
          ],
          [
           14.108108108108109
          ],
          [
           13.137931034482758
          ],
          [
           9.659090909090908
          ],
          [
           13.36923076923077
          ],
          [
           11.910447761194028
          ],
          [
           9.884615384615385
          ],
          [
           5.482758620689655
          ],
          [
           8.074626865671641
          ],
          [
           9.41513208632028
          ],
          [
           11.895995853436744
          ],
          [
           9.51733901107613
          ],
          [
           11.034442134442136
          ],
          [
           11.130360002372338
          ],
          [
           16.942820442639164
          ],
          [
           10.098529354418327
          ],
          [
           7.525277802603748
          ],
          [
           12.735181360381814
          ]
         ],
         "domain": {
          "x": [
           0,
           1
          ],
          "y": [
           0,
           1
          ]
         },
         "hovertemplate": "labels=%{label}<br>Strongly disagree_sum=%{value}<br>parent=%{parent}<br>id=%{id}<br>Strongly disagree=%{color}<extra></extra>",
         "ids": [
          "Question 76. I would feel comfortable sharing concerns with my immediate supervisor about my mental health./person with disability-specified/A chronic health condition or pain affects ability to function on a regular or episodic basis due to migraines, Crohn's disease, colitis, and other disabilities or health conditions",
          "Question 76. I would feel comfortable sharing concerns with my immediate supervisor about my mental health./person with disability-specified/A cognitive disability affects ability to carry out tasks involving executive functioning, such as planning and organization, learning information, communication and memory, including autism or Asperger's syndrome, attention deficit disorder, and learning disabilities",
          "Question 76. I would feel comfortable sharing concerns with my immediate supervisor about my mental health./person with disability-specified/A hearing disability affects ability to hear, including being hard of hearing, deafness or acoustic distortion",
          "Question 76. I would feel comfortable sharing concerns with my immediate supervisor about my mental health./person with disability-specified/A mental health issue affects psychology or behaviour, such as anxiety, depression or social / compulsive disorder or phobia or psychiatric illness",
          "Question 76. I would feel comfortable sharing concerns with my immediate supervisor about my mental health./person with disability-specified/A mobility issue affects ability to move your body, including the required use of a wheelchair or a cane, or other issues impacting your mobility",
          "Question 76. I would feel comfortable sharing concerns with my immediate supervisor about my mental health./person with disability-specified/A seeing disability affects vision, including total blindness, partial sight and visual distortion",
          "Question 76. I would feel comfortable sharing concerns with my immediate supervisor about my mental health./person with disability-specified/A sensory / environmental disability affects sensitivity to light, sounds or other distractions, as well as allergens and other environmental sensitivities",
          "Question 76. I would feel comfortable sharing concerns with my immediate supervisor about my mental health./person with disability-specified/An intellectual disability affects your ability to learn and to adapt behaviour to different situations",
          "Question 76. I would feel comfortable sharing concerns with my immediate supervisor about my mental health./person with disability-specified/An issue with flexibility or dexterity affects ability to move joints or perform motor tasks, especially with your hands",
          "Question 76. I would feel comfortable sharing concerns with my immediate supervisor about my mental health./sexuality/Another sexual orientation",
          "Question 76. I would feel comfortable sharing concerns with my immediate supervisor about my mental health./sexuality/Bisexual",
          "Question 76. I would feel comfortable sharing concerns with my immediate supervisor about my mental health./ethnicity/Black",
          "Question 76. I would feel comfortable sharing concerns with my immediate supervisor about my mental health./ethnicity/Chinese",
          "Question 76. I would feel comfortable sharing concerns with my immediate supervisor about my mental health./gender/Female gender",
          "Question 76. I would feel comfortable sharing concerns with my immediate supervisor about my mental health./ethnicity/Filipino",
          "Question 76. I would feel comfortable sharing concerns with my immediate supervisor about my mental health./indigenous-specified/First Nation (North American Indian)",
          "Question 76. I would feel comfortable sharing concerns with my immediate supervisor about my mental health./sexuality/Gay or lesbian",
          "Question 76. I would feel comfortable sharing concerns with my immediate supervisor about my mental health./gender/Gender diverse",
          "Question 76. I would feel comfortable sharing concerns with my immediate supervisor about my mental health./sexuality/Heterosexual",
          "Question 76. I would feel comfortable sharing concerns with my immediate supervisor about my mental health./indigenous/Indigenous",
          "Question 76. I would feel comfortable sharing concerns with my immediate supervisor about my mental health./indigenous-specified/Inuk (Inuit)",
          "Question 76. I would feel comfortable sharing concerns with my immediate supervisor about my mental health./ethnicity/Japanese",
          "Question 76. I would feel comfortable sharing concerns with my immediate supervisor about my mental health./ethnicity/Korean",
          "Question 76. I would feel comfortable sharing concerns with my immediate supervisor about my mental health./gender/Male gender",
          "Question 76. I would feel comfortable sharing concerns with my immediate supervisor about my mental health./indigenous-specified/Métis",
          "Question 76. I would feel comfortable sharing concerns with my immediate supervisor about my mental health./indigenous/Non-Indigenous",
          "Question 76. I would feel comfortable sharing concerns with my immediate supervisor about my mental health./ethnicity/Non-White Latin American (including: Indigenous persons from Central and South America, etc.)",
          "Question 76. I would feel comfortable sharing concerns with my immediate supervisor about my mental health./ethnicity/Non-White West Asian, North African or Arab (including: Egyptian; Libyan; Lebanese; Iranian; etc.)",
          "Question 76. I would feel comfortable sharing concerns with my immediate supervisor about my mental health./visible minority/Non-visible minority",
          "Question 76. I would feel comfortable sharing concerns with my immediate supervisor about my mental health./person with disability/Not a person with a disability",
          "Question 76. I would feel comfortable sharing concerns with my immediate supervisor about my mental health./person with disability-specified/Other disability (including: learning disabilities, developmental disabilities and all other types of disabilities)",
          "Question 76. I would feel comfortable sharing concerns with my immediate supervisor about my mental health./ethnicity/Other visible minority group",
          "Question 76. I would feel comfortable sharing concerns with my immediate supervisor about my mental health./ethnicity/Person of mixed origin (with one parent in one of the visible minority groups)",
          "Question 76. I would feel comfortable sharing concerns with my immediate supervisor about my mental health./person with disability/Person with a disability",
          "Question 76. I would feel comfortable sharing concerns with my immediate supervisor about my mental health./sexuality/Prefer not to answer",
          "Question 76. I would feel comfortable sharing concerns with my immediate supervisor about my mental health./ethnicity/South Asian/East Indian (including: Indian from India; Bangladeshi; Pakistani; East Indian from Guyana, Trinidad, East Africa; etc.)",
          "Question 76. I would feel comfortable sharing concerns with my immediate supervisor about my mental health./ethnicity/Southeast Asian (including: Burmese; Cambodian; Laotian; Thai; Vietnamese; etc.)",
          "Question 76. I would feel comfortable sharing concerns with my immediate supervisor about my mental health./visible minority/Visible minority",
          "Question 76. I would feel comfortable sharing concerns with my immediate supervisor about my mental health./ethnicity",
          "Question 76. I would feel comfortable sharing concerns with my immediate supervisor about my mental health./gender",
          "Question 76. I would feel comfortable sharing concerns with my immediate supervisor about my mental health./indigenous",
          "Question 76. I would feel comfortable sharing concerns with my immediate supervisor about my mental health./indigenous-specified",
          "Question 76. I would feel comfortable sharing concerns with my immediate supervisor about my mental health./person with disability",
          "Question 76. I would feel comfortable sharing concerns with my immediate supervisor about my mental health./person with disability-specified",
          "Question 76. I would feel comfortable sharing concerns with my immediate supervisor about my mental health./sexuality",
          "Question 76. I would feel comfortable sharing concerns with my immediate supervisor about my mental health./visible minority",
          "Question 76. I would feel comfortable sharing concerns with my immediate supervisor about my mental health."
         ],
         "labels": [
          "A chronic health condition or pain affects ability to function on a regular or episodic basis due to migraines, Crohn's disease, colitis, and other disabilities or health conditions",
          "A cognitive disability affects ability to carry out tasks involving executive functioning, such as planning and organization, learning information, communication and memory, including autism or Asperger's syndrome, attention deficit disorder, and learning disabilities",
          "A hearing disability affects ability to hear, including being hard of hearing, deafness or acoustic distortion",
          "A mental health issue affects psychology or behaviour, such as anxiety, depression or social / compulsive disorder or phobia or psychiatric illness",
          "A mobility issue affects ability to move your body, including the required use of a wheelchair or a cane, or other issues impacting your mobility",
          "A seeing disability affects vision, including total blindness, partial sight and visual distortion",
          "A sensory / environmental disability affects sensitivity to light, sounds or other distractions, as well as allergens and other environmental sensitivities",
          "An intellectual disability affects your ability to learn and to adapt behaviour to different situations",
          "An issue with flexibility or dexterity affects ability to move joints or perform motor tasks, especially with your hands",
          "Another sexual orientation",
          "Bisexual",
          "Black",
          "Chinese",
          "Female gender",
          "Filipino",
          "First Nation (North American Indian)",
          "Gay or lesbian",
          "Gender diverse",
          "Heterosexual",
          "Indigenous",
          "Inuk (Inuit)",
          "Japanese",
          "Korean",
          "Male gender",
          "Métis",
          "Non-Indigenous",
          "Non-White Latin American (including: Indigenous persons from Central and South America, etc.)",
          "Non-White West Asian, North African or Arab (including: Egyptian; Libyan; Lebanese; Iranian; etc.)",
          "Non-visible minority",
          "Not a person with a disability",
          "Other disability (including: learning disabilities, developmental disabilities and all other types of disabilities)",
          "Other visible minority group",
          "Person of mixed origin (with one parent in one of the visible minority groups)",
          "Person with a disability",
          "Prefer not to answer",
          "South Asian/East Indian (including: Indian from India; Bangladeshi; Pakistani; East Indian from Guyana, Trinidad, East Africa; etc.)",
          "Southeast Asian (including: Burmese; Cambodian; Laotian; Thai; Vietnamese; etc.)",
          "Visible minority",
          "ethnicity",
          "gender",
          "indigenous",
          "indigenous-specified",
          "person with disability",
          "person with disability-specified",
          "sexuality",
          "visible minority",
          "Question 76. I would feel comfortable sharing concerns with my immediate supervisor about my mental health."
         ],
         "marker": {
          "coloraxis": "coloraxis",
          "colors": [
           13.770833333333334,
           16.475,
           13.147058823529411,
           16.555555555555557,
           15.676470588235293,
           16.87878787878788,
           19.387096774193548,
           21.11111111111111,
           18.71875,
           11.038461538461538,
           10.945945945945946,
           9.210526315789474,
           6.297872340425532,
           6.985294117647059,
           5.838709677419356,
           12.7,
           8,
           16.153846153846153,
           6.074626865671642,
           10.918367346938776,
           8.1,
           10.357142857142858,
           11.294117647058824,
           6.897058823529412,
           11.266666666666667,
           7.469387755102041,
           7.827586206896552,
           8.122448979591837,
           6.880597014925373,
           6.584615384615384,
           14.108108108108109,
           13.137931034482758,
           9.659090909090908,
           13.36923076923077,
           11.910447761194028,
           9.884615384615385,
           5.482758620689655,
           8.074626865671641,
           9.41513208632028,
           11.895995853436744,
           9.51733901107613,
           11.034442134442136,
           11.130360002372338,
           16.942820442639164,
           10.098529354418327,
           7.525277802603748,
           12.735181360381814
          ]
         },
         "name": "",
         "parents": [
          "Question 76. I would feel comfortable sharing concerns with my immediate supervisor about my mental health./person with disability-specified",
          "Question 76. I would feel comfortable sharing concerns with my immediate supervisor about my mental health./person with disability-specified",
          "Question 76. I would feel comfortable sharing concerns with my immediate supervisor about my mental health./person with disability-specified",
          "Question 76. I would feel comfortable sharing concerns with my immediate supervisor about my mental health./person with disability-specified",
          "Question 76. I would feel comfortable sharing concerns with my immediate supervisor about my mental health./person with disability-specified",
          "Question 76. I would feel comfortable sharing concerns with my immediate supervisor about my mental health./person with disability-specified",
          "Question 76. I would feel comfortable sharing concerns with my immediate supervisor about my mental health./person with disability-specified",
          "Question 76. I would feel comfortable sharing concerns with my immediate supervisor about my mental health./person with disability-specified",
          "Question 76. I would feel comfortable sharing concerns with my immediate supervisor about my mental health./person with disability-specified",
          "Question 76. I would feel comfortable sharing concerns with my immediate supervisor about my mental health./sexuality",
          "Question 76. I would feel comfortable sharing concerns with my immediate supervisor about my mental health./sexuality",
          "Question 76. I would feel comfortable sharing concerns with my immediate supervisor about my mental health./ethnicity",
          "Question 76. I would feel comfortable sharing concerns with my immediate supervisor about my mental health./ethnicity",
          "Question 76. I would feel comfortable sharing concerns with my immediate supervisor about my mental health./gender",
          "Question 76. I would feel comfortable sharing concerns with my immediate supervisor about my mental health./ethnicity",
          "Question 76. I would feel comfortable sharing concerns with my immediate supervisor about my mental health./indigenous-specified",
          "Question 76. I would feel comfortable sharing concerns with my immediate supervisor about my mental health./sexuality",
          "Question 76. I would feel comfortable sharing concerns with my immediate supervisor about my mental health./gender",
          "Question 76. I would feel comfortable sharing concerns with my immediate supervisor about my mental health./sexuality",
          "Question 76. I would feel comfortable sharing concerns with my immediate supervisor about my mental health./indigenous",
          "Question 76. I would feel comfortable sharing concerns with my immediate supervisor about my mental health./indigenous-specified",
          "Question 76. I would feel comfortable sharing concerns with my immediate supervisor about my mental health./ethnicity",
          "Question 76. I would feel comfortable sharing concerns with my immediate supervisor about my mental health./ethnicity",
          "Question 76. I would feel comfortable sharing concerns with my immediate supervisor about my mental health./gender",
          "Question 76. I would feel comfortable sharing concerns with my immediate supervisor about my mental health./indigenous-specified",
          "Question 76. I would feel comfortable sharing concerns with my immediate supervisor about my mental health./indigenous",
          "Question 76. I would feel comfortable sharing concerns with my immediate supervisor about my mental health./ethnicity",
          "Question 76. I would feel comfortable sharing concerns with my immediate supervisor about my mental health./ethnicity",
          "Question 76. I would feel comfortable sharing concerns with my immediate supervisor about my mental health./visible minority",
          "Question 76. I would feel comfortable sharing concerns with my immediate supervisor about my mental health./person with disability",
          "Question 76. I would feel comfortable sharing concerns with my immediate supervisor about my mental health./person with disability-specified",
          "Question 76. I would feel comfortable sharing concerns with my immediate supervisor about my mental health./ethnicity",
          "Question 76. I would feel comfortable sharing concerns with my immediate supervisor about my mental health./ethnicity",
          "Question 76. I would feel comfortable sharing concerns with my immediate supervisor about my mental health./person with disability",
          "Question 76. I would feel comfortable sharing concerns with my immediate supervisor about my mental health./sexuality",
          "Question 76. I would feel comfortable sharing concerns with my immediate supervisor about my mental health./ethnicity",
          "Question 76. I would feel comfortable sharing concerns with my immediate supervisor about my mental health./ethnicity",
          "Question 76. I would feel comfortable sharing concerns with my immediate supervisor about my mental health./visible minority",
          "Question 76. I would feel comfortable sharing concerns with my immediate supervisor about my mental health.",
          "Question 76. I would feel comfortable sharing concerns with my immediate supervisor about my mental health.",
          "Question 76. I would feel comfortable sharing concerns with my immediate supervisor about my mental health.",
          "Question 76. I would feel comfortable sharing concerns with my immediate supervisor about my mental health.",
          "Question 76. I would feel comfortable sharing concerns with my immediate supervisor about my mental health.",
          "Question 76. I would feel comfortable sharing concerns with my immediate supervisor about my mental health.",
          "Question 76. I would feel comfortable sharing concerns with my immediate supervisor about my mental health.",
          "Question 76. I would feel comfortable sharing concerns with my immediate supervisor about my mental health.",
          ""
         ],
         "type": "treemap",
         "values": [
          13.770833333333334,
          16.475,
          13.147058823529411,
          16.555555555555557,
          15.676470588235293,
          16.87878787878788,
          19.387096774193548,
          21.11111111111111,
          18.71875,
          11.038461538461538,
          10.945945945945946,
          9.210526315789474,
          6.297872340425532,
          6.985294117647059,
          5.838709677419355,
          12.7,
          8,
          16.153846153846153,
          6.074626865671642,
          10.918367346938776,
          8.1,
          10.357142857142858,
          11.294117647058824,
          6.897058823529412,
          11.266666666666667,
          7.469387755102041,
          7.827586206896552,
          8.122448979591837,
          6.880597014925373,
          6.584615384615384,
          14.108108108108109,
          13.137931034482758,
          9.659090909090908,
          13.36923076923077,
          11.91044776119403,
          9.884615384615385,
          5.482758620689655,
          8.074626865671641,
          97.11279997320314,
          30.036199095022624,
          18.387755102040817,
          32.06666666666666,
          19.953846153846154,
          165.82877217285426,
          47.96948211127315,
          14.955223880597014,
          426.3107451555038
         ]
        }
       ],
       "layout": {
        "coloraxis": {
         "colorbar": {
          "title": {
           "text": "Strongly disagree"
          }
         },
         "colorscale": [
          [
           0,
           "rgb(247,252,240)"
          ],
          [
           0.125,
           "rgb(224,243,219)"
          ],
          [
           0.25,
           "rgb(204,235,197)"
          ],
          [
           0.375,
           "rgb(168,221,181)"
          ],
          [
           0.5,
           "rgb(123,204,196)"
          ],
          [
           0.625,
           "rgb(78,179,211)"
          ],
          [
           0.75,
           "rgb(43,140,190)"
          ],
          [
           0.875,
           "rgb(8,104,172)"
          ],
          [
           1,
           "rgb(8,64,129)"
          ]
         ]
        },
        "legend": {
         "tracegroupgap": 0
        },
        "margin": {
         "b": 25,
         "l": 25,
         "r": 25,
         "t": 50
        },
        "template": {
         "data": {
          "bar": [
           {
            "error_x": {
             "color": "#2a3f5f"
            },
            "error_y": {
             "color": "#2a3f5f"
            },
            "marker": {
             "line": {
              "color": "#E5ECF6",
              "width": 0.5
             },
             "pattern": {
              "fillmode": "overlay",
              "size": 10,
              "solidity": 0.2
             }
            },
            "type": "bar"
           }
          ],
          "barpolar": [
           {
            "marker": {
             "line": {
              "color": "#E5ECF6",
              "width": 0.5
             },
             "pattern": {
              "fillmode": "overlay",
              "size": 10,
              "solidity": 0.2
             }
            },
            "type": "barpolar"
           }
          ],
          "carpet": [
           {
            "aaxis": {
             "endlinecolor": "#2a3f5f",
             "gridcolor": "white",
             "linecolor": "white",
             "minorgridcolor": "white",
             "startlinecolor": "#2a3f5f"
            },
            "baxis": {
             "endlinecolor": "#2a3f5f",
             "gridcolor": "white",
             "linecolor": "white",
             "minorgridcolor": "white",
             "startlinecolor": "#2a3f5f"
            },
            "type": "carpet"
           }
          ],
          "choropleth": [
           {
            "colorbar": {
             "outlinewidth": 0,
             "ticks": ""
            },
            "type": "choropleth"
           }
          ],
          "contour": [
           {
            "colorbar": {
             "outlinewidth": 0,
             "ticks": ""
            },
            "colorscale": [
             [
              0,
              "#0d0887"
             ],
             [
              0.1111111111111111,
              "#46039f"
             ],
             [
              0.2222222222222222,
              "#7201a8"
             ],
             [
              0.3333333333333333,
              "#9c179e"
             ],
             [
              0.4444444444444444,
              "#bd3786"
             ],
             [
              0.5555555555555556,
              "#d8576b"
             ],
             [
              0.6666666666666666,
              "#ed7953"
             ],
             [
              0.7777777777777778,
              "#fb9f3a"
             ],
             [
              0.8888888888888888,
              "#fdca26"
             ],
             [
              1,
              "#f0f921"
             ]
            ],
            "type": "contour"
           }
          ],
          "contourcarpet": [
           {
            "colorbar": {
             "outlinewidth": 0,
             "ticks": ""
            },
            "type": "contourcarpet"
           }
          ],
          "heatmap": [
           {
            "colorbar": {
             "outlinewidth": 0,
             "ticks": ""
            },
            "colorscale": [
             [
              0,
              "#0d0887"
             ],
             [
              0.1111111111111111,
              "#46039f"
             ],
             [
              0.2222222222222222,
              "#7201a8"
             ],
             [
              0.3333333333333333,
              "#9c179e"
             ],
             [
              0.4444444444444444,
              "#bd3786"
             ],
             [
              0.5555555555555556,
              "#d8576b"
             ],
             [
              0.6666666666666666,
              "#ed7953"
             ],
             [
              0.7777777777777778,
              "#fb9f3a"
             ],
             [
              0.8888888888888888,
              "#fdca26"
             ],
             [
              1,
              "#f0f921"
             ]
            ],
            "type": "heatmap"
           }
          ],
          "heatmapgl": [
           {
            "colorbar": {
             "outlinewidth": 0,
             "ticks": ""
            },
            "colorscale": [
             [
              0,
              "#0d0887"
             ],
             [
              0.1111111111111111,
              "#46039f"
             ],
             [
              0.2222222222222222,
              "#7201a8"
             ],
             [
              0.3333333333333333,
              "#9c179e"
             ],
             [
              0.4444444444444444,
              "#bd3786"
             ],
             [
              0.5555555555555556,
              "#d8576b"
             ],
             [
              0.6666666666666666,
              "#ed7953"
             ],
             [
              0.7777777777777778,
              "#fb9f3a"
             ],
             [
              0.8888888888888888,
              "#fdca26"
             ],
             [
              1,
              "#f0f921"
             ]
            ],
            "type": "heatmapgl"
           }
          ],
          "histogram": [
           {
            "marker": {
             "pattern": {
              "fillmode": "overlay",
              "size": 10,
              "solidity": 0.2
             }
            },
            "type": "histogram"
           }
          ],
          "histogram2d": [
           {
            "colorbar": {
             "outlinewidth": 0,
             "ticks": ""
            },
            "colorscale": [
             [
              0,
              "#0d0887"
             ],
             [
              0.1111111111111111,
              "#46039f"
             ],
             [
              0.2222222222222222,
              "#7201a8"
             ],
             [
              0.3333333333333333,
              "#9c179e"
             ],
             [
              0.4444444444444444,
              "#bd3786"
             ],
             [
              0.5555555555555556,
              "#d8576b"
             ],
             [
              0.6666666666666666,
              "#ed7953"
             ],
             [
              0.7777777777777778,
              "#fb9f3a"
             ],
             [
              0.8888888888888888,
              "#fdca26"
             ],
             [
              1,
              "#f0f921"
             ]
            ],
            "type": "histogram2d"
           }
          ],
          "histogram2dcontour": [
           {
            "colorbar": {
             "outlinewidth": 0,
             "ticks": ""
            },
            "colorscale": [
             [
              0,
              "#0d0887"
             ],
             [
              0.1111111111111111,
              "#46039f"
             ],
             [
              0.2222222222222222,
              "#7201a8"
             ],
             [
              0.3333333333333333,
              "#9c179e"
             ],
             [
              0.4444444444444444,
              "#bd3786"
             ],
             [
              0.5555555555555556,
              "#d8576b"
             ],
             [
              0.6666666666666666,
              "#ed7953"
             ],
             [
              0.7777777777777778,
              "#fb9f3a"
             ],
             [
              0.8888888888888888,
              "#fdca26"
             ],
             [
              1,
              "#f0f921"
             ]
            ],
            "type": "histogram2dcontour"
           }
          ],
          "mesh3d": [
           {
            "colorbar": {
             "outlinewidth": 0,
             "ticks": ""
            },
            "type": "mesh3d"
           }
          ],
          "parcoords": [
           {
            "line": {
             "colorbar": {
              "outlinewidth": 0,
              "ticks": ""
             }
            },
            "type": "parcoords"
           }
          ],
          "pie": [
           {
            "automargin": true,
            "type": "pie"
           }
          ],
          "scatter": [
           {
            "marker": {
             "colorbar": {
              "outlinewidth": 0,
              "ticks": ""
             }
            },
            "type": "scatter"
           }
          ],
          "scatter3d": [
           {
            "line": {
             "colorbar": {
              "outlinewidth": 0,
              "ticks": ""
             }
            },
            "marker": {
             "colorbar": {
              "outlinewidth": 0,
              "ticks": ""
             }
            },
            "type": "scatter3d"
           }
          ],
          "scattercarpet": [
           {
            "marker": {
             "colorbar": {
              "outlinewidth": 0,
              "ticks": ""
             }
            },
            "type": "scattercarpet"
           }
          ],
          "scattergeo": [
           {
            "marker": {
             "colorbar": {
              "outlinewidth": 0,
              "ticks": ""
             }
            },
            "type": "scattergeo"
           }
          ],
          "scattergl": [
           {
            "marker": {
             "colorbar": {
              "outlinewidth": 0,
              "ticks": ""
             }
            },
            "type": "scattergl"
           }
          ],
          "scattermapbox": [
           {
            "marker": {
             "colorbar": {
              "outlinewidth": 0,
              "ticks": ""
             }
            },
            "type": "scattermapbox"
           }
          ],
          "scatterpolar": [
           {
            "marker": {
             "colorbar": {
              "outlinewidth": 0,
              "ticks": ""
             }
            },
            "type": "scatterpolar"
           }
          ],
          "scatterpolargl": [
           {
            "marker": {
             "colorbar": {
              "outlinewidth": 0,
              "ticks": ""
             }
            },
            "type": "scatterpolargl"
           }
          ],
          "scatterternary": [
           {
            "marker": {
             "colorbar": {
              "outlinewidth": 0,
              "ticks": ""
             }
            },
            "type": "scatterternary"
           }
          ],
          "surface": [
           {
            "colorbar": {
             "outlinewidth": 0,
             "ticks": ""
            },
            "colorscale": [
             [
              0,
              "#0d0887"
             ],
             [
              0.1111111111111111,
              "#46039f"
             ],
             [
              0.2222222222222222,
              "#7201a8"
             ],
             [
              0.3333333333333333,
              "#9c179e"
             ],
             [
              0.4444444444444444,
              "#bd3786"
             ],
             [
              0.5555555555555556,
              "#d8576b"
             ],
             [
              0.6666666666666666,
              "#ed7953"
             ],
             [
              0.7777777777777778,
              "#fb9f3a"
             ],
             [
              0.8888888888888888,
              "#fdca26"
             ],
             [
              1,
              "#f0f921"
             ]
            ],
            "type": "surface"
           }
          ],
          "table": [
           {
            "cells": {
             "fill": {
              "color": "#EBF0F8"
             },
             "line": {
              "color": "white"
             }
            },
            "header": {
             "fill": {
              "color": "#C8D4E3"
             },
             "line": {
              "color": "white"
             }
            },
            "type": "table"
           }
          ]
         },
         "layout": {
          "annotationdefaults": {
           "arrowcolor": "#2a3f5f",
           "arrowhead": 0,
           "arrowwidth": 1
          },
          "autotypenumbers": "strict",
          "coloraxis": {
           "colorbar": {
            "outlinewidth": 0,
            "ticks": ""
           }
          },
          "colorscale": {
           "diverging": [
            [
             0,
             "#8e0152"
            ],
            [
             0.1,
             "#c51b7d"
            ],
            [
             0.2,
             "#de77ae"
            ],
            [
             0.3,
             "#f1b6da"
            ],
            [
             0.4,
             "#fde0ef"
            ],
            [
             0.5,
             "#f7f7f7"
            ],
            [
             0.6,
             "#e6f5d0"
            ],
            [
             0.7,
             "#b8e186"
            ],
            [
             0.8,
             "#7fbc41"
            ],
            [
             0.9,
             "#4d9221"
            ],
            [
             1,
             "#276419"
            ]
           ],
           "sequential": [
            [
             0,
             "#0d0887"
            ],
            [
             0.1111111111111111,
             "#46039f"
            ],
            [
             0.2222222222222222,
             "#7201a8"
            ],
            [
             0.3333333333333333,
             "#9c179e"
            ],
            [
             0.4444444444444444,
             "#bd3786"
            ],
            [
             0.5555555555555556,
             "#d8576b"
            ],
            [
             0.6666666666666666,
             "#ed7953"
            ],
            [
             0.7777777777777778,
             "#fb9f3a"
            ],
            [
             0.8888888888888888,
             "#fdca26"
            ],
            [
             1,
             "#f0f921"
            ]
           ],
           "sequentialminus": [
            [
             0,
             "#0d0887"
            ],
            [
             0.1111111111111111,
             "#46039f"
            ],
            [
             0.2222222222222222,
             "#7201a8"
            ],
            [
             0.3333333333333333,
             "#9c179e"
            ],
            [
             0.4444444444444444,
             "#bd3786"
            ],
            [
             0.5555555555555556,
             "#d8576b"
            ],
            [
             0.6666666666666666,
             "#ed7953"
            ],
            [
             0.7777777777777778,
             "#fb9f3a"
            ],
            [
             0.8888888888888888,
             "#fdca26"
            ],
            [
             1,
             "#f0f921"
            ]
           ]
          },
          "colorway": [
           "#636efa",
           "#EF553B",
           "#00cc96",
           "#ab63fa",
           "#FFA15A",
           "#19d3f3",
           "#FF6692",
           "#B6E880",
           "#FF97FF",
           "#FECB52"
          ],
          "font": {
           "color": "#2a3f5f"
          },
          "geo": {
           "bgcolor": "white",
           "lakecolor": "white",
           "landcolor": "#E5ECF6",
           "showlakes": true,
           "showland": true,
           "subunitcolor": "white"
          },
          "hoverlabel": {
           "align": "left"
          },
          "hovermode": "closest",
          "mapbox": {
           "style": "light"
          },
          "paper_bgcolor": "white",
          "plot_bgcolor": "#E5ECF6",
          "polar": {
           "angularaxis": {
            "gridcolor": "white",
            "linecolor": "white",
            "ticks": ""
           },
           "bgcolor": "#E5ECF6",
           "radialaxis": {
            "gridcolor": "white",
            "linecolor": "white",
            "ticks": ""
           }
          },
          "scene": {
           "xaxis": {
            "backgroundcolor": "#E5ECF6",
            "gridcolor": "white",
            "gridwidth": 2,
            "linecolor": "white",
            "showbackground": true,
            "ticks": "",
            "zerolinecolor": "white"
           },
           "yaxis": {
            "backgroundcolor": "#E5ECF6",
            "gridcolor": "white",
            "gridwidth": 2,
            "linecolor": "white",
            "showbackground": true,
            "ticks": "",
            "zerolinecolor": "white"
           },
           "zaxis": {
            "backgroundcolor": "#E5ECF6",
            "gridcolor": "white",
            "gridwidth": 2,
            "linecolor": "white",
            "showbackground": true,
            "ticks": "",
            "zerolinecolor": "white"
           }
          },
          "shapedefaults": {
           "line": {
            "color": "#2a3f5f"
           }
          },
          "ternary": {
           "aaxis": {
            "gridcolor": "white",
            "linecolor": "white",
            "ticks": ""
           },
           "baxis": {
            "gridcolor": "white",
            "linecolor": "white",
            "ticks": ""
           },
           "bgcolor": "#E5ECF6",
           "caxis": {
            "gridcolor": "white",
            "linecolor": "white",
            "ticks": ""
           }
          },
          "title": {
           "x": 0.05
          },
          "xaxis": {
           "automargin": true,
           "gridcolor": "white",
           "linecolor": "white",
           "ticks": "",
           "title": {
            "standoff": 15
           },
           "zerolinecolor": "white",
           "zerolinewidth": 2
          },
          "yaxis": {
           "automargin": true,
           "gridcolor": "white",
           "linecolor": "white",
           "ticks": "",
           "title": {
            "standoff": 15
           },
           "zerolinecolor": "white",
           "zerolinewidth": 2
          }
         }
        }
       }
      }
     },
     "metadata": {},
     "output_type": "display_data"
    }
   ],
   "source": [
    "# Number of questions by Indicatior and SubIndicator\n",
    "\n",
    "fig = px.treemap(df_tree_map, path=[px.Constant(df_emp_survey.query(\"QUESTION == 'Q76'\")['TITLE_E'].iloc[0]), \n",
    "                                    'GENERAL_DEMO_GROUP', 'DESCRIP_E'], values=df_tree_map.columns[-1], color=df_tree_map.columns[-1]\n",
    "                                    ,color_continuous_scale='GnBu')\n",
    "fig.update_layout(margin = dict(t=50, l=25, r=25, b=25))\n",
    "fig.show()"
   ]
  },
  {
   "cell_type": "markdown",
   "metadata": {},
   "source": [
    "### Question 23. In my work unit, I would feel free to speak about racism in the workplace without fear of reprisal.\n"
   ]
  },
  {
   "cell_type": "code",
   "execution_count": 51,
   "metadata": {},
   "outputs": [
    {
     "name": "stdout",
     "output_type": "stream",
     "text": [
      "Question 23. In my work unit, I would feel free to speak about racism in the workplace without fear of reprisal.\n"
     ]
    }
   ],
   "source": [
    "# show the above distribution for Each demographic group, with the question asked. and their responses\n",
    "print(df_emp_survey.query(\"QUESTION == 'Q23'\")['TITLE_E'].iloc[0])\n",
    "df_tree_map = df_emp_survey.query(\"QUESTION == 'Q23'\").groupby(['SELECTED','GENERAL_DEMO_GROUP','DESCRIP_E'])['ANSWER5'].mean().reset_index()\n",
    "df_tree_map = df_tree_map.query(\"SELECTED == 'selected' and GENERAL_DEMO_GROUP == 'ethnicity'\")\n",
    "df_tree_map.rename(columns={'ANSWER5': 'Strongly disagree'}, inplace=True)"
   ]
  },
  {
   "cell_type": "code",
   "execution_count": 52,
   "metadata": {},
   "outputs": [
    {
     "data": {
      "application/vnd.plotly.v1+json": {
       "config": {
        "plotlyServerURL": "https://plot.ly"
       },
       "data": [
        {
         "branchvalues": "total",
         "customdata": [
          [
           13
          ],
          [
           4.702127659574468
          ],
          [
           3.806451612903226
          ],
          [
           6.071428571428571
          ],
          [
           3.2941176470588234
          ],
          [
           6.3
          ],
          [
           7.020408163265305
          ],
          [
           11.793103448275861
          ],
          [
           6.795454545454546
          ],
          [
           10.01923076923077
          ],
          [
           4.275862068965517
          ],
          [
           8.383852610524642
          ],
          [
           8.383852610524642
          ]
         ],
         "domain": {
          "x": [
           0,
           1
          ],
          "y": [
           0,
           1
          ]
         },
         "hovertemplate": "labels=%{label}<br>Strongly disagree_sum=%{value}<br>parent=%{parent}<br>id=%{id}<br>Strongly disagree=%{color}<extra></extra>",
         "ids": [
          "Question 23. In my work unit, I would feel free to speak about racism in the workplace without fear of reprisal./ethnicity/Black",
          "Question 23. In my work unit, I would feel free to speak about racism in the workplace without fear of reprisal./ethnicity/Chinese",
          "Question 23. In my work unit, I would feel free to speak about racism in the workplace without fear of reprisal./ethnicity/Filipino",
          "Question 23. In my work unit, I would feel free to speak about racism in the workplace without fear of reprisal./ethnicity/Japanese",
          "Question 23. In my work unit, I would feel free to speak about racism in the workplace without fear of reprisal./ethnicity/Korean",
          "Question 23. In my work unit, I would feel free to speak about racism in the workplace without fear of reprisal./ethnicity/Non-White Latin American (including: Indigenous persons from Central and South America, etc.)",
          "Question 23. In my work unit, I would feel free to speak about racism in the workplace without fear of reprisal./ethnicity/Non-White West Asian, North African or Arab (including: Egyptian; Libyan; Lebanese; Iranian; etc.)",
          "Question 23. In my work unit, I would feel free to speak about racism in the workplace without fear of reprisal./ethnicity/Other visible minority group",
          "Question 23. In my work unit, I would feel free to speak about racism in the workplace without fear of reprisal./ethnicity/Person of mixed origin (with one parent in one of the visible minority groups)",
          "Question 23. In my work unit, I would feel free to speak about racism in the workplace without fear of reprisal./ethnicity/South Asian/East Indian (including: Indian from India; Bangladeshi; Pakistani; East Indian from Guyana, Trinidad, East Africa; etc.)",
          "Question 23. In my work unit, I would feel free to speak about racism in the workplace without fear of reprisal./ethnicity/Southeast Asian (including: Burmese; Cambodian; Laotian; Thai; Vietnamese; etc.)",
          "Question 23. In my work unit, I would feel free to speak about racism in the workplace without fear of reprisal./ethnicity",
          "Question 23. In my work unit, I would feel free to speak about racism in the workplace without fear of reprisal."
         ],
         "labels": [
          "Black",
          "Chinese",
          "Filipino",
          "Japanese",
          "Korean",
          "Non-White Latin American (including: Indigenous persons from Central and South America, etc.)",
          "Non-White West Asian, North African or Arab (including: Egyptian; Libyan; Lebanese; Iranian; etc.)",
          "Other visible minority group",
          "Person of mixed origin (with one parent in one of the visible minority groups)",
          "South Asian/East Indian (including: Indian from India; Bangladeshi; Pakistani; East Indian from Guyana, Trinidad, East Africa; etc.)",
          "Southeast Asian (including: Burmese; Cambodian; Laotian; Thai; Vietnamese; etc.)",
          "ethnicity",
          "Question 23. In my work unit, I would feel free to speak about racism in the workplace without fear of reprisal."
         ],
         "marker": {
          "coloraxis": "coloraxis",
          "colors": [
           13,
           4.702127659574468,
           3.806451612903226,
           6.071428571428571,
           3.2941176470588234,
           6.3,
           7.020408163265305,
           11.793103448275861,
           6.795454545454546,
           10.01923076923077,
           4.275862068965517,
           8.383852610524642,
           8.383852610524642
          ]
         },
         "name": "",
         "parents": [
          "Question 23. In my work unit, I would feel free to speak about racism in the workplace without fear of reprisal./ethnicity",
          "Question 23. In my work unit, I would feel free to speak about racism in the workplace without fear of reprisal./ethnicity",
          "Question 23. In my work unit, I would feel free to speak about racism in the workplace without fear of reprisal./ethnicity",
          "Question 23. In my work unit, I would feel free to speak about racism in the workplace without fear of reprisal./ethnicity",
          "Question 23. In my work unit, I would feel free to speak about racism in the workplace without fear of reprisal./ethnicity",
          "Question 23. In my work unit, I would feel free to speak about racism in the workplace without fear of reprisal./ethnicity",
          "Question 23. In my work unit, I would feel free to speak about racism in the workplace without fear of reprisal./ethnicity",
          "Question 23. In my work unit, I would feel free to speak about racism in the workplace without fear of reprisal./ethnicity",
          "Question 23. In my work unit, I would feel free to speak about racism in the workplace without fear of reprisal./ethnicity",
          "Question 23. In my work unit, I would feel free to speak about racism in the workplace without fear of reprisal./ethnicity",
          "Question 23. In my work unit, I would feel free to speak about racism in the workplace without fear of reprisal./ethnicity",
          "Question 23. In my work unit, I would feel free to speak about racism in the workplace without fear of reprisal.",
          ""
         ],
         "type": "treemap",
         "values": [
          13,
          4.702127659574468,
          3.806451612903226,
          6.071428571428571,
          3.2941176470588234,
          6.3,
          7.020408163265306,
          11.793103448275861,
          6.795454545454546,
          10.01923076923077,
          4.275862068965517,
          77.07818448615708,
          77.07818448615708
         ]
        }
       ],
       "layout": {
        "coloraxis": {
         "colorbar": {
          "title": {
           "text": "Strongly disagree"
          }
         },
         "colorscale": [
          [
           0,
           "rgb(247,252,240)"
          ],
          [
           0.125,
           "rgb(224,243,219)"
          ],
          [
           0.25,
           "rgb(204,235,197)"
          ],
          [
           0.375,
           "rgb(168,221,181)"
          ],
          [
           0.5,
           "rgb(123,204,196)"
          ],
          [
           0.625,
           "rgb(78,179,211)"
          ],
          [
           0.75,
           "rgb(43,140,190)"
          ],
          [
           0.875,
           "rgb(8,104,172)"
          ],
          [
           1,
           "rgb(8,64,129)"
          ]
         ]
        },
        "legend": {
         "tracegroupgap": 0
        },
        "margin": {
         "b": 25,
         "l": 25,
         "r": 25,
         "t": 50
        },
        "template": {
         "data": {
          "bar": [
           {
            "error_x": {
             "color": "#2a3f5f"
            },
            "error_y": {
             "color": "#2a3f5f"
            },
            "marker": {
             "line": {
              "color": "#E5ECF6",
              "width": 0.5
             },
             "pattern": {
              "fillmode": "overlay",
              "size": 10,
              "solidity": 0.2
             }
            },
            "type": "bar"
           }
          ],
          "barpolar": [
           {
            "marker": {
             "line": {
              "color": "#E5ECF6",
              "width": 0.5
             },
             "pattern": {
              "fillmode": "overlay",
              "size": 10,
              "solidity": 0.2
             }
            },
            "type": "barpolar"
           }
          ],
          "carpet": [
           {
            "aaxis": {
             "endlinecolor": "#2a3f5f",
             "gridcolor": "white",
             "linecolor": "white",
             "minorgridcolor": "white",
             "startlinecolor": "#2a3f5f"
            },
            "baxis": {
             "endlinecolor": "#2a3f5f",
             "gridcolor": "white",
             "linecolor": "white",
             "minorgridcolor": "white",
             "startlinecolor": "#2a3f5f"
            },
            "type": "carpet"
           }
          ],
          "choropleth": [
           {
            "colorbar": {
             "outlinewidth": 0,
             "ticks": ""
            },
            "type": "choropleth"
           }
          ],
          "contour": [
           {
            "colorbar": {
             "outlinewidth": 0,
             "ticks": ""
            },
            "colorscale": [
             [
              0,
              "#0d0887"
             ],
             [
              0.1111111111111111,
              "#46039f"
             ],
             [
              0.2222222222222222,
              "#7201a8"
             ],
             [
              0.3333333333333333,
              "#9c179e"
             ],
             [
              0.4444444444444444,
              "#bd3786"
             ],
             [
              0.5555555555555556,
              "#d8576b"
             ],
             [
              0.6666666666666666,
              "#ed7953"
             ],
             [
              0.7777777777777778,
              "#fb9f3a"
             ],
             [
              0.8888888888888888,
              "#fdca26"
             ],
             [
              1,
              "#f0f921"
             ]
            ],
            "type": "contour"
           }
          ],
          "contourcarpet": [
           {
            "colorbar": {
             "outlinewidth": 0,
             "ticks": ""
            },
            "type": "contourcarpet"
           }
          ],
          "heatmap": [
           {
            "colorbar": {
             "outlinewidth": 0,
             "ticks": ""
            },
            "colorscale": [
             [
              0,
              "#0d0887"
             ],
             [
              0.1111111111111111,
              "#46039f"
             ],
             [
              0.2222222222222222,
              "#7201a8"
             ],
             [
              0.3333333333333333,
              "#9c179e"
             ],
             [
              0.4444444444444444,
              "#bd3786"
             ],
             [
              0.5555555555555556,
              "#d8576b"
             ],
             [
              0.6666666666666666,
              "#ed7953"
             ],
             [
              0.7777777777777778,
              "#fb9f3a"
             ],
             [
              0.8888888888888888,
              "#fdca26"
             ],
             [
              1,
              "#f0f921"
             ]
            ],
            "type": "heatmap"
           }
          ],
          "heatmapgl": [
           {
            "colorbar": {
             "outlinewidth": 0,
             "ticks": ""
            },
            "colorscale": [
             [
              0,
              "#0d0887"
             ],
             [
              0.1111111111111111,
              "#46039f"
             ],
             [
              0.2222222222222222,
              "#7201a8"
             ],
             [
              0.3333333333333333,
              "#9c179e"
             ],
             [
              0.4444444444444444,
              "#bd3786"
             ],
             [
              0.5555555555555556,
              "#d8576b"
             ],
             [
              0.6666666666666666,
              "#ed7953"
             ],
             [
              0.7777777777777778,
              "#fb9f3a"
             ],
             [
              0.8888888888888888,
              "#fdca26"
             ],
             [
              1,
              "#f0f921"
             ]
            ],
            "type": "heatmapgl"
           }
          ],
          "histogram": [
           {
            "marker": {
             "pattern": {
              "fillmode": "overlay",
              "size": 10,
              "solidity": 0.2
             }
            },
            "type": "histogram"
           }
          ],
          "histogram2d": [
           {
            "colorbar": {
             "outlinewidth": 0,
             "ticks": ""
            },
            "colorscale": [
             [
              0,
              "#0d0887"
             ],
             [
              0.1111111111111111,
              "#46039f"
             ],
             [
              0.2222222222222222,
              "#7201a8"
             ],
             [
              0.3333333333333333,
              "#9c179e"
             ],
             [
              0.4444444444444444,
              "#bd3786"
             ],
             [
              0.5555555555555556,
              "#d8576b"
             ],
             [
              0.6666666666666666,
              "#ed7953"
             ],
             [
              0.7777777777777778,
              "#fb9f3a"
             ],
             [
              0.8888888888888888,
              "#fdca26"
             ],
             [
              1,
              "#f0f921"
             ]
            ],
            "type": "histogram2d"
           }
          ],
          "histogram2dcontour": [
           {
            "colorbar": {
             "outlinewidth": 0,
             "ticks": ""
            },
            "colorscale": [
             [
              0,
              "#0d0887"
             ],
             [
              0.1111111111111111,
              "#46039f"
             ],
             [
              0.2222222222222222,
              "#7201a8"
             ],
             [
              0.3333333333333333,
              "#9c179e"
             ],
             [
              0.4444444444444444,
              "#bd3786"
             ],
             [
              0.5555555555555556,
              "#d8576b"
             ],
             [
              0.6666666666666666,
              "#ed7953"
             ],
             [
              0.7777777777777778,
              "#fb9f3a"
             ],
             [
              0.8888888888888888,
              "#fdca26"
             ],
             [
              1,
              "#f0f921"
             ]
            ],
            "type": "histogram2dcontour"
           }
          ],
          "mesh3d": [
           {
            "colorbar": {
             "outlinewidth": 0,
             "ticks": ""
            },
            "type": "mesh3d"
           }
          ],
          "parcoords": [
           {
            "line": {
             "colorbar": {
              "outlinewidth": 0,
              "ticks": ""
             }
            },
            "type": "parcoords"
           }
          ],
          "pie": [
           {
            "automargin": true,
            "type": "pie"
           }
          ],
          "scatter": [
           {
            "marker": {
             "colorbar": {
              "outlinewidth": 0,
              "ticks": ""
             }
            },
            "type": "scatter"
           }
          ],
          "scatter3d": [
           {
            "line": {
             "colorbar": {
              "outlinewidth": 0,
              "ticks": ""
             }
            },
            "marker": {
             "colorbar": {
              "outlinewidth": 0,
              "ticks": ""
             }
            },
            "type": "scatter3d"
           }
          ],
          "scattercarpet": [
           {
            "marker": {
             "colorbar": {
              "outlinewidth": 0,
              "ticks": ""
             }
            },
            "type": "scattercarpet"
           }
          ],
          "scattergeo": [
           {
            "marker": {
             "colorbar": {
              "outlinewidth": 0,
              "ticks": ""
             }
            },
            "type": "scattergeo"
           }
          ],
          "scattergl": [
           {
            "marker": {
             "colorbar": {
              "outlinewidth": 0,
              "ticks": ""
             }
            },
            "type": "scattergl"
           }
          ],
          "scattermapbox": [
           {
            "marker": {
             "colorbar": {
              "outlinewidth": 0,
              "ticks": ""
             }
            },
            "type": "scattermapbox"
           }
          ],
          "scatterpolar": [
           {
            "marker": {
             "colorbar": {
              "outlinewidth": 0,
              "ticks": ""
             }
            },
            "type": "scatterpolar"
           }
          ],
          "scatterpolargl": [
           {
            "marker": {
             "colorbar": {
              "outlinewidth": 0,
              "ticks": ""
             }
            },
            "type": "scatterpolargl"
           }
          ],
          "scatterternary": [
           {
            "marker": {
             "colorbar": {
              "outlinewidth": 0,
              "ticks": ""
             }
            },
            "type": "scatterternary"
           }
          ],
          "surface": [
           {
            "colorbar": {
             "outlinewidth": 0,
             "ticks": ""
            },
            "colorscale": [
             [
              0,
              "#0d0887"
             ],
             [
              0.1111111111111111,
              "#46039f"
             ],
             [
              0.2222222222222222,
              "#7201a8"
             ],
             [
              0.3333333333333333,
              "#9c179e"
             ],
             [
              0.4444444444444444,
              "#bd3786"
             ],
             [
              0.5555555555555556,
              "#d8576b"
             ],
             [
              0.6666666666666666,
              "#ed7953"
             ],
             [
              0.7777777777777778,
              "#fb9f3a"
             ],
             [
              0.8888888888888888,
              "#fdca26"
             ],
             [
              1,
              "#f0f921"
             ]
            ],
            "type": "surface"
           }
          ],
          "table": [
           {
            "cells": {
             "fill": {
              "color": "#EBF0F8"
             },
             "line": {
              "color": "white"
             }
            },
            "header": {
             "fill": {
              "color": "#C8D4E3"
             },
             "line": {
              "color": "white"
             }
            },
            "type": "table"
           }
          ]
         },
         "layout": {
          "annotationdefaults": {
           "arrowcolor": "#2a3f5f",
           "arrowhead": 0,
           "arrowwidth": 1
          },
          "autotypenumbers": "strict",
          "coloraxis": {
           "colorbar": {
            "outlinewidth": 0,
            "ticks": ""
           }
          },
          "colorscale": {
           "diverging": [
            [
             0,
             "#8e0152"
            ],
            [
             0.1,
             "#c51b7d"
            ],
            [
             0.2,
             "#de77ae"
            ],
            [
             0.3,
             "#f1b6da"
            ],
            [
             0.4,
             "#fde0ef"
            ],
            [
             0.5,
             "#f7f7f7"
            ],
            [
             0.6,
             "#e6f5d0"
            ],
            [
             0.7,
             "#b8e186"
            ],
            [
             0.8,
             "#7fbc41"
            ],
            [
             0.9,
             "#4d9221"
            ],
            [
             1,
             "#276419"
            ]
           ],
           "sequential": [
            [
             0,
             "#0d0887"
            ],
            [
             0.1111111111111111,
             "#46039f"
            ],
            [
             0.2222222222222222,
             "#7201a8"
            ],
            [
             0.3333333333333333,
             "#9c179e"
            ],
            [
             0.4444444444444444,
             "#bd3786"
            ],
            [
             0.5555555555555556,
             "#d8576b"
            ],
            [
             0.6666666666666666,
             "#ed7953"
            ],
            [
             0.7777777777777778,
             "#fb9f3a"
            ],
            [
             0.8888888888888888,
             "#fdca26"
            ],
            [
             1,
             "#f0f921"
            ]
           ],
           "sequentialminus": [
            [
             0,
             "#0d0887"
            ],
            [
             0.1111111111111111,
             "#46039f"
            ],
            [
             0.2222222222222222,
             "#7201a8"
            ],
            [
             0.3333333333333333,
             "#9c179e"
            ],
            [
             0.4444444444444444,
             "#bd3786"
            ],
            [
             0.5555555555555556,
             "#d8576b"
            ],
            [
             0.6666666666666666,
             "#ed7953"
            ],
            [
             0.7777777777777778,
             "#fb9f3a"
            ],
            [
             0.8888888888888888,
             "#fdca26"
            ],
            [
             1,
             "#f0f921"
            ]
           ]
          },
          "colorway": [
           "#636efa",
           "#EF553B",
           "#00cc96",
           "#ab63fa",
           "#FFA15A",
           "#19d3f3",
           "#FF6692",
           "#B6E880",
           "#FF97FF",
           "#FECB52"
          ],
          "font": {
           "color": "#2a3f5f"
          },
          "geo": {
           "bgcolor": "white",
           "lakecolor": "white",
           "landcolor": "#E5ECF6",
           "showlakes": true,
           "showland": true,
           "subunitcolor": "white"
          },
          "hoverlabel": {
           "align": "left"
          },
          "hovermode": "closest",
          "mapbox": {
           "style": "light"
          },
          "paper_bgcolor": "white",
          "plot_bgcolor": "#E5ECF6",
          "polar": {
           "angularaxis": {
            "gridcolor": "white",
            "linecolor": "white",
            "ticks": ""
           },
           "bgcolor": "#E5ECF6",
           "radialaxis": {
            "gridcolor": "white",
            "linecolor": "white",
            "ticks": ""
           }
          },
          "scene": {
           "xaxis": {
            "backgroundcolor": "#E5ECF6",
            "gridcolor": "white",
            "gridwidth": 2,
            "linecolor": "white",
            "showbackground": true,
            "ticks": "",
            "zerolinecolor": "white"
           },
           "yaxis": {
            "backgroundcolor": "#E5ECF6",
            "gridcolor": "white",
            "gridwidth": 2,
            "linecolor": "white",
            "showbackground": true,
            "ticks": "",
            "zerolinecolor": "white"
           },
           "zaxis": {
            "backgroundcolor": "#E5ECF6",
            "gridcolor": "white",
            "gridwidth": 2,
            "linecolor": "white",
            "showbackground": true,
            "ticks": "",
            "zerolinecolor": "white"
           }
          },
          "shapedefaults": {
           "line": {
            "color": "#2a3f5f"
           }
          },
          "ternary": {
           "aaxis": {
            "gridcolor": "white",
            "linecolor": "white",
            "ticks": ""
           },
           "baxis": {
            "gridcolor": "white",
            "linecolor": "white",
            "ticks": ""
           },
           "bgcolor": "#E5ECF6",
           "caxis": {
            "gridcolor": "white",
            "linecolor": "white",
            "ticks": ""
           }
          },
          "title": {
           "x": 0.05
          },
          "xaxis": {
           "automargin": true,
           "gridcolor": "white",
           "linecolor": "white",
           "ticks": "",
           "title": {
            "standoff": 15
           },
           "zerolinecolor": "white",
           "zerolinewidth": 2
          },
          "yaxis": {
           "automargin": true,
           "gridcolor": "white",
           "linecolor": "white",
           "ticks": "",
           "title": {
            "standoff": 15
           },
           "zerolinecolor": "white",
           "zerolinewidth": 2
          }
         }
        }
       }
      }
     },
     "metadata": {},
     "output_type": "display_data"
    }
   ],
   "source": [
    "# Number of questions by Indicatior and SubIndicator\n",
    "\n",
    "fig = px.treemap(df_tree_map, path=[px.Constant(df_emp_survey.query(\"QUESTION == 'Q23'\")['TITLE_E'].iloc[0]), \n",
    "                                    'GENERAL_DEMO_GROUP', 'DESCRIP_E'], values=df_tree_map.columns[-1], color=df_tree_map.columns[-1]\n",
    "                                    ,color_continuous_scale='GnBu')\n",
    "fig.update_layout(margin = dict(t=50, l=25, r=25, b=25))\n",
    "fig.show()"
   ]
  },
  {
   "cell_type": "markdown",
   "metadata": {},
   "source": [
    "### Question 47. My department or agency implements initiatives that promote anti-racism in the workplace.\n"
   ]
  },
  {
   "cell_type": "code",
   "execution_count": 53,
   "metadata": {},
   "outputs": [
    {
     "name": "stdout",
     "output_type": "stream",
     "text": [
      "Question 47. My department or agency implements initiatives that promote anti-racism in the workplace.\n"
     ]
    }
   ],
   "source": [
    "# show the above distribution for Each demographic group, with the question asked. and their responses\n",
    "print(df_emp_survey.query(\"QUESTION == 'Q47'\")['TITLE_E'].iloc[0])\n",
    "df_tree_map = df_emp_survey.query(\"QUESTION == 'Q47'\").groupby(['SELECTED','GENERAL_DEMO_GROUP','DESCRIP_E'])['ANSWER5'].mean().reset_index()\n",
    "df_tree_map = df_tree_map.query(\"SELECTED == 'selected' and GENERAL_DEMO_GROUP == 'ethnicity'\")\n",
    "df_tree_map.rename(columns={'ANSWER5': 'Strongly disagree'}, inplace=True)"
   ]
  },
  {
   "cell_type": "code",
   "execution_count": 54,
   "metadata": {},
   "outputs": [
    {
     "data": {
      "application/vnd.plotly.v1+json": {
       "config": {
        "plotlyServerURL": "https://plot.ly"
       },
       "data": [
        {
         "branchvalues": "total",
         "customdata": [
          [
           11.175438596491228
          ],
          [
           3.1914893617021276
          ],
          [
           2.225806451612903
          ],
          [
           8.285714285714286
          ],
          [
           3
          ],
          [
           4.6
          ],
          [
           5.061224489795919
          ],
          [
           8.413793103448276
          ],
          [
           5.4772727272727275
          ],
          [
           7.480769230769231
          ],
          [
           2.6551724137931036
          ],
          [
           6.956093397318193
          ],
          [
           6.956093397318193
          ]
         ],
         "domain": {
          "x": [
           0,
           1
          ],
          "y": [
           0,
           1
          ]
         },
         "hovertemplate": "labels=%{label}<br>Strongly disagree_sum=%{value}<br>parent=%{parent}<br>id=%{id}<br>Strongly disagree=%{color}<extra></extra>",
         "ids": [
          "Question 47. My department or agency implements initiatives that promote anti-racism in the workplace./ethnicity/Black",
          "Question 47. My department or agency implements initiatives that promote anti-racism in the workplace./ethnicity/Chinese",
          "Question 47. My department or agency implements initiatives that promote anti-racism in the workplace./ethnicity/Filipino",
          "Question 47. My department or agency implements initiatives that promote anti-racism in the workplace./ethnicity/Japanese",
          "Question 47. My department or agency implements initiatives that promote anti-racism in the workplace./ethnicity/Korean",
          "Question 47. My department or agency implements initiatives that promote anti-racism in the workplace./ethnicity/Non-White Latin American (including: Indigenous persons from Central and South America, etc.)",
          "Question 47. My department or agency implements initiatives that promote anti-racism in the workplace./ethnicity/Non-White West Asian, North African or Arab (including: Egyptian; Libyan; Lebanese; Iranian; etc.)",
          "Question 47. My department or agency implements initiatives that promote anti-racism in the workplace./ethnicity/Other visible minority group",
          "Question 47. My department or agency implements initiatives that promote anti-racism in the workplace./ethnicity/Person of mixed origin (with one parent in one of the visible minority groups)",
          "Question 47. My department or agency implements initiatives that promote anti-racism in the workplace./ethnicity/South Asian/East Indian (including: Indian from India; Bangladeshi; Pakistani; East Indian from Guyana, Trinidad, East Africa; etc.)",
          "Question 47. My department or agency implements initiatives that promote anti-racism in the workplace./ethnicity/Southeast Asian (including: Burmese; Cambodian; Laotian; Thai; Vietnamese; etc.)",
          "Question 47. My department or agency implements initiatives that promote anti-racism in the workplace./ethnicity",
          "Question 47. My department or agency implements initiatives that promote anti-racism in the workplace."
         ],
         "labels": [
          "Black",
          "Chinese",
          "Filipino",
          "Japanese",
          "Korean",
          "Non-White Latin American (including: Indigenous persons from Central and South America, etc.)",
          "Non-White West Asian, North African or Arab (including: Egyptian; Libyan; Lebanese; Iranian; etc.)",
          "Other visible minority group",
          "Person of mixed origin (with one parent in one of the visible minority groups)",
          "South Asian/East Indian (including: Indian from India; Bangladeshi; Pakistani; East Indian from Guyana, Trinidad, East Africa; etc.)",
          "Southeast Asian (including: Burmese; Cambodian; Laotian; Thai; Vietnamese; etc.)",
          "ethnicity",
          "Question 47. My department or agency implements initiatives that promote anti-racism in the workplace."
         ],
         "marker": {
          "coloraxis": "coloraxis",
          "colors": [
           11.175438596491228,
           3.1914893617021276,
           2.225806451612903,
           8.285714285714286,
           3,
           4.6,
           5.061224489795919,
           8.413793103448276,
           5.4772727272727275,
           7.480769230769231,
           2.6551724137931036,
           6.956093397318193,
           6.956093397318193
          ]
         },
         "name": "",
         "parents": [
          "Question 47. My department or agency implements initiatives that promote anti-racism in the workplace./ethnicity",
          "Question 47. My department or agency implements initiatives that promote anti-racism in the workplace./ethnicity",
          "Question 47. My department or agency implements initiatives that promote anti-racism in the workplace./ethnicity",
          "Question 47. My department or agency implements initiatives that promote anti-racism in the workplace./ethnicity",
          "Question 47. My department or agency implements initiatives that promote anti-racism in the workplace./ethnicity",
          "Question 47. My department or agency implements initiatives that promote anti-racism in the workplace./ethnicity",
          "Question 47. My department or agency implements initiatives that promote anti-racism in the workplace./ethnicity",
          "Question 47. My department or agency implements initiatives that promote anti-racism in the workplace./ethnicity",
          "Question 47. My department or agency implements initiatives that promote anti-racism in the workplace./ethnicity",
          "Question 47. My department or agency implements initiatives that promote anti-racism in the workplace./ethnicity",
          "Question 47. My department or agency implements initiatives that promote anti-racism in the workplace./ethnicity",
          "Question 47. My department or agency implements initiatives that promote anti-racism in the workplace.",
          ""
         ],
         "type": "treemap",
         "values": [
          11.175438596491228,
          3.1914893617021276,
          2.225806451612903,
          8.285714285714286,
          3,
          4.6,
          5.061224489795919,
          8.413793103448276,
          5.4772727272727275,
          7.480769230769231,
          2.6551724137931036,
          61.5666806605998,
          61.5666806605998
         ]
        }
       ],
       "layout": {
        "coloraxis": {
         "colorbar": {
          "title": {
           "text": "Strongly disagree"
          }
         },
         "colorscale": [
          [
           0,
           "rgb(247,252,240)"
          ],
          [
           0.125,
           "rgb(224,243,219)"
          ],
          [
           0.25,
           "rgb(204,235,197)"
          ],
          [
           0.375,
           "rgb(168,221,181)"
          ],
          [
           0.5,
           "rgb(123,204,196)"
          ],
          [
           0.625,
           "rgb(78,179,211)"
          ],
          [
           0.75,
           "rgb(43,140,190)"
          ],
          [
           0.875,
           "rgb(8,104,172)"
          ],
          [
           1,
           "rgb(8,64,129)"
          ]
         ]
        },
        "legend": {
         "tracegroupgap": 0
        },
        "margin": {
         "b": 25,
         "l": 25,
         "r": 25,
         "t": 50
        },
        "template": {
         "data": {
          "bar": [
           {
            "error_x": {
             "color": "#2a3f5f"
            },
            "error_y": {
             "color": "#2a3f5f"
            },
            "marker": {
             "line": {
              "color": "#E5ECF6",
              "width": 0.5
             },
             "pattern": {
              "fillmode": "overlay",
              "size": 10,
              "solidity": 0.2
             }
            },
            "type": "bar"
           }
          ],
          "barpolar": [
           {
            "marker": {
             "line": {
              "color": "#E5ECF6",
              "width": 0.5
             },
             "pattern": {
              "fillmode": "overlay",
              "size": 10,
              "solidity": 0.2
             }
            },
            "type": "barpolar"
           }
          ],
          "carpet": [
           {
            "aaxis": {
             "endlinecolor": "#2a3f5f",
             "gridcolor": "white",
             "linecolor": "white",
             "minorgridcolor": "white",
             "startlinecolor": "#2a3f5f"
            },
            "baxis": {
             "endlinecolor": "#2a3f5f",
             "gridcolor": "white",
             "linecolor": "white",
             "minorgridcolor": "white",
             "startlinecolor": "#2a3f5f"
            },
            "type": "carpet"
           }
          ],
          "choropleth": [
           {
            "colorbar": {
             "outlinewidth": 0,
             "ticks": ""
            },
            "type": "choropleth"
           }
          ],
          "contour": [
           {
            "colorbar": {
             "outlinewidth": 0,
             "ticks": ""
            },
            "colorscale": [
             [
              0,
              "#0d0887"
             ],
             [
              0.1111111111111111,
              "#46039f"
             ],
             [
              0.2222222222222222,
              "#7201a8"
             ],
             [
              0.3333333333333333,
              "#9c179e"
             ],
             [
              0.4444444444444444,
              "#bd3786"
             ],
             [
              0.5555555555555556,
              "#d8576b"
             ],
             [
              0.6666666666666666,
              "#ed7953"
             ],
             [
              0.7777777777777778,
              "#fb9f3a"
             ],
             [
              0.8888888888888888,
              "#fdca26"
             ],
             [
              1,
              "#f0f921"
             ]
            ],
            "type": "contour"
           }
          ],
          "contourcarpet": [
           {
            "colorbar": {
             "outlinewidth": 0,
             "ticks": ""
            },
            "type": "contourcarpet"
           }
          ],
          "heatmap": [
           {
            "colorbar": {
             "outlinewidth": 0,
             "ticks": ""
            },
            "colorscale": [
             [
              0,
              "#0d0887"
             ],
             [
              0.1111111111111111,
              "#46039f"
             ],
             [
              0.2222222222222222,
              "#7201a8"
             ],
             [
              0.3333333333333333,
              "#9c179e"
             ],
             [
              0.4444444444444444,
              "#bd3786"
             ],
             [
              0.5555555555555556,
              "#d8576b"
             ],
             [
              0.6666666666666666,
              "#ed7953"
             ],
             [
              0.7777777777777778,
              "#fb9f3a"
             ],
             [
              0.8888888888888888,
              "#fdca26"
             ],
             [
              1,
              "#f0f921"
             ]
            ],
            "type": "heatmap"
           }
          ],
          "heatmapgl": [
           {
            "colorbar": {
             "outlinewidth": 0,
             "ticks": ""
            },
            "colorscale": [
             [
              0,
              "#0d0887"
             ],
             [
              0.1111111111111111,
              "#46039f"
             ],
             [
              0.2222222222222222,
              "#7201a8"
             ],
             [
              0.3333333333333333,
              "#9c179e"
             ],
             [
              0.4444444444444444,
              "#bd3786"
             ],
             [
              0.5555555555555556,
              "#d8576b"
             ],
             [
              0.6666666666666666,
              "#ed7953"
             ],
             [
              0.7777777777777778,
              "#fb9f3a"
             ],
             [
              0.8888888888888888,
              "#fdca26"
             ],
             [
              1,
              "#f0f921"
             ]
            ],
            "type": "heatmapgl"
           }
          ],
          "histogram": [
           {
            "marker": {
             "pattern": {
              "fillmode": "overlay",
              "size": 10,
              "solidity": 0.2
             }
            },
            "type": "histogram"
           }
          ],
          "histogram2d": [
           {
            "colorbar": {
             "outlinewidth": 0,
             "ticks": ""
            },
            "colorscale": [
             [
              0,
              "#0d0887"
             ],
             [
              0.1111111111111111,
              "#46039f"
             ],
             [
              0.2222222222222222,
              "#7201a8"
             ],
             [
              0.3333333333333333,
              "#9c179e"
             ],
             [
              0.4444444444444444,
              "#bd3786"
             ],
             [
              0.5555555555555556,
              "#d8576b"
             ],
             [
              0.6666666666666666,
              "#ed7953"
             ],
             [
              0.7777777777777778,
              "#fb9f3a"
             ],
             [
              0.8888888888888888,
              "#fdca26"
             ],
             [
              1,
              "#f0f921"
             ]
            ],
            "type": "histogram2d"
           }
          ],
          "histogram2dcontour": [
           {
            "colorbar": {
             "outlinewidth": 0,
             "ticks": ""
            },
            "colorscale": [
             [
              0,
              "#0d0887"
             ],
             [
              0.1111111111111111,
              "#46039f"
             ],
             [
              0.2222222222222222,
              "#7201a8"
             ],
             [
              0.3333333333333333,
              "#9c179e"
             ],
             [
              0.4444444444444444,
              "#bd3786"
             ],
             [
              0.5555555555555556,
              "#d8576b"
             ],
             [
              0.6666666666666666,
              "#ed7953"
             ],
             [
              0.7777777777777778,
              "#fb9f3a"
             ],
             [
              0.8888888888888888,
              "#fdca26"
             ],
             [
              1,
              "#f0f921"
             ]
            ],
            "type": "histogram2dcontour"
           }
          ],
          "mesh3d": [
           {
            "colorbar": {
             "outlinewidth": 0,
             "ticks": ""
            },
            "type": "mesh3d"
           }
          ],
          "parcoords": [
           {
            "line": {
             "colorbar": {
              "outlinewidth": 0,
              "ticks": ""
             }
            },
            "type": "parcoords"
           }
          ],
          "pie": [
           {
            "automargin": true,
            "type": "pie"
           }
          ],
          "scatter": [
           {
            "marker": {
             "colorbar": {
              "outlinewidth": 0,
              "ticks": ""
             }
            },
            "type": "scatter"
           }
          ],
          "scatter3d": [
           {
            "line": {
             "colorbar": {
              "outlinewidth": 0,
              "ticks": ""
             }
            },
            "marker": {
             "colorbar": {
              "outlinewidth": 0,
              "ticks": ""
             }
            },
            "type": "scatter3d"
           }
          ],
          "scattercarpet": [
           {
            "marker": {
             "colorbar": {
              "outlinewidth": 0,
              "ticks": ""
             }
            },
            "type": "scattercarpet"
           }
          ],
          "scattergeo": [
           {
            "marker": {
             "colorbar": {
              "outlinewidth": 0,
              "ticks": ""
             }
            },
            "type": "scattergeo"
           }
          ],
          "scattergl": [
           {
            "marker": {
             "colorbar": {
              "outlinewidth": 0,
              "ticks": ""
             }
            },
            "type": "scattergl"
           }
          ],
          "scattermapbox": [
           {
            "marker": {
             "colorbar": {
              "outlinewidth": 0,
              "ticks": ""
             }
            },
            "type": "scattermapbox"
           }
          ],
          "scatterpolar": [
           {
            "marker": {
             "colorbar": {
              "outlinewidth": 0,
              "ticks": ""
             }
            },
            "type": "scatterpolar"
           }
          ],
          "scatterpolargl": [
           {
            "marker": {
             "colorbar": {
              "outlinewidth": 0,
              "ticks": ""
             }
            },
            "type": "scatterpolargl"
           }
          ],
          "scatterternary": [
           {
            "marker": {
             "colorbar": {
              "outlinewidth": 0,
              "ticks": ""
             }
            },
            "type": "scatterternary"
           }
          ],
          "surface": [
           {
            "colorbar": {
             "outlinewidth": 0,
             "ticks": ""
            },
            "colorscale": [
             [
              0,
              "#0d0887"
             ],
             [
              0.1111111111111111,
              "#46039f"
             ],
             [
              0.2222222222222222,
              "#7201a8"
             ],
             [
              0.3333333333333333,
              "#9c179e"
             ],
             [
              0.4444444444444444,
              "#bd3786"
             ],
             [
              0.5555555555555556,
              "#d8576b"
             ],
             [
              0.6666666666666666,
              "#ed7953"
             ],
             [
              0.7777777777777778,
              "#fb9f3a"
             ],
             [
              0.8888888888888888,
              "#fdca26"
             ],
             [
              1,
              "#f0f921"
             ]
            ],
            "type": "surface"
           }
          ],
          "table": [
           {
            "cells": {
             "fill": {
              "color": "#EBF0F8"
             },
             "line": {
              "color": "white"
             }
            },
            "header": {
             "fill": {
              "color": "#C8D4E3"
             },
             "line": {
              "color": "white"
             }
            },
            "type": "table"
           }
          ]
         },
         "layout": {
          "annotationdefaults": {
           "arrowcolor": "#2a3f5f",
           "arrowhead": 0,
           "arrowwidth": 1
          },
          "autotypenumbers": "strict",
          "coloraxis": {
           "colorbar": {
            "outlinewidth": 0,
            "ticks": ""
           }
          },
          "colorscale": {
           "diverging": [
            [
             0,
             "#8e0152"
            ],
            [
             0.1,
             "#c51b7d"
            ],
            [
             0.2,
             "#de77ae"
            ],
            [
             0.3,
             "#f1b6da"
            ],
            [
             0.4,
             "#fde0ef"
            ],
            [
             0.5,
             "#f7f7f7"
            ],
            [
             0.6,
             "#e6f5d0"
            ],
            [
             0.7,
             "#b8e186"
            ],
            [
             0.8,
             "#7fbc41"
            ],
            [
             0.9,
             "#4d9221"
            ],
            [
             1,
             "#276419"
            ]
           ],
           "sequential": [
            [
             0,
             "#0d0887"
            ],
            [
             0.1111111111111111,
             "#46039f"
            ],
            [
             0.2222222222222222,
             "#7201a8"
            ],
            [
             0.3333333333333333,
             "#9c179e"
            ],
            [
             0.4444444444444444,
             "#bd3786"
            ],
            [
             0.5555555555555556,
             "#d8576b"
            ],
            [
             0.6666666666666666,
             "#ed7953"
            ],
            [
             0.7777777777777778,
             "#fb9f3a"
            ],
            [
             0.8888888888888888,
             "#fdca26"
            ],
            [
             1,
             "#f0f921"
            ]
           ],
           "sequentialminus": [
            [
             0,
             "#0d0887"
            ],
            [
             0.1111111111111111,
             "#46039f"
            ],
            [
             0.2222222222222222,
             "#7201a8"
            ],
            [
             0.3333333333333333,
             "#9c179e"
            ],
            [
             0.4444444444444444,
             "#bd3786"
            ],
            [
             0.5555555555555556,
             "#d8576b"
            ],
            [
             0.6666666666666666,
             "#ed7953"
            ],
            [
             0.7777777777777778,
             "#fb9f3a"
            ],
            [
             0.8888888888888888,
             "#fdca26"
            ],
            [
             1,
             "#f0f921"
            ]
           ]
          },
          "colorway": [
           "#636efa",
           "#EF553B",
           "#00cc96",
           "#ab63fa",
           "#FFA15A",
           "#19d3f3",
           "#FF6692",
           "#B6E880",
           "#FF97FF",
           "#FECB52"
          ],
          "font": {
           "color": "#2a3f5f"
          },
          "geo": {
           "bgcolor": "white",
           "lakecolor": "white",
           "landcolor": "#E5ECF6",
           "showlakes": true,
           "showland": true,
           "subunitcolor": "white"
          },
          "hoverlabel": {
           "align": "left"
          },
          "hovermode": "closest",
          "mapbox": {
           "style": "light"
          },
          "paper_bgcolor": "white",
          "plot_bgcolor": "#E5ECF6",
          "polar": {
           "angularaxis": {
            "gridcolor": "white",
            "linecolor": "white",
            "ticks": ""
           },
           "bgcolor": "#E5ECF6",
           "radialaxis": {
            "gridcolor": "white",
            "linecolor": "white",
            "ticks": ""
           }
          },
          "scene": {
           "xaxis": {
            "backgroundcolor": "#E5ECF6",
            "gridcolor": "white",
            "gridwidth": 2,
            "linecolor": "white",
            "showbackground": true,
            "ticks": "",
            "zerolinecolor": "white"
           },
           "yaxis": {
            "backgroundcolor": "#E5ECF6",
            "gridcolor": "white",
            "gridwidth": 2,
            "linecolor": "white",
            "showbackground": true,
            "ticks": "",
            "zerolinecolor": "white"
           },
           "zaxis": {
            "backgroundcolor": "#E5ECF6",
            "gridcolor": "white",
            "gridwidth": 2,
            "linecolor": "white",
            "showbackground": true,
            "ticks": "",
            "zerolinecolor": "white"
           }
          },
          "shapedefaults": {
           "line": {
            "color": "#2a3f5f"
           }
          },
          "ternary": {
           "aaxis": {
            "gridcolor": "white",
            "linecolor": "white",
            "ticks": ""
           },
           "baxis": {
            "gridcolor": "white",
            "linecolor": "white",
            "ticks": ""
           },
           "bgcolor": "#E5ECF6",
           "caxis": {
            "gridcolor": "white",
            "linecolor": "white",
            "ticks": ""
           }
          },
          "title": {
           "x": 0.05
          },
          "xaxis": {
           "automargin": true,
           "gridcolor": "white",
           "linecolor": "white",
           "ticks": "",
           "title": {
            "standoff": 15
           },
           "zerolinecolor": "white",
           "zerolinewidth": 2
          },
          "yaxis": {
           "automargin": true,
           "gridcolor": "white",
           "linecolor": "white",
           "ticks": "",
           "title": {
            "standoff": 15
           },
           "zerolinecolor": "white",
           "zerolinewidth": 2
          }
         }
        }
       }
      }
     },
     "metadata": {},
     "output_type": "display_data"
    }
   ],
   "source": [
    "# Number of questions by Indicatior and SubIndicator\n",
    "\n",
    "fig = px.treemap(df_tree_map, path=[px.Constant(df_emp_survey.query(\"QUESTION == 'Q47'\")['TITLE_E'].iloc[0]), \n",
    "                                    'GENERAL_DEMO_GROUP', 'DESCRIP_E'], values=df_tree_map.columns[-1], color=df_tree_map.columns[-1]\n",
    "                                    ,color_continuous_scale='GnBu')\n",
    "fig.update_layout(margin = dict(t=50, l=25, r=25, b=25))\n",
    "fig.show()"
   ]
  },
  {
   "cell_type": "markdown",
   "metadata": {},
   "source": [
    "### Question 62. Having carefully read the definition of discrimination, have you been the victim of discrimination on the job in the past 12 months?\n"
   ]
  },
  {
   "cell_type": "code",
   "execution_count": 56,
   "metadata": {},
   "outputs": [
    {
     "name": "stdout",
     "output_type": "stream",
     "text": [
      "Question 62. Having carefully read the definition of discrimination, have you been the victim of discrimination on the job in the past 12 months?\n"
     ]
    }
   ],
   "source": [
    "# show the above distribution for Each demographic group, with the question asked. and their responses\n",
    "print(df_emp_survey.query(\"QUESTION == 'Q62'\")['TITLE_E'].iloc[0])\n",
    "df_tree_map = df_emp_survey.query(\"QUESTION == 'Q62'\").groupby(['SELECTED','GENERAL_DEMO_GROUP','DESCRIP_E'])['ANSWER1'].mean().reset_index()\n",
    "df_tree_map = df_tree_map.query(\"SELECTED == 'selected'\")\n",
    "df_tree_map.rename(columns={'ANSWER1': 'Yes'}, inplace=True)"
   ]
  },
  {
   "cell_type": "code",
   "execution_count": 57,
   "metadata": {},
   "outputs": [
    {
     "data": {
      "application/vnd.plotly.v1+json": {
       "config": {
        "plotlyServerURL": "https://plot.ly"
       },
       "data": [
        {
         "branchvalues": "total",
         "customdata": [
          [
           20.696969696969695
          ],
          [
           23.25925925925926
          ],
          [
           15.619047619047619
          ],
          [
           23.162162162162158
          ],
          [
           20.625
          ],
          [
           25.294117647058822
          ],
          [
           29.56
          ],
          [
           29.428571428571427
          ],
          [
           23.44
          ],
          [
           19.5
          ],
          [
           10.385964912280702
          ],
          [
           18.197183098591548
          ],
          [
           7.111111111111111
          ],
          [
           6.950920245398773
          ],
          [
           6.8695652173913055
          ],
          [
           13.15
          ],
          [
           8.214285714285714
          ],
          [
           20.103448275862068
          ],
          [
           5.786096256684493
          ],
          [
           11.673076923076923
          ],
          [
           21.25
          ],
          [
           6.125
          ],
          [
           8.76923076923077
          ],
          [
           6.521472392638037
          ],
          [
           11.538461538461538
          ],
          [
           6.769230769230769
          ],
          [
           12.214285714285714
          ],
          [
           10.714285714285714
          ],
          [
           5.62111801242236
          ],
          [
           5.798561151079137
          ],
          [
           20.583333333333332
          ],
          [
           22.025641025641026
          ],
          [
           11.725490196078429
          ],
          [
           21.388489208633093
          ],
          [
           9.953947368421053
          ],
          [
           14.461538461538462
          ],
          [
           7.64
          ],
          [
           12.627329192546584
          ],
          [
           13.487268770366773
          ],
          [
           14.74255040329284
          ],
          [
           9.873125050132348
          ],
          [
           16.492086789633674
          ],
          [
           18.063407966402742
          ],
          [
           23.861352180203028
          ],
          [
           12.781370247407013
          ],
          [
           10.46918721909103
          ],
          [
           18.08067123336084
          ]
         ],
         "domain": {
          "x": [
           0,
           1
          ],
          "y": [
           0,
           1
          ]
         },
         "hovertemplate": "labels=%{label}<br>Yes_sum=%{value}<br>parent=%{parent}<br>id=%{id}<br>Yes=%{color}<extra></extra>",
         "ids": [
          "Question 62. Having carefully read the definition of discrimination, have you been the victim of discrimination on the job in the past 12 months?/person with disability-specified/A chronic health condition or pain affects ability to function on a regular or episodic basis due to migraines, Crohn's disease, colitis, and other disabilities or health conditions",
          "Question 62. Having carefully read the definition of discrimination, have you been the victim of discrimination on the job in the past 12 months?/person with disability-specified/A cognitive disability affects ability to carry out tasks involving executive functioning, such as planning and organization, learning information, communication and memory, including autism or Asperger's syndrome, attention deficit disorder, and learning disabilities",
          "Question 62. Having carefully read the definition of discrimination, have you been the victim of discrimination on the job in the past 12 months?/person with disability-specified/A hearing disability affects ability to hear, including being hard of hearing, deafness or acoustic distortion",
          "Question 62. Having carefully read the definition of discrimination, have you been the victim of discrimination on the job in the past 12 months?/person with disability-specified/A mental health issue affects psychology or behaviour, such as anxiety, depression or social / compulsive disorder or phobia or psychiatric illness",
          "Question 62. Having carefully read the definition of discrimination, have you been the victim of discrimination on the job in the past 12 months?/person with disability-specified/A mobility issue affects ability to move your body, including the required use of a wheelchair or a cane, or other issues impacting your mobility",
          "Question 62. Having carefully read the definition of discrimination, have you been the victim of discrimination on the job in the past 12 months?/person with disability-specified/A seeing disability affects vision, including total blindness, partial sight and visual distortion",
          "Question 62. Having carefully read the definition of discrimination, have you been the victim of discrimination on the job in the past 12 months?/person with disability-specified/A sensory / environmental disability affects sensitivity to light, sounds or other distractions, as well as allergens and other environmental sensitivities",
          "Question 62. Having carefully read the definition of discrimination, have you been the victim of discrimination on the job in the past 12 months?/person with disability-specified/An intellectual disability affects your ability to learn and to adapt behaviour to different situations",
          "Question 62. Having carefully read the definition of discrimination, have you been the victim of discrimination on the job in the past 12 months?/person with disability-specified/An issue with flexibility or dexterity affects ability to move joints or perform motor tasks, especially with your hands",
          "Question 62. Having carefully read the definition of discrimination, have you been the victim of discrimination on the job in the past 12 months?/sexuality/Another sexual orientation",
          "Question 62. Having carefully read the definition of discrimination, have you been the victim of discrimination on the job in the past 12 months?/sexuality/Bisexual",
          "Question 62. Having carefully read the definition of discrimination, have you been the victim of discrimination on the job in the past 12 months?/ethnicity/Black",
          "Question 62. Having carefully read the definition of discrimination, have you been the victim of discrimination on the job in the past 12 months?/ethnicity/Chinese",
          "Question 62. Having carefully read the definition of discrimination, have you been the victim of discrimination on the job in the past 12 months?/gender/Female gender",
          "Question 62. Having carefully read the definition of discrimination, have you been the victim of discrimination on the job in the past 12 months?/ethnicity/Filipino",
          "Question 62. Having carefully read the definition of discrimination, have you been the victim of discrimination on the job in the past 12 months?/indigenous-specified/First Nation (North American Indian)",
          "Question 62. Having carefully read the definition of discrimination, have you been the victim of discrimination on the job in the past 12 months?/sexuality/Gay or lesbian",
          "Question 62. Having carefully read the definition of discrimination, have you been the victim of discrimination on the job in the past 12 months?/gender/Gender diverse",
          "Question 62. Having carefully read the definition of discrimination, have you been the victim of discrimination on the job in the past 12 months?/sexuality/Heterosexual",
          "Question 62. Having carefully read the definition of discrimination, have you been the victim of discrimination on the job in the past 12 months?/indigenous/Indigenous",
          "Question 62. Having carefully read the definition of discrimination, have you been the victim of discrimination on the job in the past 12 months?/indigenous-specified/Inuk (Inuit)",
          "Question 62. Having carefully read the definition of discrimination, have you been the victim of discrimination on the job in the past 12 months?/ethnicity/Japanese",
          "Question 62. Having carefully read the definition of discrimination, have you been the victim of discrimination on the job in the past 12 months?/ethnicity/Korean",
          "Question 62. Having carefully read the definition of discrimination, have you been the victim of discrimination on the job in the past 12 months?/gender/Male gender",
          "Question 62. Having carefully read the definition of discrimination, have you been the victim of discrimination on the job in the past 12 months?/indigenous-specified/Métis",
          "Question 62. Having carefully read the definition of discrimination, have you been the victim of discrimination on the job in the past 12 months?/indigenous/Non-Indigenous",
          "Question 62. Having carefully read the definition of discrimination, have you been the victim of discrimination on the job in the past 12 months?/ethnicity/Non-White Latin American (including: Indigenous persons from Central and South America, etc.)",
          "Question 62. Having carefully read the definition of discrimination, have you been the victim of discrimination on the job in the past 12 months?/ethnicity/Non-White West Asian, North African or Arab (including: Egyptian; Libyan; Lebanese; Iranian; etc.)",
          "Question 62. Having carefully read the definition of discrimination, have you been the victim of discrimination on the job in the past 12 months?/visible minority/Non-visible minority",
          "Question 62. Having carefully read the definition of discrimination, have you been the victim of discrimination on the job in the past 12 months?/person with disability/Not a person with a disability",
          "Question 62. Having carefully read the definition of discrimination, have you been the victim of discrimination on the job in the past 12 months?/person with disability-specified/Other disability (including: learning disabilities, developmental disabilities and all other types of disabilities)",
          "Question 62. Having carefully read the definition of discrimination, have you been the victim of discrimination on the job in the past 12 months?/ethnicity/Other visible minority group",
          "Question 62. Having carefully read the definition of discrimination, have you been the victim of discrimination on the job in the past 12 months?/ethnicity/Person of mixed origin (with one parent in one of the visible minority groups)",
          "Question 62. Having carefully read the definition of discrimination, have you been the victim of discrimination on the job in the past 12 months?/person with disability/Person with a disability",
          "Question 62. Having carefully read the definition of discrimination, have you been the victim of discrimination on the job in the past 12 months?/sexuality/Prefer not to answer",
          "Question 62. Having carefully read the definition of discrimination, have you been the victim of discrimination on the job in the past 12 months?/ethnicity/South Asian/East Indian (including: Indian from India; Bangladeshi; Pakistani; East Indian from Guyana, Trinidad, East Africa; etc.)",
          "Question 62. Having carefully read the definition of discrimination, have you been the victim of discrimination on the job in the past 12 months?/ethnicity/Southeast Asian (including: Burmese; Cambodian; Laotian; Thai; Vietnamese; etc.)",
          "Question 62. Having carefully read the definition of discrimination, have you been the victim of discrimination on the job in the past 12 months?/visible minority/Visible minority",
          "Question 62. Having carefully read the definition of discrimination, have you been the victim of discrimination on the job in the past 12 months?/ethnicity",
          "Question 62. Having carefully read the definition of discrimination, have you been the victim of discrimination on the job in the past 12 months?/gender",
          "Question 62. Having carefully read the definition of discrimination, have you been the victim of discrimination on the job in the past 12 months?/indigenous",
          "Question 62. Having carefully read the definition of discrimination, have you been the victim of discrimination on the job in the past 12 months?/indigenous-specified",
          "Question 62. Having carefully read the definition of discrimination, have you been the victim of discrimination on the job in the past 12 months?/person with disability",
          "Question 62. Having carefully read the definition of discrimination, have you been the victim of discrimination on the job in the past 12 months?/person with disability-specified",
          "Question 62. Having carefully read the definition of discrimination, have you been the victim of discrimination on the job in the past 12 months?/sexuality",
          "Question 62. Having carefully read the definition of discrimination, have you been the victim of discrimination on the job in the past 12 months?/visible minority",
          "Question 62. Having carefully read the definition of discrimination, have you been the victim of discrimination on the job in the past 12 months?"
         ],
         "labels": [
          "A chronic health condition or pain affects ability to function on a regular or episodic basis due to migraines, Crohn's disease, colitis, and other disabilities or health conditions",
          "A cognitive disability affects ability to carry out tasks involving executive functioning, such as planning and organization, learning information, communication and memory, including autism or Asperger's syndrome, attention deficit disorder, and learning disabilities",
          "A hearing disability affects ability to hear, including being hard of hearing, deafness or acoustic distortion",
          "A mental health issue affects psychology or behaviour, such as anxiety, depression or social / compulsive disorder or phobia or psychiatric illness",
          "A mobility issue affects ability to move your body, including the required use of a wheelchair or a cane, or other issues impacting your mobility",
          "A seeing disability affects vision, including total blindness, partial sight and visual distortion",
          "A sensory / environmental disability affects sensitivity to light, sounds or other distractions, as well as allergens and other environmental sensitivities",
          "An intellectual disability affects your ability to learn and to adapt behaviour to different situations",
          "An issue with flexibility or dexterity affects ability to move joints or perform motor tasks, especially with your hands",
          "Another sexual orientation",
          "Bisexual",
          "Black",
          "Chinese",
          "Female gender",
          "Filipino",
          "First Nation (North American Indian)",
          "Gay or lesbian",
          "Gender diverse",
          "Heterosexual",
          "Indigenous",
          "Inuk (Inuit)",
          "Japanese",
          "Korean",
          "Male gender",
          "Métis",
          "Non-Indigenous",
          "Non-White Latin American (including: Indigenous persons from Central and South America, etc.)",
          "Non-White West Asian, North African or Arab (including: Egyptian; Libyan; Lebanese; Iranian; etc.)",
          "Non-visible minority",
          "Not a person with a disability",
          "Other disability (including: learning disabilities, developmental disabilities and all other types of disabilities)",
          "Other visible minority group",
          "Person of mixed origin (with one parent in one of the visible minority groups)",
          "Person with a disability",
          "Prefer not to answer",
          "South Asian/East Indian (including: Indian from India; Bangladeshi; Pakistani; East Indian from Guyana, Trinidad, East Africa; etc.)",
          "Southeast Asian (including: Burmese; Cambodian; Laotian; Thai; Vietnamese; etc.)",
          "Visible minority",
          "ethnicity",
          "gender",
          "indigenous",
          "indigenous-specified",
          "person with disability",
          "person with disability-specified",
          "sexuality",
          "visible minority",
          "Question 62. Having carefully read the definition of discrimination, have you been the victim of discrimination on the job in the past 12 months?"
         ],
         "marker": {
          "coloraxis": "coloraxis",
          "colors": [
           20.696969696969695,
           23.25925925925926,
           15.619047619047619,
           23.162162162162158,
           20.625,
           25.294117647058822,
           29.56,
           29.428571428571427,
           23.44,
           19.5,
           10.385964912280702,
           18.197183098591548,
           7.111111111111111,
           6.950920245398773,
           6.8695652173913055,
           13.15,
           8.214285714285714,
           20.103448275862068,
           5.786096256684493,
           11.673076923076923,
           21.25,
           6.125,
           8.76923076923077,
           6.521472392638037,
           11.538461538461538,
           6.769230769230769,
           12.214285714285714,
           10.714285714285714,
           5.62111801242236,
           5.798561151079137,
           20.583333333333332,
           22.025641025641026,
           11.725490196078429,
           21.388489208633093,
           9.953947368421053,
           14.461538461538462,
           7.64,
           12.627329192546584,
           13.487268770366773,
           14.74255040329284,
           9.873125050132348,
           16.492086789633674,
           18.063407966402742,
           23.861352180203028,
           12.781370247407013,
           10.46918721909103,
           18.08067123336084
          ]
         },
         "name": "",
         "parents": [
          "Question 62. Having carefully read the definition of discrimination, have you been the victim of discrimination on the job in the past 12 months?/person with disability-specified",
          "Question 62. Having carefully read the definition of discrimination, have you been the victim of discrimination on the job in the past 12 months?/person with disability-specified",
          "Question 62. Having carefully read the definition of discrimination, have you been the victim of discrimination on the job in the past 12 months?/person with disability-specified",
          "Question 62. Having carefully read the definition of discrimination, have you been the victim of discrimination on the job in the past 12 months?/person with disability-specified",
          "Question 62. Having carefully read the definition of discrimination, have you been the victim of discrimination on the job in the past 12 months?/person with disability-specified",
          "Question 62. Having carefully read the definition of discrimination, have you been the victim of discrimination on the job in the past 12 months?/person with disability-specified",
          "Question 62. Having carefully read the definition of discrimination, have you been the victim of discrimination on the job in the past 12 months?/person with disability-specified",
          "Question 62. Having carefully read the definition of discrimination, have you been the victim of discrimination on the job in the past 12 months?/person with disability-specified",
          "Question 62. Having carefully read the definition of discrimination, have you been the victim of discrimination on the job in the past 12 months?/person with disability-specified",
          "Question 62. Having carefully read the definition of discrimination, have you been the victim of discrimination on the job in the past 12 months?/sexuality",
          "Question 62. Having carefully read the definition of discrimination, have you been the victim of discrimination on the job in the past 12 months?/sexuality",
          "Question 62. Having carefully read the definition of discrimination, have you been the victim of discrimination on the job in the past 12 months?/ethnicity",
          "Question 62. Having carefully read the definition of discrimination, have you been the victim of discrimination on the job in the past 12 months?/ethnicity",
          "Question 62. Having carefully read the definition of discrimination, have you been the victim of discrimination on the job in the past 12 months?/gender",
          "Question 62. Having carefully read the definition of discrimination, have you been the victim of discrimination on the job in the past 12 months?/ethnicity",
          "Question 62. Having carefully read the definition of discrimination, have you been the victim of discrimination on the job in the past 12 months?/indigenous-specified",
          "Question 62. Having carefully read the definition of discrimination, have you been the victim of discrimination on the job in the past 12 months?/sexuality",
          "Question 62. Having carefully read the definition of discrimination, have you been the victim of discrimination on the job in the past 12 months?/gender",
          "Question 62. Having carefully read the definition of discrimination, have you been the victim of discrimination on the job in the past 12 months?/sexuality",
          "Question 62. Having carefully read the definition of discrimination, have you been the victim of discrimination on the job in the past 12 months?/indigenous",
          "Question 62. Having carefully read the definition of discrimination, have you been the victim of discrimination on the job in the past 12 months?/indigenous-specified",
          "Question 62. Having carefully read the definition of discrimination, have you been the victim of discrimination on the job in the past 12 months?/ethnicity",
          "Question 62. Having carefully read the definition of discrimination, have you been the victim of discrimination on the job in the past 12 months?/ethnicity",
          "Question 62. Having carefully read the definition of discrimination, have you been the victim of discrimination on the job in the past 12 months?/gender",
          "Question 62. Having carefully read the definition of discrimination, have you been the victim of discrimination on the job in the past 12 months?/indigenous-specified",
          "Question 62. Having carefully read the definition of discrimination, have you been the victim of discrimination on the job in the past 12 months?/indigenous",
          "Question 62. Having carefully read the definition of discrimination, have you been the victim of discrimination on the job in the past 12 months?/ethnicity",
          "Question 62. Having carefully read the definition of discrimination, have you been the victim of discrimination on the job in the past 12 months?/ethnicity",
          "Question 62. Having carefully read the definition of discrimination, have you been the victim of discrimination on the job in the past 12 months?/visible minority",
          "Question 62. Having carefully read the definition of discrimination, have you been the victim of discrimination on the job in the past 12 months?/person with disability",
          "Question 62. Having carefully read the definition of discrimination, have you been the victim of discrimination on the job in the past 12 months?/person with disability-specified",
          "Question 62. Having carefully read the definition of discrimination, have you been the victim of discrimination on the job in the past 12 months?/ethnicity",
          "Question 62. Having carefully read the definition of discrimination, have you been the victim of discrimination on the job in the past 12 months?/ethnicity",
          "Question 62. Having carefully read the definition of discrimination, have you been the victim of discrimination on the job in the past 12 months?/person with disability",
          "Question 62. Having carefully read the definition of discrimination, have you been the victim of discrimination on the job in the past 12 months?/sexuality",
          "Question 62. Having carefully read the definition of discrimination, have you been the victim of discrimination on the job in the past 12 months?/ethnicity",
          "Question 62. Having carefully read the definition of discrimination, have you been the victim of discrimination on the job in the past 12 months?/ethnicity",
          "Question 62. Having carefully read the definition of discrimination, have you been the victim of discrimination on the job in the past 12 months?/visible minority",
          "Question 62. Having carefully read the definition of discrimination, have you been the victim of discrimination on the job in the past 12 months?",
          "Question 62. Having carefully read the definition of discrimination, have you been the victim of discrimination on the job in the past 12 months?",
          "Question 62. Having carefully read the definition of discrimination, have you been the victim of discrimination on the job in the past 12 months?",
          "Question 62. Having carefully read the definition of discrimination, have you been the victim of discrimination on the job in the past 12 months?",
          "Question 62. Having carefully read the definition of discrimination, have you been the victim of discrimination on the job in the past 12 months?",
          "Question 62. Having carefully read the definition of discrimination, have you been the victim of discrimination on the job in the past 12 months?",
          "Question 62. Having carefully read the definition of discrimination, have you been the victim of discrimination on the job in the past 12 months?",
          "Question 62. Having carefully read the definition of discrimination, have you been the victim of discrimination on the job in the past 12 months?",
          ""
         ],
         "type": "treemap",
         "values": [
          20.696969696969695,
          23.25925925925926,
          15.619047619047619,
          23.16216216216216,
          20.625,
          25.294117647058822,
          29.56,
          29.428571428571427,
          23.44,
          19.5,
          10.385964912280702,
          18.197183098591548,
          7.111111111111111,
          6.950920245398773,
          6.869565217391305,
          13.15,
          8.214285714285714,
          20.103448275862068,
          5.786096256684492,
          11.673076923076923,
          21.25,
          6.125,
          8.76923076923077,
          6.521472392638037,
          11.538461538461538,
          6.769230769230769,
          12.214285714285714,
          10.714285714285714,
          5.62111801242236,
          5.798561151079137,
          20.583333333333332,
          22.025641025641026,
          11.72549019607843,
          21.388489208633093,
          9.953947368421053,
          14.461538461538462,
          7.64,
          12.627329192546584,
          125.85333130815408,
          33.57584091389888,
          18.442307692307693,
          45.93846153846154,
          27.18705035971223,
          231.6684611464023,
          53.84029425167196,
          18.248447204968944,
          554.7541944155777
         ]
        }
       ],
       "layout": {
        "coloraxis": {
         "colorbar": {
          "title": {
           "text": "Yes"
          }
         },
         "colorscale": [
          [
           0,
           "rgb(247,252,240)"
          ],
          [
           0.125,
           "rgb(224,243,219)"
          ],
          [
           0.25,
           "rgb(204,235,197)"
          ],
          [
           0.375,
           "rgb(168,221,181)"
          ],
          [
           0.5,
           "rgb(123,204,196)"
          ],
          [
           0.625,
           "rgb(78,179,211)"
          ],
          [
           0.75,
           "rgb(43,140,190)"
          ],
          [
           0.875,
           "rgb(8,104,172)"
          ],
          [
           1,
           "rgb(8,64,129)"
          ]
         ]
        },
        "legend": {
         "tracegroupgap": 0
        },
        "margin": {
         "b": 25,
         "l": 25,
         "r": 25,
         "t": 50
        },
        "template": {
         "data": {
          "bar": [
           {
            "error_x": {
             "color": "#2a3f5f"
            },
            "error_y": {
             "color": "#2a3f5f"
            },
            "marker": {
             "line": {
              "color": "#E5ECF6",
              "width": 0.5
             },
             "pattern": {
              "fillmode": "overlay",
              "size": 10,
              "solidity": 0.2
             }
            },
            "type": "bar"
           }
          ],
          "barpolar": [
           {
            "marker": {
             "line": {
              "color": "#E5ECF6",
              "width": 0.5
             },
             "pattern": {
              "fillmode": "overlay",
              "size": 10,
              "solidity": 0.2
             }
            },
            "type": "barpolar"
           }
          ],
          "carpet": [
           {
            "aaxis": {
             "endlinecolor": "#2a3f5f",
             "gridcolor": "white",
             "linecolor": "white",
             "minorgridcolor": "white",
             "startlinecolor": "#2a3f5f"
            },
            "baxis": {
             "endlinecolor": "#2a3f5f",
             "gridcolor": "white",
             "linecolor": "white",
             "minorgridcolor": "white",
             "startlinecolor": "#2a3f5f"
            },
            "type": "carpet"
           }
          ],
          "choropleth": [
           {
            "colorbar": {
             "outlinewidth": 0,
             "ticks": ""
            },
            "type": "choropleth"
           }
          ],
          "contour": [
           {
            "colorbar": {
             "outlinewidth": 0,
             "ticks": ""
            },
            "colorscale": [
             [
              0,
              "#0d0887"
             ],
             [
              0.1111111111111111,
              "#46039f"
             ],
             [
              0.2222222222222222,
              "#7201a8"
             ],
             [
              0.3333333333333333,
              "#9c179e"
             ],
             [
              0.4444444444444444,
              "#bd3786"
             ],
             [
              0.5555555555555556,
              "#d8576b"
             ],
             [
              0.6666666666666666,
              "#ed7953"
             ],
             [
              0.7777777777777778,
              "#fb9f3a"
             ],
             [
              0.8888888888888888,
              "#fdca26"
             ],
             [
              1,
              "#f0f921"
             ]
            ],
            "type": "contour"
           }
          ],
          "contourcarpet": [
           {
            "colorbar": {
             "outlinewidth": 0,
             "ticks": ""
            },
            "type": "contourcarpet"
           }
          ],
          "heatmap": [
           {
            "colorbar": {
             "outlinewidth": 0,
             "ticks": ""
            },
            "colorscale": [
             [
              0,
              "#0d0887"
             ],
             [
              0.1111111111111111,
              "#46039f"
             ],
             [
              0.2222222222222222,
              "#7201a8"
             ],
             [
              0.3333333333333333,
              "#9c179e"
             ],
             [
              0.4444444444444444,
              "#bd3786"
             ],
             [
              0.5555555555555556,
              "#d8576b"
             ],
             [
              0.6666666666666666,
              "#ed7953"
             ],
             [
              0.7777777777777778,
              "#fb9f3a"
             ],
             [
              0.8888888888888888,
              "#fdca26"
             ],
             [
              1,
              "#f0f921"
             ]
            ],
            "type": "heatmap"
           }
          ],
          "heatmapgl": [
           {
            "colorbar": {
             "outlinewidth": 0,
             "ticks": ""
            },
            "colorscale": [
             [
              0,
              "#0d0887"
             ],
             [
              0.1111111111111111,
              "#46039f"
             ],
             [
              0.2222222222222222,
              "#7201a8"
             ],
             [
              0.3333333333333333,
              "#9c179e"
             ],
             [
              0.4444444444444444,
              "#bd3786"
             ],
             [
              0.5555555555555556,
              "#d8576b"
             ],
             [
              0.6666666666666666,
              "#ed7953"
             ],
             [
              0.7777777777777778,
              "#fb9f3a"
             ],
             [
              0.8888888888888888,
              "#fdca26"
             ],
             [
              1,
              "#f0f921"
             ]
            ],
            "type": "heatmapgl"
           }
          ],
          "histogram": [
           {
            "marker": {
             "pattern": {
              "fillmode": "overlay",
              "size": 10,
              "solidity": 0.2
             }
            },
            "type": "histogram"
           }
          ],
          "histogram2d": [
           {
            "colorbar": {
             "outlinewidth": 0,
             "ticks": ""
            },
            "colorscale": [
             [
              0,
              "#0d0887"
             ],
             [
              0.1111111111111111,
              "#46039f"
             ],
             [
              0.2222222222222222,
              "#7201a8"
             ],
             [
              0.3333333333333333,
              "#9c179e"
             ],
             [
              0.4444444444444444,
              "#bd3786"
             ],
             [
              0.5555555555555556,
              "#d8576b"
             ],
             [
              0.6666666666666666,
              "#ed7953"
             ],
             [
              0.7777777777777778,
              "#fb9f3a"
             ],
             [
              0.8888888888888888,
              "#fdca26"
             ],
             [
              1,
              "#f0f921"
             ]
            ],
            "type": "histogram2d"
           }
          ],
          "histogram2dcontour": [
           {
            "colorbar": {
             "outlinewidth": 0,
             "ticks": ""
            },
            "colorscale": [
             [
              0,
              "#0d0887"
             ],
             [
              0.1111111111111111,
              "#46039f"
             ],
             [
              0.2222222222222222,
              "#7201a8"
             ],
             [
              0.3333333333333333,
              "#9c179e"
             ],
             [
              0.4444444444444444,
              "#bd3786"
             ],
             [
              0.5555555555555556,
              "#d8576b"
             ],
             [
              0.6666666666666666,
              "#ed7953"
             ],
             [
              0.7777777777777778,
              "#fb9f3a"
             ],
             [
              0.8888888888888888,
              "#fdca26"
             ],
             [
              1,
              "#f0f921"
             ]
            ],
            "type": "histogram2dcontour"
           }
          ],
          "mesh3d": [
           {
            "colorbar": {
             "outlinewidth": 0,
             "ticks": ""
            },
            "type": "mesh3d"
           }
          ],
          "parcoords": [
           {
            "line": {
             "colorbar": {
              "outlinewidth": 0,
              "ticks": ""
             }
            },
            "type": "parcoords"
           }
          ],
          "pie": [
           {
            "automargin": true,
            "type": "pie"
           }
          ],
          "scatter": [
           {
            "marker": {
             "colorbar": {
              "outlinewidth": 0,
              "ticks": ""
             }
            },
            "type": "scatter"
           }
          ],
          "scatter3d": [
           {
            "line": {
             "colorbar": {
              "outlinewidth": 0,
              "ticks": ""
             }
            },
            "marker": {
             "colorbar": {
              "outlinewidth": 0,
              "ticks": ""
             }
            },
            "type": "scatter3d"
           }
          ],
          "scattercarpet": [
           {
            "marker": {
             "colorbar": {
              "outlinewidth": 0,
              "ticks": ""
             }
            },
            "type": "scattercarpet"
           }
          ],
          "scattergeo": [
           {
            "marker": {
             "colorbar": {
              "outlinewidth": 0,
              "ticks": ""
             }
            },
            "type": "scattergeo"
           }
          ],
          "scattergl": [
           {
            "marker": {
             "colorbar": {
              "outlinewidth": 0,
              "ticks": ""
             }
            },
            "type": "scattergl"
           }
          ],
          "scattermapbox": [
           {
            "marker": {
             "colorbar": {
              "outlinewidth": 0,
              "ticks": ""
             }
            },
            "type": "scattermapbox"
           }
          ],
          "scatterpolar": [
           {
            "marker": {
             "colorbar": {
              "outlinewidth": 0,
              "ticks": ""
             }
            },
            "type": "scatterpolar"
           }
          ],
          "scatterpolargl": [
           {
            "marker": {
             "colorbar": {
              "outlinewidth": 0,
              "ticks": ""
             }
            },
            "type": "scatterpolargl"
           }
          ],
          "scatterternary": [
           {
            "marker": {
             "colorbar": {
              "outlinewidth": 0,
              "ticks": ""
             }
            },
            "type": "scatterternary"
           }
          ],
          "surface": [
           {
            "colorbar": {
             "outlinewidth": 0,
             "ticks": ""
            },
            "colorscale": [
             [
              0,
              "#0d0887"
             ],
             [
              0.1111111111111111,
              "#46039f"
             ],
             [
              0.2222222222222222,
              "#7201a8"
             ],
             [
              0.3333333333333333,
              "#9c179e"
             ],
             [
              0.4444444444444444,
              "#bd3786"
             ],
             [
              0.5555555555555556,
              "#d8576b"
             ],
             [
              0.6666666666666666,
              "#ed7953"
             ],
             [
              0.7777777777777778,
              "#fb9f3a"
             ],
             [
              0.8888888888888888,
              "#fdca26"
             ],
             [
              1,
              "#f0f921"
             ]
            ],
            "type": "surface"
           }
          ],
          "table": [
           {
            "cells": {
             "fill": {
              "color": "#EBF0F8"
             },
             "line": {
              "color": "white"
             }
            },
            "header": {
             "fill": {
              "color": "#C8D4E3"
             },
             "line": {
              "color": "white"
             }
            },
            "type": "table"
           }
          ]
         },
         "layout": {
          "annotationdefaults": {
           "arrowcolor": "#2a3f5f",
           "arrowhead": 0,
           "arrowwidth": 1
          },
          "autotypenumbers": "strict",
          "coloraxis": {
           "colorbar": {
            "outlinewidth": 0,
            "ticks": ""
           }
          },
          "colorscale": {
           "diverging": [
            [
             0,
             "#8e0152"
            ],
            [
             0.1,
             "#c51b7d"
            ],
            [
             0.2,
             "#de77ae"
            ],
            [
             0.3,
             "#f1b6da"
            ],
            [
             0.4,
             "#fde0ef"
            ],
            [
             0.5,
             "#f7f7f7"
            ],
            [
             0.6,
             "#e6f5d0"
            ],
            [
             0.7,
             "#b8e186"
            ],
            [
             0.8,
             "#7fbc41"
            ],
            [
             0.9,
             "#4d9221"
            ],
            [
             1,
             "#276419"
            ]
           ],
           "sequential": [
            [
             0,
             "#0d0887"
            ],
            [
             0.1111111111111111,
             "#46039f"
            ],
            [
             0.2222222222222222,
             "#7201a8"
            ],
            [
             0.3333333333333333,
             "#9c179e"
            ],
            [
             0.4444444444444444,
             "#bd3786"
            ],
            [
             0.5555555555555556,
             "#d8576b"
            ],
            [
             0.6666666666666666,
             "#ed7953"
            ],
            [
             0.7777777777777778,
             "#fb9f3a"
            ],
            [
             0.8888888888888888,
             "#fdca26"
            ],
            [
             1,
             "#f0f921"
            ]
           ],
           "sequentialminus": [
            [
             0,
             "#0d0887"
            ],
            [
             0.1111111111111111,
             "#46039f"
            ],
            [
             0.2222222222222222,
             "#7201a8"
            ],
            [
             0.3333333333333333,
             "#9c179e"
            ],
            [
             0.4444444444444444,
             "#bd3786"
            ],
            [
             0.5555555555555556,
             "#d8576b"
            ],
            [
             0.6666666666666666,
             "#ed7953"
            ],
            [
             0.7777777777777778,
             "#fb9f3a"
            ],
            [
             0.8888888888888888,
             "#fdca26"
            ],
            [
             1,
             "#f0f921"
            ]
           ]
          },
          "colorway": [
           "#636efa",
           "#EF553B",
           "#00cc96",
           "#ab63fa",
           "#FFA15A",
           "#19d3f3",
           "#FF6692",
           "#B6E880",
           "#FF97FF",
           "#FECB52"
          ],
          "font": {
           "color": "#2a3f5f"
          },
          "geo": {
           "bgcolor": "white",
           "lakecolor": "white",
           "landcolor": "#E5ECF6",
           "showlakes": true,
           "showland": true,
           "subunitcolor": "white"
          },
          "hoverlabel": {
           "align": "left"
          },
          "hovermode": "closest",
          "mapbox": {
           "style": "light"
          },
          "paper_bgcolor": "white",
          "plot_bgcolor": "#E5ECF6",
          "polar": {
           "angularaxis": {
            "gridcolor": "white",
            "linecolor": "white",
            "ticks": ""
           },
           "bgcolor": "#E5ECF6",
           "radialaxis": {
            "gridcolor": "white",
            "linecolor": "white",
            "ticks": ""
           }
          },
          "scene": {
           "xaxis": {
            "backgroundcolor": "#E5ECF6",
            "gridcolor": "white",
            "gridwidth": 2,
            "linecolor": "white",
            "showbackground": true,
            "ticks": "",
            "zerolinecolor": "white"
           },
           "yaxis": {
            "backgroundcolor": "#E5ECF6",
            "gridcolor": "white",
            "gridwidth": 2,
            "linecolor": "white",
            "showbackground": true,
            "ticks": "",
            "zerolinecolor": "white"
           },
           "zaxis": {
            "backgroundcolor": "#E5ECF6",
            "gridcolor": "white",
            "gridwidth": 2,
            "linecolor": "white",
            "showbackground": true,
            "ticks": "",
            "zerolinecolor": "white"
           }
          },
          "shapedefaults": {
           "line": {
            "color": "#2a3f5f"
           }
          },
          "ternary": {
           "aaxis": {
            "gridcolor": "white",
            "linecolor": "white",
            "ticks": ""
           },
           "baxis": {
            "gridcolor": "white",
            "linecolor": "white",
            "ticks": ""
           },
           "bgcolor": "#E5ECF6",
           "caxis": {
            "gridcolor": "white",
            "linecolor": "white",
            "ticks": ""
           }
          },
          "title": {
           "x": 0.05
          },
          "xaxis": {
           "automargin": true,
           "gridcolor": "white",
           "linecolor": "white",
           "ticks": "",
           "title": {
            "standoff": 15
           },
           "zerolinecolor": "white",
           "zerolinewidth": 2
          },
          "yaxis": {
           "automargin": true,
           "gridcolor": "white",
           "linecolor": "white",
           "ticks": "",
           "title": {
            "standoff": 15
           },
           "zerolinecolor": "white",
           "zerolinewidth": 2
          }
         }
        }
       }
      }
     },
     "metadata": {},
     "output_type": "display_data"
    }
   ],
   "source": [
    "# Number of questions by Indicatior and SubIndicator\n",
    "\n",
    "fig = px.treemap(df_tree_map, path=[px.Constant(df_emp_survey.query(\"QUESTION == 'Q62'\")['TITLE_E'].iloc[0]), \n",
    "                                    'GENERAL_DEMO_GROUP', 'DESCRIP_E'], values=df_tree_map.columns[-1], color=df_tree_map.columns[-1]\n",
    "                                    ,color_continuous_scale='GnBu')\n",
    "fig.update_layout(margin = dict(t=50, l=25, r=25, b=25))\n",
    "fig.show()"
   ]
  },
  {
   "cell_type": "markdown",
   "metadata": {},
   "source": [
    "### Q55. have you been the victim of harassment on the job in the past 12 months?"
   ]
  },
  {
   "cell_type": "code",
   "execution_count": 60,
   "metadata": {},
   "outputs": [],
   "source": [
    "df_tree_map = df_emp_survey.query(\"QUESTION == 'Q55'\").groupby(['SELECTED','GENERAL_DEMO_GROUP','DESCRIP_E'])[['DESCRIP_E','ANSWER1','ANSWER2']].mean().reset_index()\n",
    "df_tree_map = df_tree_map.query(\"SELECTED == 'selected'\")\n",
    "df_tree_map.rename(columns={'ANSWER1': 'Yes', 'ANSWER2':'No'}, inplace=True)\n",
    "# df_tree_map = df_emp_survey[].groupby(['INDICATORENG','BYCOND_2','BYCOND_1'])[['ANSWER1','ANSWER2','ANSWER3','ANSWER4','ANSWER5']].count().reset_index()"
   ]
  },
  {
   "cell_type": "code",
   "execution_count": 61,
   "metadata": {},
   "outputs": [
    {
     "data": {
      "application/vnd.plotly.v1+json": {
       "config": {
        "plotlyServerURL": "https://plot.ly"
       },
       "data": [
        {
         "branchvalues": "total",
         "customdata": [
          [
           22.62857142857143
          ],
          [
           24.3
          ],
          [
           17.782608695652176
          ],
          [
           25.799999999999997
          ],
          [
           22.076923076923077
          ],
          [
           27.928571428571427
          ],
          [
           31.416666666666668
          ],
          [
           38.142857142857146
          ],
          [
           26.636363636363637
          ],
          [
           24.15909090909091
          ],
          [
           19.17543859649123
          ],
          [
           15.932432432432432
          ],
          [
           10.360655737704919
          ],
          [
           12.627027027027028
          ],
          [
           11.096774193548388
          ],
          [
           20.318181818181817
          ],
          [
           14.686046511627907
          ],
          [
           32.193548387096776
          ],
          [
           10.829896907216495
          ],
          [
           18.941176470588236
          ],
          [
           19.875
          ],
          [
           12.75
          ],
          [
           7.818181818181818
          ],
          [
           10.416216216216217
          ],
          [
           19.214285714285715
          ],
          [
           12.5
          ],
          [
           16.166666666666668
          ],
          [
           14.56140350877193
          ],
          [
           11.081395348837209
          ],
          [
           10.862745098039216
          ],
          [
           22.26923076923077
          ],
          [
           24.71794871794872
          ],
          [
           16.3
          ],
          [
           25.705882352941178
          ],
          [
           15.151162790697674
          ],
          [
           14.78688524590164
          ],
          [
           11.233333333333333
          ],
          [
           14.796511627906977
          ],
          [
           15.430559412938559
          ],
          [
           23.614042218196605
          ],
          [
           16.3803719804105
          ],
          [
           19.812878107682725
          ],
          [
           21.296714503495767
          ],
          [
           27.025444441130688
          ],
          [
           18.02207146451807
          ],
          [
           13.205630561201296
          ],
          [
           21.255644220117798
          ],
          [
           21.255644220117798
          ]
         ],
         "domain": {
          "x": [
           0,
           1
          ],
          "y": [
           0,
           1
          ]
         },
         "hovertemplate": "labels=%{label}<br>Yes_sum=%{value}<br>parent=%{parent}<br>id=%{id}<br>Yes=%{color}<extra></extra>",
         "ids": [
          "Q55 have you been the victim of harassment on the job in the past 12 months?/selected/person with disability-specified/A chronic health condition or pain affects ability to function on a regular or episodic basis due to migraines, Crohn's disease, colitis, and other disabilities or health conditions",
          "Q55 have you been the victim of harassment on the job in the past 12 months?/selected/person with disability-specified/A cognitive disability affects ability to carry out tasks involving executive functioning, such as planning and organization, learning information, communication and memory, including autism or Asperger's syndrome, attention deficit disorder, and learning disabilities",
          "Q55 have you been the victim of harassment on the job in the past 12 months?/selected/person with disability-specified/A hearing disability affects ability to hear, including being hard of hearing, deafness or acoustic distortion",
          "Q55 have you been the victim of harassment on the job in the past 12 months?/selected/person with disability-specified/A mental health issue affects psychology or behaviour, such as anxiety, depression or social / compulsive disorder or phobia or psychiatric illness",
          "Q55 have you been the victim of harassment on the job in the past 12 months?/selected/person with disability-specified/A mobility issue affects ability to move your body, including the required use of a wheelchair or a cane, or other issues impacting your mobility",
          "Q55 have you been the victim of harassment on the job in the past 12 months?/selected/person with disability-specified/A seeing disability affects vision, including total blindness, partial sight and visual distortion",
          "Q55 have you been the victim of harassment on the job in the past 12 months?/selected/person with disability-specified/A sensory / environmental disability affects sensitivity to light, sounds or other distractions, as well as allergens and other environmental sensitivities",
          "Q55 have you been the victim of harassment on the job in the past 12 months?/selected/person with disability-specified/An intellectual disability affects your ability to learn and to adapt behaviour to different situations",
          "Q55 have you been the victim of harassment on the job in the past 12 months?/selected/person with disability-specified/An issue with flexibility or dexterity affects ability to move joints or perform motor tasks, especially with your hands",
          "Q55 have you been the victim of harassment on the job in the past 12 months?/selected/sexuality/Another sexual orientation",
          "Q55 have you been the victim of harassment on the job in the past 12 months?/selected/sexuality/Bisexual",
          "Q55 have you been the victim of harassment on the job in the past 12 months?/selected/ethnicity/Black",
          "Q55 have you been the victim of harassment on the job in the past 12 months?/selected/ethnicity/Chinese",
          "Q55 have you been the victim of harassment on the job in the past 12 months?/selected/gender/Female gender",
          "Q55 have you been the victim of harassment on the job in the past 12 months?/selected/ethnicity/Filipino",
          "Q55 have you been the victim of harassment on the job in the past 12 months?/selected/indigenous-specified/First Nation (North American Indian)",
          "Q55 have you been the victim of harassment on the job in the past 12 months?/selected/sexuality/Gay or lesbian",
          "Q55 have you been the victim of harassment on the job in the past 12 months?/selected/gender/Gender diverse",
          "Q55 have you been the victim of harassment on the job in the past 12 months?/selected/sexuality/Heterosexual",
          "Q55 have you been the victim of harassment on the job in the past 12 months?/selected/indigenous/Indigenous",
          "Q55 have you been the victim of harassment on the job in the past 12 months?/selected/indigenous-specified/Inuk (Inuit)",
          "Q55 have you been the victim of harassment on the job in the past 12 months?/selected/ethnicity/Japanese",
          "Q55 have you been the victim of harassment on the job in the past 12 months?/selected/ethnicity/Korean",
          "Q55 have you been the victim of harassment on the job in the past 12 months?/selected/gender/Male gender",
          "Q55 have you been the victim of harassment on the job in the past 12 months?/selected/indigenous-specified/Métis",
          "Q55 have you been the victim of harassment on the job in the past 12 months?/selected/indigenous/Non-Indigenous",
          "Q55 have you been the victim of harassment on the job in the past 12 months?/selected/ethnicity/Non-White Latin American (including: Indigenous persons from Central and South America, etc.)",
          "Q55 have you been the victim of harassment on the job in the past 12 months?/selected/ethnicity/Non-White West Asian, North African or Arab (including: Egyptian; Libyan; Lebanese; Iranian; etc.)",
          "Q55 have you been the victim of harassment on the job in the past 12 months?/selected/visible minority/Non-visible minority",
          "Q55 have you been the victim of harassment on the job in the past 12 months?/selected/person with disability/Not a person with a disability",
          "Q55 have you been the victim of harassment on the job in the past 12 months?/selected/person with disability-specified/Other disability (including: learning disabilities, developmental disabilities and all other types of disabilities)",
          "Q55 have you been the victim of harassment on the job in the past 12 months?/selected/ethnicity/Other visible minority group",
          "Q55 have you been the victim of harassment on the job in the past 12 months?/selected/ethnicity/Person of mixed origin (with one parent in one of the visible minority groups)",
          "Q55 have you been the victim of harassment on the job in the past 12 months?/selected/person with disability/Person with a disability",
          "Q55 have you been the victim of harassment on the job in the past 12 months?/selected/sexuality/Prefer not to answer",
          "Q55 have you been the victim of harassment on the job in the past 12 months?/selected/ethnicity/South Asian/East Indian (including: Indian from India; Bangladeshi; Pakistani; East Indian from Guyana, Trinidad, East Africa; etc.)",
          "Q55 have you been the victim of harassment on the job in the past 12 months?/selected/ethnicity/Southeast Asian (including: Burmese; Cambodian; Laotian; Thai; Vietnamese; etc.)",
          "Q55 have you been the victim of harassment on the job in the past 12 months?/selected/visible minority/Visible minority",
          "Q55 have you been the victim of harassment on the job in the past 12 months?/selected/ethnicity",
          "Q55 have you been the victim of harassment on the job in the past 12 months?/selected/gender",
          "Q55 have you been the victim of harassment on the job in the past 12 months?/selected/indigenous",
          "Q55 have you been the victim of harassment on the job in the past 12 months?/selected/indigenous-specified",
          "Q55 have you been the victim of harassment on the job in the past 12 months?/selected/person with disability",
          "Q55 have you been the victim of harassment on the job in the past 12 months?/selected/person with disability-specified",
          "Q55 have you been the victim of harassment on the job in the past 12 months?/selected/sexuality",
          "Q55 have you been the victim of harassment on the job in the past 12 months?/selected/visible minority",
          "Q55 have you been the victim of harassment on the job in the past 12 months?/selected",
          "Q55 have you been the victim of harassment on the job in the past 12 months?"
         ],
         "labels": [
          "A chronic health condition or pain affects ability to function on a regular or episodic basis due to migraines, Crohn's disease, colitis, and other disabilities or health conditions",
          "A cognitive disability affects ability to carry out tasks involving executive functioning, such as planning and organization, learning information, communication and memory, including autism or Asperger's syndrome, attention deficit disorder, and learning disabilities",
          "A hearing disability affects ability to hear, including being hard of hearing, deafness or acoustic distortion",
          "A mental health issue affects psychology or behaviour, such as anxiety, depression or social / compulsive disorder or phobia or psychiatric illness",
          "A mobility issue affects ability to move your body, including the required use of a wheelchair or a cane, or other issues impacting your mobility",
          "A seeing disability affects vision, including total blindness, partial sight and visual distortion",
          "A sensory / environmental disability affects sensitivity to light, sounds or other distractions, as well as allergens and other environmental sensitivities",
          "An intellectual disability affects your ability to learn and to adapt behaviour to different situations",
          "An issue with flexibility or dexterity affects ability to move joints or perform motor tasks, especially with your hands",
          "Another sexual orientation",
          "Bisexual",
          "Black",
          "Chinese",
          "Female gender",
          "Filipino",
          "First Nation (North American Indian)",
          "Gay or lesbian",
          "Gender diverse",
          "Heterosexual",
          "Indigenous",
          "Inuk (Inuit)",
          "Japanese",
          "Korean",
          "Male gender",
          "Métis",
          "Non-Indigenous",
          "Non-White Latin American (including: Indigenous persons from Central and South America, etc.)",
          "Non-White West Asian, North African or Arab (including: Egyptian; Libyan; Lebanese; Iranian; etc.)",
          "Non-visible minority",
          "Not a person with a disability",
          "Other disability (including: learning disabilities, developmental disabilities and all other types of disabilities)",
          "Other visible minority group",
          "Person of mixed origin (with one parent in one of the visible minority groups)",
          "Person with a disability",
          "Prefer not to answer",
          "South Asian/East Indian (including: Indian from India; Bangladeshi; Pakistani; East Indian from Guyana, Trinidad, East Africa; etc.)",
          "Southeast Asian (including: Burmese; Cambodian; Laotian; Thai; Vietnamese; etc.)",
          "Visible minority",
          "ethnicity",
          "gender",
          "indigenous",
          "indigenous-specified",
          "person with disability",
          "person with disability-specified",
          "sexuality",
          "visible minority",
          "selected",
          "Q55 have you been the victim of harassment on the job in the past 12 months?"
         ],
         "marker": {
          "coloraxis": "coloraxis",
          "colors": [
           22.62857142857143,
           24.3,
           17.782608695652176,
           25.799999999999997,
           22.076923076923077,
           27.928571428571427,
           31.416666666666668,
           38.142857142857146,
           26.636363636363637,
           24.15909090909091,
           19.17543859649123,
           15.932432432432432,
           10.360655737704919,
           12.627027027027028,
           11.096774193548388,
           20.318181818181817,
           14.686046511627907,
           32.193548387096776,
           10.829896907216495,
           18.941176470588236,
           19.875,
           12.75,
           7.818181818181818,
           10.416216216216217,
           19.214285714285715,
           12.5,
           16.166666666666668,
           14.56140350877193,
           11.081395348837209,
           10.862745098039216,
           22.26923076923077,
           24.71794871794872,
           16.3,
           25.705882352941178,
           15.151162790697674,
           14.78688524590164,
           11.233333333333333,
           14.796511627906977,
           15.430559412938559,
           23.614042218196605,
           16.3803719804105,
           19.812878107682725,
           21.296714503495767,
           27.025444441130688,
           18.02207146451807,
           13.205630561201296,
           21.255644220117798,
           21.255644220117798
          ]
         },
         "name": "",
         "parents": [
          "Q55 have you been the victim of harassment on the job in the past 12 months?/selected/person with disability-specified",
          "Q55 have you been the victim of harassment on the job in the past 12 months?/selected/person with disability-specified",
          "Q55 have you been the victim of harassment on the job in the past 12 months?/selected/person with disability-specified",
          "Q55 have you been the victim of harassment on the job in the past 12 months?/selected/person with disability-specified",
          "Q55 have you been the victim of harassment on the job in the past 12 months?/selected/person with disability-specified",
          "Q55 have you been the victim of harassment on the job in the past 12 months?/selected/person with disability-specified",
          "Q55 have you been the victim of harassment on the job in the past 12 months?/selected/person with disability-specified",
          "Q55 have you been the victim of harassment on the job in the past 12 months?/selected/person with disability-specified",
          "Q55 have you been the victim of harassment on the job in the past 12 months?/selected/person with disability-specified",
          "Q55 have you been the victim of harassment on the job in the past 12 months?/selected/sexuality",
          "Q55 have you been the victim of harassment on the job in the past 12 months?/selected/sexuality",
          "Q55 have you been the victim of harassment on the job in the past 12 months?/selected/ethnicity",
          "Q55 have you been the victim of harassment on the job in the past 12 months?/selected/ethnicity",
          "Q55 have you been the victim of harassment on the job in the past 12 months?/selected/gender",
          "Q55 have you been the victim of harassment on the job in the past 12 months?/selected/ethnicity",
          "Q55 have you been the victim of harassment on the job in the past 12 months?/selected/indigenous-specified",
          "Q55 have you been the victim of harassment on the job in the past 12 months?/selected/sexuality",
          "Q55 have you been the victim of harassment on the job in the past 12 months?/selected/gender",
          "Q55 have you been the victim of harassment on the job in the past 12 months?/selected/sexuality",
          "Q55 have you been the victim of harassment on the job in the past 12 months?/selected/indigenous",
          "Q55 have you been the victim of harassment on the job in the past 12 months?/selected/indigenous-specified",
          "Q55 have you been the victim of harassment on the job in the past 12 months?/selected/ethnicity",
          "Q55 have you been the victim of harassment on the job in the past 12 months?/selected/ethnicity",
          "Q55 have you been the victim of harassment on the job in the past 12 months?/selected/gender",
          "Q55 have you been the victim of harassment on the job in the past 12 months?/selected/indigenous-specified",
          "Q55 have you been the victim of harassment on the job in the past 12 months?/selected/indigenous",
          "Q55 have you been the victim of harassment on the job in the past 12 months?/selected/ethnicity",
          "Q55 have you been the victim of harassment on the job in the past 12 months?/selected/ethnicity",
          "Q55 have you been the victim of harassment on the job in the past 12 months?/selected/visible minority",
          "Q55 have you been the victim of harassment on the job in the past 12 months?/selected/person with disability",
          "Q55 have you been the victim of harassment on the job in the past 12 months?/selected/person with disability-specified",
          "Q55 have you been the victim of harassment on the job in the past 12 months?/selected/ethnicity",
          "Q55 have you been the victim of harassment on the job in the past 12 months?/selected/ethnicity",
          "Q55 have you been the victim of harassment on the job in the past 12 months?/selected/person with disability",
          "Q55 have you been the victim of harassment on the job in the past 12 months?/selected/sexuality",
          "Q55 have you been the victim of harassment on the job in the past 12 months?/selected/ethnicity",
          "Q55 have you been the victim of harassment on the job in the past 12 months?/selected/ethnicity",
          "Q55 have you been the victim of harassment on the job in the past 12 months?/selected/visible minority",
          "Q55 have you been the victim of harassment on the job in the past 12 months?/selected",
          "Q55 have you been the victim of harassment on the job in the past 12 months?/selected",
          "Q55 have you been the victim of harassment on the job in the past 12 months?/selected",
          "Q55 have you been the victim of harassment on the job in the past 12 months?/selected",
          "Q55 have you been the victim of harassment on the job in the past 12 months?/selected",
          "Q55 have you been the victim of harassment on the job in the past 12 months?/selected",
          "Q55 have you been the victim of harassment on the job in the past 12 months?/selected",
          "Q55 have you been the victim of harassment on the job in the past 12 months?/selected",
          "Q55 have you been the victim of harassment on the job in the past 12 months?",
          ""
         ],
         "type": "treemap",
         "values": [
          22.62857142857143,
          24.3,
          17.782608695652176,
          25.8,
          22.076923076923077,
          27.928571428571427,
          31.416666666666668,
          38.142857142857146,
          26.636363636363637,
          24.15909090909091,
          19.17543859649123,
          15.932432432432432,
          10.360655737704919,
          12.627027027027028,
          11.096774193548388,
          20.318181818181817,
          14.686046511627907,
          32.193548387096776,
          10.829896907216495,
          18.941176470588236,
          19.875,
          12.75,
          7.818181818181818,
          10.416216216216217,
          19.214285714285715,
          12.5,
          16.166666666666668,
          14.56140350877193,
          11.081395348837209,
          10.862745098039216,
          22.26923076923077,
          24.71794871794872,
          16.3,
          25.705882352941178,
          15.151162790697674,
          14.78688524590164,
          11.233333333333333,
          14.796511627906977,
          155.72428165448986,
          55.23679163034002,
          31.441176470588236,
          59.407467532467535,
          36.568627450980394,
          258.9817928448363,
          84.00163571512422,
          25.877906976744185,
          707.2396802755708,
          707.2396802755708
         ]
        }
       ],
       "layout": {
        "coloraxis": {
         "colorbar": {
          "title": {
           "text": "Yes"
          }
         },
         "colorscale": [
          [
           0,
           "rgb(247,252,240)"
          ],
          [
           0.125,
           "rgb(224,243,219)"
          ],
          [
           0.25,
           "rgb(204,235,197)"
          ],
          [
           0.375,
           "rgb(168,221,181)"
          ],
          [
           0.5,
           "rgb(123,204,196)"
          ],
          [
           0.625,
           "rgb(78,179,211)"
          ],
          [
           0.75,
           "rgb(43,140,190)"
          ],
          [
           0.875,
           "rgb(8,104,172)"
          ],
          [
           1,
           "rgb(8,64,129)"
          ]
         ]
        },
        "legend": {
         "tracegroupgap": 0
        },
        "margin": {
         "b": 25,
         "l": 25,
         "r": 25,
         "t": 50
        },
        "template": {
         "data": {
          "bar": [
           {
            "error_x": {
             "color": "#2a3f5f"
            },
            "error_y": {
             "color": "#2a3f5f"
            },
            "marker": {
             "line": {
              "color": "#E5ECF6",
              "width": 0.5
             },
             "pattern": {
              "fillmode": "overlay",
              "size": 10,
              "solidity": 0.2
             }
            },
            "type": "bar"
           }
          ],
          "barpolar": [
           {
            "marker": {
             "line": {
              "color": "#E5ECF6",
              "width": 0.5
             },
             "pattern": {
              "fillmode": "overlay",
              "size": 10,
              "solidity": 0.2
             }
            },
            "type": "barpolar"
           }
          ],
          "carpet": [
           {
            "aaxis": {
             "endlinecolor": "#2a3f5f",
             "gridcolor": "white",
             "linecolor": "white",
             "minorgridcolor": "white",
             "startlinecolor": "#2a3f5f"
            },
            "baxis": {
             "endlinecolor": "#2a3f5f",
             "gridcolor": "white",
             "linecolor": "white",
             "minorgridcolor": "white",
             "startlinecolor": "#2a3f5f"
            },
            "type": "carpet"
           }
          ],
          "choropleth": [
           {
            "colorbar": {
             "outlinewidth": 0,
             "ticks": ""
            },
            "type": "choropleth"
           }
          ],
          "contour": [
           {
            "colorbar": {
             "outlinewidth": 0,
             "ticks": ""
            },
            "colorscale": [
             [
              0,
              "#0d0887"
             ],
             [
              0.1111111111111111,
              "#46039f"
             ],
             [
              0.2222222222222222,
              "#7201a8"
             ],
             [
              0.3333333333333333,
              "#9c179e"
             ],
             [
              0.4444444444444444,
              "#bd3786"
             ],
             [
              0.5555555555555556,
              "#d8576b"
             ],
             [
              0.6666666666666666,
              "#ed7953"
             ],
             [
              0.7777777777777778,
              "#fb9f3a"
             ],
             [
              0.8888888888888888,
              "#fdca26"
             ],
             [
              1,
              "#f0f921"
             ]
            ],
            "type": "contour"
           }
          ],
          "contourcarpet": [
           {
            "colorbar": {
             "outlinewidth": 0,
             "ticks": ""
            },
            "type": "contourcarpet"
           }
          ],
          "heatmap": [
           {
            "colorbar": {
             "outlinewidth": 0,
             "ticks": ""
            },
            "colorscale": [
             [
              0,
              "#0d0887"
             ],
             [
              0.1111111111111111,
              "#46039f"
             ],
             [
              0.2222222222222222,
              "#7201a8"
             ],
             [
              0.3333333333333333,
              "#9c179e"
             ],
             [
              0.4444444444444444,
              "#bd3786"
             ],
             [
              0.5555555555555556,
              "#d8576b"
             ],
             [
              0.6666666666666666,
              "#ed7953"
             ],
             [
              0.7777777777777778,
              "#fb9f3a"
             ],
             [
              0.8888888888888888,
              "#fdca26"
             ],
             [
              1,
              "#f0f921"
             ]
            ],
            "type": "heatmap"
           }
          ],
          "heatmapgl": [
           {
            "colorbar": {
             "outlinewidth": 0,
             "ticks": ""
            },
            "colorscale": [
             [
              0,
              "#0d0887"
             ],
             [
              0.1111111111111111,
              "#46039f"
             ],
             [
              0.2222222222222222,
              "#7201a8"
             ],
             [
              0.3333333333333333,
              "#9c179e"
             ],
             [
              0.4444444444444444,
              "#bd3786"
             ],
             [
              0.5555555555555556,
              "#d8576b"
             ],
             [
              0.6666666666666666,
              "#ed7953"
             ],
             [
              0.7777777777777778,
              "#fb9f3a"
             ],
             [
              0.8888888888888888,
              "#fdca26"
             ],
             [
              1,
              "#f0f921"
             ]
            ],
            "type": "heatmapgl"
           }
          ],
          "histogram": [
           {
            "marker": {
             "pattern": {
              "fillmode": "overlay",
              "size": 10,
              "solidity": 0.2
             }
            },
            "type": "histogram"
           }
          ],
          "histogram2d": [
           {
            "colorbar": {
             "outlinewidth": 0,
             "ticks": ""
            },
            "colorscale": [
             [
              0,
              "#0d0887"
             ],
             [
              0.1111111111111111,
              "#46039f"
             ],
             [
              0.2222222222222222,
              "#7201a8"
             ],
             [
              0.3333333333333333,
              "#9c179e"
             ],
             [
              0.4444444444444444,
              "#bd3786"
             ],
             [
              0.5555555555555556,
              "#d8576b"
             ],
             [
              0.6666666666666666,
              "#ed7953"
             ],
             [
              0.7777777777777778,
              "#fb9f3a"
             ],
             [
              0.8888888888888888,
              "#fdca26"
             ],
             [
              1,
              "#f0f921"
             ]
            ],
            "type": "histogram2d"
           }
          ],
          "histogram2dcontour": [
           {
            "colorbar": {
             "outlinewidth": 0,
             "ticks": ""
            },
            "colorscale": [
             [
              0,
              "#0d0887"
             ],
             [
              0.1111111111111111,
              "#46039f"
             ],
             [
              0.2222222222222222,
              "#7201a8"
             ],
             [
              0.3333333333333333,
              "#9c179e"
             ],
             [
              0.4444444444444444,
              "#bd3786"
             ],
             [
              0.5555555555555556,
              "#d8576b"
             ],
             [
              0.6666666666666666,
              "#ed7953"
             ],
             [
              0.7777777777777778,
              "#fb9f3a"
             ],
             [
              0.8888888888888888,
              "#fdca26"
             ],
             [
              1,
              "#f0f921"
             ]
            ],
            "type": "histogram2dcontour"
           }
          ],
          "mesh3d": [
           {
            "colorbar": {
             "outlinewidth": 0,
             "ticks": ""
            },
            "type": "mesh3d"
           }
          ],
          "parcoords": [
           {
            "line": {
             "colorbar": {
              "outlinewidth": 0,
              "ticks": ""
             }
            },
            "type": "parcoords"
           }
          ],
          "pie": [
           {
            "automargin": true,
            "type": "pie"
           }
          ],
          "scatter": [
           {
            "marker": {
             "colorbar": {
              "outlinewidth": 0,
              "ticks": ""
             }
            },
            "type": "scatter"
           }
          ],
          "scatter3d": [
           {
            "line": {
             "colorbar": {
              "outlinewidth": 0,
              "ticks": ""
             }
            },
            "marker": {
             "colorbar": {
              "outlinewidth": 0,
              "ticks": ""
             }
            },
            "type": "scatter3d"
           }
          ],
          "scattercarpet": [
           {
            "marker": {
             "colorbar": {
              "outlinewidth": 0,
              "ticks": ""
             }
            },
            "type": "scattercarpet"
           }
          ],
          "scattergeo": [
           {
            "marker": {
             "colorbar": {
              "outlinewidth": 0,
              "ticks": ""
             }
            },
            "type": "scattergeo"
           }
          ],
          "scattergl": [
           {
            "marker": {
             "colorbar": {
              "outlinewidth": 0,
              "ticks": ""
             }
            },
            "type": "scattergl"
           }
          ],
          "scattermapbox": [
           {
            "marker": {
             "colorbar": {
              "outlinewidth": 0,
              "ticks": ""
             }
            },
            "type": "scattermapbox"
           }
          ],
          "scatterpolar": [
           {
            "marker": {
             "colorbar": {
              "outlinewidth": 0,
              "ticks": ""
             }
            },
            "type": "scatterpolar"
           }
          ],
          "scatterpolargl": [
           {
            "marker": {
             "colorbar": {
              "outlinewidth": 0,
              "ticks": ""
             }
            },
            "type": "scatterpolargl"
           }
          ],
          "scatterternary": [
           {
            "marker": {
             "colorbar": {
              "outlinewidth": 0,
              "ticks": ""
             }
            },
            "type": "scatterternary"
           }
          ],
          "surface": [
           {
            "colorbar": {
             "outlinewidth": 0,
             "ticks": ""
            },
            "colorscale": [
             [
              0,
              "#0d0887"
             ],
             [
              0.1111111111111111,
              "#46039f"
             ],
             [
              0.2222222222222222,
              "#7201a8"
             ],
             [
              0.3333333333333333,
              "#9c179e"
             ],
             [
              0.4444444444444444,
              "#bd3786"
             ],
             [
              0.5555555555555556,
              "#d8576b"
             ],
             [
              0.6666666666666666,
              "#ed7953"
             ],
             [
              0.7777777777777778,
              "#fb9f3a"
             ],
             [
              0.8888888888888888,
              "#fdca26"
             ],
             [
              1,
              "#f0f921"
             ]
            ],
            "type": "surface"
           }
          ],
          "table": [
           {
            "cells": {
             "fill": {
              "color": "#EBF0F8"
             },
             "line": {
              "color": "white"
             }
            },
            "header": {
             "fill": {
              "color": "#C8D4E3"
             },
             "line": {
              "color": "white"
             }
            },
            "type": "table"
           }
          ]
         },
         "layout": {
          "annotationdefaults": {
           "arrowcolor": "#2a3f5f",
           "arrowhead": 0,
           "arrowwidth": 1
          },
          "autotypenumbers": "strict",
          "coloraxis": {
           "colorbar": {
            "outlinewidth": 0,
            "ticks": ""
           }
          },
          "colorscale": {
           "diverging": [
            [
             0,
             "#8e0152"
            ],
            [
             0.1,
             "#c51b7d"
            ],
            [
             0.2,
             "#de77ae"
            ],
            [
             0.3,
             "#f1b6da"
            ],
            [
             0.4,
             "#fde0ef"
            ],
            [
             0.5,
             "#f7f7f7"
            ],
            [
             0.6,
             "#e6f5d0"
            ],
            [
             0.7,
             "#b8e186"
            ],
            [
             0.8,
             "#7fbc41"
            ],
            [
             0.9,
             "#4d9221"
            ],
            [
             1,
             "#276419"
            ]
           ],
           "sequential": [
            [
             0,
             "#0d0887"
            ],
            [
             0.1111111111111111,
             "#46039f"
            ],
            [
             0.2222222222222222,
             "#7201a8"
            ],
            [
             0.3333333333333333,
             "#9c179e"
            ],
            [
             0.4444444444444444,
             "#bd3786"
            ],
            [
             0.5555555555555556,
             "#d8576b"
            ],
            [
             0.6666666666666666,
             "#ed7953"
            ],
            [
             0.7777777777777778,
             "#fb9f3a"
            ],
            [
             0.8888888888888888,
             "#fdca26"
            ],
            [
             1,
             "#f0f921"
            ]
           ],
           "sequentialminus": [
            [
             0,
             "#0d0887"
            ],
            [
             0.1111111111111111,
             "#46039f"
            ],
            [
             0.2222222222222222,
             "#7201a8"
            ],
            [
             0.3333333333333333,
             "#9c179e"
            ],
            [
             0.4444444444444444,
             "#bd3786"
            ],
            [
             0.5555555555555556,
             "#d8576b"
            ],
            [
             0.6666666666666666,
             "#ed7953"
            ],
            [
             0.7777777777777778,
             "#fb9f3a"
            ],
            [
             0.8888888888888888,
             "#fdca26"
            ],
            [
             1,
             "#f0f921"
            ]
           ]
          },
          "colorway": [
           "#636efa",
           "#EF553B",
           "#00cc96",
           "#ab63fa",
           "#FFA15A",
           "#19d3f3",
           "#FF6692",
           "#B6E880",
           "#FF97FF",
           "#FECB52"
          ],
          "font": {
           "color": "#2a3f5f"
          },
          "geo": {
           "bgcolor": "white",
           "lakecolor": "white",
           "landcolor": "#E5ECF6",
           "showlakes": true,
           "showland": true,
           "subunitcolor": "white"
          },
          "hoverlabel": {
           "align": "left"
          },
          "hovermode": "closest",
          "mapbox": {
           "style": "light"
          },
          "paper_bgcolor": "white",
          "plot_bgcolor": "#E5ECF6",
          "polar": {
           "angularaxis": {
            "gridcolor": "white",
            "linecolor": "white",
            "ticks": ""
           },
           "bgcolor": "#E5ECF6",
           "radialaxis": {
            "gridcolor": "white",
            "linecolor": "white",
            "ticks": ""
           }
          },
          "scene": {
           "xaxis": {
            "backgroundcolor": "#E5ECF6",
            "gridcolor": "white",
            "gridwidth": 2,
            "linecolor": "white",
            "showbackground": true,
            "ticks": "",
            "zerolinecolor": "white"
           },
           "yaxis": {
            "backgroundcolor": "#E5ECF6",
            "gridcolor": "white",
            "gridwidth": 2,
            "linecolor": "white",
            "showbackground": true,
            "ticks": "",
            "zerolinecolor": "white"
           },
           "zaxis": {
            "backgroundcolor": "#E5ECF6",
            "gridcolor": "white",
            "gridwidth": 2,
            "linecolor": "white",
            "showbackground": true,
            "ticks": "",
            "zerolinecolor": "white"
           }
          },
          "shapedefaults": {
           "line": {
            "color": "#2a3f5f"
           }
          },
          "ternary": {
           "aaxis": {
            "gridcolor": "white",
            "linecolor": "white",
            "ticks": ""
           },
           "baxis": {
            "gridcolor": "white",
            "linecolor": "white",
            "ticks": ""
           },
           "bgcolor": "#E5ECF6",
           "caxis": {
            "gridcolor": "white",
            "linecolor": "white",
            "ticks": ""
           }
          },
          "title": {
           "x": 0.05
          },
          "xaxis": {
           "automargin": true,
           "gridcolor": "white",
           "linecolor": "white",
           "ticks": "",
           "title": {
            "standoff": 15
           },
           "zerolinecolor": "white",
           "zerolinewidth": 2
          },
          "yaxis": {
           "automargin": true,
           "gridcolor": "white",
           "linecolor": "white",
           "ticks": "",
           "title": {
            "standoff": 15
           },
           "zerolinecolor": "white",
           "zerolinewidth": 2
          }
         }
        }
       }
      }
     },
     "metadata": {},
     "output_type": "display_data"
    }
   ],
   "source": [
    "# Number of questions by Indicatior and SubIndicator\n",
    "\n",
    "fig = px.treemap(df_tree_map, path=[px.Constant(\"Q55 have you been the victim of harassment on the job in the past 12 months?\"), \n",
    "                                    'SELECTED','GENERAL_DEMO_GROUP', 'DESCRIP_E'], values='Yes', color='Yes'\n",
    "                                    ,color_continuous_scale='GnBu')\n",
    "fig.update_layout(margin = dict(t=50, l=25, r=25, b=25))\n",
    "fig.show()"
   ]
  },
  {
   "cell_type": "markdown",
   "metadata": {},
   "source": [
    "### Q56 a-g From whom did you experience harassment on the job?\n",
    "- Co-workers\n",
    "- Individuals with authority over me\n",
    "- Individuals working for me\n",
    "- Individuals for whom I have a custodial responsibility (e.g., inmates, offenders, patients, detainees)\n",
    "- Individuals from other departments or agencies\n",
    "- Members of the public (individuals or organizations)\n",
    "- Other"
   ]
  },
  {
   "cell_type": "code",
   "execution_count": 63,
   "metadata": {},
   "outputs": [],
   "source": [
    "harassment_src = ['Co-workers', 'Individuals with authority over me', \n",
    "                  'Individuals working for me','Individuals for whom I have a custodial responsibility', \n",
    "                  'Individuals from other departments or agencies', \n",
    "                  'Members of the public (individuals or organizations)', \n",
    "                  'Other']"
   ]
  },
  {
   "cell_type": "code",
   "execution_count": 64,
   "metadata": {},
   "outputs": [
    {
     "data": {
      "text/html": [
       "<div>\n",
       "<style scoped>\n",
       "    .dataframe tbody tr th:only-of-type {\n",
       "        vertical-align: middle;\n",
       "    }\n",
       "\n",
       "    .dataframe tbody tr th {\n",
       "        vertical-align: top;\n",
       "    }\n",
       "\n",
       "    .dataframe thead th {\n",
       "        text-align: right;\n",
       "    }\n",
       "</style>\n",
       "<table border=\"1\" class=\"dataframe\">\n",
       "  <thead>\n",
       "    <tr style=\"text-align: right;\">\n",
       "      <th></th>\n",
       "      <th>QUESTION</th>\n",
       "      <th>Yes</th>\n",
       "      <th>No</th>\n",
       "      <th>SOURCE</th>\n",
       "    </tr>\n",
       "  </thead>\n",
       "  <tbody>\n",
       "    <tr>\n",
       "      <th>0</th>\n",
       "      <td>Q56a</td>\n",
       "      <td>48.784031</td>\n",
       "      <td>51.215969</td>\n",
       "      <td>Co-workers</td>\n",
       "    </tr>\n",
       "    <tr>\n",
       "      <th>1</th>\n",
       "      <td>Q56b</td>\n",
       "      <td>62.554353</td>\n",
       "      <td>37.446162</td>\n",
       "      <td>Individuals with authority over me</td>\n",
       "    </tr>\n",
       "    <tr>\n",
       "      <th>2</th>\n",
       "      <td>Q56c</td>\n",
       "      <td>6.993308</td>\n",
       "      <td>93.006692</td>\n",
       "      <td>Individuals working for me</td>\n",
       "    </tr>\n",
       "    <tr>\n",
       "      <th>3</th>\n",
       "      <td>Q56d</td>\n",
       "      <td>2.464286</td>\n",
       "      <td>97.535714</td>\n",
       "      <td>Individuals for whom I have a custodial respon...</td>\n",
       "    </tr>\n",
       "    <tr>\n",
       "      <th>4</th>\n",
       "      <td>Q56e</td>\n",
       "      <td>5.901099</td>\n",
       "      <td>94.098901</td>\n",
       "      <td>Individuals from other departments or agencies</td>\n",
       "    </tr>\n",
       "    <tr>\n",
       "      <th>5</th>\n",
       "      <td>Q56f</td>\n",
       "      <td>10.123616</td>\n",
       "      <td>89.876384</td>\n",
       "      <td>Members of the public (individuals or organiza...</td>\n",
       "    </tr>\n",
       "    <tr>\n",
       "      <th>6</th>\n",
       "      <td>Q56g</td>\n",
       "      <td>4.075978</td>\n",
       "      <td>95.924022</td>\n",
       "      <td>Other</td>\n",
       "    </tr>\n",
       "  </tbody>\n",
       "</table>\n",
       "</div>"
      ],
      "text/plain": [
       "  QUESTION        Yes         No  \\\n",
       "0     Q56a  48.784031  51.215969   \n",
       "1     Q56b  62.554353  37.446162   \n",
       "2     Q56c   6.993308  93.006692   \n",
       "3     Q56d   2.464286  97.535714   \n",
       "4     Q56e   5.901099  94.098901   \n",
       "5     Q56f  10.123616  89.876384   \n",
       "6     Q56g   4.075978  95.924022   \n",
       "\n",
       "                                              SOURCE  \n",
       "0                                         Co-workers  \n",
       "1                 Individuals with authority over me  \n",
       "2                         Individuals working for me  \n",
       "3  Individuals for whom I have a custodial respon...  \n",
       "4     Individuals from other departments or agencies  \n",
       "5  Members of the public (individuals or organiza...  \n",
       "6                                              Other  "
      ]
     },
     "execution_count": 64,
     "metadata": {},
     "output_type": "execute_result"
    }
   ],
   "source": [
    "df_emp_survey.query(\"QUESTION == 'Q56a'\").groupby('BYCOND_1').mean()\n",
    "df_tree_map = df_emp_survey.query(\"QUESTION == 'Q56a' or QUESTION == 'Q56b' or QUESTION == 'Q56c' or QUESTION == 'Q56d' or QUESTION == 'Q56e' or QUESTION == 'Q56f' or QUESTION == 'Q56g'\").groupby(['QUESTION'])[['ANSWER1','ANSWER2']].mean().reset_index()\n",
    "df_tree_map.rename(columns={'ANSWER1': 'Yes', 'ANSWER2':'No'}, inplace=True)\n",
    "df_tree_map['SOURCE'] = harassment_src\n",
    "df_tree_map"
   ]
  },
  {
   "cell_type": "code",
   "execution_count": 65,
   "metadata": {},
   "outputs": [
    {
     "data": {
      "application/vnd.plotly.v1+json": {
       "config": {
        "plotlyServerURL": "https://plot.ly"
       },
       "data": [
        {
         "branchvalues": "total",
         "customdata": [
          [
           48.78403078403078
          ],
          [
           2.4642857142857144
          ],
          [
           5.901098901098902
          ],
          [
           62.554353426069035
          ],
          [
           6.9933078393881445
          ],
          [
           10.123616236162361
          ],
          [
           4.075977653631285
          ],
          [
           46.14610120227651
          ]
         ],
         "domain": {
          "x": [
           0,
           1
          ],
          "y": [
           0,
           1
          ]
         },
         "hovertemplate": "labels=%{label}<br>Yes_sum=%{value}<br>parent=%{parent}<br>id=%{id}<br>Yes=%{color}<extra></extra>",
         "ids": [
          " Q56 From whom did you experience harassment on the job?/Co-workers",
          " Q56 From whom did you experience harassment on the job?/Individuals for whom I have a custodial responsibility",
          " Q56 From whom did you experience harassment on the job?/Individuals from other departments or agencies",
          " Q56 From whom did you experience harassment on the job?/Individuals with authority over me",
          " Q56 From whom did you experience harassment on the job?/Individuals working for me",
          " Q56 From whom did you experience harassment on the job?/Members of the public (individuals or organizations)",
          " Q56 From whom did you experience harassment on the job?/Other",
          " Q56 From whom did you experience harassment on the job?"
         ],
         "labels": [
          "Co-workers",
          "Individuals for whom I have a custodial responsibility",
          "Individuals from other departments or agencies",
          "Individuals with authority over me",
          "Individuals working for me",
          "Members of the public (individuals or organizations)",
          "Other",
          " Q56 From whom did you experience harassment on the job?"
         ],
         "marker": {
          "coloraxis": "coloraxis",
          "colors": [
           48.78403078403078,
           2.4642857142857144,
           5.901098901098902,
           62.554353426069035,
           6.9933078393881445,
           10.123616236162361,
           4.075977653631285,
           46.14610120227651
          ]
         },
         "name": "",
         "parents": [
          " Q56 From whom did you experience harassment on the job?",
          " Q56 From whom did you experience harassment on the job?",
          " Q56 From whom did you experience harassment on the job?",
          " Q56 From whom did you experience harassment on the job?",
          " Q56 From whom did you experience harassment on the job?",
          " Q56 From whom did you experience harassment on the job?",
          " Q56 From whom did you experience harassment on the job?",
          ""
         ],
         "type": "treemap",
         "values": [
          48.78403078403078,
          2.4642857142857144,
          5.9010989010989015,
          62.554353426069035,
          6.993307839388145,
          10.123616236162361,
          4.075977653631285,
          140.89667055466623
         ]
        }
       ],
       "layout": {
        "coloraxis": {
         "colorbar": {
          "title": {
           "text": "Yes"
          }
         },
         "colorscale": [
          [
           0,
           "rgb(247,252,240)"
          ],
          [
           0.125,
           "rgb(224,243,219)"
          ],
          [
           0.25,
           "rgb(204,235,197)"
          ],
          [
           0.375,
           "rgb(168,221,181)"
          ],
          [
           0.5,
           "rgb(123,204,196)"
          ],
          [
           0.625,
           "rgb(78,179,211)"
          ],
          [
           0.75,
           "rgb(43,140,190)"
          ],
          [
           0.875,
           "rgb(8,104,172)"
          ],
          [
           1,
           "rgb(8,64,129)"
          ]
         ]
        },
        "legend": {
         "tracegroupgap": 0
        },
        "margin": {
         "b": 25,
         "l": 25,
         "r": 25,
         "t": 50
        },
        "template": {
         "data": {
          "bar": [
           {
            "error_x": {
             "color": "#2a3f5f"
            },
            "error_y": {
             "color": "#2a3f5f"
            },
            "marker": {
             "line": {
              "color": "#E5ECF6",
              "width": 0.5
             },
             "pattern": {
              "fillmode": "overlay",
              "size": 10,
              "solidity": 0.2
             }
            },
            "type": "bar"
           }
          ],
          "barpolar": [
           {
            "marker": {
             "line": {
              "color": "#E5ECF6",
              "width": 0.5
             },
             "pattern": {
              "fillmode": "overlay",
              "size": 10,
              "solidity": 0.2
             }
            },
            "type": "barpolar"
           }
          ],
          "carpet": [
           {
            "aaxis": {
             "endlinecolor": "#2a3f5f",
             "gridcolor": "white",
             "linecolor": "white",
             "minorgridcolor": "white",
             "startlinecolor": "#2a3f5f"
            },
            "baxis": {
             "endlinecolor": "#2a3f5f",
             "gridcolor": "white",
             "linecolor": "white",
             "minorgridcolor": "white",
             "startlinecolor": "#2a3f5f"
            },
            "type": "carpet"
           }
          ],
          "choropleth": [
           {
            "colorbar": {
             "outlinewidth": 0,
             "ticks": ""
            },
            "type": "choropleth"
           }
          ],
          "contour": [
           {
            "colorbar": {
             "outlinewidth": 0,
             "ticks": ""
            },
            "colorscale": [
             [
              0,
              "#0d0887"
             ],
             [
              0.1111111111111111,
              "#46039f"
             ],
             [
              0.2222222222222222,
              "#7201a8"
             ],
             [
              0.3333333333333333,
              "#9c179e"
             ],
             [
              0.4444444444444444,
              "#bd3786"
             ],
             [
              0.5555555555555556,
              "#d8576b"
             ],
             [
              0.6666666666666666,
              "#ed7953"
             ],
             [
              0.7777777777777778,
              "#fb9f3a"
             ],
             [
              0.8888888888888888,
              "#fdca26"
             ],
             [
              1,
              "#f0f921"
             ]
            ],
            "type": "contour"
           }
          ],
          "contourcarpet": [
           {
            "colorbar": {
             "outlinewidth": 0,
             "ticks": ""
            },
            "type": "contourcarpet"
           }
          ],
          "heatmap": [
           {
            "colorbar": {
             "outlinewidth": 0,
             "ticks": ""
            },
            "colorscale": [
             [
              0,
              "#0d0887"
             ],
             [
              0.1111111111111111,
              "#46039f"
             ],
             [
              0.2222222222222222,
              "#7201a8"
             ],
             [
              0.3333333333333333,
              "#9c179e"
             ],
             [
              0.4444444444444444,
              "#bd3786"
             ],
             [
              0.5555555555555556,
              "#d8576b"
             ],
             [
              0.6666666666666666,
              "#ed7953"
             ],
             [
              0.7777777777777778,
              "#fb9f3a"
             ],
             [
              0.8888888888888888,
              "#fdca26"
             ],
             [
              1,
              "#f0f921"
             ]
            ],
            "type": "heatmap"
           }
          ],
          "heatmapgl": [
           {
            "colorbar": {
             "outlinewidth": 0,
             "ticks": ""
            },
            "colorscale": [
             [
              0,
              "#0d0887"
             ],
             [
              0.1111111111111111,
              "#46039f"
             ],
             [
              0.2222222222222222,
              "#7201a8"
             ],
             [
              0.3333333333333333,
              "#9c179e"
             ],
             [
              0.4444444444444444,
              "#bd3786"
             ],
             [
              0.5555555555555556,
              "#d8576b"
             ],
             [
              0.6666666666666666,
              "#ed7953"
             ],
             [
              0.7777777777777778,
              "#fb9f3a"
             ],
             [
              0.8888888888888888,
              "#fdca26"
             ],
             [
              1,
              "#f0f921"
             ]
            ],
            "type": "heatmapgl"
           }
          ],
          "histogram": [
           {
            "marker": {
             "pattern": {
              "fillmode": "overlay",
              "size": 10,
              "solidity": 0.2
             }
            },
            "type": "histogram"
           }
          ],
          "histogram2d": [
           {
            "colorbar": {
             "outlinewidth": 0,
             "ticks": ""
            },
            "colorscale": [
             [
              0,
              "#0d0887"
             ],
             [
              0.1111111111111111,
              "#46039f"
             ],
             [
              0.2222222222222222,
              "#7201a8"
             ],
             [
              0.3333333333333333,
              "#9c179e"
             ],
             [
              0.4444444444444444,
              "#bd3786"
             ],
             [
              0.5555555555555556,
              "#d8576b"
             ],
             [
              0.6666666666666666,
              "#ed7953"
             ],
             [
              0.7777777777777778,
              "#fb9f3a"
             ],
             [
              0.8888888888888888,
              "#fdca26"
             ],
             [
              1,
              "#f0f921"
             ]
            ],
            "type": "histogram2d"
           }
          ],
          "histogram2dcontour": [
           {
            "colorbar": {
             "outlinewidth": 0,
             "ticks": ""
            },
            "colorscale": [
             [
              0,
              "#0d0887"
             ],
             [
              0.1111111111111111,
              "#46039f"
             ],
             [
              0.2222222222222222,
              "#7201a8"
             ],
             [
              0.3333333333333333,
              "#9c179e"
             ],
             [
              0.4444444444444444,
              "#bd3786"
             ],
             [
              0.5555555555555556,
              "#d8576b"
             ],
             [
              0.6666666666666666,
              "#ed7953"
             ],
             [
              0.7777777777777778,
              "#fb9f3a"
             ],
             [
              0.8888888888888888,
              "#fdca26"
             ],
             [
              1,
              "#f0f921"
             ]
            ],
            "type": "histogram2dcontour"
           }
          ],
          "mesh3d": [
           {
            "colorbar": {
             "outlinewidth": 0,
             "ticks": ""
            },
            "type": "mesh3d"
           }
          ],
          "parcoords": [
           {
            "line": {
             "colorbar": {
              "outlinewidth": 0,
              "ticks": ""
             }
            },
            "type": "parcoords"
           }
          ],
          "pie": [
           {
            "automargin": true,
            "type": "pie"
           }
          ],
          "scatter": [
           {
            "marker": {
             "colorbar": {
              "outlinewidth": 0,
              "ticks": ""
             }
            },
            "type": "scatter"
           }
          ],
          "scatter3d": [
           {
            "line": {
             "colorbar": {
              "outlinewidth": 0,
              "ticks": ""
             }
            },
            "marker": {
             "colorbar": {
              "outlinewidth": 0,
              "ticks": ""
             }
            },
            "type": "scatter3d"
           }
          ],
          "scattercarpet": [
           {
            "marker": {
             "colorbar": {
              "outlinewidth": 0,
              "ticks": ""
             }
            },
            "type": "scattercarpet"
           }
          ],
          "scattergeo": [
           {
            "marker": {
             "colorbar": {
              "outlinewidth": 0,
              "ticks": ""
             }
            },
            "type": "scattergeo"
           }
          ],
          "scattergl": [
           {
            "marker": {
             "colorbar": {
              "outlinewidth": 0,
              "ticks": ""
             }
            },
            "type": "scattergl"
           }
          ],
          "scattermapbox": [
           {
            "marker": {
             "colorbar": {
              "outlinewidth": 0,
              "ticks": ""
             }
            },
            "type": "scattermapbox"
           }
          ],
          "scatterpolar": [
           {
            "marker": {
             "colorbar": {
              "outlinewidth": 0,
              "ticks": ""
             }
            },
            "type": "scatterpolar"
           }
          ],
          "scatterpolargl": [
           {
            "marker": {
             "colorbar": {
              "outlinewidth": 0,
              "ticks": ""
             }
            },
            "type": "scatterpolargl"
           }
          ],
          "scatterternary": [
           {
            "marker": {
             "colorbar": {
              "outlinewidth": 0,
              "ticks": ""
             }
            },
            "type": "scatterternary"
           }
          ],
          "surface": [
           {
            "colorbar": {
             "outlinewidth": 0,
             "ticks": ""
            },
            "colorscale": [
             [
              0,
              "#0d0887"
             ],
             [
              0.1111111111111111,
              "#46039f"
             ],
             [
              0.2222222222222222,
              "#7201a8"
             ],
             [
              0.3333333333333333,
              "#9c179e"
             ],
             [
              0.4444444444444444,
              "#bd3786"
             ],
             [
              0.5555555555555556,
              "#d8576b"
             ],
             [
              0.6666666666666666,
              "#ed7953"
             ],
             [
              0.7777777777777778,
              "#fb9f3a"
             ],
             [
              0.8888888888888888,
              "#fdca26"
             ],
             [
              1,
              "#f0f921"
             ]
            ],
            "type": "surface"
           }
          ],
          "table": [
           {
            "cells": {
             "fill": {
              "color": "#EBF0F8"
             },
             "line": {
              "color": "white"
             }
            },
            "header": {
             "fill": {
              "color": "#C8D4E3"
             },
             "line": {
              "color": "white"
             }
            },
            "type": "table"
           }
          ]
         },
         "layout": {
          "annotationdefaults": {
           "arrowcolor": "#2a3f5f",
           "arrowhead": 0,
           "arrowwidth": 1
          },
          "autotypenumbers": "strict",
          "coloraxis": {
           "colorbar": {
            "outlinewidth": 0,
            "ticks": ""
           }
          },
          "colorscale": {
           "diverging": [
            [
             0,
             "#8e0152"
            ],
            [
             0.1,
             "#c51b7d"
            ],
            [
             0.2,
             "#de77ae"
            ],
            [
             0.3,
             "#f1b6da"
            ],
            [
             0.4,
             "#fde0ef"
            ],
            [
             0.5,
             "#f7f7f7"
            ],
            [
             0.6,
             "#e6f5d0"
            ],
            [
             0.7,
             "#b8e186"
            ],
            [
             0.8,
             "#7fbc41"
            ],
            [
             0.9,
             "#4d9221"
            ],
            [
             1,
             "#276419"
            ]
           ],
           "sequential": [
            [
             0,
             "#0d0887"
            ],
            [
             0.1111111111111111,
             "#46039f"
            ],
            [
             0.2222222222222222,
             "#7201a8"
            ],
            [
             0.3333333333333333,
             "#9c179e"
            ],
            [
             0.4444444444444444,
             "#bd3786"
            ],
            [
             0.5555555555555556,
             "#d8576b"
            ],
            [
             0.6666666666666666,
             "#ed7953"
            ],
            [
             0.7777777777777778,
             "#fb9f3a"
            ],
            [
             0.8888888888888888,
             "#fdca26"
            ],
            [
             1,
             "#f0f921"
            ]
           ],
           "sequentialminus": [
            [
             0,
             "#0d0887"
            ],
            [
             0.1111111111111111,
             "#46039f"
            ],
            [
             0.2222222222222222,
             "#7201a8"
            ],
            [
             0.3333333333333333,
             "#9c179e"
            ],
            [
             0.4444444444444444,
             "#bd3786"
            ],
            [
             0.5555555555555556,
             "#d8576b"
            ],
            [
             0.6666666666666666,
             "#ed7953"
            ],
            [
             0.7777777777777778,
             "#fb9f3a"
            ],
            [
             0.8888888888888888,
             "#fdca26"
            ],
            [
             1,
             "#f0f921"
            ]
           ]
          },
          "colorway": [
           "#636efa",
           "#EF553B",
           "#00cc96",
           "#ab63fa",
           "#FFA15A",
           "#19d3f3",
           "#FF6692",
           "#B6E880",
           "#FF97FF",
           "#FECB52"
          ],
          "font": {
           "color": "#2a3f5f"
          },
          "geo": {
           "bgcolor": "white",
           "lakecolor": "white",
           "landcolor": "#E5ECF6",
           "showlakes": true,
           "showland": true,
           "subunitcolor": "white"
          },
          "hoverlabel": {
           "align": "left"
          },
          "hovermode": "closest",
          "mapbox": {
           "style": "light"
          },
          "paper_bgcolor": "white",
          "plot_bgcolor": "#E5ECF6",
          "polar": {
           "angularaxis": {
            "gridcolor": "white",
            "linecolor": "white",
            "ticks": ""
           },
           "bgcolor": "#E5ECF6",
           "radialaxis": {
            "gridcolor": "white",
            "linecolor": "white",
            "ticks": ""
           }
          },
          "scene": {
           "xaxis": {
            "backgroundcolor": "#E5ECF6",
            "gridcolor": "white",
            "gridwidth": 2,
            "linecolor": "white",
            "showbackground": true,
            "ticks": "",
            "zerolinecolor": "white"
           },
           "yaxis": {
            "backgroundcolor": "#E5ECF6",
            "gridcolor": "white",
            "gridwidth": 2,
            "linecolor": "white",
            "showbackground": true,
            "ticks": "",
            "zerolinecolor": "white"
           },
           "zaxis": {
            "backgroundcolor": "#E5ECF6",
            "gridcolor": "white",
            "gridwidth": 2,
            "linecolor": "white",
            "showbackground": true,
            "ticks": "",
            "zerolinecolor": "white"
           }
          },
          "shapedefaults": {
           "line": {
            "color": "#2a3f5f"
           }
          },
          "ternary": {
           "aaxis": {
            "gridcolor": "white",
            "linecolor": "white",
            "ticks": ""
           },
           "baxis": {
            "gridcolor": "white",
            "linecolor": "white",
            "ticks": ""
           },
           "bgcolor": "#E5ECF6",
           "caxis": {
            "gridcolor": "white",
            "linecolor": "white",
            "ticks": ""
           }
          },
          "title": {
           "x": 0.05
          },
          "xaxis": {
           "automargin": true,
           "gridcolor": "white",
           "linecolor": "white",
           "ticks": "",
           "title": {
            "standoff": 15
           },
           "zerolinecolor": "white",
           "zerolinewidth": 2
          },
          "yaxis": {
           "automargin": true,
           "gridcolor": "white",
           "linecolor": "white",
           "ticks": "",
           "title": {
            "standoff": 15
           },
           "zerolinecolor": "white",
           "zerolinewidth": 2
          }
         }
        }
       }
      }
     },
     "metadata": {},
     "output_type": "display_data"
    }
   ],
   "source": [
    "fig = px.treemap(df_tree_map, path=[px.Constant(\" Q56 From whom did you experience harassment on the job?\"), \n",
    "                                    'SOURCE'], values='Yes', color='Yes'\n",
    "                                    ,color_continuous_scale='GnBu')\n",
    "fig.update_layout(margin = dict(t=50, l=25, r=25, b=25))\n",
    "fig.show()\n",
    "# plt.bar(df_tree_map['SOURCE'], df_tree_map['Yes'])\n",
    "# plt.xticks(rotation=90)"
   ]
  },
  {
   "cell_type": "markdown",
   "metadata": {},
   "source": [
    "### Q57 a-m. Please indicate the nature of the harassment you experienced\n"
   ]
  },
  {
   "cell_type": "code",
   "execution_count": 66,
   "metadata": {},
   "outputs": [],
   "source": [
    "harassment_nature = ['Aggressive behaviour',\n",
    "                     'Excessive control',\n",
    "                     'Being excluded or being ignored',\n",
    "                     'Humiliation',\n",
    "                     'Interference with work or withholding resources',\n",
    "                     'Offensive remark',\n",
    "                     'Personal attack',\n",
    "                     'Physical violence',\n",
    "                     'Sexual comment or gesture',\n",
    "                     'Threat',\n",
    "                     'Unfair treatment',\n",
    "                     'Yelling or shouting',\n",
    "                     'Other']"
   ]
  },
  {
   "cell_type": "code",
   "execution_count": 68,
   "metadata": {},
   "outputs": [
    {
     "data": {
      "text/html": [
       "<div>\n",
       "<style scoped>\n",
       "    .dataframe tbody tr th:only-of-type {\n",
       "        vertical-align: middle;\n",
       "    }\n",
       "\n",
       "    .dataframe tbody tr th {\n",
       "        vertical-align: top;\n",
       "    }\n",
       "\n",
       "    .dataframe thead th {\n",
       "        text-align: right;\n",
       "    }\n",
       "</style>\n",
       "<table border=\"1\" class=\"dataframe\">\n",
       "  <thead>\n",
       "    <tr style=\"text-align: right;\">\n",
       "      <th></th>\n",
       "      <th>QUESTION</th>\n",
       "      <th>Yes</th>\n",
       "      <th>No</th>\n",
       "      <th>NATURE</th>\n",
       "    </tr>\n",
       "  </thead>\n",
       "  <tbody>\n",
       "    <tr>\n",
       "      <th>5</th>\n",
       "      <td>Q57f</td>\n",
       "      <td>53.609519</td>\n",
       "      <td>46.390966</td>\n",
       "      <td>Offensive remark</td>\n",
       "    </tr>\n",
       "    <tr>\n",
       "      <th>10</th>\n",
       "      <td>Q57k</td>\n",
       "      <td>52.124205</td>\n",
       "      <td>47.875795</td>\n",
       "      <td>Unfair treatment</td>\n",
       "    </tr>\n",
       "    <tr>\n",
       "      <th>2</th>\n",
       "      <td>Q57c</td>\n",
       "      <td>48.869820</td>\n",
       "      <td>51.130180</td>\n",
       "      <td>Being excluded or being ignored</td>\n",
       "    </tr>\n",
       "    <tr>\n",
       "      <th>3</th>\n",
       "      <td>Q57d</td>\n",
       "      <td>43.909358</td>\n",
       "      <td>56.090642</td>\n",
       "      <td>Humiliation</td>\n",
       "    </tr>\n",
       "    <tr>\n",
       "      <th>1</th>\n",
       "      <td>Q57b</td>\n",
       "      <td>42.444499</td>\n",
       "      <td>57.555501</td>\n",
       "      <td>Excessive control</td>\n",
       "    </tr>\n",
       "  </tbody>\n",
       "</table>\n",
       "</div>"
      ],
      "text/plain": [
       "   QUESTION        Yes         No                           NATURE\n",
       "5      Q57f  53.609519  46.390966                 Offensive remark\n",
       "10     Q57k  52.124205  47.875795                 Unfair treatment\n",
       "2      Q57c  48.869820  51.130180  Being excluded or being ignored\n",
       "3      Q57d  43.909358  56.090642                      Humiliation\n",
       "1      Q57b  42.444499  57.555501                Excessive control"
      ]
     },
     "execution_count": 68,
     "metadata": {},
     "output_type": "execute_result"
    }
   ],
   "source": [
    "df_tree_map = df_emp_survey.query(\"QUESTION == 'Q57a' or QUESTION == 'Q57b' or QUESTION == 'Q57c' or QUESTION == 'Q57d' or QUESTION == 'Q57e' or QUESTION == 'Q57f' or QUESTION == 'Q57g' or QUESTION == 'Q57h' or QUESTION == 'Q57i' or QUESTION == 'Q57j' or QUESTION == 'Q57k' or QUESTION == 'Q57l' or QUESTION == 'Q57m' and SELECTED=='selected'\").groupby(['QUESTION'])[['ANSWER1','ANSWER2']].mean().reset_index()\n",
    "df_tree_map.rename(columns={'ANSWER1': 'Yes', 'ANSWER2':'No'}, inplace=True)\n",
    "df_tree_map['NATURE'] = harassment_nature\n",
    "df_tree_map.sort_values(by='Yes',ascending=False).head()"
   ]
  },
  {
   "cell_type": "code",
   "execution_count": 69,
   "metadata": {},
   "outputs": [
    {
     "data": {
      "application/vnd.plotly.v1+json": {
       "config": {
        "plotlyServerURL": "https://plot.ly"
       },
       "data": [
        {
         "branchvalues": "total",
         "customdata": [
          [
           40.592233009708735
          ],
          [
           48.86981960019503
          ],
          [
           42.44449925999013
          ],
          [
           43.9093581577658
          ],
          [
           35.44971339239187
          ],
          [
           53.60951918406994
          ],
          [
           17.006233303650934
          ],
          [
           35.92764578833693
          ],
          [
           0.9038854805725971
          ],
          [
           8.141683778234086
          ],
          [
           12.914735099337749
          ],
          [
           52.12420537897311
          ],
          [
           26.574074074074073
          ],
          [
           40.94279870112021
          ]
         ],
         "domain": {
          "x": [
           0,
           1
          ],
          "y": [
           0,
           1
          ]
         },
         "hovertemplate": "labels=%{label}<br>Yes_sum=%{value}<br>parent=%{parent}<br>id=%{id}<br>Yes=%{color}<extra></extra>",
         "ids": [
          "the nature of the harassment you experienced?/Aggressive behaviour",
          "the nature of the harassment you experienced?/Being excluded or being ignored",
          "the nature of the harassment you experienced?/Excessive control",
          "the nature of the harassment you experienced?/Humiliation",
          "the nature of the harassment you experienced?/Interference with work or withholding resources",
          "the nature of the harassment you experienced?/Offensive remark",
          "the nature of the harassment you experienced?/Other",
          "the nature of the harassment you experienced?/Personal attack",
          "the nature of the harassment you experienced?/Physical violence",
          "the nature of the harassment you experienced?/Sexual comment or gesture",
          "the nature of the harassment you experienced?/Threat",
          "the nature of the harassment you experienced?/Unfair treatment",
          "the nature of the harassment you experienced?/Yelling or shouting",
          "the nature of the harassment you experienced?"
         ],
         "labels": [
          "Aggressive behaviour",
          "Being excluded or being ignored",
          "Excessive control",
          "Humiliation",
          "Interference with work or withholding resources",
          "Offensive remark",
          "Other",
          "Personal attack",
          "Physical violence",
          "Sexual comment or gesture",
          "Threat",
          "Unfair treatment",
          "Yelling or shouting",
          "the nature of the harassment you experienced?"
         ],
         "marker": {
          "coloraxis": "coloraxis",
          "colors": [
           40.592233009708735,
           48.86981960019503,
           42.44449925999013,
           43.9093581577658,
           35.44971339239187,
           53.60951918406994,
           17.006233303650934,
           35.92764578833693,
           0.9038854805725971,
           8.141683778234086,
           12.914735099337749,
           52.12420537897311,
           26.574074074074073,
           40.94279870112021
          ]
         },
         "name": "",
         "parents": [
          "the nature of the harassment you experienced?",
          "the nature of the harassment you experienced?",
          "the nature of the harassment you experienced?",
          "the nature of the harassment you experienced?",
          "the nature of the harassment you experienced?",
          "the nature of the harassment you experienced?",
          "the nature of the harassment you experienced?",
          "the nature of the harassment you experienced?",
          "the nature of the harassment you experienced?",
          "the nature of the harassment you experienced?",
          "the nature of the harassment you experienced?",
          "the nature of the harassment you experienced?",
          "the nature of the harassment you experienced?",
          ""
         ],
         "type": "treemap",
         "values": [
          40.592233009708735,
          48.86981960019503,
          42.44449925999013,
          43.9093581577658,
          35.44971339239187,
          53.60951918406994,
          17.006233303650934,
          35.92764578833693,
          0.9038854805725971,
          8.141683778234086,
          12.914735099337749,
          52.1242053789731,
          26.574074074074073,
          418.46760550730096
         ]
        }
       ],
       "layout": {
        "coloraxis": {
         "colorbar": {
          "title": {
           "text": "Yes"
          }
         },
         "colorscale": [
          [
           0,
           "rgb(247,252,240)"
          ],
          [
           0.125,
           "rgb(224,243,219)"
          ],
          [
           0.25,
           "rgb(204,235,197)"
          ],
          [
           0.375,
           "rgb(168,221,181)"
          ],
          [
           0.5,
           "rgb(123,204,196)"
          ],
          [
           0.625,
           "rgb(78,179,211)"
          ],
          [
           0.75,
           "rgb(43,140,190)"
          ],
          [
           0.875,
           "rgb(8,104,172)"
          ],
          [
           1,
           "rgb(8,64,129)"
          ]
         ]
        },
        "legend": {
         "tracegroupgap": 0
        },
        "margin": {
         "b": 25,
         "l": 25,
         "r": 25,
         "t": 50
        },
        "template": {
         "data": {
          "bar": [
           {
            "error_x": {
             "color": "#2a3f5f"
            },
            "error_y": {
             "color": "#2a3f5f"
            },
            "marker": {
             "line": {
              "color": "#E5ECF6",
              "width": 0.5
             },
             "pattern": {
              "fillmode": "overlay",
              "size": 10,
              "solidity": 0.2
             }
            },
            "type": "bar"
           }
          ],
          "barpolar": [
           {
            "marker": {
             "line": {
              "color": "#E5ECF6",
              "width": 0.5
             },
             "pattern": {
              "fillmode": "overlay",
              "size": 10,
              "solidity": 0.2
             }
            },
            "type": "barpolar"
           }
          ],
          "carpet": [
           {
            "aaxis": {
             "endlinecolor": "#2a3f5f",
             "gridcolor": "white",
             "linecolor": "white",
             "minorgridcolor": "white",
             "startlinecolor": "#2a3f5f"
            },
            "baxis": {
             "endlinecolor": "#2a3f5f",
             "gridcolor": "white",
             "linecolor": "white",
             "minorgridcolor": "white",
             "startlinecolor": "#2a3f5f"
            },
            "type": "carpet"
           }
          ],
          "choropleth": [
           {
            "colorbar": {
             "outlinewidth": 0,
             "ticks": ""
            },
            "type": "choropleth"
           }
          ],
          "contour": [
           {
            "colorbar": {
             "outlinewidth": 0,
             "ticks": ""
            },
            "colorscale": [
             [
              0,
              "#0d0887"
             ],
             [
              0.1111111111111111,
              "#46039f"
             ],
             [
              0.2222222222222222,
              "#7201a8"
             ],
             [
              0.3333333333333333,
              "#9c179e"
             ],
             [
              0.4444444444444444,
              "#bd3786"
             ],
             [
              0.5555555555555556,
              "#d8576b"
             ],
             [
              0.6666666666666666,
              "#ed7953"
             ],
             [
              0.7777777777777778,
              "#fb9f3a"
             ],
             [
              0.8888888888888888,
              "#fdca26"
             ],
             [
              1,
              "#f0f921"
             ]
            ],
            "type": "contour"
           }
          ],
          "contourcarpet": [
           {
            "colorbar": {
             "outlinewidth": 0,
             "ticks": ""
            },
            "type": "contourcarpet"
           }
          ],
          "heatmap": [
           {
            "colorbar": {
             "outlinewidth": 0,
             "ticks": ""
            },
            "colorscale": [
             [
              0,
              "#0d0887"
             ],
             [
              0.1111111111111111,
              "#46039f"
             ],
             [
              0.2222222222222222,
              "#7201a8"
             ],
             [
              0.3333333333333333,
              "#9c179e"
             ],
             [
              0.4444444444444444,
              "#bd3786"
             ],
             [
              0.5555555555555556,
              "#d8576b"
             ],
             [
              0.6666666666666666,
              "#ed7953"
             ],
             [
              0.7777777777777778,
              "#fb9f3a"
             ],
             [
              0.8888888888888888,
              "#fdca26"
             ],
             [
              1,
              "#f0f921"
             ]
            ],
            "type": "heatmap"
           }
          ],
          "heatmapgl": [
           {
            "colorbar": {
             "outlinewidth": 0,
             "ticks": ""
            },
            "colorscale": [
             [
              0,
              "#0d0887"
             ],
             [
              0.1111111111111111,
              "#46039f"
             ],
             [
              0.2222222222222222,
              "#7201a8"
             ],
             [
              0.3333333333333333,
              "#9c179e"
             ],
             [
              0.4444444444444444,
              "#bd3786"
             ],
             [
              0.5555555555555556,
              "#d8576b"
             ],
             [
              0.6666666666666666,
              "#ed7953"
             ],
             [
              0.7777777777777778,
              "#fb9f3a"
             ],
             [
              0.8888888888888888,
              "#fdca26"
             ],
             [
              1,
              "#f0f921"
             ]
            ],
            "type": "heatmapgl"
           }
          ],
          "histogram": [
           {
            "marker": {
             "pattern": {
              "fillmode": "overlay",
              "size": 10,
              "solidity": 0.2
             }
            },
            "type": "histogram"
           }
          ],
          "histogram2d": [
           {
            "colorbar": {
             "outlinewidth": 0,
             "ticks": ""
            },
            "colorscale": [
             [
              0,
              "#0d0887"
             ],
             [
              0.1111111111111111,
              "#46039f"
             ],
             [
              0.2222222222222222,
              "#7201a8"
             ],
             [
              0.3333333333333333,
              "#9c179e"
             ],
             [
              0.4444444444444444,
              "#bd3786"
             ],
             [
              0.5555555555555556,
              "#d8576b"
             ],
             [
              0.6666666666666666,
              "#ed7953"
             ],
             [
              0.7777777777777778,
              "#fb9f3a"
             ],
             [
              0.8888888888888888,
              "#fdca26"
             ],
             [
              1,
              "#f0f921"
             ]
            ],
            "type": "histogram2d"
           }
          ],
          "histogram2dcontour": [
           {
            "colorbar": {
             "outlinewidth": 0,
             "ticks": ""
            },
            "colorscale": [
             [
              0,
              "#0d0887"
             ],
             [
              0.1111111111111111,
              "#46039f"
             ],
             [
              0.2222222222222222,
              "#7201a8"
             ],
             [
              0.3333333333333333,
              "#9c179e"
             ],
             [
              0.4444444444444444,
              "#bd3786"
             ],
             [
              0.5555555555555556,
              "#d8576b"
             ],
             [
              0.6666666666666666,
              "#ed7953"
             ],
             [
              0.7777777777777778,
              "#fb9f3a"
             ],
             [
              0.8888888888888888,
              "#fdca26"
             ],
             [
              1,
              "#f0f921"
             ]
            ],
            "type": "histogram2dcontour"
           }
          ],
          "mesh3d": [
           {
            "colorbar": {
             "outlinewidth": 0,
             "ticks": ""
            },
            "type": "mesh3d"
           }
          ],
          "parcoords": [
           {
            "line": {
             "colorbar": {
              "outlinewidth": 0,
              "ticks": ""
             }
            },
            "type": "parcoords"
           }
          ],
          "pie": [
           {
            "automargin": true,
            "type": "pie"
           }
          ],
          "scatter": [
           {
            "marker": {
             "colorbar": {
              "outlinewidth": 0,
              "ticks": ""
             }
            },
            "type": "scatter"
           }
          ],
          "scatter3d": [
           {
            "line": {
             "colorbar": {
              "outlinewidth": 0,
              "ticks": ""
             }
            },
            "marker": {
             "colorbar": {
              "outlinewidth": 0,
              "ticks": ""
             }
            },
            "type": "scatter3d"
           }
          ],
          "scattercarpet": [
           {
            "marker": {
             "colorbar": {
              "outlinewidth": 0,
              "ticks": ""
             }
            },
            "type": "scattercarpet"
           }
          ],
          "scattergeo": [
           {
            "marker": {
             "colorbar": {
              "outlinewidth": 0,
              "ticks": ""
             }
            },
            "type": "scattergeo"
           }
          ],
          "scattergl": [
           {
            "marker": {
             "colorbar": {
              "outlinewidth": 0,
              "ticks": ""
             }
            },
            "type": "scattergl"
           }
          ],
          "scattermapbox": [
           {
            "marker": {
             "colorbar": {
              "outlinewidth": 0,
              "ticks": ""
             }
            },
            "type": "scattermapbox"
           }
          ],
          "scatterpolar": [
           {
            "marker": {
             "colorbar": {
              "outlinewidth": 0,
              "ticks": ""
             }
            },
            "type": "scatterpolar"
           }
          ],
          "scatterpolargl": [
           {
            "marker": {
             "colorbar": {
              "outlinewidth": 0,
              "ticks": ""
             }
            },
            "type": "scatterpolargl"
           }
          ],
          "scatterternary": [
           {
            "marker": {
             "colorbar": {
              "outlinewidth": 0,
              "ticks": ""
             }
            },
            "type": "scatterternary"
           }
          ],
          "surface": [
           {
            "colorbar": {
             "outlinewidth": 0,
             "ticks": ""
            },
            "colorscale": [
             [
              0,
              "#0d0887"
             ],
             [
              0.1111111111111111,
              "#46039f"
             ],
             [
              0.2222222222222222,
              "#7201a8"
             ],
             [
              0.3333333333333333,
              "#9c179e"
             ],
             [
              0.4444444444444444,
              "#bd3786"
             ],
             [
              0.5555555555555556,
              "#d8576b"
             ],
             [
              0.6666666666666666,
              "#ed7953"
             ],
             [
              0.7777777777777778,
              "#fb9f3a"
             ],
             [
              0.8888888888888888,
              "#fdca26"
             ],
             [
              1,
              "#f0f921"
             ]
            ],
            "type": "surface"
           }
          ],
          "table": [
           {
            "cells": {
             "fill": {
              "color": "#EBF0F8"
             },
             "line": {
              "color": "white"
             }
            },
            "header": {
             "fill": {
              "color": "#C8D4E3"
             },
             "line": {
              "color": "white"
             }
            },
            "type": "table"
           }
          ]
         },
         "layout": {
          "annotationdefaults": {
           "arrowcolor": "#2a3f5f",
           "arrowhead": 0,
           "arrowwidth": 1
          },
          "autotypenumbers": "strict",
          "coloraxis": {
           "colorbar": {
            "outlinewidth": 0,
            "ticks": ""
           }
          },
          "colorscale": {
           "diverging": [
            [
             0,
             "#8e0152"
            ],
            [
             0.1,
             "#c51b7d"
            ],
            [
             0.2,
             "#de77ae"
            ],
            [
             0.3,
             "#f1b6da"
            ],
            [
             0.4,
             "#fde0ef"
            ],
            [
             0.5,
             "#f7f7f7"
            ],
            [
             0.6,
             "#e6f5d0"
            ],
            [
             0.7,
             "#b8e186"
            ],
            [
             0.8,
             "#7fbc41"
            ],
            [
             0.9,
             "#4d9221"
            ],
            [
             1,
             "#276419"
            ]
           ],
           "sequential": [
            [
             0,
             "#0d0887"
            ],
            [
             0.1111111111111111,
             "#46039f"
            ],
            [
             0.2222222222222222,
             "#7201a8"
            ],
            [
             0.3333333333333333,
             "#9c179e"
            ],
            [
             0.4444444444444444,
             "#bd3786"
            ],
            [
             0.5555555555555556,
             "#d8576b"
            ],
            [
             0.6666666666666666,
             "#ed7953"
            ],
            [
             0.7777777777777778,
             "#fb9f3a"
            ],
            [
             0.8888888888888888,
             "#fdca26"
            ],
            [
             1,
             "#f0f921"
            ]
           ],
           "sequentialminus": [
            [
             0,
             "#0d0887"
            ],
            [
             0.1111111111111111,
             "#46039f"
            ],
            [
             0.2222222222222222,
             "#7201a8"
            ],
            [
             0.3333333333333333,
             "#9c179e"
            ],
            [
             0.4444444444444444,
             "#bd3786"
            ],
            [
             0.5555555555555556,
             "#d8576b"
            ],
            [
             0.6666666666666666,
             "#ed7953"
            ],
            [
             0.7777777777777778,
             "#fb9f3a"
            ],
            [
             0.8888888888888888,
             "#fdca26"
            ],
            [
             1,
             "#f0f921"
            ]
           ]
          },
          "colorway": [
           "#636efa",
           "#EF553B",
           "#00cc96",
           "#ab63fa",
           "#FFA15A",
           "#19d3f3",
           "#FF6692",
           "#B6E880",
           "#FF97FF",
           "#FECB52"
          ],
          "font": {
           "color": "#2a3f5f"
          },
          "geo": {
           "bgcolor": "white",
           "lakecolor": "white",
           "landcolor": "#E5ECF6",
           "showlakes": true,
           "showland": true,
           "subunitcolor": "white"
          },
          "hoverlabel": {
           "align": "left"
          },
          "hovermode": "closest",
          "mapbox": {
           "style": "light"
          },
          "paper_bgcolor": "white",
          "plot_bgcolor": "#E5ECF6",
          "polar": {
           "angularaxis": {
            "gridcolor": "white",
            "linecolor": "white",
            "ticks": ""
           },
           "bgcolor": "#E5ECF6",
           "radialaxis": {
            "gridcolor": "white",
            "linecolor": "white",
            "ticks": ""
           }
          },
          "scene": {
           "xaxis": {
            "backgroundcolor": "#E5ECF6",
            "gridcolor": "white",
            "gridwidth": 2,
            "linecolor": "white",
            "showbackground": true,
            "ticks": "",
            "zerolinecolor": "white"
           },
           "yaxis": {
            "backgroundcolor": "#E5ECF6",
            "gridcolor": "white",
            "gridwidth": 2,
            "linecolor": "white",
            "showbackground": true,
            "ticks": "",
            "zerolinecolor": "white"
           },
           "zaxis": {
            "backgroundcolor": "#E5ECF6",
            "gridcolor": "white",
            "gridwidth": 2,
            "linecolor": "white",
            "showbackground": true,
            "ticks": "",
            "zerolinecolor": "white"
           }
          },
          "shapedefaults": {
           "line": {
            "color": "#2a3f5f"
           }
          },
          "ternary": {
           "aaxis": {
            "gridcolor": "white",
            "linecolor": "white",
            "ticks": ""
           },
           "baxis": {
            "gridcolor": "white",
            "linecolor": "white",
            "ticks": ""
           },
           "bgcolor": "#E5ECF6",
           "caxis": {
            "gridcolor": "white",
            "linecolor": "white",
            "ticks": ""
           }
          },
          "title": {
           "x": 0.05
          },
          "xaxis": {
           "automargin": true,
           "gridcolor": "white",
           "linecolor": "white",
           "ticks": "",
           "title": {
            "standoff": 15
           },
           "zerolinecolor": "white",
           "zerolinewidth": 2
          },
          "yaxis": {
           "automargin": true,
           "gridcolor": "white",
           "linecolor": "white",
           "ticks": "",
           "title": {
            "standoff": 15
           },
           "zerolinecolor": "white",
           "zerolinewidth": 2
          }
         }
        }
       }
      }
     },
     "metadata": {},
     "output_type": "display_data"
    }
   ],
   "source": [
    "fig = px.treemap(df_tree_map, path=[px.Constant(\"the nature of the harassment you experienced?\"), \n",
    "                                    'NATURE'], values='Yes', color='Yes'\n",
    "                                    ,color_continuous_scale='GnBu')\n",
    "fig.update_layout(margin = dict(t=50, l=25, r=25, b=25))\n",
    "fig.show()"
   ]
  },
  {
   "cell_type": "markdown",
   "metadata": {},
   "source": [
    "### Q53. Do you intend to leave your current position in the next two years?\n"
   ]
  },
  {
   "cell_type": "code",
   "execution_count": 70,
   "metadata": {},
   "outputs": [
    {
     "data": {
      "text/html": [
       "<div>\n",
       "<style scoped>\n",
       "    .dataframe tbody tr th:only-of-type {\n",
       "        vertical-align: middle;\n",
       "    }\n",
       "\n",
       "    .dataframe tbody tr th {\n",
       "        vertical-align: top;\n",
       "    }\n",
       "\n",
       "    .dataframe thead th {\n",
       "        text-align: right;\n",
       "    }\n",
       "</style>\n",
       "<table border=\"1\" class=\"dataframe\">\n",
       "  <thead>\n",
       "    <tr style=\"text-align: right;\">\n",
       "      <th></th>\n",
       "      <th>GENERAL_DEMO_GROUP</th>\n",
       "      <th>DESCRIP_E</th>\n",
       "      <th>Yes</th>\n",
       "      <th>No</th>\n",
       "      <th>Not Sure</th>\n",
       "    </tr>\n",
       "  </thead>\n",
       "  <tbody>\n",
       "    <tr>\n",
       "      <th>0</th>\n",
       "      <td>ethnicity</td>\n",
       "      <td>Black</td>\n",
       "      <td>34.247788</td>\n",
       "      <td>26.557522</td>\n",
       "      <td>39.123894</td>\n",
       "    </tr>\n",
       "    <tr>\n",
       "      <th>1</th>\n",
       "      <td>ethnicity</td>\n",
       "      <td>Chinese</td>\n",
       "      <td>23.585106</td>\n",
       "      <td>37.617021</td>\n",
       "      <td>38.765957</td>\n",
       "    </tr>\n",
       "    <tr>\n",
       "      <th>2</th>\n",
       "      <td>ethnicity</td>\n",
       "      <td>Filipino</td>\n",
       "      <td>23.189655</td>\n",
       "      <td>37.293103</td>\n",
       "      <td>39.568966</td>\n",
       "    </tr>\n",
       "    <tr>\n",
       "      <th>3</th>\n",
       "      <td>ethnicity</td>\n",
       "      <td>Japanese</td>\n",
       "      <td>27.071429</td>\n",
       "      <td>33.250000</td>\n",
       "      <td>39.785714</td>\n",
       "    </tr>\n",
       "    <tr>\n",
       "      <th>4</th>\n",
       "      <td>ethnicity</td>\n",
       "      <td>Korean</td>\n",
       "      <td>27.342857</td>\n",
       "      <td>31.685714</td>\n",
       "      <td>41.085714</td>\n",
       "    </tr>\n",
       "  </tbody>\n",
       "</table>\n",
       "</div>"
      ],
      "text/plain": [
       "  GENERAL_DEMO_GROUP DESCRIP_E        Yes         No   Not Sure\n",
       "0          ethnicity     Black  34.247788  26.557522  39.123894\n",
       "1          ethnicity   Chinese  23.585106  37.617021  38.765957\n",
       "2          ethnicity  Filipino  23.189655  37.293103  39.568966\n",
       "3          ethnicity  Japanese  27.071429  33.250000  39.785714\n",
       "4          ethnicity    Korean  27.342857  31.685714  41.085714"
      ]
     },
     "execution_count": 70,
     "metadata": {},
     "output_type": "execute_result"
    }
   ],
   "source": [
    "df_tree_map = df_emp_survey.query(\"QUESTION == 'Q53' and SELECTED=='selected'\").groupby(['GENERAL_DEMO_GROUP','DESCRIP_E'])[['ANSWER1','ANSWER2', 'ANSWER3']].mean().reset_index()\n",
    "df_tree_map.rename(columns={'ANSWER1': 'Yes', 'ANSWER2':'No', 'ANSWER3':'Not Sure'}, inplace=True)\n",
    "df_tree_map.head()"
   ]
  },
  {
   "cell_type": "markdown",
   "metadata": {},
   "source": [
    "About the same pct of people selected Yes, No and Not sure"
   ]
  },
  {
   "cell_type": "code",
   "execution_count": 71,
   "metadata": {},
   "outputs": [
    {
     "name": "stderr",
     "output_type": "stream",
     "text": [
      "C:\\Users\\Qasim\\AppData\\Local\\Temp/ipykernel_19112/531491799.py:1: FutureWarning:\n",
      "\n",
      "Dropping of nuisance columns in DataFrame reductions (with 'numeric_only=None') is deprecated; in a future version this will raise TypeError.  Select only valid columns before calling the reduction.\n",
      "\n"
     ]
    },
    {
     "data": {
      "text/plain": [
       "Text(0.5, 1.0, 'Do you intend to leave your current position in the next two years?')"
      ]
     },
     "execution_count": 71,
     "metadata": {},
     "output_type": "execute_result"
    },
    {
     "data": {
      "image/png": "[encoded data removed]",
      "text/plain": [
       "<Figure size 216x216 with 1 Axes>"
      ]
     },
     "metadata": {},
     "output_type": "display_data"
    }
   ],
   "source": [
    "all_choice_mean = df_tree_map.mean().to_dict()\n",
    "plt.figure(figsize=(3,3))\n",
    "plt.pie(all_choice_mean.values(),labels=[*all_choice_mean], autopct='%1.1f%%')\n",
    "plt.title('Do you intend to leave your current position in the next two years?')"
   ]
  },
  {
   "cell_type": "code",
   "execution_count": 72,
   "metadata": {},
   "outputs": [
    {
     "data": {
      "application/vnd.plotly.v1+json": {
       "config": {
        "plotlyServerURL": "https://plot.ly"
       },
       "data": [
        {
         "branchvalues": "total",
         "customdata": [
          [
           30.73469387755102
          ],
          [
           32.375
          ],
          [
           27.176470588235293
          ],
          [
           31.62962962962963
          ],
          [
           26.61764705882353
          ],
          [
           32.878787878787875
          ],
          [
           30.161290322580644
          ],
          [
           29
          ],
          [
           30.25
          ],
          [
           30.743243243243242
          ],
          [
           34.625
          ],
          [
           34.24778761061947
          ],
          [
           23.58510638297872
          ],
          [
           27.448979591836736
          ],
          [
           23.189655172413794
          ],
          [
           25.61904761904762
          ],
          [
           33.9765625
          ],
          [
           33.86206896551724
          ],
          [
           26.876923076923077
          ],
          [
           29.71917808219178
          ],
          [
           22.681818181818187
          ],
          [
           27.071428571428573
          ],
          [
           27.34285714285714
          ],
          [
           28.010204081632654
          ],
          [
           30.40625
          ],
          [
           27.71917808219178
          ],
          [
           29.93103448275862
          ],
          [
           29.9468085106383
          ],
          [
           27.097435897435897
          ],
          [
           27.35164835164835
          ],
          [
           29.08108108108108
          ],
          [
           30.105263157894736
          ],
          [
           30.666666666666668
          ],
          [
           32.005494505494504
          ],
          [
           28.45077720207254
          ],
          [
           30.58
          ],
          [
           25.836363636363636
          ],
          [
           29.902564102564103
          ],
          [
           28.766209533805593
          ],
          [
           30.056203295803716
          ],
          [
           28.753998020183673
          ],
          [
           26.621995923519005
          ],
          [
           29.861011847543363
          ],
          [
           30.11872802827582
          ],
          [
           31.228951228215973
          ],
          [
           28.569024072343908
          ],
          [
           29.475060194989677
          ]
         ],
         "domain": {
          "x": [
           0,
           1
          ],
          "y": [
           0,
           1
          ]
         },
         "hovertemplate": "labels=%{label}<br>Yes_sum=%{value}<br>parent=%{parent}<br>id=%{id}<br>Yes=%{color}<extra></extra>",
         "ids": [
          "Q53 Intention to leave current position in the next two years - YES/person with disability-specified/A chronic health condition or pain affects ability to function on a regular or episodic basis due to migraines, Crohn's disease, colitis, and other disabilities or health conditions",
          "Q53 Intention to leave current position in the next two years - YES/person with disability-specified/A cognitive disability affects ability to carry out tasks involving executive functioning, such as planning and organization, learning information, communication and memory, including autism or Asperger's syndrome, attention deficit disorder, and learning disabilities",
          "Q53 Intention to leave current position in the next two years - YES/person with disability-specified/A hearing disability affects ability to hear, including being hard of hearing, deafness or acoustic distortion",
          "Q53 Intention to leave current position in the next two years - YES/person with disability-specified/A mental health issue affects psychology or behaviour, such as anxiety, depression or social / compulsive disorder or phobia or psychiatric illness",
          "Q53 Intention to leave current position in the next two years - YES/person with disability-specified/A mobility issue affects ability to move your body, including the required use of a wheelchair or a cane, or other issues impacting your mobility",
          "Q53 Intention to leave current position in the next two years - YES/person with disability-specified/A seeing disability affects vision, including total blindness, partial sight and visual distortion",
          "Q53 Intention to leave current position in the next two years - YES/person with disability-specified/A sensory / environmental disability affects sensitivity to light, sounds or other distractions, as well as allergens and other environmental sensitivities",
          "Q53 Intention to leave current position in the next two years - YES/person with disability-specified/An intellectual disability affects your ability to learn and to adapt behaviour to different situations",
          "Q53 Intention to leave current position in the next two years - YES/person with disability-specified/An issue with flexibility or dexterity affects ability to move joints or perform motor tasks, especially with your hands",
          "Q53 Intention to leave current position in the next two years - YES/sexuality/Another sexual orientation",
          "Q53 Intention to leave current position in the next two years - YES/sexuality/Bisexual",
          "Q53 Intention to leave current position in the next two years - YES/ethnicity/Black",
          "Q53 Intention to leave current position in the next two years - YES/ethnicity/Chinese",
          "Q53 Intention to leave current position in the next two years - YES/gender/Female gender",
          "Q53 Intention to leave current position in the next two years - YES/ethnicity/Filipino",
          "Q53 Intention to leave current position in the next two years - YES/indigenous-specified/First Nation (North American Indian)",
          "Q53 Intention to leave current position in the next two years - YES/sexuality/Gay or lesbian",
          "Q53 Intention to leave current position in the next two years - YES/gender/Gender diverse",
          "Q53 Intention to leave current position in the next two years - YES/sexuality/Heterosexual",
          "Q53 Intention to leave current position in the next two years - YES/indigenous/Indigenous",
          "Q53 Intention to leave current position in the next two years - YES/indigenous-specified/Inuk (Inuit)",
          "Q53 Intention to leave current position in the next two years - YES/ethnicity/Japanese",
          "Q53 Intention to leave current position in the next two years - YES/ethnicity/Korean",
          "Q53 Intention to leave current position in the next two years - YES/gender/Male gender",
          "Q53 Intention to leave current position in the next two years - YES/indigenous-specified/Métis",
          "Q53 Intention to leave current position in the next two years - YES/indigenous/Non-Indigenous",
          "Q53 Intention to leave current position in the next two years - YES/ethnicity/Non-White Latin American (including: Indigenous persons from Central and South America, etc.)",
          "Q53 Intention to leave current position in the next two years - YES/ethnicity/Non-White West Asian, North African or Arab (including: Egyptian; Libyan; Lebanese; Iranian; etc.)",
          "Q53 Intention to leave current position in the next two years - YES/visible minority/Non-visible minority",
          "Q53 Intention to leave current position in the next two years - YES/person with disability/Not a person with a disability",
          "Q53 Intention to leave current position in the next two years - YES/person with disability-specified/Other disability (including: learning disabilities, developmental disabilities and all other types of disabilities)",
          "Q53 Intention to leave current position in the next two years - YES/ethnicity/Other visible minority group",
          "Q53 Intention to leave current position in the next two years - YES/ethnicity/Person of mixed origin (with one parent in one of the visible minority groups)",
          "Q53 Intention to leave current position in the next two years - YES/person with disability/Person with a disability",
          "Q53 Intention to leave current position in the next two years - YES/sexuality/Prefer not to answer",
          "Q53 Intention to leave current position in the next two years - YES/ethnicity/South Asian/East Indian (including: Indian from India; Bangladeshi; Pakistani; East Indian from Guyana, Trinidad, East Africa; etc.)",
          "Q53 Intention to leave current position in the next two years - YES/ethnicity/Southeast Asian (including: Burmese; Cambodian; Laotian; Thai; Vietnamese; etc.)",
          "Q53 Intention to leave current position in the next two years - YES/visible minority/Visible minority",
          "Q53 Intention to leave current position in the next two years - YES/ethnicity",
          "Q53 Intention to leave current position in the next two years - YES/gender",
          "Q53 Intention to leave current position in the next two years - YES/indigenous",
          "Q53 Intention to leave current position in the next two years - YES/indigenous-specified",
          "Q53 Intention to leave current position in the next two years - YES/person with disability",
          "Q53 Intention to leave current position in the next two years - YES/person with disability-specified",
          "Q53 Intention to leave current position in the next two years - YES/sexuality",
          "Q53 Intention to leave current position in the next two years - YES/visible minority",
          "Q53 Intention to leave current position in the next two years - YES"
         ],
         "labels": [
          "A chronic health condition or pain affects ability to function on a regular or episodic basis due to migraines, Crohn's disease, colitis, and other disabilities or health conditions",
          "A cognitive disability affects ability to carry out tasks involving executive functioning, such as planning and organization, learning information, communication and memory, including autism or Asperger's syndrome, attention deficit disorder, and learning disabilities",
          "A hearing disability affects ability to hear, including being hard of hearing, deafness or acoustic distortion",
          "A mental health issue affects psychology or behaviour, such as anxiety, depression or social / compulsive disorder or phobia or psychiatric illness",
          "A mobility issue affects ability to move your body, including the required use of a wheelchair or a cane, or other issues impacting your mobility",
          "A seeing disability affects vision, including total blindness, partial sight and visual distortion",
          "A sensory / environmental disability affects sensitivity to light, sounds or other distractions, as well as allergens and other environmental sensitivities",
          "An intellectual disability affects your ability to learn and to adapt behaviour to different situations",
          "An issue with flexibility or dexterity affects ability to move joints or perform motor tasks, especially with your hands",
          "Another sexual orientation",
          "Bisexual",
          "Black",
          "Chinese",
          "Female gender",
          "Filipino",
          "First Nation (North American Indian)",
          "Gay or lesbian",
          "Gender diverse",
          "Heterosexual",
          "Indigenous",
          "Inuk (Inuit)",
          "Japanese",
          "Korean",
          "Male gender",
          "Métis",
          "Non-Indigenous",
          "Non-White Latin American (including: Indigenous persons from Central and South America, etc.)",
          "Non-White West Asian, North African or Arab (including: Egyptian; Libyan; Lebanese; Iranian; etc.)",
          "Non-visible minority",
          "Not a person with a disability",
          "Other disability (including: learning disabilities, developmental disabilities and all other types of disabilities)",
          "Other visible minority group",
          "Person of mixed origin (with one parent in one of the visible minority groups)",
          "Person with a disability",
          "Prefer not to answer",
          "South Asian/East Indian (including: Indian from India; Bangladeshi; Pakistani; East Indian from Guyana, Trinidad, East Africa; etc.)",
          "Southeast Asian (including: Burmese; Cambodian; Laotian; Thai; Vietnamese; etc.)",
          "Visible minority",
          "ethnicity",
          "gender",
          "indigenous",
          "indigenous-specified",
          "person with disability",
          "person with disability-specified",
          "sexuality",
          "visible minority",
          "Q53 Intention to leave current position in the next two years - YES"
         ],
         "marker": {
          "coloraxis": "coloraxis",
          "colors": [
           30.73469387755102,
           32.375,
           27.176470588235293,
           31.62962962962963,
           26.61764705882353,
           32.878787878787875,
           30.161290322580644,
           29,
           30.25,
           30.743243243243242,
           34.625,
           34.24778761061947,
           23.58510638297872,
           27.448979591836736,
           23.189655172413794,
           25.61904761904762,
           33.9765625,
           33.86206896551724,
           26.876923076923077,
           29.71917808219178,
           22.681818181818187,
           27.071428571428573,
           27.34285714285714,
           28.010204081632654,
           30.40625,
           27.71917808219178,
           29.93103448275862,
           29.9468085106383,
           27.097435897435897,
           27.35164835164835,
           29.08108108108108,
           30.105263157894736,
           30.666666666666668,
           32.005494505494504,
           28.45077720207254,
           30.58,
           25.836363636363636,
           29.902564102564103,
           28.766209533805593,
           30.056203295803716,
           28.753998020183673,
           26.621995923519005,
           29.861011847543363,
           30.11872802827582,
           31.228951228215973,
           28.569024072343908,
           29.475060194989677
          ]
         },
         "name": "",
         "parents": [
          "Q53 Intention to leave current position in the next two years - YES/person with disability-specified",
          "Q53 Intention to leave current position in the next two years - YES/person with disability-specified",
          "Q53 Intention to leave current position in the next two years - YES/person with disability-specified",
          "Q53 Intention to leave current position in the next two years - YES/person with disability-specified",
          "Q53 Intention to leave current position in the next two years - YES/person with disability-specified",
          "Q53 Intention to leave current position in the next two years - YES/person with disability-specified",
          "Q53 Intention to leave current position in the next two years - YES/person with disability-specified",
          "Q53 Intention to leave current position in the next two years - YES/person with disability-specified",
          "Q53 Intention to leave current position in the next two years - YES/person with disability-specified",
          "Q53 Intention to leave current position in the next two years - YES/sexuality",
          "Q53 Intention to leave current position in the next two years - YES/sexuality",
          "Q53 Intention to leave current position in the next two years - YES/ethnicity",
          "Q53 Intention to leave current position in the next two years - YES/ethnicity",
          "Q53 Intention to leave current position in the next two years - YES/gender",
          "Q53 Intention to leave current position in the next two years - YES/ethnicity",
          "Q53 Intention to leave current position in the next two years - YES/indigenous-specified",
          "Q53 Intention to leave current position in the next two years - YES/sexuality",
          "Q53 Intention to leave current position in the next two years - YES/gender",
          "Q53 Intention to leave current position in the next two years - YES/sexuality",
          "Q53 Intention to leave current position in the next two years - YES/indigenous",
          "Q53 Intention to leave current position in the next two years - YES/indigenous-specified",
          "Q53 Intention to leave current position in the next two years - YES/ethnicity",
          "Q53 Intention to leave current position in the next two years - YES/ethnicity",
          "Q53 Intention to leave current position in the next two years - YES/gender",
          "Q53 Intention to leave current position in the next two years - YES/indigenous-specified",
          "Q53 Intention to leave current position in the next two years - YES/indigenous",
          "Q53 Intention to leave current position in the next two years - YES/ethnicity",
          "Q53 Intention to leave current position in the next two years - YES/ethnicity",
          "Q53 Intention to leave current position in the next two years - YES/visible minority",
          "Q53 Intention to leave current position in the next two years - YES/person with disability",
          "Q53 Intention to leave current position in the next two years - YES/person with disability-specified",
          "Q53 Intention to leave current position in the next two years - YES/ethnicity",
          "Q53 Intention to leave current position in the next two years - YES/ethnicity",
          "Q53 Intention to leave current position in the next two years - YES/person with disability",
          "Q53 Intention to leave current position in the next two years - YES/sexuality",
          "Q53 Intention to leave current position in the next two years - YES/ethnicity",
          "Q53 Intention to leave current position in the next two years - YES/ethnicity",
          "Q53 Intention to leave current position in the next two years - YES/visible minority",
          "Q53 Intention to leave current position in the next two years - YES",
          "Q53 Intention to leave current position in the next two years - YES",
          "Q53 Intention to leave current position in the next two years - YES",
          "Q53 Intention to leave current position in the next two years - YES",
          "Q53 Intention to leave current position in the next two years - YES",
          "Q53 Intention to leave current position in the next two years - YES",
          "Q53 Intention to leave current position in the next two years - YES",
          "Q53 Intention to leave current position in the next two years - YES",
          ""
         ],
         "type": "treemap",
         "values": [
          30.73469387755102,
          32.375,
          27.176470588235293,
          31.62962962962963,
          26.61764705882353,
          32.878787878787875,
          30.161290322580644,
          29,
          30.25,
          30.743243243243242,
          34.625,
          34.24778761061947,
          23.585106382978722,
          27.448979591836736,
          23.189655172413794,
          25.61904761904762,
          33.9765625,
          33.86206896551724,
          26.876923076923077,
          29.71917808219178,
          22.681818181818183,
          27.071428571428573,
          27.34285714285714,
          28.010204081632654,
          30.40625,
          27.71917808219178,
          29.93103448275862,
          29.9468085106383,
          27.097435897435897,
          27.35164835164835,
          29.08108108108108,
          30.105263157894736,
          30.666666666666668,
          32.005494505494504,
          28.45077720207254,
          30.58,
          25.836363636363636,
          29.902564102564103,
          312.50297133461964,
          89.32125263898662,
          57.43835616438356,
          78.70711580086581,
          59.357142857142854,
          299.90460043668907,
          154.67250602223885,
          57,
          1108.9039452549264
         ]
        }
       ],
       "layout": {
        "coloraxis": {
         "colorbar": {
          "title": {
           "text": "Yes"
          }
         },
         "colorscale": [
          [
           0,
           "rgb(247,252,240)"
          ],
          [
           0.125,
           "rgb(224,243,219)"
          ],
          [
           0.25,
           "rgb(204,235,197)"
          ],
          [
           0.375,
           "rgb(168,221,181)"
          ],
          [
           0.5,
           "rgb(123,204,196)"
          ],
          [
           0.625,
           "rgb(78,179,211)"
          ],
          [
           0.75,
           "rgb(43,140,190)"
          ],
          [
           0.875,
           "rgb(8,104,172)"
          ],
          [
           1,
           "rgb(8,64,129)"
          ]
         ]
        },
        "legend": {
         "tracegroupgap": 0
        },
        "margin": {
         "b": 25,
         "l": 25,
         "r": 25,
         "t": 50
        },
        "template": {
         "data": {
          "bar": [
           {
            "error_x": {
             "color": "#2a3f5f"
            },
            "error_y": {
             "color": "#2a3f5f"
            },
            "marker": {
             "line": {
              "color": "#E5ECF6",
              "width": 0.5
             },
             "pattern": {
              "fillmode": "overlay",
              "size": 10,
              "solidity": 0.2
             }
            },
            "type": "bar"
           }
          ],
          "barpolar": [
           {
            "marker": {
             "line": {
              "color": "#E5ECF6",
              "width": 0.5
             },
             "pattern": {
              "fillmode": "overlay",
              "size": 10,
              "solidity": 0.2
             }
            },
            "type": "barpolar"
           }
          ],
          "carpet": [
           {
            "aaxis": {
             "endlinecolor": "#2a3f5f",
             "gridcolor": "white",
             "linecolor": "white",
             "minorgridcolor": "white",
             "startlinecolor": "#2a3f5f"
            },
            "baxis": {
             "endlinecolor": "#2a3f5f",
             "gridcolor": "white",
             "linecolor": "white",
             "minorgridcolor": "white",
             "startlinecolor": "#2a3f5f"
            },
            "type": "carpet"
           }
          ],
          "choropleth": [
           {
            "colorbar": {
             "outlinewidth": 0,
             "ticks": ""
            },
            "type": "choropleth"
           }
          ],
          "contour": [
           {
            "colorbar": {
             "outlinewidth": 0,
             "ticks": ""
            },
            "colorscale": [
             [
              0,
              "#0d0887"
             ],
             [
              0.1111111111111111,
              "#46039f"
             ],
             [
              0.2222222222222222,
              "#7201a8"
             ],
             [
              0.3333333333333333,
              "#9c179e"
             ],
             [
              0.4444444444444444,
              "#bd3786"
             ],
             [
              0.5555555555555556,
              "#d8576b"
             ],
             [
              0.6666666666666666,
              "#ed7953"
             ],
             [
              0.7777777777777778,
              "#fb9f3a"
             ],
             [
              0.8888888888888888,
              "#fdca26"
             ],
             [
              1,
              "#f0f921"
             ]
            ],
            "type": "contour"
           }
          ],
          "contourcarpet": [
           {
            "colorbar": {
             "outlinewidth": 0,
             "ticks": ""
            },
            "type": "contourcarpet"
           }
          ],
          "heatmap": [
           {
            "colorbar": {
             "outlinewidth": 0,
             "ticks": ""
            },
            "colorscale": [
             [
              0,
              "#0d0887"
             ],
             [
              0.1111111111111111,
              "#46039f"
             ],
             [
              0.2222222222222222,
              "#7201a8"
             ],
             [
              0.3333333333333333,
              "#9c179e"
             ],
             [
              0.4444444444444444,
              "#bd3786"
             ],
             [
              0.5555555555555556,
              "#d8576b"
             ],
             [
              0.6666666666666666,
              "#ed7953"
             ],
             [
              0.7777777777777778,
              "#fb9f3a"
             ],
             [
              0.8888888888888888,
              "#fdca26"
             ],
             [
              1,
              "#f0f921"
             ]
            ],
            "type": "heatmap"
           }
          ],
          "heatmapgl": [
           {
            "colorbar": {
             "outlinewidth": 0,
             "ticks": ""
            },
            "colorscale": [
             [
              0,
              "#0d0887"
             ],
             [
              0.1111111111111111,
              "#46039f"
             ],
             [
              0.2222222222222222,
              "#7201a8"
             ],
             [
              0.3333333333333333,
              "#9c179e"
             ],
             [
              0.4444444444444444,
              "#bd3786"
             ],
             [
              0.5555555555555556,
              "#d8576b"
             ],
             [
              0.6666666666666666,
              "#ed7953"
             ],
             [
              0.7777777777777778,
              "#fb9f3a"
             ],
             [
              0.8888888888888888,
              "#fdca26"
             ],
             [
              1,
              "#f0f921"
             ]
            ],
            "type": "heatmapgl"
           }
          ],
          "histogram": [
           {
            "marker": {
             "pattern": {
              "fillmode": "overlay",
              "size": 10,
              "solidity": 0.2
             }
            },
            "type": "histogram"
           }
          ],
          "histogram2d": [
           {
            "colorbar": {
             "outlinewidth": 0,
             "ticks": ""
            },
            "colorscale": [
             [
              0,
              "#0d0887"
             ],
             [
              0.1111111111111111,
              "#46039f"
             ],
             [
              0.2222222222222222,
              "#7201a8"
             ],
             [
              0.3333333333333333,
              "#9c179e"
             ],
             [
              0.4444444444444444,
              "#bd3786"
             ],
             [
              0.5555555555555556,
              "#d8576b"
             ],
             [
              0.6666666666666666,
              "#ed7953"
             ],
             [
              0.7777777777777778,
              "#fb9f3a"
             ],
             [
              0.8888888888888888,
              "#fdca26"
             ],
             [
              1,
              "#f0f921"
             ]
            ],
            "type": "histogram2d"
           }
          ],
          "histogram2dcontour": [
           {
            "colorbar": {
             "outlinewidth": 0,
             "ticks": ""
            },
            "colorscale": [
             [
              0,
              "#0d0887"
             ],
             [
              0.1111111111111111,
              "#46039f"
             ],
             [
              0.2222222222222222,
              "#7201a8"
             ],
             [
              0.3333333333333333,
              "#9c179e"
             ],
             [
              0.4444444444444444,
              "#bd3786"
             ],
             [
              0.5555555555555556,
              "#d8576b"
             ],
             [
              0.6666666666666666,
              "#ed7953"
             ],
             [
              0.7777777777777778,
              "#fb9f3a"
             ],
             [
              0.8888888888888888,
              "#fdca26"
             ],
             [
              1,
              "#f0f921"
             ]
            ],
            "type": "histogram2dcontour"
           }
          ],
          "mesh3d": [
           {
            "colorbar": {
             "outlinewidth": 0,
             "ticks": ""
            },
            "type": "mesh3d"
           }
          ],
          "parcoords": [
           {
            "line": {
             "colorbar": {
              "outlinewidth": 0,
              "ticks": ""
             }
            },
            "type": "parcoords"
           }
          ],
          "pie": [
           {
            "automargin": true,
            "type": "pie"
           }
          ],
          "scatter": [
           {
            "marker": {
             "colorbar": {
              "outlinewidth": 0,
              "ticks": ""
             }
            },
            "type": "scatter"
           }
          ],
          "scatter3d": [
           {
            "line": {
             "colorbar": {
              "outlinewidth": 0,
              "ticks": ""
             }
            },
            "marker": {
             "colorbar": {
              "outlinewidth": 0,
              "ticks": ""
             }
            },
            "type": "scatter3d"
           }
          ],
          "scattercarpet": [
           {
            "marker": {
             "colorbar": {
              "outlinewidth": 0,
              "ticks": ""
             }
            },
            "type": "scattercarpet"
           }
          ],
          "scattergeo": [
           {
            "marker": {
             "colorbar": {
              "outlinewidth": 0,
              "ticks": ""
             }
            },
            "type": "scattergeo"
           }
          ],
          "scattergl": [
           {
            "marker": {
             "colorbar": {
              "outlinewidth": 0,
              "ticks": ""
             }
            },
            "type": "scattergl"
           }
          ],
          "scattermapbox": [
           {
            "marker": {
             "colorbar": {
              "outlinewidth": 0,
              "ticks": ""
             }
            },
            "type": "scattermapbox"
           }
          ],
          "scatterpolar": [
           {
            "marker": {
             "colorbar": {
              "outlinewidth": 0,
              "ticks": ""
             }
            },
            "type": "scatterpolar"
           }
          ],
          "scatterpolargl": [
           {
            "marker": {
             "colorbar": {
              "outlinewidth": 0,
              "ticks": ""
             }
            },
            "type": "scatterpolargl"
           }
          ],
          "scatterternary": [
           {
            "marker": {
             "colorbar": {
              "outlinewidth": 0,
              "ticks": ""
             }
            },
            "type": "scatterternary"
           }
          ],
          "surface": [
           {
            "colorbar": {
             "outlinewidth": 0,
             "ticks": ""
            },
            "colorscale": [
             [
              0,
              "#0d0887"
             ],
             [
              0.1111111111111111,
              "#46039f"
             ],
             [
              0.2222222222222222,
              "#7201a8"
             ],
             [
              0.3333333333333333,
              "#9c179e"
             ],
             [
              0.4444444444444444,
              "#bd3786"
             ],
             [
              0.5555555555555556,
              "#d8576b"
             ],
             [
              0.6666666666666666,
              "#ed7953"
             ],
             [
              0.7777777777777778,
              "#fb9f3a"
             ],
             [
              0.8888888888888888,
              "#fdca26"
             ],
             [
              1,
              "#f0f921"
             ]
            ],
            "type": "surface"
           }
          ],
          "table": [
           {
            "cells": {
             "fill": {
              "color": "#EBF0F8"
             },
             "line": {
              "color": "white"
             }
            },
            "header": {
             "fill": {
              "color": "#C8D4E3"
             },
             "line": {
              "color": "white"
             }
            },
            "type": "table"
           }
          ]
         },
         "layout": {
          "annotationdefaults": {
           "arrowcolor": "#2a3f5f",
           "arrowhead": 0,
           "arrowwidth": 1
          },
          "autotypenumbers": "strict",
          "coloraxis": {
           "colorbar": {
            "outlinewidth": 0,
            "ticks": ""
           }
          },
          "colorscale": {
           "diverging": [
            [
             0,
             "#8e0152"
            ],
            [
             0.1,
             "#c51b7d"
            ],
            [
             0.2,
             "#de77ae"
            ],
            [
             0.3,
             "#f1b6da"
            ],
            [
             0.4,
             "#fde0ef"
            ],
            [
             0.5,
             "#f7f7f7"
            ],
            [
             0.6,
             "#e6f5d0"
            ],
            [
             0.7,
             "#b8e186"
            ],
            [
             0.8,
             "#7fbc41"
            ],
            [
             0.9,
             "#4d9221"
            ],
            [
             1,
             "#276419"
            ]
           ],
           "sequential": [
            [
             0,
             "#0d0887"
            ],
            [
             0.1111111111111111,
             "#46039f"
            ],
            [
             0.2222222222222222,
             "#7201a8"
            ],
            [
             0.3333333333333333,
             "#9c179e"
            ],
            [
             0.4444444444444444,
             "#bd3786"
            ],
            [
             0.5555555555555556,
             "#d8576b"
            ],
            [
             0.6666666666666666,
             "#ed7953"
            ],
            [
             0.7777777777777778,
             "#fb9f3a"
            ],
            [
             0.8888888888888888,
             "#fdca26"
            ],
            [
             1,
             "#f0f921"
            ]
           ],
           "sequentialminus": [
            [
             0,
             "#0d0887"
            ],
            [
             0.1111111111111111,
             "#46039f"
            ],
            [
             0.2222222222222222,
             "#7201a8"
            ],
            [
             0.3333333333333333,
             "#9c179e"
            ],
            [
             0.4444444444444444,
             "#bd3786"
            ],
            [
             0.5555555555555556,
             "#d8576b"
            ],
            [
             0.6666666666666666,
             "#ed7953"
            ],
            [
             0.7777777777777778,
             "#fb9f3a"
            ],
            [
             0.8888888888888888,
             "#fdca26"
            ],
            [
             1,
             "#f0f921"
            ]
           ]
          },
          "colorway": [
           "#636efa",
           "#EF553B",
           "#00cc96",
           "#ab63fa",
           "#FFA15A",
           "#19d3f3",
           "#FF6692",
           "#B6E880",
           "#FF97FF",
           "#FECB52"
          ],
          "font": {
           "color": "#2a3f5f"
          },
          "geo": {
           "bgcolor": "white",
           "lakecolor": "white",
           "landcolor": "#E5ECF6",
           "showlakes": true,
           "showland": true,
           "subunitcolor": "white"
          },
          "hoverlabel": {
           "align": "left"
          },
          "hovermode": "closest",
          "mapbox": {
           "style": "light"
          },
          "paper_bgcolor": "white",
          "plot_bgcolor": "#E5ECF6",
          "polar": {
           "angularaxis": {
            "gridcolor": "white",
            "linecolor": "white",
            "ticks": ""
           },
           "bgcolor": "#E5ECF6",
           "radialaxis": {
            "gridcolor": "white",
            "linecolor": "white",
            "ticks": ""
           }
          },
          "scene": {
           "xaxis": {
            "backgroundcolor": "#E5ECF6",
            "gridcolor": "white",
            "gridwidth": 2,
            "linecolor": "white",
            "showbackground": true,
            "ticks": "",
            "zerolinecolor": "white"
           },
           "yaxis": {
            "backgroundcolor": "#E5ECF6",
            "gridcolor": "white",
            "gridwidth": 2,
            "linecolor": "white",
            "showbackground": true,
            "ticks": "",
            "zerolinecolor": "white"
           },
           "zaxis": {
            "backgroundcolor": "#E5ECF6",
            "gridcolor": "white",
            "gridwidth": 2,
            "linecolor": "white",
            "showbackground": true,
            "ticks": "",
            "zerolinecolor": "white"
           }
          },
          "shapedefaults": {
           "line": {
            "color": "#2a3f5f"
           }
          },
          "ternary": {
           "aaxis": {
            "gridcolor": "white",
            "linecolor": "white",
            "ticks": ""
           },
           "baxis": {
            "gridcolor": "white",
            "linecolor": "white",
            "ticks": ""
           },
           "bgcolor": "#E5ECF6",
           "caxis": {
            "gridcolor": "white",
            "linecolor": "white",
            "ticks": ""
           }
          },
          "title": {
           "x": 0.05
          },
          "xaxis": {
           "automargin": true,
           "gridcolor": "white",
           "linecolor": "white",
           "ticks": "",
           "title": {
            "standoff": 15
           },
           "zerolinecolor": "white",
           "zerolinewidth": 2
          },
          "yaxis": {
           "automargin": true,
           "gridcolor": "white",
           "linecolor": "white",
           "ticks": "",
           "title": {
            "standoff": 15
           },
           "zerolinecolor": "white",
           "zerolinewidth": 2
          }
         }
        }
       }
      }
     },
     "metadata": {},
     "output_type": "display_data"
    }
   ],
   "source": [
    "fig = px.treemap(df_tree_map, path=[px.Constant(\"Q53 Intention to leave current position in the next two years - YES\"), \n",
    "                                    'GENERAL_DEMO_GROUP', 'DESCRIP_E'], values='Yes', color='Yes'\n",
    "                                    ,color_continuous_scale='GnBu')\n",
    "fig.update_layout(margin = dict(t=50, l=25, r=25, b=25))\n",
    "fig.show()"
   ]
  },
  {
   "cell_type": "markdown",
   "metadata": {},
   "source": [
    "### Q54. Please indicate your reason for leaving."
   ]
  },
  {
   "cell_type": "code",
   "execution_count": 76,
   "metadata": {},
   "outputs": [
    {
     "data": {
      "text/html": [
       "<div>\n",
       "<style scoped>\n",
       "    .dataframe tbody tr th:only-of-type {\n",
       "        vertical-align: middle;\n",
       "    }\n",
       "\n",
       "    .dataframe tbody tr th {\n",
       "        vertical-align: top;\n",
       "    }\n",
       "\n",
       "    .dataframe thead th {\n",
       "        text-align: right;\n",
       "    }\n",
       "</style>\n",
       "<table border=\"1\" class=\"dataframe\">\n",
       "  <thead>\n",
       "    <tr style=\"text-align: right;\">\n",
       "      <th></th>\n",
       "      <th>GENERAL_DEMO_GROUP</th>\n",
       "      <th>DESCRIP_E</th>\n",
       "      <th>To retire</th>\n",
       "      <th>To pursue another position within my department or agency</th>\n",
       "      <th>To pursue a position in another department or agency</th>\n",
       "      <th>To pursue a position outside the federal public service</th>\n",
       "      <th>End of my term, casual or student employment</th>\n",
       "      <th>Other</th>\n",
       "    </tr>\n",
       "  </thead>\n",
       "  <tbody>\n",
       "    <tr>\n",
       "      <th>0</th>\n",
       "      <td>ethnicity</td>\n",
       "      <td>Black</td>\n",
       "      <td>3.718310</td>\n",
       "      <td>35.830986</td>\n",
       "      <td>39.028169</td>\n",
       "      <td>4.605634</td>\n",
       "      <td>9.985915</td>\n",
       "      <td>6.845070</td>\n",
       "    </tr>\n",
       "    <tr>\n",
       "      <th>1</th>\n",
       "      <td>ethnicity</td>\n",
       "      <td>Chinese</td>\n",
       "      <td>6.981132</td>\n",
       "      <td>32.339623</td>\n",
       "      <td>33.943396</td>\n",
       "      <td>4.547170</td>\n",
       "      <td>17.716981</td>\n",
       "      <td>4.622642</td>\n",
       "    </tr>\n",
       "    <tr>\n",
       "      <th>2</th>\n",
       "      <td>ethnicity</td>\n",
       "      <td>Filipino</td>\n",
       "      <td>6.125000</td>\n",
       "      <td>34.291667</td>\n",
       "      <td>36.375000</td>\n",
       "      <td>3.416667</td>\n",
       "      <td>14.875000</td>\n",
       "      <td>4.833333</td>\n",
       "    </tr>\n",
       "    <tr>\n",
       "      <th>3</th>\n",
       "      <td>ethnicity</td>\n",
       "      <td>Japanese</td>\n",
       "      <td>23.000000</td>\n",
       "      <td>28.000000</td>\n",
       "      <td>14.666667</td>\n",
       "      <td>6.333333</td>\n",
       "      <td>15.333333</td>\n",
       "      <td>13.000000</td>\n",
       "    </tr>\n",
       "    <tr>\n",
       "      <th>4</th>\n",
       "      <td>ethnicity</td>\n",
       "      <td>Korean</td>\n",
       "      <td>1.714286</td>\n",
       "      <td>42.285714</td>\n",
       "      <td>36.857143</td>\n",
       "      <td>6.571429</td>\n",
       "      <td>8.000000</td>\n",
       "      <td>4.714286</td>\n",
       "    </tr>\n",
       "  </tbody>\n",
       "</table>\n",
       "</div>"
      ],
      "text/plain": [
       "  GENERAL_DEMO_GROUP DESCRIP_E  To retire  \\\n",
       "0          ethnicity     Black   3.718310   \n",
       "1          ethnicity   Chinese   6.981132   \n",
       "2          ethnicity  Filipino   6.125000   \n",
       "3          ethnicity  Japanese  23.000000   \n",
       "4          ethnicity    Korean   1.714286   \n",
       "\n",
       "   To pursue another position within my department or agency  \\\n",
       "0                                          35.830986           \n",
       "1                                          32.339623           \n",
       "2                                          34.291667           \n",
       "3                                          28.000000           \n",
       "4                                          42.285714           \n",
       "\n",
       "   To pursue a position in another department or agency  \\\n",
       "0                                          39.028169      \n",
       "1                                          33.943396      \n",
       "2                                          36.375000      \n",
       "3                                          14.666667      \n",
       "4                                          36.857143      \n",
       "\n",
       "   To pursue a position outside the federal public service  \\\n",
       "0                                           4.605634         \n",
       "1                                           4.547170         \n",
       "2                                           3.416667         \n",
       "3                                           6.333333         \n",
       "4                                           6.571429         \n",
       "\n",
       "   End of my term, casual or student employment      Other  \n",
       "0                                      9.985915   6.845070  \n",
       "1                                     17.716981   4.622642  \n",
       "2                                     14.875000   4.833333  \n",
       "3                                     15.333333  13.000000  \n",
       "4                                      8.000000   4.714286  "
      ]
     },
     "execution_count": 76,
     "metadata": {},
     "output_type": "execute_result"
    }
   ],
   "source": [
    "df_tree_map = df_emp_survey.query(\"QUESTION == 'Q54' and SELECTED=='selected'\").groupby(['GENERAL_DEMO_GROUP','DESCRIP_E'])[['ANSWER1','ANSWER2', 'ANSWER3', 'ANSWER4', 'ANSWER5', 'ANSWER6']].mean().reset_index()\n",
    "df_tree_map.rename(columns={'ANSWER1':'To retire', 'ANSWER2':'To pursue another position within my department or agency', \n",
    "                            'ANSWER3':'To pursue a position in another department or agency', \n",
    "                            'ANSWER4':'To pursue a position outside the federal public service', \n",
    "                            'ANSWER5':'End of my term, casual or student employment', \n",
    "                            'ANSWER6':'Other'}, inplace=True)\n",
    "df_tree_map.head()"
   ]
  },
  {
   "cell_type": "code",
   "execution_count": 77,
   "metadata": {},
   "outputs": [
    {
     "name": "stderr",
     "output_type": "stream",
     "text": [
      "C:\\Users\\Qasim\\AppData\\Local\\Temp/ipykernel_19112/4271289635.py:1: FutureWarning:\n",
      "\n",
      "Dropping of nuisance columns in DataFrame reductions (with 'numeric_only=None') is deprecated; in a future version this will raise TypeError.  Select only valid columns before calling the reduction.\n",
      "\n"
     ]
    },
    {
     "data": {
      "text/plain": [
       "Text(0.5, 1.0, 'Reason for Leaving')"
      ]
     },
     "execution_count": 77,
     "metadata": {},
     "output_type": "execute_result"
    },
    {
     "data": {
      "image/png": "[encoded data removed]",
      "text/plain": [
       "<Figure size 360x360 with 1 Axes>"
      ]
     },
     "metadata": {},
     "output_type": "display_data"
    }
   ],
   "source": [
    "leave_choices = df_tree_map.mean().to_dict()\n",
    "choices = leave_choices.keys()\n",
    "pct = leave_choices.values()\n",
    "plt.figure(figsize=(5,5))\n",
    "plt.pie(pct, labels = choices, autopct='%1.1f%%')\n",
    "plt.title('Reason for Leaving')"
   ]
  },
  {
   "cell_type": "markdown",
   "metadata": {},
   "source": [
    "### Q26. I feel that my immediate supervisor supports my career goals.\n"
   ]
  },
  {
   "cell_type": "code",
   "execution_count": 79,
   "metadata": {},
   "outputs": [
    {
     "data": {
      "text/html": [
       "<div>\n",
       "<style scoped>\n",
       "    .dataframe tbody tr th:only-of-type {\n",
       "        vertical-align: middle;\n",
       "    }\n",
       "\n",
       "    .dataframe tbody tr th {\n",
       "        vertical-align: top;\n",
       "    }\n",
       "\n",
       "    .dataframe thead th {\n",
       "        text-align: right;\n",
       "    }\n",
       "</style>\n",
       "<table border=\"1\" class=\"dataframe\">\n",
       "  <thead>\n",
       "    <tr style=\"text-align: right;\">\n",
       "      <th></th>\n",
       "      <th>Strongly Agree</th>\n",
       "      <th>Somewhat Agree</th>\n",
       "      <th>Neither agree nor disagree</th>\n",
       "      <th>Somewhat Disagree</th>\n",
       "      <th>Strongly Disagree</th>\n",
       "      <th>Disagree</th>\n",
       "    </tr>\n",
       "  </thead>\n",
       "  <tbody>\n",
       "    <tr>\n",
       "      <th>count</th>\n",
       "      <td>59.000000</td>\n",
       "      <td>59.000000</td>\n",
       "      <td>59.000000</td>\n",
       "      <td>59.000000</td>\n",
       "      <td>59.000000</td>\n",
       "      <td>59.000000</td>\n",
       "    </tr>\n",
       "    <tr>\n",
       "      <th>mean</th>\n",
       "      <td>47.072721</td>\n",
       "      <td>24.773840</td>\n",
       "      <td>13.700201</td>\n",
       "      <td>5.020126</td>\n",
       "      <td>4.256780</td>\n",
       "      <td>10.040252</td>\n",
       "    </tr>\n",
       "    <tr>\n",
       "      <th>std</th>\n",
       "      <td>3.534192</td>\n",
       "      <td>1.597598</td>\n",
       "      <td>1.549782</td>\n",
       "      <td>0.954519</td>\n",
       "      <td>1.330853</td>\n",
       "      <td>1.909038</td>\n",
       "    </tr>\n",
       "    <tr>\n",
       "      <th>min</th>\n",
       "      <td>35.722222</td>\n",
       "      <td>18.357143</td>\n",
       "      <td>10.600000</td>\n",
       "      <td>3.241379</td>\n",
       "      <td>2.265152</td>\n",
       "      <td>6.482759</td>\n",
       "    </tr>\n",
       "    <tr>\n",
       "      <th>25%</th>\n",
       "      <td>45.332819</td>\n",
       "      <td>23.919974</td>\n",
       "      <td>12.455291</td>\n",
       "      <td>4.389474</td>\n",
       "      <td>3.461993</td>\n",
       "      <td>8.778947</td>\n",
       "    </tr>\n",
       "    <tr>\n",
       "      <th>50%</th>\n",
       "      <td>47.000000</td>\n",
       "      <td>24.870968</td>\n",
       "      <td>13.885496</td>\n",
       "      <td>5.142857</td>\n",
       "      <td>4.040000</td>\n",
       "      <td>10.285714</td>\n",
       "    </tr>\n",
       "    <tr>\n",
       "      <th>75%</th>\n",
       "      <td>48.649178</td>\n",
       "      <td>25.384840</td>\n",
       "      <td>14.334133</td>\n",
       "      <td>5.746875</td>\n",
       "      <td>5.077006</td>\n",
       "      <td>11.493750</td>\n",
       "    </tr>\n",
       "    <tr>\n",
       "      <th>max</th>\n",
       "      <td>53.431818</td>\n",
       "      <td>29.000000</td>\n",
       "      <td>18.000000</td>\n",
       "      <td>7.250000</td>\n",
       "      <td>9.333333</td>\n",
       "      <td>14.500000</td>\n",
       "    </tr>\n",
       "  </tbody>\n",
       "</table>\n",
       "</div>"
      ],
      "text/plain": [
       "       Strongly Agree  Somewhat Agree  Neither agree nor disagree  \\\n",
       "count       59.000000       59.000000                   59.000000   \n",
       "mean        47.072721       24.773840                   13.700201   \n",
       "std          3.534192        1.597598                    1.549782   \n",
       "min         35.722222       18.357143                   10.600000   \n",
       "25%         45.332819       23.919974                   12.455291   \n",
       "50%         47.000000       24.870968                   13.885496   \n",
       "75%         48.649178       25.384840                   14.334133   \n",
       "max         53.431818       29.000000                   18.000000   \n",
       "\n",
       "       Somewhat Disagree  Strongly Disagree   Disagree  \n",
       "count          59.000000          59.000000  59.000000  \n",
       "mean            5.020126           4.256780  10.040252  \n",
       "std             0.954519           1.330853   1.909038  \n",
       "min             3.241379           2.265152   6.482759  \n",
       "25%             4.389474           3.461993   8.778947  \n",
       "50%             5.142857           4.040000  10.285714  \n",
       "75%             5.746875           5.077006  11.493750  \n",
       "max             7.250000           9.333333  14.500000  "
      ]
     },
     "execution_count": 79,
     "metadata": {},
     "output_type": "execute_result"
    }
   ],
   "source": [
    "df_tree_map = df_emp_survey.query(\"QUESTION == 'Q24'\").groupby(['SELECTED','GENERAL_DEMO_GROUP','DESCRIP_E'])[['ANSWER1','ANSWER2', 'ANSWER3', 'ANSWER4', 'ANSWER5']].mean().reset_index()\n",
    "df_tree_map.rename(columns={'ANSWER1':'Strongly Agree', \n",
    "                            'ANSWER2':'Somewhat Agree', \n",
    "                            'ANSWER3':'Neither agree nor disagree', \n",
    "                            'ANSWER4':'Somewhat Disagree', \n",
    "                            'ANSWER5':'Strongly Disagree'}, inplace=True)\n",
    "df_tree_map['Disagree'] = df_tree_map['Somewhat Disagree'] + df_tree_map['Somewhat Disagree']\n",
    "df_tree_map.describe()"
   ]
  },
  {
   "cell_type": "code",
   "execution_count": 81,
   "metadata": {},
   "outputs": [
    {
     "data": {
      "application/vnd.plotly.v1+json": {
       "config": {
        "plotlyServerURL": "https://plot.ly"
       },
       "data": [
        {
         "branchvalues": "total",
         "customdata": [
          [
           10.285714285714286
          ],
          [
           11.755102040816325
          ],
          [
           14.3
          ],
          [
           10.55
          ],
          [
           10.294117647058824
          ],
          [
           11.705882352941176
          ],
          [
           13.11111111111111
          ],
          [
           10.037037037037036
          ],
          [
           10.294117647058824
          ],
          [
           11.82857142857143
          ],
          [
           11.575757575757576
          ],
          [
           11.243243243243244
          ],
          [
           10.580645161290322
          ],
          [
           11.4375
          ],
          [
           12.444444444444445
          ],
          [
           12.444444444444445
          ],
          [
           10.3125
          ],
          [
           12.285714285714286
          ],
          [
           11.360000000000001
          ],
          [
           12.2
          ],
          [
           8.053097345132743
          ],
          [
           8.725663716814159
          ],
          [
           7.1063829787234045
          ],
          [
           8.757894736842106
          ],
          [
           7.804511278195489
          ],
          [
           6.482758620689655
          ],
          [
           9.35064935064935
          ],
          [
           9.428571428571429
          ],
          [
           7.928571428571429
          ],
          [
           14.5
          ],
          [
           7.212121212121212
          ],
          [
           8.930693069306932
          ],
          [
           11.272727272727273
          ],
          [
           12.428571428571429
          ],
          [
           9.408450704225352
          ],
          [
           13.2
          ],
          [
           10.294117647058824
          ],
          [
           7.172932330827067
          ],
          [
           10.461538461538462
          ],
          [
           7.861386138613861
          ],
          [
           10.758620689655173
          ],
          [
           8.870967741935484
          ],
          [
           7.212765957446808
          ],
          [
           8.505263157894737
          ],
          [
           7.409090909090909
          ],
          [
           7.317460317460317
          ],
          [
           11.567567567567568
          ],
          [
           11.549999999999999
          ],
          [
           10.945454545454545
          ],
          [
           9.37704918032787
          ],
          [
           9.142857142857142
          ],
          [
           8.988505747126437
          ],
          [
           11.380952380952383
          ],
          [
           9.221374045801527
          ],
          [
           8.8
          ],
          [
           8.823529411764707
          ],
          [
           7.821428571428571
          ],
          [
           9.285714285714286
          ],
          [
           8.969696969696969
          ],
          [
           9.150467881982452
          ],
          [
           9.768034804332286
          ],
          [
           10.944346422746065
          ],
          [
           8.430085933121614
          ],
          [
           10.442442215090802
          ],
          [
           9.790740291589188
          ],
          [
           11.525871580705166
          ],
          [
           11.633182681300273
          ],
          [
           9.970360412346906
          ],
          [
           8.263742886777113
          ],
          [
           10.417909067230918
          ],
          [
           10.38519482894198
          ],
          [
           10.397080768866658
          ]
         ],
         "domain": {
          "x": [
           0,
           1
          ],
          "y": [
           0,
           1
          ]
         },
         "hovertemplate": "labels=%{label}<br>Disagree_sum=%{value}<br>parent=%{parent}<br>id=%{id}<br>Disagree=%{color}<extra></extra>",
         "ids": [
          "Q53 I feel that my immediate supervisor supports my career goals - DISAGREE/selected/person with disability-specified/A chronic health condition or pain affects ability to function on a regular or episodic basis due to migraines, Crohn's disease, colitis, and other disabilities or health conditions",
          "Q53 I feel that my immediate supervisor supports my career goals - DISAGREE/not selected/person with disability-specified/A chronic health condition or pain affects ability to function on a regular or episodic basis due to migraines, Crohn's disease, colitis, and other disabilities or health conditions - Not selected",
          "Q53 I feel that my immediate supervisor supports my career goals - DISAGREE/selected/person with disability-specified/A cognitive disability affects ability to carry out tasks involving executive functioning, such as planning and organization, learning information, communication and memory, including autism or Asperger's syndrome, attention deficit disorder, and learning disabilities",
          "Q53 I feel that my immediate supervisor supports my career goals - DISAGREE/not selected/person with disability-specified/A cognitive disability affects ability to carry out tasks involving executive functioning, such as planning and organization, learning information, communication and memory, including autism or Asperger's syndrome, attention deficit disorder, and learning disabilities - Not selected",
          "Q53 I feel that my immediate supervisor supports my career goals - DISAGREE/selected/person with disability-specified/A hearing disability affects ability to hear, including being hard of hearing, deafness or acoustic distortion",
          "Q53 I feel that my immediate supervisor supports my career goals - DISAGREE/not selected/person with disability-specified/A hearing disability affects ability to hear, including being hard of hearing, deafness or acoustic distortion - Not selected",
          "Q53 I feel that my immediate supervisor supports my career goals - DISAGREE/selected/person with disability-specified/A mental health issue affects psychology or behaviour, such as anxiety, depression or social / compulsive disorder or phobia or psychiatric illness",
          "Q53 I feel that my immediate supervisor supports my career goals - DISAGREE/not selected/person with disability-specified/A mental health issue affects psychology or behaviour, such as anxiety, depression or social / compulsive disorder or phobia or psychiatric illness - Not selected",
          "Q53 I feel that my immediate supervisor supports my career goals - DISAGREE/selected/person with disability-specified/A mobility issue affects ability to move your body, including the required use of a wheelchair or a cane, or other issues impacting your mobility",
          "Q53 I feel that my immediate supervisor supports my career goals - DISAGREE/not selected/person with disability-specified/A mobility issue affects ability to move your body, including the required use of a wheelchair or a cane, or other issues impacting your mobility - Not selected",
          "Q53 I feel that my immediate supervisor supports my career goals - DISAGREE/selected/person with disability-specified/A seeing disability affects vision, including total blindness, partial sight and visual distortion",
          "Q53 I feel that my immediate supervisor supports my career goals - DISAGREE/not selected/person with disability-specified/A seeing disability affects vision, including total blindness, partial sight and visual distortion - Not selected",
          "Q53 I feel that my immediate supervisor supports my career goals - DISAGREE/selected/person with disability-specified/A sensory / environmental disability affects sensitivity to light, sounds or other distractions, as well as allergens and other environmental sensitivities",
          "Q53 I feel that my immediate supervisor supports my career goals - DISAGREE/not selected/person with disability-specified/A sensory / environmental disability affects sensitivity to light, sounds or other distractions, as well as allergens and other environmental sensitivities - Not selected",
          "Q53 I feel that my immediate supervisor supports my career goals - DISAGREE/selected/person with disability-specified/An intellectual disability affects your ability to learn and to adapt behaviour to different situations",
          "Q53 I feel that my immediate supervisor supports my career goals - DISAGREE/not selected/person with disability-specified/An intellectual disability affects your ability to learn and to adapt behaviour to different situations - Not selected",
          "Q53 I feel that my immediate supervisor supports my career goals - DISAGREE/selected/person with disability-specified/An issue with flexibility or dexterity affects ability to move joints or perform motor tasks, especially with your hands",
          "Q53 I feel that my immediate supervisor supports my career goals - DISAGREE/not selected/person with disability-specified/An issue with flexibility or dexterity affects ability to move joints or perform motor tasks, especially with your hands - Not selected",
          "Q53 I feel that my immediate supervisor supports my career goals - DISAGREE/selected/sexuality/Another sexual orientation",
          "Q53 I feel that my immediate supervisor supports my career goals - DISAGREE/selected/sexuality/Bisexual",
          "Q53 I feel that my immediate supervisor supports my career goals - DISAGREE/selected/ethnicity/Black",
          "Q53 I feel that my immediate supervisor supports my career goals - DISAGREE/not selected/ethnicity/Black - Not selected",
          "Q53 I feel that my immediate supervisor supports my career goals - DISAGREE/selected/ethnicity/Chinese",
          "Q53 I feel that my immediate supervisor supports my career goals - DISAGREE/not selected/ethnicity/Chinese - Not selected",
          "Q53 I feel that my immediate supervisor supports my career goals - DISAGREE/selected/gender/Female gender",
          "Q53 I feel that my immediate supervisor supports my career goals - DISAGREE/selected/ethnicity/Filipino",
          "Q53 I feel that my immediate supervisor supports my career goals - DISAGREE/not selected/ethnicity/Filipino - Not selected",
          "Q53 I feel that my immediate supervisor supports my career goals - DISAGREE/selected/indigenous-specified/First Nation (North American Indian)",
          "Q53 I feel that my immediate supervisor supports my career goals - DISAGREE/selected/sexuality/Gay or lesbian",
          "Q53 I feel that my immediate supervisor supports my career goals - DISAGREE/selected/gender/Gender diverse",
          "Q53 I feel that my immediate supervisor supports my career goals - DISAGREE/selected/sexuality/Heterosexual",
          "Q53 I feel that my immediate supervisor supports my career goals - DISAGREE/selected/indigenous/Indigenous",
          "Q53 I feel that my immediate supervisor supports my career goals - DISAGREE/selected/indigenous-specified/Inuk (Inuit)",
          "Q53 I feel that my immediate supervisor supports my career goals - DISAGREE/selected/ethnicity/Japanese",
          "Q53 I feel that my immediate supervisor supports my career goals - DISAGREE/not selected/ethnicity/Japanese - Not selected",
          "Q53 I feel that my immediate supervisor supports my career goals - DISAGREE/selected/ethnicity/Korean",
          "Q53 I feel that my immediate supervisor supports my career goals - DISAGREE/not selected/ethnicity/Korean - Not selected",
          "Q53 I feel that my immediate supervisor supports my career goals - DISAGREE/selected/gender/Male gender",
          "Q53 I feel that my immediate supervisor supports my career goals - DISAGREE/selected/indigenous-specified/Métis",
          "Q53 I feel that my immediate supervisor supports my career goals - DISAGREE/selected/indigenous/Non-Indigenous",
          "Q53 I feel that my immediate supervisor supports my career goals - DISAGREE/selected/ethnicity/Non-White Latin American (including: Indigenous persons from Central and South America, etc.)",
          "Q53 I feel that my immediate supervisor supports my career goals - DISAGREE/not selected/ethnicity/Non-White Latin American (including: Indigenous persons from Central and South America, etc.) - Not selected",
          "Q53 I feel that my immediate supervisor supports my career goals - DISAGREE/selected/ethnicity/Non-White West Asian, North African or Arab (including: Egyptian; Libyan; Lebanese; Iranian; etc.)",
          "Q53 I feel that my immediate supervisor supports my career goals - DISAGREE/not selected/ethnicity/Non-White West Asian, North African or Arab (including: Egyptian; Libyan; Lebanese; Iranian; etc.) - Not selected",
          "Q53 I feel that my immediate supervisor supports my career goals - DISAGREE/selected/visible minority/Non-visible minority",
          "Q53 I feel that my immediate supervisor supports my career goals - DISAGREE/selected/person with disability/Not a person with a disability",
          "Q53 I feel that my immediate supervisor supports my career goals - DISAGREE/selected/person with disability-specified/Other disability (including: learning disabilities, developmental disabilities and all other types of disabilities)",
          "Q53 I feel that my immediate supervisor supports my career goals - DISAGREE/not selected/person with disability-specified/Other disability (including: learning disabilities, developmental disabilities and all other types of disabilities) - Not selected",
          "Q53 I feel that my immediate supervisor supports my career goals - DISAGREE/selected/ethnicity/Other visible minority group",
          "Q53 I feel that my immediate supervisor supports my career goals - DISAGREE/not selected/ethnicity/Other visible minority group - Not selected",
          "Q53 I feel that my immediate supervisor supports my career goals - DISAGREE/selected/ethnicity/Person of mixed origin (with one parent in one of the visible minority groups)",
          "Q53 I feel that my immediate supervisor supports my career goals - DISAGREE/not selected/ethnicity/Person of mixed origin (with one parent in one of the visible minority groups) - Not selected",
          "Q53 I feel that my immediate supervisor supports my career goals - DISAGREE/selected/person with disability/Person with a disability",
          "Q53 I feel that my immediate supervisor supports my career goals - DISAGREE/selected/sexuality/Prefer not to answer",
          "Q53 I feel that my immediate supervisor supports my career goals - DISAGREE/selected/ethnicity/South Asian/East Indian (including: Indian from India; Bangladeshi; Pakistani; East Indian from Guyana, Trinidad, East Africa; etc.)",
          "Q53 I feel that my immediate supervisor supports my career goals - DISAGREE/not selected/ethnicity/South Asian/East Indian (including: Indian from India; Bangladeshi; Pakistani; East Indian from Guyana, Trinidad, East Africa; etc.) - Not selected",
          "Q53 I feel that my immediate supervisor supports my career goals - DISAGREE/selected/ethnicity/Southeast Asian (including: Burmese; Cambodian; Laotian; Thai; Vietnamese; etc.)",
          "Q53 I feel that my immediate supervisor supports my career goals - DISAGREE/not selected/ethnicity/Southeast Asian (including: Burmese; Cambodian; Laotian; Thai; Vietnamese; etc.) - Not selected",
          "Q53 I feel that my immediate supervisor supports my career goals - DISAGREE/selected/visible minority/Visible minority",
          "Q53 I feel that my immediate supervisor supports my career goals - DISAGREE/not selected/ethnicity",
          "Q53 I feel that my immediate supervisor supports my career goals - DISAGREE/selected/ethnicity",
          "Q53 I feel that my immediate supervisor supports my career goals - DISAGREE/selected/gender",
          "Q53 I feel that my immediate supervisor supports my career goals - DISAGREE/selected/indigenous",
          "Q53 I feel that my immediate supervisor supports my career goals - DISAGREE/selected/indigenous-specified",
          "Q53 I feel that my immediate supervisor supports my career goals - DISAGREE/selected/person with disability",
          "Q53 I feel that my immediate supervisor supports my career goals - DISAGREE/not selected/person with disability-specified",
          "Q53 I feel that my immediate supervisor supports my career goals - DISAGREE/selected/person with disability-specified",
          "Q53 I feel that my immediate supervisor supports my career goals - DISAGREE/selected/sexuality",
          "Q53 I feel that my immediate supervisor supports my career goals - DISAGREE/selected/visible minority",
          "Q53 I feel that my immediate supervisor supports my career goals - DISAGREE/not selected",
          "Q53 I feel that my immediate supervisor supports my career goals - DISAGREE/selected",
          "Q53 I feel that my immediate supervisor supports my career goals - DISAGREE"
         ],
         "labels": [
          "A chronic health condition or pain affects ability to function on a regular or episodic basis due to migraines, Crohn's disease, colitis, and other disabilities or health conditions",
          "A chronic health condition or pain affects ability to function on a regular or episodic basis due to migraines, Crohn's disease, colitis, and other disabilities or health conditions - Not selected",
          "A cognitive disability affects ability to carry out tasks involving executive functioning, such as planning and organization, learning information, communication and memory, including autism or Asperger's syndrome, attention deficit disorder, and learning disabilities",
          "A cognitive disability affects ability to carry out tasks involving executive functioning, such as planning and organization, learning information, communication and memory, including autism or Asperger's syndrome, attention deficit disorder, and learning disabilities - Not selected",
          "A hearing disability affects ability to hear, including being hard of hearing, deafness or acoustic distortion",
          "A hearing disability affects ability to hear, including being hard of hearing, deafness or acoustic distortion - Not selected",
          "A mental health issue affects psychology or behaviour, such as anxiety, depression or social / compulsive disorder or phobia or psychiatric illness",
          "A mental health issue affects psychology or behaviour, such as anxiety, depression or social / compulsive disorder or phobia or psychiatric illness - Not selected",
          "A mobility issue affects ability to move your body, including the required use of a wheelchair or a cane, or other issues impacting your mobility",
          "A mobility issue affects ability to move your body, including the required use of a wheelchair or a cane, or other issues impacting your mobility - Not selected",
          "A seeing disability affects vision, including total blindness, partial sight and visual distortion",
          "A seeing disability affects vision, including total blindness, partial sight and visual distortion - Not selected",
          "A sensory / environmental disability affects sensitivity to light, sounds or other distractions, as well as allergens and other environmental sensitivities",
          "A sensory / environmental disability affects sensitivity to light, sounds or other distractions, as well as allergens and other environmental sensitivities - Not selected",
          "An intellectual disability affects your ability to learn and to adapt behaviour to different situations",
          "An intellectual disability affects your ability to learn and to adapt behaviour to different situations - Not selected",
          "An issue with flexibility or dexterity affects ability to move joints or perform motor tasks, especially with your hands",
          "An issue with flexibility or dexterity affects ability to move joints or perform motor tasks, especially with your hands - Not selected",
          "Another sexual orientation",
          "Bisexual",
          "Black",
          "Black - Not selected",
          "Chinese",
          "Chinese - Not selected",
          "Female gender",
          "Filipino",
          "Filipino - Not selected",
          "First Nation (North American Indian)",
          "Gay or lesbian",
          "Gender diverse",
          "Heterosexual",
          "Indigenous",
          "Inuk (Inuit)",
          "Japanese",
          "Japanese - Not selected",
          "Korean",
          "Korean - Not selected",
          "Male gender",
          "Métis",
          "Non-Indigenous",
          "Non-White Latin American (including: Indigenous persons from Central and South America, etc.)",
          "Non-White Latin American (including: Indigenous persons from Central and South America, etc.) - Not selected",
          "Non-White West Asian, North African or Arab (including: Egyptian; Libyan; Lebanese; Iranian; etc.)",
          "Non-White West Asian, North African or Arab (including: Egyptian; Libyan; Lebanese; Iranian; etc.) - Not selected",
          "Non-visible minority",
          "Not a person with a disability",
          "Other disability (including: learning disabilities, developmental disabilities and all other types of disabilities)",
          "Other disability (including: learning disabilities, developmental disabilities and all other types of disabilities) - Not selected",
          "Other visible minority group",
          "Other visible minority group - Not selected",
          "Person of mixed origin (with one parent in one of the visible minority groups)",
          "Person of mixed origin (with one parent in one of the visible minority groups) - Not selected",
          "Person with a disability",
          "Prefer not to answer",
          "South Asian/East Indian (including: Indian from India; Bangladeshi; Pakistani; East Indian from Guyana, Trinidad, East Africa; etc.)",
          "South Asian/East Indian (including: Indian from India; Bangladeshi; Pakistani; East Indian from Guyana, Trinidad, East Africa; etc.) - Not selected",
          "Southeast Asian (including: Burmese; Cambodian; Laotian; Thai; Vietnamese; etc.)",
          "Southeast Asian (including: Burmese; Cambodian; Laotian; Thai; Vietnamese; etc.) - Not selected",
          "Visible minority",
          "ethnicity",
          "ethnicity",
          "gender",
          "indigenous",
          "indigenous-specified",
          "person with disability",
          "person with disability-specified",
          "person with disability-specified",
          "sexuality",
          "visible minority",
          "not selected",
          "selected",
          "Q53 I feel that my immediate supervisor supports my career goals - DISAGREE"
         ],
         "marker": {
          "coloraxis": "coloraxis",
          "colors": [
           10.285714285714286,
           11.755102040816325,
           14.3,
           10.55,
           10.294117647058824,
           11.705882352941176,
           13.11111111111111,
           10.037037037037036,
           10.294117647058824,
           11.82857142857143,
           11.575757575757576,
           11.243243243243244,
           10.580645161290322,
           11.4375,
           12.444444444444445,
           12.444444444444445,
           10.3125,
           12.285714285714286,
           11.360000000000001,
           12.2,
           8.053097345132743,
           8.725663716814159,
           7.1063829787234045,
           8.757894736842106,
           7.804511278195489,
           6.482758620689655,
           9.35064935064935,
           9.428571428571429,
           7.928571428571429,
           14.5,
           7.212121212121212,
           8.930693069306932,
           11.272727272727273,
           12.428571428571429,
           9.408450704225352,
           13.2,
           10.294117647058824,
           7.172932330827067,
           10.461538461538462,
           7.861386138613861,
           10.758620689655173,
           8.870967741935484,
           7.212765957446808,
           8.505263157894737,
           7.409090909090909,
           7.317460317460317,
           11.567567567567568,
           11.549999999999999,
           10.945454545454545,
           9.37704918032787,
           9.142857142857142,
           8.988505747126437,
           11.380952380952383,
           9.221374045801527,
           8.8,
           8.823529411764707,
           7.821428571428571,
           9.285714285714286,
           8.969696969696969,
           9.150467881982452,
           9.768034804332286,
           10.944346422746065,
           8.430085933121614,
           10.442442215090802,
           9.790740291589188,
           11.525871580705166,
           11.633182681300273,
           9.970360412346906,
           8.263742886777113,
           10.417909067230918,
           10.38519482894198,
           10.397080768866658
          ]
         },
         "name": "",
         "parents": [
          "Q53 I feel that my immediate supervisor supports my career goals - DISAGREE/selected/person with disability-specified",
          "Q53 I feel that my immediate supervisor supports my career goals - DISAGREE/not selected/person with disability-specified",
          "Q53 I feel that my immediate supervisor supports my career goals - DISAGREE/selected/person with disability-specified",
          "Q53 I feel that my immediate supervisor supports my career goals - DISAGREE/not selected/person with disability-specified",
          "Q53 I feel that my immediate supervisor supports my career goals - DISAGREE/selected/person with disability-specified",
          "Q53 I feel that my immediate supervisor supports my career goals - DISAGREE/not selected/person with disability-specified",
          "Q53 I feel that my immediate supervisor supports my career goals - DISAGREE/selected/person with disability-specified",
          "Q53 I feel that my immediate supervisor supports my career goals - DISAGREE/not selected/person with disability-specified",
          "Q53 I feel that my immediate supervisor supports my career goals - DISAGREE/selected/person with disability-specified",
          "Q53 I feel that my immediate supervisor supports my career goals - DISAGREE/not selected/person with disability-specified",
          "Q53 I feel that my immediate supervisor supports my career goals - DISAGREE/selected/person with disability-specified",
          "Q53 I feel that my immediate supervisor supports my career goals - DISAGREE/not selected/person with disability-specified",
          "Q53 I feel that my immediate supervisor supports my career goals - DISAGREE/selected/person with disability-specified",
          "Q53 I feel that my immediate supervisor supports my career goals - DISAGREE/not selected/person with disability-specified",
          "Q53 I feel that my immediate supervisor supports my career goals - DISAGREE/selected/person with disability-specified",
          "Q53 I feel that my immediate supervisor supports my career goals - DISAGREE/not selected/person with disability-specified",
          "Q53 I feel that my immediate supervisor supports my career goals - DISAGREE/selected/person with disability-specified",
          "Q53 I feel that my immediate supervisor supports my career goals - DISAGREE/not selected/person with disability-specified",
          "Q53 I feel that my immediate supervisor supports my career goals - DISAGREE/selected/sexuality",
          "Q53 I feel that my immediate supervisor supports my career goals - DISAGREE/selected/sexuality",
          "Q53 I feel that my immediate supervisor supports my career goals - DISAGREE/selected/ethnicity",
          "Q53 I feel that my immediate supervisor supports my career goals - DISAGREE/not selected/ethnicity",
          "Q53 I feel that my immediate supervisor supports my career goals - DISAGREE/selected/ethnicity",
          "Q53 I feel that my immediate supervisor supports my career goals - DISAGREE/not selected/ethnicity",
          "Q53 I feel that my immediate supervisor supports my career goals - DISAGREE/selected/gender",
          "Q53 I feel that my immediate supervisor supports my career goals - DISAGREE/selected/ethnicity",
          "Q53 I feel that my immediate supervisor supports my career goals - DISAGREE/not selected/ethnicity",
          "Q53 I feel that my immediate supervisor supports my career goals - DISAGREE/selected/indigenous-specified",
          "Q53 I feel that my immediate supervisor supports my career goals - DISAGREE/selected/sexuality",
          "Q53 I feel that my immediate supervisor supports my career goals - DISAGREE/selected/gender",
          "Q53 I feel that my immediate supervisor supports my career goals - DISAGREE/selected/sexuality",
          "Q53 I feel that my immediate supervisor supports my career goals - DISAGREE/selected/indigenous",
          "Q53 I feel that my immediate supervisor supports my career goals - DISAGREE/selected/indigenous-specified",
          "Q53 I feel that my immediate supervisor supports my career goals - DISAGREE/selected/ethnicity",
          "Q53 I feel that my immediate supervisor supports my career goals - DISAGREE/not selected/ethnicity",
          "Q53 I feel that my immediate supervisor supports my career goals - DISAGREE/selected/ethnicity",
          "Q53 I feel that my immediate supervisor supports my career goals - DISAGREE/not selected/ethnicity",
          "Q53 I feel that my immediate supervisor supports my career goals - DISAGREE/selected/gender",
          "Q53 I feel that my immediate supervisor supports my career goals - DISAGREE/selected/indigenous-specified",
          "Q53 I feel that my immediate supervisor supports my career goals - DISAGREE/selected/indigenous",
          "Q53 I feel that my immediate supervisor supports my career goals - DISAGREE/selected/ethnicity",
          "Q53 I feel that my immediate supervisor supports my career goals - DISAGREE/not selected/ethnicity",
          "Q53 I feel that my immediate supervisor supports my career goals - DISAGREE/selected/ethnicity",
          "Q53 I feel that my immediate supervisor supports my career goals - DISAGREE/not selected/ethnicity",
          "Q53 I feel that my immediate supervisor supports my career goals - DISAGREE/selected/visible minority",
          "Q53 I feel that my immediate supervisor supports my career goals - DISAGREE/selected/person with disability",
          "Q53 I feel that my immediate supervisor supports my career goals - DISAGREE/selected/person with disability-specified",
          "Q53 I feel that my immediate supervisor supports my career goals - DISAGREE/not selected/person with disability-specified",
          "Q53 I feel that my immediate supervisor supports my career goals - DISAGREE/selected/ethnicity",
          "Q53 I feel that my immediate supervisor supports my career goals - DISAGREE/not selected/ethnicity",
          "Q53 I feel that my immediate supervisor supports my career goals - DISAGREE/selected/ethnicity",
          "Q53 I feel that my immediate supervisor supports my career goals - DISAGREE/not selected/ethnicity",
          "Q53 I feel that my immediate supervisor supports my career goals - DISAGREE/selected/person with disability",
          "Q53 I feel that my immediate supervisor supports my career goals - DISAGREE/selected/sexuality",
          "Q53 I feel that my immediate supervisor supports my career goals - DISAGREE/selected/ethnicity",
          "Q53 I feel that my immediate supervisor supports my career goals - DISAGREE/not selected/ethnicity",
          "Q53 I feel that my immediate supervisor supports my career goals - DISAGREE/selected/ethnicity",
          "Q53 I feel that my immediate supervisor supports my career goals - DISAGREE/not selected/ethnicity",
          "Q53 I feel that my immediate supervisor supports my career goals - DISAGREE/selected/visible minority",
          "Q53 I feel that my immediate supervisor supports my career goals - DISAGREE/not selected",
          "Q53 I feel that my immediate supervisor supports my career goals - DISAGREE/selected",
          "Q53 I feel that my immediate supervisor supports my career goals - DISAGREE/selected",
          "Q53 I feel that my immediate supervisor supports my career goals - DISAGREE/selected",
          "Q53 I feel that my immediate supervisor supports my career goals - DISAGREE/selected",
          "Q53 I feel that my immediate supervisor supports my career goals - DISAGREE/selected",
          "Q53 I feel that my immediate supervisor supports my career goals - DISAGREE/not selected",
          "Q53 I feel that my immediate supervisor supports my career goals - DISAGREE/selected",
          "Q53 I feel that my immediate supervisor supports my career goals - DISAGREE/selected",
          "Q53 I feel that my immediate supervisor supports my career goals - DISAGREE/selected",
          "Q53 I feel that my immediate supervisor supports my career goals - DISAGREE",
          "Q53 I feel that my immediate supervisor supports my career goals - DISAGREE",
          ""
         ],
         "type": "treemap",
         "values": [
          10.285714285714286,
          11.755102040816327,
          14.3,
          10.55,
          10.294117647058824,
          11.705882352941176,
          13.11111111111111,
          10.037037037037036,
          10.294117647058824,
          11.82857142857143,
          11.575757575757576,
          11.243243243243244,
          10.580645161290322,
          11.4375,
          12.444444444444445,
          12.444444444444445,
          10.3125,
          12.285714285714286,
          11.36,
          12.2,
          8.053097345132743,
          8.725663716814159,
          7.1063829787234045,
          8.757894736842106,
          7.804511278195489,
          6.482758620689655,
          9.35064935064935,
          9.428571428571429,
          7.928571428571429,
          14.5,
          7.212121212121212,
          8.930693069306932,
          11.272727272727273,
          12.428571428571429,
          9.408450704225352,
          13.2,
          10.294117647058824,
          7.172932330827067,
          10.461538461538462,
          7.861386138613861,
          10.758620689655173,
          8.870967741935484,
          7.212765957446808,
          8.505263157894737,
          7.409090909090909,
          7.317460317460317,
          11.567567567567568,
          11.55,
          10.945454545454545,
          9.37704918032787,
          9.142857142857142,
          8.988505747126437,
          11.380952380952381,
          9.221374045801527,
          8.8,
          8.823529411764707,
          7.821428571428571,
          9.285714285714286,
          8.969696969696969,
          100.38780568035331,
          101.95193727995947,
          29.477443609022554,
          16.792079207920793,
          31.162837162837164,
          18.6984126984127,
          114.83749483276794,
          114.76597544000296,
          47.92206668649416,
          16.37878787878788,
          215.22530051312125,
          377.1495399634377,
          592.3748404765589
         ]
        }
       ],
       "layout": {
        "coloraxis": {
         "colorbar": {
          "title": {
           "text": "Disagree"
          }
         },
         "colorscale": [
          [
           0,
           "rgb(247,252,240)"
          ],
          [
           0.125,
           "rgb(224,243,219)"
          ],
          [
           0.25,
           "rgb(204,235,197)"
          ],
          [
           0.375,
           "rgb(168,221,181)"
          ],
          [
           0.5,
           "rgb(123,204,196)"
          ],
          [
           0.625,
           "rgb(78,179,211)"
          ],
          [
           0.75,
           "rgb(43,140,190)"
          ],
          [
           0.875,
           "rgb(8,104,172)"
          ],
          [
           1,
           "rgb(8,64,129)"
          ]
         ]
        },
        "legend": {
         "tracegroupgap": 0
        },
        "margin": {
         "b": 25,
         "l": 25,
         "r": 25,
         "t": 50
        },
        "template": {
         "data": {
          "bar": [
           {
            "error_x": {
             "color": "#2a3f5f"
            },
            "error_y": {
             "color": "#2a3f5f"
            },
            "marker": {
             "line": {
              "color": "#E5ECF6",
              "width": 0.5
             },
             "pattern": {
              "fillmode": "overlay",
              "size": 10,
              "solidity": 0.2
             }
            },
            "type": "bar"
           }
          ],
          "barpolar": [
           {
            "marker": {
             "line": {
              "color": "#E5ECF6",
              "width": 0.5
             },
             "pattern": {
              "fillmode": "overlay",
              "size": 10,
              "solidity": 0.2
             }
            },
            "type": "barpolar"
           }
          ],
          "carpet": [
           {
            "aaxis": {
             "endlinecolor": "#2a3f5f",
             "gridcolor": "white",
             "linecolor": "white",
             "minorgridcolor": "white",
             "startlinecolor": "#2a3f5f"
            },
            "baxis": {
             "endlinecolor": "#2a3f5f",
             "gridcolor": "white",
             "linecolor": "white",
             "minorgridcolor": "white",
             "startlinecolor": "#2a3f5f"
            },
            "type": "carpet"
           }
          ],
          "choropleth": [
           {
            "colorbar": {
             "outlinewidth": 0,
             "ticks": ""
            },
            "type": "choropleth"
           }
          ],
          "contour": [
           {
            "colorbar": {
             "outlinewidth": 0,
             "ticks": ""
            },
            "colorscale": [
             [
              0,
              "#0d0887"
             ],
             [
              0.1111111111111111,
              "#46039f"
             ],
             [
              0.2222222222222222,
              "#7201a8"
             ],
             [
              0.3333333333333333,
              "#9c179e"
             ],
             [
              0.4444444444444444,
              "#bd3786"
             ],
             [
              0.5555555555555556,
              "#d8576b"
             ],
             [
              0.6666666666666666,
              "#ed7953"
             ],
             [
              0.7777777777777778,
              "#fb9f3a"
             ],
             [
              0.8888888888888888,
              "#fdca26"
             ],
             [
              1,
              "#f0f921"
             ]
            ],
            "type": "contour"
           }
          ],
          "contourcarpet": [
           {
            "colorbar": {
             "outlinewidth": 0,
             "ticks": ""
            },
            "type": "contourcarpet"
           }
          ],
          "heatmap": [
           {
            "colorbar": {
             "outlinewidth": 0,
             "ticks": ""
            },
            "colorscale": [
             [
              0,
              "#0d0887"
             ],
             [
              0.1111111111111111,
              "#46039f"
             ],
             [
              0.2222222222222222,
              "#7201a8"
             ],
             [
              0.3333333333333333,
              "#9c179e"
             ],
             [
              0.4444444444444444,
              "#bd3786"
             ],
             [
              0.5555555555555556,
              "#d8576b"
             ],
             [
              0.6666666666666666,
              "#ed7953"
             ],
             [
              0.7777777777777778,
              "#fb9f3a"
             ],
             [
              0.8888888888888888,
              "#fdca26"
             ],
             [
              1,
              "#f0f921"
             ]
            ],
            "type": "heatmap"
           }
          ],
          "heatmapgl": [
           {
            "colorbar": {
             "outlinewidth": 0,
             "ticks": ""
            },
            "colorscale": [
             [
              0,
              "#0d0887"
             ],
             [
              0.1111111111111111,
              "#46039f"
             ],
             [
              0.2222222222222222,
              "#7201a8"
             ],
             [
              0.3333333333333333,
              "#9c179e"
             ],
             [
              0.4444444444444444,
              "#bd3786"
             ],
             [
              0.5555555555555556,
              "#d8576b"
             ],
             [
              0.6666666666666666,
              "#ed7953"
             ],
             [
              0.7777777777777778,
              "#fb9f3a"
             ],
             [
              0.8888888888888888,
              "#fdca26"
             ],
             [
              1,
              "#f0f921"
             ]
            ],
            "type": "heatmapgl"
           }
          ],
          "histogram": [
           {
            "marker": {
             "pattern": {
              "fillmode": "overlay",
              "size": 10,
              "solidity": 0.2
             }
            },
            "type": "histogram"
           }
          ],
          "histogram2d": [
           {
            "colorbar": {
             "outlinewidth": 0,
             "ticks": ""
            },
            "colorscale": [
             [
              0,
              "#0d0887"
             ],
             [
              0.1111111111111111,
              "#46039f"
             ],
             [
              0.2222222222222222,
              "#7201a8"
             ],
             [
              0.3333333333333333,
              "#9c179e"
             ],
             [
              0.4444444444444444,
              "#bd3786"
             ],
             [
              0.5555555555555556,
              "#d8576b"
             ],
             [
              0.6666666666666666,
              "#ed7953"
             ],
             [
              0.7777777777777778,
              "#fb9f3a"
             ],
             [
              0.8888888888888888,
              "#fdca26"
             ],
             [
              1,
              "#f0f921"
             ]
            ],
            "type": "histogram2d"
           }
          ],
          "histogram2dcontour": [
           {
            "colorbar": {
             "outlinewidth": 0,
             "ticks": ""
            },
            "colorscale": [
             [
              0,
              "#0d0887"
             ],
             [
              0.1111111111111111,
              "#46039f"
             ],
             [
              0.2222222222222222,
              "#7201a8"
             ],
             [
              0.3333333333333333,
              "#9c179e"
             ],
             [
              0.4444444444444444,
              "#bd3786"
             ],
             [
              0.5555555555555556,
              "#d8576b"
             ],
             [
              0.6666666666666666,
              "#ed7953"
             ],
             [
              0.7777777777777778,
              "#fb9f3a"
             ],
             [
              0.8888888888888888,
              "#fdca26"
             ],
             [
              1,
              "#f0f921"
             ]
            ],
            "type": "histogram2dcontour"
           }
          ],
          "mesh3d": [
           {
            "colorbar": {
             "outlinewidth": 0,
             "ticks": ""
            },
            "type": "mesh3d"
           }
          ],
          "parcoords": [
           {
            "line": {
             "colorbar": {
              "outlinewidth": 0,
              "ticks": ""
             }
            },
            "type": "parcoords"
           }
          ],
          "pie": [
           {
            "automargin": true,
            "type": "pie"
           }
          ],
          "scatter": [
           {
            "marker": {
             "colorbar": {
              "outlinewidth": 0,
              "ticks": ""
             }
            },
            "type": "scatter"
           }
          ],
          "scatter3d": [
           {
            "line": {
             "colorbar": {
              "outlinewidth": 0,
              "ticks": ""
             }
            },
            "marker": {
             "colorbar": {
              "outlinewidth": 0,
              "ticks": ""
             }
            },
            "type": "scatter3d"
           }
          ],
          "scattercarpet": [
           {
            "marker": {
             "colorbar": {
              "outlinewidth": 0,
              "ticks": ""
             }
            },
            "type": "scattercarpet"
           }
          ],
          "scattergeo": [
           {
            "marker": {
             "colorbar": {
              "outlinewidth": 0,
              "ticks": ""
             }
            },
            "type": "scattergeo"
           }
          ],
          "scattergl": [
           {
            "marker": {
             "colorbar": {
              "outlinewidth": 0,
              "ticks": ""
             }
            },
            "type": "scattergl"
           }
          ],
          "scattermapbox": [
           {
            "marker": {
             "colorbar": {
              "outlinewidth": 0,
              "ticks": ""
             }
            },
            "type": "scattermapbox"
           }
          ],
          "scatterpolar": [
           {
            "marker": {
             "colorbar": {
              "outlinewidth": 0,
              "ticks": ""
             }
            },
            "type": "scatterpolar"
           }
          ],
          "scatterpolargl": [
           {
            "marker": {
             "colorbar": {
              "outlinewidth": 0,
              "ticks": ""
             }
            },
            "type": "scatterpolargl"
           }
          ],
          "scatterternary": [
           {
            "marker": {
             "colorbar": {
              "outlinewidth": 0,
              "ticks": ""
             }
            },
            "type": "scatterternary"
           }
          ],
          "surface": [
           {
            "colorbar": {
             "outlinewidth": 0,
             "ticks": ""
            },
            "colorscale": [
             [
              0,
              "#0d0887"
             ],
             [
              0.1111111111111111,
              "#46039f"
             ],
             [
              0.2222222222222222,
              "#7201a8"
             ],
             [
              0.3333333333333333,
              "#9c179e"
             ],
             [
              0.4444444444444444,
              "#bd3786"
             ],
             [
              0.5555555555555556,
              "#d8576b"
             ],
             [
              0.6666666666666666,
              "#ed7953"
             ],
             [
              0.7777777777777778,
              "#fb9f3a"
             ],
             [
              0.8888888888888888,
              "#fdca26"
             ],
             [
              1,
              "#f0f921"
             ]
            ],
            "type": "surface"
           }
          ],
          "table": [
           {
            "cells": {
             "fill": {
              "color": "#EBF0F8"
             },
             "line": {
              "color": "white"
             }
            },
            "header": {
             "fill": {
              "color": "#C8D4E3"
             },
             "line": {
              "color": "white"
             }
            },
            "type": "table"
           }
          ]
         },
         "layout": {
          "annotationdefaults": {
           "arrowcolor": "#2a3f5f",
           "arrowhead": 0,
           "arrowwidth": 1
          },
          "autotypenumbers": "strict",
          "coloraxis": {
           "colorbar": {
            "outlinewidth": 0,
            "ticks": ""
           }
          },
          "colorscale": {
           "diverging": [
            [
             0,
             "#8e0152"
            ],
            [
             0.1,
             "#c51b7d"
            ],
            [
             0.2,
             "#de77ae"
            ],
            [
             0.3,
             "#f1b6da"
            ],
            [
             0.4,
             "#fde0ef"
            ],
            [
             0.5,
             "#f7f7f7"
            ],
            [
             0.6,
             "#e6f5d0"
            ],
            [
             0.7,
             "#b8e186"
            ],
            [
             0.8,
             "#7fbc41"
            ],
            [
             0.9,
             "#4d9221"
            ],
            [
             1,
             "#276419"
            ]
           ],
           "sequential": [
            [
             0,
             "#0d0887"
            ],
            [
             0.1111111111111111,
             "#46039f"
            ],
            [
             0.2222222222222222,
             "#7201a8"
            ],
            [
             0.3333333333333333,
             "#9c179e"
            ],
            [
             0.4444444444444444,
             "#bd3786"
            ],
            [
             0.5555555555555556,
             "#d8576b"
            ],
            [
             0.6666666666666666,
             "#ed7953"
            ],
            [
             0.7777777777777778,
             "#fb9f3a"
            ],
            [
             0.8888888888888888,
             "#fdca26"
            ],
            [
             1,
             "#f0f921"
            ]
           ],
           "sequentialminus": [
            [
             0,
             "#0d0887"
            ],
            [
             0.1111111111111111,
             "#46039f"
            ],
            [
             0.2222222222222222,
             "#7201a8"
            ],
            [
             0.3333333333333333,
             "#9c179e"
            ],
            [
             0.4444444444444444,
             "#bd3786"
            ],
            [
             0.5555555555555556,
             "#d8576b"
            ],
            [
             0.6666666666666666,
             "#ed7953"
            ],
            [
             0.7777777777777778,
             "#fb9f3a"
            ],
            [
             0.8888888888888888,
             "#fdca26"
            ],
            [
             1,
             "#f0f921"
            ]
           ]
          },
          "colorway": [
           "#636efa",
           "#EF553B",
           "#00cc96",
           "#ab63fa",
           "#FFA15A",
           "#19d3f3",
           "#FF6692",
           "#B6E880",
           "#FF97FF",
           "#FECB52"
          ],
          "font": {
           "color": "#2a3f5f"
          },
          "geo": {
           "bgcolor": "white",
           "lakecolor": "white",
           "landcolor": "#E5ECF6",
           "showlakes": true,
           "showland": true,
           "subunitcolor": "white"
          },
          "hoverlabel": {
           "align": "left"
          },
          "hovermode": "closest",
          "mapbox": {
           "style": "light"
          },
          "paper_bgcolor": "white",
          "plot_bgcolor": "#E5ECF6",
          "polar": {
           "angularaxis": {
            "gridcolor": "white",
            "linecolor": "white",
            "ticks": ""
           },
           "bgcolor": "#E5ECF6",
           "radialaxis": {
            "gridcolor": "white",
            "linecolor": "white",
            "ticks": ""
           }
          },
          "scene": {
           "xaxis": {
            "backgroundcolor": "#E5ECF6",
            "gridcolor": "white",
            "gridwidth": 2,
            "linecolor": "white",
            "showbackground": true,
            "ticks": "",
            "zerolinecolor": "white"
           },
           "yaxis": {
            "backgroundcolor": "#E5ECF6",
            "gridcolor": "white",
            "gridwidth": 2,
            "linecolor": "white",
            "showbackground": true,
            "ticks": "",
            "zerolinecolor": "white"
           },
           "zaxis": {
            "backgroundcolor": "#E5ECF6",
            "gridcolor": "white",
            "gridwidth": 2,
            "linecolor": "white",
            "showbackground": true,
            "ticks": "",
            "zerolinecolor": "white"
           }
          },
          "shapedefaults": {
           "line": {
            "color": "#2a3f5f"
           }
          },
          "ternary": {
           "aaxis": {
            "gridcolor": "white",
            "linecolor": "white",
            "ticks": ""
           },
           "baxis": {
            "gridcolor": "white",
            "linecolor": "white",
            "ticks": ""
           },
           "bgcolor": "#E5ECF6",
           "caxis": {
            "gridcolor": "white",
            "linecolor": "white",
            "ticks": ""
           }
          },
          "title": {
           "x": 0.05
          },
          "xaxis": {
           "automargin": true,
           "gridcolor": "white",
           "linecolor": "white",
           "ticks": "",
           "title": {
            "standoff": 15
           },
           "zerolinecolor": "white",
           "zerolinewidth": 2
          },
          "yaxis": {
           "automargin": true,
           "gridcolor": "white",
           "linecolor": "white",
           "ticks": "",
           "title": {
            "standoff": 15
           },
           "zerolinecolor": "white",
           "zerolinewidth": 2
          }
         }
        }
       }
      }
     },
     "metadata": {},
     "output_type": "display_data"
    }
   ],
   "source": [
    "fig = px.treemap(df_tree_map, path=[px.Constant(\"Q53 I feel that my immediate supervisor supports my career goals - DISAGREE\"), \n",
    "                                    'SELECTED','GENERAL_DEMO_GROUP', 'DESCRIP_E'], values='Disagree', color='Disagree'\n",
    "                                    ,color_continuous_scale='GnBu')\n",
    "fig.update_layout(margin = dict(t=50, l=25, r=25, b=25))\n",
    "fig.show()"
   ]
  },
  {
   "cell_type": "markdown",
   "metadata": {},
   "source": []
  },
  {
   "cell_type": "markdown",
   "metadata": {},
   "source": [
    "### 62(J)"
   ]
  },
  {
   "cell_type": "code",
   "execution_count": 82,
   "metadata": {},
   "outputs": [],
   "source": [
    "df_tree_map = df_emp_survey.query(\"QUESTION == 'Q62' and SELECTED=='selected'\").groupby(['GENERAL_DEMO_GROUP','DESCRIP_E'])[['DESCRIP_E','ANSWER1','ANSWER2']].mean().reset_index()\n",
    "df_tree_map.rename(columns={'ANSWER1': 'Yes', 'ANSWER2':'No'}, inplace=True)"
   ]
  },
  {
   "cell_type": "code",
   "execution_count": 84,
   "metadata": {},
   "outputs": [
    {
     "data": {
      "application/vnd.plotly.v1+json": {
       "config": {
        "plotlyServerURL": "https://plot.ly"
       },
       "data": [
        {
         "branchvalues": "total",
         "customdata": [
          [
           20.696969696969695
          ],
          [
           23.25925925925926
          ],
          [
           15.619047619047619
          ],
          [
           23.162162162162158
          ],
          [
           20.625
          ],
          [
           25.294117647058822
          ],
          [
           29.56
          ],
          [
           29.428571428571427
          ],
          [
           23.44
          ],
          [
           19.5
          ],
          [
           10.385964912280702
          ],
          [
           18.197183098591548
          ],
          [
           7.111111111111111
          ],
          [
           6.950920245398773
          ],
          [
           6.8695652173913055
          ],
          [
           13.15
          ],
          [
           8.214285714285714
          ],
          [
           20.103448275862068
          ],
          [
           5.786096256684493
          ],
          [
           11.673076923076923
          ],
          [
           21.25
          ],
          [
           6.125
          ],
          [
           8.76923076923077
          ],
          [
           6.521472392638037
          ],
          [
           11.538461538461538
          ],
          [
           6.769230769230769
          ],
          [
           12.214285714285714
          ],
          [
           10.714285714285714
          ],
          [
           5.62111801242236
          ],
          [
           5.798561151079137
          ],
          [
           20.583333333333332
          ],
          [
           22.025641025641026
          ],
          [
           11.725490196078429
          ],
          [
           21.388489208633093
          ],
          [
           9.953947368421053
          ],
          [
           14.461538461538462
          ],
          [
           7.64
          ],
          [
           12.627329192546584
          ],
          [
           13.487268770366773
          ],
          [
           14.74255040329284
          ],
          [
           9.873125050132348
          ],
          [
           16.492086789633674
          ],
          [
           18.063407966402742
          ],
          [
           23.861352180203028
          ],
          [
           12.781370247407013
          ],
          [
           10.46918721909103
          ],
          [
           18.08067123336084
          ]
         ],
         "domain": {
          "x": [
           0,
           1
          ],
          "y": [
           0,
           1
          ]
         },
         "hovertemplate": "labels=%{label}<br>Yes_sum=%{value}<br>parent=%{parent}<br>id=%{id}<br>Yes=%{color}<extra></extra>",
         "ids": [
          "Question 62. Having carefully read the definition of discrimination, have you been the victim of discrimination on the job in the past 12 months?/person with disability-specified/A chronic health condition or pain affects ability to function on a regular or episodic basis due to migraines, Crohn's disease, colitis, and other disabilities or health conditions",
          "Question 62. Having carefully read the definition of discrimination, have you been the victim of discrimination on the job in the past 12 months?/person with disability-specified/A cognitive disability affects ability to carry out tasks involving executive functioning, such as planning and organization, learning information, communication and memory, including autism or Asperger's syndrome, attention deficit disorder, and learning disabilities",
          "Question 62. Having carefully read the definition of discrimination, have you been the victim of discrimination on the job in the past 12 months?/person with disability-specified/A hearing disability affects ability to hear, including being hard of hearing, deafness or acoustic distortion",
          "Question 62. Having carefully read the definition of discrimination, have you been the victim of discrimination on the job in the past 12 months?/person with disability-specified/A mental health issue affects psychology or behaviour, such as anxiety, depression or social / compulsive disorder or phobia or psychiatric illness",
          "Question 62. Having carefully read the definition of discrimination, have you been the victim of discrimination on the job in the past 12 months?/person with disability-specified/A mobility issue affects ability to move your body, including the required use of a wheelchair or a cane, or other issues impacting your mobility",
          "Question 62. Having carefully read the definition of discrimination, have you been the victim of discrimination on the job in the past 12 months?/person with disability-specified/A seeing disability affects vision, including total blindness, partial sight and visual distortion",
          "Question 62. Having carefully read the definition of discrimination, have you been the victim of discrimination on the job in the past 12 months?/person with disability-specified/A sensory / environmental disability affects sensitivity to light, sounds or other distractions, as well as allergens and other environmental sensitivities",
          "Question 62. Having carefully read the definition of discrimination, have you been the victim of discrimination on the job in the past 12 months?/person with disability-specified/An intellectual disability affects your ability to learn and to adapt behaviour to different situations",
          "Question 62. Having carefully read the definition of discrimination, have you been the victim of discrimination on the job in the past 12 months?/person with disability-specified/An issue with flexibility or dexterity affects ability to move joints or perform motor tasks, especially with your hands",
          "Question 62. Having carefully read the definition of discrimination, have you been the victim of discrimination on the job in the past 12 months?/sexuality/Another sexual orientation",
          "Question 62. Having carefully read the definition of discrimination, have you been the victim of discrimination on the job in the past 12 months?/sexuality/Bisexual",
          "Question 62. Having carefully read the definition of discrimination, have you been the victim of discrimination on the job in the past 12 months?/ethnicity/Black",
          "Question 62. Having carefully read the definition of discrimination, have you been the victim of discrimination on the job in the past 12 months?/ethnicity/Chinese",
          "Question 62. Having carefully read the definition of discrimination, have you been the victim of discrimination on the job in the past 12 months?/gender/Female gender",
          "Question 62. Having carefully read the definition of discrimination, have you been the victim of discrimination on the job in the past 12 months?/ethnicity/Filipino",
          "Question 62. Having carefully read the definition of discrimination, have you been the victim of discrimination on the job in the past 12 months?/indigenous-specified/First Nation (North American Indian)",
          "Question 62. Having carefully read the definition of discrimination, have you been the victim of discrimination on the job in the past 12 months?/sexuality/Gay or lesbian",
          "Question 62. Having carefully read the definition of discrimination, have you been the victim of discrimination on the job in the past 12 months?/gender/Gender diverse",
          "Question 62. Having carefully read the definition of discrimination, have you been the victim of discrimination on the job in the past 12 months?/sexuality/Heterosexual",
          "Question 62. Having carefully read the definition of discrimination, have you been the victim of discrimination on the job in the past 12 months?/indigenous/Indigenous",
          "Question 62. Having carefully read the definition of discrimination, have you been the victim of discrimination on the job in the past 12 months?/indigenous-specified/Inuk (Inuit)",
          "Question 62. Having carefully read the definition of discrimination, have you been the victim of discrimination on the job in the past 12 months?/ethnicity/Japanese",
          "Question 62. Having carefully read the definition of discrimination, have you been the victim of discrimination on the job in the past 12 months?/ethnicity/Korean",
          "Question 62. Having carefully read the definition of discrimination, have you been the victim of discrimination on the job in the past 12 months?/gender/Male gender",
          "Question 62. Having carefully read the definition of discrimination, have you been the victim of discrimination on the job in the past 12 months?/indigenous-specified/Métis",
          "Question 62. Having carefully read the definition of discrimination, have you been the victim of discrimination on the job in the past 12 months?/indigenous/Non-Indigenous",
          "Question 62. Having carefully read the definition of discrimination, have you been the victim of discrimination on the job in the past 12 months?/ethnicity/Non-White Latin American (including: Indigenous persons from Central and South America, etc.)",
          "Question 62. Having carefully read the definition of discrimination, have you been the victim of discrimination on the job in the past 12 months?/ethnicity/Non-White West Asian, North African or Arab (including: Egyptian; Libyan; Lebanese; Iranian; etc.)",
          "Question 62. Having carefully read the definition of discrimination, have you been the victim of discrimination on the job in the past 12 months?/visible minority/Non-visible minority",
          "Question 62. Having carefully read the definition of discrimination, have you been the victim of discrimination on the job in the past 12 months?/person with disability/Not a person with a disability",
          "Question 62. Having carefully read the definition of discrimination, have you been the victim of discrimination on the job in the past 12 months?/person with disability-specified/Other disability (including: learning disabilities, developmental disabilities and all other types of disabilities)",
          "Question 62. Having carefully read the definition of discrimination, have you been the victim of discrimination on the job in the past 12 months?/ethnicity/Other visible minority group",
          "Question 62. Having carefully read the definition of discrimination, have you been the victim of discrimination on the job in the past 12 months?/ethnicity/Person of mixed origin (with one parent in one of the visible minority groups)",
          "Question 62. Having carefully read the definition of discrimination, have you been the victim of discrimination on the job in the past 12 months?/person with disability/Person with a disability",
          "Question 62. Having carefully read the definition of discrimination, have you been the victim of discrimination on the job in the past 12 months?/sexuality/Prefer not to answer",
          "Question 62. Having carefully read the definition of discrimination, have you been the victim of discrimination on the job in the past 12 months?/ethnicity/South Asian/East Indian (including: Indian from India; Bangladeshi; Pakistani; East Indian from Guyana, Trinidad, East Africa; etc.)",
          "Question 62. Having carefully read the definition of discrimination, have you been the victim of discrimination on the job in the past 12 months?/ethnicity/Southeast Asian (including: Burmese; Cambodian; Laotian; Thai; Vietnamese; etc.)",
          "Question 62. Having carefully read the definition of discrimination, have you been the victim of discrimination on the job in the past 12 months?/visible minority/Visible minority",
          "Question 62. Having carefully read the definition of discrimination, have you been the victim of discrimination on the job in the past 12 months?/ethnicity",
          "Question 62. Having carefully read the definition of discrimination, have you been the victim of discrimination on the job in the past 12 months?/gender",
          "Question 62. Having carefully read the definition of discrimination, have you been the victim of discrimination on the job in the past 12 months?/indigenous",
          "Question 62. Having carefully read the definition of discrimination, have you been the victim of discrimination on the job in the past 12 months?/indigenous-specified",
          "Question 62. Having carefully read the definition of discrimination, have you been the victim of discrimination on the job in the past 12 months?/person with disability",
          "Question 62. Having carefully read the definition of discrimination, have you been the victim of discrimination on the job in the past 12 months?/person with disability-specified",
          "Question 62. Having carefully read the definition of discrimination, have you been the victim of discrimination on the job in the past 12 months?/sexuality",
          "Question 62. Having carefully read the definition of discrimination, have you been the victim of discrimination on the job in the past 12 months?/visible minority",
          "Question 62. Having carefully read the definition of discrimination, have you been the victim of discrimination on the job in the past 12 months?"
         ],
         "labels": [
          "A chronic health condition or pain affects ability to function on a regular or episodic basis due to migraines, Crohn's disease, colitis, and other disabilities or health conditions",
          "A cognitive disability affects ability to carry out tasks involving executive functioning, such as planning and organization, learning information, communication and memory, including autism or Asperger's syndrome, attention deficit disorder, and learning disabilities",
          "A hearing disability affects ability to hear, including being hard of hearing, deafness or acoustic distortion",
          "A mental health issue affects psychology or behaviour, such as anxiety, depression or social / compulsive disorder or phobia or psychiatric illness",
          "A mobility issue affects ability to move your body, including the required use of a wheelchair or a cane, or other issues impacting your mobility",
          "A seeing disability affects vision, including total blindness, partial sight and visual distortion",
          "A sensory / environmental disability affects sensitivity to light, sounds or other distractions, as well as allergens and other environmental sensitivities",
          "An intellectual disability affects your ability to learn and to adapt behaviour to different situations",
          "An issue with flexibility or dexterity affects ability to move joints or perform motor tasks, especially with your hands",
          "Another sexual orientation",
          "Bisexual",
          "Black",
          "Chinese",
          "Female gender",
          "Filipino",
          "First Nation (North American Indian)",
          "Gay or lesbian",
          "Gender diverse",
          "Heterosexual",
          "Indigenous",
          "Inuk (Inuit)",
          "Japanese",
          "Korean",
          "Male gender",
          "Métis",
          "Non-Indigenous",
          "Non-White Latin American (including: Indigenous persons from Central and South America, etc.)",
          "Non-White West Asian, North African or Arab (including: Egyptian; Libyan; Lebanese; Iranian; etc.)",
          "Non-visible minority",
          "Not a person with a disability",
          "Other disability (including: learning disabilities, developmental disabilities and all other types of disabilities)",
          "Other visible minority group",
          "Person of mixed origin (with one parent in one of the visible minority groups)",
          "Person with a disability",
          "Prefer not to answer",
          "South Asian/East Indian (including: Indian from India; Bangladeshi; Pakistani; East Indian from Guyana, Trinidad, East Africa; etc.)",
          "Southeast Asian (including: Burmese; Cambodian; Laotian; Thai; Vietnamese; etc.)",
          "Visible minority",
          "ethnicity",
          "gender",
          "indigenous",
          "indigenous-specified",
          "person with disability",
          "person with disability-specified",
          "sexuality",
          "visible minority",
          "Question 62. Having carefully read the definition of discrimination, have you been the victim of discrimination on the job in the past 12 months?"
         ],
         "marker": {
          "coloraxis": "coloraxis",
          "colors": [
           20.696969696969695,
           23.25925925925926,
           15.619047619047619,
           23.162162162162158,
           20.625,
           25.294117647058822,
           29.56,
           29.428571428571427,
           23.44,
           19.5,
           10.385964912280702,
           18.197183098591548,
           7.111111111111111,
           6.950920245398773,
           6.8695652173913055,
           13.15,
           8.214285714285714,
           20.103448275862068,
           5.786096256684493,
           11.673076923076923,
           21.25,
           6.125,
           8.76923076923077,
           6.521472392638037,
           11.538461538461538,
           6.769230769230769,
           12.214285714285714,
           10.714285714285714,
           5.62111801242236,
           5.798561151079137,
           20.583333333333332,
           22.025641025641026,
           11.725490196078429,
           21.388489208633093,
           9.953947368421053,
           14.461538461538462,
           7.64,
           12.627329192546584,
           13.487268770366773,
           14.74255040329284,
           9.873125050132348,
           16.492086789633674,
           18.063407966402742,
           23.861352180203028,
           12.781370247407013,
           10.46918721909103,
           18.08067123336084
          ]
         },
         "name": "",
         "parents": [
          "Question 62. Having carefully read the definition of discrimination, have you been the victim of discrimination on the job in the past 12 months?/person with disability-specified",
          "Question 62. Having carefully read the definition of discrimination, have you been the victim of discrimination on the job in the past 12 months?/person with disability-specified",
          "Question 62. Having carefully read the definition of discrimination, have you been the victim of discrimination on the job in the past 12 months?/person with disability-specified",
          "Question 62. Having carefully read the definition of discrimination, have you been the victim of discrimination on the job in the past 12 months?/person with disability-specified",
          "Question 62. Having carefully read the definition of discrimination, have you been the victim of discrimination on the job in the past 12 months?/person with disability-specified",
          "Question 62. Having carefully read the definition of discrimination, have you been the victim of discrimination on the job in the past 12 months?/person with disability-specified",
          "Question 62. Having carefully read the definition of discrimination, have you been the victim of discrimination on the job in the past 12 months?/person with disability-specified",
          "Question 62. Having carefully read the definition of discrimination, have you been the victim of discrimination on the job in the past 12 months?/person with disability-specified",
          "Question 62. Having carefully read the definition of discrimination, have you been the victim of discrimination on the job in the past 12 months?/person with disability-specified",
          "Question 62. Having carefully read the definition of discrimination, have you been the victim of discrimination on the job in the past 12 months?/sexuality",
          "Question 62. Having carefully read the definition of discrimination, have you been the victim of discrimination on the job in the past 12 months?/sexuality",
          "Question 62. Having carefully read the definition of discrimination, have you been the victim of discrimination on the job in the past 12 months?/ethnicity",
          "Question 62. Having carefully read the definition of discrimination, have you been the victim of discrimination on the job in the past 12 months?/ethnicity",
          "Question 62. Having carefully read the definition of discrimination, have you been the victim of discrimination on the job in the past 12 months?/gender",
          "Question 62. Having carefully read the definition of discrimination, have you been the victim of discrimination on the job in the past 12 months?/ethnicity",
          "Question 62. Having carefully read the definition of discrimination, have you been the victim of discrimination on the job in the past 12 months?/indigenous-specified",
          "Question 62. Having carefully read the definition of discrimination, have you been the victim of discrimination on the job in the past 12 months?/sexuality",
          "Question 62. Having carefully read the definition of discrimination, have you been the victim of discrimination on the job in the past 12 months?/gender",
          "Question 62. Having carefully read the definition of discrimination, have you been the victim of discrimination on the job in the past 12 months?/sexuality",
          "Question 62. Having carefully read the definition of discrimination, have you been the victim of discrimination on the job in the past 12 months?/indigenous",
          "Question 62. Having carefully read the definition of discrimination, have you been the victim of discrimination on the job in the past 12 months?/indigenous-specified",
          "Question 62. Having carefully read the definition of discrimination, have you been the victim of discrimination on the job in the past 12 months?/ethnicity",
          "Question 62. Having carefully read the definition of discrimination, have you been the victim of discrimination on the job in the past 12 months?/ethnicity",
          "Question 62. Having carefully read the definition of discrimination, have you been the victim of discrimination on the job in the past 12 months?/gender",
          "Question 62. Having carefully read the definition of discrimination, have you been the victim of discrimination on the job in the past 12 months?/indigenous-specified",
          "Question 62. Having carefully read the definition of discrimination, have you been the victim of discrimination on the job in the past 12 months?/indigenous",
          "Question 62. Having carefully read the definition of discrimination, have you been the victim of discrimination on the job in the past 12 months?/ethnicity",
          "Question 62. Having carefully read the definition of discrimination, have you been the victim of discrimination on the job in the past 12 months?/ethnicity",
          "Question 62. Having carefully read the definition of discrimination, have you been the victim of discrimination on the job in the past 12 months?/visible minority",
          "Question 62. Having carefully read the definition of discrimination, have you been the victim of discrimination on the job in the past 12 months?/person with disability",
          "Question 62. Having carefully read the definition of discrimination, have you been the victim of discrimination on the job in the past 12 months?/person with disability-specified",
          "Question 62. Having carefully read the definition of discrimination, have you been the victim of discrimination on the job in the past 12 months?/ethnicity",
          "Question 62. Having carefully read the definition of discrimination, have you been the victim of discrimination on the job in the past 12 months?/ethnicity",
          "Question 62. Having carefully read the definition of discrimination, have you been the victim of discrimination on the job in the past 12 months?/person with disability",
          "Question 62. Having carefully read the definition of discrimination, have you been the victim of discrimination on the job in the past 12 months?/sexuality",
          "Question 62. Having carefully read the definition of discrimination, have you been the victim of discrimination on the job in the past 12 months?/ethnicity",
          "Question 62. Having carefully read the definition of discrimination, have you been the victim of discrimination on the job in the past 12 months?/ethnicity",
          "Question 62. Having carefully read the definition of discrimination, have you been the victim of discrimination on the job in the past 12 months?/visible minority",
          "Question 62. Having carefully read the definition of discrimination, have you been the victim of discrimination on the job in the past 12 months?",
          "Question 62. Having carefully read the definition of discrimination, have you been the victim of discrimination on the job in the past 12 months?",
          "Question 62. Having carefully read the definition of discrimination, have you been the victim of discrimination on the job in the past 12 months?",
          "Question 62. Having carefully read the definition of discrimination, have you been the victim of discrimination on the job in the past 12 months?",
          "Question 62. Having carefully read the definition of discrimination, have you been the victim of discrimination on the job in the past 12 months?",
          "Question 62. Having carefully read the definition of discrimination, have you been the victim of discrimination on the job in the past 12 months?",
          "Question 62. Having carefully read the definition of discrimination, have you been the victim of discrimination on the job in the past 12 months?",
          "Question 62. Having carefully read the definition of discrimination, have you been the victim of discrimination on the job in the past 12 months?",
          ""
         ],
         "type": "treemap",
         "values": [
          20.696969696969695,
          23.25925925925926,
          15.619047619047619,
          23.16216216216216,
          20.625,
          25.294117647058822,
          29.56,
          29.428571428571427,
          23.44,
          19.5,
          10.385964912280702,
          18.197183098591548,
          7.111111111111111,
          6.950920245398773,
          6.869565217391305,
          13.15,
          8.214285714285714,
          20.103448275862068,
          5.786096256684492,
          11.673076923076923,
          21.25,
          6.125,
          8.76923076923077,
          6.521472392638037,
          11.538461538461538,
          6.769230769230769,
          12.214285714285714,
          10.714285714285714,
          5.62111801242236,
          5.798561151079137,
          20.583333333333332,
          22.025641025641026,
          11.72549019607843,
          21.388489208633093,
          9.953947368421053,
          14.461538461538462,
          7.64,
          12.627329192546584,
          125.85333130815408,
          33.57584091389888,
          18.442307692307693,
          45.93846153846154,
          27.18705035971223,
          231.6684611464023,
          53.84029425167196,
          18.248447204968944,
          554.7541944155777
         ]
        }
       ],
       "layout": {
        "coloraxis": {
         "colorbar": {
          "title": {
           "text": "Yes"
          }
         },
         "colorscale": [
          [
           0,
           "rgb(247,252,240)"
          ],
          [
           0.125,
           "rgb(224,243,219)"
          ],
          [
           0.25,
           "rgb(204,235,197)"
          ],
          [
           0.375,
           "rgb(168,221,181)"
          ],
          [
           0.5,
           "rgb(123,204,196)"
          ],
          [
           0.625,
           "rgb(78,179,211)"
          ],
          [
           0.75,
           "rgb(43,140,190)"
          ],
          [
           0.875,
           "rgb(8,104,172)"
          ],
          [
           1,
           "rgb(8,64,129)"
          ]
         ]
        },
        "legend": {
         "tracegroupgap": 0
        },
        "margin": {
         "b": 25,
         "l": 25,
         "r": 25,
         "t": 50
        },
        "template": {
         "data": {
          "bar": [
           {
            "error_x": {
             "color": "#2a3f5f"
            },
            "error_y": {
             "color": "#2a3f5f"
            },
            "marker": {
             "line": {
              "color": "#E5ECF6",
              "width": 0.5
             },
             "pattern": {
              "fillmode": "overlay",
              "size": 10,
              "solidity": 0.2
             }
            },
            "type": "bar"
           }
          ],
          "barpolar": [
           {
            "marker": {
             "line": {
              "color": "#E5ECF6",
              "width": 0.5
             },
             "pattern": {
              "fillmode": "overlay",
              "size": 10,
              "solidity": 0.2
             }
            },
            "type": "barpolar"
           }
          ],
          "carpet": [
           {
            "aaxis": {
             "endlinecolor": "#2a3f5f",
             "gridcolor": "white",
             "linecolor": "white",
             "minorgridcolor": "white",
             "startlinecolor": "#2a3f5f"
            },
            "baxis": {
             "endlinecolor": "#2a3f5f",
             "gridcolor": "white",
             "linecolor": "white",
             "minorgridcolor": "white",
             "startlinecolor": "#2a3f5f"
            },
            "type": "carpet"
           }
          ],
          "choropleth": [
           {
            "colorbar": {
             "outlinewidth": 0,
             "ticks": ""
            },
            "type": "choropleth"
           }
          ],
          "contour": [
           {
            "colorbar": {
             "outlinewidth": 0,
             "ticks": ""
            },
            "colorscale": [
             [
              0,
              "#0d0887"
             ],
             [
              0.1111111111111111,
              "#46039f"
             ],
             [
              0.2222222222222222,
              "#7201a8"
             ],
             [
              0.3333333333333333,
              "#9c179e"
             ],
             [
              0.4444444444444444,
              "#bd3786"
             ],
             [
              0.5555555555555556,
              "#d8576b"
             ],
             [
              0.6666666666666666,
              "#ed7953"
             ],
             [
              0.7777777777777778,
              "#fb9f3a"
             ],
             [
              0.8888888888888888,
              "#fdca26"
             ],
             [
              1,
              "#f0f921"
             ]
            ],
            "type": "contour"
           }
          ],
          "contourcarpet": [
           {
            "colorbar": {
             "outlinewidth": 0,
             "ticks": ""
            },
            "type": "contourcarpet"
           }
          ],
          "heatmap": [
           {
            "colorbar": {
             "outlinewidth": 0,
             "ticks": ""
            },
            "colorscale": [
             [
              0,
              "#0d0887"
             ],
             [
              0.1111111111111111,
              "#46039f"
             ],
             [
              0.2222222222222222,
              "#7201a8"
             ],
             [
              0.3333333333333333,
              "#9c179e"
             ],
             [
              0.4444444444444444,
              "#bd3786"
             ],
             [
              0.5555555555555556,
              "#d8576b"
             ],
             [
              0.6666666666666666,
              "#ed7953"
             ],
             [
              0.7777777777777778,
              "#fb9f3a"
             ],
             [
              0.8888888888888888,
              "#fdca26"
             ],
             [
              1,
              "#f0f921"
             ]
            ],
            "type": "heatmap"
           }
          ],
          "heatmapgl": [
           {
            "colorbar": {
             "outlinewidth": 0,
             "ticks": ""
            },
            "colorscale": [
             [
              0,
              "#0d0887"
             ],
             [
              0.1111111111111111,
              "#46039f"
             ],
             [
              0.2222222222222222,
              "#7201a8"
             ],
             [
              0.3333333333333333,
              "#9c179e"
             ],
             [
              0.4444444444444444,
              "#bd3786"
             ],
             [
              0.5555555555555556,
              "#d8576b"
             ],
             [
              0.6666666666666666,
              "#ed7953"
             ],
             [
              0.7777777777777778,
              "#fb9f3a"
             ],
             [
              0.8888888888888888,
              "#fdca26"
             ],
             [
              1,
              "#f0f921"
             ]
            ],
            "type": "heatmapgl"
           }
          ],
          "histogram": [
           {
            "marker": {
             "pattern": {
              "fillmode": "overlay",
              "size": 10,
              "solidity": 0.2
             }
            },
            "type": "histogram"
           }
          ],
          "histogram2d": [
           {
            "colorbar": {
             "outlinewidth": 0,
             "ticks": ""
            },
            "colorscale": [
             [
              0,
              "#0d0887"
             ],
             [
              0.1111111111111111,
              "#46039f"
             ],
             [
              0.2222222222222222,
              "#7201a8"
             ],
             [
              0.3333333333333333,
              "#9c179e"
             ],
             [
              0.4444444444444444,
              "#bd3786"
             ],
             [
              0.5555555555555556,
              "#d8576b"
             ],
             [
              0.6666666666666666,
              "#ed7953"
             ],
             [
              0.7777777777777778,
              "#fb9f3a"
             ],
             [
              0.8888888888888888,
              "#fdca26"
             ],
             [
              1,
              "#f0f921"
             ]
            ],
            "type": "histogram2d"
           }
          ],
          "histogram2dcontour": [
           {
            "colorbar": {
             "outlinewidth": 0,
             "ticks": ""
            },
            "colorscale": [
             [
              0,
              "#0d0887"
             ],
             [
              0.1111111111111111,
              "#46039f"
             ],
             [
              0.2222222222222222,
              "#7201a8"
             ],
             [
              0.3333333333333333,
              "#9c179e"
             ],
             [
              0.4444444444444444,
              "#bd3786"
             ],
             [
              0.5555555555555556,
              "#d8576b"
             ],
             [
              0.6666666666666666,
              "#ed7953"
             ],
             [
              0.7777777777777778,
              "#fb9f3a"
             ],
             [
              0.8888888888888888,
              "#fdca26"
             ],
             [
              1,
              "#f0f921"
             ]
            ],
            "type": "histogram2dcontour"
           }
          ],
          "mesh3d": [
           {
            "colorbar": {
             "outlinewidth": 0,
             "ticks": ""
            },
            "type": "mesh3d"
           }
          ],
          "parcoords": [
           {
            "line": {
             "colorbar": {
              "outlinewidth": 0,
              "ticks": ""
             }
            },
            "type": "parcoords"
           }
          ],
          "pie": [
           {
            "automargin": true,
            "type": "pie"
           }
          ],
          "scatter": [
           {
            "marker": {
             "colorbar": {
              "outlinewidth": 0,
              "ticks": ""
             }
            },
            "type": "scatter"
           }
          ],
          "scatter3d": [
           {
            "line": {
             "colorbar": {
              "outlinewidth": 0,
              "ticks": ""
             }
            },
            "marker": {
             "colorbar": {
              "outlinewidth": 0,
              "ticks": ""
             }
            },
            "type": "scatter3d"
           }
          ],
          "scattercarpet": [
           {
            "marker": {
             "colorbar": {
              "outlinewidth": 0,
              "ticks": ""
             }
            },
            "type": "scattercarpet"
           }
          ],
          "scattergeo": [
           {
            "marker": {
             "colorbar": {
              "outlinewidth": 0,
              "ticks": ""
             }
            },
            "type": "scattergeo"
           }
          ],
          "scattergl": [
           {
            "marker": {
             "colorbar": {
              "outlinewidth": 0,
              "ticks": ""
             }
            },
            "type": "scattergl"
           }
          ],
          "scattermapbox": [
           {
            "marker": {
             "colorbar": {
              "outlinewidth": 0,
              "ticks": ""
             }
            },
            "type": "scattermapbox"
           }
          ],
          "scatterpolar": [
           {
            "marker": {
             "colorbar": {
              "outlinewidth": 0,
              "ticks": ""
             }
            },
            "type": "scatterpolar"
           }
          ],
          "scatterpolargl": [
           {
            "marker": {
             "colorbar": {
              "outlinewidth": 0,
              "ticks": ""
             }
            },
            "type": "scatterpolargl"
           }
          ],
          "scatterternary": [
           {
            "marker": {
             "colorbar": {
              "outlinewidth": 0,
              "ticks": ""
             }
            },
            "type": "scatterternary"
           }
          ],
          "surface": [
           {
            "colorbar": {
             "outlinewidth": 0,
             "ticks": ""
            },
            "colorscale": [
             [
              0,
              "#0d0887"
             ],
             [
              0.1111111111111111,
              "#46039f"
             ],
             [
              0.2222222222222222,
              "#7201a8"
             ],
             [
              0.3333333333333333,
              "#9c179e"
             ],
             [
              0.4444444444444444,
              "#bd3786"
             ],
             [
              0.5555555555555556,
              "#d8576b"
             ],
             [
              0.6666666666666666,
              "#ed7953"
             ],
             [
              0.7777777777777778,
              "#fb9f3a"
             ],
             [
              0.8888888888888888,
              "#fdca26"
             ],
             [
              1,
              "#f0f921"
             ]
            ],
            "type": "surface"
           }
          ],
          "table": [
           {
            "cells": {
             "fill": {
              "color": "#EBF0F8"
             },
             "line": {
              "color": "white"
             }
            },
            "header": {
             "fill": {
              "color": "#C8D4E3"
             },
             "line": {
              "color": "white"
             }
            },
            "type": "table"
           }
          ]
         },
         "layout": {
          "annotationdefaults": {
           "arrowcolor": "#2a3f5f",
           "arrowhead": 0,
           "arrowwidth": 1
          },
          "autotypenumbers": "strict",
          "coloraxis": {
           "colorbar": {
            "outlinewidth": 0,
            "ticks": ""
           }
          },
          "colorscale": {
           "diverging": [
            [
             0,
             "#8e0152"
            ],
            [
             0.1,
             "#c51b7d"
            ],
            [
             0.2,
             "#de77ae"
            ],
            [
             0.3,
             "#f1b6da"
            ],
            [
             0.4,
             "#fde0ef"
            ],
            [
             0.5,
             "#f7f7f7"
            ],
            [
             0.6,
             "#e6f5d0"
            ],
            [
             0.7,
             "#b8e186"
            ],
            [
             0.8,
             "#7fbc41"
            ],
            [
             0.9,
             "#4d9221"
            ],
            [
             1,
             "#276419"
            ]
           ],
           "sequential": [
            [
             0,
             "#0d0887"
            ],
            [
             0.1111111111111111,
             "#46039f"
            ],
            [
             0.2222222222222222,
             "#7201a8"
            ],
            [
             0.3333333333333333,
             "#9c179e"
            ],
            [
             0.4444444444444444,
             "#bd3786"
            ],
            [
             0.5555555555555556,
             "#d8576b"
            ],
            [
             0.6666666666666666,
             "#ed7953"
            ],
            [
             0.7777777777777778,
             "#fb9f3a"
            ],
            [
             0.8888888888888888,
             "#fdca26"
            ],
            [
             1,
             "#f0f921"
            ]
           ],
           "sequentialminus": [
            [
             0,
             "#0d0887"
            ],
            [
             0.1111111111111111,
             "#46039f"
            ],
            [
             0.2222222222222222,
             "#7201a8"
            ],
            [
             0.3333333333333333,
             "#9c179e"
            ],
            [
             0.4444444444444444,
             "#bd3786"
            ],
            [
             0.5555555555555556,
             "#d8576b"
            ],
            [
             0.6666666666666666,
             "#ed7953"
            ],
            [
             0.7777777777777778,
             "#fb9f3a"
            ],
            [
             0.8888888888888888,
             "#fdca26"
            ],
            [
             1,
             "#f0f921"
            ]
           ]
          },
          "colorway": [
           "#636efa",
           "#EF553B",
           "#00cc96",
           "#ab63fa",
           "#FFA15A",
           "#19d3f3",
           "#FF6692",
           "#B6E880",
           "#FF97FF",
           "#FECB52"
          ],
          "font": {
           "color": "#2a3f5f"
          },
          "geo": {
           "bgcolor": "white",
           "lakecolor": "white",
           "landcolor": "#E5ECF6",
           "showlakes": true,
           "showland": true,
           "subunitcolor": "white"
          },
          "hoverlabel": {
           "align": "left"
          },
          "hovermode": "closest",
          "mapbox": {
           "style": "light"
          },
          "paper_bgcolor": "white",
          "plot_bgcolor": "#E5ECF6",
          "polar": {
           "angularaxis": {
            "gridcolor": "white",
            "linecolor": "white",
            "ticks": ""
           },
           "bgcolor": "#E5ECF6",
           "radialaxis": {
            "gridcolor": "white",
            "linecolor": "white",
            "ticks": ""
           }
          },
          "scene": {
           "xaxis": {
            "backgroundcolor": "#E5ECF6",
            "gridcolor": "white",
            "gridwidth": 2,
            "linecolor": "white",
            "showbackground": true,
            "ticks": "",
            "zerolinecolor": "white"
           },
           "yaxis": {
            "backgroundcolor": "#E5ECF6",
            "gridcolor": "white",
            "gridwidth": 2,
            "linecolor": "white",
            "showbackground": true,
            "ticks": "",
            "zerolinecolor": "white"
           },
           "zaxis": {
            "backgroundcolor": "#E5ECF6",
            "gridcolor": "white",
            "gridwidth": 2,
            "linecolor": "white",
            "showbackground": true,
            "ticks": "",
            "zerolinecolor": "white"
           }
          },
          "shapedefaults": {
           "line": {
            "color": "#2a3f5f"
           }
          },
          "ternary": {
           "aaxis": {
            "gridcolor": "white",
            "linecolor": "white",
            "ticks": ""
           },
           "baxis": {
            "gridcolor": "white",
            "linecolor": "white",
            "ticks": ""
           },
           "bgcolor": "#E5ECF6",
           "caxis": {
            "gridcolor": "white",
            "linecolor": "white",
            "ticks": ""
           }
          },
          "title": {
           "x": 0.05
          },
          "xaxis": {
           "automargin": true,
           "gridcolor": "white",
           "linecolor": "white",
           "ticks": "",
           "title": {
            "standoff": 15
           },
           "zerolinecolor": "white",
           "zerolinewidth": 2
          },
          "yaxis": {
           "automargin": true,
           "gridcolor": "white",
           "linecolor": "white",
           "ticks": "",
           "title": {
            "standoff": 15
           },
           "zerolinecolor": "white",
           "zerolinewidth": 2
          }
         }
        }
       }
      }
     },
     "metadata": {},
     "output_type": "display_data"
    }
   ],
   "source": [
    "# Number of questions by Indicatior and SubIndicator\n",
    "\n",
    "fig = px.treemap(df_tree_map, path=[px.Constant(\"Question 62. Having carefully read the definition of discrimination, have you been the victim of discrimination on the job in the past 12 months?\"), \n",
    "                                    'GENERAL_DEMO_GROUP', 'DESCRIP_E'], values='Yes', color='Yes'\n",
    "                                    ,color_continuous_scale='GnBu')\n",
    "fig.update_layout(margin = dict(t=50, l=25, r=25, b=25))\n",
    "fig.show()"
   ]
  },
  {
   "cell_type": "markdown",
   "metadata": {},
   "source": [
    "\n",
    "### Q63 a-g Discrimination come from\n",
    " \n",
    "- Co-workers\n",
    "- Individuals with authority over me\n",
    "- Individuals working for me\n",
    "- Individuals for whom I have a custodial responsibility (e.g., inmates, offenders, patients, detainees)\n",
    "- Individuals from other departments or agencies\n",
    "- Members of the public (individuals or organizations)\n",
    "- Other"
   ]
  },
  {
   "cell_type": "code",
   "execution_count": 85,
   "metadata": {},
   "outputs": [],
   "source": [
    "Discrimination_src = ['Co-workers', 'Individuals with authority over me', \n",
    "                  'Individuals working for me','Individuals for whom I have a custodial responsibility', \n",
    "                  'Individuals from other departments or agencies', \n",
    "                  'Members of the public (individuals or organizations)', \n",
    "                  'Other']"
   ]
  },
  {
   "cell_type": "code",
   "execution_count": 87,
   "metadata": {},
   "outputs": [
    {
     "data": {
      "text/html": [
       "<div>\n",
       "<style scoped>\n",
       "    .dataframe tbody tr th:only-of-type {\n",
       "        vertical-align: middle;\n",
       "    }\n",
       "\n",
       "    .dataframe tbody tr th {\n",
       "        vertical-align: top;\n",
       "    }\n",
       "\n",
       "    .dataframe thead th {\n",
       "        text-align: right;\n",
       "    }\n",
       "</style>\n",
       "<table border=\"1\" class=\"dataframe\">\n",
       "  <thead>\n",
       "    <tr style=\"text-align: right;\">\n",
       "      <th></th>\n",
       "      <th>QUESTION</th>\n",
       "      <th>Yes</th>\n",
       "      <th>No</th>\n",
       "      <th>SOURCE</th>\n",
       "    </tr>\n",
       "  </thead>\n",
       "  <tbody>\n",
       "    <tr>\n",
       "      <th>0</th>\n",
       "      <td>Q63a</td>\n",
       "      <td>38.847141</td>\n",
       "      <td>61.152859</td>\n",
       "      <td>Co-workers</td>\n",
       "    </tr>\n",
       "    <tr>\n",
       "      <th>1</th>\n",
       "      <td>Q63b</td>\n",
       "      <td>75.361464</td>\n",
       "      <td>24.638536</td>\n",
       "      <td>Individuals with authority over me</td>\n",
       "    </tr>\n",
       "    <tr>\n",
       "      <th>2</th>\n",
       "      <td>Q63c</td>\n",
       "      <td>3.550765</td>\n",
       "      <td>96.449235</td>\n",
       "      <td>Individuals working for me</td>\n",
       "    </tr>\n",
       "    <tr>\n",
       "      <th>3</th>\n",
       "      <td>Q63d</td>\n",
       "      <td>1.467460</td>\n",
       "      <td>98.532540</td>\n",
       "      <td>Individuals for whom I have a custodial respon...</td>\n",
       "    </tr>\n",
       "    <tr>\n",
       "      <th>4</th>\n",
       "      <td>Q63e</td>\n",
       "      <td>8.138202</td>\n",
       "      <td>91.861798</td>\n",
       "      <td>Individuals from other departments or agencies</td>\n",
       "    </tr>\n",
       "    <tr>\n",
       "      <th>5</th>\n",
       "      <td>Q63f</td>\n",
       "      <td>10.201912</td>\n",
       "      <td>89.798088</td>\n",
       "      <td>Members of the public (individuals or organiza...</td>\n",
       "    </tr>\n",
       "    <tr>\n",
       "      <th>6</th>\n",
       "      <td>Q63g</td>\n",
       "      <td>8.642647</td>\n",
       "      <td>91.357353</td>\n",
       "      <td>Other</td>\n",
       "    </tr>\n",
       "  </tbody>\n",
       "</table>\n",
       "</div>"
      ],
      "text/plain": [
       "  QUESTION        Yes         No  \\\n",
       "0     Q63a  38.847141  61.152859   \n",
       "1     Q63b  75.361464  24.638536   \n",
       "2     Q63c   3.550765  96.449235   \n",
       "3     Q63d   1.467460  98.532540   \n",
       "4     Q63e   8.138202  91.861798   \n",
       "5     Q63f  10.201912  89.798088   \n",
       "6     Q63g   8.642647  91.357353   \n",
       "\n",
       "                                              SOURCE  \n",
       "0                                         Co-workers  \n",
       "1                 Individuals with authority over me  \n",
       "2                         Individuals working for me  \n",
       "3  Individuals for whom I have a custodial respon...  \n",
       "4     Individuals from other departments or agencies  \n",
       "5  Members of the public (individuals or organiza...  \n",
       "6                                              Other  "
      ]
     },
     "execution_count": 87,
     "metadata": {},
     "output_type": "execute_result"
    }
   ],
   "source": [
    "df_emp_survey.query(\"QUESTION == 'Q63a'\").groupby('BYCOND_1').mean()\n",
    "df_tree_map = df_emp_survey.query(\"QUESTION == 'Q63a' or QUESTION == 'Q63b' or QUESTION == 'Q63c' or QUESTION == 'Q63d' or QUESTION == 'Q63e' or QUESTION == 'Q63f' or QUESTION == 'Q63g' and SELECTED=='selected'\").groupby(['QUESTION'])[['ANSWER1','ANSWER2']].mean().reset_index()\n",
    "df_tree_map.rename(columns={'ANSWER1': 'Yes', 'ANSWER2':'No'}, inplace=True)\n",
    "df_tree_map['SOURCE'] = Discrimination_src\n",
    "df_tree_map"
   ]
  },
  {
   "cell_type": "code",
   "execution_count": 88,
   "metadata": {},
   "outputs": [
    {
     "data": {
      "application/vnd.plotly.v1+json": {
       "config": {
        "plotlyServerURL": "https://plot.ly"
       },
       "data": [
        {
         "branchvalues": "total",
         "customdata": [
          [
           38.847141190198364
          ],
          [
           1.4674603174603174
          ],
          [
           8.13820224719101
          ],
          [
           75.36146377893951
          ],
          [
           3.5507649513212796
          ],
          [
           10.201911589008363
          ],
          [
           8.64264705882353
          ],
          [
           50.94205242921192
          ]
         ],
         "domain": {
          "x": [
           0,
           1
          ],
          "y": [
           0,
           1
          ]
         },
         "hovertemplate": "labels=%{label}<br>Yes_sum=%{value}<br>parent=%{parent}<br>id=%{id}<br>Yes=%{color}<extra></extra>",
         "ids": [
          "Question 63a. From whom did you experience discrimination on the job?/Co-workers",
          "Question 63a. From whom did you experience discrimination on the job?/Individuals for whom I have a custodial responsibility",
          "Question 63a. From whom did you experience discrimination on the job?/Individuals from other departments or agencies",
          "Question 63a. From whom did you experience discrimination on the job?/Individuals with authority over me",
          "Question 63a. From whom did you experience discrimination on the job?/Individuals working for me",
          "Question 63a. From whom did you experience discrimination on the job?/Members of the public (individuals or organizations)",
          "Question 63a. From whom did you experience discrimination on the job?/Other",
          "Question 63a. From whom did you experience discrimination on the job?"
         ],
         "labels": [
          "Co-workers",
          "Individuals for whom I have a custodial responsibility",
          "Individuals from other departments or agencies",
          "Individuals with authority over me",
          "Individuals working for me",
          "Members of the public (individuals or organizations)",
          "Other",
          "Question 63a. From whom did you experience discrimination on the job?"
         ],
         "marker": {
          "coloraxis": "coloraxis",
          "colors": [
           38.847141190198364,
           1.4674603174603174,
           8.13820224719101,
           75.36146377893951,
           3.5507649513212796,
           10.201911589008363,
           8.64264705882353,
           50.94205242921192
          ]
         },
         "name": "",
         "parents": [
          "Question 63a. From whom did you experience discrimination on the job?",
          "Question 63a. From whom did you experience discrimination on the job?",
          "Question 63a. From whom did you experience discrimination on the job?",
          "Question 63a. From whom did you experience discrimination on the job?",
          "Question 63a. From whom did you experience discrimination on the job?",
          "Question 63a. From whom did you experience discrimination on the job?",
          "Question 63a. From whom did you experience discrimination on the job?",
          ""
         ],
         "type": "treemap",
         "values": [
          38.847141190198364,
          1.4674603174603174,
          8.13820224719101,
          75.36146377893951,
          3.5507649513212796,
          10.201911589008363,
          8.64264705882353,
          146.20959113294236
         ]
        }
       ],
       "layout": {
        "coloraxis": {
         "colorbar": {
          "title": {
           "text": "Yes"
          }
         },
         "colorscale": [
          [
           0,
           "rgb(247,252,240)"
          ],
          [
           0.125,
           "rgb(224,243,219)"
          ],
          [
           0.25,
           "rgb(204,235,197)"
          ],
          [
           0.375,
           "rgb(168,221,181)"
          ],
          [
           0.5,
           "rgb(123,204,196)"
          ],
          [
           0.625,
           "rgb(78,179,211)"
          ],
          [
           0.75,
           "rgb(43,140,190)"
          ],
          [
           0.875,
           "rgb(8,104,172)"
          ],
          [
           1,
           "rgb(8,64,129)"
          ]
         ]
        },
        "legend": {
         "tracegroupgap": 0
        },
        "margin": {
         "b": 25,
         "l": 25,
         "r": 25,
         "t": 50
        },
        "template": {
         "data": {
          "bar": [
           {
            "error_x": {
             "color": "#2a3f5f"
            },
            "error_y": {
             "color": "#2a3f5f"
            },
            "marker": {
             "line": {
              "color": "#E5ECF6",
              "width": 0.5
             },
             "pattern": {
              "fillmode": "overlay",
              "size": 10,
              "solidity": 0.2
             }
            },
            "type": "bar"
           }
          ],
          "barpolar": [
           {
            "marker": {
             "line": {
              "color": "#E5ECF6",
              "width": 0.5
             },
             "pattern": {
              "fillmode": "overlay",
              "size": 10,
              "solidity": 0.2
             }
            },
            "type": "barpolar"
           }
          ],
          "carpet": [
           {
            "aaxis": {
             "endlinecolor": "#2a3f5f",
             "gridcolor": "white",
             "linecolor": "white",
             "minorgridcolor": "white",
             "startlinecolor": "#2a3f5f"
            },
            "baxis": {
             "endlinecolor": "#2a3f5f",
             "gridcolor": "white",
             "linecolor": "white",
             "minorgridcolor": "white",
             "startlinecolor": "#2a3f5f"
            },
            "type": "carpet"
           }
          ],
          "choropleth": [
           {
            "colorbar": {
             "outlinewidth": 0,
             "ticks": ""
            },
            "type": "choropleth"
           }
          ],
          "contour": [
           {
            "colorbar": {
             "outlinewidth": 0,
             "ticks": ""
            },
            "colorscale": [
             [
              0,
              "#0d0887"
             ],
             [
              0.1111111111111111,
              "#46039f"
             ],
             [
              0.2222222222222222,
              "#7201a8"
             ],
             [
              0.3333333333333333,
              "#9c179e"
             ],
             [
              0.4444444444444444,
              "#bd3786"
             ],
             [
              0.5555555555555556,
              "#d8576b"
             ],
             [
              0.6666666666666666,
              "#ed7953"
             ],
             [
              0.7777777777777778,
              "#fb9f3a"
             ],
             [
              0.8888888888888888,
              "#fdca26"
             ],
             [
              1,
              "#f0f921"
             ]
            ],
            "type": "contour"
           }
          ],
          "contourcarpet": [
           {
            "colorbar": {
             "outlinewidth": 0,
             "ticks": ""
            },
            "type": "contourcarpet"
           }
          ],
          "heatmap": [
           {
            "colorbar": {
             "outlinewidth": 0,
             "ticks": ""
            },
            "colorscale": [
             [
              0,
              "#0d0887"
             ],
             [
              0.1111111111111111,
              "#46039f"
             ],
             [
              0.2222222222222222,
              "#7201a8"
             ],
             [
              0.3333333333333333,
              "#9c179e"
             ],
             [
              0.4444444444444444,
              "#bd3786"
             ],
             [
              0.5555555555555556,
              "#d8576b"
             ],
             [
              0.6666666666666666,
              "#ed7953"
             ],
             [
              0.7777777777777778,
              "#fb9f3a"
             ],
             [
              0.8888888888888888,
              "#fdca26"
             ],
             [
              1,
              "#f0f921"
             ]
            ],
            "type": "heatmap"
           }
          ],
          "heatmapgl": [
           {
            "colorbar": {
             "outlinewidth": 0,
             "ticks": ""
            },
            "colorscale": [
             [
              0,
              "#0d0887"
             ],
             [
              0.1111111111111111,
              "#46039f"
             ],
             [
              0.2222222222222222,
              "#7201a8"
             ],
             [
              0.3333333333333333,
              "#9c179e"
             ],
             [
              0.4444444444444444,
              "#bd3786"
             ],
             [
              0.5555555555555556,
              "#d8576b"
             ],
             [
              0.6666666666666666,
              "#ed7953"
             ],
             [
              0.7777777777777778,
              "#fb9f3a"
             ],
             [
              0.8888888888888888,
              "#fdca26"
             ],
             [
              1,
              "#f0f921"
             ]
            ],
            "type": "heatmapgl"
           }
          ],
          "histogram": [
           {
            "marker": {
             "pattern": {
              "fillmode": "overlay",
              "size": 10,
              "solidity": 0.2
             }
            },
            "type": "histogram"
           }
          ],
          "histogram2d": [
           {
            "colorbar": {
             "outlinewidth": 0,
             "ticks": ""
            },
            "colorscale": [
             [
              0,
              "#0d0887"
             ],
             [
              0.1111111111111111,
              "#46039f"
             ],
             [
              0.2222222222222222,
              "#7201a8"
             ],
             [
              0.3333333333333333,
              "#9c179e"
             ],
             [
              0.4444444444444444,
              "#bd3786"
             ],
             [
              0.5555555555555556,
              "#d8576b"
             ],
             [
              0.6666666666666666,
              "#ed7953"
             ],
             [
              0.7777777777777778,
              "#fb9f3a"
             ],
             [
              0.8888888888888888,
              "#fdca26"
             ],
             [
              1,
              "#f0f921"
             ]
            ],
            "type": "histogram2d"
           }
          ],
          "histogram2dcontour": [
           {
            "colorbar": {
             "outlinewidth": 0,
             "ticks": ""
            },
            "colorscale": [
             [
              0,
              "#0d0887"
             ],
             [
              0.1111111111111111,
              "#46039f"
             ],
             [
              0.2222222222222222,
              "#7201a8"
             ],
             [
              0.3333333333333333,
              "#9c179e"
             ],
             [
              0.4444444444444444,
              "#bd3786"
             ],
             [
              0.5555555555555556,
              "#d8576b"
             ],
             [
              0.6666666666666666,
              "#ed7953"
             ],
             [
              0.7777777777777778,
              "#fb9f3a"
             ],
             [
              0.8888888888888888,
              "#fdca26"
             ],
             [
              1,
              "#f0f921"
             ]
            ],
            "type": "histogram2dcontour"
           }
          ],
          "mesh3d": [
           {
            "colorbar": {
             "outlinewidth": 0,
             "ticks": ""
            },
            "type": "mesh3d"
           }
          ],
          "parcoords": [
           {
            "line": {
             "colorbar": {
              "outlinewidth": 0,
              "ticks": ""
             }
            },
            "type": "parcoords"
           }
          ],
          "pie": [
           {
            "automargin": true,
            "type": "pie"
           }
          ],
          "scatter": [
           {
            "marker": {
             "colorbar": {
              "outlinewidth": 0,
              "ticks": ""
             }
            },
            "type": "scatter"
           }
          ],
          "scatter3d": [
           {
            "line": {
             "colorbar": {
              "outlinewidth": 0,
              "ticks": ""
             }
            },
            "marker": {
             "colorbar": {
              "outlinewidth": 0,
              "ticks": ""
             }
            },
            "type": "scatter3d"
           }
          ],
          "scattercarpet": [
           {
            "marker": {
             "colorbar": {
              "outlinewidth": 0,
              "ticks": ""
             }
            },
            "type": "scattercarpet"
           }
          ],
          "scattergeo": [
           {
            "marker": {
             "colorbar": {
              "outlinewidth": 0,
              "ticks": ""
             }
            },
            "type": "scattergeo"
           }
          ],
          "scattergl": [
           {
            "marker": {
             "colorbar": {
              "outlinewidth": 0,
              "ticks": ""
             }
            },
            "type": "scattergl"
           }
          ],
          "scattermapbox": [
           {
            "marker": {
             "colorbar": {
              "outlinewidth": 0,
              "ticks": ""
             }
            },
            "type": "scattermapbox"
           }
          ],
          "scatterpolar": [
           {
            "marker": {
             "colorbar": {
              "outlinewidth": 0,
              "ticks": ""
             }
            },
            "type": "scatterpolar"
           }
          ],
          "scatterpolargl": [
           {
            "marker": {
             "colorbar": {
              "outlinewidth": 0,
              "ticks": ""
             }
            },
            "type": "scatterpolargl"
           }
          ],
          "scatterternary": [
           {
            "marker": {
             "colorbar": {
              "outlinewidth": 0,
              "ticks": ""
             }
            },
            "type": "scatterternary"
           }
          ],
          "surface": [
           {
            "colorbar": {
             "outlinewidth": 0,
             "ticks": ""
            },
            "colorscale": [
             [
              0,
              "#0d0887"
             ],
             [
              0.1111111111111111,
              "#46039f"
             ],
             [
              0.2222222222222222,
              "#7201a8"
             ],
             [
              0.3333333333333333,
              "#9c179e"
             ],
             [
              0.4444444444444444,
              "#bd3786"
             ],
             [
              0.5555555555555556,
              "#d8576b"
             ],
             [
              0.6666666666666666,
              "#ed7953"
             ],
             [
              0.7777777777777778,
              "#fb9f3a"
             ],
             [
              0.8888888888888888,
              "#fdca26"
             ],
             [
              1,
              "#f0f921"
             ]
            ],
            "type": "surface"
           }
          ],
          "table": [
           {
            "cells": {
             "fill": {
              "color": "#EBF0F8"
             },
             "line": {
              "color": "white"
             }
            },
            "header": {
             "fill": {
              "color": "#C8D4E3"
             },
             "line": {
              "color": "white"
             }
            },
            "type": "table"
           }
          ]
         },
         "layout": {
          "annotationdefaults": {
           "arrowcolor": "#2a3f5f",
           "arrowhead": 0,
           "arrowwidth": 1
          },
          "autotypenumbers": "strict",
          "coloraxis": {
           "colorbar": {
            "outlinewidth": 0,
            "ticks": ""
           }
          },
          "colorscale": {
           "diverging": [
            [
             0,
             "#8e0152"
            ],
            [
             0.1,
             "#c51b7d"
            ],
            [
             0.2,
             "#de77ae"
            ],
            [
             0.3,
             "#f1b6da"
            ],
            [
             0.4,
             "#fde0ef"
            ],
            [
             0.5,
             "#f7f7f7"
            ],
            [
             0.6,
             "#e6f5d0"
            ],
            [
             0.7,
             "#b8e186"
            ],
            [
             0.8,
             "#7fbc41"
            ],
            [
             0.9,
             "#4d9221"
            ],
            [
             1,
             "#276419"
            ]
           ],
           "sequential": [
            [
             0,
             "#0d0887"
            ],
            [
             0.1111111111111111,
             "#46039f"
            ],
            [
             0.2222222222222222,
             "#7201a8"
            ],
            [
             0.3333333333333333,
             "#9c179e"
            ],
            [
             0.4444444444444444,
             "#bd3786"
            ],
            [
             0.5555555555555556,
             "#d8576b"
            ],
            [
             0.6666666666666666,
             "#ed7953"
            ],
            [
             0.7777777777777778,
             "#fb9f3a"
            ],
            [
             0.8888888888888888,
             "#fdca26"
            ],
            [
             1,
             "#f0f921"
            ]
           ],
           "sequentialminus": [
            [
             0,
             "#0d0887"
            ],
            [
             0.1111111111111111,
             "#46039f"
            ],
            [
             0.2222222222222222,
             "#7201a8"
            ],
            [
             0.3333333333333333,
             "#9c179e"
            ],
            [
             0.4444444444444444,
             "#bd3786"
            ],
            [
             0.5555555555555556,
             "#d8576b"
            ],
            [
             0.6666666666666666,
             "#ed7953"
            ],
            [
             0.7777777777777778,
             "#fb9f3a"
            ],
            [
             0.8888888888888888,
             "#fdca26"
            ],
            [
             1,
             "#f0f921"
            ]
           ]
          },
          "colorway": [
           "#636efa",
           "#EF553B",
           "#00cc96",
           "#ab63fa",
           "#FFA15A",
           "#19d3f3",
           "#FF6692",
           "#B6E880",
           "#FF97FF",
           "#FECB52"
          ],
          "font": {
           "color": "#2a3f5f"
          },
          "geo": {
           "bgcolor": "white",
           "lakecolor": "white",
           "landcolor": "#E5ECF6",
           "showlakes": true,
           "showland": true,
           "subunitcolor": "white"
          },
          "hoverlabel": {
           "align": "left"
          },
          "hovermode": "closest",
          "mapbox": {
           "style": "light"
          },
          "paper_bgcolor": "white",
          "plot_bgcolor": "#E5ECF6",
          "polar": {
           "angularaxis": {
            "gridcolor": "white",
            "linecolor": "white",
            "ticks": ""
           },
           "bgcolor": "#E5ECF6",
           "radialaxis": {
            "gridcolor": "white",
            "linecolor": "white",
            "ticks": ""
           }
          },
          "scene": {
           "xaxis": {
            "backgroundcolor": "#E5ECF6",
            "gridcolor": "white",
            "gridwidth": 2,
            "linecolor": "white",
            "showbackground": true,
            "ticks": "",
            "zerolinecolor": "white"
           },
           "yaxis": {
            "backgroundcolor": "#E5ECF6",
            "gridcolor": "white",
            "gridwidth": 2,
            "linecolor": "white",
            "showbackground": true,
            "ticks": "",
            "zerolinecolor": "white"
           },
           "zaxis": {
            "backgroundcolor": "#E5ECF6",
            "gridcolor": "white",
            "gridwidth": 2,
            "linecolor": "white",
            "showbackground": true,
            "ticks": "",
            "zerolinecolor": "white"
           }
          },
          "shapedefaults": {
           "line": {
            "color": "#2a3f5f"
           }
          },
          "ternary": {
           "aaxis": {
            "gridcolor": "white",
            "linecolor": "white",
            "ticks": ""
           },
           "baxis": {
            "gridcolor": "white",
            "linecolor": "white",
            "ticks": ""
           },
           "bgcolor": "#E5ECF6",
           "caxis": {
            "gridcolor": "white",
            "linecolor": "white",
            "ticks": ""
           }
          },
          "title": {
           "x": 0.05
          },
          "xaxis": {
           "automargin": true,
           "gridcolor": "white",
           "linecolor": "white",
           "ticks": "",
           "title": {
            "standoff": 15
           },
           "zerolinecolor": "white",
           "zerolinewidth": 2
          },
          "yaxis": {
           "automargin": true,
           "gridcolor": "white",
           "linecolor": "white",
           "ticks": "",
           "title": {
            "standoff": 15
           },
           "zerolinecolor": "white",
           "zerolinewidth": 2
          }
         }
        }
       }
      }
     },
     "metadata": {},
     "output_type": "display_data"
    }
   ],
   "source": [
    "fig = px.treemap(df_tree_map, path=[px.Constant(\"Question 63a. From whom did you experience discrimination on the job?\"),'SOURCE'], values='Yes', color='Yes'\n",
    "                                    ,color_continuous_scale='GnBu')\n",
    "fig.update_layout(margin = dict(t=50, l=25, r=25, b=25))\n",
    "fig.show()\n",
    "# plt.bar(df_tree_map['SOURCE'], df_tree_map['Yes'])\n",
    "# plt.xticks(rotation=90)"
   ]
  },
  {
   "cell_type": "code",
   "execution_count": 91,
   "metadata": {},
   "outputs": [],
   "source": [
    "df_tree_map = df_emp_survey.query(\"QUESTION == 'Q63b' and SELECTED=='selected'\").groupby(['GENERAL_DEMO_GROUP','DESCRIP_E'])[['DESCRIP_E','ANSWER1','ANSWER2']].mean().reset_index()\n",
    "df_tree_map.rename(columns={'ANSWER1': 'Yes', 'ANSWER2':'No'}, inplace=True)"
   ]
  },
  {
   "cell_type": "code",
   "execution_count": 92,
   "metadata": {},
   "outputs": [
    {
     "data": {
      "application/vnd.plotly.v1+json": {
       "config": {
        "plotlyServerURL": "https://plot.ly"
       },
       "data": [
        {
         "branchvalues": "total",
         "customdata": [
          [
           80.1
          ],
          [
           75.75
          ],
          [
           77.14285714285714
          ],
          [
           80.625
          ],
          [
           79.28571428571429
          ],
          [
           74.75
          ],
          [
           86.25
          ],
          [
           80
          ],
          [
           80.5
          ],
          [
           69.75
          ],
          [
           70.84615384615384
          ],
          [
           73.34482758620689
          ],
          [
           63.6
          ],
          [
           76.49462365591398
          ],
          [
           63.2
          ],
          [
           68.71428571428571
          ],
          [
           68.13636363636364
          ],
          [
           72.5
          ],
          [
           76.23387096774194
          ],
          [
           72.33333333333333
          ],
          [
           70
          ],
          [
           75.5
          ],
          [
           72
          ],
          [
           75.26881720430107
          ],
          [
           75.4
          ],
          [
           74.69767441860465
          ],
          [
           69.33333333333333
          ],
          [
           72.8
          ],
          [
           76.54347826086956
          ],
          [
           74.47435897435898
          ],
          [
           79.25
          ],
          [
           76.5
          ],
          [
           72.6
          ],
          [
           79.27272727272727
          ],
          [
           77.225
          ],
          [
           76.08
          ],
          [
           71.25
          ],
          [
           73.71739130434783
          ],
          [
           71.7336788755786
          ],
          [
           74.7918261989442
          ],
          [
           73.5345138414619
          ],
          [
           71.48898547409355
          ],
          [
           76.94842043955866
          ],
          [
           79.47944518087043
          ],
          [
           72.61936261004762
          ],
          [
           75.15701112117553
          ],
          [
           74.80014391398254
          ]
         ],
         "domain": {
          "x": [
           0,
           1
          ],
          "y": [
           0,
           1
          ]
         },
         "hovertemplate": "labels=%{label}<br>Yes_sum=%{value}<br>parent=%{parent}<br>id=%{id}<br>Yes=%{color}<extra></extra>",
         "ids": [
          "Question 63b. From whom did you experience discrimination on the job? Individuals with authority over me/person with disability-specified/A chronic health condition or pain affects ability to function on a regular or episodic basis due to migraines, Crohn's disease, colitis, and other disabilities or health conditions",
          "Question 63b. From whom did you experience discrimination on the job? Individuals with authority over me/person with disability-specified/A cognitive disability affects ability to carry out tasks involving executive functioning, such as planning and organization, learning information, communication and memory, including autism or Asperger's syndrome, attention deficit disorder, and learning disabilities",
          "Question 63b. From whom did you experience discrimination on the job? Individuals with authority over me/person with disability-specified/A hearing disability affects ability to hear, including being hard of hearing, deafness or acoustic distortion",
          "Question 63b. From whom did you experience discrimination on the job? Individuals with authority over me/person with disability-specified/A mental health issue affects psychology or behaviour, such as anxiety, depression or social / compulsive disorder or phobia or psychiatric illness",
          "Question 63b. From whom did you experience discrimination on the job? Individuals with authority over me/person with disability-specified/A mobility issue affects ability to move your body, including the required use of a wheelchair or a cane, or other issues impacting your mobility",
          "Question 63b. From whom did you experience discrimination on the job? Individuals with authority over me/person with disability-specified/A seeing disability affects vision, including total blindness, partial sight and visual distortion",
          "Question 63b. From whom did you experience discrimination on the job? Individuals with authority over me/person with disability-specified/A sensory / environmental disability affects sensitivity to light, sounds or other distractions, as well as allergens and other environmental sensitivities",
          "Question 63b. From whom did you experience discrimination on the job? Individuals with authority over me/person with disability-specified/An intellectual disability affects your ability to learn and to adapt behaviour to different situations",
          "Question 63b. From whom did you experience discrimination on the job? Individuals with authority over me/person with disability-specified/An issue with flexibility or dexterity affects ability to move joints or perform motor tasks, especially with your hands",
          "Question 63b. From whom did you experience discrimination on the job? Individuals with authority over me/sexuality/Another sexual orientation",
          "Question 63b. From whom did you experience discrimination on the job? Individuals with authority over me/sexuality/Bisexual",
          "Question 63b. From whom did you experience discrimination on the job? Individuals with authority over me/ethnicity/Black",
          "Question 63b. From whom did you experience discrimination on the job? Individuals with authority over me/ethnicity/Chinese",
          "Question 63b. From whom did you experience discrimination on the job? Individuals with authority over me/gender/Female gender",
          "Question 63b. From whom did you experience discrimination on the job? Individuals with authority over me/ethnicity/Filipino",
          "Question 63b. From whom did you experience discrimination on the job? Individuals with authority over me/indigenous-specified/First Nation (North American Indian)",
          "Question 63b. From whom did you experience discrimination on the job? Individuals with authority over me/sexuality/Gay or lesbian",
          "Question 63b. From whom did you experience discrimination on the job? Individuals with authority over me/gender/Gender diverse",
          "Question 63b. From whom did you experience discrimination on the job? Individuals with authority over me/sexuality/Heterosexual",
          "Question 63b. From whom did you experience discrimination on the job? Individuals with authority over me/indigenous/Indigenous",
          "Question 63b. From whom did you experience discrimination on the job? Individuals with authority over me/indigenous-specified/Inuk (Inuit)",
          "Question 63b. From whom did you experience discrimination on the job? Individuals with authority over me/ethnicity/Japanese",
          "Question 63b. From whom did you experience discrimination on the job? Individuals with authority over me/ethnicity/Korean",
          "Question 63b. From whom did you experience discrimination on the job? Individuals with authority over me/gender/Male gender",
          "Question 63b. From whom did you experience discrimination on the job? Individuals with authority over me/indigenous-specified/Métis",
          "Question 63b. From whom did you experience discrimination on the job? Individuals with authority over me/indigenous/Non-Indigenous",
          "Question 63b. From whom did you experience discrimination on the job? Individuals with authority over me/ethnicity/Non-White Latin American (including: Indigenous persons from Central and South America, etc.)",
          "Question 63b. From whom did you experience discrimination on the job? Individuals with authority over me/ethnicity/Non-White West Asian, North African or Arab (including: Egyptian; Libyan; Lebanese; Iranian; etc.)",
          "Question 63b. From whom did you experience discrimination on the job? Individuals with authority over me/visible minority/Non-visible minority",
          "Question 63b. From whom did you experience discrimination on the job? Individuals with authority over me/person with disability/Not a person with a disability",
          "Question 63b. From whom did you experience discrimination on the job? Individuals with authority over me/person with disability-specified/Other disability (including: learning disabilities, developmental disabilities and all other types of disabilities)",
          "Question 63b. From whom did you experience discrimination on the job? Individuals with authority over me/ethnicity/Other visible minority group",
          "Question 63b. From whom did you experience discrimination on the job? Individuals with authority over me/ethnicity/Person of mixed origin (with one parent in one of the visible minority groups)",
          "Question 63b. From whom did you experience discrimination on the job? Individuals with authority over me/person with disability/Person with a disability",
          "Question 63b. From whom did you experience discrimination on the job? Individuals with authority over me/sexuality/Prefer not to answer",
          "Question 63b. From whom did you experience discrimination on the job? Individuals with authority over me/ethnicity/South Asian/East Indian (including: Indian from India; Bangladeshi; Pakistani; East Indian from Guyana, Trinidad, East Africa; etc.)",
          "Question 63b. From whom did you experience discrimination on the job? Individuals with authority over me/ethnicity/Southeast Asian (including: Burmese; Cambodian; Laotian; Thai; Vietnamese; etc.)",
          "Question 63b. From whom did you experience discrimination on the job? Individuals with authority over me/visible minority/Visible minority",
          "Question 63b. From whom did you experience discrimination on the job? Individuals with authority over me/ethnicity",
          "Question 63b. From whom did you experience discrimination on the job? Individuals with authority over me/gender",
          "Question 63b. From whom did you experience discrimination on the job? Individuals with authority over me/indigenous",
          "Question 63b. From whom did you experience discrimination on the job? Individuals with authority over me/indigenous-specified",
          "Question 63b. From whom did you experience discrimination on the job? Individuals with authority over me/person with disability",
          "Question 63b. From whom did you experience discrimination on the job? Individuals with authority over me/person with disability-specified",
          "Question 63b. From whom did you experience discrimination on the job? Individuals with authority over me/sexuality",
          "Question 63b. From whom did you experience discrimination on the job? Individuals with authority over me/visible minority",
          "Question 63b. From whom did you experience discrimination on the job? Individuals with authority over me"
         ],
         "labels": [
          "A chronic health condition or pain affects ability to function on a regular or episodic basis due to migraines, Crohn's disease, colitis, and other disabilities or health conditions",
          "A cognitive disability affects ability to carry out tasks involving executive functioning, such as planning and organization, learning information, communication and memory, including autism or Asperger's syndrome, attention deficit disorder, and learning disabilities",
          "A hearing disability affects ability to hear, including being hard of hearing, deafness or acoustic distortion",
          "A mental health issue affects psychology or behaviour, such as anxiety, depression or social / compulsive disorder or phobia or psychiatric illness",
          "A mobility issue affects ability to move your body, including the required use of a wheelchair or a cane, or other issues impacting your mobility",
          "A seeing disability affects vision, including total blindness, partial sight and visual distortion",
          "A sensory / environmental disability affects sensitivity to light, sounds or other distractions, as well as allergens and other environmental sensitivities",
          "An intellectual disability affects your ability to learn and to adapt behaviour to different situations",
          "An issue with flexibility or dexterity affects ability to move joints or perform motor tasks, especially with your hands",
          "Another sexual orientation",
          "Bisexual",
          "Black",
          "Chinese",
          "Female gender",
          "Filipino",
          "First Nation (North American Indian)",
          "Gay or lesbian",
          "Gender diverse",
          "Heterosexual",
          "Indigenous",
          "Inuk (Inuit)",
          "Japanese",
          "Korean",
          "Male gender",
          "Métis",
          "Non-Indigenous",
          "Non-White Latin American (including: Indigenous persons from Central and South America, etc.)",
          "Non-White West Asian, North African or Arab (including: Egyptian; Libyan; Lebanese; Iranian; etc.)",
          "Non-visible minority",
          "Not a person with a disability",
          "Other disability (including: learning disabilities, developmental disabilities and all other types of disabilities)",
          "Other visible minority group",
          "Person of mixed origin (with one parent in one of the visible minority groups)",
          "Person with a disability",
          "Prefer not to answer",
          "South Asian/East Indian (including: Indian from India; Bangladeshi; Pakistani; East Indian from Guyana, Trinidad, East Africa; etc.)",
          "Southeast Asian (including: Burmese; Cambodian; Laotian; Thai; Vietnamese; etc.)",
          "Visible minority",
          "ethnicity",
          "gender",
          "indigenous",
          "indigenous-specified",
          "person with disability",
          "person with disability-specified",
          "sexuality",
          "visible minority",
          "Question 63b. From whom did you experience discrimination on the job? Individuals with authority over me"
         ],
         "marker": {
          "coloraxis": "coloraxis",
          "colors": [
           80.1,
           75.75,
           77.14285714285714,
           80.625,
           79.28571428571429,
           74.75,
           86.25,
           80,
           80.5,
           69.75,
           70.84615384615384,
           73.34482758620689,
           63.6,
           76.49462365591398,
           63.2,
           68.71428571428571,
           68.13636363636364,
           72.5,
           76.23387096774194,
           72.33333333333333,
           70,
           75.5,
           72,
           75.26881720430107,
           75.4,
           74.69767441860465,
           69.33333333333333,
           72.8,
           76.54347826086956,
           74.47435897435898,
           79.25,
           76.5,
           72.6,
           79.27272727272727,
           77.225,
           76.08,
           71.25,
           73.71739130434783,
           71.7336788755786,
           74.7918261989442,
           73.5345138414619,
           71.48898547409355,
           76.94842043955866,
           79.47944518087043,
           72.61936261004762,
           75.15701112117553,
           74.80014391398254
          ]
         },
         "name": "",
         "parents": [
          "Question 63b. From whom did you experience discrimination on the job? Individuals with authority over me/person with disability-specified",
          "Question 63b. From whom did you experience discrimination on the job? Individuals with authority over me/person with disability-specified",
          "Question 63b. From whom did you experience discrimination on the job? Individuals with authority over me/person with disability-specified",
          "Question 63b. From whom did you experience discrimination on the job? Individuals with authority over me/person with disability-specified",
          "Question 63b. From whom did you experience discrimination on the job? Individuals with authority over me/person with disability-specified",
          "Question 63b. From whom did you experience discrimination on the job? Individuals with authority over me/person with disability-specified",
          "Question 63b. From whom did you experience discrimination on the job? Individuals with authority over me/person with disability-specified",
          "Question 63b. From whom did you experience discrimination on the job? Individuals with authority over me/person with disability-specified",
          "Question 63b. From whom did you experience discrimination on the job? Individuals with authority over me/person with disability-specified",
          "Question 63b. From whom did you experience discrimination on the job? Individuals with authority over me/sexuality",
          "Question 63b. From whom did you experience discrimination on the job? Individuals with authority over me/sexuality",
          "Question 63b. From whom did you experience discrimination on the job? Individuals with authority over me/ethnicity",
          "Question 63b. From whom did you experience discrimination on the job? Individuals with authority over me/ethnicity",
          "Question 63b. From whom did you experience discrimination on the job? Individuals with authority over me/gender",
          "Question 63b. From whom did you experience discrimination on the job? Individuals with authority over me/ethnicity",
          "Question 63b. From whom did you experience discrimination on the job? Individuals with authority over me/indigenous-specified",
          "Question 63b. From whom did you experience discrimination on the job? Individuals with authority over me/sexuality",
          "Question 63b. From whom did you experience discrimination on the job? Individuals with authority over me/gender",
          "Question 63b. From whom did you experience discrimination on the job? Individuals with authority over me/sexuality",
          "Question 63b. From whom did you experience discrimination on the job? Individuals with authority over me/indigenous",
          "Question 63b. From whom did you experience discrimination on the job? Individuals with authority over me/indigenous-specified",
          "Question 63b. From whom did you experience discrimination on the job? Individuals with authority over me/ethnicity",
          "Question 63b. From whom did you experience discrimination on the job? Individuals with authority over me/ethnicity",
          "Question 63b. From whom did you experience discrimination on the job? Individuals with authority over me/gender",
          "Question 63b. From whom did you experience discrimination on the job? Individuals with authority over me/indigenous-specified",
          "Question 63b. From whom did you experience discrimination on the job? Individuals with authority over me/indigenous",
          "Question 63b. From whom did you experience discrimination on the job? Individuals with authority over me/ethnicity",
          "Question 63b. From whom did you experience discrimination on the job? Individuals with authority over me/ethnicity",
          "Question 63b. From whom did you experience discrimination on the job? Individuals with authority over me/visible minority",
          "Question 63b. From whom did you experience discrimination on the job? Individuals with authority over me/person with disability",
          "Question 63b. From whom did you experience discrimination on the job? Individuals with authority over me/person with disability-specified",
          "Question 63b. From whom did you experience discrimination on the job? Individuals with authority over me/ethnicity",
          "Question 63b. From whom did you experience discrimination on the job? Individuals with authority over me/ethnicity",
          "Question 63b. From whom did you experience discrimination on the job? Individuals with authority over me/person with disability",
          "Question 63b. From whom did you experience discrimination on the job? Individuals with authority over me/sexuality",
          "Question 63b. From whom did you experience discrimination on the job? Individuals with authority over me/ethnicity",
          "Question 63b. From whom did you experience discrimination on the job? Individuals with authority over me/ethnicity",
          "Question 63b. From whom did you experience discrimination on the job? Individuals with authority over me/visible minority",
          "Question 63b. From whom did you experience discrimination on the job? Individuals with authority over me",
          "Question 63b. From whom did you experience discrimination on the job? Individuals with authority over me",
          "Question 63b. From whom did you experience discrimination on the job? Individuals with authority over me",
          "Question 63b. From whom did you experience discrimination on the job? Individuals with authority over me",
          "Question 63b. From whom did you experience discrimination on the job? Individuals with authority over me",
          "Question 63b. From whom did you experience discrimination on the job? Individuals with authority over me",
          "Question 63b. From whom did you experience discrimination on the job? Individuals with authority over me",
          "Question 63b. From whom did you experience discrimination on the job? Individuals with authority over me",
          ""
         ],
         "type": "treemap",
         "values": [
          80.1,
          75.75,
          77.14285714285714,
          80.625,
          79.28571428571429,
          74.75,
          86.25,
          80,
          80.5,
          69.75,
          70.84615384615384,
          73.34482758620689,
          63.6,
          76.49462365591398,
          63.2,
          68.71428571428571,
          68.13636363636364,
          72.5,
          76.23387096774194,
          72.33333333333333,
          70,
          75.5,
          72,
          75.26881720430107,
          75.4,
          74.69767441860465,
          69.33333333333333,
          72.8,
          76.54347826086956,
          74.47435897435898,
          79.25,
          76.5,
          72.6,
          79.27272727272727,
          77.225,
          76.08,
          71.25,
          73.71739130434783,
          786.2081609195402,
          224.26344086021504,
          147.03100775193798,
          214.1142857142857,
          153.74708624708626,
          793.6535714285715,
          362.1913884502594,
          150.26086956521738,
          2831.4698109371134
         ]
        }
       ],
       "layout": {
        "coloraxis": {
         "colorbar": {
          "title": {
           "text": "Yes"
          }
         },
         "colorscale": [
          [
           0,
           "rgb(247,252,240)"
          ],
          [
           0.125,
           "rgb(224,243,219)"
          ],
          [
           0.25,
           "rgb(204,235,197)"
          ],
          [
           0.375,
           "rgb(168,221,181)"
          ],
          [
           0.5,
           "rgb(123,204,196)"
          ],
          [
           0.625,
           "rgb(78,179,211)"
          ],
          [
           0.75,
           "rgb(43,140,190)"
          ],
          [
           0.875,
           "rgb(8,104,172)"
          ],
          [
           1,
           "rgb(8,64,129)"
          ]
         ]
        },
        "legend": {
         "tracegroupgap": 0
        },
        "margin": {
         "b": 25,
         "l": 25,
         "r": 25,
         "t": 50
        },
        "template": {
         "data": {
          "bar": [
           {
            "error_x": {
             "color": "#2a3f5f"
            },
            "error_y": {
             "color": "#2a3f5f"
            },
            "marker": {
             "line": {
              "color": "#E5ECF6",
              "width": 0.5
             },
             "pattern": {
              "fillmode": "overlay",
              "size": 10,
              "solidity": 0.2
             }
            },
            "type": "bar"
           }
          ],
          "barpolar": [
           {
            "marker": {
             "line": {
              "color": "#E5ECF6",
              "width": 0.5
             },
             "pattern": {
              "fillmode": "overlay",
              "size": 10,
              "solidity": 0.2
             }
            },
            "type": "barpolar"
           }
          ],
          "carpet": [
           {
            "aaxis": {
             "endlinecolor": "#2a3f5f",
             "gridcolor": "white",
             "linecolor": "white",
             "minorgridcolor": "white",
             "startlinecolor": "#2a3f5f"
            },
            "baxis": {
             "endlinecolor": "#2a3f5f",
             "gridcolor": "white",
             "linecolor": "white",
             "minorgridcolor": "white",
             "startlinecolor": "#2a3f5f"
            },
            "type": "carpet"
           }
          ],
          "choropleth": [
           {
            "colorbar": {
             "outlinewidth": 0,
             "ticks": ""
            },
            "type": "choropleth"
           }
          ],
          "contour": [
           {
            "colorbar": {
             "outlinewidth": 0,
             "ticks": ""
            },
            "colorscale": [
             [
              0,
              "#0d0887"
             ],
             [
              0.1111111111111111,
              "#46039f"
             ],
             [
              0.2222222222222222,
              "#7201a8"
             ],
             [
              0.3333333333333333,
              "#9c179e"
             ],
             [
              0.4444444444444444,
              "#bd3786"
             ],
             [
              0.5555555555555556,
              "#d8576b"
             ],
             [
              0.6666666666666666,
              "#ed7953"
             ],
             [
              0.7777777777777778,
              "#fb9f3a"
             ],
             [
              0.8888888888888888,
              "#fdca26"
             ],
             [
              1,
              "#f0f921"
             ]
            ],
            "type": "contour"
           }
          ],
          "contourcarpet": [
           {
            "colorbar": {
             "outlinewidth": 0,
             "ticks": ""
            },
            "type": "contourcarpet"
           }
          ],
          "heatmap": [
           {
            "colorbar": {
             "outlinewidth": 0,
             "ticks": ""
            },
            "colorscale": [
             [
              0,
              "#0d0887"
             ],
             [
              0.1111111111111111,
              "#46039f"
             ],
             [
              0.2222222222222222,
              "#7201a8"
             ],
             [
              0.3333333333333333,
              "#9c179e"
             ],
             [
              0.4444444444444444,
              "#bd3786"
             ],
             [
              0.5555555555555556,
              "#d8576b"
             ],
             [
              0.6666666666666666,
              "#ed7953"
             ],
             [
              0.7777777777777778,
              "#fb9f3a"
             ],
             [
              0.8888888888888888,
              "#fdca26"
             ],
             [
              1,
              "#f0f921"
             ]
            ],
            "type": "heatmap"
           }
          ],
          "heatmapgl": [
           {
            "colorbar": {
             "outlinewidth": 0,
             "ticks": ""
            },
            "colorscale": [
             [
              0,
              "#0d0887"
             ],
             [
              0.1111111111111111,
              "#46039f"
             ],
             [
              0.2222222222222222,
              "#7201a8"
             ],
             [
              0.3333333333333333,
              "#9c179e"
             ],
             [
              0.4444444444444444,
              "#bd3786"
             ],
             [
              0.5555555555555556,
              "#d8576b"
             ],
             [
              0.6666666666666666,
              "#ed7953"
             ],
             [
              0.7777777777777778,
              "#fb9f3a"
             ],
             [
              0.8888888888888888,
              "#fdca26"
             ],
             [
              1,
              "#f0f921"
             ]
            ],
            "type": "heatmapgl"
           }
          ],
          "histogram": [
           {
            "marker": {
             "pattern": {
              "fillmode": "overlay",
              "size": 10,
              "solidity": 0.2
             }
            },
            "type": "histogram"
           }
          ],
          "histogram2d": [
           {
            "colorbar": {
             "outlinewidth": 0,
             "ticks": ""
            },
            "colorscale": [
             [
              0,
              "#0d0887"
             ],
             [
              0.1111111111111111,
              "#46039f"
             ],
             [
              0.2222222222222222,
              "#7201a8"
             ],
             [
              0.3333333333333333,
              "#9c179e"
             ],
             [
              0.4444444444444444,
              "#bd3786"
             ],
             [
              0.5555555555555556,
              "#d8576b"
             ],
             [
              0.6666666666666666,
              "#ed7953"
             ],
             [
              0.7777777777777778,
              "#fb9f3a"
             ],
             [
              0.8888888888888888,
              "#fdca26"
             ],
             [
              1,
              "#f0f921"
             ]
            ],
            "type": "histogram2d"
           }
          ],
          "histogram2dcontour": [
           {
            "colorbar": {
             "outlinewidth": 0,
             "ticks": ""
            },
            "colorscale": [
             [
              0,
              "#0d0887"
             ],
             [
              0.1111111111111111,
              "#46039f"
             ],
             [
              0.2222222222222222,
              "#7201a8"
             ],
             [
              0.3333333333333333,
              "#9c179e"
             ],
             [
              0.4444444444444444,
              "#bd3786"
             ],
             [
              0.5555555555555556,
              "#d8576b"
             ],
             [
              0.6666666666666666,
              "#ed7953"
             ],
             [
              0.7777777777777778,
              "#fb9f3a"
             ],
             [
              0.8888888888888888,
              "#fdca26"
             ],
             [
              1,
              "#f0f921"
             ]
            ],
            "type": "histogram2dcontour"
           }
          ],
          "mesh3d": [
           {
            "colorbar": {
             "outlinewidth": 0,
             "ticks": ""
            },
            "type": "mesh3d"
           }
          ],
          "parcoords": [
           {
            "line": {
             "colorbar": {
              "outlinewidth": 0,
              "ticks": ""
             }
            },
            "type": "parcoords"
           }
          ],
          "pie": [
           {
            "automargin": true,
            "type": "pie"
           }
          ],
          "scatter": [
           {
            "marker": {
             "colorbar": {
              "outlinewidth": 0,
              "ticks": ""
             }
            },
            "type": "scatter"
           }
          ],
          "scatter3d": [
           {
            "line": {
             "colorbar": {
              "outlinewidth": 0,
              "ticks": ""
             }
            },
            "marker": {
             "colorbar": {
              "outlinewidth": 0,
              "ticks": ""
             }
            },
            "type": "scatter3d"
           }
          ],
          "scattercarpet": [
           {
            "marker": {
             "colorbar": {
              "outlinewidth": 0,
              "ticks": ""
             }
            },
            "type": "scattercarpet"
           }
          ],
          "scattergeo": [
           {
            "marker": {
             "colorbar": {
              "outlinewidth": 0,
              "ticks": ""
             }
            },
            "type": "scattergeo"
           }
          ],
          "scattergl": [
           {
            "marker": {
             "colorbar": {
              "outlinewidth": 0,
              "ticks": ""
             }
            },
            "type": "scattergl"
           }
          ],
          "scattermapbox": [
           {
            "marker": {
             "colorbar": {
              "outlinewidth": 0,
              "ticks": ""
             }
            },
            "type": "scattermapbox"
           }
          ],
          "scatterpolar": [
           {
            "marker": {
             "colorbar": {
              "outlinewidth": 0,
              "ticks": ""
             }
            },
            "type": "scatterpolar"
           }
          ],
          "scatterpolargl": [
           {
            "marker": {
             "colorbar": {
              "outlinewidth": 0,
              "ticks": ""
             }
            },
            "type": "scatterpolargl"
           }
          ],
          "scatterternary": [
           {
            "marker": {
             "colorbar": {
              "outlinewidth": 0,
              "ticks": ""
             }
            },
            "type": "scatterternary"
           }
          ],
          "surface": [
           {
            "colorbar": {
             "outlinewidth": 0,
             "ticks": ""
            },
            "colorscale": [
             [
              0,
              "#0d0887"
             ],
             [
              0.1111111111111111,
              "#46039f"
             ],
             [
              0.2222222222222222,
              "#7201a8"
             ],
             [
              0.3333333333333333,
              "#9c179e"
             ],
             [
              0.4444444444444444,
              "#bd3786"
             ],
             [
              0.5555555555555556,
              "#d8576b"
             ],
             [
              0.6666666666666666,
              "#ed7953"
             ],
             [
              0.7777777777777778,
              "#fb9f3a"
             ],
             [
              0.8888888888888888,
              "#fdca26"
             ],
             [
              1,
              "#f0f921"
             ]
            ],
            "type": "surface"
           }
          ],
          "table": [
           {
            "cells": {
             "fill": {
              "color": "#EBF0F8"
             },
             "line": {
              "color": "white"
             }
            },
            "header": {
             "fill": {
              "color": "#C8D4E3"
             },
             "line": {
              "color": "white"
             }
            },
            "type": "table"
           }
          ]
         },
         "layout": {
          "annotationdefaults": {
           "arrowcolor": "#2a3f5f",
           "arrowhead": 0,
           "arrowwidth": 1
          },
          "autotypenumbers": "strict",
          "coloraxis": {
           "colorbar": {
            "outlinewidth": 0,
            "ticks": ""
           }
          },
          "colorscale": {
           "diverging": [
            [
             0,
             "#8e0152"
            ],
            [
             0.1,
             "#c51b7d"
            ],
            [
             0.2,
             "#de77ae"
            ],
            [
             0.3,
             "#f1b6da"
            ],
            [
             0.4,
             "#fde0ef"
            ],
            [
             0.5,
             "#f7f7f7"
            ],
            [
             0.6,
             "#e6f5d0"
            ],
            [
             0.7,
             "#b8e186"
            ],
            [
             0.8,
             "#7fbc41"
            ],
            [
             0.9,
             "#4d9221"
            ],
            [
             1,
             "#276419"
            ]
           ],
           "sequential": [
            [
             0,
             "#0d0887"
            ],
            [
             0.1111111111111111,
             "#46039f"
            ],
            [
             0.2222222222222222,
             "#7201a8"
            ],
            [
             0.3333333333333333,
             "#9c179e"
            ],
            [
             0.4444444444444444,
             "#bd3786"
            ],
            [
             0.5555555555555556,
             "#d8576b"
            ],
            [
             0.6666666666666666,
             "#ed7953"
            ],
            [
             0.7777777777777778,
             "#fb9f3a"
            ],
            [
             0.8888888888888888,
             "#fdca26"
            ],
            [
             1,
             "#f0f921"
            ]
           ],
           "sequentialminus": [
            [
             0,
             "#0d0887"
            ],
            [
             0.1111111111111111,
             "#46039f"
            ],
            [
             0.2222222222222222,
             "#7201a8"
            ],
            [
             0.3333333333333333,
             "#9c179e"
            ],
            [
             0.4444444444444444,
             "#bd3786"
            ],
            [
             0.5555555555555556,
             "#d8576b"
            ],
            [
             0.6666666666666666,
             "#ed7953"
            ],
            [
             0.7777777777777778,
             "#fb9f3a"
            ],
            [
             0.8888888888888888,
             "#fdca26"
            ],
            [
             1,
             "#f0f921"
            ]
           ]
          },
          "colorway": [
           "#636efa",
           "#EF553B",
           "#00cc96",
           "#ab63fa",
           "#FFA15A",
           "#19d3f3",
           "#FF6692",
           "#B6E880",
           "#FF97FF",
           "#FECB52"
          ],
          "font": {
           "color": "#2a3f5f"
          },
          "geo": {
           "bgcolor": "white",
           "lakecolor": "white",
           "landcolor": "#E5ECF6",
           "showlakes": true,
           "showland": true,
           "subunitcolor": "white"
          },
          "hoverlabel": {
           "align": "left"
          },
          "hovermode": "closest",
          "mapbox": {
           "style": "light"
          },
          "paper_bgcolor": "white",
          "plot_bgcolor": "#E5ECF6",
          "polar": {
           "angularaxis": {
            "gridcolor": "white",
            "linecolor": "white",
            "ticks": ""
           },
           "bgcolor": "#E5ECF6",
           "radialaxis": {
            "gridcolor": "white",
            "linecolor": "white",
            "ticks": ""
           }
          },
          "scene": {
           "xaxis": {
            "backgroundcolor": "#E5ECF6",
            "gridcolor": "white",
            "gridwidth": 2,
            "linecolor": "white",
            "showbackground": true,
            "ticks": "",
            "zerolinecolor": "white"
           },
           "yaxis": {
            "backgroundcolor": "#E5ECF6",
            "gridcolor": "white",
            "gridwidth": 2,
            "linecolor": "white",
            "showbackground": true,
            "ticks": "",
            "zerolinecolor": "white"
           },
           "zaxis": {
            "backgroundcolor": "#E5ECF6",
            "gridcolor": "white",
            "gridwidth": 2,
            "linecolor": "white",
            "showbackground": true,
            "ticks": "",
            "zerolinecolor": "white"
           }
          },
          "shapedefaults": {
           "line": {
            "color": "#2a3f5f"
           }
          },
          "ternary": {
           "aaxis": {
            "gridcolor": "white",
            "linecolor": "white",
            "ticks": ""
           },
           "baxis": {
            "gridcolor": "white",
            "linecolor": "white",
            "ticks": ""
           },
           "bgcolor": "#E5ECF6",
           "caxis": {
            "gridcolor": "white",
            "linecolor": "white",
            "ticks": ""
           }
          },
          "title": {
           "x": 0.05
          },
          "xaxis": {
           "automargin": true,
           "gridcolor": "white",
           "linecolor": "white",
           "ticks": "",
           "title": {
            "standoff": 15
           },
           "zerolinecolor": "white",
           "zerolinewidth": 2
          },
          "yaxis": {
           "automargin": true,
           "gridcolor": "white",
           "linecolor": "white",
           "ticks": "",
           "title": {
            "standoff": 15
           },
           "zerolinecolor": "white",
           "zerolinewidth": 2
          }
         }
        }
       }
      }
     },
     "metadata": {},
     "output_type": "display_data"
    }
   ],
   "source": [
    "# Number of questions by Indicatior and SubIndicator\n",
    "\n",
    "fig = px.treemap(df_tree_map, path=[px.Constant(\"Question 63b. From whom did you experience discrimination on the job? Individuals with authority over me\"), \n",
    "                                    'GENERAL_DEMO_GROUP', 'DESCRIP_E'], values='Yes', color='Yes'\n",
    "                                    ,color_continuous_scale='GnBu')\n",
    "fig.update_layout(margin = dict(t=50, l=25, r=25, b=25))\n",
    "fig.show()"
   ]
  },
  {
   "cell_type": "code",
   "execution_count": null,
   "metadata": {},
   "outputs": [],
   "source": []
  },
  {
   "cell_type": "markdown",
   "metadata": {},
   "source": [
    "### Diversity and inclusion - 21"
   ]
  },
  {
   "cell_type": "code",
   "execution_count": 94,
   "metadata": {},
   "outputs": [],
   "source": [
    "df_tree_map = df_emp_survey.query(\"QUESTION == 'Q21' and SELECTED=='selected'\").groupby(['GENERAL_DEMO_GROUP','DESCRIP_E'])[['DESCRIP_E','ANSWER1','ANSWER2','ANSWER3','ANSWER4','ANSWER5']].mean().reset_index()\n",
    "df_tree_map.rename(columns={'ANSWER1': 'Strongly agree', 'ANSWER2':'Somewhat agree','ANSWER3':'Neither agree nor disagree','ANSWER4':'Somewhat disagree','ANSWER5':'Strongly disagree'}, inplace=True)"
   ]
  },
  {
   "cell_type": "code",
   "execution_count": 95,
   "metadata": {},
   "outputs": [
    {
     "data": {
      "application/vnd.plotly.v1+json": {
       "config": {
        "plotlyServerURL": "https://plot.ly"
       },
       "data": [
        {
         "branchvalues": "total",
         "customdata": [
          [
           49.702127659574465
          ],
          [
           50.55
          ],
          [
           49.666666666666664
          ],
          [
           49.75925925925926
          ],
          [
           46.794117647058826
          ],
          [
           45.45454545454545
          ],
          [
           43.483870967741936
          ],
          [
           32.333333333333336
          ],
          [
           45.3125
          ],
          [
           49.729729729729726
          ],
          [
           51.410526315789475
          ],
          [
           52.732142857142854
          ],
          [
           52.52127659574468
          ],
          [
           53.41326530612245
          ],
          [
           55.21052631578947
          ],
          [
           49.707317073170735
          ],
          [
           55.51968503937008
          ],
          [
           38.172413793103445
          ],
          [
           55.51282051282051
          ],
          [
           48.65277777777778
          ],
          [
           54.68181818181818
          ],
          [
           52.25
          ],
          [
           46.11764705882353
          ],
          [
           55.94897959183673
          ],
          [
           48.79365079365079
          ],
          [
           52.604166666666664
          ],
          [
           56.91379310344828
          ],
          [
           56.723404255319146
          ],
          [
           54.47692307692308
          ],
          [
           54.582417582417584
          ],
          [
           50.62162162162162
          ],
          [
           45.403508771929815
          ],
          [
           55.30952380952381
          ],
          [
           47.17032967032967
          ],
          [
           46.751295336787564
          ],
          [
           56.84848484848485
          ],
          [
           54.75
          ],
          [
           52.53333333333333
          ],
          [
           53.44045321463444
          ],
          [
           50.43152889520072
          ],
          [
           50.705570510329274
          ],
          [
           51.192037763074275
          ],
          [
           51.146337085345664
          ],
          [
           46.96412491437371
          ],
          [
           52.00706600349639
          ],
          [
           53.52277857443909
          ],
          [
           51.008927481031954
          ]
         ],
         "domain": {
          "x": [
           0,
           1
          ],
          "y": [
           0,
           1
          ]
         },
         "hovertemplate": "labels=%{label}<br>Strongly agree_sum=%{value}<br>parent=%{parent}<br>id=%{id}<br>Strongly agree=%{color}<extra></extra>",
         "ids": [
          "Question 21. In my work unit, individuals behave in a respectful manner./person with disability-specified/A chronic health condition or pain affects ability to function on a regular or episodic basis due to migraines, Crohn's disease, colitis, and other disabilities or health conditions",
          "Question 21. In my work unit, individuals behave in a respectful manner./person with disability-specified/A cognitive disability affects ability to carry out tasks involving executive functioning, such as planning and organization, learning information, communication and memory, including autism or Asperger's syndrome, attention deficit disorder, and learning disabilities",
          "Question 21. In my work unit, individuals behave in a respectful manner./person with disability-specified/A hearing disability affects ability to hear, including being hard of hearing, deafness or acoustic distortion",
          "Question 21. In my work unit, individuals behave in a respectful manner./person with disability-specified/A mental health issue affects psychology or behaviour, such as anxiety, depression or social / compulsive disorder or phobia or psychiatric illness",
          "Question 21. In my work unit, individuals behave in a respectful manner./person with disability-specified/A mobility issue affects ability to move your body, including the required use of a wheelchair or a cane, or other issues impacting your mobility",
          "Question 21. In my work unit, individuals behave in a respectful manner./person with disability-specified/A seeing disability affects vision, including total blindness, partial sight and visual distortion",
          "Question 21. In my work unit, individuals behave in a respectful manner./person with disability-specified/A sensory / environmental disability affects sensitivity to light, sounds or other distractions, as well as allergens and other environmental sensitivities",
          "Question 21. In my work unit, individuals behave in a respectful manner./person with disability-specified/An intellectual disability affects your ability to learn and to adapt behaviour to different situations",
          "Question 21. In my work unit, individuals behave in a respectful manner./person with disability-specified/An issue with flexibility or dexterity affects ability to move joints or perform motor tasks, especially with your hands",
          "Question 21. In my work unit, individuals behave in a respectful manner./sexuality/Another sexual orientation",
          "Question 21. In my work unit, individuals behave in a respectful manner./sexuality/Bisexual",
          "Question 21. In my work unit, individuals behave in a respectful manner./ethnicity/Black",
          "Question 21. In my work unit, individuals behave in a respectful manner./ethnicity/Chinese",
          "Question 21. In my work unit, individuals behave in a respectful manner./gender/Female gender",
          "Question 21. In my work unit, individuals behave in a respectful manner./ethnicity/Filipino",
          "Question 21. In my work unit, individuals behave in a respectful manner./indigenous-specified/First Nation (North American Indian)",
          "Question 21. In my work unit, individuals behave in a respectful manner./sexuality/Gay or lesbian",
          "Question 21. In my work unit, individuals behave in a respectful manner./gender/Gender diverse",
          "Question 21. In my work unit, individuals behave in a respectful manner./sexuality/Heterosexual",
          "Question 21. In my work unit, individuals behave in a respectful manner./indigenous/Indigenous",
          "Question 21. In my work unit, individuals behave in a respectful manner./indigenous-specified/Inuk (Inuit)",
          "Question 21. In my work unit, individuals behave in a respectful manner./ethnicity/Japanese",
          "Question 21. In my work unit, individuals behave in a respectful manner./ethnicity/Korean",
          "Question 21. In my work unit, individuals behave in a respectful manner./gender/Male gender",
          "Question 21. In my work unit, individuals behave in a respectful manner./indigenous-specified/Métis",
          "Question 21. In my work unit, individuals behave in a respectful manner./indigenous/Non-Indigenous",
          "Question 21. In my work unit, individuals behave in a respectful manner./ethnicity/Non-White Latin American (including: Indigenous persons from Central and South America, etc.)",
          "Question 21. In my work unit, individuals behave in a respectful manner./ethnicity/Non-White West Asian, North African or Arab (including: Egyptian; Libyan; Lebanese; Iranian; etc.)",
          "Question 21. In my work unit, individuals behave in a respectful manner./visible minority/Non-visible minority",
          "Question 21. In my work unit, individuals behave in a respectful manner./person with disability/Not a person with a disability",
          "Question 21. In my work unit, individuals behave in a respectful manner./person with disability-specified/Other disability (including: learning disabilities, developmental disabilities and all other types of disabilities)",
          "Question 21. In my work unit, individuals behave in a respectful manner./ethnicity/Other visible minority group",
          "Question 21. In my work unit, individuals behave in a respectful manner./ethnicity/Person of mixed origin (with one parent in one of the visible minority groups)",
          "Question 21. In my work unit, individuals behave in a respectful manner./person with disability/Person with a disability",
          "Question 21. In my work unit, individuals behave in a respectful manner./sexuality/Prefer not to answer",
          "Question 21. In my work unit, individuals behave in a respectful manner./ethnicity/South Asian/East Indian (including: Indian from India; Bangladeshi; Pakistani; East Indian from Guyana, Trinidad, East Africa; etc.)",
          "Question 21. In my work unit, individuals behave in a respectful manner./ethnicity/Southeast Asian (including: Burmese; Cambodian; Laotian; Thai; Vietnamese; etc.)",
          "Question 21. In my work unit, individuals behave in a respectful manner./visible minority/Visible minority",
          "Question 21. In my work unit, individuals behave in a respectful manner./ethnicity",
          "Question 21. In my work unit, individuals behave in a respectful manner./gender",
          "Question 21. In my work unit, individuals behave in a respectful manner./indigenous",
          "Question 21. In my work unit, individuals behave in a respectful manner./indigenous-specified",
          "Question 21. In my work unit, individuals behave in a respectful manner./person with disability",
          "Question 21. In my work unit, individuals behave in a respectful manner./person with disability-specified",
          "Question 21. In my work unit, individuals behave in a respectful manner./sexuality",
          "Question 21. In my work unit, individuals behave in a respectful manner./visible minority",
          "Question 21. In my work unit, individuals behave in a respectful manner."
         ],
         "labels": [
          "A chronic health condition or pain affects ability to function on a regular or episodic basis due to migraines, Crohn's disease, colitis, and other disabilities or health conditions",
          "A cognitive disability affects ability to carry out tasks involving executive functioning, such as planning and organization, learning information, communication and memory, including autism or Asperger's syndrome, attention deficit disorder, and learning disabilities",
          "A hearing disability affects ability to hear, including being hard of hearing, deafness or acoustic distortion",
          "A mental health issue affects psychology or behaviour, such as anxiety, depression or social / compulsive disorder or phobia or psychiatric illness",
          "A mobility issue affects ability to move your body, including the required use of a wheelchair or a cane, or other issues impacting your mobility",
          "A seeing disability affects vision, including total blindness, partial sight and visual distortion",
          "A sensory / environmental disability affects sensitivity to light, sounds or other distractions, as well as allergens and other environmental sensitivities",
          "An intellectual disability affects your ability to learn and to adapt behaviour to different situations",
          "An issue with flexibility or dexterity affects ability to move joints or perform motor tasks, especially with your hands",
          "Another sexual orientation",
          "Bisexual",
          "Black",
          "Chinese",
          "Female gender",
          "Filipino",
          "First Nation (North American Indian)",
          "Gay or lesbian",
          "Gender diverse",
          "Heterosexual",
          "Indigenous",
          "Inuk (Inuit)",
          "Japanese",
          "Korean",
          "Male gender",
          "Métis",
          "Non-Indigenous",
          "Non-White Latin American (including: Indigenous persons from Central and South America, etc.)",
          "Non-White West Asian, North African or Arab (including: Egyptian; Libyan; Lebanese; Iranian; etc.)",
          "Non-visible minority",
          "Not a person with a disability",
          "Other disability (including: learning disabilities, developmental disabilities and all other types of disabilities)",
          "Other visible minority group",
          "Person of mixed origin (with one parent in one of the visible minority groups)",
          "Person with a disability",
          "Prefer not to answer",
          "South Asian/East Indian (including: Indian from India; Bangladeshi; Pakistani; East Indian from Guyana, Trinidad, East Africa; etc.)",
          "Southeast Asian (including: Burmese; Cambodian; Laotian; Thai; Vietnamese; etc.)",
          "Visible minority",
          "ethnicity",
          "gender",
          "indigenous",
          "indigenous-specified",
          "person with disability",
          "person with disability-specified",
          "sexuality",
          "visible minority",
          "Question 21. In my work unit, individuals behave in a respectful manner."
         ],
         "marker": {
          "coloraxis": "coloraxis",
          "colors": [
           49.702127659574465,
           50.55,
           49.666666666666664,
           49.75925925925926,
           46.794117647058826,
           45.45454545454545,
           43.483870967741936,
           32.333333333333336,
           45.3125,
           49.729729729729726,
           51.410526315789475,
           52.732142857142854,
           52.52127659574468,
           53.41326530612245,
           55.21052631578947,
           49.707317073170735,
           55.51968503937008,
           38.172413793103445,
           55.51282051282051,
           48.65277777777778,
           54.68181818181818,
           52.25,
           46.11764705882353,
           55.94897959183673,
           48.79365079365079,
           52.604166666666664,
           56.91379310344828,
           56.723404255319146,
           54.47692307692308,
           54.582417582417584,
           50.62162162162162,
           45.403508771929815,
           55.30952380952381,
           47.17032967032967,
           46.751295336787564,
           56.84848484848485,
           54.75,
           52.53333333333333,
           53.44045321463444,
           50.43152889520072,
           50.705570510329274,
           51.192037763074275,
           51.146337085345664,
           46.96412491437371,
           52.00706600349639,
           53.52277857443909,
           51.008927481031954
          ]
         },
         "name": "",
         "parents": [
          "Question 21. In my work unit, individuals behave in a respectful manner./person with disability-specified",
          "Question 21. In my work unit, individuals behave in a respectful manner./person with disability-specified",
          "Question 21. In my work unit, individuals behave in a respectful manner./person with disability-specified",
          "Question 21. In my work unit, individuals behave in a respectful manner./person with disability-specified",
          "Question 21. In my work unit, individuals behave in a respectful manner./person with disability-specified",
          "Question 21. In my work unit, individuals behave in a respectful manner./person with disability-specified",
          "Question 21. In my work unit, individuals behave in a respectful manner./person with disability-specified",
          "Question 21. In my work unit, individuals behave in a respectful manner./person with disability-specified",
          "Question 21. In my work unit, individuals behave in a respectful manner./person with disability-specified",
          "Question 21. In my work unit, individuals behave in a respectful manner./sexuality",
          "Question 21. In my work unit, individuals behave in a respectful manner./sexuality",
          "Question 21. In my work unit, individuals behave in a respectful manner./ethnicity",
          "Question 21. In my work unit, individuals behave in a respectful manner./ethnicity",
          "Question 21. In my work unit, individuals behave in a respectful manner./gender",
          "Question 21. In my work unit, individuals behave in a respectful manner./ethnicity",
          "Question 21. In my work unit, individuals behave in a respectful manner./indigenous-specified",
          "Question 21. In my work unit, individuals behave in a respectful manner./sexuality",
          "Question 21. In my work unit, individuals behave in a respectful manner./gender",
          "Question 21. In my work unit, individuals behave in a respectful manner./sexuality",
          "Question 21. In my work unit, individuals behave in a respectful manner./indigenous",
          "Question 21. In my work unit, individuals behave in a respectful manner./indigenous-specified",
          "Question 21. In my work unit, individuals behave in a respectful manner./ethnicity",
          "Question 21. In my work unit, individuals behave in a respectful manner./ethnicity",
          "Question 21. In my work unit, individuals behave in a respectful manner./gender",
          "Question 21. In my work unit, individuals behave in a respectful manner./indigenous-specified",
          "Question 21. In my work unit, individuals behave in a respectful manner./indigenous",
          "Question 21. In my work unit, individuals behave in a respectful manner./ethnicity",
          "Question 21. In my work unit, individuals behave in a respectful manner./ethnicity",
          "Question 21. In my work unit, individuals behave in a respectful manner./visible minority",
          "Question 21. In my work unit, individuals behave in a respectful manner./person with disability",
          "Question 21. In my work unit, individuals behave in a respectful manner./person with disability-specified",
          "Question 21. In my work unit, individuals behave in a respectful manner./ethnicity",
          "Question 21. In my work unit, individuals behave in a respectful manner./ethnicity",
          "Question 21. In my work unit, individuals behave in a respectful manner./person with disability",
          "Question 21. In my work unit, individuals behave in a respectful manner./sexuality",
          "Question 21. In my work unit, individuals behave in a respectful manner./ethnicity",
          "Question 21. In my work unit, individuals behave in a respectful manner./ethnicity",
          "Question 21. In my work unit, individuals behave in a respectful manner./visible minority",
          "Question 21. In my work unit, individuals behave in a respectful manner.",
          "Question 21. In my work unit, individuals behave in a respectful manner.",
          "Question 21. In my work unit, individuals behave in a respectful manner.",
          "Question 21. In my work unit, individuals behave in a respectful manner.",
          "Question 21. In my work unit, individuals behave in a respectful manner.",
          "Question 21. In my work unit, individuals behave in a respectful manner.",
          "Question 21. In my work unit, individuals behave in a respectful manner.",
          "Question 21. In my work unit, individuals behave in a respectful manner.",
          ""
         ],
         "type": "treemap",
         "values": [
          49.702127659574465,
          50.55,
          49.666666666666664,
          49.75925925925926,
          46.794117647058826,
          45.45454545454545,
          43.483870967741936,
          32.333333333333336,
          45.3125,
          49.729729729729726,
          51.410526315789475,
          52.732142857142854,
          52.52127659574468,
          53.41326530612245,
          55.21052631578947,
          49.707317073170735,
          55.51968503937008,
          38.172413793103445,
          55.51282051282051,
          48.65277777777778,
          54.68181818181818,
          52.25,
          46.11764705882353,
          55.94897959183673,
          48.79365079365079,
          52.604166666666664,
          56.91379310344828,
          56.723404255319146,
          54.47692307692308,
          54.582417582417584,
          50.62162162162162,
          45.40350877192982,
          55.30952380952381,
          47.17032967032967,
          46.751295336787564,
          56.84848484848485,
          54.75,
          52.53333333333333,
          584.7803076162064,
          147.53465869106262,
          101.25694444444444,
          153.1827860486397,
          101.75274725274726,
          463.67804260980154,
          258.92405693449734,
          107.0102564102564,
          1918.1198000076558
         ]
        }
       ],
       "layout": {
        "coloraxis": {
         "colorbar": {
          "title": {
           "text": "Strongly agree"
          }
         },
         "colorscale": [
          [
           0,
           "rgb(247,252,240)"
          ],
          [
           0.125,
           "rgb(224,243,219)"
          ],
          [
           0.25,
           "rgb(204,235,197)"
          ],
          [
           0.375,
           "rgb(168,221,181)"
          ],
          [
           0.5,
           "rgb(123,204,196)"
          ],
          [
           0.625,
           "rgb(78,179,211)"
          ],
          [
           0.75,
           "rgb(43,140,190)"
          ],
          [
           0.875,
           "rgb(8,104,172)"
          ],
          [
           1,
           "rgb(8,64,129)"
          ]
         ]
        },
        "legend": {
         "tracegroupgap": 0
        },
        "margin": {
         "b": 25,
         "l": 25,
         "r": 25,
         "t": 50
        },
        "template": {
         "data": {
          "bar": [
           {
            "error_x": {
             "color": "#2a3f5f"
            },
            "error_y": {
             "color": "#2a3f5f"
            },
            "marker": {
             "line": {
              "color": "#E5ECF6",
              "width": 0.5
             },
             "pattern": {
              "fillmode": "overlay",
              "size": 10,
              "solidity": 0.2
             }
            },
            "type": "bar"
           }
          ],
          "barpolar": [
           {
            "marker": {
             "line": {
              "color": "#E5ECF6",
              "width": 0.5
             },
             "pattern": {
              "fillmode": "overlay",
              "size": 10,
              "solidity": 0.2
             }
            },
            "type": "barpolar"
           }
          ],
          "carpet": [
           {
            "aaxis": {
             "endlinecolor": "#2a3f5f",
             "gridcolor": "white",
             "linecolor": "white",
             "minorgridcolor": "white",
             "startlinecolor": "#2a3f5f"
            },
            "baxis": {
             "endlinecolor": "#2a3f5f",
             "gridcolor": "white",
             "linecolor": "white",
             "minorgridcolor": "white",
             "startlinecolor": "#2a3f5f"
            },
            "type": "carpet"
           }
          ],
          "choropleth": [
           {
            "colorbar": {
             "outlinewidth": 0,
             "ticks": ""
            },
            "type": "choropleth"
           }
          ],
          "contour": [
           {
            "colorbar": {
             "outlinewidth": 0,
             "ticks": ""
            },
            "colorscale": [
             [
              0,
              "#0d0887"
             ],
             [
              0.1111111111111111,
              "#46039f"
             ],
             [
              0.2222222222222222,
              "#7201a8"
             ],
             [
              0.3333333333333333,
              "#9c179e"
             ],
             [
              0.4444444444444444,
              "#bd3786"
             ],
             [
              0.5555555555555556,
              "#d8576b"
             ],
             [
              0.6666666666666666,
              "#ed7953"
             ],
             [
              0.7777777777777778,
              "#fb9f3a"
             ],
             [
              0.8888888888888888,
              "#fdca26"
             ],
             [
              1,
              "#f0f921"
             ]
            ],
            "type": "contour"
           }
          ],
          "contourcarpet": [
           {
            "colorbar": {
             "outlinewidth": 0,
             "ticks": ""
            },
            "type": "contourcarpet"
           }
          ],
          "heatmap": [
           {
            "colorbar": {
             "outlinewidth": 0,
             "ticks": ""
            },
            "colorscale": [
             [
              0,
              "#0d0887"
             ],
             [
              0.1111111111111111,
              "#46039f"
             ],
             [
              0.2222222222222222,
              "#7201a8"
             ],
             [
              0.3333333333333333,
              "#9c179e"
             ],
             [
              0.4444444444444444,
              "#bd3786"
             ],
             [
              0.5555555555555556,
              "#d8576b"
             ],
             [
              0.6666666666666666,
              "#ed7953"
             ],
             [
              0.7777777777777778,
              "#fb9f3a"
             ],
             [
              0.8888888888888888,
              "#fdca26"
             ],
             [
              1,
              "#f0f921"
             ]
            ],
            "type": "heatmap"
           }
          ],
          "heatmapgl": [
           {
            "colorbar": {
             "outlinewidth": 0,
             "ticks": ""
            },
            "colorscale": [
             [
              0,
              "#0d0887"
             ],
             [
              0.1111111111111111,
              "#46039f"
             ],
             [
              0.2222222222222222,
              "#7201a8"
             ],
             [
              0.3333333333333333,
              "#9c179e"
             ],
             [
              0.4444444444444444,
              "#bd3786"
             ],
             [
              0.5555555555555556,
              "#d8576b"
             ],
             [
              0.6666666666666666,
              "#ed7953"
             ],
             [
              0.7777777777777778,
              "#fb9f3a"
             ],
             [
              0.8888888888888888,
              "#fdca26"
             ],
             [
              1,
              "#f0f921"
             ]
            ],
            "type": "heatmapgl"
           }
          ],
          "histogram": [
           {
            "marker": {
             "pattern": {
              "fillmode": "overlay",
              "size": 10,
              "solidity": 0.2
             }
            },
            "type": "histogram"
           }
          ],
          "histogram2d": [
           {
            "colorbar": {
             "outlinewidth": 0,
             "ticks": ""
            },
            "colorscale": [
             [
              0,
              "#0d0887"
             ],
             [
              0.1111111111111111,
              "#46039f"
             ],
             [
              0.2222222222222222,
              "#7201a8"
             ],
             [
              0.3333333333333333,
              "#9c179e"
             ],
             [
              0.4444444444444444,
              "#bd3786"
             ],
             [
              0.5555555555555556,
              "#d8576b"
             ],
             [
              0.6666666666666666,
              "#ed7953"
             ],
             [
              0.7777777777777778,
              "#fb9f3a"
             ],
             [
              0.8888888888888888,
              "#fdca26"
             ],
             [
              1,
              "#f0f921"
             ]
            ],
            "type": "histogram2d"
           }
          ],
          "histogram2dcontour": [
           {
            "colorbar": {
             "outlinewidth": 0,
             "ticks": ""
            },
            "colorscale": [
             [
              0,
              "#0d0887"
             ],
             [
              0.1111111111111111,
              "#46039f"
             ],
             [
              0.2222222222222222,
              "#7201a8"
             ],
             [
              0.3333333333333333,
              "#9c179e"
             ],
             [
              0.4444444444444444,
              "#bd3786"
             ],
             [
              0.5555555555555556,
              "#d8576b"
             ],
             [
              0.6666666666666666,
              "#ed7953"
             ],
             [
              0.7777777777777778,
              "#fb9f3a"
             ],
             [
              0.8888888888888888,
              "#fdca26"
             ],
             [
              1,
              "#f0f921"
             ]
            ],
            "type": "histogram2dcontour"
           }
          ],
          "mesh3d": [
           {
            "colorbar": {
             "outlinewidth": 0,
             "ticks": ""
            },
            "type": "mesh3d"
           }
          ],
          "parcoords": [
           {
            "line": {
             "colorbar": {
              "outlinewidth": 0,
              "ticks": ""
             }
            },
            "type": "parcoords"
           }
          ],
          "pie": [
           {
            "automargin": true,
            "type": "pie"
           }
          ],
          "scatter": [
           {
            "marker": {
             "colorbar": {
              "outlinewidth": 0,
              "ticks": ""
             }
            },
            "type": "scatter"
           }
          ],
          "scatter3d": [
           {
            "line": {
             "colorbar": {
              "outlinewidth": 0,
              "ticks": ""
             }
            },
            "marker": {
             "colorbar": {
              "outlinewidth": 0,
              "ticks": ""
             }
            },
            "type": "scatter3d"
           }
          ],
          "scattercarpet": [
           {
            "marker": {
             "colorbar": {
              "outlinewidth": 0,
              "ticks": ""
             }
            },
            "type": "scattercarpet"
           }
          ],
          "scattergeo": [
           {
            "marker": {
             "colorbar": {
              "outlinewidth": 0,
              "ticks": ""
             }
            },
            "type": "scattergeo"
           }
          ],
          "scattergl": [
           {
            "marker": {
             "colorbar": {
              "outlinewidth": 0,
              "ticks": ""
             }
            },
            "type": "scattergl"
           }
          ],
          "scattermapbox": [
           {
            "marker": {
             "colorbar": {
              "outlinewidth": 0,
              "ticks": ""
             }
            },
            "type": "scattermapbox"
           }
          ],
          "scatterpolar": [
           {
            "marker": {
             "colorbar": {
              "outlinewidth": 0,
              "ticks": ""
             }
            },
            "type": "scatterpolar"
           }
          ],
          "scatterpolargl": [
           {
            "marker": {
             "colorbar": {
              "outlinewidth": 0,
              "ticks": ""
             }
            },
            "type": "scatterpolargl"
           }
          ],
          "scatterternary": [
           {
            "marker": {
             "colorbar": {
              "outlinewidth": 0,
              "ticks": ""
             }
            },
            "type": "scatterternary"
           }
          ],
          "surface": [
           {
            "colorbar": {
             "outlinewidth": 0,
             "ticks": ""
            },
            "colorscale": [
             [
              0,
              "#0d0887"
             ],
             [
              0.1111111111111111,
              "#46039f"
             ],
             [
              0.2222222222222222,
              "#7201a8"
             ],
             [
              0.3333333333333333,
              "#9c179e"
             ],
             [
              0.4444444444444444,
              "#bd3786"
             ],
             [
              0.5555555555555556,
              "#d8576b"
             ],
             [
              0.6666666666666666,
              "#ed7953"
             ],
             [
              0.7777777777777778,
              "#fb9f3a"
             ],
             [
              0.8888888888888888,
              "#fdca26"
             ],
             [
              1,
              "#f0f921"
             ]
            ],
            "type": "surface"
           }
          ],
          "table": [
           {
            "cells": {
             "fill": {
              "color": "#EBF0F8"
             },
             "line": {
              "color": "white"
             }
            },
            "header": {
             "fill": {
              "color": "#C8D4E3"
             },
             "line": {
              "color": "white"
             }
            },
            "type": "table"
           }
          ]
         },
         "layout": {
          "annotationdefaults": {
           "arrowcolor": "#2a3f5f",
           "arrowhead": 0,
           "arrowwidth": 1
          },
          "autotypenumbers": "strict",
          "coloraxis": {
           "colorbar": {
            "outlinewidth": 0,
            "ticks": ""
           }
          },
          "colorscale": {
           "diverging": [
            [
             0,
             "#8e0152"
            ],
            [
             0.1,
             "#c51b7d"
            ],
            [
             0.2,
             "#de77ae"
            ],
            [
             0.3,
             "#f1b6da"
            ],
            [
             0.4,
             "#fde0ef"
            ],
            [
             0.5,
             "#f7f7f7"
            ],
            [
             0.6,
             "#e6f5d0"
            ],
            [
             0.7,
             "#b8e186"
            ],
            [
             0.8,
             "#7fbc41"
            ],
            [
             0.9,
             "#4d9221"
            ],
            [
             1,
             "#276419"
            ]
           ],
           "sequential": [
            [
             0,
             "#0d0887"
            ],
            [
             0.1111111111111111,
             "#46039f"
            ],
            [
             0.2222222222222222,
             "#7201a8"
            ],
            [
             0.3333333333333333,
             "#9c179e"
            ],
            [
             0.4444444444444444,
             "#bd3786"
            ],
            [
             0.5555555555555556,
             "#d8576b"
            ],
            [
             0.6666666666666666,
             "#ed7953"
            ],
            [
             0.7777777777777778,
             "#fb9f3a"
            ],
            [
             0.8888888888888888,
             "#fdca26"
            ],
            [
             1,
             "#f0f921"
            ]
           ],
           "sequentialminus": [
            [
             0,
             "#0d0887"
            ],
            [
             0.1111111111111111,
             "#46039f"
            ],
            [
             0.2222222222222222,
             "#7201a8"
            ],
            [
             0.3333333333333333,
             "#9c179e"
            ],
            [
             0.4444444444444444,
             "#bd3786"
            ],
            [
             0.5555555555555556,
             "#d8576b"
            ],
            [
             0.6666666666666666,
             "#ed7953"
            ],
            [
             0.7777777777777778,
             "#fb9f3a"
            ],
            [
             0.8888888888888888,
             "#fdca26"
            ],
            [
             1,
             "#f0f921"
            ]
           ]
          },
          "colorway": [
           "#636efa",
           "#EF553B",
           "#00cc96",
           "#ab63fa",
           "#FFA15A",
           "#19d3f3",
           "#FF6692",
           "#B6E880",
           "#FF97FF",
           "#FECB52"
          ],
          "font": {
           "color": "#2a3f5f"
          },
          "geo": {
           "bgcolor": "white",
           "lakecolor": "white",
           "landcolor": "#E5ECF6",
           "showlakes": true,
           "showland": true,
           "subunitcolor": "white"
          },
          "hoverlabel": {
           "align": "left"
          },
          "hovermode": "closest",
          "mapbox": {
           "style": "light"
          },
          "paper_bgcolor": "white",
          "plot_bgcolor": "#E5ECF6",
          "polar": {
           "angularaxis": {
            "gridcolor": "white",
            "linecolor": "white",
            "ticks": ""
           },
           "bgcolor": "#E5ECF6",
           "radialaxis": {
            "gridcolor": "white",
            "linecolor": "white",
            "ticks": ""
           }
          },
          "scene": {
           "xaxis": {
            "backgroundcolor": "#E5ECF6",
            "gridcolor": "white",
            "gridwidth": 2,
            "linecolor": "white",
            "showbackground": true,
            "ticks": "",
            "zerolinecolor": "white"
           },
           "yaxis": {
            "backgroundcolor": "#E5ECF6",
            "gridcolor": "white",
            "gridwidth": 2,
            "linecolor": "white",
            "showbackground": true,
            "ticks": "",
            "zerolinecolor": "white"
           },
           "zaxis": {
            "backgroundcolor": "#E5ECF6",
            "gridcolor": "white",
            "gridwidth": 2,
            "linecolor": "white",
            "showbackground": true,
            "ticks": "",
            "zerolinecolor": "white"
           }
          },
          "shapedefaults": {
           "line": {
            "color": "#2a3f5f"
           }
          },
          "ternary": {
           "aaxis": {
            "gridcolor": "white",
            "linecolor": "white",
            "ticks": ""
           },
           "baxis": {
            "gridcolor": "white",
            "linecolor": "white",
            "ticks": ""
           },
           "bgcolor": "#E5ECF6",
           "caxis": {
            "gridcolor": "white",
            "linecolor": "white",
            "ticks": ""
           }
          },
          "title": {
           "x": 0.05
          },
          "xaxis": {
           "automargin": true,
           "gridcolor": "white",
           "linecolor": "white",
           "ticks": "",
           "title": {
            "standoff": 15
           },
           "zerolinecolor": "white",
           "zerolinewidth": 2
          },
          "yaxis": {
           "automargin": true,
           "gridcolor": "white",
           "linecolor": "white",
           "ticks": "",
           "title": {
            "standoff": 15
           },
           "zerolinecolor": "white",
           "zerolinewidth": 2
          }
         }
        }
       }
      }
     },
     "metadata": {},
     "output_type": "display_data"
    }
   ],
   "source": [
    "# Number of questions by Indicatior and SubIndicator\n",
    "\n",
    "fig = px.treemap(df_tree_map, path=[px.Constant(\"Question 21. In my work unit, individuals behave in a respectful manner.\"), \n",
    "                                    'GENERAL_DEMO_GROUP', 'DESCRIP_E'], values='Strongly agree', color='Strongly agree'\n",
    "                                    ,color_continuous_scale='GnBu')\n",
    "fig.update_layout(margin = dict(t=50, l=25, r=25, b=25))\n",
    "fig.show()"
   ]
  },
  {
   "cell_type": "markdown",
   "metadata": {},
   "source": [
    "### Employee engagement - 11"
   ]
  },
  {
   "cell_type": "code",
   "execution_count": 97,
   "metadata": {},
   "outputs": [],
   "source": [
    "df_tree_map = df_emp_survey.query(\"QUESTION == 'Q11' and SELECTED=='selected'\").groupby(['GENERAL_DEMO_GROUP','DESCRIP_E'])[['DESCRIP_E','ANSWER1','ANSWER2','ANSWER3','ANSWER4','ANSWER5']].mean().reset_index()\n",
    "df_tree_map.rename(columns={'ANSWER1': 'Strongly agree', 'ANSWER2':'Somewhat agree','ANSWER3':'Neither agree nor disagree','ANSWER4':'Somewhat disagree','ANSWER5':'Strongly disagree'}, inplace=True)"
   ]
  },
  {
   "cell_type": "code",
   "execution_count": 99,
   "metadata": {},
   "outputs": [
    {
     "data": {
      "application/vnd.plotly.v1+json": {
       "config": {
        "plotlyServerURL": "https://plot.ly"
       },
       "data": [
        {
         "branchvalues": "total",
         "customdata": [
          [
           32.44897959183673
          ],
          [
           31.275
          ],
          [
           30.88235294117647
          ],
          [
           31.037037037037038
          ],
          [
           29.323529411764707
          ],
          [
           31.03030303030303
          ],
          [
           24.387096774193548
          ],
          [
           21.11111111111111
          ],
          [
           26.96875
          ],
          [
           35.432432432432435
          ],
          [
           37.114583333333336
          ],
          [
           33.7027027027027
          ],
          [
           36.351063829787236
          ],
          [
           37.22959183673469
          ],
          [
           41
          ],
          [
           35.904761904761905
          ],
          [
           38.031007751937985
          ],
          [
           22.879310344827584
          ],
          [
           37.753846153846155
          ],
          [
           33.863013698630134
          ],
          [
           38
          ],
          [
           36.07142857142857
          ],
          [
           33.17142857142857
          ],
          [
           35.83163265306123
          ],
          [
           33.875
          ],
          [
           35.71232876712329
          ],
          [
           39.10526315789474
          ],
          [
           40.797872340425535
          ],
          [
           36.53333333333333
          ],
          [
           36.89010989010989
          ],
          [
           31.10810810810811
          ],
          [
           31.94736842105263
          ],
          [
           36.642857142857146
          ],
          [
           30.63186813186813
          ],
          [
           29.04663212435233
          ],
          [
           39.32
          ],
          [
           36.892857142857146
          ],
          [
           35.728205128205126
          ],
          [
           37.04648146406343
          ],
          [
           33.28531839303721
          ],
          [
           34.81224866290689
          ],
          [
           36.00553094435985
          ],
          [
           34.051010060815585
          ],
          [
           29.375277552385068
          ],
          [
           35.78994516028888
          ],
          [
           36.1352545450906
          ],
          [
           34.44666747621546
          ]
         ],
         "domain": {
          "x": [
           0,
           1
          ],
          "y": [
           0,
           1
          ]
         },
         "hovertemplate": "labels=%{label}<br>Strongly agree_sum=%{value}<br>parent=%{parent}<br>id=%{id}<br>Strongly agree=%{color}<extra></extra>",
         "ids": [
          "Question 11. Overall, I feel valued at work./person with disability-specified/A chronic health condition or pain affects ability to function on a regular or episodic basis due to migraines, Crohn's disease, colitis, and other disabilities or health conditions",
          "Question 11. Overall, I feel valued at work./person with disability-specified/A cognitive disability affects ability to carry out tasks involving executive functioning, such as planning and organization, learning information, communication and memory, including autism or Asperger's syndrome, attention deficit disorder, and learning disabilities",
          "Question 11. Overall, I feel valued at work./person with disability-specified/A hearing disability affects ability to hear, including being hard of hearing, deafness or acoustic distortion",
          "Question 11. Overall, I feel valued at work./person with disability-specified/A mental health issue affects psychology or behaviour, such as anxiety, depression or social / compulsive disorder or phobia or psychiatric illness",
          "Question 11. Overall, I feel valued at work./person with disability-specified/A mobility issue affects ability to move your body, including the required use of a wheelchair or a cane, or other issues impacting your mobility",
          "Question 11. Overall, I feel valued at work./person with disability-specified/A seeing disability affects vision, including total blindness, partial sight and visual distortion",
          "Question 11. Overall, I feel valued at work./person with disability-specified/A sensory / environmental disability affects sensitivity to light, sounds or other distractions, as well as allergens and other environmental sensitivities",
          "Question 11. Overall, I feel valued at work./person with disability-specified/An intellectual disability affects your ability to learn and to adapt behaviour to different situations",
          "Question 11. Overall, I feel valued at work./person with disability-specified/An issue with flexibility or dexterity affects ability to move joints or perform motor tasks, especially with your hands",
          "Question 11. Overall, I feel valued at work./sexuality/Another sexual orientation",
          "Question 11. Overall, I feel valued at work./sexuality/Bisexual",
          "Question 11. Overall, I feel valued at work./ethnicity/Black",
          "Question 11. Overall, I feel valued at work./ethnicity/Chinese",
          "Question 11. Overall, I feel valued at work./gender/Female gender",
          "Question 11. Overall, I feel valued at work./ethnicity/Filipino",
          "Question 11. Overall, I feel valued at work./indigenous-specified/First Nation (North American Indian)",
          "Question 11. Overall, I feel valued at work./sexuality/Gay or lesbian",
          "Question 11. Overall, I feel valued at work./gender/Gender diverse",
          "Question 11. Overall, I feel valued at work./sexuality/Heterosexual",
          "Question 11. Overall, I feel valued at work./indigenous/Indigenous",
          "Question 11. Overall, I feel valued at work./indigenous-specified/Inuk (Inuit)",
          "Question 11. Overall, I feel valued at work./ethnicity/Japanese",
          "Question 11. Overall, I feel valued at work./ethnicity/Korean",
          "Question 11. Overall, I feel valued at work./gender/Male gender",
          "Question 11. Overall, I feel valued at work./indigenous-specified/Métis",
          "Question 11. Overall, I feel valued at work./indigenous/Non-Indigenous",
          "Question 11. Overall, I feel valued at work./ethnicity/Non-White Latin American (including: Indigenous persons from Central and South America, etc.)",
          "Question 11. Overall, I feel valued at work./ethnicity/Non-White West Asian, North African or Arab (including: Egyptian; Libyan; Lebanese; Iranian; etc.)",
          "Question 11. Overall, I feel valued at work./visible minority/Non-visible minority",
          "Question 11. Overall, I feel valued at work./person with disability/Not a person with a disability",
          "Question 11. Overall, I feel valued at work./person with disability-specified/Other disability (including: learning disabilities, developmental disabilities and all other types of disabilities)",
          "Question 11. Overall, I feel valued at work./ethnicity/Other visible minority group",
          "Question 11. Overall, I feel valued at work./ethnicity/Person of mixed origin (with one parent in one of the visible minority groups)",
          "Question 11. Overall, I feel valued at work./person with disability/Person with a disability",
          "Question 11. Overall, I feel valued at work./sexuality/Prefer not to answer",
          "Question 11. Overall, I feel valued at work./ethnicity/South Asian/East Indian (including: Indian from India; Bangladeshi; Pakistani; East Indian from Guyana, Trinidad, East Africa; etc.)",
          "Question 11. Overall, I feel valued at work./ethnicity/Southeast Asian (including: Burmese; Cambodian; Laotian; Thai; Vietnamese; etc.)",
          "Question 11. Overall, I feel valued at work./visible minority/Visible minority",
          "Question 11. Overall, I feel valued at work./ethnicity",
          "Question 11. Overall, I feel valued at work./gender",
          "Question 11. Overall, I feel valued at work./indigenous",
          "Question 11. Overall, I feel valued at work./indigenous-specified",
          "Question 11. Overall, I feel valued at work./person with disability",
          "Question 11. Overall, I feel valued at work./person with disability-specified",
          "Question 11. Overall, I feel valued at work./sexuality",
          "Question 11. Overall, I feel valued at work./visible minority",
          "Question 11. Overall, I feel valued at work."
         ],
         "labels": [
          "A chronic health condition or pain affects ability to function on a regular or episodic basis due to migraines, Crohn's disease, colitis, and other disabilities or health conditions",
          "A cognitive disability affects ability to carry out tasks involving executive functioning, such as planning and organization, learning information, communication and memory, including autism or Asperger's syndrome, attention deficit disorder, and learning disabilities",
          "A hearing disability affects ability to hear, including being hard of hearing, deafness or acoustic distortion",
          "A mental health issue affects psychology or behaviour, such as anxiety, depression or social / compulsive disorder or phobia or psychiatric illness",
          "A mobility issue affects ability to move your body, including the required use of a wheelchair or a cane, or other issues impacting your mobility",
          "A seeing disability affects vision, including total blindness, partial sight and visual distortion",
          "A sensory / environmental disability affects sensitivity to light, sounds or other distractions, as well as allergens and other environmental sensitivities",
          "An intellectual disability affects your ability to learn and to adapt behaviour to different situations",
          "An issue with flexibility or dexterity affects ability to move joints or perform motor tasks, especially with your hands",
          "Another sexual orientation",
          "Bisexual",
          "Black",
          "Chinese",
          "Female gender",
          "Filipino",
          "First Nation (North American Indian)",
          "Gay or lesbian",
          "Gender diverse",
          "Heterosexual",
          "Indigenous",
          "Inuk (Inuit)",
          "Japanese",
          "Korean",
          "Male gender",
          "Métis",
          "Non-Indigenous",
          "Non-White Latin American (including: Indigenous persons from Central and South America, etc.)",
          "Non-White West Asian, North African or Arab (including: Egyptian; Libyan; Lebanese; Iranian; etc.)",
          "Non-visible minority",
          "Not a person with a disability",
          "Other disability (including: learning disabilities, developmental disabilities and all other types of disabilities)",
          "Other visible minority group",
          "Person of mixed origin (with one parent in one of the visible minority groups)",
          "Person with a disability",
          "Prefer not to answer",
          "South Asian/East Indian (including: Indian from India; Bangladeshi; Pakistani; East Indian from Guyana, Trinidad, East Africa; etc.)",
          "Southeast Asian (including: Burmese; Cambodian; Laotian; Thai; Vietnamese; etc.)",
          "Visible minority",
          "ethnicity",
          "gender",
          "indigenous",
          "indigenous-specified",
          "person with disability",
          "person with disability-specified",
          "sexuality",
          "visible minority",
          "Question 11. Overall, I feel valued at work."
         ],
         "marker": {
          "coloraxis": "coloraxis",
          "colors": [
           32.44897959183673,
           31.275,
           30.88235294117647,
           31.037037037037038,
           29.323529411764707,
           31.03030303030303,
           24.387096774193548,
           21.11111111111111,
           26.96875,
           35.432432432432435,
           37.114583333333336,
           33.7027027027027,
           36.351063829787236,
           37.22959183673469,
           41,
           35.904761904761905,
           38.031007751937985,
           22.879310344827584,
           37.753846153846155,
           33.863013698630134,
           38,
           36.07142857142857,
           33.17142857142857,
           35.83163265306123,
           33.875,
           35.71232876712329,
           39.10526315789474,
           40.797872340425535,
           36.53333333333333,
           36.89010989010989,
           31.10810810810811,
           31.94736842105263,
           36.642857142857146,
           30.63186813186813,
           29.04663212435233,
           39.32,
           36.892857142857146,
           35.728205128205126,
           37.04648146406343,
           33.28531839303721,
           34.81224866290689,
           36.00553094435985,
           34.051010060815585,
           29.375277552385068,
           35.78994516028888,
           36.1352545450906,
           34.44666747621546
          ]
         },
         "name": "",
         "parents": [
          "Question 11. Overall, I feel valued at work./person with disability-specified",
          "Question 11. Overall, I feel valued at work./person with disability-specified",
          "Question 11. Overall, I feel valued at work./person with disability-specified",
          "Question 11. Overall, I feel valued at work./person with disability-specified",
          "Question 11. Overall, I feel valued at work./person with disability-specified",
          "Question 11. Overall, I feel valued at work./person with disability-specified",
          "Question 11. Overall, I feel valued at work./person with disability-specified",
          "Question 11. Overall, I feel valued at work./person with disability-specified",
          "Question 11. Overall, I feel valued at work./person with disability-specified",
          "Question 11. Overall, I feel valued at work./sexuality",
          "Question 11. Overall, I feel valued at work./sexuality",
          "Question 11. Overall, I feel valued at work./ethnicity",
          "Question 11. Overall, I feel valued at work./ethnicity",
          "Question 11. Overall, I feel valued at work./gender",
          "Question 11. Overall, I feel valued at work./ethnicity",
          "Question 11. Overall, I feel valued at work./indigenous-specified",
          "Question 11. Overall, I feel valued at work./sexuality",
          "Question 11. Overall, I feel valued at work./gender",
          "Question 11. Overall, I feel valued at work./sexuality",
          "Question 11. Overall, I feel valued at work./indigenous",
          "Question 11. Overall, I feel valued at work./indigenous-specified",
          "Question 11. Overall, I feel valued at work./ethnicity",
          "Question 11. Overall, I feel valued at work./ethnicity",
          "Question 11. Overall, I feel valued at work./gender",
          "Question 11. Overall, I feel valued at work./indigenous-specified",
          "Question 11. Overall, I feel valued at work./indigenous",
          "Question 11. Overall, I feel valued at work./ethnicity",
          "Question 11. Overall, I feel valued at work./ethnicity",
          "Question 11. Overall, I feel valued at work./visible minority",
          "Question 11. Overall, I feel valued at work./person with disability",
          "Question 11. Overall, I feel valued at work./person with disability-specified",
          "Question 11. Overall, I feel valued at work./ethnicity",
          "Question 11. Overall, I feel valued at work./ethnicity",
          "Question 11. Overall, I feel valued at work./person with disability",
          "Question 11. Overall, I feel valued at work./sexuality",
          "Question 11. Overall, I feel valued at work./ethnicity",
          "Question 11. Overall, I feel valued at work./ethnicity",
          "Question 11. Overall, I feel valued at work./visible minority",
          "Question 11. Overall, I feel valued at work.",
          "Question 11. Overall, I feel valued at work.",
          "Question 11. Overall, I feel valued at work.",
          "Question 11. Overall, I feel valued at work.",
          "Question 11. Overall, I feel valued at work.",
          "Question 11. Overall, I feel valued at work.",
          "Question 11. Overall, I feel valued at work.",
          "Question 11. Overall, I feel valued at work.",
          ""
         ],
         "type": "treemap",
         "values": [
          32.44897959183673,
          31.275,
          30.88235294117647,
          31.037037037037038,
          29.323529411764707,
          31.03030303030303,
          24.387096774193548,
          21.11111111111111,
          26.96875,
          35.432432432432435,
          37.114583333333336,
          33.7027027027027,
          36.351063829787236,
          37.22959183673469,
          41,
          35.904761904761905,
          38.031007751937985,
          22.879310344827587,
          37.753846153846155,
          33.863013698630134,
          38,
          36.07142857142857,
          33.17142857142857,
          35.83163265306123,
          33.875,
          35.71232876712329,
          39.10526315789474,
          40.797872340425535,
          36.53333333333333,
          36.89010989010989,
          31.10810810810811,
          31.94736842105263,
          36.642857142857146,
          30.63186813186813,
          29.04663212435233,
          39.32,
          36.892857142857146,
          35.728205128205126,
          405.0028418804343,
          95.9405348346235,
          69.57534246575342,
          107.7797619047619,
          67.52197802197801,
          289.57226800553076,
          177.37850179590225,
          72.26153846153846,
          1285.0327673705226
         ]
        }
       ],
       "layout": {
        "coloraxis": {
         "colorbar": {
          "title": {
           "text": "Strongly agree"
          }
         },
         "colorscale": [
          [
           0,
           "rgb(247,252,240)"
          ],
          [
           0.125,
           "rgb(224,243,219)"
          ],
          [
           0.25,
           "rgb(204,235,197)"
          ],
          [
           0.375,
           "rgb(168,221,181)"
          ],
          [
           0.5,
           "rgb(123,204,196)"
          ],
          [
           0.625,
           "rgb(78,179,211)"
          ],
          [
           0.75,
           "rgb(43,140,190)"
          ],
          [
           0.875,
           "rgb(8,104,172)"
          ],
          [
           1,
           "rgb(8,64,129)"
          ]
         ]
        },
        "legend": {
         "tracegroupgap": 0
        },
        "margin": {
         "b": 25,
         "l": 25,
         "r": 25,
         "t": 50
        },
        "template": {
         "data": {
          "bar": [
           {
            "error_x": {
             "color": "#2a3f5f"
            },
            "error_y": {
             "color": "#2a3f5f"
            },
            "marker": {
             "line": {
              "color": "#E5ECF6",
              "width": 0.5
             },
             "pattern": {
              "fillmode": "overlay",
              "size": 10,
              "solidity": 0.2
             }
            },
            "type": "bar"
           }
          ],
          "barpolar": [
           {
            "marker": {
             "line": {
              "color": "#E5ECF6",
              "width": 0.5
             },
             "pattern": {
              "fillmode": "overlay",
              "size": 10,
              "solidity": 0.2
             }
            },
            "type": "barpolar"
           }
          ],
          "carpet": [
           {
            "aaxis": {
             "endlinecolor": "#2a3f5f",
             "gridcolor": "white",
             "linecolor": "white",
             "minorgridcolor": "white",
             "startlinecolor": "#2a3f5f"
            },
            "baxis": {
             "endlinecolor": "#2a3f5f",
             "gridcolor": "white",
             "linecolor": "white",
             "minorgridcolor": "white",
             "startlinecolor": "#2a3f5f"
            },
            "type": "carpet"
           }
          ],
          "choropleth": [
           {
            "colorbar": {
             "outlinewidth": 0,
             "ticks": ""
            },
            "type": "choropleth"
           }
          ],
          "contour": [
           {
            "colorbar": {
             "outlinewidth": 0,
             "ticks": ""
            },
            "colorscale": [
             [
              0,
              "#0d0887"
             ],
             [
              0.1111111111111111,
              "#46039f"
             ],
             [
              0.2222222222222222,
              "#7201a8"
             ],
             [
              0.3333333333333333,
              "#9c179e"
             ],
             [
              0.4444444444444444,
              "#bd3786"
             ],
             [
              0.5555555555555556,
              "#d8576b"
             ],
             [
              0.6666666666666666,
              "#ed7953"
             ],
             [
              0.7777777777777778,
              "#fb9f3a"
             ],
             [
              0.8888888888888888,
              "#fdca26"
             ],
             [
              1,
              "#f0f921"
             ]
            ],
            "type": "contour"
           }
          ],
          "contourcarpet": [
           {
            "colorbar": {
             "outlinewidth": 0,
             "ticks": ""
            },
            "type": "contourcarpet"
           }
          ],
          "heatmap": [
           {
            "colorbar": {
             "outlinewidth": 0,
             "ticks": ""
            },
            "colorscale": [
             [
              0,
              "#0d0887"
             ],
             [
              0.1111111111111111,
              "#46039f"
             ],
             [
              0.2222222222222222,
              "#7201a8"
             ],
             [
              0.3333333333333333,
              "#9c179e"
             ],
             [
              0.4444444444444444,
              "#bd3786"
             ],
             [
              0.5555555555555556,
              "#d8576b"
             ],
             [
              0.6666666666666666,
              "#ed7953"
             ],
             [
              0.7777777777777778,
              "#fb9f3a"
             ],
             [
              0.8888888888888888,
              "#fdca26"
             ],
             [
              1,
              "#f0f921"
             ]
            ],
            "type": "heatmap"
           }
          ],
          "heatmapgl": [
           {
            "colorbar": {
             "outlinewidth": 0,
             "ticks": ""
            },
            "colorscale": [
             [
              0,
              "#0d0887"
             ],
             [
              0.1111111111111111,
              "#46039f"
             ],
             [
              0.2222222222222222,
              "#7201a8"
             ],
             [
              0.3333333333333333,
              "#9c179e"
             ],
             [
              0.4444444444444444,
              "#bd3786"
             ],
             [
              0.5555555555555556,
              "#d8576b"
             ],
             [
              0.6666666666666666,
              "#ed7953"
             ],
             [
              0.7777777777777778,
              "#fb9f3a"
             ],
             [
              0.8888888888888888,
              "#fdca26"
             ],
             [
              1,
              "#f0f921"
             ]
            ],
            "type": "heatmapgl"
           }
          ],
          "histogram": [
           {
            "marker": {
             "pattern": {
              "fillmode": "overlay",
              "size": 10,
              "solidity": 0.2
             }
            },
            "type": "histogram"
           }
          ],
          "histogram2d": [
           {
            "colorbar": {
             "outlinewidth": 0,
             "ticks": ""
            },
            "colorscale": [
             [
              0,
              "#0d0887"
             ],
             [
              0.1111111111111111,
              "#46039f"
             ],
             [
              0.2222222222222222,
              "#7201a8"
             ],
             [
              0.3333333333333333,
              "#9c179e"
             ],
             [
              0.4444444444444444,
              "#bd3786"
             ],
             [
              0.5555555555555556,
              "#d8576b"
             ],
             [
              0.6666666666666666,
              "#ed7953"
             ],
             [
              0.7777777777777778,
              "#fb9f3a"
             ],
             [
              0.8888888888888888,
              "#fdca26"
             ],
             [
              1,
              "#f0f921"
             ]
            ],
            "type": "histogram2d"
           }
          ],
          "histogram2dcontour": [
           {
            "colorbar": {
             "outlinewidth": 0,
             "ticks": ""
            },
            "colorscale": [
             [
              0,
              "#0d0887"
             ],
             [
              0.1111111111111111,
              "#46039f"
             ],
             [
              0.2222222222222222,
              "#7201a8"
             ],
             [
              0.3333333333333333,
              "#9c179e"
             ],
             [
              0.4444444444444444,
              "#bd3786"
             ],
             [
              0.5555555555555556,
              "#d8576b"
             ],
             [
              0.6666666666666666,
              "#ed7953"
             ],
             [
              0.7777777777777778,
              "#fb9f3a"
             ],
             [
              0.8888888888888888,
              "#fdca26"
             ],
             [
              1,
              "#f0f921"
             ]
            ],
            "type": "histogram2dcontour"
           }
          ],
          "mesh3d": [
           {
            "colorbar": {
             "outlinewidth": 0,
             "ticks": ""
            },
            "type": "mesh3d"
           }
          ],
          "parcoords": [
           {
            "line": {
             "colorbar": {
              "outlinewidth": 0,
              "ticks": ""
             }
            },
            "type": "parcoords"
           }
          ],
          "pie": [
           {
            "automargin": true,
            "type": "pie"
           }
          ],
          "scatter": [
           {
            "marker": {
             "colorbar": {
              "outlinewidth": 0,
              "ticks": ""
             }
            },
            "type": "scatter"
           }
          ],
          "scatter3d": [
           {
            "line": {
             "colorbar": {
              "outlinewidth": 0,
              "ticks": ""
             }
            },
            "marker": {
             "colorbar": {
              "outlinewidth": 0,
              "ticks": ""
             }
            },
            "type": "scatter3d"
           }
          ],
          "scattercarpet": [
           {
            "marker": {
             "colorbar": {
              "outlinewidth": 0,
              "ticks": ""
             }
            },
            "type": "scattercarpet"
           }
          ],
          "scattergeo": [
           {
            "marker": {
             "colorbar": {
              "outlinewidth": 0,
              "ticks": ""
             }
            },
            "type": "scattergeo"
           }
          ],
          "scattergl": [
           {
            "marker": {
             "colorbar": {
              "outlinewidth": 0,
              "ticks": ""
             }
            },
            "type": "scattergl"
           }
          ],
          "scattermapbox": [
           {
            "marker": {
             "colorbar": {
              "outlinewidth": 0,
              "ticks": ""
             }
            },
            "type": "scattermapbox"
           }
          ],
          "scatterpolar": [
           {
            "marker": {
             "colorbar": {
              "outlinewidth": 0,
              "ticks": ""
             }
            },
            "type": "scatterpolar"
           }
          ],
          "scatterpolargl": [
           {
            "marker": {
             "colorbar": {
              "outlinewidth": 0,
              "ticks": ""
             }
            },
            "type": "scatterpolargl"
           }
          ],
          "scatterternary": [
           {
            "marker": {
             "colorbar": {
              "outlinewidth": 0,
              "ticks": ""
             }
            },
            "type": "scatterternary"
           }
          ],
          "surface": [
           {
            "colorbar": {
             "outlinewidth": 0,
             "ticks": ""
            },
            "colorscale": [
             [
              0,
              "#0d0887"
             ],
             [
              0.1111111111111111,
              "#46039f"
             ],
             [
              0.2222222222222222,
              "#7201a8"
             ],
             [
              0.3333333333333333,
              "#9c179e"
             ],
             [
              0.4444444444444444,
              "#bd3786"
             ],
             [
              0.5555555555555556,
              "#d8576b"
             ],
             [
              0.6666666666666666,
              "#ed7953"
             ],
             [
              0.7777777777777778,
              "#fb9f3a"
             ],
             [
              0.8888888888888888,
              "#fdca26"
             ],
             [
              1,
              "#f0f921"
             ]
            ],
            "type": "surface"
           }
          ],
          "table": [
           {
            "cells": {
             "fill": {
              "color": "#EBF0F8"
             },
             "line": {
              "color": "white"
             }
            },
            "header": {
             "fill": {
              "color": "#C8D4E3"
             },
             "line": {
              "color": "white"
             }
            },
            "type": "table"
           }
          ]
         },
         "layout": {
          "annotationdefaults": {
           "arrowcolor": "#2a3f5f",
           "arrowhead": 0,
           "arrowwidth": 1
          },
          "autotypenumbers": "strict",
          "coloraxis": {
           "colorbar": {
            "outlinewidth": 0,
            "ticks": ""
           }
          },
          "colorscale": {
           "diverging": [
            [
             0,
             "#8e0152"
            ],
            [
             0.1,
             "#c51b7d"
            ],
            [
             0.2,
             "#de77ae"
            ],
            [
             0.3,
             "#f1b6da"
            ],
            [
             0.4,
             "#fde0ef"
            ],
            [
             0.5,
             "#f7f7f7"
            ],
            [
             0.6,
             "#e6f5d0"
            ],
            [
             0.7,
             "#b8e186"
            ],
            [
             0.8,
             "#7fbc41"
            ],
            [
             0.9,
             "#4d9221"
            ],
            [
             1,
             "#276419"
            ]
           ],
           "sequential": [
            [
             0,
             "#0d0887"
            ],
            [
             0.1111111111111111,
             "#46039f"
            ],
            [
             0.2222222222222222,
             "#7201a8"
            ],
            [
             0.3333333333333333,
             "#9c179e"
            ],
            [
             0.4444444444444444,
             "#bd3786"
            ],
            [
             0.5555555555555556,
             "#d8576b"
            ],
            [
             0.6666666666666666,
             "#ed7953"
            ],
            [
             0.7777777777777778,
             "#fb9f3a"
            ],
            [
             0.8888888888888888,
             "#fdca26"
            ],
            [
             1,
             "#f0f921"
            ]
           ],
           "sequentialminus": [
            [
             0,
             "#0d0887"
            ],
            [
             0.1111111111111111,
             "#46039f"
            ],
            [
             0.2222222222222222,
             "#7201a8"
            ],
            [
             0.3333333333333333,
             "#9c179e"
            ],
            [
             0.4444444444444444,
             "#bd3786"
            ],
            [
             0.5555555555555556,
             "#d8576b"
            ],
            [
             0.6666666666666666,
             "#ed7953"
            ],
            [
             0.7777777777777778,
             "#fb9f3a"
            ],
            [
             0.8888888888888888,
             "#fdca26"
            ],
            [
             1,
             "#f0f921"
            ]
           ]
          },
          "colorway": [
           "#636efa",
           "#EF553B",
           "#00cc96",
           "#ab63fa",
           "#FFA15A",
           "#19d3f3",
           "#FF6692",
           "#B6E880",
           "#FF97FF",
           "#FECB52"
          ],
          "font": {
           "color": "#2a3f5f"
          },
          "geo": {
           "bgcolor": "white",
           "lakecolor": "white",
           "landcolor": "#E5ECF6",
           "showlakes": true,
           "showland": true,
           "subunitcolor": "white"
          },
          "hoverlabel": {
           "align": "left"
          },
          "hovermode": "closest",
          "mapbox": {
           "style": "light"
          },
          "paper_bgcolor": "white",
          "plot_bgcolor": "#E5ECF6",
          "polar": {
           "angularaxis": {
            "gridcolor": "white",
            "linecolor": "white",
            "ticks": ""
           },
           "bgcolor": "#E5ECF6",
           "radialaxis": {
            "gridcolor": "white",
            "linecolor": "white",
            "ticks": ""
           }
          },
          "scene": {
           "xaxis": {
            "backgroundcolor": "#E5ECF6",
            "gridcolor": "white",
            "gridwidth": 2,
            "linecolor": "white",
            "showbackground": true,
            "ticks": "",
            "zerolinecolor": "white"
           },
           "yaxis": {
            "backgroundcolor": "#E5ECF6",
            "gridcolor": "white",
            "gridwidth": 2,
            "linecolor": "white",
            "showbackground": true,
            "ticks": "",
            "zerolinecolor": "white"
           },
           "zaxis": {
            "backgroundcolor": "#E5ECF6",
            "gridcolor": "white",
            "gridwidth": 2,
            "linecolor": "white",
            "showbackground": true,
            "ticks": "",
            "zerolinecolor": "white"
           }
          },
          "shapedefaults": {
           "line": {
            "color": "#2a3f5f"
           }
          },
          "ternary": {
           "aaxis": {
            "gridcolor": "white",
            "linecolor": "white",
            "ticks": ""
           },
           "baxis": {
            "gridcolor": "white",
            "linecolor": "white",
            "ticks": ""
           },
           "bgcolor": "#E5ECF6",
           "caxis": {
            "gridcolor": "white",
            "linecolor": "white",
            "ticks": ""
           }
          },
          "title": {
           "x": 0.05
          },
          "xaxis": {
           "automargin": true,
           "gridcolor": "white",
           "linecolor": "white",
           "ticks": "",
           "title": {
            "standoff": 15
           },
           "zerolinecolor": "white",
           "zerolinewidth": 2
          },
          "yaxis": {
           "automargin": true,
           "gridcolor": "white",
           "linecolor": "white",
           "ticks": "",
           "title": {
            "standoff": 15
           },
           "zerolinecolor": "white",
           "zerolinewidth": 2
          }
         }
        }
       }
      }
     },
     "metadata": {},
     "output_type": "display_data"
    }
   ],
   "source": [
    "# Number of questions by Indicatior and SubIndicator\n",
    "\n",
    "fig = px.treemap(df_tree_map, path=[px.Constant(\"Question 11. Overall, I feel valued at work.\"), \n",
    "                                    'GENERAL_DEMO_GROUP', 'DESCRIP_E'], values='Strongly agree', color='Strongly agree'\n",
    "                                    ,color_continuous_scale='GnBu')\n",
    "fig.update_layout(margin = dict(t=50, l=25, r=25, b=25))\n",
    "fig.show()"
   ]
  },
  {
   "cell_type": "markdown",
   "metadata": {},
   "source": [
    "### Question 12"
   ]
  },
  {
   "cell_type": "code",
   "execution_count": 103,
   "metadata": {},
   "outputs": [],
   "source": [
    "df_tree_map = df_emp_survey.query(\"QUESTION == 'Q12' and SELECTED=='selected'\").groupby(['GENERAL_DEMO_GROUP','DESCRIP_E'])[['DESCRIP_E','ANSWER1','ANSWER2','ANSWER3','ANSWER4','ANSWER5']].mean().reset_index()\n",
    "df_tree_map.rename(columns={'ANSWER1': 'Strongly agree', 'ANSWER2':'Somewhat agree','ANSWER3':'Neither agree nor disagree','ANSWER4':'Somewhat disagree','ANSWER5':'Strongly disagree'}, inplace=True)"
   ]
  },
  {
   "cell_type": "code",
   "execution_count": 104,
   "metadata": {},
   "outputs": [
    {
     "data": {
      "application/vnd.plotly.v1+json": {
       "config": {
        "plotlyServerURL": "https://plot.ly"
       },
       "data": [
        {
         "branchvalues": "total",
         "customdata": [
          [
           53.770833333333336
          ],
          [
           48.825
          ],
          [
           56.76470588235294
          ],
          [
           47.735849056603776
          ],
          [
           57.61764705882353
          ],
          [
           55.69696969696969
          ],
          [
           47.612903225806456
          ],
          [
           45.22222222222222
          ],
          [
           55.25
          ],
          [
           46.39726027397261
          ],
          [
           49.436170212765965
          ],
          [
           54.21238938053097
          ],
          [
           48.340425531914896
          ],
          [
           54.66836734693877
          ],
          [
           58.6551724137931
          ],
          [
           58.642857142857146
          ],
          [
           53.15625
          ],
          [
           36.48275862068966
          ],
          [
           54.88717948717949
          ],
          [
           55.773972602739725
          ],
          [
           60.77272727272727
          ],
          [
           48.82142857142857
          ],
          [
           43.73529411764706
          ],
          [
           52.75
          ],
          [
           55.63636363636363
          ],
          [
           53.33561643835616
          ],
          [
           59.87931034482759
          ],
          [
           60.096774193548384
          ],
          [
           53.758974358974356
          ],
          [
           53.81318681318681
          ],
          [
           52.94444444444444
          ],
          [
           55.85964912280702
          ],
          [
           50.404761904761905
          ],
          [
           52.637362637362635
          ],
          [
           48.943005181347154
          ],
          [
           58.43
          ],
          [
           49.357142857142854
          ],
          [
           53.96410256410256
          ],
          [
           53.96600351653414
          ],
          [
           49.35461426864049
          ],
          [
           54.582040433746954
          ],
          [
           58.4267364433178
          ],
          [
           53.23176864428025
          ],
          [
           52.481122293662196
          ],
          [
           50.748574763532005
          ],
          [
           53.86173376593256
          ],
          [
           53.221296685573286
          ]
         ],
         "domain": {
          "x": [
           0,
           1
          ],
          "y": [
           0,
           1
          ]
         },
         "hovertemplate": "labels=%{label}<br>Strongly agree_sum=%{value}<br>parent=%{parent}<br>id=%{id}<br>Strongly agree=%{color}<extra></extra>",
         "ids": [
          "Question 12. I am proud of the work that I do./person with disability-specified/A chronic health condition or pain affects ability to function on a regular or episodic basis due to migraines, Crohn's disease, colitis, and other disabilities or health conditions",
          "Question 12. I am proud of the work that I do./person with disability-specified/A cognitive disability affects ability to carry out tasks involving executive functioning, such as planning and organization, learning information, communication and memory, including autism or Asperger's syndrome, attention deficit disorder, and learning disabilities",
          "Question 12. I am proud of the work that I do./person with disability-specified/A hearing disability affects ability to hear, including being hard of hearing, deafness or acoustic distortion",
          "Question 12. I am proud of the work that I do./person with disability-specified/A mental health issue affects psychology or behaviour, such as anxiety, depression or social / compulsive disorder or phobia or psychiatric illness",
          "Question 12. I am proud of the work that I do./person with disability-specified/A mobility issue affects ability to move your body, including the required use of a wheelchair or a cane, or other issues impacting your mobility",
          "Question 12. I am proud of the work that I do./person with disability-specified/A seeing disability affects vision, including total blindness, partial sight and visual distortion",
          "Question 12. I am proud of the work that I do./person with disability-specified/A sensory / environmental disability affects sensitivity to light, sounds or other distractions, as well as allergens and other environmental sensitivities",
          "Question 12. I am proud of the work that I do./person with disability-specified/An intellectual disability affects your ability to learn and to adapt behaviour to different situations",
          "Question 12. I am proud of the work that I do./person with disability-specified/An issue with flexibility or dexterity affects ability to move joints or perform motor tasks, especially with your hands",
          "Question 12. I am proud of the work that I do./sexuality/Another sexual orientation",
          "Question 12. I am proud of the work that I do./sexuality/Bisexual",
          "Question 12. I am proud of the work that I do./ethnicity/Black",
          "Question 12. I am proud of the work that I do./ethnicity/Chinese",
          "Question 12. I am proud of the work that I do./gender/Female gender",
          "Question 12. I am proud of the work that I do./ethnicity/Filipino",
          "Question 12. I am proud of the work that I do./indigenous-specified/First Nation (North American Indian)",
          "Question 12. I am proud of the work that I do./sexuality/Gay or lesbian",
          "Question 12. I am proud of the work that I do./gender/Gender diverse",
          "Question 12. I am proud of the work that I do./sexuality/Heterosexual",
          "Question 12. I am proud of the work that I do./indigenous/Indigenous",
          "Question 12. I am proud of the work that I do./indigenous-specified/Inuk (Inuit)",
          "Question 12. I am proud of the work that I do./ethnicity/Japanese",
          "Question 12. I am proud of the work that I do./ethnicity/Korean",
          "Question 12. I am proud of the work that I do./gender/Male gender",
          "Question 12. I am proud of the work that I do./indigenous-specified/Métis",
          "Question 12. I am proud of the work that I do./indigenous/Non-Indigenous",
          "Question 12. I am proud of the work that I do./ethnicity/Non-White Latin American (including: Indigenous persons from Central and South America, etc.)",
          "Question 12. I am proud of the work that I do./ethnicity/Non-White West Asian, North African or Arab (including: Egyptian; Libyan; Lebanese; Iranian; etc.)",
          "Question 12. I am proud of the work that I do./visible minority/Non-visible minority",
          "Question 12. I am proud of the work that I do./person with disability/Not a person with a disability",
          "Question 12. I am proud of the work that I do./person with disability-specified/Other disability (including: learning disabilities, developmental disabilities and all other types of disabilities)",
          "Question 12. I am proud of the work that I do./ethnicity/Other visible minority group",
          "Question 12. I am proud of the work that I do./ethnicity/Person of mixed origin (with one parent in one of the visible minority groups)",
          "Question 12. I am proud of the work that I do./person with disability/Person with a disability",
          "Question 12. I am proud of the work that I do./sexuality/Prefer not to answer",
          "Question 12. I am proud of the work that I do./ethnicity/South Asian/East Indian (including: Indian from India; Bangladeshi; Pakistani; East Indian from Guyana, Trinidad, East Africa; etc.)",
          "Question 12. I am proud of the work that I do./ethnicity/Southeast Asian (including: Burmese; Cambodian; Laotian; Thai; Vietnamese; etc.)",
          "Question 12. I am proud of the work that I do./visible minority/Visible minority",
          "Question 12. I am proud of the work that I do./ethnicity",
          "Question 12. I am proud of the work that I do./gender",
          "Question 12. I am proud of the work that I do./indigenous",
          "Question 12. I am proud of the work that I do./indigenous-specified",
          "Question 12. I am proud of the work that I do./person with disability",
          "Question 12. I am proud of the work that I do./person with disability-specified",
          "Question 12. I am proud of the work that I do./sexuality",
          "Question 12. I am proud of the work that I do./visible minority",
          "Question 12. I am proud of the work that I do."
         ],
         "labels": [
          "A chronic health condition or pain affects ability to function on a regular or episodic basis due to migraines, Crohn's disease, colitis, and other disabilities or health conditions",
          "A cognitive disability affects ability to carry out tasks involving executive functioning, such as planning and organization, learning information, communication and memory, including autism or Asperger's syndrome, attention deficit disorder, and learning disabilities",
          "A hearing disability affects ability to hear, including being hard of hearing, deafness or acoustic distortion",
          "A mental health issue affects psychology or behaviour, such as anxiety, depression or social / compulsive disorder or phobia or psychiatric illness",
          "A mobility issue affects ability to move your body, including the required use of a wheelchair or a cane, or other issues impacting your mobility",
          "A seeing disability affects vision, including total blindness, partial sight and visual distortion",
          "A sensory / environmental disability affects sensitivity to light, sounds or other distractions, as well as allergens and other environmental sensitivities",
          "An intellectual disability affects your ability to learn and to adapt behaviour to different situations",
          "An issue with flexibility or dexterity affects ability to move joints or perform motor tasks, especially with your hands",
          "Another sexual orientation",
          "Bisexual",
          "Black",
          "Chinese",
          "Female gender",
          "Filipino",
          "First Nation (North American Indian)",
          "Gay or lesbian",
          "Gender diverse",
          "Heterosexual",
          "Indigenous",
          "Inuk (Inuit)",
          "Japanese",
          "Korean",
          "Male gender",
          "Métis",
          "Non-Indigenous",
          "Non-White Latin American (including: Indigenous persons from Central and South America, etc.)",
          "Non-White West Asian, North African or Arab (including: Egyptian; Libyan; Lebanese; Iranian; etc.)",
          "Non-visible minority",
          "Not a person with a disability",
          "Other disability (including: learning disabilities, developmental disabilities and all other types of disabilities)",
          "Other visible minority group",
          "Person of mixed origin (with one parent in one of the visible minority groups)",
          "Person with a disability",
          "Prefer not to answer",
          "South Asian/East Indian (including: Indian from India; Bangladeshi; Pakistani; East Indian from Guyana, Trinidad, East Africa; etc.)",
          "Southeast Asian (including: Burmese; Cambodian; Laotian; Thai; Vietnamese; etc.)",
          "Visible minority",
          "ethnicity",
          "gender",
          "indigenous",
          "indigenous-specified",
          "person with disability",
          "person with disability-specified",
          "sexuality",
          "visible minority",
          "Question 12. I am proud of the work that I do."
         ],
         "marker": {
          "coloraxis": "coloraxis",
          "colors": [
           53.770833333333336,
           48.825,
           56.76470588235294,
           47.735849056603776,
           57.61764705882353,
           55.69696969696969,
           47.612903225806456,
           45.22222222222222,
           55.25,
           46.39726027397261,
           49.436170212765965,
           54.21238938053097,
           48.340425531914896,
           54.66836734693877,
           58.6551724137931,
           58.642857142857146,
           53.15625,
           36.48275862068966,
           54.88717948717949,
           55.773972602739725,
           60.77272727272727,
           48.82142857142857,
           43.73529411764706,
           52.75,
           55.63636363636363,
           53.33561643835616,
           59.87931034482759,
           60.096774193548384,
           53.758974358974356,
           53.81318681318681,
           52.94444444444444,
           55.85964912280702,
           50.404761904761905,
           52.637362637362635,
           48.943005181347154,
           58.43,
           49.357142857142854,
           53.96410256410256,
           53.96600351653414,
           49.35461426864049,
           54.582040433746954,
           58.4267364433178,
           53.23176864428025,
           52.481122293662196,
           50.748574763532005,
           53.86173376593256,
           53.221296685573286
          ]
         },
         "name": "",
         "parents": [
          "Question 12. I am proud of the work that I do./person with disability-specified",
          "Question 12. I am proud of the work that I do./person with disability-specified",
          "Question 12. I am proud of the work that I do./person with disability-specified",
          "Question 12. I am proud of the work that I do./person with disability-specified",
          "Question 12. I am proud of the work that I do./person with disability-specified",
          "Question 12. I am proud of the work that I do./person with disability-specified",
          "Question 12. I am proud of the work that I do./person with disability-specified",
          "Question 12. I am proud of the work that I do./person with disability-specified",
          "Question 12. I am proud of the work that I do./person with disability-specified",
          "Question 12. I am proud of the work that I do./sexuality",
          "Question 12. I am proud of the work that I do./sexuality",
          "Question 12. I am proud of the work that I do./ethnicity",
          "Question 12. I am proud of the work that I do./ethnicity",
          "Question 12. I am proud of the work that I do./gender",
          "Question 12. I am proud of the work that I do./ethnicity",
          "Question 12. I am proud of the work that I do./indigenous-specified",
          "Question 12. I am proud of the work that I do./sexuality",
          "Question 12. I am proud of the work that I do./gender",
          "Question 12. I am proud of the work that I do./sexuality",
          "Question 12. I am proud of the work that I do./indigenous",
          "Question 12. I am proud of the work that I do./indigenous-specified",
          "Question 12. I am proud of the work that I do./ethnicity",
          "Question 12. I am proud of the work that I do./ethnicity",
          "Question 12. I am proud of the work that I do./gender",
          "Question 12. I am proud of the work that I do./indigenous-specified",
          "Question 12. I am proud of the work that I do./indigenous",
          "Question 12. I am proud of the work that I do./ethnicity",
          "Question 12. I am proud of the work that I do./ethnicity",
          "Question 12. I am proud of the work that I do./visible minority",
          "Question 12. I am proud of the work that I do./person with disability",
          "Question 12. I am proud of the work that I do./person with disability-specified",
          "Question 12. I am proud of the work that I do./ethnicity",
          "Question 12. I am proud of the work that I do./ethnicity",
          "Question 12. I am proud of the work that I do./person with disability",
          "Question 12. I am proud of the work that I do./sexuality",
          "Question 12. I am proud of the work that I do./ethnicity",
          "Question 12. I am proud of the work that I do./ethnicity",
          "Question 12. I am proud of the work that I do./visible minority",
          "Question 12. I am proud of the work that I do.",
          "Question 12. I am proud of the work that I do.",
          "Question 12. I am proud of the work that I do.",
          "Question 12. I am proud of the work that I do.",
          "Question 12. I am proud of the work that I do.",
          "Question 12. I am proud of the work that I do.",
          "Question 12. I am proud of the work that I do.",
          "Question 12. I am proud of the work that I do.",
          ""
         ],
         "type": "treemap",
         "values": [
          53.770833333333336,
          48.825,
          56.76470588235294,
          47.735849056603776,
          57.61764705882353,
          55.696969696969695,
          47.61290322580645,
          45.22222222222222,
          55.25,
          46.397260273972606,
          49.43617021276596,
          54.21238938053097,
          48.340425531914896,
          54.66836734693877,
          58.6551724137931,
          58.642857142857146,
          53.15625,
          36.48275862068966,
          54.88717948717949,
          55.773972602739725,
          60.77272727272727,
          48.82142857142857,
          43.73529411764706,
          52.75,
          55.63636363636363,
          53.33561643835616,
          59.87931034482759,
          60.096774193548384,
          53.758974358974356,
          53.81318681318681,
          52.94444444444444,
          55.85964912280702,
          50.404761904761905,
          52.637362637362635,
          48.943005181347154,
          58.43,
          49.357142857142854,
          53.96410256410256,
          587.7923484384023,
          143.90112596762845,
          109.10958904109589,
          175.05194805194805,
          106.45054945054945,
          521.4405749205564,
          252.8198651552652,
          107.72307692307692,
          2004.2890779485226
         ]
        }
       ],
       "layout": {
        "coloraxis": {
         "colorbar": {
          "title": {
           "text": "Strongly agree"
          }
         },
         "colorscale": [
          [
           0,
           "rgb(247,252,240)"
          ],
          [
           0.125,
           "rgb(224,243,219)"
          ],
          [
           0.25,
           "rgb(204,235,197)"
          ],
          [
           0.375,
           "rgb(168,221,181)"
          ],
          [
           0.5,
           "rgb(123,204,196)"
          ],
          [
           0.625,
           "rgb(78,179,211)"
          ],
          [
           0.75,
           "rgb(43,140,190)"
          ],
          [
           0.875,
           "rgb(8,104,172)"
          ],
          [
           1,
           "rgb(8,64,129)"
          ]
         ]
        },
        "legend": {
         "tracegroupgap": 0
        },
        "margin": {
         "b": 25,
         "l": 25,
         "r": 25,
         "t": 50
        },
        "template": {
         "data": {
          "bar": [
           {
            "error_x": {
             "color": "#2a3f5f"
            },
            "error_y": {
             "color": "#2a3f5f"
            },
            "marker": {
             "line": {
              "color": "#E5ECF6",
              "width": 0.5
             },
             "pattern": {
              "fillmode": "overlay",
              "size": 10,
              "solidity": 0.2
             }
            },
            "type": "bar"
           }
          ],
          "barpolar": [
           {
            "marker": {
             "line": {
              "color": "#E5ECF6",
              "width": 0.5
             },
             "pattern": {
              "fillmode": "overlay",
              "size": 10,
              "solidity": 0.2
             }
            },
            "type": "barpolar"
           }
          ],
          "carpet": [
           {
            "aaxis": {
             "endlinecolor": "#2a3f5f",
             "gridcolor": "white",
             "linecolor": "white",
             "minorgridcolor": "white",
             "startlinecolor": "#2a3f5f"
            },
            "baxis": {
             "endlinecolor": "#2a3f5f",
             "gridcolor": "white",
             "linecolor": "white",
             "minorgridcolor": "white",
             "startlinecolor": "#2a3f5f"
            },
            "type": "carpet"
           }
          ],
          "choropleth": [
           {
            "colorbar": {
             "outlinewidth": 0,
             "ticks": ""
            },
            "type": "choropleth"
           }
          ],
          "contour": [
           {
            "colorbar": {
             "outlinewidth": 0,
             "ticks": ""
            },
            "colorscale": [
             [
              0,
              "#0d0887"
             ],
             [
              0.1111111111111111,
              "#46039f"
             ],
             [
              0.2222222222222222,
              "#7201a8"
             ],
             [
              0.3333333333333333,
              "#9c179e"
             ],
             [
              0.4444444444444444,
              "#bd3786"
             ],
             [
              0.5555555555555556,
              "#d8576b"
             ],
             [
              0.6666666666666666,
              "#ed7953"
             ],
             [
              0.7777777777777778,
              "#fb9f3a"
             ],
             [
              0.8888888888888888,
              "#fdca26"
             ],
             [
              1,
              "#f0f921"
             ]
            ],
            "type": "contour"
           }
          ],
          "contourcarpet": [
           {
            "colorbar": {
             "outlinewidth": 0,
             "ticks": ""
            },
            "type": "contourcarpet"
           }
          ],
          "heatmap": [
           {
            "colorbar": {
             "outlinewidth": 0,
             "ticks": ""
            },
            "colorscale": [
             [
              0,
              "#0d0887"
             ],
             [
              0.1111111111111111,
              "#46039f"
             ],
             [
              0.2222222222222222,
              "#7201a8"
             ],
             [
              0.3333333333333333,
              "#9c179e"
             ],
             [
              0.4444444444444444,
              "#bd3786"
             ],
             [
              0.5555555555555556,
              "#d8576b"
             ],
             [
              0.6666666666666666,
              "#ed7953"
             ],
             [
              0.7777777777777778,
              "#fb9f3a"
             ],
             [
              0.8888888888888888,
              "#fdca26"
             ],
             [
              1,
              "#f0f921"
             ]
            ],
            "type": "heatmap"
           }
          ],
          "heatmapgl": [
           {
            "colorbar": {
             "outlinewidth": 0,
             "ticks": ""
            },
            "colorscale": [
             [
              0,
              "#0d0887"
             ],
             [
              0.1111111111111111,
              "#46039f"
             ],
             [
              0.2222222222222222,
              "#7201a8"
             ],
             [
              0.3333333333333333,
              "#9c179e"
             ],
             [
              0.4444444444444444,
              "#bd3786"
             ],
             [
              0.5555555555555556,
              "#d8576b"
             ],
             [
              0.6666666666666666,
              "#ed7953"
             ],
             [
              0.7777777777777778,
              "#fb9f3a"
             ],
             [
              0.8888888888888888,
              "#fdca26"
             ],
             [
              1,
              "#f0f921"
             ]
            ],
            "type": "heatmapgl"
           }
          ],
          "histogram": [
           {
            "marker": {
             "pattern": {
              "fillmode": "overlay",
              "size": 10,
              "solidity": 0.2
             }
            },
            "type": "histogram"
           }
          ],
          "histogram2d": [
           {
            "colorbar": {
             "outlinewidth": 0,
             "ticks": ""
            },
            "colorscale": [
             [
              0,
              "#0d0887"
             ],
             [
              0.1111111111111111,
              "#46039f"
             ],
             [
              0.2222222222222222,
              "#7201a8"
             ],
             [
              0.3333333333333333,
              "#9c179e"
             ],
             [
              0.4444444444444444,
              "#bd3786"
             ],
             [
              0.5555555555555556,
              "#d8576b"
             ],
             [
              0.6666666666666666,
              "#ed7953"
             ],
             [
              0.7777777777777778,
              "#fb9f3a"
             ],
             [
              0.8888888888888888,
              "#fdca26"
             ],
             [
              1,
              "#f0f921"
             ]
            ],
            "type": "histogram2d"
           }
          ],
          "histogram2dcontour": [
           {
            "colorbar": {
             "outlinewidth": 0,
             "ticks": ""
            },
            "colorscale": [
             [
              0,
              "#0d0887"
             ],
             [
              0.1111111111111111,
              "#46039f"
             ],
             [
              0.2222222222222222,
              "#7201a8"
             ],
             [
              0.3333333333333333,
              "#9c179e"
             ],
             [
              0.4444444444444444,
              "#bd3786"
             ],
             [
              0.5555555555555556,
              "#d8576b"
             ],
             [
              0.6666666666666666,
              "#ed7953"
             ],
             [
              0.7777777777777778,
              "#fb9f3a"
             ],
             [
              0.8888888888888888,
              "#fdca26"
             ],
             [
              1,
              "#f0f921"
             ]
            ],
            "type": "histogram2dcontour"
           }
          ],
          "mesh3d": [
           {
            "colorbar": {
             "outlinewidth": 0,
             "ticks": ""
            },
            "type": "mesh3d"
           }
          ],
          "parcoords": [
           {
            "line": {
             "colorbar": {
              "outlinewidth": 0,
              "ticks": ""
             }
            },
            "type": "parcoords"
           }
          ],
          "pie": [
           {
            "automargin": true,
            "type": "pie"
           }
          ],
          "scatter": [
           {
            "marker": {
             "colorbar": {
              "outlinewidth": 0,
              "ticks": ""
             }
            },
            "type": "scatter"
           }
          ],
          "scatter3d": [
           {
            "line": {
             "colorbar": {
              "outlinewidth": 0,
              "ticks": ""
             }
            },
            "marker": {
             "colorbar": {
              "outlinewidth": 0,
              "ticks": ""
             }
            },
            "type": "scatter3d"
           }
          ],
          "scattercarpet": [
           {
            "marker": {
             "colorbar": {
              "outlinewidth": 0,
              "ticks": ""
             }
            },
            "type": "scattercarpet"
           }
          ],
          "scattergeo": [
           {
            "marker": {
             "colorbar": {
              "outlinewidth": 0,
              "ticks": ""
             }
            },
            "type": "scattergeo"
           }
          ],
          "scattergl": [
           {
            "marker": {
             "colorbar": {
              "outlinewidth": 0,
              "ticks": ""
             }
            },
            "type": "scattergl"
           }
          ],
          "scattermapbox": [
           {
            "marker": {
             "colorbar": {
              "outlinewidth": 0,
              "ticks": ""
             }
            },
            "type": "scattermapbox"
           }
          ],
          "scatterpolar": [
           {
            "marker": {
             "colorbar": {
              "outlinewidth": 0,
              "ticks": ""
             }
            },
            "type": "scatterpolar"
           }
          ],
          "scatterpolargl": [
           {
            "marker": {
             "colorbar": {
              "outlinewidth": 0,
              "ticks": ""
             }
            },
            "type": "scatterpolargl"
           }
          ],
          "scatterternary": [
           {
            "marker": {
             "colorbar": {
              "outlinewidth": 0,
              "ticks": ""
             }
            },
            "type": "scatterternary"
           }
          ],
          "surface": [
           {
            "colorbar": {
             "outlinewidth": 0,
             "ticks": ""
            },
            "colorscale": [
             [
              0,
              "#0d0887"
             ],
             [
              0.1111111111111111,
              "#46039f"
             ],
             [
              0.2222222222222222,
              "#7201a8"
             ],
             [
              0.3333333333333333,
              "#9c179e"
             ],
             [
              0.4444444444444444,
              "#bd3786"
             ],
             [
              0.5555555555555556,
              "#d8576b"
             ],
             [
              0.6666666666666666,
              "#ed7953"
             ],
             [
              0.7777777777777778,
              "#fb9f3a"
             ],
             [
              0.8888888888888888,
              "#fdca26"
             ],
             [
              1,
              "#f0f921"
             ]
            ],
            "type": "surface"
           }
          ],
          "table": [
           {
            "cells": {
             "fill": {
              "color": "#EBF0F8"
             },
             "line": {
              "color": "white"
             }
            },
            "header": {
             "fill": {
              "color": "#C8D4E3"
             },
             "line": {
              "color": "white"
             }
            },
            "type": "table"
           }
          ]
         },
         "layout": {
          "annotationdefaults": {
           "arrowcolor": "#2a3f5f",
           "arrowhead": 0,
           "arrowwidth": 1
          },
          "autotypenumbers": "strict",
          "coloraxis": {
           "colorbar": {
            "outlinewidth": 0,
            "ticks": ""
           }
          },
          "colorscale": {
           "diverging": [
            [
             0,
             "#8e0152"
            ],
            [
             0.1,
             "#c51b7d"
            ],
            [
             0.2,
             "#de77ae"
            ],
            [
             0.3,
             "#f1b6da"
            ],
            [
             0.4,
             "#fde0ef"
            ],
            [
             0.5,
             "#f7f7f7"
            ],
            [
             0.6,
             "#e6f5d0"
            ],
            [
             0.7,
             "#b8e186"
            ],
            [
             0.8,
             "#7fbc41"
            ],
            [
             0.9,
             "#4d9221"
            ],
            [
             1,
             "#276419"
            ]
           ],
           "sequential": [
            [
             0,
             "#0d0887"
            ],
            [
             0.1111111111111111,
             "#46039f"
            ],
            [
             0.2222222222222222,
             "#7201a8"
            ],
            [
             0.3333333333333333,
             "#9c179e"
            ],
            [
             0.4444444444444444,
             "#bd3786"
            ],
            [
             0.5555555555555556,
             "#d8576b"
            ],
            [
             0.6666666666666666,
             "#ed7953"
            ],
            [
             0.7777777777777778,
             "#fb9f3a"
            ],
            [
             0.8888888888888888,
             "#fdca26"
            ],
            [
             1,
             "#f0f921"
            ]
           ],
           "sequentialminus": [
            [
             0,
             "#0d0887"
            ],
            [
             0.1111111111111111,
             "#46039f"
            ],
            [
             0.2222222222222222,
             "#7201a8"
            ],
            [
             0.3333333333333333,
             "#9c179e"
            ],
            [
             0.4444444444444444,
             "#bd3786"
            ],
            [
             0.5555555555555556,
             "#d8576b"
            ],
            [
             0.6666666666666666,
             "#ed7953"
            ],
            [
             0.7777777777777778,
             "#fb9f3a"
            ],
            [
             0.8888888888888888,
             "#fdca26"
            ],
            [
             1,
             "#f0f921"
            ]
           ]
          },
          "colorway": [
           "#636efa",
           "#EF553B",
           "#00cc96",
           "#ab63fa",
           "#FFA15A",
           "#19d3f3",
           "#FF6692",
           "#B6E880",
           "#FF97FF",
           "#FECB52"
          ],
          "font": {
           "color": "#2a3f5f"
          },
          "geo": {
           "bgcolor": "white",
           "lakecolor": "white",
           "landcolor": "#E5ECF6",
           "showlakes": true,
           "showland": true,
           "subunitcolor": "white"
          },
          "hoverlabel": {
           "align": "left"
          },
          "hovermode": "closest",
          "mapbox": {
           "style": "light"
          },
          "paper_bgcolor": "white",
          "plot_bgcolor": "#E5ECF6",
          "polar": {
           "angularaxis": {
            "gridcolor": "white",
            "linecolor": "white",
            "ticks": ""
           },
           "bgcolor": "#E5ECF6",
           "radialaxis": {
            "gridcolor": "white",
            "linecolor": "white",
            "ticks": ""
           }
          },
          "scene": {
           "xaxis": {
            "backgroundcolor": "#E5ECF6",
            "gridcolor": "white",
            "gridwidth": 2,
            "linecolor": "white",
            "showbackground": true,
            "ticks": "",
            "zerolinecolor": "white"
           },
           "yaxis": {
            "backgroundcolor": "#E5ECF6",
            "gridcolor": "white",
            "gridwidth": 2,
            "linecolor": "white",
            "showbackground": true,
            "ticks": "",
            "zerolinecolor": "white"
           },
           "zaxis": {
            "backgroundcolor": "#E5ECF6",
            "gridcolor": "white",
            "gridwidth": 2,
            "linecolor": "white",
            "showbackground": true,
            "ticks": "",
            "zerolinecolor": "white"
           }
          },
          "shapedefaults": {
           "line": {
            "color": "#2a3f5f"
           }
          },
          "ternary": {
           "aaxis": {
            "gridcolor": "white",
            "linecolor": "white",
            "ticks": ""
           },
           "baxis": {
            "gridcolor": "white",
            "linecolor": "white",
            "ticks": ""
           },
           "bgcolor": "#E5ECF6",
           "caxis": {
            "gridcolor": "white",
            "linecolor": "white",
            "ticks": ""
           }
          },
          "title": {
           "x": 0.05
          },
          "xaxis": {
           "automargin": true,
           "gridcolor": "white",
           "linecolor": "white",
           "ticks": "",
           "title": {
            "standoff": 15
           },
           "zerolinecolor": "white",
           "zerolinewidth": 2
          },
          "yaxis": {
           "automargin": true,
           "gridcolor": "white",
           "linecolor": "white",
           "ticks": "",
           "title": {
            "standoff": 15
           },
           "zerolinecolor": "white",
           "zerolinewidth": 2
          }
         }
        }
       }
      }
     },
     "metadata": {},
     "output_type": "display_data"
    }
   ],
   "source": [
    "# Number of questions by Indicatior and SubIndicator\n",
    "\n",
    "fig = px.treemap(df_tree_map, path=[px.Constant(\"Question 12. I am proud of the work that I do.\"), \n",
    "                                    'GENERAL_DEMO_GROUP', 'DESCRIP_E'], values='Strongly agree', color='Strongly agree'\n",
    "                                    ,color_continuous_scale='GnBu')\n",
    "fig.update_layout(margin = dict(t=50, l=25, r=25, b=25))\n",
    "fig.show()"
   ]
  },
  {
   "cell_type": "code",
   "execution_count": null,
   "metadata": {},
   "outputs": [],
   "source": []
  }
 ],
 "metadata": {
  "interpreter": {
   "hash": "6eda6fb5a0561fecad9969001ba4c4a40f8a78a7843f9ca325ebd5e7870dfe74"
  },
  "kernelspec": {
   "display_name": "Python 3.8.11 ('ai-env')",
   "language": "python",
   "name": "python3"
  },
  "language_info": {
   "codemirror_mode": {
    "name": "ipython",
    "version": 3
   },
   "file_extension": ".py",
   "mimetype": "text/x-python",
   "name": "python",
   "nbconvert_exporter": "python",
   "pygments_lexer": "ipython3",
   "version": "3.8.11"
  },
  "orig_nbformat": 4
 },
 "nbformat": 4,
 "nbformat_minor": 2
}

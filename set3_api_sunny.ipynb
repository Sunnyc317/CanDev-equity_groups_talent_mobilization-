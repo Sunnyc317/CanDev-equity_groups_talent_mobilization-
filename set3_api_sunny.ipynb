{
 "cells": [
  {
   "cell_type": "code",
   "execution_count": 4,
   "id": "f49c1908",
   "metadata": {},
   "outputs": [
    {
     "name": "stdout",
     "output_type": "stream",
     "text": [
      "b'{\"help\": \"https://open.canada.ca/data/en/api/3/action/help_show?name=datastore_search\", \"success\": true, \"result\": {\"include_total\": true, \"resource_id\": \"63f972a8-8bf2-4584-a735-e5d0c07a9eb6\", \"fields\": [{\"type\": \"int\", \"id\": \"_id\"}, {\"type\": \"text\", \"id\": \"LEVEL1ID\"}, {\"type\": \"text\", \"id\": \"LEVEL2ID\"}, {\"type\": \"text\", \"id\": \"LEVEL3ID\"}, {\"type\": \"text\", \"id\": \"LEVEL4ID\"}, {\"type\": \"text\", \"id\": \"LEVEL5ID\"}, {\"type\": \"text\", \"id\": \"SURVEYR\"}, {\"type\": \"text\", \"id\": \"BYCOND\"}, {\"type\": \"text\", \"id\": \"DESCRIP_E\"}, {\"type\": \"text\", \"id\": \"DESCRIP_F\"}, {\"type\": \"text\", \"id\": \"DEMCODE\"}, {\"type\": \"text\", \"id\": \"QUESTION\"}, {\"type\": \"text\", \"id\": \"TITLE_E\"}, {\"type\": \"text\", \"id\": \"TITLE_F\"}, {\"type\": \"text\", \"id\": \"ANSWER1\"}, {\"type\": \"text\", \"id\": \"ANSWER2\"}, {\"type\": \"text\", \"id\": \"ANSWER3\"}, {\"type\": \"text\", \"id\": \"ANSWER4\"}, {\"type\": \"text\", \"id\": \"ANSWER5\"}, {\"type\": \"text\", \"id\": \"ANSWER6\"}, {\"type\": \"text\", \"id\": \"ANSWER7\"}, {\"type\": \"text\", \"id\": \"MOST_POSITIVE_OR_LEAST_NEGATIVE\"}, {\"type\": \"text\", \"id\": \"NEUTRAL_OR_MIDDLE_CATEGORY\"}, {\"type\": \"text\", \"id\": \"MOST_NEGATIVE_OR_LEAST_POSITIVE\"}, {\"type\": \"text\", \"id\": \"AGREE\"}, {\"type\": \"text\", \"id\": \"SCORE5\"}, {\"type\": \"text\", \"id\": \"SCORE100\"}, {\"type\": \"text\", \"id\": \"ANSCOUNT\"}, {\"type\": \"text\", \"id\": \"DEPT_E\"}, {\"type\": \"text\", \"id\": \"DEPT_F\"}, {\"type\": \"text\", \"id\": \"INDICATORID\"}, {\"type\": \"text\", \"id\": \"INDICATORENG\"}, {\"type\": \"text\", \"id\": \"INDICATORFRA\"}, {\"type\": \"text\", \"id\": \"SUBINDICATORID\"}, {\"type\": \"text\", \"id\": \"SUBINDICATORENG\"}, {\"type\": \"text\", \"id\": \"SUBINDICATORFRA\"}, {\"type\": \"float\", \"id\": \"rank\"}], \"records_format\": \"objects\", \"q\": \"title:jones\", \"records\": [], \"limit\": 5, \"_links\": {\"start\": \"/api/3/action/datastore_search?q=title%3Ajones&limit=5&resource_id=63f972a8-8bf2-4584-a735-e5d0c07a9eb6\", \"next\": \"/api/3/action/datastore_search?q=title%3Ajones&offset=5&limit=5&resource_id=63f972a8-8bf2-4584-a735-e5d0c07a9eb6\"}, \"total\": 0}}'\n"
     ]
    },
    {
     "data": {
      "text/plain": [
       "http.client.HTTPResponse"
      ]
     },
     "execution_count": 4,
     "metadata": {},
     "output_type": "execute_result"
    }
   ],
   "source": [
    "import urllib\n",
    "url = 'https://open.canada.ca/data/en/api/3/action/datastore_search?resource_id=63f972a8-8bf2-4584-a735-e5d0c07a9eb6&limit=5&q=title:jones'  \n",
    "fileobj = urllib.request.urlopen(url)\n",
    "print(fileobj.read())\n",
    "type(fileobj)"
   ]
  },
  {
   "cell_type": "code",
   "execution_count": 5,
   "id": "243df1a1",
   "metadata": {},
   "outputs": [
    {
     "ename": "AttributeError",
     "evalue": "'HTTPResponse' object has no attribute 'help'",
     "output_type": "error",
     "traceback": [
      "\u001b[1;31m---------------------------------------------------------------------------\u001b[0m",
      "\u001b[1;31mAttributeError\u001b[0m                            Traceback (most recent call last)",
      "\u001b[1;32m<ipython-input-5-5cf50d08ae10>\u001b[0m in \u001b[0;36m<module>\u001b[1;34m\u001b[0m\n\u001b[1;32m----> 1\u001b[1;33m \u001b[0mprint\u001b[0m\u001b[1;33m(\u001b[0m\u001b[0mfileobj\u001b[0m\u001b[1;33m.\u001b[0m\u001b[0mhelp\u001b[0m\u001b[1;33m)\u001b[0m\u001b[1;33m\u001b[0m\u001b[1;33m\u001b[0m\u001b[0m\n\u001b[0m",
      "\u001b[1;31mAttributeError\u001b[0m: 'HTTPResponse' object has no attribute 'help'"
     ]
    }
   ],
   "source": [
    "print(fileobj.help)"
   ]
  }
 ],
 "metadata": {
  "kernelspec": {
   "display_name": "Python 3",
   "language": "python",
   "name": "python3"
  },
  "language_info": {
   "codemirror_mode": {
    "name": "ipython",
    "version": 3
   },
   "file_extension": ".py",
   "mimetype": "text/x-python",
   "name": "python",
   "nbconvert_exporter": "python",
   "pygments_lexer": "ipython3",
   "version": "3.8.8"
  }
 },
 "nbformat": 4,
 "nbformat_minor": 5
}
